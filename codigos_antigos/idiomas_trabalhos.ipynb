{
 "cells": [
  {
   "cell_type": "code",
   "execution_count": 3,
   "metadata": {},
   "outputs": [],
   "source": [
    "import plotly.offline as py\n",
    "import plotly.graph_objs as go"
   ]
  },
  {
   "cell_type": "code",
   "execution_count": 18,
   "metadata": {},
   "outputs": [],
   "source": [
    "import MyUtil\n",
    "from collections import defaultdict\n",
    "\n",
    "PATH = 'dados_arquitetura_'\n",
    "ANOS = ['2017', '2018', '2019']\n",
    "\n",
    "def read_idioma_trabalhos(filepath, idiomas):\n",
    "    registers = MyUtil.read_file('trabalhos_conclusao.tsv', filepath)\n",
    "    trabalhos = defaultdict(lambda: defaultdict())\n",
    "    for row in registers:\n",
    "        i_programa = 16\n",
    "        i_idioma = 7\n",
    "        \n",
    "        #tratamento de casos especificos\n",
    "        while len(row[i_programa]) != 13:\n",
    "            i_programa+=1\n",
    "        \n",
    "        while not row[i_idioma].isupper():\n",
    "            i_idioma+=1\n",
    "            \n",
    "        # [code][idioma] = quantidade\n",
    "        if row[i_programa] in trabalhos:\n",
    "            if row[i_idioma] in trabalhos[row[i_programa]]:\n",
    "                trabalhos[row[i_programa]][row[i_idioma]] += 1\n",
    "            else:\n",
    "                trabalhos[row[i_programa]][row[i_idioma]] = 1\n",
    "            trabalhos[row[i_programa]]['total'] += 1\n",
    "        else:\n",
    "            trabalhos[row[i_programa]]['total'] = 1\n",
    "            trabalhos[row[i_programa]][row[i_idioma]] = 1\n",
    "            \n",
    "        if row[i_idioma] not in idiomas:\n",
    "            idiomas.append(row[i_idioma])\n",
    "\n",
    "\n",
    "    return trabalhos\n",
    "\n",
    "def contar_porcentagens_idiomas(trabalhos, idiomas):\n",
    "    for programa in trabalhos.values():\n",
    "        for idioma in idiomas:\n",
    "            if idioma not in programa:\n",
    "                programa[idioma] = 0\n",
    "            programa[idioma+' %'] = 100*programa[idioma]/programa['total']\n",
    "        #print(programa)\n",
    "\n",
    "    return programa\n",
    "\n",
    "def atualizar_cod_programa(trabalhos):\n",
    "    trabalhos_novo = defaultdict(lambda: defaultdict())\n",
    "\n",
    "    for code in trabalhos.keys():\n",
    "        new_code = code\n",
    "        if code in programas_nivel.keys():\n",
    "            new_code = programas_nivel[code]\n",
    "        elif code in programas.keys():\n",
    "            new_code = programas[code]\n",
    "\n",
    "        trabalhos_novo[new_code] = trabalhos[code]\n",
    "\n",
    "    return trabalhos_novo\n",
    "\n",
    "def make_chart(chart_data):\n",
    "    fig = go.Figure()\n",
    "    i = 0\n",
    "    colors = ['#9b59b6', '#1abc9c', '#3498db', '#ff7675', '#fd79a8', '#fdcb6e']\n",
    "    for idioma in idiomas:\n",
    "        fig.add_trace(go.Bar(x=list(chart_data.keys()),\n",
    "                        y=[f_d[idioma+' %'] for f_d in chart_data.values()],\n",
    "                        name= idioma+' %',\n",
    "                        text=['<b>'+str(f_d[idioma])+' <br>('+'{0:.2f}'.format(f_d[idioma+' %'])+'%)</b>' for f_d in chart_data.values()],\n",
    "                        textposition='inside',\n",
    "                        insidetextanchor = 'middle',\n",
    "                        textfont_size=20,\n",
    "                        marker={'color': colors[i]}))\n",
    "        i += 1\n",
    "\n",
    "    title = {\n",
    "        'text': f'Idiomas de trabalhos de conclusão ({\", \".join(ANOS)})',\n",
    "        'x': 0.5,\n",
    "        'xanchor': 'center',\n",
    "        'font': {\n",
    "            'color': '#000000',\n",
    "            'size': 50\n",
    "        }\n",
    "    }\n",
    "\n",
    "    subtitle = {\n",
    "        'font': {'color': '#000000', 'size': 30},\n",
    "        'orientation': 'h',\n",
    "        'x': 0,\n",
    "        'y': 1\n",
    "    }\n",
    "\n",
    "    layout = go.Layout(title=title,\n",
    "                       xaxis={'title': 'Instituição'},\n",
    "                       barmode='stack',\n",
    "                       legend=subtitle,\n",
    "                       font_size=40,\n",
    "                       height=2300,\n",
    "                       width=5000)\n",
    "    fig.update_layout(layout)\n",
    "    py.iplot(fig)\n",
    "\n",
    "def sort_dict(dict_to_sort):\n",
    "    return dict(sorted(dict_to_sort.items(), key=lambda item: item[1]['PORTUGUES %']))\n",
    "\n",
    "\n",
    "list_trabalhos=dict()\n",
    "list_docentes=dict()\n",
    "programas=dict()\n",
    "idiomas = list()\n",
    "\n",
    "for ano in ANOS:     \n",
    "    list_trabalhos_add = read_idioma_trabalhos(PATH+ano+'/', idiomas)\n",
    "    for programa in list_trabalhos_add.keys():\n",
    "        if programa in list_trabalhos.keys():\n",
    "            idiomas_programa = list_trabalhos_add[programa]\n",
    "            for idioma in idiomas_programa.keys():\n",
    "                if idioma in list_trabalhos[programa]:\n",
    "                    list_trabalhos[programa][idioma] += idiomas_programa[idioma]\n",
    "                else:\n",
    "                    list_trabalhos[programa][idioma] = idiomas_programa[idioma]\n",
    "        else:\n",
    "            list_trabalhos[programa] = list_trabalhos_add[programa]\n",
    "    programas.update(MyUtil.read_programas(PATH+ano+'/'))\n",
    "\n",
    "programas_nivel = MyUtil.read_programas_nivel()\n",
    "contar_porcentagens_idiomas(list_trabalhos, idiomas)\n",
    "list_trabalhos = atualizar_cod_programa(list_trabalhos)\n",
    "#print(list_trabalhos)\n",
    "list_trabalhos = sort_dict(list_trabalhos)\n",
    "idiomas.sort(key = 'PORTUGUES'.__eq__)\n"
   ]
  },
  {
   "cell_type": "code",
   "execution_count": 19,
   "metadata": {
    "scrolled": true
   },
   "outputs": [
    {
     "data": {
      "application/vnd.plotly.v1+json": {
       "config": {
        "linkText": "Export to plot.ly",
        "plotlyServerURL": "https://plot.ly",
        "showLink": false
       },
       "data": [
        {
         "insidetextanchor": "middle",
         "marker": {
          "color": "#9b59b6"
         },
         "name": "ESPANHOL %",
         "text": [
          "<b>3 <br>(16.67%)</b>",
          "<b>10 <br>(8.70%)</b>",
          "<b>2 <br>(9.09%)</b>",
          "<b>0 <br>(0.00%)</b>",
          "<b>2 <br>(4.26%)</b>",
          "<b>1 <br>(3.57%)</b>",
          "<b>1 <br>(1.43%)</b>",
          "<b>2 <br>(2.44%)</b>",
          "<b>0 <br>(0.00%)</b>",
          "<b>0 <br>(0.00%)</b>",
          "<b>1 <br>(0.86%)</b>",
          "<b>0 <br>(0.00%)</b>",
          "<b>0 <br>(0.00%)</b>",
          "<b>0 <br>(0.00%)</b>",
          "<b>0 <br>(0.00%)</b>",
          "<b>0 <br>(0.00%)</b>",
          "<b>0 <br>(0.00%)</b>",
          "<b>0 <br>(0.00%)</b>",
          "<b>0 <br>(0.00%)</b>",
          "<b>0 <br>(0.00%)</b>",
          "<b>0 <br>(0.00%)</b>",
          "<b>0 <br>(0.00%)</b>",
          "<b>0 <br>(0.00%)</b>",
          "<b>0 <br>(0.00%)</b>",
          "<b>0 <br>(0.00%)</b>",
          "<b>0 <br>(0.00%)</b>",
          "<b>0 <br>(0.00%)</b>",
          "<b>0 <br>(0.00%)</b>",
          "<b>0 <br>(0.00%)</b>",
          "<b>0 <br>(0.00%)</b>",
          "<b>0 <br>(0.00%)</b>",
          "<b>0 <br>(0.00%)</b>",
          "<b>0 <br>(0.00%)</b>",
          "<b>0 <br>(0.00%)</b>",
          "<b>0 <br>(0.00%)</b>",
          "<b>0 <br>(0.00%)</b>",
          "<b>0 <br>(0.00%)</b>",
          "<b>0 <br>(0.00%)</b>",
          "<b>0 <br>(0.00%)</b>",
          "<b>0 <br>(0.00%)</b>",
          "<b>0 <br>(0.00%)</b>",
          "<b>0 <br>(0.00%)</b>",
          "<b>0 <br>(0.00%)</b>",
          "<b>0 <br>(0.00%)</b>",
          "<b>0 <br>(0.00%)</b>",
          "<b>0 <br>(0.00%)</b>",
          "<b>0 <br>(0.00%)</b>",
          "<b>0 <br>(0.00%)</b>",
          "<b>0 <br>(0.00%)</b>",
          "<b>0 <br>(0.00%)</b>",
          "<b>0 <br>(0.00%)</b>",
          "<b>0 <br>(0.00%)</b>",
          "<b>0 <br>(0.00%)</b>",
          "<b>0 <br>(0.00%)</b>",
          "<b>0 <br>(0.00%)</b>",
          "<b>0 <br>(0.00%)</b>",
          "<b>0 <br>(0.00%)</b>",
          "<b>0 <br>(0.00%)</b>",
          "<b>0 <br>(0.00%)</b>",
          "<b>0 <br>(0.00%)</b>",
          "<b>0 <br>(0.00%)</b>",
          "<b>0 <br>(0.00%)</b>",
          "<b>0 <br>(0.00%)</b>",
          "<b>0 <br>(0.00%)</b>",
          "<b>0 <br>(0.00%)</b>",
          "<b>0 <br>(0.00%)</b>",
          "<b>0 <br>(0.00%)</b>"
         ],
         "textfont": {
          "size": 20
         },
         "textposition": "inside",
         "type": "bar",
         "x": [
          "UFBA-C-CeR-4",
          "PUC-RIO-D-5",
          "PUC-RIO-A-3",
          "UEL-AeU-4",
          "UFES-AEU-4",
          "UFRJ-AP-4",
          "UFRGS-A-4",
          "UFBA-AEU-4",
          "UFPR-D-4",
          "UNICAMP-ATeC-5",
          "USP/SC-AEU-4",
          "UFPE-D-4",
          "UFPA-AeU-4",
          "UFMA-D-3",
          "UFC-AEUED-3",
          "UNIFOR-CDC-3",
          "UFRN-AEU-4",
          "UFRN-APEMA-4",
          "UFRN-D-4",
          "UFPB-JP-AEU-4",
          "UFCG-D-3",
          "UFPE-E-3",
          "CESAR-D-3",
          "UFAL-DDEH-3",
          "UFRJ-A-6",
          "UFRJ-U-5",
          "UFRJ-PeP-4",
          "UFF-AEU-4",
          "UERJ-D-4",
          "UFMG-AEU-6",
          "UFV-AEU-4",
          "UFJF-AC-4",
          "UFU-AeU-3",
          "UEMG-D-5",
          "USP-AEU-4",
          "UNESP-BAURU-D-6",
          "UNESP-BAURU-AeU-4",
          "PUCCAMP-AeU-5",
          "UPM-AEU-6",
          "USJT-AEU-4",
          "UAM-D-5",
          " FIAMFAAM-PPeGdEU-3",
          "UNIFATEA-DTEI-3",
          "UFSC-AEU-5",
          "UFSC-UHEADC-4",
          "UFSC-D-5",
          "UDESC-D-4",
          "UNIVILLE-D-4",
          "UFRGS-D-5",
          "UFPEL-AEU-4",
          "UNISINOS-D-5",
          "UNISINOS-AeU-4",
          "UNIRITTER-D-4",
          "UNIRITTER-AeU-4",
          "UFG-PEC-3",
          "UNB-AEU-4",
          "UNB-D-3",
          "CESAR-AM-DDAD-3",
          "USP-D",
          "ROBERTO RIGHI",
          "IMED-AEU-3",
          "UFAM-D",
          "UVV-AEC",
          "UFRJ-D",
          "FEBASP-A",
          "UDESC-DDVEM",
          "UniCEUB-AEU"
         ],
         "y": [
          16.666666666666668,
          8.695652173913043,
          9.090909090909092,
          0,
          4.25531914893617,
          3.5714285714285716,
          1.4285714285714286,
          2.4390243902439024,
          0,
          0,
          0.8620689655172413,
          0,
          0,
          0,
          0,
          0,
          0,
          0,
          0,
          0,
          0,
          0,
          0,
          0,
          0,
          0,
          0,
          0,
          0,
          0,
          0,
          0,
          0,
          0,
          0,
          0,
          0,
          0,
          0,
          0,
          0,
          0,
          0,
          0,
          0,
          0,
          0,
          0,
          0,
          0,
          0,
          0,
          0,
          0,
          0,
          0,
          0,
          0,
          0,
          0,
          0,
          0,
          0,
          0,
          0,
          0,
          0
         ]
        },
        {
         "insidetextanchor": "middle",
         "marker": {
          "color": "#1abc9c"
         },
         "name": "INGLES %",
         "text": [
          "<b>0 <br>(0.00%)</b>",
          "<b>1 <br>(0.87%)</b>",
          "<b>0 <br>(0.00%)</b>",
          "<b>3 <br>(6.12%)</b>",
          "<b>0 <br>(0.00%)</b>",
          "<b>0 <br>(0.00%)</b>",
          "<b>1 <br>(1.43%)</b>",
          "<b>0 <br>(0.00%)</b>",
          "<b>1 <br>(1.43%)</b>",
          "<b>1 <br>(1.35%)</b>",
          "<b>0 <br>(0.00%)</b>",
          "<b>1 <br>(0.77%)</b>",
          "<b>0 <br>(0.00%)</b>",
          "<b>0 <br>(0.00%)</b>",
          "<b>0 <br>(0.00%)</b>",
          "<b>0 <br>(0.00%)</b>",
          "<b>0 <br>(0.00%)</b>",
          "<b>0 <br>(0.00%)</b>",
          "<b>0 <br>(0.00%)</b>",
          "<b>0 <br>(0.00%)</b>",
          "<b>0 <br>(0.00%)</b>",
          "<b>0 <br>(0.00%)</b>",
          "<b>0 <br>(0.00%)</b>",
          "<b>0 <br>(0.00%)</b>",
          "<b>0 <br>(0.00%)</b>",
          "<b>0 <br>(0.00%)</b>",
          "<b>0 <br>(0.00%)</b>",
          "<b>0 <br>(0.00%)</b>",
          "<b>0 <br>(0.00%)</b>",
          "<b>0 <br>(0.00%)</b>",
          "<b>0 <br>(0.00%)</b>",
          "<b>0 <br>(0.00%)</b>",
          "<b>0 <br>(0.00%)</b>",
          "<b>0 <br>(0.00%)</b>",
          "<b>0 <br>(0.00%)</b>",
          "<b>0 <br>(0.00%)</b>",
          "<b>0 <br>(0.00%)</b>",
          "<b>0 <br>(0.00%)</b>",
          "<b>0 <br>(0.00%)</b>",
          "<b>0 <br>(0.00%)</b>",
          "<b>0 <br>(0.00%)</b>",
          "<b>0 <br>(0.00%)</b>",
          "<b>0 <br>(0.00%)</b>",
          "<b>0 <br>(0.00%)</b>",
          "<b>0 <br>(0.00%)</b>",
          "<b>0 <br>(0.00%)</b>",
          "<b>0 <br>(0.00%)</b>",
          "<b>0 <br>(0.00%)</b>",
          "<b>0 <br>(0.00%)</b>",
          "<b>0 <br>(0.00%)</b>",
          "<b>0 <br>(0.00%)</b>",
          "<b>0 <br>(0.00%)</b>",
          "<b>0 <br>(0.00%)</b>",
          "<b>0 <br>(0.00%)</b>",
          "<b>0 <br>(0.00%)</b>",
          "<b>0 <br>(0.00%)</b>",
          "<b>0 <br>(0.00%)</b>",
          "<b>0 <br>(0.00%)</b>",
          "<b>0 <br>(0.00%)</b>",
          "<b>0 <br>(0.00%)</b>",
          "<b>0 <br>(0.00%)</b>",
          "<b>0 <br>(0.00%)</b>",
          "<b>0 <br>(0.00%)</b>",
          "<b>0 <br>(0.00%)</b>",
          "<b>0 <br>(0.00%)</b>",
          "<b>0 <br>(0.00%)</b>",
          "<b>0 <br>(0.00%)</b>"
         ],
         "textfont": {
          "size": 20
         },
         "textposition": "inside",
         "type": "bar",
         "x": [
          "UFBA-C-CeR-4",
          "PUC-RIO-D-5",
          "PUC-RIO-A-3",
          "UEL-AeU-4",
          "UFES-AEU-4",
          "UFRJ-AP-4",
          "UFRGS-A-4",
          "UFBA-AEU-4",
          "UFPR-D-4",
          "UNICAMP-ATeC-5",
          "USP/SC-AEU-4",
          "UFPE-D-4",
          "UFPA-AeU-4",
          "UFMA-D-3",
          "UFC-AEUED-3",
          "UNIFOR-CDC-3",
          "UFRN-AEU-4",
          "UFRN-APEMA-4",
          "UFRN-D-4",
          "UFPB-JP-AEU-4",
          "UFCG-D-3",
          "UFPE-E-3",
          "CESAR-D-3",
          "UFAL-DDEH-3",
          "UFRJ-A-6",
          "UFRJ-U-5",
          "UFRJ-PeP-4",
          "UFF-AEU-4",
          "UERJ-D-4",
          "UFMG-AEU-6",
          "UFV-AEU-4",
          "UFJF-AC-4",
          "UFU-AeU-3",
          "UEMG-D-5",
          "USP-AEU-4",
          "UNESP-BAURU-D-6",
          "UNESP-BAURU-AeU-4",
          "PUCCAMP-AeU-5",
          "UPM-AEU-6",
          "USJT-AEU-4",
          "UAM-D-5",
          " FIAMFAAM-PPeGdEU-3",
          "UNIFATEA-DTEI-3",
          "UFSC-AEU-5",
          "UFSC-UHEADC-4",
          "UFSC-D-5",
          "UDESC-D-4",
          "UNIVILLE-D-4",
          "UFRGS-D-5",
          "UFPEL-AEU-4",
          "UNISINOS-D-5",
          "UNISINOS-AeU-4",
          "UNIRITTER-D-4",
          "UNIRITTER-AeU-4",
          "UFG-PEC-3",
          "UNB-AEU-4",
          "UNB-D-3",
          "CESAR-AM-DDAD-3",
          "USP-D",
          "ROBERTO RIGHI",
          "IMED-AEU-3",
          "UFAM-D",
          "UVV-AEC",
          "UFRJ-D",
          "FEBASP-A",
          "UDESC-DDVEM",
          "UniCEUB-AEU"
         ],
         "y": [
          0,
          0.8695652173913043,
          0,
          6.122448979591836,
          0,
          0,
          1.4285714285714286,
          0,
          1.4285714285714286,
          1.3513513513513513,
          0,
          0.7692307692307693,
          0,
          0,
          0,
          0,
          0,
          0,
          0,
          0,
          0,
          0,
          0,
          0,
          0,
          0,
          0,
          0,
          0,
          0,
          0,
          0,
          0,
          0,
          0,
          0,
          0,
          0,
          0,
          0,
          0,
          0,
          0,
          0,
          0,
          0,
          0,
          0,
          0,
          0,
          0,
          0,
          0,
          0,
          0,
          0,
          0,
          0,
          0,
          0,
          0,
          0,
          0,
          0,
          0,
          0,
          0
         ]
        },
        {
         "insidetextanchor": "middle",
         "marker": {
          "color": "#3498db"
         },
         "name": "PORTUGUES %",
         "text": [
          "<b>15 <br>(83.33%)</b>",
          "<b>104 <br>(90.43%)</b>",
          "<b>20 <br>(90.91%)</b>",
          "<b>46 <br>(93.88%)</b>",
          "<b>45 <br>(95.74%)</b>",
          "<b>27 <br>(96.43%)</b>",
          "<b>68 <br>(97.14%)</b>",
          "<b>80 <br>(97.56%)</b>",
          "<b>69 <br>(98.57%)</b>",
          "<b>73 <br>(98.65%)</b>",
          "<b>115 <br>(99.14%)</b>",
          "<b>129 <br>(99.23%)</b>",
          "<b>66 <br>(100.00%)</b>",
          "<b>28 <br>(100.00%)</b>",
          "<b>31 <br>(100.00%)</b>",
          "<b>35 <br>(100.00%)</b>",
          "<b>58 <br>(100.00%)</b>",
          "<b>29 <br>(100.00%)</b>",
          "<b>4 <br>(100.00%)</b>",
          "<b>39 <br>(100.00%)</b>",
          "<b>25 <br>(100.00%)</b>",
          "<b>26 <br>(100.00%)</b>",
          "<b>29 <br>(100.00%)</b>",
          "<b>80 <br>(100.00%)</b>",
          "<b>94 <br>(100.00%)</b>",
          "<b>85 <br>(100.00%)</b>",
          "<b>36 <br>(100.00%)</b>",
          "<b>82 <br>(100.00%)</b>",
          "<b>65 <br>(100.00%)</b>",
          "<b>94 <br>(100.00%)</b>",
          "<b>44 <br>(100.00%)</b>",
          "<b>54 <br>(100.00%)</b>",
          "<b>34 <br>(100.00%)</b>",
          "<b>67 <br>(100.00%)</b>",
          "<b>366 <br>(100.00%)</b>",
          "<b>58 <br>(100.00%)</b>",
          "<b>44 <br>(100.00%)</b>",
          "<b>64 <br>(100.00%)</b>",
          "<b>116 <br>(100.00%)</b>",
          "<b>33 <br>(100.00%)</b>",
          "<b>53 <br>(100.00%)</b>",
          "<b>8 <br>(100.00%)</b>",
          "<b>65 <br>(100.00%)</b>",
          "<b>125 <br>(100.00%)</b>",
          "<b>6 <br>(100.00%)</b>",
          "<b>54 <br>(100.00%)</b>",
          "<b>38 <br>(100.00%)</b>",
          "<b>30 <br>(100.00%)</b>",
          "<b>83 <br>(100.00%)</b>",
          "<b>52 <br>(100.00%)</b>",
          "<b>59 <br>(100.00%)</b>",
          "<b>42 <br>(100.00%)</b>",
          "<b>16 <br>(100.00%)</b>",
          "<b>23 <br>(100.00%)</b>",
          "<b>37 <br>(100.00%)</b>",
          "<b>141 <br>(100.00%)</b>",
          "<b>41 <br>(100.00%)</b>",
          "<b>11 <br>(100.00%)</b>",
          "<b>11 <br>(100.00%)</b>",
          "<b>1 <br>(100.00%)</b>",
          "<b>18 <br>(100.00%)</b>",
          "<b>11 <br>(100.00%)</b>",
          "<b>8 <br>(100.00%)</b>",
          "<b>10 <br>(100.00%)</b>",
          "<b>3 <br>(100.00%)</b>",
          "<b>14 <br>(100.00%)</b>",
          "<b>8 <br>(100.00%)</b>"
         ],
         "textfont": {
          "size": 20
         },
         "textposition": "inside",
         "type": "bar",
         "x": [
          "UFBA-C-CeR-4",
          "PUC-RIO-D-5",
          "PUC-RIO-A-3",
          "UEL-AeU-4",
          "UFES-AEU-4",
          "UFRJ-AP-4",
          "UFRGS-A-4",
          "UFBA-AEU-4",
          "UFPR-D-4",
          "UNICAMP-ATeC-5",
          "USP/SC-AEU-4",
          "UFPE-D-4",
          "UFPA-AeU-4",
          "UFMA-D-3",
          "UFC-AEUED-3",
          "UNIFOR-CDC-3",
          "UFRN-AEU-4",
          "UFRN-APEMA-4",
          "UFRN-D-4",
          "UFPB-JP-AEU-4",
          "UFCG-D-3",
          "UFPE-E-3",
          "CESAR-D-3",
          "UFAL-DDEH-3",
          "UFRJ-A-6",
          "UFRJ-U-5",
          "UFRJ-PeP-4",
          "UFF-AEU-4",
          "UERJ-D-4",
          "UFMG-AEU-6",
          "UFV-AEU-4",
          "UFJF-AC-4",
          "UFU-AeU-3",
          "UEMG-D-5",
          "USP-AEU-4",
          "UNESP-BAURU-D-6",
          "UNESP-BAURU-AeU-4",
          "PUCCAMP-AeU-5",
          "UPM-AEU-6",
          "USJT-AEU-4",
          "UAM-D-5",
          " FIAMFAAM-PPeGdEU-3",
          "UNIFATEA-DTEI-3",
          "UFSC-AEU-5",
          "UFSC-UHEADC-4",
          "UFSC-D-5",
          "UDESC-D-4",
          "UNIVILLE-D-4",
          "UFRGS-D-5",
          "UFPEL-AEU-4",
          "UNISINOS-D-5",
          "UNISINOS-AeU-4",
          "UNIRITTER-D-4",
          "UNIRITTER-AeU-4",
          "UFG-PEC-3",
          "UNB-AEU-4",
          "UNB-D-3",
          "CESAR-AM-DDAD-3",
          "USP-D",
          "ROBERTO RIGHI",
          "IMED-AEU-3",
          "UFAM-D",
          "UVV-AEC",
          "UFRJ-D",
          "FEBASP-A",
          "UDESC-DDVEM",
          "UniCEUB-AEU"
         ],
         "y": [
          83.33333333333333,
          90.43478260869566,
          90.9090909090909,
          93.87755102040816,
          95.74468085106383,
          96.42857142857143,
          97.14285714285714,
          97.5609756097561,
          98.57142857142857,
          98.64864864864865,
          99.13793103448276,
          99.23076923076923,
          100,
          100,
          100,
          100,
          100,
          100,
          100,
          100,
          100,
          100,
          100,
          100,
          100,
          100,
          100,
          100,
          100,
          100,
          100,
          100,
          100,
          100,
          100,
          100,
          100,
          100,
          100,
          100,
          100,
          100,
          100,
          100,
          100,
          100,
          100,
          100,
          100,
          100,
          100,
          100,
          100,
          100,
          100,
          100,
          100,
          100,
          100,
          100,
          100,
          100,
          100,
          100,
          100,
          100,
          100
         ]
        }
       ],
       "layout": {
        "barmode": "stack",
        "font": {
         "size": 40
        },
        "height": 2300,
        "legend": {
         "font": {
          "color": "#000000",
          "size": 30
         },
         "orientation": "h",
         "x": 0,
         "y": 1
        },
        "template": {
         "data": {
          "bar": [
           {
            "error_x": {
             "color": "#2a3f5f"
            },
            "error_y": {
             "color": "#2a3f5f"
            },
            "marker": {
             "line": {
              "color": "#E5ECF6",
              "width": 0.5
             }
            },
            "type": "bar"
           }
          ],
          "barpolar": [
           {
            "marker": {
             "line": {
              "color": "#E5ECF6",
              "width": 0.5
             }
            },
            "type": "barpolar"
           }
          ],
          "carpet": [
           {
            "aaxis": {
             "endlinecolor": "#2a3f5f",
             "gridcolor": "white",
             "linecolor": "white",
             "minorgridcolor": "white",
             "startlinecolor": "#2a3f5f"
            },
            "baxis": {
             "endlinecolor": "#2a3f5f",
             "gridcolor": "white",
             "linecolor": "white",
             "minorgridcolor": "white",
             "startlinecolor": "#2a3f5f"
            },
            "type": "carpet"
           }
          ],
          "choropleth": [
           {
            "colorbar": {
             "outlinewidth": 0,
             "ticks": ""
            },
            "type": "choropleth"
           }
          ],
          "contour": [
           {
            "colorbar": {
             "outlinewidth": 0,
             "ticks": ""
            },
            "colorscale": [
             [
              0,
              "#0d0887"
             ],
             [
              0.1111111111111111,
              "#46039f"
             ],
             [
              0.2222222222222222,
              "#7201a8"
             ],
             [
              0.3333333333333333,
              "#9c179e"
             ],
             [
              0.4444444444444444,
              "#bd3786"
             ],
             [
              0.5555555555555556,
              "#d8576b"
             ],
             [
              0.6666666666666666,
              "#ed7953"
             ],
             [
              0.7777777777777778,
              "#fb9f3a"
             ],
             [
              0.8888888888888888,
              "#fdca26"
             ],
             [
              1,
              "#f0f921"
             ]
            ],
            "type": "contour"
           }
          ],
          "contourcarpet": [
           {
            "colorbar": {
             "outlinewidth": 0,
             "ticks": ""
            },
            "type": "contourcarpet"
           }
          ],
          "heatmap": [
           {
            "colorbar": {
             "outlinewidth": 0,
             "ticks": ""
            },
            "colorscale": [
             [
              0,
              "#0d0887"
             ],
             [
              0.1111111111111111,
              "#46039f"
             ],
             [
              0.2222222222222222,
              "#7201a8"
             ],
             [
              0.3333333333333333,
              "#9c179e"
             ],
             [
              0.4444444444444444,
              "#bd3786"
             ],
             [
              0.5555555555555556,
              "#d8576b"
             ],
             [
              0.6666666666666666,
              "#ed7953"
             ],
             [
              0.7777777777777778,
              "#fb9f3a"
             ],
             [
              0.8888888888888888,
              "#fdca26"
             ],
             [
              1,
              "#f0f921"
             ]
            ],
            "type": "heatmap"
           }
          ],
          "heatmapgl": [
           {
            "colorbar": {
             "outlinewidth": 0,
             "ticks": ""
            },
            "colorscale": [
             [
              0,
              "#0d0887"
             ],
             [
              0.1111111111111111,
              "#46039f"
             ],
             [
              0.2222222222222222,
              "#7201a8"
             ],
             [
              0.3333333333333333,
              "#9c179e"
             ],
             [
              0.4444444444444444,
              "#bd3786"
             ],
             [
              0.5555555555555556,
              "#d8576b"
             ],
             [
              0.6666666666666666,
              "#ed7953"
             ],
             [
              0.7777777777777778,
              "#fb9f3a"
             ],
             [
              0.8888888888888888,
              "#fdca26"
             ],
             [
              1,
              "#f0f921"
             ]
            ],
            "type": "heatmapgl"
           }
          ],
          "histogram": [
           {
            "marker": {
             "colorbar": {
              "outlinewidth": 0,
              "ticks": ""
             }
            },
            "type": "histogram"
           }
          ],
          "histogram2d": [
           {
            "colorbar": {
             "outlinewidth": 0,
             "ticks": ""
            },
            "colorscale": [
             [
              0,
              "#0d0887"
             ],
             [
              0.1111111111111111,
              "#46039f"
             ],
             [
              0.2222222222222222,
              "#7201a8"
             ],
             [
              0.3333333333333333,
              "#9c179e"
             ],
             [
              0.4444444444444444,
              "#bd3786"
             ],
             [
              0.5555555555555556,
              "#d8576b"
             ],
             [
              0.6666666666666666,
              "#ed7953"
             ],
             [
              0.7777777777777778,
              "#fb9f3a"
             ],
             [
              0.8888888888888888,
              "#fdca26"
             ],
             [
              1,
              "#f0f921"
             ]
            ],
            "type": "histogram2d"
           }
          ],
          "histogram2dcontour": [
           {
            "colorbar": {
             "outlinewidth": 0,
             "ticks": ""
            },
            "colorscale": [
             [
              0,
              "#0d0887"
             ],
             [
              0.1111111111111111,
              "#46039f"
             ],
             [
              0.2222222222222222,
              "#7201a8"
             ],
             [
              0.3333333333333333,
              "#9c179e"
             ],
             [
              0.4444444444444444,
              "#bd3786"
             ],
             [
              0.5555555555555556,
              "#d8576b"
             ],
             [
              0.6666666666666666,
              "#ed7953"
             ],
             [
              0.7777777777777778,
              "#fb9f3a"
             ],
             [
              0.8888888888888888,
              "#fdca26"
             ],
             [
              1,
              "#f0f921"
             ]
            ],
            "type": "histogram2dcontour"
           }
          ],
          "mesh3d": [
           {
            "colorbar": {
             "outlinewidth": 0,
             "ticks": ""
            },
            "type": "mesh3d"
           }
          ],
          "parcoords": [
           {
            "line": {
             "colorbar": {
              "outlinewidth": 0,
              "ticks": ""
             }
            },
            "type": "parcoords"
           }
          ],
          "pie": [
           {
            "automargin": true,
            "type": "pie"
           }
          ],
          "scatter": [
           {
            "marker": {
             "colorbar": {
              "outlinewidth": 0,
              "ticks": ""
             }
            },
            "type": "scatter"
           }
          ],
          "scatter3d": [
           {
            "line": {
             "colorbar": {
              "outlinewidth": 0,
              "ticks": ""
             }
            },
            "marker": {
             "colorbar": {
              "outlinewidth": 0,
              "ticks": ""
             }
            },
            "type": "scatter3d"
           }
          ],
          "scattercarpet": [
           {
            "marker": {
             "colorbar": {
              "outlinewidth": 0,
              "ticks": ""
             }
            },
            "type": "scattercarpet"
           }
          ],
          "scattergeo": [
           {
            "marker": {
             "colorbar": {
              "outlinewidth": 0,
              "ticks": ""
             }
            },
            "type": "scattergeo"
           }
          ],
          "scattergl": [
           {
            "marker": {
             "colorbar": {
              "outlinewidth": 0,
              "ticks": ""
             }
            },
            "type": "scattergl"
           }
          ],
          "scattermapbox": [
           {
            "marker": {
             "colorbar": {
              "outlinewidth": 0,
              "ticks": ""
             }
            },
            "type": "scattermapbox"
           }
          ],
          "scatterpolar": [
           {
            "marker": {
             "colorbar": {
              "outlinewidth": 0,
              "ticks": ""
             }
            },
            "type": "scatterpolar"
           }
          ],
          "scatterpolargl": [
           {
            "marker": {
             "colorbar": {
              "outlinewidth": 0,
              "ticks": ""
             }
            },
            "type": "scatterpolargl"
           }
          ],
          "scatterternary": [
           {
            "marker": {
             "colorbar": {
              "outlinewidth": 0,
              "ticks": ""
             }
            },
            "type": "scatterternary"
           }
          ],
          "surface": [
           {
            "colorbar": {
             "outlinewidth": 0,
             "ticks": ""
            },
            "colorscale": [
             [
              0,
              "#0d0887"
             ],
             [
              0.1111111111111111,
              "#46039f"
             ],
             [
              0.2222222222222222,
              "#7201a8"
             ],
             [
              0.3333333333333333,
              "#9c179e"
             ],
             [
              0.4444444444444444,
              "#bd3786"
             ],
             [
              0.5555555555555556,
              "#d8576b"
             ],
             [
              0.6666666666666666,
              "#ed7953"
             ],
             [
              0.7777777777777778,
              "#fb9f3a"
             ],
             [
              0.8888888888888888,
              "#fdca26"
             ],
             [
              1,
              "#f0f921"
             ]
            ],
            "type": "surface"
           }
          ],
          "table": [
           {
            "cells": {
             "fill": {
              "color": "#EBF0F8"
             },
             "line": {
              "color": "white"
             }
            },
            "header": {
             "fill": {
              "color": "#C8D4E3"
             },
             "line": {
              "color": "white"
             }
            },
            "type": "table"
           }
          ]
         },
         "layout": {
          "annotationdefaults": {
           "arrowcolor": "#2a3f5f",
           "arrowhead": 0,
           "arrowwidth": 1
          },
          "coloraxis": {
           "colorbar": {
            "outlinewidth": 0,
            "ticks": ""
           }
          },
          "colorscale": {
           "diverging": [
            [
             0,
             "#8e0152"
            ],
            [
             0.1,
             "#c51b7d"
            ],
            [
             0.2,
             "#de77ae"
            ],
            [
             0.3,
             "#f1b6da"
            ],
            [
             0.4,
             "#fde0ef"
            ],
            [
             0.5,
             "#f7f7f7"
            ],
            [
             0.6,
             "#e6f5d0"
            ],
            [
             0.7,
             "#b8e186"
            ],
            [
             0.8,
             "#7fbc41"
            ],
            [
             0.9,
             "#4d9221"
            ],
            [
             1,
             "#276419"
            ]
           ],
           "sequential": [
            [
             0,
             "#0d0887"
            ],
            [
             0.1111111111111111,
             "#46039f"
            ],
            [
             0.2222222222222222,
             "#7201a8"
            ],
            [
             0.3333333333333333,
             "#9c179e"
            ],
            [
             0.4444444444444444,
             "#bd3786"
            ],
            [
             0.5555555555555556,
             "#d8576b"
            ],
            [
             0.6666666666666666,
             "#ed7953"
            ],
            [
             0.7777777777777778,
             "#fb9f3a"
            ],
            [
             0.8888888888888888,
             "#fdca26"
            ],
            [
             1,
             "#f0f921"
            ]
           ],
           "sequentialminus": [
            [
             0,
             "#0d0887"
            ],
            [
             0.1111111111111111,
             "#46039f"
            ],
            [
             0.2222222222222222,
             "#7201a8"
            ],
            [
             0.3333333333333333,
             "#9c179e"
            ],
            [
             0.4444444444444444,
             "#bd3786"
            ],
            [
             0.5555555555555556,
             "#d8576b"
            ],
            [
             0.6666666666666666,
             "#ed7953"
            ],
            [
             0.7777777777777778,
             "#fb9f3a"
            ],
            [
             0.8888888888888888,
             "#fdca26"
            ],
            [
             1,
             "#f0f921"
            ]
           ]
          },
          "colorway": [
           "#636efa",
           "#EF553B",
           "#00cc96",
           "#ab63fa",
           "#FFA15A",
           "#19d3f3",
           "#FF6692",
           "#B6E880",
           "#FF97FF",
           "#FECB52"
          ],
          "font": {
           "color": "#2a3f5f"
          },
          "geo": {
           "bgcolor": "white",
           "lakecolor": "white",
           "landcolor": "#E5ECF6",
           "showlakes": true,
           "showland": true,
           "subunitcolor": "white"
          },
          "hoverlabel": {
           "align": "left"
          },
          "hovermode": "closest",
          "mapbox": {
           "style": "light"
          },
          "paper_bgcolor": "white",
          "plot_bgcolor": "#E5ECF6",
          "polar": {
           "angularaxis": {
            "gridcolor": "white",
            "linecolor": "white",
            "ticks": ""
           },
           "bgcolor": "#E5ECF6",
           "radialaxis": {
            "gridcolor": "white",
            "linecolor": "white",
            "ticks": ""
           }
          },
          "scene": {
           "xaxis": {
            "backgroundcolor": "#E5ECF6",
            "gridcolor": "white",
            "gridwidth": 2,
            "linecolor": "white",
            "showbackground": true,
            "ticks": "",
            "zerolinecolor": "white"
           },
           "yaxis": {
            "backgroundcolor": "#E5ECF6",
            "gridcolor": "white",
            "gridwidth": 2,
            "linecolor": "white",
            "showbackground": true,
            "ticks": "",
            "zerolinecolor": "white"
           },
           "zaxis": {
            "backgroundcolor": "#E5ECF6",
            "gridcolor": "white",
            "gridwidth": 2,
            "linecolor": "white",
            "showbackground": true,
            "ticks": "",
            "zerolinecolor": "white"
           }
          },
          "shapedefaults": {
           "line": {
            "color": "#2a3f5f"
           }
          },
          "ternary": {
           "aaxis": {
            "gridcolor": "white",
            "linecolor": "white",
            "ticks": ""
           },
           "baxis": {
            "gridcolor": "white",
            "linecolor": "white",
            "ticks": ""
           },
           "bgcolor": "#E5ECF6",
           "caxis": {
            "gridcolor": "white",
            "linecolor": "white",
            "ticks": ""
           }
          },
          "title": {
           "x": 0.05
          },
          "xaxis": {
           "automargin": true,
           "gridcolor": "white",
           "linecolor": "white",
           "ticks": "",
           "title": {
            "standoff": 15
           },
           "zerolinecolor": "white",
           "zerolinewidth": 2
          },
          "yaxis": {
           "automargin": true,
           "gridcolor": "white",
           "linecolor": "white",
           "ticks": "",
           "title": {
            "standoff": 15
           },
           "zerolinecolor": "white",
           "zerolinewidth": 2
          }
         }
        },
        "title": {
         "font": {
          "color": "#000000",
          "size": 50
         },
         "text": "Idiomas de trabalhos de conclusão (2017, 2018, 2019)",
         "x": 0.5,
         "xanchor": "center"
        },
        "width": 5000,
        "xaxis": {
         "title": {
          "text": "Instituição"
         }
        }
       }
      },
      "text/html": [
       "<div>                            <div id=\"3bfcf5c0-008e-4a3d-84dd-1a624fb9e327\" class=\"plotly-graph-div\" style=\"height:2300px; width:5000px;\"></div>            <script type=\"text/javascript\">                require([\"plotly\"], function(Plotly) {                    window.PLOTLYENV=window.PLOTLYENV || {};                                    if (document.getElementById(\"3bfcf5c0-008e-4a3d-84dd-1a624fb9e327\")) {                    Plotly.newPlot(                        \"3bfcf5c0-008e-4a3d-84dd-1a624fb9e327\",                        [{\"insidetextanchor\": \"middle\", \"marker\": {\"color\": \"#9b59b6\"}, \"name\": \"ESPANHOL %\", \"text\": [\"<b>3 <br>(16.67%)</b>\", \"<b>10 <br>(8.70%)</b>\", \"<b>2 <br>(9.09%)</b>\", \"<b>0 <br>(0.00%)</b>\", \"<b>2 <br>(4.26%)</b>\", \"<b>1 <br>(3.57%)</b>\", \"<b>1 <br>(1.43%)</b>\", \"<b>2 <br>(2.44%)</b>\", \"<b>0 <br>(0.00%)</b>\", \"<b>0 <br>(0.00%)</b>\", \"<b>1 <br>(0.86%)</b>\", \"<b>0 <br>(0.00%)</b>\", \"<b>0 <br>(0.00%)</b>\", \"<b>0 <br>(0.00%)</b>\", \"<b>0 <br>(0.00%)</b>\", \"<b>0 <br>(0.00%)</b>\", \"<b>0 <br>(0.00%)</b>\", \"<b>0 <br>(0.00%)</b>\", \"<b>0 <br>(0.00%)</b>\", \"<b>0 <br>(0.00%)</b>\", \"<b>0 <br>(0.00%)</b>\", \"<b>0 <br>(0.00%)</b>\", \"<b>0 <br>(0.00%)</b>\", \"<b>0 <br>(0.00%)</b>\", \"<b>0 <br>(0.00%)</b>\", \"<b>0 <br>(0.00%)</b>\", \"<b>0 <br>(0.00%)</b>\", \"<b>0 <br>(0.00%)</b>\", \"<b>0 <br>(0.00%)</b>\", \"<b>0 <br>(0.00%)</b>\", \"<b>0 <br>(0.00%)</b>\", \"<b>0 <br>(0.00%)</b>\", \"<b>0 <br>(0.00%)</b>\", \"<b>0 <br>(0.00%)</b>\", \"<b>0 <br>(0.00%)</b>\", \"<b>0 <br>(0.00%)</b>\", \"<b>0 <br>(0.00%)</b>\", \"<b>0 <br>(0.00%)</b>\", \"<b>0 <br>(0.00%)</b>\", \"<b>0 <br>(0.00%)</b>\", \"<b>0 <br>(0.00%)</b>\", \"<b>0 <br>(0.00%)</b>\", \"<b>0 <br>(0.00%)</b>\", \"<b>0 <br>(0.00%)</b>\", \"<b>0 <br>(0.00%)</b>\", \"<b>0 <br>(0.00%)</b>\", \"<b>0 <br>(0.00%)</b>\", \"<b>0 <br>(0.00%)</b>\", \"<b>0 <br>(0.00%)</b>\", \"<b>0 <br>(0.00%)</b>\", \"<b>0 <br>(0.00%)</b>\", \"<b>0 <br>(0.00%)</b>\", \"<b>0 <br>(0.00%)</b>\", \"<b>0 <br>(0.00%)</b>\", \"<b>0 <br>(0.00%)</b>\", \"<b>0 <br>(0.00%)</b>\", \"<b>0 <br>(0.00%)</b>\", \"<b>0 <br>(0.00%)</b>\", \"<b>0 <br>(0.00%)</b>\", \"<b>0 <br>(0.00%)</b>\", \"<b>0 <br>(0.00%)</b>\", \"<b>0 <br>(0.00%)</b>\", \"<b>0 <br>(0.00%)</b>\", \"<b>0 <br>(0.00%)</b>\", \"<b>0 <br>(0.00%)</b>\", \"<b>0 <br>(0.00%)</b>\", \"<b>0 <br>(0.00%)</b>\"], \"textfont\": {\"size\": 20}, \"textposition\": \"inside\", \"type\": \"bar\", \"x\": [\"UFBA-C-CeR-4\", \"PUC-RIO-D-5\", \"PUC-RIO-A-3\", \"UEL-AeU-4\", \"UFES-AEU-4\", \"UFRJ-AP-4\", \"UFRGS-A-4\", \"UFBA-AEU-4\", \"UFPR-D-4\", \"UNICAMP-ATeC-5\", \"USP/SC-AEU-4\", \"UFPE-D-4\", \"UFPA-AeU-4\", \"UFMA-D-3\", \"UFC-AEUED-3\", \"UNIFOR-CDC-3\", \"UFRN-AEU-4\", \"UFRN-APEMA-4\", \"UFRN-D-4\", \"UFPB-JP-AEU-4\", \"UFCG-D-3\", \"UFPE-E-3\", \"CESAR-D-3\", \"UFAL-DDEH-3\", \"UFRJ-A-6\", \"UFRJ-U-5\", \"UFRJ-PeP-4\", \"UFF-AEU-4\", \"UERJ-D-4\", \"UFMG-AEU-6\", \"UFV-AEU-4\", \"UFJF-AC-4\", \"UFU-AeU-3\", \"UEMG-D-5\", \"USP-AEU-4\", \"UNESP-BAURU-D-6\", \"UNESP-BAURU-AeU-4\", \"PUCCAMP-AeU-5\", \"UPM-AEU-6\", \"USJT-AEU-4\", \"UAM-D-5\", \" FIAMFAAM-PPeGdEU-3\", \"UNIFATEA-DTEI-3\", \"UFSC-AEU-5\", \"UFSC-UHEADC-4\", \"UFSC-D-5\", \"UDESC-D-4\", \"UNIVILLE-D-4\", \"UFRGS-D-5\", \"UFPEL-AEU-4\", \"UNISINOS-D-5\", \"UNISINOS-AeU-4\", \"UNIRITTER-D-4\", \"UNIRITTER-AeU-4\", \"UFG-PEC-3\", \"UNB-AEU-4\", \"UNB-D-3\", \"CESAR-AM-DDAD-3\", \"USP-D\", \"ROBERTO RIGHI\", \"IMED-AEU-3\", \"UFAM-D\", \"UVV-AEC\", \"UFRJ-D\", \"FEBASP-A\", \"UDESC-DDVEM\", \"UniCEUB-AEU\"], \"y\": [16.666666666666668, 8.695652173913043, 9.090909090909092, 0.0, 4.25531914893617, 3.5714285714285716, 1.4285714285714286, 2.4390243902439024, 0.0, 0.0, 0.8620689655172413, 0.0, 0.0, 0.0, 0.0, 0.0, 0.0, 0.0, 0.0, 0.0, 0.0, 0.0, 0.0, 0.0, 0.0, 0.0, 0.0, 0.0, 0.0, 0.0, 0.0, 0.0, 0.0, 0.0, 0.0, 0.0, 0.0, 0.0, 0.0, 0.0, 0.0, 0.0, 0.0, 0.0, 0.0, 0.0, 0.0, 0.0, 0.0, 0.0, 0.0, 0.0, 0.0, 0.0, 0.0, 0.0, 0.0, 0.0, 0.0, 0.0, 0.0, 0.0, 0.0, 0.0, 0.0, 0.0, 0.0]}, {\"insidetextanchor\": \"middle\", \"marker\": {\"color\": \"#1abc9c\"}, \"name\": \"INGLES %\", \"text\": [\"<b>0 <br>(0.00%)</b>\", \"<b>1 <br>(0.87%)</b>\", \"<b>0 <br>(0.00%)</b>\", \"<b>3 <br>(6.12%)</b>\", \"<b>0 <br>(0.00%)</b>\", \"<b>0 <br>(0.00%)</b>\", \"<b>1 <br>(1.43%)</b>\", \"<b>0 <br>(0.00%)</b>\", \"<b>1 <br>(1.43%)</b>\", \"<b>1 <br>(1.35%)</b>\", \"<b>0 <br>(0.00%)</b>\", \"<b>1 <br>(0.77%)</b>\", \"<b>0 <br>(0.00%)</b>\", \"<b>0 <br>(0.00%)</b>\", \"<b>0 <br>(0.00%)</b>\", \"<b>0 <br>(0.00%)</b>\", \"<b>0 <br>(0.00%)</b>\", \"<b>0 <br>(0.00%)</b>\", \"<b>0 <br>(0.00%)</b>\", \"<b>0 <br>(0.00%)</b>\", \"<b>0 <br>(0.00%)</b>\", \"<b>0 <br>(0.00%)</b>\", \"<b>0 <br>(0.00%)</b>\", \"<b>0 <br>(0.00%)</b>\", \"<b>0 <br>(0.00%)</b>\", \"<b>0 <br>(0.00%)</b>\", \"<b>0 <br>(0.00%)</b>\", \"<b>0 <br>(0.00%)</b>\", \"<b>0 <br>(0.00%)</b>\", \"<b>0 <br>(0.00%)</b>\", \"<b>0 <br>(0.00%)</b>\", \"<b>0 <br>(0.00%)</b>\", \"<b>0 <br>(0.00%)</b>\", \"<b>0 <br>(0.00%)</b>\", \"<b>0 <br>(0.00%)</b>\", \"<b>0 <br>(0.00%)</b>\", \"<b>0 <br>(0.00%)</b>\", \"<b>0 <br>(0.00%)</b>\", \"<b>0 <br>(0.00%)</b>\", \"<b>0 <br>(0.00%)</b>\", \"<b>0 <br>(0.00%)</b>\", \"<b>0 <br>(0.00%)</b>\", \"<b>0 <br>(0.00%)</b>\", \"<b>0 <br>(0.00%)</b>\", \"<b>0 <br>(0.00%)</b>\", \"<b>0 <br>(0.00%)</b>\", \"<b>0 <br>(0.00%)</b>\", \"<b>0 <br>(0.00%)</b>\", \"<b>0 <br>(0.00%)</b>\", \"<b>0 <br>(0.00%)</b>\", \"<b>0 <br>(0.00%)</b>\", \"<b>0 <br>(0.00%)</b>\", \"<b>0 <br>(0.00%)</b>\", \"<b>0 <br>(0.00%)</b>\", \"<b>0 <br>(0.00%)</b>\", \"<b>0 <br>(0.00%)</b>\", \"<b>0 <br>(0.00%)</b>\", \"<b>0 <br>(0.00%)</b>\", \"<b>0 <br>(0.00%)</b>\", \"<b>0 <br>(0.00%)</b>\", \"<b>0 <br>(0.00%)</b>\", \"<b>0 <br>(0.00%)</b>\", \"<b>0 <br>(0.00%)</b>\", \"<b>0 <br>(0.00%)</b>\", \"<b>0 <br>(0.00%)</b>\", \"<b>0 <br>(0.00%)</b>\", \"<b>0 <br>(0.00%)</b>\"], \"textfont\": {\"size\": 20}, \"textposition\": \"inside\", \"type\": \"bar\", \"x\": [\"UFBA-C-CeR-4\", \"PUC-RIO-D-5\", \"PUC-RIO-A-3\", \"UEL-AeU-4\", \"UFES-AEU-4\", \"UFRJ-AP-4\", \"UFRGS-A-4\", \"UFBA-AEU-4\", \"UFPR-D-4\", \"UNICAMP-ATeC-5\", \"USP/SC-AEU-4\", \"UFPE-D-4\", \"UFPA-AeU-4\", \"UFMA-D-3\", \"UFC-AEUED-3\", \"UNIFOR-CDC-3\", \"UFRN-AEU-4\", \"UFRN-APEMA-4\", \"UFRN-D-4\", \"UFPB-JP-AEU-4\", \"UFCG-D-3\", \"UFPE-E-3\", \"CESAR-D-3\", \"UFAL-DDEH-3\", \"UFRJ-A-6\", \"UFRJ-U-5\", \"UFRJ-PeP-4\", \"UFF-AEU-4\", \"UERJ-D-4\", \"UFMG-AEU-6\", \"UFV-AEU-4\", \"UFJF-AC-4\", \"UFU-AeU-3\", \"UEMG-D-5\", \"USP-AEU-4\", \"UNESP-BAURU-D-6\", \"UNESP-BAURU-AeU-4\", \"PUCCAMP-AeU-5\", \"UPM-AEU-6\", \"USJT-AEU-4\", \"UAM-D-5\", \" FIAMFAAM-PPeGdEU-3\", \"UNIFATEA-DTEI-3\", \"UFSC-AEU-5\", \"UFSC-UHEADC-4\", \"UFSC-D-5\", \"UDESC-D-4\", \"UNIVILLE-D-4\", \"UFRGS-D-5\", \"UFPEL-AEU-4\", \"UNISINOS-D-5\", \"UNISINOS-AeU-4\", \"UNIRITTER-D-4\", \"UNIRITTER-AeU-4\", \"UFG-PEC-3\", \"UNB-AEU-4\", \"UNB-D-3\", \"CESAR-AM-DDAD-3\", \"USP-D\", \"ROBERTO RIGHI\", \"IMED-AEU-3\", \"UFAM-D\", \"UVV-AEC\", \"UFRJ-D\", \"FEBASP-A\", \"UDESC-DDVEM\", \"UniCEUB-AEU\"], \"y\": [0.0, 0.8695652173913043, 0.0, 6.122448979591836, 0.0, 0.0, 1.4285714285714286, 0.0, 1.4285714285714286, 1.3513513513513513, 0.0, 0.7692307692307693, 0.0, 0.0, 0.0, 0.0, 0.0, 0.0, 0.0, 0.0, 0.0, 0.0, 0.0, 0.0, 0.0, 0.0, 0.0, 0.0, 0.0, 0.0, 0.0, 0.0, 0.0, 0.0, 0.0, 0.0, 0.0, 0.0, 0.0, 0.0, 0.0, 0.0, 0.0, 0.0, 0.0, 0.0, 0.0, 0.0, 0.0, 0.0, 0.0, 0.0, 0.0, 0.0, 0.0, 0.0, 0.0, 0.0, 0.0, 0.0, 0.0, 0.0, 0.0, 0.0, 0.0, 0.0, 0.0]}, {\"insidetextanchor\": \"middle\", \"marker\": {\"color\": \"#3498db\"}, \"name\": \"PORTUGUES %\", \"text\": [\"<b>15 <br>(83.33%)</b>\", \"<b>104 <br>(90.43%)</b>\", \"<b>20 <br>(90.91%)</b>\", \"<b>46 <br>(93.88%)</b>\", \"<b>45 <br>(95.74%)</b>\", \"<b>27 <br>(96.43%)</b>\", \"<b>68 <br>(97.14%)</b>\", \"<b>80 <br>(97.56%)</b>\", \"<b>69 <br>(98.57%)</b>\", \"<b>73 <br>(98.65%)</b>\", \"<b>115 <br>(99.14%)</b>\", \"<b>129 <br>(99.23%)</b>\", \"<b>66 <br>(100.00%)</b>\", \"<b>28 <br>(100.00%)</b>\", \"<b>31 <br>(100.00%)</b>\", \"<b>35 <br>(100.00%)</b>\", \"<b>58 <br>(100.00%)</b>\", \"<b>29 <br>(100.00%)</b>\", \"<b>4 <br>(100.00%)</b>\", \"<b>39 <br>(100.00%)</b>\", \"<b>25 <br>(100.00%)</b>\", \"<b>26 <br>(100.00%)</b>\", \"<b>29 <br>(100.00%)</b>\", \"<b>80 <br>(100.00%)</b>\", \"<b>94 <br>(100.00%)</b>\", \"<b>85 <br>(100.00%)</b>\", \"<b>36 <br>(100.00%)</b>\", \"<b>82 <br>(100.00%)</b>\", \"<b>65 <br>(100.00%)</b>\", \"<b>94 <br>(100.00%)</b>\", \"<b>44 <br>(100.00%)</b>\", \"<b>54 <br>(100.00%)</b>\", \"<b>34 <br>(100.00%)</b>\", \"<b>67 <br>(100.00%)</b>\", \"<b>366 <br>(100.00%)</b>\", \"<b>58 <br>(100.00%)</b>\", \"<b>44 <br>(100.00%)</b>\", \"<b>64 <br>(100.00%)</b>\", \"<b>116 <br>(100.00%)</b>\", \"<b>33 <br>(100.00%)</b>\", \"<b>53 <br>(100.00%)</b>\", \"<b>8 <br>(100.00%)</b>\", \"<b>65 <br>(100.00%)</b>\", \"<b>125 <br>(100.00%)</b>\", \"<b>6 <br>(100.00%)</b>\", \"<b>54 <br>(100.00%)</b>\", \"<b>38 <br>(100.00%)</b>\", \"<b>30 <br>(100.00%)</b>\", \"<b>83 <br>(100.00%)</b>\", \"<b>52 <br>(100.00%)</b>\", \"<b>59 <br>(100.00%)</b>\", \"<b>42 <br>(100.00%)</b>\", \"<b>16 <br>(100.00%)</b>\", \"<b>23 <br>(100.00%)</b>\", \"<b>37 <br>(100.00%)</b>\", \"<b>141 <br>(100.00%)</b>\", \"<b>41 <br>(100.00%)</b>\", \"<b>11 <br>(100.00%)</b>\", \"<b>11 <br>(100.00%)</b>\", \"<b>1 <br>(100.00%)</b>\", \"<b>18 <br>(100.00%)</b>\", \"<b>11 <br>(100.00%)</b>\", \"<b>8 <br>(100.00%)</b>\", \"<b>10 <br>(100.00%)</b>\", \"<b>3 <br>(100.00%)</b>\", \"<b>14 <br>(100.00%)</b>\", \"<b>8 <br>(100.00%)</b>\"], \"textfont\": {\"size\": 20}, \"textposition\": \"inside\", \"type\": \"bar\", \"x\": [\"UFBA-C-CeR-4\", \"PUC-RIO-D-5\", \"PUC-RIO-A-3\", \"UEL-AeU-4\", \"UFES-AEU-4\", \"UFRJ-AP-4\", \"UFRGS-A-4\", \"UFBA-AEU-4\", \"UFPR-D-4\", \"UNICAMP-ATeC-5\", \"USP/SC-AEU-4\", \"UFPE-D-4\", \"UFPA-AeU-4\", \"UFMA-D-3\", \"UFC-AEUED-3\", \"UNIFOR-CDC-3\", \"UFRN-AEU-4\", \"UFRN-APEMA-4\", \"UFRN-D-4\", \"UFPB-JP-AEU-4\", \"UFCG-D-3\", \"UFPE-E-3\", \"CESAR-D-3\", \"UFAL-DDEH-3\", \"UFRJ-A-6\", \"UFRJ-U-5\", \"UFRJ-PeP-4\", \"UFF-AEU-4\", \"UERJ-D-4\", \"UFMG-AEU-6\", \"UFV-AEU-4\", \"UFJF-AC-4\", \"UFU-AeU-3\", \"UEMG-D-5\", \"USP-AEU-4\", \"UNESP-BAURU-D-6\", \"UNESP-BAURU-AeU-4\", \"PUCCAMP-AeU-5\", \"UPM-AEU-6\", \"USJT-AEU-4\", \"UAM-D-5\", \" FIAMFAAM-PPeGdEU-3\", \"UNIFATEA-DTEI-3\", \"UFSC-AEU-5\", \"UFSC-UHEADC-4\", \"UFSC-D-5\", \"UDESC-D-4\", \"UNIVILLE-D-4\", \"UFRGS-D-5\", \"UFPEL-AEU-4\", \"UNISINOS-D-5\", \"UNISINOS-AeU-4\", \"UNIRITTER-D-4\", \"UNIRITTER-AeU-4\", \"UFG-PEC-3\", \"UNB-AEU-4\", \"UNB-D-3\", \"CESAR-AM-DDAD-3\", \"USP-D\", \"ROBERTO RIGHI\", \"IMED-AEU-3\", \"UFAM-D\", \"UVV-AEC\", \"UFRJ-D\", \"FEBASP-A\", \"UDESC-DDVEM\", \"UniCEUB-AEU\"], \"y\": [83.33333333333333, 90.43478260869566, 90.9090909090909, 93.87755102040816, 95.74468085106383, 96.42857142857143, 97.14285714285714, 97.5609756097561, 98.57142857142857, 98.64864864864865, 99.13793103448276, 99.23076923076923, 100.0, 100.0, 100.0, 100.0, 100.0, 100.0, 100.0, 100.0, 100.0, 100.0, 100.0, 100.0, 100.0, 100.0, 100.0, 100.0, 100.0, 100.0, 100.0, 100.0, 100.0, 100.0, 100.0, 100.0, 100.0, 100.0, 100.0, 100.0, 100.0, 100.0, 100.0, 100.0, 100.0, 100.0, 100.0, 100.0, 100.0, 100.0, 100.0, 100.0, 100.0, 100.0, 100.0, 100.0, 100.0, 100.0, 100.0, 100.0, 100.0, 100.0, 100.0, 100.0, 100.0, 100.0, 100.0]}],                        {\"barmode\": \"stack\", \"font\": {\"size\": 40}, \"height\": 2300, \"legend\": {\"font\": {\"color\": \"#000000\", \"size\": 30}, \"orientation\": \"h\", \"x\": 0, \"y\": 1}, \"template\": {\"data\": {\"bar\": [{\"error_x\": {\"color\": \"#2a3f5f\"}, \"error_y\": {\"color\": \"#2a3f5f\"}, \"marker\": {\"line\": {\"color\": \"#E5ECF6\", \"width\": 0.5}}, \"type\": \"bar\"}], \"barpolar\": [{\"marker\": {\"line\": {\"color\": \"#E5ECF6\", \"width\": 0.5}}, \"type\": \"barpolar\"}], \"carpet\": [{\"aaxis\": {\"endlinecolor\": \"#2a3f5f\", \"gridcolor\": \"white\", \"linecolor\": \"white\", \"minorgridcolor\": \"white\", \"startlinecolor\": \"#2a3f5f\"}, \"baxis\": {\"endlinecolor\": \"#2a3f5f\", \"gridcolor\": \"white\", \"linecolor\": \"white\", \"minorgridcolor\": \"white\", \"startlinecolor\": \"#2a3f5f\"}, \"type\": \"carpet\"}], \"choropleth\": [{\"colorbar\": {\"outlinewidth\": 0, \"ticks\": \"\"}, \"type\": \"choropleth\"}], \"contour\": [{\"colorbar\": {\"outlinewidth\": 0, \"ticks\": \"\"}, \"colorscale\": [[0.0, \"#0d0887\"], [0.1111111111111111, \"#46039f\"], [0.2222222222222222, \"#7201a8\"], [0.3333333333333333, \"#9c179e\"], [0.4444444444444444, \"#bd3786\"], [0.5555555555555556, \"#d8576b\"], [0.6666666666666666, \"#ed7953\"], [0.7777777777777778, \"#fb9f3a\"], [0.8888888888888888, \"#fdca26\"], [1.0, \"#f0f921\"]], \"type\": \"contour\"}], \"contourcarpet\": [{\"colorbar\": {\"outlinewidth\": 0, \"ticks\": \"\"}, \"type\": \"contourcarpet\"}], \"heatmap\": [{\"colorbar\": {\"outlinewidth\": 0, \"ticks\": \"\"}, \"colorscale\": [[0.0, \"#0d0887\"], [0.1111111111111111, \"#46039f\"], [0.2222222222222222, \"#7201a8\"], [0.3333333333333333, \"#9c179e\"], [0.4444444444444444, \"#bd3786\"], [0.5555555555555556, \"#d8576b\"], [0.6666666666666666, \"#ed7953\"], [0.7777777777777778, \"#fb9f3a\"], [0.8888888888888888, \"#fdca26\"], [1.0, \"#f0f921\"]], \"type\": \"heatmap\"}], \"heatmapgl\": [{\"colorbar\": {\"outlinewidth\": 0, \"ticks\": \"\"}, \"colorscale\": [[0.0, \"#0d0887\"], [0.1111111111111111, \"#46039f\"], [0.2222222222222222, \"#7201a8\"], [0.3333333333333333, \"#9c179e\"], [0.4444444444444444, \"#bd3786\"], [0.5555555555555556, \"#d8576b\"], [0.6666666666666666, \"#ed7953\"], [0.7777777777777778, \"#fb9f3a\"], [0.8888888888888888, \"#fdca26\"], [1.0, \"#f0f921\"]], \"type\": \"heatmapgl\"}], \"histogram\": [{\"marker\": {\"colorbar\": {\"outlinewidth\": 0, \"ticks\": \"\"}}, \"type\": \"histogram\"}], \"histogram2d\": [{\"colorbar\": {\"outlinewidth\": 0, \"ticks\": \"\"}, \"colorscale\": [[0.0, \"#0d0887\"], [0.1111111111111111, \"#46039f\"], [0.2222222222222222, \"#7201a8\"], [0.3333333333333333, \"#9c179e\"], [0.4444444444444444, \"#bd3786\"], [0.5555555555555556, \"#d8576b\"], [0.6666666666666666, \"#ed7953\"], [0.7777777777777778, \"#fb9f3a\"], [0.8888888888888888, \"#fdca26\"], [1.0, \"#f0f921\"]], \"type\": \"histogram2d\"}], \"histogram2dcontour\": [{\"colorbar\": {\"outlinewidth\": 0, \"ticks\": \"\"}, \"colorscale\": [[0.0, \"#0d0887\"], [0.1111111111111111, \"#46039f\"], [0.2222222222222222, \"#7201a8\"], [0.3333333333333333, \"#9c179e\"], [0.4444444444444444, \"#bd3786\"], [0.5555555555555556, \"#d8576b\"], [0.6666666666666666, \"#ed7953\"], [0.7777777777777778, \"#fb9f3a\"], [0.8888888888888888, \"#fdca26\"], [1.0, \"#f0f921\"]], \"type\": \"histogram2dcontour\"}], \"mesh3d\": [{\"colorbar\": {\"outlinewidth\": 0, \"ticks\": \"\"}, \"type\": \"mesh3d\"}], \"parcoords\": [{\"line\": {\"colorbar\": {\"outlinewidth\": 0, \"ticks\": \"\"}}, \"type\": \"parcoords\"}], \"pie\": [{\"automargin\": true, \"type\": \"pie\"}], \"scatter\": [{\"marker\": {\"colorbar\": {\"outlinewidth\": 0, \"ticks\": \"\"}}, \"type\": \"scatter\"}], \"scatter3d\": [{\"line\": {\"colorbar\": {\"outlinewidth\": 0, \"ticks\": \"\"}}, \"marker\": {\"colorbar\": {\"outlinewidth\": 0, \"ticks\": \"\"}}, \"type\": \"scatter3d\"}], \"scattercarpet\": [{\"marker\": {\"colorbar\": {\"outlinewidth\": 0, \"ticks\": \"\"}}, \"type\": \"scattercarpet\"}], \"scattergeo\": [{\"marker\": {\"colorbar\": {\"outlinewidth\": 0, \"ticks\": \"\"}}, \"type\": \"scattergeo\"}], \"scattergl\": [{\"marker\": {\"colorbar\": {\"outlinewidth\": 0, \"ticks\": \"\"}}, \"type\": \"scattergl\"}], \"scattermapbox\": [{\"marker\": {\"colorbar\": {\"outlinewidth\": 0, \"ticks\": \"\"}}, \"type\": \"scattermapbox\"}], \"scatterpolar\": [{\"marker\": {\"colorbar\": {\"outlinewidth\": 0, \"ticks\": \"\"}}, \"type\": \"scatterpolar\"}], \"scatterpolargl\": [{\"marker\": {\"colorbar\": {\"outlinewidth\": 0, \"ticks\": \"\"}}, \"type\": \"scatterpolargl\"}], \"scatterternary\": [{\"marker\": {\"colorbar\": {\"outlinewidth\": 0, \"ticks\": \"\"}}, \"type\": \"scatterternary\"}], \"surface\": [{\"colorbar\": {\"outlinewidth\": 0, \"ticks\": \"\"}, \"colorscale\": [[0.0, \"#0d0887\"], [0.1111111111111111, \"#46039f\"], [0.2222222222222222, \"#7201a8\"], [0.3333333333333333, \"#9c179e\"], [0.4444444444444444, \"#bd3786\"], [0.5555555555555556, \"#d8576b\"], [0.6666666666666666, \"#ed7953\"], [0.7777777777777778, \"#fb9f3a\"], [0.8888888888888888, \"#fdca26\"], [1.0, \"#f0f921\"]], \"type\": \"surface\"}], \"table\": [{\"cells\": {\"fill\": {\"color\": \"#EBF0F8\"}, \"line\": {\"color\": \"white\"}}, \"header\": {\"fill\": {\"color\": \"#C8D4E3\"}, \"line\": {\"color\": \"white\"}}, \"type\": \"table\"}]}, \"layout\": {\"annotationdefaults\": {\"arrowcolor\": \"#2a3f5f\", \"arrowhead\": 0, \"arrowwidth\": 1}, \"coloraxis\": {\"colorbar\": {\"outlinewidth\": 0, \"ticks\": \"\"}}, \"colorscale\": {\"diverging\": [[0, \"#8e0152\"], [0.1, \"#c51b7d\"], [0.2, \"#de77ae\"], [0.3, \"#f1b6da\"], [0.4, \"#fde0ef\"], [0.5, \"#f7f7f7\"], [0.6, \"#e6f5d0\"], [0.7, \"#b8e186\"], [0.8, \"#7fbc41\"], [0.9, \"#4d9221\"], [1, \"#276419\"]], \"sequential\": [[0.0, \"#0d0887\"], [0.1111111111111111, \"#46039f\"], [0.2222222222222222, \"#7201a8\"], [0.3333333333333333, \"#9c179e\"], [0.4444444444444444, \"#bd3786\"], [0.5555555555555556, \"#d8576b\"], [0.6666666666666666, \"#ed7953\"], [0.7777777777777778, \"#fb9f3a\"], [0.8888888888888888, \"#fdca26\"], [1.0, \"#f0f921\"]], \"sequentialminus\": [[0.0, \"#0d0887\"], [0.1111111111111111, \"#46039f\"], [0.2222222222222222, \"#7201a8\"], [0.3333333333333333, \"#9c179e\"], [0.4444444444444444, \"#bd3786\"], [0.5555555555555556, \"#d8576b\"], [0.6666666666666666, \"#ed7953\"], [0.7777777777777778, \"#fb9f3a\"], [0.8888888888888888, \"#fdca26\"], [1.0, \"#f0f921\"]]}, \"colorway\": [\"#636efa\", \"#EF553B\", \"#00cc96\", \"#ab63fa\", \"#FFA15A\", \"#19d3f3\", \"#FF6692\", \"#B6E880\", \"#FF97FF\", \"#FECB52\"], \"font\": {\"color\": \"#2a3f5f\"}, \"geo\": {\"bgcolor\": \"white\", \"lakecolor\": \"white\", \"landcolor\": \"#E5ECF6\", \"showlakes\": true, \"showland\": true, \"subunitcolor\": \"white\"}, \"hoverlabel\": {\"align\": \"left\"}, \"hovermode\": \"closest\", \"mapbox\": {\"style\": \"light\"}, \"paper_bgcolor\": \"white\", \"plot_bgcolor\": \"#E5ECF6\", \"polar\": {\"angularaxis\": {\"gridcolor\": \"white\", \"linecolor\": \"white\", \"ticks\": \"\"}, \"bgcolor\": \"#E5ECF6\", \"radialaxis\": {\"gridcolor\": \"white\", \"linecolor\": \"white\", \"ticks\": \"\"}}, \"scene\": {\"xaxis\": {\"backgroundcolor\": \"#E5ECF6\", \"gridcolor\": \"white\", \"gridwidth\": 2, \"linecolor\": \"white\", \"showbackground\": true, \"ticks\": \"\", \"zerolinecolor\": \"white\"}, \"yaxis\": {\"backgroundcolor\": \"#E5ECF6\", \"gridcolor\": \"white\", \"gridwidth\": 2, \"linecolor\": \"white\", \"showbackground\": true, \"ticks\": \"\", \"zerolinecolor\": \"white\"}, \"zaxis\": {\"backgroundcolor\": \"#E5ECF6\", \"gridcolor\": \"white\", \"gridwidth\": 2, \"linecolor\": \"white\", \"showbackground\": true, \"ticks\": \"\", \"zerolinecolor\": \"white\"}}, \"shapedefaults\": {\"line\": {\"color\": \"#2a3f5f\"}}, \"ternary\": {\"aaxis\": {\"gridcolor\": \"white\", \"linecolor\": \"white\", \"ticks\": \"\"}, \"baxis\": {\"gridcolor\": \"white\", \"linecolor\": \"white\", \"ticks\": \"\"}, \"bgcolor\": \"#E5ECF6\", \"caxis\": {\"gridcolor\": \"white\", \"linecolor\": \"white\", \"ticks\": \"\"}}, \"title\": {\"x\": 0.05}, \"xaxis\": {\"automargin\": true, \"gridcolor\": \"white\", \"linecolor\": \"white\", \"ticks\": \"\", \"title\": {\"standoff\": 15}, \"zerolinecolor\": \"white\", \"zerolinewidth\": 2}, \"yaxis\": {\"automargin\": true, \"gridcolor\": \"white\", \"linecolor\": \"white\", \"ticks\": \"\", \"title\": {\"standoff\": 15}, \"zerolinecolor\": \"white\", \"zerolinewidth\": 2}}}, \"title\": {\"font\": {\"color\": \"#000000\", \"size\": 50}, \"text\": \"Idiomas de trabalhos de conclus\\u00e3o (2017, 2018, 2019)\", \"x\": 0.5, \"xanchor\": \"center\"}, \"width\": 5000, \"xaxis\": {\"title\": {\"text\": \"Institui\\u00e7\\u00e3o\"}}},                        {\"responsive\": true}                    ).then(function(){\n",
       "                            \n",
       "var gd = document.getElementById('3bfcf5c0-008e-4a3d-84dd-1a624fb9e327');\n",
       "var x = new MutationObserver(function (mutations, observer) {{\n",
       "        var display = window.getComputedStyle(gd).display;\n",
       "        if (!display || display === 'none') {{\n",
       "            console.log([gd, 'removed!']);\n",
       "            Plotly.purge(gd);\n",
       "            observer.disconnect();\n",
       "        }}\n",
       "}});\n",
       "\n",
       "// Listen for the removal of the full notebook cells\n",
       "var notebookContainer = gd.closest('#notebook-container');\n",
       "if (notebookContainer) {{\n",
       "    x.observe(notebookContainer, {childList: true});\n",
       "}}\n",
       "\n",
       "// Listen for the clearing of the current output cell\n",
       "var outputEl = gd.closest('.output');\n",
       "if (outputEl) {{\n",
       "    x.observe(outputEl, {childList: true});\n",
       "}}\n",
       "\n",
       "                        })                };                });            </script>        </div>"
      ]
     },
     "metadata": {},
     "output_type": "display_data"
    }
   ],
   "source": [
    "\n",
    "make_chart(list_trabalhos)"
   ]
  },
  {
   "cell_type": "code",
   "execution_count": null,
   "metadata": {},
   "outputs": [],
   "source": []
  }
 ],
 "metadata": {
  "kernelspec": {
   "display_name": "Python 3",
   "language": "python",
   "name": "python3"
  },
  "language_info": {
   "codemirror_mode": {
    "name": "ipython",
    "version": 3
   },
   "file_extension": ".py",
   "mimetype": "text/x-python",
   "name": "python",
   "nbconvert_exporter": "python",
   "pygments_lexer": "ipython3",
   "version": "3.8.5"
  }
 },
 "nbformat": 4,
 "nbformat_minor": 4
}
