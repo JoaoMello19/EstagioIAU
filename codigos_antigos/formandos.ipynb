{
 "cells": [
  {
   "cell_type": "code",
   "execution_count": 1,
   "metadata": {},
   "outputs": [],
   "source": [
    "import plotly.offline as py\n",
    "import plotly.graph_objs as go"
   ]
  },
  {
   "cell_type": "code",
   "execution_count": 58,
   "metadata": {},
   "outputs": [],
   "source": [
    "import MyUtil\n",
    "from collections import defaultdict\n",
    "\n",
    "PATH = '/home/joaomello/Documentos/USP/IC - Analise de Dados/Arquitetura/dados_arquitetura_2017/'\n",
    "COLORS = {'total': '#0000ff', 'publicacao': '#00FF00', 'periodico': '#FF0000', 'primeiro_autor': '#FFFF00'}\n",
    "TITLES = {'total': '', 'publicacao': 'com Publicação',\n",
    "          'periodico': 'com Periódico', 'primeiro_autor': 'com Periódico como Primeiro Autor'}\n",
    "\n",
    "\n",
    "def read_programas():\n",
    "    registers = MyUtil.read_file('relatorio.xlsx')\n",
    "    return {row[0]: f'{row[3]}-{row[6]}' for row in registers}\n",
    "\n",
    "\n",
    "def read_trabalhos():\n",
    "    registers = MyUtil.read_file('trabalhos_conclusao.xlsx', PATH)\n",
    "    trabalhos = defaultdict(lambda: defaultdict(lambda: set()))\n",
    "\n",
    "    for row in registers:\n",
    "        trabalhos[row[3]][row[10]].add(row[9])\n",
    "\n",
    "    return trabalhos\n",
    "\n",
    "\n",
    "def read_producao(file_name):\n",
    "    producoes = list()\n",
    "    with open(PATH + file_name) as file:\n",
    "        for row in file:\n",
    "            cells = str(row).split('\\t')\n",
    "            producao = MyUtil.Periodico(*cells[:32]) if 'periodicos' in file_name \\\n",
    "                else MyUtil.Conferencias(*cells[:32])\n",
    "            producao.add_authors(*cells[32:-1])\n",
    "            producoes.append(producao)\n",
    "    del producoes[0]\n",
    "    return producoes\n",
    "\n",
    "\n",
    "def get_by_type(trabalhos, tipo):\n",
    "    result = defaultdict(lambda: list())\n",
    "    for code in trabalhos:\n",
    "        if len(trabalhos[code][tipo]) > 0:\n",
    "            result[code] = [trabalho for trabalho in trabalhos[code][tipo]]\n",
    "    return result\n",
    "\n",
    "\n",
    "def get_autores(producoes):\n",
    "    authors = set()\n",
    "    for producao in producoes:\n",
    "        for author in producao.authors:\n",
    "            authors.add(author['nome'])\n",
    "    return authors\n",
    "\n",
    "\n",
    "def get_primeiros_autores(producoes):\n",
    "    return {producao.authors[0]['nome'] for producao in producoes if len(producao.authors) > 0}\n",
    "\n",
    "\n",
    "def get_formandos_publicacao(formandos, *autores):\n",
    "    formandos_publicacao = dict()\n",
    "    for code in formandos.keys():\n",
    "        formandos_publicacao[code] = len([formando for formando in formandos[code] if formando in autores])\n",
    "    return formandos_publicacao\n",
    "\n",
    "\n",
    "def get_formandos(trabalhos, tipo):\n",
    "    # lista dos formandos\n",
    "    formandos = get_by_type(trabalhos, 'TESE' if tipo == 'doutores' else 'DISSERTAÇÃO')     # {code: nomes}\n",
    "\n",
    "    # calculos dos tipos de agrupamento de dados\n",
    "    count_formandos = {code: len(formandos) for code, formandos in formandos.items()}\n",
    "    formandos_publicacao = get_formandos_publicacao(formandos, *autores_conferencias, *autores_periodicos)\n",
    "    formandos_periodico = get_formandos_publicacao(formandos, *autores_periodicos)\n",
    "    formandos_periodico_primeiro = get_formandos_publicacao(formandos, *primeiros_autores_periodicos)\n",
    "\n",
    "    # estruturas final\n",
    "    tipos_formandos = defaultdict(lambda: {\n",
    "        'total': 0,\n",
    "        'publicacao': 0,\n",
    "        'periodico': 0,\n",
    "        'primeiro_autor': 0\n",
    "    })\n",
    "\n",
    "    for code in formandos.keys():\n",
    "        tipos_formandos[programas[code]]['total'] += count_formandos[code]\n",
    "        tipos_formandos[programas[code]]['publicacao'] += formandos_publicacao[code]\n",
    "        tipos_formandos[programas[code]]['periodico'] += formandos_periodico[code]\n",
    "        tipos_formandos[programas[code]]['primeiro_autor'] += formandos_periodico_primeiro[code]\n",
    "\n",
    "    return tipos_formandos\n",
    "\n",
    "\n",
    "def sort_data(to_sort):\n",
    "    sorted_data = list()\n",
    "    for code in to_sort:\n",
    "        sorted_data.append({key: value for key, value in to_sort[code].items()})\n",
    "        sorted_data[-1]['code'] = code\n",
    "\n",
    "    for i in range(1, len(sorted_data)):\n",
    "        j = i\n",
    "        new_value = sorted_data[i]\n",
    "\n",
    "        while j > 0 and sorted_data[j - 1]['total'] > new_value['total']:\n",
    "            sorted_data[j] = sorted_data[j - 1]\n",
    "            j -= 1\n",
    "\n",
    "        sorted_data[j] = new_value\n",
    "\n",
    "    return sorted_data\n",
    "\n",
    "\n",
    "# porgrmas\n",
    "programas = read_programas()\n",
    "\n",
    "# trabalhos de conclusao\n",
    "list_trabalhos = read_trabalhos()\n",
    "\n",
    "# publicacoes\n",
    "conferencias = read_producao('conferencias.tsv')\n",
    "periodicos = read_producao('periodicos.tsv')\n",
    "\n",
    "# autores das publicacoes\n",
    "autores_conferencias = get_autores(conferencias)\n",
    "autores_periodicos = get_autores(periodicos)\n",
    "\n",
    "# apenas os primeiros autores\n",
    "primeiros_autores_periodicos = get_primeiros_autores(periodicos)\n",
    "\n",
    "# dados agrupados\n",
    "doutores_formandos = sort_data(get_formandos(list_trabalhos, 'doutores'))\n",
    "mestres_formandos = sort_data(get_formandos(list_trabalhos, 'mestres'))\n"
   ]
  },
  {
   "cell_type": "code",
   "execution_count": 61,
   "metadata": {},
   "outputs": [
    {
     "data": {
      "application/vnd.plotly.v1+json": {
       "config": {
        "linkText": "Export to plot.ly",
        "plotlyServerURL": "https://plot.ly",
        "showLink": false
       },
       "data": [
        {
         "marker": {
          "color": "#FFFF00"
         },
         "name": "Doutor com Periódico como Primeiro Autor",
         "type": "bar",
         "x": [
          "UAM-5",
          "UNICAMP-5",
          "UFAL-3",
          "UFRGS-4",
          "UNESP-BAURU-6",
          "UERJ-4",
          "PUCCAMP-5",
          "UFPR-4",
          "UFRN-4",
          "UFRGS-5",
          "UFRJ-6",
          "UFMG-6",
          "USP/SC-4",
          "UFBA-4",
          "UFF-4",
          "UPM-6",
          "UFPE-4",
          "UFRJ-5",
          "UNB-4",
          "UFSC-5",
          "PUC-RIO-5",
          "USP-4"
         ],
         "y": [
          0,
          0,
          0,
          0,
          2,
          0,
          0,
          0,
          0,
          1,
          0,
          0,
          0,
          0,
          0,
          0,
          0,
          0,
          0,
          1,
          0,
          0
         ]
        },
        {
         "marker": {
          "color": "#FF0000"
         },
         "name": "Doutor com Periódico",
         "type": "bar",
         "x": [
          "UAM-5",
          "UNICAMP-5",
          "UFAL-3",
          "UFRGS-4",
          "UNESP-BAURU-6",
          "UERJ-4",
          "PUCCAMP-5",
          "UFPR-4",
          "UFRN-4",
          "UFRGS-5",
          "UFRJ-6",
          "UFMG-6",
          "USP/SC-4",
          "UFBA-4",
          "UFF-4",
          "UPM-6",
          "UFPE-4",
          "UFRJ-5",
          "UNB-4",
          "UFSC-5",
          "PUC-RIO-5",
          "USP-4"
         ],
         "y": [
          0,
          0,
          0,
          0,
          2,
          0,
          0,
          1,
          0,
          1,
          0,
          0,
          0,
          0,
          1,
          0,
          1,
          0,
          0,
          3,
          1,
          0
         ]
        },
        {
         "marker": {
          "color": "#00FF00"
         },
         "name": "Doutor com Publicação",
         "type": "bar",
         "x": [
          "UAM-5",
          "UNICAMP-5",
          "UFAL-3",
          "UFRGS-4",
          "UNESP-BAURU-6",
          "UERJ-4",
          "PUCCAMP-5",
          "UFPR-4",
          "UFRN-4",
          "UFRGS-5",
          "UFRJ-6",
          "UFMG-6",
          "USP/SC-4",
          "UFBA-4",
          "UFF-4",
          "UPM-6",
          "UFPE-4",
          "UFRJ-5",
          "UNB-4",
          "UFSC-5",
          "PUC-RIO-5",
          "USP-4"
         ],
         "y": [
          2,
          1,
          3,
          0,
          2,
          1,
          2,
          3,
          2,
          1,
          4,
          2,
          3,
          5,
          1,
          4,
          4,
          3,
          1,
          7,
          4,
          8
         ]
        },
        {
         "marker": {
          "color": "#0000ff"
         },
         "name": "Doutor ",
         "type": "bar",
         "x": [
          "UAM-5",
          "UNICAMP-5",
          "UFAL-3",
          "UFRGS-4",
          "UNESP-BAURU-6",
          "UERJ-4",
          "PUCCAMP-5",
          "UFPR-4",
          "UFRN-4",
          "UFRGS-5",
          "UFRJ-6",
          "UFMG-6",
          "USP/SC-4",
          "UFBA-4",
          "UFF-4",
          "UPM-6",
          "UFPE-4",
          "UFRJ-5",
          "UNB-4",
          "UFSC-5",
          "PUC-RIO-5",
          "USP-4"
         ],
         "y": [
          3,
          4,
          5,
          6,
          6,
          7,
          8,
          8,
          10,
          10,
          11,
          11,
          11,
          12,
          12,
          12,
          13,
          14,
          15,
          17,
          23,
          44
         ]
        }
       ],
       "layout": {
        "legend": {
         "font": {
          "color": "#000000"
         },
         "orientation": "v",
         "x": 0,
         "y": 1
        },
        "template": {
         "data": {
          "bar": [
           {
            "error_x": {
             "color": "#2a3f5f"
            },
            "error_y": {
             "color": "#2a3f5f"
            },
            "marker": {
             "line": {
              "color": "#E5ECF6",
              "width": 0.5
             }
            },
            "type": "bar"
           }
          ],
          "barpolar": [
           {
            "marker": {
             "line": {
              "color": "#E5ECF6",
              "width": 0.5
             }
            },
            "type": "barpolar"
           }
          ],
          "carpet": [
           {
            "aaxis": {
             "endlinecolor": "#2a3f5f",
             "gridcolor": "white",
             "linecolor": "white",
             "minorgridcolor": "white",
             "startlinecolor": "#2a3f5f"
            },
            "baxis": {
             "endlinecolor": "#2a3f5f",
             "gridcolor": "white",
             "linecolor": "white",
             "minorgridcolor": "white",
             "startlinecolor": "#2a3f5f"
            },
            "type": "carpet"
           }
          ],
          "choropleth": [
           {
            "colorbar": {
             "outlinewidth": 0,
             "ticks": ""
            },
            "type": "choropleth"
           }
          ],
          "contour": [
           {
            "colorbar": {
             "outlinewidth": 0,
             "ticks": ""
            },
            "colorscale": [
             [
              0,
              "#0d0887"
             ],
             [
              0.1111111111111111,
              "#46039f"
             ],
             [
              0.2222222222222222,
              "#7201a8"
             ],
             [
              0.3333333333333333,
              "#9c179e"
             ],
             [
              0.4444444444444444,
              "#bd3786"
             ],
             [
              0.5555555555555556,
              "#d8576b"
             ],
             [
              0.6666666666666666,
              "#ed7953"
             ],
             [
              0.7777777777777778,
              "#fb9f3a"
             ],
             [
              0.8888888888888888,
              "#fdca26"
             ],
             [
              1,
              "#f0f921"
             ]
            ],
            "type": "contour"
           }
          ],
          "contourcarpet": [
           {
            "colorbar": {
             "outlinewidth": 0,
             "ticks": ""
            },
            "type": "contourcarpet"
           }
          ],
          "heatmap": [
           {
            "colorbar": {
             "outlinewidth": 0,
             "ticks": ""
            },
            "colorscale": [
             [
              0,
              "#0d0887"
             ],
             [
              0.1111111111111111,
              "#46039f"
             ],
             [
              0.2222222222222222,
              "#7201a8"
             ],
             [
              0.3333333333333333,
              "#9c179e"
             ],
             [
              0.4444444444444444,
              "#bd3786"
             ],
             [
              0.5555555555555556,
              "#d8576b"
             ],
             [
              0.6666666666666666,
              "#ed7953"
             ],
             [
              0.7777777777777778,
              "#fb9f3a"
             ],
             [
              0.8888888888888888,
              "#fdca26"
             ],
             [
              1,
              "#f0f921"
             ]
            ],
            "type": "heatmap"
           }
          ],
          "heatmapgl": [
           {
            "colorbar": {
             "outlinewidth": 0,
             "ticks": ""
            },
            "colorscale": [
             [
              0,
              "#0d0887"
             ],
             [
              0.1111111111111111,
              "#46039f"
             ],
             [
              0.2222222222222222,
              "#7201a8"
             ],
             [
              0.3333333333333333,
              "#9c179e"
             ],
             [
              0.4444444444444444,
              "#bd3786"
             ],
             [
              0.5555555555555556,
              "#d8576b"
             ],
             [
              0.6666666666666666,
              "#ed7953"
             ],
             [
              0.7777777777777778,
              "#fb9f3a"
             ],
             [
              0.8888888888888888,
              "#fdca26"
             ],
             [
              1,
              "#f0f921"
             ]
            ],
            "type": "heatmapgl"
           }
          ],
          "histogram": [
           {
            "marker": {
             "colorbar": {
              "outlinewidth": 0,
              "ticks": ""
             }
            },
            "type": "histogram"
           }
          ],
          "histogram2d": [
           {
            "colorbar": {
             "outlinewidth": 0,
             "ticks": ""
            },
            "colorscale": [
             [
              0,
              "#0d0887"
             ],
             [
              0.1111111111111111,
              "#46039f"
             ],
             [
              0.2222222222222222,
              "#7201a8"
             ],
             [
              0.3333333333333333,
              "#9c179e"
             ],
             [
              0.4444444444444444,
              "#bd3786"
             ],
             [
              0.5555555555555556,
              "#d8576b"
             ],
             [
              0.6666666666666666,
              "#ed7953"
             ],
             [
              0.7777777777777778,
              "#fb9f3a"
             ],
             [
              0.8888888888888888,
              "#fdca26"
             ],
             [
              1,
              "#f0f921"
             ]
            ],
            "type": "histogram2d"
           }
          ],
          "histogram2dcontour": [
           {
            "colorbar": {
             "outlinewidth": 0,
             "ticks": ""
            },
            "colorscale": [
             [
              0,
              "#0d0887"
             ],
             [
              0.1111111111111111,
              "#46039f"
             ],
             [
              0.2222222222222222,
              "#7201a8"
             ],
             [
              0.3333333333333333,
              "#9c179e"
             ],
             [
              0.4444444444444444,
              "#bd3786"
             ],
             [
              0.5555555555555556,
              "#d8576b"
             ],
             [
              0.6666666666666666,
              "#ed7953"
             ],
             [
              0.7777777777777778,
              "#fb9f3a"
             ],
             [
              0.8888888888888888,
              "#fdca26"
             ],
             [
              1,
              "#f0f921"
             ]
            ],
            "type": "histogram2dcontour"
           }
          ],
          "mesh3d": [
           {
            "colorbar": {
             "outlinewidth": 0,
             "ticks": ""
            },
            "type": "mesh3d"
           }
          ],
          "parcoords": [
           {
            "line": {
             "colorbar": {
              "outlinewidth": 0,
              "ticks": ""
             }
            },
            "type": "parcoords"
           }
          ],
          "pie": [
           {
            "automargin": true,
            "type": "pie"
           }
          ],
          "scatter": [
           {
            "marker": {
             "colorbar": {
              "outlinewidth": 0,
              "ticks": ""
             }
            },
            "type": "scatter"
           }
          ],
          "scatter3d": [
           {
            "line": {
             "colorbar": {
              "outlinewidth": 0,
              "ticks": ""
             }
            },
            "marker": {
             "colorbar": {
              "outlinewidth": 0,
              "ticks": ""
             }
            },
            "type": "scatter3d"
           }
          ],
          "scattercarpet": [
           {
            "marker": {
             "colorbar": {
              "outlinewidth": 0,
              "ticks": ""
             }
            },
            "type": "scattercarpet"
           }
          ],
          "scattergeo": [
           {
            "marker": {
             "colorbar": {
              "outlinewidth": 0,
              "ticks": ""
             }
            },
            "type": "scattergeo"
           }
          ],
          "scattergl": [
           {
            "marker": {
             "colorbar": {
              "outlinewidth": 0,
              "ticks": ""
             }
            },
            "type": "scattergl"
           }
          ],
          "scattermapbox": [
           {
            "marker": {
             "colorbar": {
              "outlinewidth": 0,
              "ticks": ""
             }
            },
            "type": "scattermapbox"
           }
          ],
          "scatterpolar": [
           {
            "marker": {
             "colorbar": {
              "outlinewidth": 0,
              "ticks": ""
             }
            },
            "type": "scatterpolar"
           }
          ],
          "scatterpolargl": [
           {
            "marker": {
             "colorbar": {
              "outlinewidth": 0,
              "ticks": ""
             }
            },
            "type": "scatterpolargl"
           }
          ],
          "scatterternary": [
           {
            "marker": {
             "colorbar": {
              "outlinewidth": 0,
              "ticks": ""
             }
            },
            "type": "scatterternary"
           }
          ],
          "surface": [
           {
            "colorbar": {
             "outlinewidth": 0,
             "ticks": ""
            },
            "colorscale": [
             [
              0,
              "#0d0887"
             ],
             [
              0.1111111111111111,
              "#46039f"
             ],
             [
              0.2222222222222222,
              "#7201a8"
             ],
             [
              0.3333333333333333,
              "#9c179e"
             ],
             [
              0.4444444444444444,
              "#bd3786"
             ],
             [
              0.5555555555555556,
              "#d8576b"
             ],
             [
              0.6666666666666666,
              "#ed7953"
             ],
             [
              0.7777777777777778,
              "#fb9f3a"
             ],
             [
              0.8888888888888888,
              "#fdca26"
             ],
             [
              1,
              "#f0f921"
             ]
            ],
            "type": "surface"
           }
          ],
          "table": [
           {
            "cells": {
             "fill": {
              "color": "#EBF0F8"
             },
             "line": {
              "color": "white"
             }
            },
            "header": {
             "fill": {
              "color": "#C8D4E3"
             },
             "line": {
              "color": "white"
             }
            },
            "type": "table"
           }
          ]
         },
         "layout": {
          "annotationdefaults": {
           "arrowcolor": "#2a3f5f",
           "arrowhead": 0,
           "arrowwidth": 1
          },
          "coloraxis": {
           "colorbar": {
            "outlinewidth": 0,
            "ticks": ""
           }
          },
          "colorscale": {
           "diverging": [
            [
             0,
             "#8e0152"
            ],
            [
             0.1,
             "#c51b7d"
            ],
            [
             0.2,
             "#de77ae"
            ],
            [
             0.3,
             "#f1b6da"
            ],
            [
             0.4,
             "#fde0ef"
            ],
            [
             0.5,
             "#f7f7f7"
            ],
            [
             0.6,
             "#e6f5d0"
            ],
            [
             0.7,
             "#b8e186"
            ],
            [
             0.8,
             "#7fbc41"
            ],
            [
             0.9,
             "#4d9221"
            ],
            [
             1,
             "#276419"
            ]
           ],
           "sequential": [
            [
             0,
             "#0d0887"
            ],
            [
             0.1111111111111111,
             "#46039f"
            ],
            [
             0.2222222222222222,
             "#7201a8"
            ],
            [
             0.3333333333333333,
             "#9c179e"
            ],
            [
             0.4444444444444444,
             "#bd3786"
            ],
            [
             0.5555555555555556,
             "#d8576b"
            ],
            [
             0.6666666666666666,
             "#ed7953"
            ],
            [
             0.7777777777777778,
             "#fb9f3a"
            ],
            [
             0.8888888888888888,
             "#fdca26"
            ],
            [
             1,
             "#f0f921"
            ]
           ],
           "sequentialminus": [
            [
             0,
             "#0d0887"
            ],
            [
             0.1111111111111111,
             "#46039f"
            ],
            [
             0.2222222222222222,
             "#7201a8"
            ],
            [
             0.3333333333333333,
             "#9c179e"
            ],
            [
             0.4444444444444444,
             "#bd3786"
            ],
            [
             0.5555555555555556,
             "#d8576b"
            ],
            [
             0.6666666666666666,
             "#ed7953"
            ],
            [
             0.7777777777777778,
             "#fb9f3a"
            ],
            [
             0.8888888888888888,
             "#fdca26"
            ],
            [
             1,
             "#f0f921"
            ]
           ]
          },
          "colorway": [
           "#636efa",
           "#EF553B",
           "#00cc96",
           "#ab63fa",
           "#FFA15A",
           "#19d3f3",
           "#FF6692",
           "#B6E880",
           "#FF97FF",
           "#FECB52"
          ],
          "font": {
           "color": "#2a3f5f"
          },
          "geo": {
           "bgcolor": "white",
           "lakecolor": "white",
           "landcolor": "#E5ECF6",
           "showlakes": true,
           "showland": true,
           "subunitcolor": "white"
          },
          "hoverlabel": {
           "align": "left"
          },
          "hovermode": "closest",
          "mapbox": {
           "style": "light"
          },
          "paper_bgcolor": "white",
          "plot_bgcolor": "#E5ECF6",
          "polar": {
           "angularaxis": {
            "gridcolor": "white",
            "linecolor": "white",
            "ticks": ""
           },
           "bgcolor": "#E5ECF6",
           "radialaxis": {
            "gridcolor": "white",
            "linecolor": "white",
            "ticks": ""
           }
          },
          "scene": {
           "xaxis": {
            "backgroundcolor": "#E5ECF6",
            "gridcolor": "white",
            "gridwidth": 2,
            "linecolor": "white",
            "showbackground": true,
            "ticks": "",
            "zerolinecolor": "white"
           },
           "yaxis": {
            "backgroundcolor": "#E5ECF6",
            "gridcolor": "white",
            "gridwidth": 2,
            "linecolor": "white",
            "showbackground": true,
            "ticks": "",
            "zerolinecolor": "white"
           },
           "zaxis": {
            "backgroundcolor": "#E5ECF6",
            "gridcolor": "white",
            "gridwidth": 2,
            "linecolor": "white",
            "showbackground": true,
            "ticks": "",
            "zerolinecolor": "white"
           }
          },
          "shapedefaults": {
           "line": {
            "color": "#2a3f5f"
           }
          },
          "ternary": {
           "aaxis": {
            "gridcolor": "white",
            "linecolor": "white",
            "ticks": ""
           },
           "baxis": {
            "gridcolor": "white",
            "linecolor": "white",
            "ticks": ""
           },
           "bgcolor": "#E5ECF6",
           "caxis": {
            "gridcolor": "white",
            "linecolor": "white",
            "ticks": ""
           }
          },
          "title": {
           "x": 0.05
          },
          "xaxis": {
           "automargin": true,
           "gridcolor": "white",
           "linecolor": "white",
           "ticks": "",
           "title": {
            "standoff": 15
           },
           "zerolinecolor": "white",
           "zerolinewidth": 2
          },
          "yaxis": {
           "automargin": true,
           "gridcolor": "white",
           "linecolor": "white",
           "ticks": "",
           "title": {
            "standoff": 15
           },
           "zerolinecolor": "white",
           "zerolinewidth": 2
          }
         }
        },
        "title": {
         "font": {
          "color": "#000000",
          "size": 20
         },
         "text": "Doutores Formandos",
         "x": 0.5,
         "xanchor": "center"
        },
        "xaxis": {
         "title": {
          "text": "Instituição"
         }
        }
       }
      },
      "text/html": [
       "<div>\n",
       "        \n",
       "        \n",
       "            <div id=\"e4efba69-7514-4801-b916-898a89674b0e\" class=\"plotly-graph-div\" style=\"height:525px; width:100%;\"></div>\n",
       "            <script type=\"text/javascript\">\n",
       "                require([\"plotly\"], function(Plotly) {\n",
       "                    window.PLOTLYENV=window.PLOTLYENV || {};\n",
       "                    \n",
       "                if (document.getElementById(\"e4efba69-7514-4801-b916-898a89674b0e\")) {\n",
       "                    Plotly.newPlot(\n",
       "                        'e4efba69-7514-4801-b916-898a89674b0e',\n",
       "                        [{\"marker\": {\"color\": \"#FFFF00\"}, \"name\": \"Doutor com Peri\\u00f3dico como Primeiro Autor\", \"type\": \"bar\", \"x\": [\"UAM-5\", \"UNICAMP-5\", \"UFAL-3\", \"UFRGS-4\", \"UNESP-BAURU-6\", \"UERJ-4\", \"PUCCAMP-5\", \"UFPR-4\", \"UFRN-4\", \"UFRGS-5\", \"UFRJ-6\", \"UFMG-6\", \"USP/SC-4\", \"UFBA-4\", \"UFF-4\", \"UPM-6\", \"UFPE-4\", \"UFRJ-5\", \"UNB-4\", \"UFSC-5\", \"PUC-RIO-5\", \"USP-4\"], \"y\": [0, 0, 0, 0, 2, 0, 0, 0, 0, 1, 0, 0, 0, 0, 0, 0, 0, 0, 0, 1, 0, 0]}, {\"marker\": {\"color\": \"#FF0000\"}, \"name\": \"Doutor com Peri\\u00f3dico\", \"type\": \"bar\", \"x\": [\"UAM-5\", \"UNICAMP-5\", \"UFAL-3\", \"UFRGS-4\", \"UNESP-BAURU-6\", \"UERJ-4\", \"PUCCAMP-5\", \"UFPR-4\", \"UFRN-4\", \"UFRGS-5\", \"UFRJ-6\", \"UFMG-6\", \"USP/SC-4\", \"UFBA-4\", \"UFF-4\", \"UPM-6\", \"UFPE-4\", \"UFRJ-5\", \"UNB-4\", \"UFSC-5\", \"PUC-RIO-5\", \"USP-4\"], \"y\": [0, 0, 0, 0, 2, 0, 0, 1, 0, 1, 0, 0, 0, 0, 1, 0, 1, 0, 0, 3, 1, 0]}, {\"marker\": {\"color\": \"#00FF00\"}, \"name\": \"Doutor com Publica\\u00e7\\u00e3o\", \"type\": \"bar\", \"x\": [\"UAM-5\", \"UNICAMP-5\", \"UFAL-3\", \"UFRGS-4\", \"UNESP-BAURU-6\", \"UERJ-4\", \"PUCCAMP-5\", \"UFPR-4\", \"UFRN-4\", \"UFRGS-5\", \"UFRJ-6\", \"UFMG-6\", \"USP/SC-4\", \"UFBA-4\", \"UFF-4\", \"UPM-6\", \"UFPE-4\", \"UFRJ-5\", \"UNB-4\", \"UFSC-5\", \"PUC-RIO-5\", \"USP-4\"], \"y\": [2, 1, 3, 0, 2, 1, 2, 3, 2, 1, 4, 2, 3, 5, 1, 4, 4, 3, 1, 7, 4, 8]}, {\"marker\": {\"color\": \"#0000ff\"}, \"name\": \"Doutor \", \"type\": \"bar\", \"x\": [\"UAM-5\", \"UNICAMP-5\", \"UFAL-3\", \"UFRGS-4\", \"UNESP-BAURU-6\", \"UERJ-4\", \"PUCCAMP-5\", \"UFPR-4\", \"UFRN-4\", \"UFRGS-5\", \"UFRJ-6\", \"UFMG-6\", \"USP/SC-4\", \"UFBA-4\", \"UFF-4\", \"UPM-6\", \"UFPE-4\", \"UFRJ-5\", \"UNB-4\", \"UFSC-5\", \"PUC-RIO-5\", \"USP-4\"], \"y\": [3, 4, 5, 6, 6, 7, 8, 8, 10, 10, 11, 11, 11, 12, 12, 12, 13, 14, 15, 17, 23, 44]}],\n",
       "                        {\"legend\": {\"font\": {\"color\": \"#000000\"}, \"orientation\": \"v\", \"x\": 0, \"y\": 1}, \"template\": {\"data\": {\"bar\": [{\"error_x\": {\"color\": \"#2a3f5f\"}, \"error_y\": {\"color\": \"#2a3f5f\"}, \"marker\": {\"line\": {\"color\": \"#E5ECF6\", \"width\": 0.5}}, \"type\": \"bar\"}], \"barpolar\": [{\"marker\": {\"line\": {\"color\": \"#E5ECF6\", \"width\": 0.5}}, \"type\": \"barpolar\"}], \"carpet\": [{\"aaxis\": {\"endlinecolor\": \"#2a3f5f\", \"gridcolor\": \"white\", \"linecolor\": \"white\", \"minorgridcolor\": \"white\", \"startlinecolor\": \"#2a3f5f\"}, \"baxis\": {\"endlinecolor\": \"#2a3f5f\", \"gridcolor\": \"white\", \"linecolor\": \"white\", \"minorgridcolor\": \"white\", \"startlinecolor\": \"#2a3f5f\"}, \"type\": \"carpet\"}], \"choropleth\": [{\"colorbar\": {\"outlinewidth\": 0, \"ticks\": \"\"}, \"type\": \"choropleth\"}], \"contour\": [{\"colorbar\": {\"outlinewidth\": 0, \"ticks\": \"\"}, \"colorscale\": [[0.0, \"#0d0887\"], [0.1111111111111111, \"#46039f\"], [0.2222222222222222, \"#7201a8\"], [0.3333333333333333, \"#9c179e\"], [0.4444444444444444, \"#bd3786\"], [0.5555555555555556, \"#d8576b\"], [0.6666666666666666, \"#ed7953\"], [0.7777777777777778, \"#fb9f3a\"], [0.8888888888888888, \"#fdca26\"], [1.0, \"#f0f921\"]], \"type\": \"contour\"}], \"contourcarpet\": [{\"colorbar\": {\"outlinewidth\": 0, \"ticks\": \"\"}, \"type\": \"contourcarpet\"}], \"heatmap\": [{\"colorbar\": {\"outlinewidth\": 0, \"ticks\": \"\"}, \"colorscale\": [[0.0, \"#0d0887\"], [0.1111111111111111, \"#46039f\"], [0.2222222222222222, \"#7201a8\"], [0.3333333333333333, \"#9c179e\"], [0.4444444444444444, \"#bd3786\"], [0.5555555555555556, \"#d8576b\"], [0.6666666666666666, \"#ed7953\"], [0.7777777777777778, \"#fb9f3a\"], [0.8888888888888888, \"#fdca26\"], [1.0, \"#f0f921\"]], \"type\": \"heatmap\"}], \"heatmapgl\": [{\"colorbar\": {\"outlinewidth\": 0, \"ticks\": \"\"}, \"colorscale\": [[0.0, \"#0d0887\"], [0.1111111111111111, \"#46039f\"], [0.2222222222222222, \"#7201a8\"], [0.3333333333333333, \"#9c179e\"], [0.4444444444444444, \"#bd3786\"], [0.5555555555555556, \"#d8576b\"], [0.6666666666666666, \"#ed7953\"], [0.7777777777777778, \"#fb9f3a\"], [0.8888888888888888, \"#fdca26\"], [1.0, \"#f0f921\"]], \"type\": \"heatmapgl\"}], \"histogram\": [{\"marker\": {\"colorbar\": {\"outlinewidth\": 0, \"ticks\": \"\"}}, \"type\": \"histogram\"}], \"histogram2d\": [{\"colorbar\": {\"outlinewidth\": 0, \"ticks\": \"\"}, \"colorscale\": [[0.0, \"#0d0887\"], [0.1111111111111111, \"#46039f\"], [0.2222222222222222, \"#7201a8\"], [0.3333333333333333, \"#9c179e\"], [0.4444444444444444, \"#bd3786\"], [0.5555555555555556, \"#d8576b\"], [0.6666666666666666, \"#ed7953\"], [0.7777777777777778, \"#fb9f3a\"], [0.8888888888888888, \"#fdca26\"], [1.0, \"#f0f921\"]], \"type\": \"histogram2d\"}], \"histogram2dcontour\": [{\"colorbar\": {\"outlinewidth\": 0, \"ticks\": \"\"}, \"colorscale\": [[0.0, \"#0d0887\"], [0.1111111111111111, \"#46039f\"], [0.2222222222222222, \"#7201a8\"], [0.3333333333333333, \"#9c179e\"], [0.4444444444444444, \"#bd3786\"], [0.5555555555555556, \"#d8576b\"], [0.6666666666666666, \"#ed7953\"], [0.7777777777777778, \"#fb9f3a\"], [0.8888888888888888, \"#fdca26\"], [1.0, \"#f0f921\"]], \"type\": \"histogram2dcontour\"}], \"mesh3d\": [{\"colorbar\": {\"outlinewidth\": 0, \"ticks\": \"\"}, \"type\": \"mesh3d\"}], \"parcoords\": [{\"line\": {\"colorbar\": {\"outlinewidth\": 0, \"ticks\": \"\"}}, \"type\": \"parcoords\"}], \"pie\": [{\"automargin\": true, \"type\": \"pie\"}], \"scatter\": [{\"marker\": {\"colorbar\": {\"outlinewidth\": 0, \"ticks\": \"\"}}, \"type\": \"scatter\"}], \"scatter3d\": [{\"line\": {\"colorbar\": {\"outlinewidth\": 0, \"ticks\": \"\"}}, \"marker\": {\"colorbar\": {\"outlinewidth\": 0, \"ticks\": \"\"}}, \"type\": \"scatter3d\"}], \"scattercarpet\": [{\"marker\": {\"colorbar\": {\"outlinewidth\": 0, \"ticks\": \"\"}}, \"type\": \"scattercarpet\"}], \"scattergeo\": [{\"marker\": {\"colorbar\": {\"outlinewidth\": 0, \"ticks\": \"\"}}, \"type\": \"scattergeo\"}], \"scattergl\": [{\"marker\": {\"colorbar\": {\"outlinewidth\": 0, \"ticks\": \"\"}}, \"type\": \"scattergl\"}], \"scattermapbox\": [{\"marker\": {\"colorbar\": {\"outlinewidth\": 0, \"ticks\": \"\"}}, \"type\": \"scattermapbox\"}], \"scatterpolar\": [{\"marker\": {\"colorbar\": {\"outlinewidth\": 0, \"ticks\": \"\"}}, \"type\": \"scatterpolar\"}], \"scatterpolargl\": [{\"marker\": {\"colorbar\": {\"outlinewidth\": 0, \"ticks\": \"\"}}, \"type\": \"scatterpolargl\"}], \"scatterternary\": [{\"marker\": {\"colorbar\": {\"outlinewidth\": 0, \"ticks\": \"\"}}, \"type\": \"scatterternary\"}], \"surface\": [{\"colorbar\": {\"outlinewidth\": 0, \"ticks\": \"\"}, \"colorscale\": [[0.0, \"#0d0887\"], [0.1111111111111111, \"#46039f\"], [0.2222222222222222, \"#7201a8\"], [0.3333333333333333, \"#9c179e\"], [0.4444444444444444, \"#bd3786\"], [0.5555555555555556, \"#d8576b\"], [0.6666666666666666, \"#ed7953\"], [0.7777777777777778, \"#fb9f3a\"], [0.8888888888888888, \"#fdca26\"], [1.0, \"#f0f921\"]], \"type\": \"surface\"}], \"table\": [{\"cells\": {\"fill\": {\"color\": \"#EBF0F8\"}, \"line\": {\"color\": \"white\"}}, \"header\": {\"fill\": {\"color\": \"#C8D4E3\"}, \"line\": {\"color\": \"white\"}}, \"type\": \"table\"}]}, \"layout\": {\"annotationdefaults\": {\"arrowcolor\": \"#2a3f5f\", \"arrowhead\": 0, \"arrowwidth\": 1}, \"coloraxis\": {\"colorbar\": {\"outlinewidth\": 0, \"ticks\": \"\"}}, \"colorscale\": {\"diverging\": [[0, \"#8e0152\"], [0.1, \"#c51b7d\"], [0.2, \"#de77ae\"], [0.3, \"#f1b6da\"], [0.4, \"#fde0ef\"], [0.5, \"#f7f7f7\"], [0.6, \"#e6f5d0\"], [0.7, \"#b8e186\"], [0.8, \"#7fbc41\"], [0.9, \"#4d9221\"], [1, \"#276419\"]], \"sequential\": [[0.0, \"#0d0887\"], [0.1111111111111111, \"#46039f\"], [0.2222222222222222, \"#7201a8\"], [0.3333333333333333, \"#9c179e\"], [0.4444444444444444, \"#bd3786\"], [0.5555555555555556, \"#d8576b\"], [0.6666666666666666, \"#ed7953\"], [0.7777777777777778, \"#fb9f3a\"], [0.8888888888888888, \"#fdca26\"], [1.0, \"#f0f921\"]], \"sequentialminus\": [[0.0, \"#0d0887\"], [0.1111111111111111, \"#46039f\"], [0.2222222222222222, \"#7201a8\"], [0.3333333333333333, \"#9c179e\"], [0.4444444444444444, \"#bd3786\"], [0.5555555555555556, \"#d8576b\"], [0.6666666666666666, \"#ed7953\"], [0.7777777777777778, \"#fb9f3a\"], [0.8888888888888888, \"#fdca26\"], [1.0, \"#f0f921\"]]}, \"colorway\": [\"#636efa\", \"#EF553B\", \"#00cc96\", \"#ab63fa\", \"#FFA15A\", \"#19d3f3\", \"#FF6692\", \"#B6E880\", \"#FF97FF\", \"#FECB52\"], \"font\": {\"color\": \"#2a3f5f\"}, \"geo\": {\"bgcolor\": \"white\", \"lakecolor\": \"white\", \"landcolor\": \"#E5ECF6\", \"showlakes\": true, \"showland\": true, \"subunitcolor\": \"white\"}, \"hoverlabel\": {\"align\": \"left\"}, \"hovermode\": \"closest\", \"mapbox\": {\"style\": \"light\"}, \"paper_bgcolor\": \"white\", \"plot_bgcolor\": \"#E5ECF6\", \"polar\": {\"angularaxis\": {\"gridcolor\": \"white\", \"linecolor\": \"white\", \"ticks\": \"\"}, \"bgcolor\": \"#E5ECF6\", \"radialaxis\": {\"gridcolor\": \"white\", \"linecolor\": \"white\", \"ticks\": \"\"}}, \"scene\": {\"xaxis\": {\"backgroundcolor\": \"#E5ECF6\", \"gridcolor\": \"white\", \"gridwidth\": 2, \"linecolor\": \"white\", \"showbackground\": true, \"ticks\": \"\", \"zerolinecolor\": \"white\"}, \"yaxis\": {\"backgroundcolor\": \"#E5ECF6\", \"gridcolor\": \"white\", \"gridwidth\": 2, \"linecolor\": \"white\", \"showbackground\": true, \"ticks\": \"\", \"zerolinecolor\": \"white\"}, \"zaxis\": {\"backgroundcolor\": \"#E5ECF6\", \"gridcolor\": \"white\", \"gridwidth\": 2, \"linecolor\": \"white\", \"showbackground\": true, \"ticks\": \"\", \"zerolinecolor\": \"white\"}}, \"shapedefaults\": {\"line\": {\"color\": \"#2a3f5f\"}}, \"ternary\": {\"aaxis\": {\"gridcolor\": \"white\", \"linecolor\": \"white\", \"ticks\": \"\"}, \"baxis\": {\"gridcolor\": \"white\", \"linecolor\": \"white\", \"ticks\": \"\"}, \"bgcolor\": \"#E5ECF6\", \"caxis\": {\"gridcolor\": \"white\", \"linecolor\": \"white\", \"ticks\": \"\"}}, \"title\": {\"x\": 0.05}, \"xaxis\": {\"automargin\": true, \"gridcolor\": \"white\", \"linecolor\": \"white\", \"ticks\": \"\", \"title\": {\"standoff\": 15}, \"zerolinecolor\": \"white\", \"zerolinewidth\": 2}, \"yaxis\": {\"automargin\": true, \"gridcolor\": \"white\", \"linecolor\": \"white\", \"ticks\": \"\", \"title\": {\"standoff\": 15}, \"zerolinecolor\": \"white\", \"zerolinewidth\": 2}}}, \"title\": {\"font\": {\"color\": \"#000000\", \"size\": 20}, \"text\": \"Doutores Formandos\", \"x\": 0.5, \"xanchor\": \"center\"}, \"xaxis\": {\"title\": {\"text\": \"Institui\\u00e7\\u00e3o\"}}},\n",
       "                        {\"responsive\": true}\n",
       "                    ).then(function(){\n",
       "                            \n",
       "var gd = document.getElementById('e4efba69-7514-4801-b916-898a89674b0e');\n",
       "var x = new MutationObserver(function (mutations, observer) {{\n",
       "        var display = window.getComputedStyle(gd).display;\n",
       "        if (!display || display === 'none') {{\n",
       "            console.log([gd, 'removed!']);\n",
       "            Plotly.purge(gd);\n",
       "            observer.disconnect();\n",
       "        }}\n",
       "}});\n",
       "\n",
       "// Listen for the removal of the full notebook cells\n",
       "var notebookContainer = gd.closest('#notebook-container');\n",
       "if (notebookContainer) {{\n",
       "    x.observe(notebookContainer, {childList: true});\n",
       "}}\n",
       "\n",
       "// Listen for the clearing of the current output cell\n",
       "var outputEl = gd.closest('.output');\n",
       "if (outputEl) {{\n",
       "    x.observe(outputEl, {childList: true});\n",
       "}}\n",
       "\n",
       "                        })\n",
       "                };\n",
       "                });\n",
       "            </script>\n",
       "        </div>"
      ]
     },
     "metadata": {},
     "output_type": "display_data"
    }
   ],
   "source": [
    "data = list()\n",
    "for dado in ('primeiro_autor', 'periodico', 'publicacao', 'total'):\n",
    "    data.append(go.Bar(x=[d_f['code'] for d_f in doutores_formandos],\n",
    "                       y=[d_f[dado] for d_f in doutores_formandos],\n",
    "                       marker_color=COLORS[dado],\n",
    "                       name=f'Doutor {TITLES[dado]}'))\n",
    "\n",
    "title = {\n",
    "    'text': 'Doutores Formandos',\n",
    "    'x': 0.5,\n",
    "    'xanchor': 'center',\n",
    "    'font': {\n",
    "        'color': '#000000',\n",
    "        'size': 20\n",
    "    }\n",
    "}\n",
    "\n",
    "legend = {\n",
    "    'font':{'color':'#000000'},\n",
    "    'orientation':'v',\n",
    "    'x':0,\n",
    "    'y':1\n",
    "}\n",
    "\n",
    "layout = go.Layout(title=title, \n",
    "                   xaxis={'title': 'Instituição'},\n",
    "                   legend=legend)\n",
    "\n",
    "fig = go.Figure(data=data, layout=layout)\n",
    "py.iplot(fig)"
   ]
  },
  {
   "cell_type": "code",
   "execution_count": 62,
   "metadata": {},
   "outputs": [
    {
     "data": {
      "application/vnd.plotly.v1+json": {
       "config": {
        "linkText": "Export to plot.ly",
        "plotlyServerURL": "https://plot.ly",
        "showLink": false
       },
       "data": [
        {
         "marker": {
          "color": "#FFFF00"
         },
         "name": "Mestre com Periódico como Primeiro Autor",
         "type": "bar",
         "x": [
          "UNIFOR-3",
          "UFPE-3",
          " FIAMFAAM-3",
          "UFSC-4",
          "PUC-RIO-3",
          "UFC-3",
          "UFU-3",
          "UFRGS-5",
          "UFMA-3",
          "UFG-3",
          "UFCG-3",
          "UNESP-BAURU-6",
          "UDESC-4",
          "UFRGS-4",
          "UFRN-4",
          "USJT-4",
          "UEL-4",
          "UERJ-4",
          "UNB-3",
          "UFPB-JP-4",
          "UNESP-BAURU-4",
          "UFPR-4",
          "UFV-4",
          "UNICAMP-5",
          "CESAR-3",
          "PUCCAMP-5",
          "UFRJ-5",
          "UFRJ-6",
          "UFMG-6",
          "USP/SC-4",
          "UNISINOS-4",
          "UFBA-4",
          "UFF-4",
          "UAM-5",
          "UFAL-3",
          "UFJF-4",
          "UFPEL-4",
          "UEMG-5",
          "UFPA-4",
          "UNISINOS-5",
          "UFES-4",
          "UNIFATEA-3",
          "UPM-6",
          "UNIRITTER-4",
          "UFRJ-4",
          "PUC-RIO-5",
          "UFPE-4",
          "UNB-4",
          "UFSC-5",
          "USP-4"
         ],
         "y": [
          0,
          0,
          0,
          0,
          0,
          0,
          0,
          0,
          1,
          0,
          1,
          2,
          2,
          0,
          0,
          3,
          0,
          0,
          1,
          0,
          0,
          1,
          0,
          0,
          0,
          2,
          0,
          1,
          1,
          3,
          0,
          0,
          0,
          2,
          0,
          0,
          1,
          1,
          0,
          0,
          0,
          0,
          0,
          2,
          0,
          1,
          0,
          1,
          0,
          3
         ]
        },
        {
         "marker": {
          "color": "#FF0000"
         },
         "name": "Mestre com Periódico",
         "type": "bar",
         "x": [
          "UNIFOR-3",
          "UFPE-3",
          " FIAMFAAM-3",
          "UFSC-4",
          "PUC-RIO-3",
          "UFC-3",
          "UFU-3",
          "UFRGS-5",
          "UFMA-3",
          "UFG-3",
          "UFCG-3",
          "UNESP-BAURU-6",
          "UDESC-4",
          "UFRGS-4",
          "UFRN-4",
          "USJT-4",
          "UEL-4",
          "UERJ-4",
          "UNB-3",
          "UFPB-JP-4",
          "UNESP-BAURU-4",
          "UFPR-4",
          "UFV-4",
          "UNICAMP-5",
          "CESAR-3",
          "PUCCAMP-5",
          "UFRJ-5",
          "UFRJ-6",
          "UFMG-6",
          "USP/SC-4",
          "UNISINOS-4",
          "UFBA-4",
          "UFF-4",
          "UAM-5",
          "UFAL-3",
          "UFJF-4",
          "UFPEL-4",
          "UEMG-5",
          "UFPA-4",
          "UNISINOS-5",
          "UFES-4",
          "UNIFATEA-3",
          "UPM-6",
          "UNIRITTER-4",
          "UFRJ-4",
          "PUC-RIO-5",
          "UFPE-4",
          "UNB-4",
          "UFSC-5",
          "USP-4"
         ],
         "y": [
          0,
          0,
          0,
          0,
          0,
          0,
          0,
          0,
          2,
          0,
          1,
          5,
          3,
          0,
          0,
          4,
          0,
          0,
          1,
          0,
          0,
          1,
          0,
          0,
          0,
          2,
          0,
          1,
          2,
          3,
          0,
          0,
          0,
          3,
          0,
          0,
          4,
          1,
          1,
          0,
          0,
          2,
          0,
          3,
          0,
          2,
          0,
          1,
          1,
          4
         ]
        },
        {
         "marker": {
          "color": "#00FF00"
         },
         "name": "Mestre com Publicação",
         "type": "bar",
         "x": [
          "UNIFOR-3",
          "UFPE-3",
          " FIAMFAAM-3",
          "UFSC-4",
          "PUC-RIO-3",
          "UFC-3",
          "UFU-3",
          "UFRGS-5",
          "UFMA-3",
          "UFG-3",
          "UFCG-3",
          "UNESP-BAURU-6",
          "UDESC-4",
          "UFRGS-4",
          "UFRN-4",
          "USJT-4",
          "UEL-4",
          "UERJ-4",
          "UNB-3",
          "UFPB-JP-4",
          "UNESP-BAURU-4",
          "UFPR-4",
          "UFV-4",
          "UNICAMP-5",
          "CESAR-3",
          "PUCCAMP-5",
          "UFRJ-5",
          "UFRJ-6",
          "UFMG-6",
          "USP/SC-4",
          "UNISINOS-4",
          "UFBA-4",
          "UFF-4",
          "UAM-5",
          "UFAL-3",
          "UFJF-4",
          "UFPEL-4",
          "UEMG-5",
          "UFPA-4",
          "UNISINOS-5",
          "UFES-4",
          "UNIFATEA-3",
          "UPM-6",
          "UNIRITTER-4",
          "UFRJ-4",
          "PUC-RIO-5",
          "UFPE-4",
          "UNB-4",
          "UFSC-5",
          "USP-4"
         ],
         "y": [
          0,
          0,
          0,
          0,
          1,
          3,
          4,
          1,
          7,
          1,
          1,
          6,
          7,
          0,
          3,
          4,
          2,
          3,
          5,
          2,
          5,
          2,
          5,
          8,
          1,
          5,
          2,
          7,
          6,
          7,
          1,
          3,
          2,
          7,
          6,
          4,
          14,
          6,
          2,
          5,
          6,
          3,
          4,
          8,
          10,
          5,
          5,
          6,
          14,
          24
         ]
        },
        {
         "marker": {
          "color": "#0000ff"
         },
         "name": "Mestre ",
         "type": "bar",
         "x": [
          "UNIFOR-3",
          "UFPE-3",
          " FIAMFAAM-3",
          "UFSC-4",
          "PUC-RIO-3",
          "UFC-3",
          "UFU-3",
          "UFRGS-5",
          "UFMA-3",
          "UFG-3",
          "UFCG-3",
          "UNESP-BAURU-6",
          "UDESC-4",
          "UFRGS-4",
          "UFRN-4",
          "USJT-4",
          "UEL-4",
          "UERJ-4",
          "UNB-3",
          "UFPB-JP-4",
          "UNESP-BAURU-4",
          "UFPR-4",
          "UFV-4",
          "UNICAMP-5",
          "CESAR-3",
          "PUCCAMP-5",
          "UFRJ-5",
          "UFRJ-6",
          "UFMG-6",
          "USP/SC-4",
          "UNISINOS-4",
          "UFBA-4",
          "UFF-4",
          "UAM-5",
          "UFAL-3",
          "UFJF-4",
          "UFPEL-4",
          "UEMG-5",
          "UFPA-4",
          "UNISINOS-5",
          "UFES-4",
          "UNIFATEA-3",
          "UPM-6",
          "UNIRITTER-4",
          "UFRJ-4",
          "PUC-RIO-5",
          "UFPE-4",
          "UNB-4",
          "UFSC-5",
          "USP-4"
         ],
         "y": [
          2,
          4,
          4,
          6,
          7,
          7,
          9,
          9,
          9,
          9,
          10,
          10,
          10,
          11,
          11,
          11,
          11,
          11,
          11,
          12,
          12,
          12,
          13,
          13,
          13,
          14,
          14,
          15,
          16,
          16,
          16,
          17,
          17,
          17,
          18,
          19,
          20,
          20,
          21,
          21,
          23,
          23,
          24,
          25,
          25,
          25,
          28,
          32,
          46,
          108
         ]
        }
       ],
       "layout": {
        "legend": {
         "font": {
          "color": "#000000"
         },
         "orientation": "v",
         "x": 0,
         "y": 1
        },
        "template": {
         "data": {
          "bar": [
           {
            "error_x": {
             "color": "#2a3f5f"
            },
            "error_y": {
             "color": "#2a3f5f"
            },
            "marker": {
             "line": {
              "color": "#E5ECF6",
              "width": 0.5
             }
            },
            "type": "bar"
           }
          ],
          "barpolar": [
           {
            "marker": {
             "line": {
              "color": "#E5ECF6",
              "width": 0.5
             }
            },
            "type": "barpolar"
           }
          ],
          "carpet": [
           {
            "aaxis": {
             "endlinecolor": "#2a3f5f",
             "gridcolor": "white",
             "linecolor": "white",
             "minorgridcolor": "white",
             "startlinecolor": "#2a3f5f"
            },
            "baxis": {
             "endlinecolor": "#2a3f5f",
             "gridcolor": "white",
             "linecolor": "white",
             "minorgridcolor": "white",
             "startlinecolor": "#2a3f5f"
            },
            "type": "carpet"
           }
          ],
          "choropleth": [
           {
            "colorbar": {
             "outlinewidth": 0,
             "ticks": ""
            },
            "type": "choropleth"
           }
          ],
          "contour": [
           {
            "colorbar": {
             "outlinewidth": 0,
             "ticks": ""
            },
            "colorscale": [
             [
              0,
              "#0d0887"
             ],
             [
              0.1111111111111111,
              "#46039f"
             ],
             [
              0.2222222222222222,
              "#7201a8"
             ],
             [
              0.3333333333333333,
              "#9c179e"
             ],
             [
              0.4444444444444444,
              "#bd3786"
             ],
             [
              0.5555555555555556,
              "#d8576b"
             ],
             [
              0.6666666666666666,
              "#ed7953"
             ],
             [
              0.7777777777777778,
              "#fb9f3a"
             ],
             [
              0.8888888888888888,
              "#fdca26"
             ],
             [
              1,
              "#f0f921"
             ]
            ],
            "type": "contour"
           }
          ],
          "contourcarpet": [
           {
            "colorbar": {
             "outlinewidth": 0,
             "ticks": ""
            },
            "type": "contourcarpet"
           }
          ],
          "heatmap": [
           {
            "colorbar": {
             "outlinewidth": 0,
             "ticks": ""
            },
            "colorscale": [
             [
              0,
              "#0d0887"
             ],
             [
              0.1111111111111111,
              "#46039f"
             ],
             [
              0.2222222222222222,
              "#7201a8"
             ],
             [
              0.3333333333333333,
              "#9c179e"
             ],
             [
              0.4444444444444444,
              "#bd3786"
             ],
             [
              0.5555555555555556,
              "#d8576b"
             ],
             [
              0.6666666666666666,
              "#ed7953"
             ],
             [
              0.7777777777777778,
              "#fb9f3a"
             ],
             [
              0.8888888888888888,
              "#fdca26"
             ],
             [
              1,
              "#f0f921"
             ]
            ],
            "type": "heatmap"
           }
          ],
          "heatmapgl": [
           {
            "colorbar": {
             "outlinewidth": 0,
             "ticks": ""
            },
            "colorscale": [
             [
              0,
              "#0d0887"
             ],
             [
              0.1111111111111111,
              "#46039f"
             ],
             [
              0.2222222222222222,
              "#7201a8"
             ],
             [
              0.3333333333333333,
              "#9c179e"
             ],
             [
              0.4444444444444444,
              "#bd3786"
             ],
             [
              0.5555555555555556,
              "#d8576b"
             ],
             [
              0.6666666666666666,
              "#ed7953"
             ],
             [
              0.7777777777777778,
              "#fb9f3a"
             ],
             [
              0.8888888888888888,
              "#fdca26"
             ],
             [
              1,
              "#f0f921"
             ]
            ],
            "type": "heatmapgl"
           }
          ],
          "histogram": [
           {
            "marker": {
             "colorbar": {
              "outlinewidth": 0,
              "ticks": ""
             }
            },
            "type": "histogram"
           }
          ],
          "histogram2d": [
           {
            "colorbar": {
             "outlinewidth": 0,
             "ticks": ""
            },
            "colorscale": [
             [
              0,
              "#0d0887"
             ],
             [
              0.1111111111111111,
              "#46039f"
             ],
             [
              0.2222222222222222,
              "#7201a8"
             ],
             [
              0.3333333333333333,
              "#9c179e"
             ],
             [
              0.4444444444444444,
              "#bd3786"
             ],
             [
              0.5555555555555556,
              "#d8576b"
             ],
             [
              0.6666666666666666,
              "#ed7953"
             ],
             [
              0.7777777777777778,
              "#fb9f3a"
             ],
             [
              0.8888888888888888,
              "#fdca26"
             ],
             [
              1,
              "#f0f921"
             ]
            ],
            "type": "histogram2d"
           }
          ],
          "histogram2dcontour": [
           {
            "colorbar": {
             "outlinewidth": 0,
             "ticks": ""
            },
            "colorscale": [
             [
              0,
              "#0d0887"
             ],
             [
              0.1111111111111111,
              "#46039f"
             ],
             [
              0.2222222222222222,
              "#7201a8"
             ],
             [
              0.3333333333333333,
              "#9c179e"
             ],
             [
              0.4444444444444444,
              "#bd3786"
             ],
             [
              0.5555555555555556,
              "#d8576b"
             ],
             [
              0.6666666666666666,
              "#ed7953"
             ],
             [
              0.7777777777777778,
              "#fb9f3a"
             ],
             [
              0.8888888888888888,
              "#fdca26"
             ],
             [
              1,
              "#f0f921"
             ]
            ],
            "type": "histogram2dcontour"
           }
          ],
          "mesh3d": [
           {
            "colorbar": {
             "outlinewidth": 0,
             "ticks": ""
            },
            "type": "mesh3d"
           }
          ],
          "parcoords": [
           {
            "line": {
             "colorbar": {
              "outlinewidth": 0,
              "ticks": ""
             }
            },
            "type": "parcoords"
           }
          ],
          "pie": [
           {
            "automargin": true,
            "type": "pie"
           }
          ],
          "scatter": [
           {
            "marker": {
             "colorbar": {
              "outlinewidth": 0,
              "ticks": ""
             }
            },
            "type": "scatter"
           }
          ],
          "scatter3d": [
           {
            "line": {
             "colorbar": {
              "outlinewidth": 0,
              "ticks": ""
             }
            },
            "marker": {
             "colorbar": {
              "outlinewidth": 0,
              "ticks": ""
             }
            },
            "type": "scatter3d"
           }
          ],
          "scattercarpet": [
           {
            "marker": {
             "colorbar": {
              "outlinewidth": 0,
              "ticks": ""
             }
            },
            "type": "scattercarpet"
           }
          ],
          "scattergeo": [
           {
            "marker": {
             "colorbar": {
              "outlinewidth": 0,
              "ticks": ""
             }
            },
            "type": "scattergeo"
           }
          ],
          "scattergl": [
           {
            "marker": {
             "colorbar": {
              "outlinewidth": 0,
              "ticks": ""
             }
            },
            "type": "scattergl"
           }
          ],
          "scattermapbox": [
           {
            "marker": {
             "colorbar": {
              "outlinewidth": 0,
              "ticks": ""
             }
            },
            "type": "scattermapbox"
           }
          ],
          "scatterpolar": [
           {
            "marker": {
             "colorbar": {
              "outlinewidth": 0,
              "ticks": ""
             }
            },
            "type": "scatterpolar"
           }
          ],
          "scatterpolargl": [
           {
            "marker": {
             "colorbar": {
              "outlinewidth": 0,
              "ticks": ""
             }
            },
            "type": "scatterpolargl"
           }
          ],
          "scatterternary": [
           {
            "marker": {
             "colorbar": {
              "outlinewidth": 0,
              "ticks": ""
             }
            },
            "type": "scatterternary"
           }
          ],
          "surface": [
           {
            "colorbar": {
             "outlinewidth": 0,
             "ticks": ""
            },
            "colorscale": [
             [
              0,
              "#0d0887"
             ],
             [
              0.1111111111111111,
              "#46039f"
             ],
             [
              0.2222222222222222,
              "#7201a8"
             ],
             [
              0.3333333333333333,
              "#9c179e"
             ],
             [
              0.4444444444444444,
              "#bd3786"
             ],
             [
              0.5555555555555556,
              "#d8576b"
             ],
             [
              0.6666666666666666,
              "#ed7953"
             ],
             [
              0.7777777777777778,
              "#fb9f3a"
             ],
             [
              0.8888888888888888,
              "#fdca26"
             ],
             [
              1,
              "#f0f921"
             ]
            ],
            "type": "surface"
           }
          ],
          "table": [
           {
            "cells": {
             "fill": {
              "color": "#EBF0F8"
             },
             "line": {
              "color": "white"
             }
            },
            "header": {
             "fill": {
              "color": "#C8D4E3"
             },
             "line": {
              "color": "white"
             }
            },
            "type": "table"
           }
          ]
         },
         "layout": {
          "annotationdefaults": {
           "arrowcolor": "#2a3f5f",
           "arrowhead": 0,
           "arrowwidth": 1
          },
          "coloraxis": {
           "colorbar": {
            "outlinewidth": 0,
            "ticks": ""
           }
          },
          "colorscale": {
           "diverging": [
            [
             0,
             "#8e0152"
            ],
            [
             0.1,
             "#c51b7d"
            ],
            [
             0.2,
             "#de77ae"
            ],
            [
             0.3,
             "#f1b6da"
            ],
            [
             0.4,
             "#fde0ef"
            ],
            [
             0.5,
             "#f7f7f7"
            ],
            [
             0.6,
             "#e6f5d0"
            ],
            [
             0.7,
             "#b8e186"
            ],
            [
             0.8,
             "#7fbc41"
            ],
            [
             0.9,
             "#4d9221"
            ],
            [
             1,
             "#276419"
            ]
           ],
           "sequential": [
            [
             0,
             "#0d0887"
            ],
            [
             0.1111111111111111,
             "#46039f"
            ],
            [
             0.2222222222222222,
             "#7201a8"
            ],
            [
             0.3333333333333333,
             "#9c179e"
            ],
            [
             0.4444444444444444,
             "#bd3786"
            ],
            [
             0.5555555555555556,
             "#d8576b"
            ],
            [
             0.6666666666666666,
             "#ed7953"
            ],
            [
             0.7777777777777778,
             "#fb9f3a"
            ],
            [
             0.8888888888888888,
             "#fdca26"
            ],
            [
             1,
             "#f0f921"
            ]
           ],
           "sequentialminus": [
            [
             0,
             "#0d0887"
            ],
            [
             0.1111111111111111,
             "#46039f"
            ],
            [
             0.2222222222222222,
             "#7201a8"
            ],
            [
             0.3333333333333333,
             "#9c179e"
            ],
            [
             0.4444444444444444,
             "#bd3786"
            ],
            [
             0.5555555555555556,
             "#d8576b"
            ],
            [
             0.6666666666666666,
             "#ed7953"
            ],
            [
             0.7777777777777778,
             "#fb9f3a"
            ],
            [
             0.8888888888888888,
             "#fdca26"
            ],
            [
             1,
             "#f0f921"
            ]
           ]
          },
          "colorway": [
           "#636efa",
           "#EF553B",
           "#00cc96",
           "#ab63fa",
           "#FFA15A",
           "#19d3f3",
           "#FF6692",
           "#B6E880",
           "#FF97FF",
           "#FECB52"
          ],
          "font": {
           "color": "#2a3f5f"
          },
          "geo": {
           "bgcolor": "white",
           "lakecolor": "white",
           "landcolor": "#E5ECF6",
           "showlakes": true,
           "showland": true,
           "subunitcolor": "white"
          },
          "hoverlabel": {
           "align": "left"
          },
          "hovermode": "closest",
          "mapbox": {
           "style": "light"
          },
          "paper_bgcolor": "white",
          "plot_bgcolor": "#E5ECF6",
          "polar": {
           "angularaxis": {
            "gridcolor": "white",
            "linecolor": "white",
            "ticks": ""
           },
           "bgcolor": "#E5ECF6",
           "radialaxis": {
            "gridcolor": "white",
            "linecolor": "white",
            "ticks": ""
           }
          },
          "scene": {
           "xaxis": {
            "backgroundcolor": "#E5ECF6",
            "gridcolor": "white",
            "gridwidth": 2,
            "linecolor": "white",
            "showbackground": true,
            "ticks": "",
            "zerolinecolor": "white"
           },
           "yaxis": {
            "backgroundcolor": "#E5ECF6",
            "gridcolor": "white",
            "gridwidth": 2,
            "linecolor": "white",
            "showbackground": true,
            "ticks": "",
            "zerolinecolor": "white"
           },
           "zaxis": {
            "backgroundcolor": "#E5ECF6",
            "gridcolor": "white",
            "gridwidth": 2,
            "linecolor": "white",
            "showbackground": true,
            "ticks": "",
            "zerolinecolor": "white"
           }
          },
          "shapedefaults": {
           "line": {
            "color": "#2a3f5f"
           }
          },
          "ternary": {
           "aaxis": {
            "gridcolor": "white",
            "linecolor": "white",
            "ticks": ""
           },
           "baxis": {
            "gridcolor": "white",
            "linecolor": "white",
            "ticks": ""
           },
           "bgcolor": "#E5ECF6",
           "caxis": {
            "gridcolor": "white",
            "linecolor": "white",
            "ticks": ""
           }
          },
          "title": {
           "x": 0.05
          },
          "xaxis": {
           "automargin": true,
           "gridcolor": "white",
           "linecolor": "white",
           "ticks": "",
           "title": {
            "standoff": 15
           },
           "zerolinecolor": "white",
           "zerolinewidth": 2
          },
          "yaxis": {
           "automargin": true,
           "gridcolor": "white",
           "linecolor": "white",
           "ticks": "",
           "title": {
            "standoff": 15
           },
           "zerolinecolor": "white",
           "zerolinewidth": 2
          }
         }
        },
        "title": {
         "font": {
          "color": "#000000",
          "size": 20
         },
         "text": "Mestres Formandos",
         "x": 0.5,
         "xanchor": "center"
        },
        "xaxis": {
         "title": {
          "text": "Instituição"
         }
        }
       }
      },
      "text/html": [
       "<div>\n",
       "        \n",
       "        \n",
       "            <div id=\"1df04cb8-eb8a-4ce8-9357-747236e21bfa\" class=\"plotly-graph-div\" style=\"height:525px; width:100%;\"></div>\n",
       "            <script type=\"text/javascript\">\n",
       "                require([\"plotly\"], function(Plotly) {\n",
       "                    window.PLOTLYENV=window.PLOTLYENV || {};\n",
       "                    \n",
       "                if (document.getElementById(\"1df04cb8-eb8a-4ce8-9357-747236e21bfa\")) {\n",
       "                    Plotly.newPlot(\n",
       "                        '1df04cb8-eb8a-4ce8-9357-747236e21bfa',\n",
       "                        [{\"marker\": {\"color\": \"#FFFF00\"}, \"name\": \"Mestre com Peri\\u00f3dico como Primeiro Autor\", \"type\": \"bar\", \"x\": [\"UNIFOR-3\", \"UFPE-3\", \" FIAMFAAM-3\", \"UFSC-4\", \"PUC-RIO-3\", \"UFC-3\", \"UFU-3\", \"UFRGS-5\", \"UFMA-3\", \"UFG-3\", \"UFCG-3\", \"UNESP-BAURU-6\", \"UDESC-4\", \"UFRGS-4\", \"UFRN-4\", \"USJT-4\", \"UEL-4\", \"UERJ-4\", \"UNB-3\", \"UFPB-JP-4\", \"UNESP-BAURU-4\", \"UFPR-4\", \"UFV-4\", \"UNICAMP-5\", \"CESAR-3\", \"PUCCAMP-5\", \"UFRJ-5\", \"UFRJ-6\", \"UFMG-6\", \"USP/SC-4\", \"UNISINOS-4\", \"UFBA-4\", \"UFF-4\", \"UAM-5\", \"UFAL-3\", \"UFJF-4\", \"UFPEL-4\", \"UEMG-5\", \"UFPA-4\", \"UNISINOS-5\", \"UFES-4\", \"UNIFATEA-3\", \"UPM-6\", \"UNIRITTER-4\", \"UFRJ-4\", \"PUC-RIO-5\", \"UFPE-4\", \"UNB-4\", \"UFSC-5\", \"USP-4\"], \"y\": [0, 0, 0, 0, 0, 0, 0, 0, 1, 0, 1, 2, 2, 0, 0, 3, 0, 0, 1, 0, 0, 1, 0, 0, 0, 2, 0, 1, 1, 3, 0, 0, 0, 2, 0, 0, 1, 1, 0, 0, 0, 0, 0, 2, 0, 1, 0, 1, 0, 3]}, {\"marker\": {\"color\": \"#FF0000\"}, \"name\": \"Mestre com Peri\\u00f3dico\", \"type\": \"bar\", \"x\": [\"UNIFOR-3\", \"UFPE-3\", \" FIAMFAAM-3\", \"UFSC-4\", \"PUC-RIO-3\", \"UFC-3\", \"UFU-3\", \"UFRGS-5\", \"UFMA-3\", \"UFG-3\", \"UFCG-3\", \"UNESP-BAURU-6\", \"UDESC-4\", \"UFRGS-4\", \"UFRN-4\", \"USJT-4\", \"UEL-4\", \"UERJ-4\", \"UNB-3\", \"UFPB-JP-4\", \"UNESP-BAURU-4\", \"UFPR-4\", \"UFV-4\", \"UNICAMP-5\", \"CESAR-3\", \"PUCCAMP-5\", \"UFRJ-5\", \"UFRJ-6\", \"UFMG-6\", \"USP/SC-4\", \"UNISINOS-4\", \"UFBA-4\", \"UFF-4\", \"UAM-5\", \"UFAL-3\", \"UFJF-4\", \"UFPEL-4\", \"UEMG-5\", \"UFPA-4\", \"UNISINOS-5\", \"UFES-4\", \"UNIFATEA-3\", \"UPM-6\", \"UNIRITTER-4\", \"UFRJ-4\", \"PUC-RIO-5\", \"UFPE-4\", \"UNB-4\", \"UFSC-5\", \"USP-4\"], \"y\": [0, 0, 0, 0, 0, 0, 0, 0, 2, 0, 1, 5, 3, 0, 0, 4, 0, 0, 1, 0, 0, 1, 0, 0, 0, 2, 0, 1, 2, 3, 0, 0, 0, 3, 0, 0, 4, 1, 1, 0, 0, 2, 0, 3, 0, 2, 0, 1, 1, 4]}, {\"marker\": {\"color\": \"#00FF00\"}, \"name\": \"Mestre com Publica\\u00e7\\u00e3o\", \"type\": \"bar\", \"x\": [\"UNIFOR-3\", \"UFPE-3\", \" FIAMFAAM-3\", \"UFSC-4\", \"PUC-RIO-3\", \"UFC-3\", \"UFU-3\", \"UFRGS-5\", \"UFMA-3\", \"UFG-3\", \"UFCG-3\", \"UNESP-BAURU-6\", \"UDESC-4\", \"UFRGS-4\", \"UFRN-4\", \"USJT-4\", \"UEL-4\", \"UERJ-4\", \"UNB-3\", \"UFPB-JP-4\", \"UNESP-BAURU-4\", \"UFPR-4\", \"UFV-4\", \"UNICAMP-5\", \"CESAR-3\", \"PUCCAMP-5\", \"UFRJ-5\", \"UFRJ-6\", \"UFMG-6\", \"USP/SC-4\", \"UNISINOS-4\", \"UFBA-4\", \"UFF-4\", \"UAM-5\", \"UFAL-3\", \"UFJF-4\", \"UFPEL-4\", \"UEMG-5\", \"UFPA-4\", \"UNISINOS-5\", \"UFES-4\", \"UNIFATEA-3\", \"UPM-6\", \"UNIRITTER-4\", \"UFRJ-4\", \"PUC-RIO-5\", \"UFPE-4\", \"UNB-4\", \"UFSC-5\", \"USP-4\"], \"y\": [0, 0, 0, 0, 1, 3, 4, 1, 7, 1, 1, 6, 7, 0, 3, 4, 2, 3, 5, 2, 5, 2, 5, 8, 1, 5, 2, 7, 6, 7, 1, 3, 2, 7, 6, 4, 14, 6, 2, 5, 6, 3, 4, 8, 10, 5, 5, 6, 14, 24]}, {\"marker\": {\"color\": \"#0000ff\"}, \"name\": \"Mestre \", \"type\": \"bar\", \"x\": [\"UNIFOR-3\", \"UFPE-3\", \" FIAMFAAM-3\", \"UFSC-4\", \"PUC-RIO-3\", \"UFC-3\", \"UFU-3\", \"UFRGS-5\", \"UFMA-3\", \"UFG-3\", \"UFCG-3\", \"UNESP-BAURU-6\", \"UDESC-4\", \"UFRGS-4\", \"UFRN-4\", \"USJT-4\", \"UEL-4\", \"UERJ-4\", \"UNB-3\", \"UFPB-JP-4\", \"UNESP-BAURU-4\", \"UFPR-4\", \"UFV-4\", \"UNICAMP-5\", \"CESAR-3\", \"PUCCAMP-5\", \"UFRJ-5\", \"UFRJ-6\", \"UFMG-6\", \"USP/SC-4\", \"UNISINOS-4\", \"UFBA-4\", \"UFF-4\", \"UAM-5\", \"UFAL-3\", \"UFJF-4\", \"UFPEL-4\", \"UEMG-5\", \"UFPA-4\", \"UNISINOS-5\", \"UFES-4\", \"UNIFATEA-3\", \"UPM-6\", \"UNIRITTER-4\", \"UFRJ-4\", \"PUC-RIO-5\", \"UFPE-4\", \"UNB-4\", \"UFSC-5\", \"USP-4\"], \"y\": [2, 4, 4, 6, 7, 7, 9, 9, 9, 9, 10, 10, 10, 11, 11, 11, 11, 11, 11, 12, 12, 12, 13, 13, 13, 14, 14, 15, 16, 16, 16, 17, 17, 17, 18, 19, 20, 20, 21, 21, 23, 23, 24, 25, 25, 25, 28, 32, 46, 108]}],\n",
       "                        {\"legend\": {\"font\": {\"color\": \"#000000\"}, \"orientation\": \"v\", \"x\": 0, \"y\": 1}, \"template\": {\"data\": {\"bar\": [{\"error_x\": {\"color\": \"#2a3f5f\"}, \"error_y\": {\"color\": \"#2a3f5f\"}, \"marker\": {\"line\": {\"color\": \"#E5ECF6\", \"width\": 0.5}}, \"type\": \"bar\"}], \"barpolar\": [{\"marker\": {\"line\": {\"color\": \"#E5ECF6\", \"width\": 0.5}}, \"type\": \"barpolar\"}], \"carpet\": [{\"aaxis\": {\"endlinecolor\": \"#2a3f5f\", \"gridcolor\": \"white\", \"linecolor\": \"white\", \"minorgridcolor\": \"white\", \"startlinecolor\": \"#2a3f5f\"}, \"baxis\": {\"endlinecolor\": \"#2a3f5f\", \"gridcolor\": \"white\", \"linecolor\": \"white\", \"minorgridcolor\": \"white\", \"startlinecolor\": \"#2a3f5f\"}, \"type\": \"carpet\"}], \"choropleth\": [{\"colorbar\": {\"outlinewidth\": 0, \"ticks\": \"\"}, \"type\": \"choropleth\"}], \"contour\": [{\"colorbar\": {\"outlinewidth\": 0, \"ticks\": \"\"}, \"colorscale\": [[0.0, \"#0d0887\"], [0.1111111111111111, \"#46039f\"], [0.2222222222222222, \"#7201a8\"], [0.3333333333333333, \"#9c179e\"], [0.4444444444444444, \"#bd3786\"], [0.5555555555555556, \"#d8576b\"], [0.6666666666666666, \"#ed7953\"], [0.7777777777777778, \"#fb9f3a\"], [0.8888888888888888, \"#fdca26\"], [1.0, \"#f0f921\"]], \"type\": \"contour\"}], \"contourcarpet\": [{\"colorbar\": {\"outlinewidth\": 0, \"ticks\": \"\"}, \"type\": \"contourcarpet\"}], \"heatmap\": [{\"colorbar\": {\"outlinewidth\": 0, \"ticks\": \"\"}, \"colorscale\": [[0.0, \"#0d0887\"], [0.1111111111111111, \"#46039f\"], [0.2222222222222222, \"#7201a8\"], [0.3333333333333333, \"#9c179e\"], [0.4444444444444444, \"#bd3786\"], [0.5555555555555556, \"#d8576b\"], [0.6666666666666666, \"#ed7953\"], [0.7777777777777778, \"#fb9f3a\"], [0.8888888888888888, \"#fdca26\"], [1.0, \"#f0f921\"]], \"type\": \"heatmap\"}], \"heatmapgl\": [{\"colorbar\": {\"outlinewidth\": 0, \"ticks\": \"\"}, \"colorscale\": [[0.0, \"#0d0887\"], [0.1111111111111111, \"#46039f\"], [0.2222222222222222, \"#7201a8\"], [0.3333333333333333, \"#9c179e\"], [0.4444444444444444, \"#bd3786\"], [0.5555555555555556, \"#d8576b\"], [0.6666666666666666, \"#ed7953\"], [0.7777777777777778, \"#fb9f3a\"], [0.8888888888888888, \"#fdca26\"], [1.0, \"#f0f921\"]], \"type\": \"heatmapgl\"}], \"histogram\": [{\"marker\": {\"colorbar\": {\"outlinewidth\": 0, \"ticks\": \"\"}}, \"type\": \"histogram\"}], \"histogram2d\": [{\"colorbar\": {\"outlinewidth\": 0, \"ticks\": \"\"}, \"colorscale\": [[0.0, \"#0d0887\"], [0.1111111111111111, \"#46039f\"], [0.2222222222222222, \"#7201a8\"], [0.3333333333333333, \"#9c179e\"], [0.4444444444444444, \"#bd3786\"], [0.5555555555555556, \"#d8576b\"], [0.6666666666666666, \"#ed7953\"], [0.7777777777777778, \"#fb9f3a\"], [0.8888888888888888, \"#fdca26\"], [1.0, \"#f0f921\"]], \"type\": \"histogram2d\"}], \"histogram2dcontour\": [{\"colorbar\": {\"outlinewidth\": 0, \"ticks\": \"\"}, \"colorscale\": [[0.0, \"#0d0887\"], [0.1111111111111111, \"#46039f\"], [0.2222222222222222, \"#7201a8\"], [0.3333333333333333, \"#9c179e\"], [0.4444444444444444, \"#bd3786\"], [0.5555555555555556, \"#d8576b\"], [0.6666666666666666, \"#ed7953\"], [0.7777777777777778, \"#fb9f3a\"], [0.8888888888888888, \"#fdca26\"], [1.0, \"#f0f921\"]], \"type\": \"histogram2dcontour\"}], \"mesh3d\": [{\"colorbar\": {\"outlinewidth\": 0, \"ticks\": \"\"}, \"type\": \"mesh3d\"}], \"parcoords\": [{\"line\": {\"colorbar\": {\"outlinewidth\": 0, \"ticks\": \"\"}}, \"type\": \"parcoords\"}], \"pie\": [{\"automargin\": true, \"type\": \"pie\"}], \"scatter\": [{\"marker\": {\"colorbar\": {\"outlinewidth\": 0, \"ticks\": \"\"}}, \"type\": \"scatter\"}], \"scatter3d\": [{\"line\": {\"colorbar\": {\"outlinewidth\": 0, \"ticks\": \"\"}}, \"marker\": {\"colorbar\": {\"outlinewidth\": 0, \"ticks\": \"\"}}, \"type\": \"scatter3d\"}], \"scattercarpet\": [{\"marker\": {\"colorbar\": {\"outlinewidth\": 0, \"ticks\": \"\"}}, \"type\": \"scattercarpet\"}], \"scattergeo\": [{\"marker\": {\"colorbar\": {\"outlinewidth\": 0, \"ticks\": \"\"}}, \"type\": \"scattergeo\"}], \"scattergl\": [{\"marker\": {\"colorbar\": {\"outlinewidth\": 0, \"ticks\": \"\"}}, \"type\": \"scattergl\"}], \"scattermapbox\": [{\"marker\": {\"colorbar\": {\"outlinewidth\": 0, \"ticks\": \"\"}}, \"type\": \"scattermapbox\"}], \"scatterpolar\": [{\"marker\": {\"colorbar\": {\"outlinewidth\": 0, \"ticks\": \"\"}}, \"type\": \"scatterpolar\"}], \"scatterpolargl\": [{\"marker\": {\"colorbar\": {\"outlinewidth\": 0, \"ticks\": \"\"}}, \"type\": \"scatterpolargl\"}], \"scatterternary\": [{\"marker\": {\"colorbar\": {\"outlinewidth\": 0, \"ticks\": \"\"}}, \"type\": \"scatterternary\"}], \"surface\": [{\"colorbar\": {\"outlinewidth\": 0, \"ticks\": \"\"}, \"colorscale\": [[0.0, \"#0d0887\"], [0.1111111111111111, \"#46039f\"], [0.2222222222222222, \"#7201a8\"], [0.3333333333333333, \"#9c179e\"], [0.4444444444444444, \"#bd3786\"], [0.5555555555555556, \"#d8576b\"], [0.6666666666666666, \"#ed7953\"], [0.7777777777777778, \"#fb9f3a\"], [0.8888888888888888, \"#fdca26\"], [1.0, \"#f0f921\"]], \"type\": \"surface\"}], \"table\": [{\"cells\": {\"fill\": {\"color\": \"#EBF0F8\"}, \"line\": {\"color\": \"white\"}}, \"header\": {\"fill\": {\"color\": \"#C8D4E3\"}, \"line\": {\"color\": \"white\"}}, \"type\": \"table\"}]}, \"layout\": {\"annotationdefaults\": {\"arrowcolor\": \"#2a3f5f\", \"arrowhead\": 0, \"arrowwidth\": 1}, \"coloraxis\": {\"colorbar\": {\"outlinewidth\": 0, \"ticks\": \"\"}}, \"colorscale\": {\"diverging\": [[0, \"#8e0152\"], [0.1, \"#c51b7d\"], [0.2, \"#de77ae\"], [0.3, \"#f1b6da\"], [0.4, \"#fde0ef\"], [0.5, \"#f7f7f7\"], [0.6, \"#e6f5d0\"], [0.7, \"#b8e186\"], [0.8, \"#7fbc41\"], [0.9, \"#4d9221\"], [1, \"#276419\"]], \"sequential\": [[0.0, \"#0d0887\"], [0.1111111111111111, \"#46039f\"], [0.2222222222222222, \"#7201a8\"], [0.3333333333333333, \"#9c179e\"], [0.4444444444444444, \"#bd3786\"], [0.5555555555555556, \"#d8576b\"], [0.6666666666666666, \"#ed7953\"], [0.7777777777777778, \"#fb9f3a\"], [0.8888888888888888, \"#fdca26\"], [1.0, \"#f0f921\"]], \"sequentialminus\": [[0.0, \"#0d0887\"], [0.1111111111111111, \"#46039f\"], [0.2222222222222222, \"#7201a8\"], [0.3333333333333333, \"#9c179e\"], [0.4444444444444444, \"#bd3786\"], [0.5555555555555556, \"#d8576b\"], [0.6666666666666666, \"#ed7953\"], [0.7777777777777778, \"#fb9f3a\"], [0.8888888888888888, \"#fdca26\"], [1.0, \"#f0f921\"]]}, \"colorway\": [\"#636efa\", \"#EF553B\", \"#00cc96\", \"#ab63fa\", \"#FFA15A\", \"#19d3f3\", \"#FF6692\", \"#B6E880\", \"#FF97FF\", \"#FECB52\"], \"font\": {\"color\": \"#2a3f5f\"}, \"geo\": {\"bgcolor\": \"white\", \"lakecolor\": \"white\", \"landcolor\": \"#E5ECF6\", \"showlakes\": true, \"showland\": true, \"subunitcolor\": \"white\"}, \"hoverlabel\": {\"align\": \"left\"}, \"hovermode\": \"closest\", \"mapbox\": {\"style\": \"light\"}, \"paper_bgcolor\": \"white\", \"plot_bgcolor\": \"#E5ECF6\", \"polar\": {\"angularaxis\": {\"gridcolor\": \"white\", \"linecolor\": \"white\", \"ticks\": \"\"}, \"bgcolor\": \"#E5ECF6\", \"radialaxis\": {\"gridcolor\": \"white\", \"linecolor\": \"white\", \"ticks\": \"\"}}, \"scene\": {\"xaxis\": {\"backgroundcolor\": \"#E5ECF6\", \"gridcolor\": \"white\", \"gridwidth\": 2, \"linecolor\": \"white\", \"showbackground\": true, \"ticks\": \"\", \"zerolinecolor\": \"white\"}, \"yaxis\": {\"backgroundcolor\": \"#E5ECF6\", \"gridcolor\": \"white\", \"gridwidth\": 2, \"linecolor\": \"white\", \"showbackground\": true, \"ticks\": \"\", \"zerolinecolor\": \"white\"}, \"zaxis\": {\"backgroundcolor\": \"#E5ECF6\", \"gridcolor\": \"white\", \"gridwidth\": 2, \"linecolor\": \"white\", \"showbackground\": true, \"ticks\": \"\", \"zerolinecolor\": \"white\"}}, \"shapedefaults\": {\"line\": {\"color\": \"#2a3f5f\"}}, \"ternary\": {\"aaxis\": {\"gridcolor\": \"white\", \"linecolor\": \"white\", \"ticks\": \"\"}, \"baxis\": {\"gridcolor\": \"white\", \"linecolor\": \"white\", \"ticks\": \"\"}, \"bgcolor\": \"#E5ECF6\", \"caxis\": {\"gridcolor\": \"white\", \"linecolor\": \"white\", \"ticks\": \"\"}}, \"title\": {\"x\": 0.05}, \"xaxis\": {\"automargin\": true, \"gridcolor\": \"white\", \"linecolor\": \"white\", \"ticks\": \"\", \"title\": {\"standoff\": 15}, \"zerolinecolor\": \"white\", \"zerolinewidth\": 2}, \"yaxis\": {\"automargin\": true, \"gridcolor\": \"white\", \"linecolor\": \"white\", \"ticks\": \"\", \"title\": {\"standoff\": 15}, \"zerolinecolor\": \"white\", \"zerolinewidth\": 2}}}, \"title\": {\"font\": {\"color\": \"#000000\", \"size\": 20}, \"text\": \"Mestres Formandos\", \"x\": 0.5, \"xanchor\": \"center\"}, \"xaxis\": {\"title\": {\"text\": \"Institui\\u00e7\\u00e3o\"}}},\n",
       "                        {\"responsive\": true}\n",
       "                    ).then(function(){\n",
       "                            \n",
       "var gd = document.getElementById('1df04cb8-eb8a-4ce8-9357-747236e21bfa');\n",
       "var x = new MutationObserver(function (mutations, observer) {{\n",
       "        var display = window.getComputedStyle(gd).display;\n",
       "        if (!display || display === 'none') {{\n",
       "            console.log([gd, 'removed!']);\n",
       "            Plotly.purge(gd);\n",
       "            observer.disconnect();\n",
       "        }}\n",
       "}});\n",
       "\n",
       "// Listen for the removal of the full notebook cells\n",
       "var notebookContainer = gd.closest('#notebook-container');\n",
       "if (notebookContainer) {{\n",
       "    x.observe(notebookContainer, {childList: true});\n",
       "}}\n",
       "\n",
       "// Listen for the clearing of the current output cell\n",
       "var outputEl = gd.closest('.output');\n",
       "if (outputEl) {{\n",
       "    x.observe(outputEl, {childList: true});\n",
       "}}\n",
       "\n",
       "                        })\n",
       "                };\n",
       "                });\n",
       "            </script>\n",
       "        </div>"
      ]
     },
     "metadata": {},
     "output_type": "display_data"
    }
   ],
   "source": [
    "data = list()\n",
    "for dado in ('primeiro_autor', 'periodico', 'publicacao', 'total'):\n",
    "    data.append(go.Bar(x=[d_f['code'] for d_f in mestres_formandos],\n",
    "                       y=[d_f[dado] for d_f in mestres_formandos],\n",
    "                       marker_color=COLORS[dado],\n",
    "                       name=f'Mestre {TITLES[dado]}'))\n",
    "\n",
    "title = {\n",
    "    'text': 'Mestres Formandos',\n",
    "    'x': 0.5,\n",
    "    'xanchor': 'center',\n",
    "    'font': {\n",
    "        'color': '#000000',\n",
    "        'size': 20\n",
    "    }\n",
    "}\n",
    "\n",
    "legend = {\n",
    "    'font':{'color':'#000000'},\n",
    "    'orientation':'v',\n",
    "    'x':0,\n",
    "    'y':1\n",
    "}\n",
    "\n",
    "layout = go.Layout(title=title, \n",
    "                   xaxis={'title': 'Instituição'},\n",
    "                   legend=legend)\n",
    "\n",
    "fig = go.Figure(data=data, layout=layout)\n",
    "py.iplot(fig)"
   ]
  }
 ],
 "metadata": {
  "kernelspec": {
   "display_name": "Python 3",
   "language": "python",
   "name": "python3"
  },
  "language_info": {
   "codemirror_mode": {
    "name": "ipython",
    "version": 3
   },
   "file_extension": ".py",
   "mimetype": "text/x-python",
   "name": "python",
   "nbconvert_exporter": "python",
   "pygments_lexer": "ipython3",
   "version": "3.7.3"
  }
 },
 "nbformat": 4,
 "nbformat_minor": 4
}
