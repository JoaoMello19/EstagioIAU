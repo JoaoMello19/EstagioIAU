{
 "cells": [
  {
   "cell_type": "code",
   "execution_count": 1,
   "metadata": {},
   "outputs": [],
   "source": [
    "import plotly.offline as py\n",
    "import plotly.graph_objs as go"
   ]
  },
  {
   "cell_type": "code",
   "execution_count": 41,
   "metadata": {},
   "outputs": [],
   "source": [
    "import MyUtil, MyClasses\n",
    "from collections import defaultdict\n",
    "\n",
    "PATH = 'dados_arquitetura_'\n",
    "ANOS = ['2017', '2018', '2019']\n",
    "COLORS = {'total': '#0000ff', 'publicacao': '#00FF00', 'periodico': '#FF0000', 'primeiro_autor': '#FFFF00'}\n",
    "TITLES = {'total': '', 'publicacao': 'com Publicação', 'periodico': 'com Periódico',\n",
    "          'primeiro_autor': 'com Periódico como Primeiro Autor'}\n",
    "\n",
    "\n",
    "def read_trabalhos(filepath):\n",
    "    registers = MyUtil.read_file('trabalhos_conclusao.xlsx', filepath)\n",
    "    trabalhos = defaultdict(lambda: defaultdict(lambda: set()))\n",
    "\n",
    "    for row in registers:\n",
    "        # trabalhos[code][tipo].add(autor)\n",
    "        trabalhos[row[3]][row[10]].add(row[9])\n",
    "\n",
    "    return trabalhos\n",
    "\n",
    "\n",
    "def read_producao(file_name):\n",
    "    producoes = list()\n",
    "    with open(file_name, encoding='Latin-1') as file:    # abre o .tsv\n",
    "        for row in file:\n",
    "            cells = str(row).split('\\t')\n",
    "            if 'periodicos' in file_name:\n",
    "                producao = MyClasses.Periodico(*cells[:29]) \n",
    "                producao.add_authors(*cells[29:-1])\n",
    "            else:\n",
    "                producao = MyClasses.Conferencias(*cells[:32])\n",
    "                producao.add_authors(*cells[32:-1])\n",
    "            \n",
    "            producoes.append(producao)\n",
    "    del producoes[0]\n",
    "    return producoes\n",
    "\n",
    "\n",
    "def get_by_type(trabalhos, tipo):\n",
    "    result = defaultdict(lambda: list())\n",
    "    for code in trabalhos:\n",
    "        if len(trabalhos[code][tipo]) > 0:\n",
    "            result[code] = [autor for autor in trabalhos[code][tipo]]\n",
    "    return result\n",
    "\n",
    "\n",
    "def get_autores(producoes):\n",
    "    authors = set()\n",
    "    for producao in producoes:\n",
    "        for author in producao.authors:\n",
    "            authors.add(author['nome'])\n",
    "    return authors\n",
    "\n",
    "\n",
    "def get_primeiros_autores(producoes):\n",
    "    return {producao.authors[0]['nome'] for producao in producoes if len(producao.authors) > 0}\n",
    "\n",
    "\n",
    "def get_formandos_publicacao(formandos, *autores):\n",
    "    formandos_publicacao = dict()\n",
    "    for code in formandos.keys():\n",
    "        formandos_publicacao[code] = len([formando for formando in formandos[code] if formando in autores])\n",
    "    return formandos_publicacao\n",
    "\n",
    "\n",
    "def get_formandos(trabalhos, tipo):\n",
    "    # lista dos formandos\n",
    "    formandos = get_by_type(trabalhos, 'TESE' if tipo == 'doutores' else 'DISSERTAÇÃO')     # {code: nomes}\n",
    "\n",
    "    # calculos dos tipos de agrupamento de dados\n",
    "    count_formandos = {code: len(formandos) for code, formandos in formandos.items()}\n",
    "    formandos_publicacao = get_formandos_publicacao(formandos, *autores_conferencias, *autores_periodicos)\n",
    "    formandos_periodico = get_formandos_publicacao(formandos, *autores_periodicos)\n",
    "    formandos_periodico_primeiro = get_formandos_publicacao(formandos, *primeiros_autores_periodicos)\n",
    "\n",
    "    # estruturas final\n",
    "    tipos_formandos = defaultdict(lambda: {\n",
    "        'total': 0,\n",
    "        'publicacao': 0,\n",
    "        'periodico': 0,\n",
    "        'primeiro_autor': 0\n",
    "    })\n",
    "\n",
    "    for code in formandos.keys():\n",
    "        new_code = code\n",
    "        if code in programas_nivel.keys():\n",
    "            new_code = programas_nivel[code]\n",
    "        elif code in programas.keys():\n",
    "            new_code = programas[code]\n",
    "\n",
    "        tipos_formandos[new_code]['total'] += count_formandos[code]\n",
    "        tipos_formandos[new_code]['publicacao'] += formandos_publicacao[code]\n",
    "        tipos_formandos[new_code]['periodico'] += formandos_periodico[code]\n",
    "        tipos_formandos[new_code]['primeiro_autor'] += formandos_periodico_primeiro[code]\n",
    "\n",
    "    return tipos_formandos\n",
    "\n",
    "\n",
    "def make_chart(chart_data, chart_title):\n",
    "    data = list()\n",
    "    aux_label = 'Doutor' if 'Doutores' in chart_title else 'Mestre'\n",
    "    for dado in ('primeiro_autor', 'periodico', 'publicacao', 'total'):\n",
    "        data.append(go.Bar(x=list(chart_data.keys()),\n",
    "                           y=[d_f[dado] for d_f in chart_data.values()],\n",
    "                           text=['<b>'+'{0:.2f}'.format(d_f[dado])+'</b>' for d_f in chart_data.values()],\n",
    "                           textposition='outside',\n",
    "                           marker_color=COLORS[dado],\n",
    "                           name=f'{aux_label} {TITLES[dado]}'))\n",
    "\n",
    "    title = {\n",
    "        'text': chart_title,\n",
    "        'x': 0.5,\n",
    "        'xanchor': 'center',\n",
    "        'font': {\n",
    "            'color': '#000000',\n",
    "            'size': 50\n",
    "        }\n",
    "    }\n",
    "\n",
    "    legend = {\n",
    "        'font': {'color': '#000000'},\n",
    "        'orientation': 'v',\n",
    "        'x': 0,\n",
    "        'y': 1\n",
    "    }\n",
    "    \n",
    "    width=len(chart_data.values())*100\n",
    "    print(width)\n",
    "    layout = go.Layout(title=title,\n",
    "                       xaxis={'title': 'Instituição'},\n",
    "                       legend=legend,\n",
    "                       height=width/2,\n",
    "                       font_size=width/150,\n",
    "                       width=width)\n",
    "\n",
    "    fig = go.Figure(data=data, layout=layout)\n",
    "    py.iplot(fig)\n",
    "\n",
    "\n",
    "def sort_dict(dict_to_sort):\n",
    "    return {value[0]: value[1] for value in sorted(dict_to_sort.items(), key=lambda item: item[1]['total'])}\n",
    "\n",
    "list_trabalhos=dict()\n",
    "periodicos=[]\n",
    "conferencias=[]\n",
    "programas=dict()\n",
    "\n",
    "for ano in ANOS:             \n",
    "    list_trabalhos_add = read_trabalhos(PATH+ano+'/')\n",
    "    for programa in list_trabalhos_add:\n",
    "        if programa in list_trabalhos:\n",
    "            list_trabalhos_programa = list_trabalhos_add[programa]\n",
    "            for tipo in list_trabalhos_programa:\n",
    "                if tipo in list_trabalhos[programa]:\n",
    "                    list_trabalhos[programa][tipo].update(list_trabalhos_programa[tipo])\n",
    "                else:\n",
    "                    list_trabalhos[programa][tipo] = list_trabalhos_programa[tipo]\n",
    "        else:\n",
    "            list_trabalhos[programa] = list_trabalhos_add[programa]\n",
    "    programas.update(MyUtil.read_programas(PATH+ano+'/'))\n",
    "    periodicos.extend(read_producao(PATH+ano+'/periodicos.tsv'))\n",
    "    conferencias.extend(read_producao(PATH+ano+'/conferencias.tsv'))\n",
    "\n",
    "programas_nivel = MyUtil.read_programas_nivel()\n",
    "\n",
    "# autores das publicacoes\n",
    "autores_conferencias = get_autores(conferencias)\n",
    "autores_periodicos = get_autores(periodicos)\n",
    "\n",
    "# apenas os primeiros autores\n",
    "primeiros_autores_periodicos = get_primeiros_autores(periodicos)\n",
    "\n",
    "# dados agrupados\n",
    "doutores_formandos = sort_dict(get_formandos(list_trabalhos, 'doutores'))\n",
    "\n",
    "mestres_formandos = sort_dict(get_formandos(list_trabalhos, 'mestres'))\n",
    "\n"
   ]
  },
  {
   "cell_type": "code",
   "execution_count": 42,
   "metadata": {},
   "outputs": [
    {
     "name": "stdout",
     "output_type": "stream",
     "text": [
      "2600\n"
     ]
    },
    {
     "data": {
      "application/vnd.plotly.v1+json": {
       "config": {
        "linkText": "Export to plot.ly",
        "plotlyServerURL": "https://plot.ly",
        "showLink": false
       },
       "data": [
        {
         "marker": {
          "color": "#FFFF00"
         },
         "name": "Doutor com Periódico como Primeiro Autor",
         "text": [
          "<b>0.00</b>",
          "<b>1.00</b>",
          "<b>6.00</b>",
          "<b>6.00</b>",
          "<b>5.00</b>",
          "<b>7.00</b>",
          "<b>8.00</b>",
          "<b>2.00</b>",
          "<b>3.00</b>",
          "<b>14.00</b>",
          "<b>9.00</b>",
          "<b>10.00</b>",
          "<b>12.00</b>",
          "<b>7.00</b>",
          "<b>6.00</b>",
          "<b>17.00</b>",
          "<b>5.00</b>",
          "<b>15.00</b>",
          "<b>16.00</b>",
          "<b>5.00</b>",
          "<b>14.00</b>",
          "<b>12.00</b>",
          "<b>1.00</b>",
          "<b>5.00</b>",
          "<b>14.00</b>",
          "<b>29.00</b>"
         ],
         "textposition": "outside",
         "type": "bar",
         "x": [
          "USP-D",
          "UFPB-JP-AEU-4",
          "UEMG-D-5",
          "UAM-D-5",
          "UNICAMP-ATeC-5",
          "PUCCAMP-AeU-5",
          "UNESP-BAURU-D-6",
          "UFAL-DDEH-3",
          "UFRGS-A-4",
          "UFSC-D-5",
          "UFRN-AEU-4",
          "UFSC-AEU-5",
          "UFPR-D-4",
          "UFBA-AEU-4",
          "UFF-AEU-4",
          "UPM-AEU-6",
          "UERJ-D-4",
          "UFRJ-A-6",
          "UFMG-AEU-6",
          "UNB-AEU-4",
          "UFRGS-D-5",
          "USP/SC-AEU-4",
          "UFPE-D-4",
          "UFRJ-U-5",
          "PUC-RIO-D-5",
          "USP-AEU-4"
         ],
         "y": [
          0,
          1,
          6,
          6,
          5,
          7,
          8,
          2,
          3,
          14,
          9,
          10,
          12,
          7,
          6,
          17,
          5,
          15,
          16,
          5,
          14,
          12,
          1,
          5,
          14,
          29
         ]
        },
        {
         "marker": {
          "color": "#FF0000"
         },
         "name": "Doutor com Periódico",
         "text": [
          "<b>0.00</b>",
          "<b>3.00</b>",
          "<b>6.00</b>",
          "<b>7.00</b>",
          "<b>6.00</b>",
          "<b>8.00</b>",
          "<b>11.00</b>",
          "<b>3.00</b>",
          "<b>4.00</b>",
          "<b>16.00</b>",
          "<b>10.00</b>",
          "<b>12.00</b>",
          "<b>19.00</b>",
          "<b>9.00</b>",
          "<b>8.00</b>",
          "<b>18.00</b>",
          "<b>5.00</b>",
          "<b>18.00</b>",
          "<b>19.00</b>",
          "<b>5.00</b>",
          "<b>18.00</b>",
          "<b>14.00</b>",
          "<b>2.00</b>",
          "<b>10.00</b>",
          "<b>21.00</b>",
          "<b>35.00</b>"
         ],
         "textposition": "outside",
         "type": "bar",
         "x": [
          "USP-D",
          "UFPB-JP-AEU-4",
          "UEMG-D-5",
          "UAM-D-5",
          "UNICAMP-ATeC-5",
          "PUCCAMP-AeU-5",
          "UNESP-BAURU-D-6",
          "UFAL-DDEH-3",
          "UFRGS-A-4",
          "UFSC-D-5",
          "UFRN-AEU-4",
          "UFSC-AEU-5",
          "UFPR-D-4",
          "UFBA-AEU-4",
          "UFF-AEU-4",
          "UPM-AEU-6",
          "UERJ-D-4",
          "UFRJ-A-6",
          "UFMG-AEU-6",
          "UNB-AEU-4",
          "UFRGS-D-5",
          "USP/SC-AEU-4",
          "UFPE-D-4",
          "UFRJ-U-5",
          "PUC-RIO-D-5",
          "USP-AEU-4"
         ],
         "y": [
          0,
          3,
          6,
          7,
          6,
          8,
          11,
          3,
          4,
          16,
          10,
          12,
          19,
          9,
          8,
          18,
          5,
          18,
          19,
          5,
          18,
          14,
          2,
          10,
          21,
          35
         ]
        },
        {
         "marker": {
          "color": "#00FF00"
         },
         "name": "Doutor com Publicação",
         "text": [
          "<b>3.00</b>",
          "<b>6.00</b>",
          "<b>9.00</b>",
          "<b>10.00</b>",
          "<b>14.00</b>",
          "<b>13.00</b>",
          "<b>14.00</b>",
          "<b>10.00</b>",
          "<b>11.00</b>",
          "<b>21.00</b>",
          "<b>23.00</b>",
          "<b>17.00</b>",
          "<b>25.00</b>",
          "<b>20.00</b>",
          "<b>21.00</b>",
          "<b>27.00</b>",
          "<b>11.00</b>",
          "<b>30.00</b>",
          "<b>29.00</b>",
          "<b>16.00</b>",
          "<b>22.00</b>",
          "<b>26.00</b>",
          "<b>14.00</b>",
          "<b>23.00</b>",
          "<b>29.00</b>",
          "<b>77.00</b>"
         ],
         "textposition": "outside",
         "type": "bar",
         "x": [
          "USP-D",
          "UFPB-JP-AEU-4",
          "UEMG-D-5",
          "UAM-D-5",
          "UNICAMP-ATeC-5",
          "PUCCAMP-AeU-5",
          "UNESP-BAURU-D-6",
          "UFAL-DDEH-3",
          "UFRGS-A-4",
          "UFSC-D-5",
          "UFRN-AEU-4",
          "UFSC-AEU-5",
          "UFPR-D-4",
          "UFBA-AEU-4",
          "UFF-AEU-4",
          "UPM-AEU-6",
          "UERJ-D-4",
          "UFRJ-A-6",
          "UFMG-AEU-6",
          "UNB-AEU-4",
          "UFRGS-D-5",
          "USP/SC-AEU-4",
          "UFPE-D-4",
          "UFRJ-U-5",
          "PUC-RIO-D-5",
          "USP-AEU-4"
         ],
         "y": [
          3,
          6,
          9,
          10,
          14,
          13,
          14,
          10,
          11,
          21,
          23,
          17,
          25,
          20,
          21,
          27,
          11,
          30,
          29,
          16,
          22,
          26,
          14,
          23,
          29,
          77
         ]
        },
        {
         "marker": {
          "color": "#0000ff"
         },
         "name": "Doutor ",
         "text": [
          "<b>3.00</b>",
          "<b>8.00</b>",
          "<b>10.00</b>",
          "<b>15.00</b>",
          "<b>17.00</b>",
          "<b>20.00</b>",
          "<b>20.00</b>",
          "<b>23.00</b>",
          "<b>24.00</b>",
          "<b>24.00</b>",
          "<b>27.00</b>",
          "<b>27.00</b>",
          "<b>31.00</b>",
          "<b>32.00</b>",
          "<b>34.00</b>",
          "<b>34.00</b>",
          "<b>34.00</b>",
          "<b>37.00</b>",
          "<b>37.00</b>",
          "<b>37.00</b>",
          "<b>38.00</b>",
          "<b>40.00</b>",
          "<b>40.00</b>",
          "<b>40.00</b>",
          "<b>52.00</b>",
          "<b>143.00</b>"
         ],
         "textposition": "outside",
         "type": "bar",
         "x": [
          "USP-D",
          "UFPB-JP-AEU-4",
          "UEMG-D-5",
          "UAM-D-5",
          "UNICAMP-ATeC-5",
          "PUCCAMP-AeU-5",
          "UNESP-BAURU-D-6",
          "UFAL-DDEH-3",
          "UFRGS-A-4",
          "UFSC-D-5",
          "UFRN-AEU-4",
          "UFSC-AEU-5",
          "UFPR-D-4",
          "UFBA-AEU-4",
          "UFF-AEU-4",
          "UPM-AEU-6",
          "UERJ-D-4",
          "UFRJ-A-6",
          "UFMG-AEU-6",
          "UNB-AEU-4",
          "UFRGS-D-5",
          "USP/SC-AEU-4",
          "UFPE-D-4",
          "UFRJ-U-5",
          "PUC-RIO-D-5",
          "USP-AEU-4"
         ],
         "y": [
          3,
          8,
          10,
          15,
          17,
          20,
          20,
          23,
          24,
          24,
          27,
          27,
          31,
          32,
          34,
          34,
          34,
          37,
          37,
          37,
          38,
          40,
          40,
          40,
          52,
          143
         ]
        }
       ],
       "layout": {
        "font": {
         "size": 17.333333333333332
        },
        "height": 1300,
        "legend": {
         "font": {
          "color": "#000000"
         },
         "orientation": "v",
         "x": 0,
         "y": 1
        },
        "template": {
         "data": {
          "bar": [
           {
            "error_x": {
             "color": "#2a3f5f"
            },
            "error_y": {
             "color": "#2a3f5f"
            },
            "marker": {
             "line": {
              "color": "#E5ECF6",
              "width": 0.5
             }
            },
            "type": "bar"
           }
          ],
          "barpolar": [
           {
            "marker": {
             "line": {
              "color": "#E5ECF6",
              "width": 0.5
             }
            },
            "type": "barpolar"
           }
          ],
          "carpet": [
           {
            "aaxis": {
             "endlinecolor": "#2a3f5f",
             "gridcolor": "white",
             "linecolor": "white",
             "minorgridcolor": "white",
             "startlinecolor": "#2a3f5f"
            },
            "baxis": {
             "endlinecolor": "#2a3f5f",
             "gridcolor": "white",
             "linecolor": "white",
             "minorgridcolor": "white",
             "startlinecolor": "#2a3f5f"
            },
            "type": "carpet"
           }
          ],
          "choropleth": [
           {
            "colorbar": {
             "outlinewidth": 0,
             "ticks": ""
            },
            "type": "choropleth"
           }
          ],
          "contour": [
           {
            "colorbar": {
             "outlinewidth": 0,
             "ticks": ""
            },
            "colorscale": [
             [
              0,
              "#0d0887"
             ],
             [
              0.1111111111111111,
              "#46039f"
             ],
             [
              0.2222222222222222,
              "#7201a8"
             ],
             [
              0.3333333333333333,
              "#9c179e"
             ],
             [
              0.4444444444444444,
              "#bd3786"
             ],
             [
              0.5555555555555556,
              "#d8576b"
             ],
             [
              0.6666666666666666,
              "#ed7953"
             ],
             [
              0.7777777777777778,
              "#fb9f3a"
             ],
             [
              0.8888888888888888,
              "#fdca26"
             ],
             [
              1,
              "#f0f921"
             ]
            ],
            "type": "contour"
           }
          ],
          "contourcarpet": [
           {
            "colorbar": {
             "outlinewidth": 0,
             "ticks": ""
            },
            "type": "contourcarpet"
           }
          ],
          "heatmap": [
           {
            "colorbar": {
             "outlinewidth": 0,
             "ticks": ""
            },
            "colorscale": [
             [
              0,
              "#0d0887"
             ],
             [
              0.1111111111111111,
              "#46039f"
             ],
             [
              0.2222222222222222,
              "#7201a8"
             ],
             [
              0.3333333333333333,
              "#9c179e"
             ],
             [
              0.4444444444444444,
              "#bd3786"
             ],
             [
              0.5555555555555556,
              "#d8576b"
             ],
             [
              0.6666666666666666,
              "#ed7953"
             ],
             [
              0.7777777777777778,
              "#fb9f3a"
             ],
             [
              0.8888888888888888,
              "#fdca26"
             ],
             [
              1,
              "#f0f921"
             ]
            ],
            "type": "heatmap"
           }
          ],
          "heatmapgl": [
           {
            "colorbar": {
             "outlinewidth": 0,
             "ticks": ""
            },
            "colorscale": [
             [
              0,
              "#0d0887"
             ],
             [
              0.1111111111111111,
              "#46039f"
             ],
             [
              0.2222222222222222,
              "#7201a8"
             ],
             [
              0.3333333333333333,
              "#9c179e"
             ],
             [
              0.4444444444444444,
              "#bd3786"
             ],
             [
              0.5555555555555556,
              "#d8576b"
             ],
             [
              0.6666666666666666,
              "#ed7953"
             ],
             [
              0.7777777777777778,
              "#fb9f3a"
             ],
             [
              0.8888888888888888,
              "#fdca26"
             ],
             [
              1,
              "#f0f921"
             ]
            ],
            "type": "heatmapgl"
           }
          ],
          "histogram": [
           {
            "marker": {
             "colorbar": {
              "outlinewidth": 0,
              "ticks": ""
             }
            },
            "type": "histogram"
           }
          ],
          "histogram2d": [
           {
            "colorbar": {
             "outlinewidth": 0,
             "ticks": ""
            },
            "colorscale": [
             [
              0,
              "#0d0887"
             ],
             [
              0.1111111111111111,
              "#46039f"
             ],
             [
              0.2222222222222222,
              "#7201a8"
             ],
             [
              0.3333333333333333,
              "#9c179e"
             ],
             [
              0.4444444444444444,
              "#bd3786"
             ],
             [
              0.5555555555555556,
              "#d8576b"
             ],
             [
              0.6666666666666666,
              "#ed7953"
             ],
             [
              0.7777777777777778,
              "#fb9f3a"
             ],
             [
              0.8888888888888888,
              "#fdca26"
             ],
             [
              1,
              "#f0f921"
             ]
            ],
            "type": "histogram2d"
           }
          ],
          "histogram2dcontour": [
           {
            "colorbar": {
             "outlinewidth": 0,
             "ticks": ""
            },
            "colorscale": [
             [
              0,
              "#0d0887"
             ],
             [
              0.1111111111111111,
              "#46039f"
             ],
             [
              0.2222222222222222,
              "#7201a8"
             ],
             [
              0.3333333333333333,
              "#9c179e"
             ],
             [
              0.4444444444444444,
              "#bd3786"
             ],
             [
              0.5555555555555556,
              "#d8576b"
             ],
             [
              0.6666666666666666,
              "#ed7953"
             ],
             [
              0.7777777777777778,
              "#fb9f3a"
             ],
             [
              0.8888888888888888,
              "#fdca26"
             ],
             [
              1,
              "#f0f921"
             ]
            ],
            "type": "histogram2dcontour"
           }
          ],
          "mesh3d": [
           {
            "colorbar": {
             "outlinewidth": 0,
             "ticks": ""
            },
            "type": "mesh3d"
           }
          ],
          "parcoords": [
           {
            "line": {
             "colorbar": {
              "outlinewidth": 0,
              "ticks": ""
             }
            },
            "type": "parcoords"
           }
          ],
          "pie": [
           {
            "automargin": true,
            "type": "pie"
           }
          ],
          "scatter": [
           {
            "marker": {
             "colorbar": {
              "outlinewidth": 0,
              "ticks": ""
             }
            },
            "type": "scatter"
           }
          ],
          "scatter3d": [
           {
            "line": {
             "colorbar": {
              "outlinewidth": 0,
              "ticks": ""
             }
            },
            "marker": {
             "colorbar": {
              "outlinewidth": 0,
              "ticks": ""
             }
            },
            "type": "scatter3d"
           }
          ],
          "scattercarpet": [
           {
            "marker": {
             "colorbar": {
              "outlinewidth": 0,
              "ticks": ""
             }
            },
            "type": "scattercarpet"
           }
          ],
          "scattergeo": [
           {
            "marker": {
             "colorbar": {
              "outlinewidth": 0,
              "ticks": ""
             }
            },
            "type": "scattergeo"
           }
          ],
          "scattergl": [
           {
            "marker": {
             "colorbar": {
              "outlinewidth": 0,
              "ticks": ""
             }
            },
            "type": "scattergl"
           }
          ],
          "scattermapbox": [
           {
            "marker": {
             "colorbar": {
              "outlinewidth": 0,
              "ticks": ""
             }
            },
            "type": "scattermapbox"
           }
          ],
          "scatterpolar": [
           {
            "marker": {
             "colorbar": {
              "outlinewidth": 0,
              "ticks": ""
             }
            },
            "type": "scatterpolar"
           }
          ],
          "scatterpolargl": [
           {
            "marker": {
             "colorbar": {
              "outlinewidth": 0,
              "ticks": ""
             }
            },
            "type": "scatterpolargl"
           }
          ],
          "scatterternary": [
           {
            "marker": {
             "colorbar": {
              "outlinewidth": 0,
              "ticks": ""
             }
            },
            "type": "scatterternary"
           }
          ],
          "surface": [
           {
            "colorbar": {
             "outlinewidth": 0,
             "ticks": ""
            },
            "colorscale": [
             [
              0,
              "#0d0887"
             ],
             [
              0.1111111111111111,
              "#46039f"
             ],
             [
              0.2222222222222222,
              "#7201a8"
             ],
             [
              0.3333333333333333,
              "#9c179e"
             ],
             [
              0.4444444444444444,
              "#bd3786"
             ],
             [
              0.5555555555555556,
              "#d8576b"
             ],
             [
              0.6666666666666666,
              "#ed7953"
             ],
             [
              0.7777777777777778,
              "#fb9f3a"
             ],
             [
              0.8888888888888888,
              "#fdca26"
             ],
             [
              1,
              "#f0f921"
             ]
            ],
            "type": "surface"
           }
          ],
          "table": [
           {
            "cells": {
             "fill": {
              "color": "#EBF0F8"
             },
             "line": {
              "color": "white"
             }
            },
            "header": {
             "fill": {
              "color": "#C8D4E3"
             },
             "line": {
              "color": "white"
             }
            },
            "type": "table"
           }
          ]
         },
         "layout": {
          "annotationdefaults": {
           "arrowcolor": "#2a3f5f",
           "arrowhead": 0,
           "arrowwidth": 1
          },
          "coloraxis": {
           "colorbar": {
            "outlinewidth": 0,
            "ticks": ""
           }
          },
          "colorscale": {
           "diverging": [
            [
             0,
             "#8e0152"
            ],
            [
             0.1,
             "#c51b7d"
            ],
            [
             0.2,
             "#de77ae"
            ],
            [
             0.3,
             "#f1b6da"
            ],
            [
             0.4,
             "#fde0ef"
            ],
            [
             0.5,
             "#f7f7f7"
            ],
            [
             0.6,
             "#e6f5d0"
            ],
            [
             0.7,
             "#b8e186"
            ],
            [
             0.8,
             "#7fbc41"
            ],
            [
             0.9,
             "#4d9221"
            ],
            [
             1,
             "#276419"
            ]
           ],
           "sequential": [
            [
             0,
             "#0d0887"
            ],
            [
             0.1111111111111111,
             "#46039f"
            ],
            [
             0.2222222222222222,
             "#7201a8"
            ],
            [
             0.3333333333333333,
             "#9c179e"
            ],
            [
             0.4444444444444444,
             "#bd3786"
            ],
            [
             0.5555555555555556,
             "#d8576b"
            ],
            [
             0.6666666666666666,
             "#ed7953"
            ],
            [
             0.7777777777777778,
             "#fb9f3a"
            ],
            [
             0.8888888888888888,
             "#fdca26"
            ],
            [
             1,
             "#f0f921"
            ]
           ],
           "sequentialminus": [
            [
             0,
             "#0d0887"
            ],
            [
             0.1111111111111111,
             "#46039f"
            ],
            [
             0.2222222222222222,
             "#7201a8"
            ],
            [
             0.3333333333333333,
             "#9c179e"
            ],
            [
             0.4444444444444444,
             "#bd3786"
            ],
            [
             0.5555555555555556,
             "#d8576b"
            ],
            [
             0.6666666666666666,
             "#ed7953"
            ],
            [
             0.7777777777777778,
             "#fb9f3a"
            ],
            [
             0.8888888888888888,
             "#fdca26"
            ],
            [
             1,
             "#f0f921"
            ]
           ]
          },
          "colorway": [
           "#636efa",
           "#EF553B",
           "#00cc96",
           "#ab63fa",
           "#FFA15A",
           "#19d3f3",
           "#FF6692",
           "#B6E880",
           "#FF97FF",
           "#FECB52"
          ],
          "font": {
           "color": "#2a3f5f"
          },
          "geo": {
           "bgcolor": "white",
           "lakecolor": "white",
           "landcolor": "#E5ECF6",
           "showlakes": true,
           "showland": true,
           "subunitcolor": "white"
          },
          "hoverlabel": {
           "align": "left"
          },
          "hovermode": "closest",
          "mapbox": {
           "style": "light"
          },
          "paper_bgcolor": "white",
          "plot_bgcolor": "#E5ECF6",
          "polar": {
           "angularaxis": {
            "gridcolor": "white",
            "linecolor": "white",
            "ticks": ""
           },
           "bgcolor": "#E5ECF6",
           "radialaxis": {
            "gridcolor": "white",
            "linecolor": "white",
            "ticks": ""
           }
          },
          "scene": {
           "xaxis": {
            "backgroundcolor": "#E5ECF6",
            "gridcolor": "white",
            "gridwidth": 2,
            "linecolor": "white",
            "showbackground": true,
            "ticks": "",
            "zerolinecolor": "white"
           },
           "yaxis": {
            "backgroundcolor": "#E5ECF6",
            "gridcolor": "white",
            "gridwidth": 2,
            "linecolor": "white",
            "showbackground": true,
            "ticks": "",
            "zerolinecolor": "white"
           },
           "zaxis": {
            "backgroundcolor": "#E5ECF6",
            "gridcolor": "white",
            "gridwidth": 2,
            "linecolor": "white",
            "showbackground": true,
            "ticks": "",
            "zerolinecolor": "white"
           }
          },
          "shapedefaults": {
           "line": {
            "color": "#2a3f5f"
           }
          },
          "ternary": {
           "aaxis": {
            "gridcolor": "white",
            "linecolor": "white",
            "ticks": ""
           },
           "baxis": {
            "gridcolor": "white",
            "linecolor": "white",
            "ticks": ""
           },
           "bgcolor": "#E5ECF6",
           "caxis": {
            "gridcolor": "white",
            "linecolor": "white",
            "ticks": ""
           }
          },
          "title": {
           "x": 0.05
          },
          "xaxis": {
           "automargin": true,
           "gridcolor": "white",
           "linecolor": "white",
           "ticks": "",
           "title": {
            "standoff": 15
           },
           "zerolinecolor": "white",
           "zerolinewidth": 2
          },
          "yaxis": {
           "automargin": true,
           "gridcolor": "white",
           "linecolor": "white",
           "ticks": "",
           "title": {
            "standoff": 15
           },
           "zerolinecolor": "white",
           "zerolinewidth": 2
          }
         }
        },
        "title": {
         "font": {
          "color": "#000000",
          "size": 50
         },
         "text": "Doutores Formandos (2017, 2018, 2019)",
         "x": 0.5,
         "xanchor": "center"
        },
        "width": 2600,
        "xaxis": {
         "title": {
          "text": "Instituição"
         }
        }
       }
      },
      "text/html": [
       "<div>                            <div id=\"fbafd79e-5012-4021-aac3-6d28da7dd9c3\" class=\"plotly-graph-div\" style=\"height:1300.0px; width:2600px;\"></div>            <script type=\"text/javascript\">                require([\"plotly\"], function(Plotly) {                    window.PLOTLYENV=window.PLOTLYENV || {};                                    if (document.getElementById(\"fbafd79e-5012-4021-aac3-6d28da7dd9c3\")) {                    Plotly.newPlot(                        \"fbafd79e-5012-4021-aac3-6d28da7dd9c3\",                        [{\"marker\": {\"color\": \"#FFFF00\"}, \"name\": \"Doutor com Peri\\u00f3dico como Primeiro Autor\", \"text\": [\"<b>0.00</b>\", \"<b>1.00</b>\", \"<b>6.00</b>\", \"<b>6.00</b>\", \"<b>5.00</b>\", \"<b>7.00</b>\", \"<b>8.00</b>\", \"<b>2.00</b>\", \"<b>3.00</b>\", \"<b>14.00</b>\", \"<b>9.00</b>\", \"<b>10.00</b>\", \"<b>12.00</b>\", \"<b>7.00</b>\", \"<b>6.00</b>\", \"<b>17.00</b>\", \"<b>5.00</b>\", \"<b>15.00</b>\", \"<b>16.00</b>\", \"<b>5.00</b>\", \"<b>14.00</b>\", \"<b>12.00</b>\", \"<b>1.00</b>\", \"<b>5.00</b>\", \"<b>14.00</b>\", \"<b>29.00</b>\"], \"textposition\": \"outside\", \"type\": \"bar\", \"x\": [\"USP-D\", \"UFPB-JP-AEU-4\", \"UEMG-D-5\", \"UAM-D-5\", \"UNICAMP-ATeC-5\", \"PUCCAMP-AeU-5\", \"UNESP-BAURU-D-6\", \"UFAL-DDEH-3\", \"UFRGS-A-4\", \"UFSC-D-5\", \"UFRN-AEU-4\", \"UFSC-AEU-5\", \"UFPR-D-4\", \"UFBA-AEU-4\", \"UFF-AEU-4\", \"UPM-AEU-6\", \"UERJ-D-4\", \"UFRJ-A-6\", \"UFMG-AEU-6\", \"UNB-AEU-4\", \"UFRGS-D-5\", \"USP/SC-AEU-4\", \"UFPE-D-4\", \"UFRJ-U-5\", \"PUC-RIO-D-5\", \"USP-AEU-4\"], \"y\": [0, 1, 6, 6, 5, 7, 8, 2, 3, 14, 9, 10, 12, 7, 6, 17, 5, 15, 16, 5, 14, 12, 1, 5, 14, 29]}, {\"marker\": {\"color\": \"#FF0000\"}, \"name\": \"Doutor com Peri\\u00f3dico\", \"text\": [\"<b>0.00</b>\", \"<b>3.00</b>\", \"<b>6.00</b>\", \"<b>7.00</b>\", \"<b>6.00</b>\", \"<b>8.00</b>\", \"<b>11.00</b>\", \"<b>3.00</b>\", \"<b>4.00</b>\", \"<b>16.00</b>\", \"<b>10.00</b>\", \"<b>12.00</b>\", \"<b>19.00</b>\", \"<b>9.00</b>\", \"<b>8.00</b>\", \"<b>18.00</b>\", \"<b>5.00</b>\", \"<b>18.00</b>\", \"<b>19.00</b>\", \"<b>5.00</b>\", \"<b>18.00</b>\", \"<b>14.00</b>\", \"<b>2.00</b>\", \"<b>10.00</b>\", \"<b>21.00</b>\", \"<b>35.00</b>\"], \"textposition\": \"outside\", \"type\": \"bar\", \"x\": [\"USP-D\", \"UFPB-JP-AEU-4\", \"UEMG-D-5\", \"UAM-D-5\", \"UNICAMP-ATeC-5\", \"PUCCAMP-AeU-5\", \"UNESP-BAURU-D-6\", \"UFAL-DDEH-3\", \"UFRGS-A-4\", \"UFSC-D-5\", \"UFRN-AEU-4\", \"UFSC-AEU-5\", \"UFPR-D-4\", \"UFBA-AEU-4\", \"UFF-AEU-4\", \"UPM-AEU-6\", \"UERJ-D-4\", \"UFRJ-A-6\", \"UFMG-AEU-6\", \"UNB-AEU-4\", \"UFRGS-D-5\", \"USP/SC-AEU-4\", \"UFPE-D-4\", \"UFRJ-U-5\", \"PUC-RIO-D-5\", \"USP-AEU-4\"], \"y\": [0, 3, 6, 7, 6, 8, 11, 3, 4, 16, 10, 12, 19, 9, 8, 18, 5, 18, 19, 5, 18, 14, 2, 10, 21, 35]}, {\"marker\": {\"color\": \"#00FF00\"}, \"name\": \"Doutor com Publica\\u00e7\\u00e3o\", \"text\": [\"<b>3.00</b>\", \"<b>6.00</b>\", \"<b>9.00</b>\", \"<b>10.00</b>\", \"<b>14.00</b>\", \"<b>13.00</b>\", \"<b>14.00</b>\", \"<b>10.00</b>\", \"<b>11.00</b>\", \"<b>21.00</b>\", \"<b>23.00</b>\", \"<b>17.00</b>\", \"<b>25.00</b>\", \"<b>20.00</b>\", \"<b>21.00</b>\", \"<b>27.00</b>\", \"<b>11.00</b>\", \"<b>30.00</b>\", \"<b>29.00</b>\", \"<b>16.00</b>\", \"<b>22.00</b>\", \"<b>26.00</b>\", \"<b>14.00</b>\", \"<b>23.00</b>\", \"<b>29.00</b>\", \"<b>77.00</b>\"], \"textposition\": \"outside\", \"type\": \"bar\", \"x\": [\"USP-D\", \"UFPB-JP-AEU-4\", \"UEMG-D-5\", \"UAM-D-5\", \"UNICAMP-ATeC-5\", \"PUCCAMP-AeU-5\", \"UNESP-BAURU-D-6\", \"UFAL-DDEH-3\", \"UFRGS-A-4\", \"UFSC-D-5\", \"UFRN-AEU-4\", \"UFSC-AEU-5\", \"UFPR-D-4\", \"UFBA-AEU-4\", \"UFF-AEU-4\", \"UPM-AEU-6\", \"UERJ-D-4\", \"UFRJ-A-6\", \"UFMG-AEU-6\", \"UNB-AEU-4\", \"UFRGS-D-5\", \"USP/SC-AEU-4\", \"UFPE-D-4\", \"UFRJ-U-5\", \"PUC-RIO-D-5\", \"USP-AEU-4\"], \"y\": [3, 6, 9, 10, 14, 13, 14, 10, 11, 21, 23, 17, 25, 20, 21, 27, 11, 30, 29, 16, 22, 26, 14, 23, 29, 77]}, {\"marker\": {\"color\": \"#0000ff\"}, \"name\": \"Doutor \", \"text\": [\"<b>3.00</b>\", \"<b>8.00</b>\", \"<b>10.00</b>\", \"<b>15.00</b>\", \"<b>17.00</b>\", \"<b>20.00</b>\", \"<b>20.00</b>\", \"<b>23.00</b>\", \"<b>24.00</b>\", \"<b>24.00</b>\", \"<b>27.00</b>\", \"<b>27.00</b>\", \"<b>31.00</b>\", \"<b>32.00</b>\", \"<b>34.00</b>\", \"<b>34.00</b>\", \"<b>34.00</b>\", \"<b>37.00</b>\", \"<b>37.00</b>\", \"<b>37.00</b>\", \"<b>38.00</b>\", \"<b>40.00</b>\", \"<b>40.00</b>\", \"<b>40.00</b>\", \"<b>52.00</b>\", \"<b>143.00</b>\"], \"textposition\": \"outside\", \"type\": \"bar\", \"x\": [\"USP-D\", \"UFPB-JP-AEU-4\", \"UEMG-D-5\", \"UAM-D-5\", \"UNICAMP-ATeC-5\", \"PUCCAMP-AeU-5\", \"UNESP-BAURU-D-6\", \"UFAL-DDEH-3\", \"UFRGS-A-4\", \"UFSC-D-5\", \"UFRN-AEU-4\", \"UFSC-AEU-5\", \"UFPR-D-4\", \"UFBA-AEU-4\", \"UFF-AEU-4\", \"UPM-AEU-6\", \"UERJ-D-4\", \"UFRJ-A-6\", \"UFMG-AEU-6\", \"UNB-AEU-4\", \"UFRGS-D-5\", \"USP/SC-AEU-4\", \"UFPE-D-4\", \"UFRJ-U-5\", \"PUC-RIO-D-5\", \"USP-AEU-4\"], \"y\": [3, 8, 10, 15, 17, 20, 20, 23, 24, 24, 27, 27, 31, 32, 34, 34, 34, 37, 37, 37, 38, 40, 40, 40, 52, 143]}],                        {\"font\": {\"size\": 17.333333333333332}, \"height\": 1300.0, \"legend\": {\"font\": {\"color\": \"#000000\"}, \"orientation\": \"v\", \"x\": 0, \"y\": 1}, \"template\": {\"data\": {\"bar\": [{\"error_x\": {\"color\": \"#2a3f5f\"}, \"error_y\": {\"color\": \"#2a3f5f\"}, \"marker\": {\"line\": {\"color\": \"#E5ECF6\", \"width\": 0.5}}, \"type\": \"bar\"}], \"barpolar\": [{\"marker\": {\"line\": {\"color\": \"#E5ECF6\", \"width\": 0.5}}, \"type\": \"barpolar\"}], \"carpet\": [{\"aaxis\": {\"endlinecolor\": \"#2a3f5f\", \"gridcolor\": \"white\", \"linecolor\": \"white\", \"minorgridcolor\": \"white\", \"startlinecolor\": \"#2a3f5f\"}, \"baxis\": {\"endlinecolor\": \"#2a3f5f\", \"gridcolor\": \"white\", \"linecolor\": \"white\", \"minorgridcolor\": \"white\", \"startlinecolor\": \"#2a3f5f\"}, \"type\": \"carpet\"}], \"choropleth\": [{\"colorbar\": {\"outlinewidth\": 0, \"ticks\": \"\"}, \"type\": \"choropleth\"}], \"contour\": [{\"colorbar\": {\"outlinewidth\": 0, \"ticks\": \"\"}, \"colorscale\": [[0.0, \"#0d0887\"], [0.1111111111111111, \"#46039f\"], [0.2222222222222222, \"#7201a8\"], [0.3333333333333333, \"#9c179e\"], [0.4444444444444444, \"#bd3786\"], [0.5555555555555556, \"#d8576b\"], [0.6666666666666666, \"#ed7953\"], [0.7777777777777778, \"#fb9f3a\"], [0.8888888888888888, \"#fdca26\"], [1.0, \"#f0f921\"]], \"type\": \"contour\"}], \"contourcarpet\": [{\"colorbar\": {\"outlinewidth\": 0, \"ticks\": \"\"}, \"type\": \"contourcarpet\"}], \"heatmap\": [{\"colorbar\": {\"outlinewidth\": 0, \"ticks\": \"\"}, \"colorscale\": [[0.0, \"#0d0887\"], [0.1111111111111111, \"#46039f\"], [0.2222222222222222, \"#7201a8\"], [0.3333333333333333, \"#9c179e\"], [0.4444444444444444, \"#bd3786\"], [0.5555555555555556, \"#d8576b\"], [0.6666666666666666, \"#ed7953\"], [0.7777777777777778, \"#fb9f3a\"], [0.8888888888888888, \"#fdca26\"], [1.0, \"#f0f921\"]], \"type\": \"heatmap\"}], \"heatmapgl\": [{\"colorbar\": {\"outlinewidth\": 0, \"ticks\": \"\"}, \"colorscale\": [[0.0, \"#0d0887\"], [0.1111111111111111, \"#46039f\"], [0.2222222222222222, \"#7201a8\"], [0.3333333333333333, \"#9c179e\"], [0.4444444444444444, \"#bd3786\"], [0.5555555555555556, \"#d8576b\"], [0.6666666666666666, \"#ed7953\"], [0.7777777777777778, \"#fb9f3a\"], [0.8888888888888888, \"#fdca26\"], [1.0, \"#f0f921\"]], \"type\": \"heatmapgl\"}], \"histogram\": [{\"marker\": {\"colorbar\": {\"outlinewidth\": 0, \"ticks\": \"\"}}, \"type\": \"histogram\"}], \"histogram2d\": [{\"colorbar\": {\"outlinewidth\": 0, \"ticks\": \"\"}, \"colorscale\": [[0.0, \"#0d0887\"], [0.1111111111111111, \"#46039f\"], [0.2222222222222222, \"#7201a8\"], [0.3333333333333333, \"#9c179e\"], [0.4444444444444444, \"#bd3786\"], [0.5555555555555556, \"#d8576b\"], [0.6666666666666666, \"#ed7953\"], [0.7777777777777778, \"#fb9f3a\"], [0.8888888888888888, \"#fdca26\"], [1.0, \"#f0f921\"]], \"type\": \"histogram2d\"}], \"histogram2dcontour\": [{\"colorbar\": {\"outlinewidth\": 0, \"ticks\": \"\"}, \"colorscale\": [[0.0, \"#0d0887\"], [0.1111111111111111, \"#46039f\"], [0.2222222222222222, \"#7201a8\"], [0.3333333333333333, \"#9c179e\"], [0.4444444444444444, \"#bd3786\"], [0.5555555555555556, \"#d8576b\"], [0.6666666666666666, \"#ed7953\"], [0.7777777777777778, \"#fb9f3a\"], [0.8888888888888888, \"#fdca26\"], [1.0, \"#f0f921\"]], \"type\": \"histogram2dcontour\"}], \"mesh3d\": [{\"colorbar\": {\"outlinewidth\": 0, \"ticks\": \"\"}, \"type\": \"mesh3d\"}], \"parcoords\": [{\"line\": {\"colorbar\": {\"outlinewidth\": 0, \"ticks\": \"\"}}, \"type\": \"parcoords\"}], \"pie\": [{\"automargin\": true, \"type\": \"pie\"}], \"scatter\": [{\"marker\": {\"colorbar\": {\"outlinewidth\": 0, \"ticks\": \"\"}}, \"type\": \"scatter\"}], \"scatter3d\": [{\"line\": {\"colorbar\": {\"outlinewidth\": 0, \"ticks\": \"\"}}, \"marker\": {\"colorbar\": {\"outlinewidth\": 0, \"ticks\": \"\"}}, \"type\": \"scatter3d\"}], \"scattercarpet\": [{\"marker\": {\"colorbar\": {\"outlinewidth\": 0, \"ticks\": \"\"}}, \"type\": \"scattercarpet\"}], \"scattergeo\": [{\"marker\": {\"colorbar\": {\"outlinewidth\": 0, \"ticks\": \"\"}}, \"type\": \"scattergeo\"}], \"scattergl\": [{\"marker\": {\"colorbar\": {\"outlinewidth\": 0, \"ticks\": \"\"}}, \"type\": \"scattergl\"}], \"scattermapbox\": [{\"marker\": {\"colorbar\": {\"outlinewidth\": 0, \"ticks\": \"\"}}, \"type\": \"scattermapbox\"}], \"scatterpolar\": [{\"marker\": {\"colorbar\": {\"outlinewidth\": 0, \"ticks\": \"\"}}, \"type\": \"scatterpolar\"}], \"scatterpolargl\": [{\"marker\": {\"colorbar\": {\"outlinewidth\": 0, \"ticks\": \"\"}}, \"type\": \"scatterpolargl\"}], \"scatterternary\": [{\"marker\": {\"colorbar\": {\"outlinewidth\": 0, \"ticks\": \"\"}}, \"type\": \"scatterternary\"}], \"surface\": [{\"colorbar\": {\"outlinewidth\": 0, \"ticks\": \"\"}, \"colorscale\": [[0.0, \"#0d0887\"], [0.1111111111111111, \"#46039f\"], [0.2222222222222222, \"#7201a8\"], [0.3333333333333333, \"#9c179e\"], [0.4444444444444444, \"#bd3786\"], [0.5555555555555556, \"#d8576b\"], [0.6666666666666666, \"#ed7953\"], [0.7777777777777778, \"#fb9f3a\"], [0.8888888888888888, \"#fdca26\"], [1.0, \"#f0f921\"]], \"type\": \"surface\"}], \"table\": [{\"cells\": {\"fill\": {\"color\": \"#EBF0F8\"}, \"line\": {\"color\": \"white\"}}, \"header\": {\"fill\": {\"color\": \"#C8D4E3\"}, \"line\": {\"color\": \"white\"}}, \"type\": \"table\"}]}, \"layout\": {\"annotationdefaults\": {\"arrowcolor\": \"#2a3f5f\", \"arrowhead\": 0, \"arrowwidth\": 1}, \"coloraxis\": {\"colorbar\": {\"outlinewidth\": 0, \"ticks\": \"\"}}, \"colorscale\": {\"diverging\": [[0, \"#8e0152\"], [0.1, \"#c51b7d\"], [0.2, \"#de77ae\"], [0.3, \"#f1b6da\"], [0.4, \"#fde0ef\"], [0.5, \"#f7f7f7\"], [0.6, \"#e6f5d0\"], [0.7, \"#b8e186\"], [0.8, \"#7fbc41\"], [0.9, \"#4d9221\"], [1, \"#276419\"]], \"sequential\": [[0.0, \"#0d0887\"], [0.1111111111111111, \"#46039f\"], [0.2222222222222222, \"#7201a8\"], [0.3333333333333333, \"#9c179e\"], [0.4444444444444444, \"#bd3786\"], [0.5555555555555556, \"#d8576b\"], [0.6666666666666666, \"#ed7953\"], [0.7777777777777778, \"#fb9f3a\"], [0.8888888888888888, \"#fdca26\"], [1.0, \"#f0f921\"]], \"sequentialminus\": [[0.0, \"#0d0887\"], [0.1111111111111111, \"#46039f\"], [0.2222222222222222, \"#7201a8\"], [0.3333333333333333, \"#9c179e\"], [0.4444444444444444, \"#bd3786\"], [0.5555555555555556, \"#d8576b\"], [0.6666666666666666, \"#ed7953\"], [0.7777777777777778, \"#fb9f3a\"], [0.8888888888888888, \"#fdca26\"], [1.0, \"#f0f921\"]]}, \"colorway\": [\"#636efa\", \"#EF553B\", \"#00cc96\", \"#ab63fa\", \"#FFA15A\", \"#19d3f3\", \"#FF6692\", \"#B6E880\", \"#FF97FF\", \"#FECB52\"], \"font\": {\"color\": \"#2a3f5f\"}, \"geo\": {\"bgcolor\": \"white\", \"lakecolor\": \"white\", \"landcolor\": \"#E5ECF6\", \"showlakes\": true, \"showland\": true, \"subunitcolor\": \"white\"}, \"hoverlabel\": {\"align\": \"left\"}, \"hovermode\": \"closest\", \"mapbox\": {\"style\": \"light\"}, \"paper_bgcolor\": \"white\", \"plot_bgcolor\": \"#E5ECF6\", \"polar\": {\"angularaxis\": {\"gridcolor\": \"white\", \"linecolor\": \"white\", \"ticks\": \"\"}, \"bgcolor\": \"#E5ECF6\", \"radialaxis\": {\"gridcolor\": \"white\", \"linecolor\": \"white\", \"ticks\": \"\"}}, \"scene\": {\"xaxis\": {\"backgroundcolor\": \"#E5ECF6\", \"gridcolor\": \"white\", \"gridwidth\": 2, \"linecolor\": \"white\", \"showbackground\": true, \"ticks\": \"\", \"zerolinecolor\": \"white\"}, \"yaxis\": {\"backgroundcolor\": \"#E5ECF6\", \"gridcolor\": \"white\", \"gridwidth\": 2, \"linecolor\": \"white\", \"showbackground\": true, \"ticks\": \"\", \"zerolinecolor\": \"white\"}, \"zaxis\": {\"backgroundcolor\": \"#E5ECF6\", \"gridcolor\": \"white\", \"gridwidth\": 2, \"linecolor\": \"white\", \"showbackground\": true, \"ticks\": \"\", \"zerolinecolor\": \"white\"}}, \"shapedefaults\": {\"line\": {\"color\": \"#2a3f5f\"}}, \"ternary\": {\"aaxis\": {\"gridcolor\": \"white\", \"linecolor\": \"white\", \"ticks\": \"\"}, \"baxis\": {\"gridcolor\": \"white\", \"linecolor\": \"white\", \"ticks\": \"\"}, \"bgcolor\": \"#E5ECF6\", \"caxis\": {\"gridcolor\": \"white\", \"linecolor\": \"white\", \"ticks\": \"\"}}, \"title\": {\"x\": 0.05}, \"xaxis\": {\"automargin\": true, \"gridcolor\": \"white\", \"linecolor\": \"white\", \"ticks\": \"\", \"title\": {\"standoff\": 15}, \"zerolinecolor\": \"white\", \"zerolinewidth\": 2}, \"yaxis\": {\"automargin\": true, \"gridcolor\": \"white\", \"linecolor\": \"white\", \"ticks\": \"\", \"title\": {\"standoff\": 15}, \"zerolinecolor\": \"white\", \"zerolinewidth\": 2}}}, \"title\": {\"font\": {\"color\": \"#000000\", \"size\": 50}, \"text\": \"Doutores Formandos (2017, 2018, 2019)\", \"x\": 0.5, \"xanchor\": \"center\"}, \"width\": 2600, \"xaxis\": {\"title\": {\"text\": \"Institui\\u00e7\\u00e3o\"}}},                        {\"responsive\": true}                    ).then(function(){\n",
       "                            \n",
       "var gd = document.getElementById('fbafd79e-5012-4021-aac3-6d28da7dd9c3');\n",
       "var x = new MutationObserver(function (mutations, observer) {{\n",
       "        var display = window.getComputedStyle(gd).display;\n",
       "        if (!display || display === 'none') {{\n",
       "            console.log([gd, 'removed!']);\n",
       "            Plotly.purge(gd);\n",
       "            observer.disconnect();\n",
       "        }}\n",
       "}});\n",
       "\n",
       "// Listen for the removal of the full notebook cells\n",
       "var notebookContainer = gd.closest('#notebook-container');\n",
       "if (notebookContainer) {{\n",
       "    x.observe(notebookContainer, {childList: true});\n",
       "}}\n",
       "\n",
       "// Listen for the clearing of the current output cell\n",
       "var outputEl = gd.closest('.output');\n",
       "if (outputEl) {{\n",
       "    x.observe(outputEl, {childList: true});\n",
       "}}\n",
       "\n",
       "                        })                };                });            </script>        </div>"
      ]
     },
     "metadata": {},
     "output_type": "display_data"
    }
   ],
   "source": [
    "make_chart(doutores_formandos, f'Doutores Formandos ({\", \".join(ANOS)})')\n"
   ]
  },
  {
   "cell_type": "code",
   "execution_count": 43,
   "metadata": {},
   "outputs": [
    {
     "name": "stdout",
     "output_type": "stream",
     "text": [
      "6300\n"
     ]
    },
    {
     "data": {
      "application/vnd.plotly.v1+json": {
       "config": {
        "linkText": "Export to plot.ly",
        "plotlyServerURL": "https://plot.ly",
        "showLink": false
       },
       "data": [
        {
         "marker": {
          "color": "#FFFF00"
         },
         "name": "Mestre com Periódico como Primeiro Autor",
         "text": [
          "<b>0.00</b>",
          "<b>0.00</b>",
          "<b>0.00</b>",
          "<b>0.00</b>",
          "<b>3.00</b>",
          "<b>1.00</b>",
          "<b>1.00</b>",
          "<b>0.00</b>",
          "<b>1.00</b>",
          "<b>4.00</b>",
          "<b>7.00</b>",
          "<b>6.00</b>",
          "<b>7.00</b>",
          "<b>5.00</b>",
          "<b>1.00</b>",
          "<b>8.00</b>",
          "<b>0.00</b>",
          "<b>0.00</b>",
          "<b>4.00</b>",
          "<b>7.00</b>",
          "<b>21.00</b>",
          "<b>4.00</b>",
          "<b>3.00</b>",
          "<b>9.00</b>",
          "<b>2.00</b>",
          "<b>1.00</b>",
          "<b>7.00</b>",
          "<b>1.00</b>",
          "<b>1.00</b>",
          "<b>5.00</b>",
          "<b>18.00</b>",
          "<b>18.00</b>",
          "<b>14.00</b>",
          "<b>7.00</b>",
          "<b>2.00</b>",
          "<b>6.00</b>",
          "<b>9.00</b>",
          "<b>9.00</b>",
          "<b>19.00</b>",
          "<b>12.00</b>",
          "<b>19.00</b>",
          "<b>2.00</b>",
          "<b>2.00</b>",
          "<b>10.00</b>",
          "<b>3.00</b>",
          "<b>12.00</b>",
          "<b>5.00</b>",
          "<b>19.00</b>",
          "<b>14.00</b>",
          "<b>11.00</b>",
          "<b>11.00</b>",
          "<b>13.00</b>",
          "<b>13.00</b>",
          "<b>6.00</b>",
          "<b>9.00</b>",
          "<b>21.00</b>",
          "<b>8.00</b>",
          "<b>17.00</b>",
          "<b>26.00</b>",
          "<b>4.00</b>",
          "<b>21.00</b>",
          "<b>13.00</b>",
          "<b>18.00</b>"
         ],
         "textposition": "outside",
         "type": "bar",
         "x": [
          "FEBASP-A",
          "UFRN-D-4",
          "UFSC-UHEADC-4",
          " FIAMFAAM-PPeGdEU-3",
          "USP-D",
          "UVV-AEC",
          "UniCEUB-AEU",
          "CESAR-AM-DDAD-3",
          "UFRJ-D",
          "UFAM-D",
          "UDESC-DDVEM",
          "UNIRITTER-D-4",
          "IMED-AEU-3",
          "PUC-RIO-A-3",
          "UNIRITTER-AeU-4",
          "UFCG-D-3",
          "CESAR-D-3",
          "UFPE-E-3",
          "UFRJ-AP-4",
          "UFMA-D-3",
          "UFSC-D-5",
          "UFRN-AEU-4",
          "UFPB-JP-AEU-4",
          "UFC-AEUED-3",
          "UERJ-D-4",
          "USJT-AEU-4",
          "UFU-AeU-3",
          "UNIFOR-CDC-3",
          "UFRJ-PeP-4",
          "UFG-PEC-3",
          "UNESP-BAURU-D-6",
          "UAM-D-5",
          "UDESC-D-4",
          "UFPR-D-4",
          "UNIFATEA-DTEI-3",
          "UNB-D-3",
          "UNISINOS-AeU-4",
          "UFV-AEU-4",
          "UNESP-BAURU-AeU-4",
          "PUCCAMP-AeU-5",
          "UFRGS-D-5",
          "UFRJ-U-5",
          "UFRGS-A-4",
          "UFES-AEU-4",
          "UFF-AEU-4",
          "UEL-AeU-4",
          "UFBA-AEU-4",
          "UFPEL-AEU-4",
          "UFJF-AC-4",
          "UFRJ-A-6",
          "UFMG-AEU-6",
          "UNICAMP-ATeC-5",
          "UEMG-D-5",
          "UFAL-DDEH-3",
          "UNISINOS-D-5",
          "PUC-RIO-D-5",
          "UFPA-AeU-4",
          "USP/SC-AEU-4",
          "UPM-AEU-6",
          "UFPE-D-4",
          "UFSC-AEU-5",
          "UNB-AEU-4",
          "USP-AEU-4"
         ],
         "y": [
          0,
          0,
          0,
          0,
          3,
          1,
          1,
          0,
          1,
          4,
          7,
          6,
          7,
          5,
          1,
          8,
          0,
          0,
          4,
          7,
          21,
          4,
          3,
          9,
          2,
          1,
          7,
          1,
          1,
          5,
          18,
          18,
          14,
          7,
          2,
          6,
          9,
          9,
          19,
          12,
          19,
          2,
          2,
          10,
          3,
          12,
          5,
          19,
          14,
          11,
          11,
          13,
          13,
          6,
          9,
          21,
          8,
          17,
          26,
          4,
          21,
          13,
          18
         ]
        },
        {
         "marker": {
          "color": "#FF0000"
         },
         "name": "Mestre com Periódico",
         "text": [
          "<b>0.00</b>",
          "<b>0.00</b>",
          "<b>0.00</b>",
          "<b>0.00</b>",
          "<b>4.00</b>",
          "<b>2.00</b>",
          "<b>2.00</b>",
          "<b>0.00</b>",
          "<b>1.00</b>",
          "<b>6.00</b>",
          "<b>7.00</b>",
          "<b>8.00</b>",
          "<b>12.00</b>",
          "<b>6.00</b>",
          "<b>1.00</b>",
          "<b>11.00</b>",
          "<b>0.00</b>",
          "<b>0.00</b>",
          "<b>5.00</b>",
          "<b>8.00</b>",
          "<b>24.00</b>",
          "<b>9.00</b>",
          "<b>4.00</b>",
          "<b>11.00</b>",
          "<b>5.00</b>",
          "<b>17.00</b>",
          "<b>10.00</b>",
          "<b>2.00</b>",
          "<b>1.00</b>",
          "<b>7.00</b>",
          "<b>26.00</b>",
          "<b>20.00</b>",
          "<b>21.00</b>",
          "<b>10.00</b>",
          "<b>7.00</b>",
          "<b>7.00</b>",
          "<b>11.00</b>",
          "<b>12.00</b>",
          "<b>24.00</b>",
          "<b>16.00</b>",
          "<b>24.00</b>",
          "<b>4.00</b>",
          "<b>2.00</b>",
          "<b>14.00</b>",
          "<b>9.00</b>",
          "<b>14.00</b>",
          "<b>7.00</b>",
          "<b>29.00</b>",
          "<b>18.00</b>",
          "<b>14.00</b>",
          "<b>13.00</b>",
          "<b>16.00</b>",
          "<b>21.00</b>",
          "<b>11.00</b>",
          "<b>10.00</b>",
          "<b>24.00</b>",
          "<b>8.00</b>",
          "<b>21.00</b>",
          "<b>36.00</b>",
          "<b>4.00</b>",
          "<b>23.00</b>",
          "<b>16.00</b>",
          "<b>31.00</b>"
         ],
         "textposition": "outside",
         "type": "bar",
         "x": [
          "FEBASP-A",
          "UFRN-D-4",
          "UFSC-UHEADC-4",
          " FIAMFAAM-PPeGdEU-3",
          "USP-D",
          "UVV-AEC",
          "UniCEUB-AEU",
          "CESAR-AM-DDAD-3",
          "UFRJ-D",
          "UFAM-D",
          "UDESC-DDVEM",
          "UNIRITTER-D-4",
          "IMED-AEU-3",
          "PUC-RIO-A-3",
          "UNIRITTER-AeU-4",
          "UFCG-D-3",
          "CESAR-D-3",
          "UFPE-E-3",
          "UFRJ-AP-4",
          "UFMA-D-3",
          "UFSC-D-5",
          "UFRN-AEU-4",
          "UFPB-JP-AEU-4",
          "UFC-AEUED-3",
          "UERJ-D-4",
          "USJT-AEU-4",
          "UFU-AeU-3",
          "UNIFOR-CDC-3",
          "UFRJ-PeP-4",
          "UFG-PEC-3",
          "UNESP-BAURU-D-6",
          "UAM-D-5",
          "UDESC-D-4",
          "UFPR-D-4",
          "UNIFATEA-DTEI-3",
          "UNB-D-3",
          "UNISINOS-AeU-4",
          "UFV-AEU-4",
          "UNESP-BAURU-AeU-4",
          "PUCCAMP-AeU-5",
          "UFRGS-D-5",
          "UFRJ-U-5",
          "UFRGS-A-4",
          "UFES-AEU-4",
          "UFF-AEU-4",
          "UEL-AeU-4",
          "UFBA-AEU-4",
          "UFPEL-AEU-4",
          "UFJF-AC-4",
          "UFRJ-A-6",
          "UFMG-AEU-6",
          "UNICAMP-ATeC-5",
          "UEMG-D-5",
          "UFAL-DDEH-3",
          "UNISINOS-D-5",
          "PUC-RIO-D-5",
          "UFPA-AeU-4",
          "USP/SC-AEU-4",
          "UPM-AEU-6",
          "UFPE-D-4",
          "UFSC-AEU-5",
          "UNB-AEU-4",
          "USP-AEU-4"
         ],
         "y": [
          0,
          0,
          0,
          0,
          4,
          2,
          2,
          0,
          1,
          6,
          7,
          8,
          12,
          6,
          1,
          11,
          0,
          0,
          5,
          8,
          24,
          9,
          4,
          11,
          5,
          17,
          10,
          2,
          1,
          7,
          26,
          20,
          21,
          10,
          7,
          7,
          11,
          12,
          24,
          16,
          24,
          4,
          2,
          14,
          9,
          14,
          7,
          29,
          18,
          14,
          13,
          16,
          21,
          11,
          10,
          24,
          8,
          21,
          36,
          4,
          23,
          16,
          31
         ]
        },
        {
         "marker": {
          "color": "#00FF00"
         },
         "name": "Mestre com Publicação",
         "text": [
          "<b>0.00</b>",
          "<b>1.00</b>",
          "<b>0.00</b>",
          "<b>0.00</b>",
          "<b>7.00</b>",
          "<b>5.00</b>",
          "<b>5.00</b>",
          "<b>1.00</b>",
          "<b>3.00</b>",
          "<b>7.00</b>",
          "<b>12.00</b>",
          "<b>10.00</b>",
          "<b>17.00</b>",
          "<b>8.00</b>",
          "<b>4.00</b>",
          "<b>14.00</b>",
          "<b>3.00</b>",
          "<b>2.00</b>",
          "<b>12.00</b>",
          "<b>20.00</b>",
          "<b>28.00</b>",
          "<b>21.00</b>",
          "<b>11.00</b>",
          "<b>25.00</b>",
          "<b>17.00</b>",
          "<b>21.00</b>",
          "<b>30.00</b>",
          "<b>4.00</b>",
          "<b>31.00</b>",
          "<b>17.00</b>",
          "<b>31.00</b>",
          "<b>25.00</b>",
          "<b>32.00</b>",
          "<b>26.00</b>",
          "<b>7.00</b>",
          "<b>22.00</b>",
          "<b>18.00</b>",
          "<b>27.00</b>",
          "<b>37.00</b>",
          "<b>27.00</b>",
          "<b>30.00</b>",
          "<b>17.00</b>",
          "<b>18.00</b>",
          "<b>28.00</b>",
          "<b>22.00</b>",
          "<b>36.00</b>",
          "<b>29.00</b>",
          "<b>43.00</b>",
          "<b>40.00</b>",
          "<b>47.00</b>",
          "<b>32.00</b>",
          "<b>45.00</b>",
          "<b>40.00</b>",
          "<b>33.00</b>",
          "<b>28.00</b>",
          "<b>35.00</b>",
          "<b>20.00</b>",
          "<b>50.00</b>",
          "<b>56.00</b>",
          "<b>25.00</b>",
          "<b>47.00</b>",
          "<b>48.00</b>",
          "<b>107.00</b>"
         ],
         "textposition": "outside",
         "type": "bar",
         "x": [
          "FEBASP-A",
          "UFRN-D-4",
          "UFSC-UHEADC-4",
          " FIAMFAAM-PPeGdEU-3",
          "USP-D",
          "UVV-AEC",
          "UniCEUB-AEU",
          "CESAR-AM-DDAD-3",
          "UFRJ-D",
          "UFAM-D",
          "UDESC-DDVEM",
          "UNIRITTER-D-4",
          "IMED-AEU-3",
          "PUC-RIO-A-3",
          "UNIRITTER-AeU-4",
          "UFCG-D-3",
          "CESAR-D-3",
          "UFPE-E-3",
          "UFRJ-AP-4",
          "UFMA-D-3",
          "UFSC-D-5",
          "UFRN-AEU-4",
          "UFPB-JP-AEU-4",
          "UFC-AEUED-3",
          "UERJ-D-4",
          "USJT-AEU-4",
          "UFU-AeU-3",
          "UNIFOR-CDC-3",
          "UFRJ-PeP-4",
          "UFG-PEC-3",
          "UNESP-BAURU-D-6",
          "UAM-D-5",
          "UDESC-D-4",
          "UFPR-D-4",
          "UNIFATEA-DTEI-3",
          "UNB-D-3",
          "UNISINOS-AeU-4",
          "UFV-AEU-4",
          "UNESP-BAURU-AeU-4",
          "PUCCAMP-AeU-5",
          "UFRGS-D-5",
          "UFRJ-U-5",
          "UFRGS-A-4",
          "UFES-AEU-4",
          "UFF-AEU-4",
          "UEL-AeU-4",
          "UFBA-AEU-4",
          "UFPEL-AEU-4",
          "UFJF-AC-4",
          "UFRJ-A-6",
          "UFMG-AEU-6",
          "UNICAMP-ATeC-5",
          "UEMG-D-5",
          "UFAL-DDEH-3",
          "UNISINOS-D-5",
          "PUC-RIO-D-5",
          "UFPA-AeU-4",
          "USP/SC-AEU-4",
          "UPM-AEU-6",
          "UFPE-D-4",
          "UFSC-AEU-5",
          "UNB-AEU-4",
          "USP-AEU-4"
         ],
         "y": [
          0,
          1,
          0,
          0,
          7,
          5,
          5,
          1,
          3,
          7,
          12,
          10,
          17,
          8,
          4,
          14,
          3,
          2,
          12,
          20,
          28,
          21,
          11,
          25,
          17,
          21,
          30,
          4,
          31,
          17,
          31,
          25,
          32,
          26,
          7,
          22,
          18,
          27,
          37,
          27,
          30,
          17,
          18,
          28,
          22,
          36,
          29,
          43,
          40,
          47,
          32,
          45,
          40,
          33,
          28,
          35,
          20,
          50,
          56,
          25,
          47,
          48,
          107
         ]
        },
        {
         "marker": {
          "color": "#0000ff"
         },
         "name": "Mestre ",
         "text": [
          "<b>3.00</b>",
          "<b>4.00</b>",
          "<b>6.00</b>",
          "<b>8.00</b>",
          "<b>8.00</b>",
          "<b>8.00</b>",
          "<b>8.00</b>",
          "<b>10.00</b>",
          "<b>10.00</b>",
          "<b>11.00</b>",
          "<b>14.00</b>",
          "<b>16.00</b>",
          "<b>18.00</b>",
          "<b>22.00</b>",
          "<b>23.00</b>",
          "<b>25.00</b>",
          "<b>26.00</b>",
          "<b>26.00</b>",
          "<b>28.00</b>",
          "<b>28.00</b>",
          "<b>30.00</b>",
          "<b>31.00</b>",
          "<b>31.00</b>",
          "<b>31.00</b>",
          "<b>31.00</b>",
          "<b>33.00</b>",
          "<b>34.00</b>",
          "<b>35.00</b>",
          "<b>36.00</b>",
          "<b>37.00</b>",
          "<b>38.00</b>",
          "<b>38.00</b>",
          "<b>38.00</b>",
          "<b>39.00</b>",
          "<b>40.00</b>",
          "<b>41.00</b>",
          "<b>42.00</b>",
          "<b>44.00</b>",
          "<b>44.00</b>",
          "<b>44.00</b>",
          "<b>45.00</b>",
          "<b>45.00</b>",
          "<b>46.00</b>",
          "<b>47.00</b>",
          "<b>48.00</b>",
          "<b>49.00</b>",
          "<b>50.00</b>",
          "<b>52.00</b>",
          "<b>54.00</b>",
          "<b>57.00</b>",
          "<b>57.00</b>",
          "<b>57.00</b>",
          "<b>57.00</b>",
          "<b>57.00</b>",
          "<b>59.00</b>",
          "<b>63.00</b>",
          "<b>66.00</b>",
          "<b>76.00</b>",
          "<b>83.00</b>",
          "<b>90.00</b>",
          "<b>98.00</b>",
          "<b>104.00</b>",
          "<b>223.00</b>"
         ],
         "textposition": "outside",
         "type": "bar",
         "x": [
          "FEBASP-A",
          "UFRN-D-4",
          "UFSC-UHEADC-4",
          " FIAMFAAM-PPeGdEU-3",
          "USP-D",
          "UVV-AEC",
          "UniCEUB-AEU",
          "CESAR-AM-DDAD-3",
          "UFRJ-D",
          "UFAM-D",
          "UDESC-DDVEM",
          "UNIRITTER-D-4",
          "IMED-AEU-3",
          "PUC-RIO-A-3",
          "UNIRITTER-AeU-4",
          "UFCG-D-3",
          "CESAR-D-3",
          "UFPE-E-3",
          "UFRJ-AP-4",
          "UFMA-D-3",
          "UFSC-D-5",
          "UFRN-AEU-4",
          "UFPB-JP-AEU-4",
          "UFC-AEUED-3",
          "UERJ-D-4",
          "USJT-AEU-4",
          "UFU-AeU-3",
          "UNIFOR-CDC-3",
          "UFRJ-PeP-4",
          "UFG-PEC-3",
          "UNESP-BAURU-D-6",
          "UAM-D-5",
          "UDESC-D-4",
          "UFPR-D-4",
          "UNIFATEA-DTEI-3",
          "UNB-D-3",
          "UNISINOS-AeU-4",
          "UFV-AEU-4",
          "UNESP-BAURU-AeU-4",
          "PUCCAMP-AeU-5",
          "UFRGS-D-5",
          "UFRJ-U-5",
          "UFRGS-A-4",
          "UFES-AEU-4",
          "UFF-AEU-4",
          "UEL-AeU-4",
          "UFBA-AEU-4",
          "UFPEL-AEU-4",
          "UFJF-AC-4",
          "UFRJ-A-6",
          "UFMG-AEU-6",
          "UNICAMP-ATeC-5",
          "UEMG-D-5",
          "UFAL-DDEH-3",
          "UNISINOS-D-5",
          "PUC-RIO-D-5",
          "UFPA-AeU-4",
          "USP/SC-AEU-4",
          "UPM-AEU-6",
          "UFPE-D-4",
          "UFSC-AEU-5",
          "UNB-AEU-4",
          "USP-AEU-4"
         ],
         "y": [
          3,
          4,
          6,
          8,
          8,
          8,
          8,
          10,
          10,
          11,
          14,
          16,
          18,
          22,
          23,
          25,
          26,
          26,
          28,
          28,
          30,
          31,
          31,
          31,
          31,
          33,
          34,
          35,
          36,
          37,
          38,
          38,
          38,
          39,
          40,
          41,
          42,
          44,
          44,
          44,
          45,
          45,
          46,
          47,
          48,
          49,
          50,
          52,
          54,
          57,
          57,
          57,
          57,
          57,
          59,
          63,
          66,
          76,
          83,
          90,
          98,
          104,
          223
         ]
        }
       ],
       "layout": {
        "font": {
         "size": 42
        },
        "height": 3150,
        "legend": {
         "font": {
          "color": "#000000"
         },
         "orientation": "v",
         "x": 0,
         "y": 1
        },
        "template": {
         "data": {
          "bar": [
           {
            "error_x": {
             "color": "#2a3f5f"
            },
            "error_y": {
             "color": "#2a3f5f"
            },
            "marker": {
             "line": {
              "color": "#E5ECF6",
              "width": 0.5
             }
            },
            "type": "bar"
           }
          ],
          "barpolar": [
           {
            "marker": {
             "line": {
              "color": "#E5ECF6",
              "width": 0.5
             }
            },
            "type": "barpolar"
           }
          ],
          "carpet": [
           {
            "aaxis": {
             "endlinecolor": "#2a3f5f",
             "gridcolor": "white",
             "linecolor": "white",
             "minorgridcolor": "white",
             "startlinecolor": "#2a3f5f"
            },
            "baxis": {
             "endlinecolor": "#2a3f5f",
             "gridcolor": "white",
             "linecolor": "white",
             "minorgridcolor": "white",
             "startlinecolor": "#2a3f5f"
            },
            "type": "carpet"
           }
          ],
          "choropleth": [
           {
            "colorbar": {
             "outlinewidth": 0,
             "ticks": ""
            },
            "type": "choropleth"
           }
          ],
          "contour": [
           {
            "colorbar": {
             "outlinewidth": 0,
             "ticks": ""
            },
            "colorscale": [
             [
              0,
              "#0d0887"
             ],
             [
              0.1111111111111111,
              "#46039f"
             ],
             [
              0.2222222222222222,
              "#7201a8"
             ],
             [
              0.3333333333333333,
              "#9c179e"
             ],
             [
              0.4444444444444444,
              "#bd3786"
             ],
             [
              0.5555555555555556,
              "#d8576b"
             ],
             [
              0.6666666666666666,
              "#ed7953"
             ],
             [
              0.7777777777777778,
              "#fb9f3a"
             ],
             [
              0.8888888888888888,
              "#fdca26"
             ],
             [
              1,
              "#f0f921"
             ]
            ],
            "type": "contour"
           }
          ],
          "contourcarpet": [
           {
            "colorbar": {
             "outlinewidth": 0,
             "ticks": ""
            },
            "type": "contourcarpet"
           }
          ],
          "heatmap": [
           {
            "colorbar": {
             "outlinewidth": 0,
             "ticks": ""
            },
            "colorscale": [
             [
              0,
              "#0d0887"
             ],
             [
              0.1111111111111111,
              "#46039f"
             ],
             [
              0.2222222222222222,
              "#7201a8"
             ],
             [
              0.3333333333333333,
              "#9c179e"
             ],
             [
              0.4444444444444444,
              "#bd3786"
             ],
             [
              0.5555555555555556,
              "#d8576b"
             ],
             [
              0.6666666666666666,
              "#ed7953"
             ],
             [
              0.7777777777777778,
              "#fb9f3a"
             ],
             [
              0.8888888888888888,
              "#fdca26"
             ],
             [
              1,
              "#f0f921"
             ]
            ],
            "type": "heatmap"
           }
          ],
          "heatmapgl": [
           {
            "colorbar": {
             "outlinewidth": 0,
             "ticks": ""
            },
            "colorscale": [
             [
              0,
              "#0d0887"
             ],
             [
              0.1111111111111111,
              "#46039f"
             ],
             [
              0.2222222222222222,
              "#7201a8"
             ],
             [
              0.3333333333333333,
              "#9c179e"
             ],
             [
              0.4444444444444444,
              "#bd3786"
             ],
             [
              0.5555555555555556,
              "#d8576b"
             ],
             [
              0.6666666666666666,
              "#ed7953"
             ],
             [
              0.7777777777777778,
              "#fb9f3a"
             ],
             [
              0.8888888888888888,
              "#fdca26"
             ],
             [
              1,
              "#f0f921"
             ]
            ],
            "type": "heatmapgl"
           }
          ],
          "histogram": [
           {
            "marker": {
             "colorbar": {
              "outlinewidth": 0,
              "ticks": ""
             }
            },
            "type": "histogram"
           }
          ],
          "histogram2d": [
           {
            "colorbar": {
             "outlinewidth": 0,
             "ticks": ""
            },
            "colorscale": [
             [
              0,
              "#0d0887"
             ],
             [
              0.1111111111111111,
              "#46039f"
             ],
             [
              0.2222222222222222,
              "#7201a8"
             ],
             [
              0.3333333333333333,
              "#9c179e"
             ],
             [
              0.4444444444444444,
              "#bd3786"
             ],
             [
              0.5555555555555556,
              "#d8576b"
             ],
             [
              0.6666666666666666,
              "#ed7953"
             ],
             [
              0.7777777777777778,
              "#fb9f3a"
             ],
             [
              0.8888888888888888,
              "#fdca26"
             ],
             [
              1,
              "#f0f921"
             ]
            ],
            "type": "histogram2d"
           }
          ],
          "histogram2dcontour": [
           {
            "colorbar": {
             "outlinewidth": 0,
             "ticks": ""
            },
            "colorscale": [
             [
              0,
              "#0d0887"
             ],
             [
              0.1111111111111111,
              "#46039f"
             ],
             [
              0.2222222222222222,
              "#7201a8"
             ],
             [
              0.3333333333333333,
              "#9c179e"
             ],
             [
              0.4444444444444444,
              "#bd3786"
             ],
             [
              0.5555555555555556,
              "#d8576b"
             ],
             [
              0.6666666666666666,
              "#ed7953"
             ],
             [
              0.7777777777777778,
              "#fb9f3a"
             ],
             [
              0.8888888888888888,
              "#fdca26"
             ],
             [
              1,
              "#f0f921"
             ]
            ],
            "type": "histogram2dcontour"
           }
          ],
          "mesh3d": [
           {
            "colorbar": {
             "outlinewidth": 0,
             "ticks": ""
            },
            "type": "mesh3d"
           }
          ],
          "parcoords": [
           {
            "line": {
             "colorbar": {
              "outlinewidth": 0,
              "ticks": ""
             }
            },
            "type": "parcoords"
           }
          ],
          "pie": [
           {
            "automargin": true,
            "type": "pie"
           }
          ],
          "scatter": [
           {
            "marker": {
             "colorbar": {
              "outlinewidth": 0,
              "ticks": ""
             }
            },
            "type": "scatter"
           }
          ],
          "scatter3d": [
           {
            "line": {
             "colorbar": {
              "outlinewidth": 0,
              "ticks": ""
             }
            },
            "marker": {
             "colorbar": {
              "outlinewidth": 0,
              "ticks": ""
             }
            },
            "type": "scatter3d"
           }
          ],
          "scattercarpet": [
           {
            "marker": {
             "colorbar": {
              "outlinewidth": 0,
              "ticks": ""
             }
            },
            "type": "scattercarpet"
           }
          ],
          "scattergeo": [
           {
            "marker": {
             "colorbar": {
              "outlinewidth": 0,
              "ticks": ""
             }
            },
            "type": "scattergeo"
           }
          ],
          "scattergl": [
           {
            "marker": {
             "colorbar": {
              "outlinewidth": 0,
              "ticks": ""
             }
            },
            "type": "scattergl"
           }
          ],
          "scattermapbox": [
           {
            "marker": {
             "colorbar": {
              "outlinewidth": 0,
              "ticks": ""
             }
            },
            "type": "scattermapbox"
           }
          ],
          "scatterpolar": [
           {
            "marker": {
             "colorbar": {
              "outlinewidth": 0,
              "ticks": ""
             }
            },
            "type": "scatterpolar"
           }
          ],
          "scatterpolargl": [
           {
            "marker": {
             "colorbar": {
              "outlinewidth": 0,
              "ticks": ""
             }
            },
            "type": "scatterpolargl"
           }
          ],
          "scatterternary": [
           {
            "marker": {
             "colorbar": {
              "outlinewidth": 0,
              "ticks": ""
             }
            },
            "type": "scatterternary"
           }
          ],
          "surface": [
           {
            "colorbar": {
             "outlinewidth": 0,
             "ticks": ""
            },
            "colorscale": [
             [
              0,
              "#0d0887"
             ],
             [
              0.1111111111111111,
              "#46039f"
             ],
             [
              0.2222222222222222,
              "#7201a8"
             ],
             [
              0.3333333333333333,
              "#9c179e"
             ],
             [
              0.4444444444444444,
              "#bd3786"
             ],
             [
              0.5555555555555556,
              "#d8576b"
             ],
             [
              0.6666666666666666,
              "#ed7953"
             ],
             [
              0.7777777777777778,
              "#fb9f3a"
             ],
             [
              0.8888888888888888,
              "#fdca26"
             ],
             [
              1,
              "#f0f921"
             ]
            ],
            "type": "surface"
           }
          ],
          "table": [
           {
            "cells": {
             "fill": {
              "color": "#EBF0F8"
             },
             "line": {
              "color": "white"
             }
            },
            "header": {
             "fill": {
              "color": "#C8D4E3"
             },
             "line": {
              "color": "white"
             }
            },
            "type": "table"
           }
          ]
         },
         "layout": {
          "annotationdefaults": {
           "arrowcolor": "#2a3f5f",
           "arrowhead": 0,
           "arrowwidth": 1
          },
          "coloraxis": {
           "colorbar": {
            "outlinewidth": 0,
            "ticks": ""
           }
          },
          "colorscale": {
           "diverging": [
            [
             0,
             "#8e0152"
            ],
            [
             0.1,
             "#c51b7d"
            ],
            [
             0.2,
             "#de77ae"
            ],
            [
             0.3,
             "#f1b6da"
            ],
            [
             0.4,
             "#fde0ef"
            ],
            [
             0.5,
             "#f7f7f7"
            ],
            [
             0.6,
             "#e6f5d0"
            ],
            [
             0.7,
             "#b8e186"
            ],
            [
             0.8,
             "#7fbc41"
            ],
            [
             0.9,
             "#4d9221"
            ],
            [
             1,
             "#276419"
            ]
           ],
           "sequential": [
            [
             0,
             "#0d0887"
            ],
            [
             0.1111111111111111,
             "#46039f"
            ],
            [
             0.2222222222222222,
             "#7201a8"
            ],
            [
             0.3333333333333333,
             "#9c179e"
            ],
            [
             0.4444444444444444,
             "#bd3786"
            ],
            [
             0.5555555555555556,
             "#d8576b"
            ],
            [
             0.6666666666666666,
             "#ed7953"
            ],
            [
             0.7777777777777778,
             "#fb9f3a"
            ],
            [
             0.8888888888888888,
             "#fdca26"
            ],
            [
             1,
             "#f0f921"
            ]
           ],
           "sequentialminus": [
            [
             0,
             "#0d0887"
            ],
            [
             0.1111111111111111,
             "#46039f"
            ],
            [
             0.2222222222222222,
             "#7201a8"
            ],
            [
             0.3333333333333333,
             "#9c179e"
            ],
            [
             0.4444444444444444,
             "#bd3786"
            ],
            [
             0.5555555555555556,
             "#d8576b"
            ],
            [
             0.6666666666666666,
             "#ed7953"
            ],
            [
             0.7777777777777778,
             "#fb9f3a"
            ],
            [
             0.8888888888888888,
             "#fdca26"
            ],
            [
             1,
             "#f0f921"
            ]
           ]
          },
          "colorway": [
           "#636efa",
           "#EF553B",
           "#00cc96",
           "#ab63fa",
           "#FFA15A",
           "#19d3f3",
           "#FF6692",
           "#B6E880",
           "#FF97FF",
           "#FECB52"
          ],
          "font": {
           "color": "#2a3f5f"
          },
          "geo": {
           "bgcolor": "white",
           "lakecolor": "white",
           "landcolor": "#E5ECF6",
           "showlakes": true,
           "showland": true,
           "subunitcolor": "white"
          },
          "hoverlabel": {
           "align": "left"
          },
          "hovermode": "closest",
          "mapbox": {
           "style": "light"
          },
          "paper_bgcolor": "white",
          "plot_bgcolor": "#E5ECF6",
          "polar": {
           "angularaxis": {
            "gridcolor": "white",
            "linecolor": "white",
            "ticks": ""
           },
           "bgcolor": "#E5ECF6",
           "radialaxis": {
            "gridcolor": "white",
            "linecolor": "white",
            "ticks": ""
           }
          },
          "scene": {
           "xaxis": {
            "backgroundcolor": "#E5ECF6",
            "gridcolor": "white",
            "gridwidth": 2,
            "linecolor": "white",
            "showbackground": true,
            "ticks": "",
            "zerolinecolor": "white"
           },
           "yaxis": {
            "backgroundcolor": "#E5ECF6",
            "gridcolor": "white",
            "gridwidth": 2,
            "linecolor": "white",
            "showbackground": true,
            "ticks": "",
            "zerolinecolor": "white"
           },
           "zaxis": {
            "backgroundcolor": "#E5ECF6",
            "gridcolor": "white",
            "gridwidth": 2,
            "linecolor": "white",
            "showbackground": true,
            "ticks": "",
            "zerolinecolor": "white"
           }
          },
          "shapedefaults": {
           "line": {
            "color": "#2a3f5f"
           }
          },
          "ternary": {
           "aaxis": {
            "gridcolor": "white",
            "linecolor": "white",
            "ticks": ""
           },
           "baxis": {
            "gridcolor": "white",
            "linecolor": "white",
            "ticks": ""
           },
           "bgcolor": "#E5ECF6",
           "caxis": {
            "gridcolor": "white",
            "linecolor": "white",
            "ticks": ""
           }
          },
          "title": {
           "x": 0.05
          },
          "xaxis": {
           "automargin": true,
           "gridcolor": "white",
           "linecolor": "white",
           "ticks": "",
           "title": {
            "standoff": 15
           },
           "zerolinecolor": "white",
           "zerolinewidth": 2
          },
          "yaxis": {
           "automargin": true,
           "gridcolor": "white",
           "linecolor": "white",
           "ticks": "",
           "title": {
            "standoff": 15
           },
           "zerolinecolor": "white",
           "zerolinewidth": 2
          }
         }
        },
        "title": {
         "font": {
          "color": "#000000",
          "size": 50
         },
         "text": "Mestres Formandos (2017, 2018, 2019)",
         "x": 0.5,
         "xanchor": "center"
        },
        "width": 6300,
        "xaxis": {
         "title": {
          "text": "Instituição"
         }
        }
       }
      },
      "text/html": [
       "<div>                            <div id=\"d0295495-c063-4753-913e-87414cd30120\" class=\"plotly-graph-div\" style=\"height:3150.0px; width:6300px;\"></div>            <script type=\"text/javascript\">                require([\"plotly\"], function(Plotly) {                    window.PLOTLYENV=window.PLOTLYENV || {};                                    if (document.getElementById(\"d0295495-c063-4753-913e-87414cd30120\")) {                    Plotly.newPlot(                        \"d0295495-c063-4753-913e-87414cd30120\",                        [{\"marker\": {\"color\": \"#FFFF00\"}, \"name\": \"Mestre com Peri\\u00f3dico como Primeiro Autor\", \"text\": [\"<b>0.00</b>\", \"<b>0.00</b>\", \"<b>0.00</b>\", \"<b>0.00</b>\", \"<b>3.00</b>\", \"<b>1.00</b>\", \"<b>1.00</b>\", \"<b>0.00</b>\", \"<b>1.00</b>\", \"<b>4.00</b>\", \"<b>7.00</b>\", \"<b>6.00</b>\", \"<b>7.00</b>\", \"<b>5.00</b>\", \"<b>1.00</b>\", \"<b>8.00</b>\", \"<b>0.00</b>\", \"<b>0.00</b>\", \"<b>4.00</b>\", \"<b>7.00</b>\", \"<b>21.00</b>\", \"<b>4.00</b>\", \"<b>3.00</b>\", \"<b>9.00</b>\", \"<b>2.00</b>\", \"<b>1.00</b>\", \"<b>7.00</b>\", \"<b>1.00</b>\", \"<b>1.00</b>\", \"<b>5.00</b>\", \"<b>18.00</b>\", \"<b>18.00</b>\", \"<b>14.00</b>\", \"<b>7.00</b>\", \"<b>2.00</b>\", \"<b>6.00</b>\", \"<b>9.00</b>\", \"<b>9.00</b>\", \"<b>19.00</b>\", \"<b>12.00</b>\", \"<b>19.00</b>\", \"<b>2.00</b>\", \"<b>2.00</b>\", \"<b>10.00</b>\", \"<b>3.00</b>\", \"<b>12.00</b>\", \"<b>5.00</b>\", \"<b>19.00</b>\", \"<b>14.00</b>\", \"<b>11.00</b>\", \"<b>11.00</b>\", \"<b>13.00</b>\", \"<b>13.00</b>\", \"<b>6.00</b>\", \"<b>9.00</b>\", \"<b>21.00</b>\", \"<b>8.00</b>\", \"<b>17.00</b>\", \"<b>26.00</b>\", \"<b>4.00</b>\", \"<b>21.00</b>\", \"<b>13.00</b>\", \"<b>18.00</b>\"], \"textposition\": \"outside\", \"type\": \"bar\", \"x\": [\"FEBASP-A\", \"UFRN-D-4\", \"UFSC-UHEADC-4\", \" FIAMFAAM-PPeGdEU-3\", \"USP-D\", \"UVV-AEC\", \"UniCEUB-AEU\", \"CESAR-AM-DDAD-3\", \"UFRJ-D\", \"UFAM-D\", \"UDESC-DDVEM\", \"UNIRITTER-D-4\", \"IMED-AEU-3\", \"PUC-RIO-A-3\", \"UNIRITTER-AeU-4\", \"UFCG-D-3\", \"CESAR-D-3\", \"UFPE-E-3\", \"UFRJ-AP-4\", \"UFMA-D-3\", \"UFSC-D-5\", \"UFRN-AEU-4\", \"UFPB-JP-AEU-4\", \"UFC-AEUED-3\", \"UERJ-D-4\", \"USJT-AEU-4\", \"UFU-AeU-3\", \"UNIFOR-CDC-3\", \"UFRJ-PeP-4\", \"UFG-PEC-3\", \"UNESP-BAURU-D-6\", \"UAM-D-5\", \"UDESC-D-4\", \"UFPR-D-4\", \"UNIFATEA-DTEI-3\", \"UNB-D-3\", \"UNISINOS-AeU-4\", \"UFV-AEU-4\", \"UNESP-BAURU-AeU-4\", \"PUCCAMP-AeU-5\", \"UFRGS-D-5\", \"UFRJ-U-5\", \"UFRGS-A-4\", \"UFES-AEU-4\", \"UFF-AEU-4\", \"UEL-AeU-4\", \"UFBA-AEU-4\", \"UFPEL-AEU-4\", \"UFJF-AC-4\", \"UFRJ-A-6\", \"UFMG-AEU-6\", \"UNICAMP-ATeC-5\", \"UEMG-D-5\", \"UFAL-DDEH-3\", \"UNISINOS-D-5\", \"PUC-RIO-D-5\", \"UFPA-AeU-4\", \"USP/SC-AEU-4\", \"UPM-AEU-6\", \"UFPE-D-4\", \"UFSC-AEU-5\", \"UNB-AEU-4\", \"USP-AEU-4\"], \"y\": [0, 0, 0, 0, 3, 1, 1, 0, 1, 4, 7, 6, 7, 5, 1, 8, 0, 0, 4, 7, 21, 4, 3, 9, 2, 1, 7, 1, 1, 5, 18, 18, 14, 7, 2, 6, 9, 9, 19, 12, 19, 2, 2, 10, 3, 12, 5, 19, 14, 11, 11, 13, 13, 6, 9, 21, 8, 17, 26, 4, 21, 13, 18]}, {\"marker\": {\"color\": \"#FF0000\"}, \"name\": \"Mestre com Peri\\u00f3dico\", \"text\": [\"<b>0.00</b>\", \"<b>0.00</b>\", \"<b>0.00</b>\", \"<b>0.00</b>\", \"<b>4.00</b>\", \"<b>2.00</b>\", \"<b>2.00</b>\", \"<b>0.00</b>\", \"<b>1.00</b>\", \"<b>6.00</b>\", \"<b>7.00</b>\", \"<b>8.00</b>\", \"<b>12.00</b>\", \"<b>6.00</b>\", \"<b>1.00</b>\", \"<b>11.00</b>\", \"<b>0.00</b>\", \"<b>0.00</b>\", \"<b>5.00</b>\", \"<b>8.00</b>\", \"<b>24.00</b>\", \"<b>9.00</b>\", \"<b>4.00</b>\", \"<b>11.00</b>\", \"<b>5.00</b>\", \"<b>17.00</b>\", \"<b>10.00</b>\", \"<b>2.00</b>\", \"<b>1.00</b>\", \"<b>7.00</b>\", \"<b>26.00</b>\", \"<b>20.00</b>\", \"<b>21.00</b>\", \"<b>10.00</b>\", \"<b>7.00</b>\", \"<b>7.00</b>\", \"<b>11.00</b>\", \"<b>12.00</b>\", \"<b>24.00</b>\", \"<b>16.00</b>\", \"<b>24.00</b>\", \"<b>4.00</b>\", \"<b>2.00</b>\", \"<b>14.00</b>\", \"<b>9.00</b>\", \"<b>14.00</b>\", \"<b>7.00</b>\", \"<b>29.00</b>\", \"<b>18.00</b>\", \"<b>14.00</b>\", \"<b>13.00</b>\", \"<b>16.00</b>\", \"<b>21.00</b>\", \"<b>11.00</b>\", \"<b>10.00</b>\", \"<b>24.00</b>\", \"<b>8.00</b>\", \"<b>21.00</b>\", \"<b>36.00</b>\", \"<b>4.00</b>\", \"<b>23.00</b>\", \"<b>16.00</b>\", \"<b>31.00</b>\"], \"textposition\": \"outside\", \"type\": \"bar\", \"x\": [\"FEBASP-A\", \"UFRN-D-4\", \"UFSC-UHEADC-4\", \" FIAMFAAM-PPeGdEU-3\", \"USP-D\", \"UVV-AEC\", \"UniCEUB-AEU\", \"CESAR-AM-DDAD-3\", \"UFRJ-D\", \"UFAM-D\", \"UDESC-DDVEM\", \"UNIRITTER-D-4\", \"IMED-AEU-3\", \"PUC-RIO-A-3\", \"UNIRITTER-AeU-4\", \"UFCG-D-3\", \"CESAR-D-3\", \"UFPE-E-3\", \"UFRJ-AP-4\", \"UFMA-D-3\", \"UFSC-D-5\", \"UFRN-AEU-4\", \"UFPB-JP-AEU-4\", \"UFC-AEUED-3\", \"UERJ-D-4\", \"USJT-AEU-4\", \"UFU-AeU-3\", \"UNIFOR-CDC-3\", \"UFRJ-PeP-4\", \"UFG-PEC-3\", \"UNESP-BAURU-D-6\", \"UAM-D-5\", \"UDESC-D-4\", \"UFPR-D-4\", \"UNIFATEA-DTEI-3\", \"UNB-D-3\", \"UNISINOS-AeU-4\", \"UFV-AEU-4\", \"UNESP-BAURU-AeU-4\", \"PUCCAMP-AeU-5\", \"UFRGS-D-5\", \"UFRJ-U-5\", \"UFRGS-A-4\", \"UFES-AEU-4\", \"UFF-AEU-4\", \"UEL-AeU-4\", \"UFBA-AEU-4\", \"UFPEL-AEU-4\", \"UFJF-AC-4\", \"UFRJ-A-6\", \"UFMG-AEU-6\", \"UNICAMP-ATeC-5\", \"UEMG-D-5\", \"UFAL-DDEH-3\", \"UNISINOS-D-5\", \"PUC-RIO-D-5\", \"UFPA-AeU-4\", \"USP/SC-AEU-4\", \"UPM-AEU-6\", \"UFPE-D-4\", \"UFSC-AEU-5\", \"UNB-AEU-4\", \"USP-AEU-4\"], \"y\": [0, 0, 0, 0, 4, 2, 2, 0, 1, 6, 7, 8, 12, 6, 1, 11, 0, 0, 5, 8, 24, 9, 4, 11, 5, 17, 10, 2, 1, 7, 26, 20, 21, 10, 7, 7, 11, 12, 24, 16, 24, 4, 2, 14, 9, 14, 7, 29, 18, 14, 13, 16, 21, 11, 10, 24, 8, 21, 36, 4, 23, 16, 31]}, {\"marker\": {\"color\": \"#00FF00\"}, \"name\": \"Mestre com Publica\\u00e7\\u00e3o\", \"text\": [\"<b>0.00</b>\", \"<b>1.00</b>\", \"<b>0.00</b>\", \"<b>0.00</b>\", \"<b>7.00</b>\", \"<b>5.00</b>\", \"<b>5.00</b>\", \"<b>1.00</b>\", \"<b>3.00</b>\", \"<b>7.00</b>\", \"<b>12.00</b>\", \"<b>10.00</b>\", \"<b>17.00</b>\", \"<b>8.00</b>\", \"<b>4.00</b>\", \"<b>14.00</b>\", \"<b>3.00</b>\", \"<b>2.00</b>\", \"<b>12.00</b>\", \"<b>20.00</b>\", \"<b>28.00</b>\", \"<b>21.00</b>\", \"<b>11.00</b>\", \"<b>25.00</b>\", \"<b>17.00</b>\", \"<b>21.00</b>\", \"<b>30.00</b>\", \"<b>4.00</b>\", \"<b>31.00</b>\", \"<b>17.00</b>\", \"<b>31.00</b>\", \"<b>25.00</b>\", \"<b>32.00</b>\", \"<b>26.00</b>\", \"<b>7.00</b>\", \"<b>22.00</b>\", \"<b>18.00</b>\", \"<b>27.00</b>\", \"<b>37.00</b>\", \"<b>27.00</b>\", \"<b>30.00</b>\", \"<b>17.00</b>\", \"<b>18.00</b>\", \"<b>28.00</b>\", \"<b>22.00</b>\", \"<b>36.00</b>\", \"<b>29.00</b>\", \"<b>43.00</b>\", \"<b>40.00</b>\", \"<b>47.00</b>\", \"<b>32.00</b>\", \"<b>45.00</b>\", \"<b>40.00</b>\", \"<b>33.00</b>\", \"<b>28.00</b>\", \"<b>35.00</b>\", \"<b>20.00</b>\", \"<b>50.00</b>\", \"<b>56.00</b>\", \"<b>25.00</b>\", \"<b>47.00</b>\", \"<b>48.00</b>\", \"<b>107.00</b>\"], \"textposition\": \"outside\", \"type\": \"bar\", \"x\": [\"FEBASP-A\", \"UFRN-D-4\", \"UFSC-UHEADC-4\", \" FIAMFAAM-PPeGdEU-3\", \"USP-D\", \"UVV-AEC\", \"UniCEUB-AEU\", \"CESAR-AM-DDAD-3\", \"UFRJ-D\", \"UFAM-D\", \"UDESC-DDVEM\", \"UNIRITTER-D-4\", \"IMED-AEU-3\", \"PUC-RIO-A-3\", \"UNIRITTER-AeU-4\", \"UFCG-D-3\", \"CESAR-D-3\", \"UFPE-E-3\", \"UFRJ-AP-4\", \"UFMA-D-3\", \"UFSC-D-5\", \"UFRN-AEU-4\", \"UFPB-JP-AEU-4\", \"UFC-AEUED-3\", \"UERJ-D-4\", \"USJT-AEU-4\", \"UFU-AeU-3\", \"UNIFOR-CDC-3\", \"UFRJ-PeP-4\", \"UFG-PEC-3\", \"UNESP-BAURU-D-6\", \"UAM-D-5\", \"UDESC-D-4\", \"UFPR-D-4\", \"UNIFATEA-DTEI-3\", \"UNB-D-3\", \"UNISINOS-AeU-4\", \"UFV-AEU-4\", \"UNESP-BAURU-AeU-4\", \"PUCCAMP-AeU-5\", \"UFRGS-D-5\", \"UFRJ-U-5\", \"UFRGS-A-4\", \"UFES-AEU-4\", \"UFF-AEU-4\", \"UEL-AeU-4\", \"UFBA-AEU-4\", \"UFPEL-AEU-4\", \"UFJF-AC-4\", \"UFRJ-A-6\", \"UFMG-AEU-6\", \"UNICAMP-ATeC-5\", \"UEMG-D-5\", \"UFAL-DDEH-3\", \"UNISINOS-D-5\", \"PUC-RIO-D-5\", \"UFPA-AeU-4\", \"USP/SC-AEU-4\", \"UPM-AEU-6\", \"UFPE-D-4\", \"UFSC-AEU-5\", \"UNB-AEU-4\", \"USP-AEU-4\"], \"y\": [0, 1, 0, 0, 7, 5, 5, 1, 3, 7, 12, 10, 17, 8, 4, 14, 3, 2, 12, 20, 28, 21, 11, 25, 17, 21, 30, 4, 31, 17, 31, 25, 32, 26, 7, 22, 18, 27, 37, 27, 30, 17, 18, 28, 22, 36, 29, 43, 40, 47, 32, 45, 40, 33, 28, 35, 20, 50, 56, 25, 47, 48, 107]}, {\"marker\": {\"color\": \"#0000ff\"}, \"name\": \"Mestre \", \"text\": [\"<b>3.00</b>\", \"<b>4.00</b>\", \"<b>6.00</b>\", \"<b>8.00</b>\", \"<b>8.00</b>\", \"<b>8.00</b>\", \"<b>8.00</b>\", \"<b>10.00</b>\", \"<b>10.00</b>\", \"<b>11.00</b>\", \"<b>14.00</b>\", \"<b>16.00</b>\", \"<b>18.00</b>\", \"<b>22.00</b>\", \"<b>23.00</b>\", \"<b>25.00</b>\", \"<b>26.00</b>\", \"<b>26.00</b>\", \"<b>28.00</b>\", \"<b>28.00</b>\", \"<b>30.00</b>\", \"<b>31.00</b>\", \"<b>31.00</b>\", \"<b>31.00</b>\", \"<b>31.00</b>\", \"<b>33.00</b>\", \"<b>34.00</b>\", \"<b>35.00</b>\", \"<b>36.00</b>\", \"<b>37.00</b>\", \"<b>38.00</b>\", \"<b>38.00</b>\", \"<b>38.00</b>\", \"<b>39.00</b>\", \"<b>40.00</b>\", \"<b>41.00</b>\", \"<b>42.00</b>\", \"<b>44.00</b>\", \"<b>44.00</b>\", \"<b>44.00</b>\", \"<b>45.00</b>\", \"<b>45.00</b>\", \"<b>46.00</b>\", \"<b>47.00</b>\", \"<b>48.00</b>\", \"<b>49.00</b>\", \"<b>50.00</b>\", \"<b>52.00</b>\", \"<b>54.00</b>\", \"<b>57.00</b>\", \"<b>57.00</b>\", \"<b>57.00</b>\", \"<b>57.00</b>\", \"<b>57.00</b>\", \"<b>59.00</b>\", \"<b>63.00</b>\", \"<b>66.00</b>\", \"<b>76.00</b>\", \"<b>83.00</b>\", \"<b>90.00</b>\", \"<b>98.00</b>\", \"<b>104.00</b>\", \"<b>223.00</b>\"], \"textposition\": \"outside\", \"type\": \"bar\", \"x\": [\"FEBASP-A\", \"UFRN-D-4\", \"UFSC-UHEADC-4\", \" FIAMFAAM-PPeGdEU-3\", \"USP-D\", \"UVV-AEC\", \"UniCEUB-AEU\", \"CESAR-AM-DDAD-3\", \"UFRJ-D\", \"UFAM-D\", \"UDESC-DDVEM\", \"UNIRITTER-D-4\", \"IMED-AEU-3\", \"PUC-RIO-A-3\", \"UNIRITTER-AeU-4\", \"UFCG-D-3\", \"CESAR-D-3\", \"UFPE-E-3\", \"UFRJ-AP-4\", \"UFMA-D-3\", \"UFSC-D-5\", \"UFRN-AEU-4\", \"UFPB-JP-AEU-4\", \"UFC-AEUED-3\", \"UERJ-D-4\", \"USJT-AEU-4\", \"UFU-AeU-3\", \"UNIFOR-CDC-3\", \"UFRJ-PeP-4\", \"UFG-PEC-3\", \"UNESP-BAURU-D-6\", \"UAM-D-5\", \"UDESC-D-4\", \"UFPR-D-4\", \"UNIFATEA-DTEI-3\", \"UNB-D-3\", \"UNISINOS-AeU-4\", \"UFV-AEU-4\", \"UNESP-BAURU-AeU-4\", \"PUCCAMP-AeU-5\", \"UFRGS-D-5\", \"UFRJ-U-5\", \"UFRGS-A-4\", \"UFES-AEU-4\", \"UFF-AEU-4\", \"UEL-AeU-4\", \"UFBA-AEU-4\", \"UFPEL-AEU-4\", \"UFJF-AC-4\", \"UFRJ-A-6\", \"UFMG-AEU-6\", \"UNICAMP-ATeC-5\", \"UEMG-D-5\", \"UFAL-DDEH-3\", \"UNISINOS-D-5\", \"PUC-RIO-D-5\", \"UFPA-AeU-4\", \"USP/SC-AEU-4\", \"UPM-AEU-6\", \"UFPE-D-4\", \"UFSC-AEU-5\", \"UNB-AEU-4\", \"USP-AEU-4\"], \"y\": [3, 4, 6, 8, 8, 8, 8, 10, 10, 11, 14, 16, 18, 22, 23, 25, 26, 26, 28, 28, 30, 31, 31, 31, 31, 33, 34, 35, 36, 37, 38, 38, 38, 39, 40, 41, 42, 44, 44, 44, 45, 45, 46, 47, 48, 49, 50, 52, 54, 57, 57, 57, 57, 57, 59, 63, 66, 76, 83, 90, 98, 104, 223]}],                        {\"font\": {\"size\": 42.0}, \"height\": 3150.0, \"legend\": {\"font\": {\"color\": \"#000000\"}, \"orientation\": \"v\", \"x\": 0, \"y\": 1}, \"template\": {\"data\": {\"bar\": [{\"error_x\": {\"color\": \"#2a3f5f\"}, \"error_y\": {\"color\": \"#2a3f5f\"}, \"marker\": {\"line\": {\"color\": \"#E5ECF6\", \"width\": 0.5}}, \"type\": \"bar\"}], \"barpolar\": [{\"marker\": {\"line\": {\"color\": \"#E5ECF6\", \"width\": 0.5}}, \"type\": \"barpolar\"}], \"carpet\": [{\"aaxis\": {\"endlinecolor\": \"#2a3f5f\", \"gridcolor\": \"white\", \"linecolor\": \"white\", \"minorgridcolor\": \"white\", \"startlinecolor\": \"#2a3f5f\"}, \"baxis\": {\"endlinecolor\": \"#2a3f5f\", \"gridcolor\": \"white\", \"linecolor\": \"white\", \"minorgridcolor\": \"white\", \"startlinecolor\": \"#2a3f5f\"}, \"type\": \"carpet\"}], \"choropleth\": [{\"colorbar\": {\"outlinewidth\": 0, \"ticks\": \"\"}, \"type\": \"choropleth\"}], \"contour\": [{\"colorbar\": {\"outlinewidth\": 0, \"ticks\": \"\"}, \"colorscale\": [[0.0, \"#0d0887\"], [0.1111111111111111, \"#46039f\"], [0.2222222222222222, \"#7201a8\"], [0.3333333333333333, \"#9c179e\"], [0.4444444444444444, \"#bd3786\"], [0.5555555555555556, \"#d8576b\"], [0.6666666666666666, \"#ed7953\"], [0.7777777777777778, \"#fb9f3a\"], [0.8888888888888888, \"#fdca26\"], [1.0, \"#f0f921\"]], \"type\": \"contour\"}], \"contourcarpet\": [{\"colorbar\": {\"outlinewidth\": 0, \"ticks\": \"\"}, \"type\": \"contourcarpet\"}], \"heatmap\": [{\"colorbar\": {\"outlinewidth\": 0, \"ticks\": \"\"}, \"colorscale\": [[0.0, \"#0d0887\"], [0.1111111111111111, \"#46039f\"], [0.2222222222222222, \"#7201a8\"], [0.3333333333333333, \"#9c179e\"], [0.4444444444444444, \"#bd3786\"], [0.5555555555555556, \"#d8576b\"], [0.6666666666666666, \"#ed7953\"], [0.7777777777777778, \"#fb9f3a\"], [0.8888888888888888, \"#fdca26\"], [1.0, \"#f0f921\"]], \"type\": \"heatmap\"}], \"heatmapgl\": [{\"colorbar\": {\"outlinewidth\": 0, \"ticks\": \"\"}, \"colorscale\": [[0.0, \"#0d0887\"], [0.1111111111111111, \"#46039f\"], [0.2222222222222222, \"#7201a8\"], [0.3333333333333333, \"#9c179e\"], [0.4444444444444444, \"#bd3786\"], [0.5555555555555556, \"#d8576b\"], [0.6666666666666666, \"#ed7953\"], [0.7777777777777778, \"#fb9f3a\"], [0.8888888888888888, \"#fdca26\"], [1.0, \"#f0f921\"]], \"type\": \"heatmapgl\"}], \"histogram\": [{\"marker\": {\"colorbar\": {\"outlinewidth\": 0, \"ticks\": \"\"}}, \"type\": \"histogram\"}], \"histogram2d\": [{\"colorbar\": {\"outlinewidth\": 0, \"ticks\": \"\"}, \"colorscale\": [[0.0, \"#0d0887\"], [0.1111111111111111, \"#46039f\"], [0.2222222222222222, \"#7201a8\"], [0.3333333333333333, \"#9c179e\"], [0.4444444444444444, \"#bd3786\"], [0.5555555555555556, \"#d8576b\"], [0.6666666666666666, \"#ed7953\"], [0.7777777777777778, \"#fb9f3a\"], [0.8888888888888888, \"#fdca26\"], [1.0, \"#f0f921\"]], \"type\": \"histogram2d\"}], \"histogram2dcontour\": [{\"colorbar\": {\"outlinewidth\": 0, \"ticks\": \"\"}, \"colorscale\": [[0.0, \"#0d0887\"], [0.1111111111111111, \"#46039f\"], [0.2222222222222222, \"#7201a8\"], [0.3333333333333333, \"#9c179e\"], [0.4444444444444444, \"#bd3786\"], [0.5555555555555556, \"#d8576b\"], [0.6666666666666666, \"#ed7953\"], [0.7777777777777778, \"#fb9f3a\"], [0.8888888888888888, \"#fdca26\"], [1.0, \"#f0f921\"]], \"type\": \"histogram2dcontour\"}], \"mesh3d\": [{\"colorbar\": {\"outlinewidth\": 0, \"ticks\": \"\"}, \"type\": \"mesh3d\"}], \"parcoords\": [{\"line\": {\"colorbar\": {\"outlinewidth\": 0, \"ticks\": \"\"}}, \"type\": \"parcoords\"}], \"pie\": [{\"automargin\": true, \"type\": \"pie\"}], \"scatter\": [{\"marker\": {\"colorbar\": {\"outlinewidth\": 0, \"ticks\": \"\"}}, \"type\": \"scatter\"}], \"scatter3d\": [{\"line\": {\"colorbar\": {\"outlinewidth\": 0, \"ticks\": \"\"}}, \"marker\": {\"colorbar\": {\"outlinewidth\": 0, \"ticks\": \"\"}}, \"type\": \"scatter3d\"}], \"scattercarpet\": [{\"marker\": {\"colorbar\": {\"outlinewidth\": 0, \"ticks\": \"\"}}, \"type\": \"scattercarpet\"}], \"scattergeo\": [{\"marker\": {\"colorbar\": {\"outlinewidth\": 0, \"ticks\": \"\"}}, \"type\": \"scattergeo\"}], \"scattergl\": [{\"marker\": {\"colorbar\": {\"outlinewidth\": 0, \"ticks\": \"\"}}, \"type\": \"scattergl\"}], \"scattermapbox\": [{\"marker\": {\"colorbar\": {\"outlinewidth\": 0, \"ticks\": \"\"}}, \"type\": \"scattermapbox\"}], \"scatterpolar\": [{\"marker\": {\"colorbar\": {\"outlinewidth\": 0, \"ticks\": \"\"}}, \"type\": \"scatterpolar\"}], \"scatterpolargl\": [{\"marker\": {\"colorbar\": {\"outlinewidth\": 0, \"ticks\": \"\"}}, \"type\": \"scatterpolargl\"}], \"scatterternary\": [{\"marker\": {\"colorbar\": {\"outlinewidth\": 0, \"ticks\": \"\"}}, \"type\": \"scatterternary\"}], \"surface\": [{\"colorbar\": {\"outlinewidth\": 0, \"ticks\": \"\"}, \"colorscale\": [[0.0, \"#0d0887\"], [0.1111111111111111, \"#46039f\"], [0.2222222222222222, \"#7201a8\"], [0.3333333333333333, \"#9c179e\"], [0.4444444444444444, \"#bd3786\"], [0.5555555555555556, \"#d8576b\"], [0.6666666666666666, \"#ed7953\"], [0.7777777777777778, \"#fb9f3a\"], [0.8888888888888888, \"#fdca26\"], [1.0, \"#f0f921\"]], \"type\": \"surface\"}], \"table\": [{\"cells\": {\"fill\": {\"color\": \"#EBF0F8\"}, \"line\": {\"color\": \"white\"}}, \"header\": {\"fill\": {\"color\": \"#C8D4E3\"}, \"line\": {\"color\": \"white\"}}, \"type\": \"table\"}]}, \"layout\": {\"annotationdefaults\": {\"arrowcolor\": \"#2a3f5f\", \"arrowhead\": 0, \"arrowwidth\": 1}, \"coloraxis\": {\"colorbar\": {\"outlinewidth\": 0, \"ticks\": \"\"}}, \"colorscale\": {\"diverging\": [[0, \"#8e0152\"], [0.1, \"#c51b7d\"], [0.2, \"#de77ae\"], [0.3, \"#f1b6da\"], [0.4, \"#fde0ef\"], [0.5, \"#f7f7f7\"], [0.6, \"#e6f5d0\"], [0.7, \"#b8e186\"], [0.8, \"#7fbc41\"], [0.9, \"#4d9221\"], [1, \"#276419\"]], \"sequential\": [[0.0, \"#0d0887\"], [0.1111111111111111, \"#46039f\"], [0.2222222222222222, \"#7201a8\"], [0.3333333333333333, \"#9c179e\"], [0.4444444444444444, \"#bd3786\"], [0.5555555555555556, \"#d8576b\"], [0.6666666666666666, \"#ed7953\"], [0.7777777777777778, \"#fb9f3a\"], [0.8888888888888888, \"#fdca26\"], [1.0, \"#f0f921\"]], \"sequentialminus\": [[0.0, \"#0d0887\"], [0.1111111111111111, \"#46039f\"], [0.2222222222222222, \"#7201a8\"], [0.3333333333333333, \"#9c179e\"], [0.4444444444444444, \"#bd3786\"], [0.5555555555555556, \"#d8576b\"], [0.6666666666666666, \"#ed7953\"], [0.7777777777777778, \"#fb9f3a\"], [0.8888888888888888, \"#fdca26\"], [1.0, \"#f0f921\"]]}, \"colorway\": [\"#636efa\", \"#EF553B\", \"#00cc96\", \"#ab63fa\", \"#FFA15A\", \"#19d3f3\", \"#FF6692\", \"#B6E880\", \"#FF97FF\", \"#FECB52\"], \"font\": {\"color\": \"#2a3f5f\"}, \"geo\": {\"bgcolor\": \"white\", \"lakecolor\": \"white\", \"landcolor\": \"#E5ECF6\", \"showlakes\": true, \"showland\": true, \"subunitcolor\": \"white\"}, \"hoverlabel\": {\"align\": \"left\"}, \"hovermode\": \"closest\", \"mapbox\": {\"style\": \"light\"}, \"paper_bgcolor\": \"white\", \"plot_bgcolor\": \"#E5ECF6\", \"polar\": {\"angularaxis\": {\"gridcolor\": \"white\", \"linecolor\": \"white\", \"ticks\": \"\"}, \"bgcolor\": \"#E5ECF6\", \"radialaxis\": {\"gridcolor\": \"white\", \"linecolor\": \"white\", \"ticks\": \"\"}}, \"scene\": {\"xaxis\": {\"backgroundcolor\": \"#E5ECF6\", \"gridcolor\": \"white\", \"gridwidth\": 2, \"linecolor\": \"white\", \"showbackground\": true, \"ticks\": \"\", \"zerolinecolor\": \"white\"}, \"yaxis\": {\"backgroundcolor\": \"#E5ECF6\", \"gridcolor\": \"white\", \"gridwidth\": 2, \"linecolor\": \"white\", \"showbackground\": true, \"ticks\": \"\", \"zerolinecolor\": \"white\"}, \"zaxis\": {\"backgroundcolor\": \"#E5ECF6\", \"gridcolor\": \"white\", \"gridwidth\": 2, \"linecolor\": \"white\", \"showbackground\": true, \"ticks\": \"\", \"zerolinecolor\": \"white\"}}, \"shapedefaults\": {\"line\": {\"color\": \"#2a3f5f\"}}, \"ternary\": {\"aaxis\": {\"gridcolor\": \"white\", \"linecolor\": \"white\", \"ticks\": \"\"}, \"baxis\": {\"gridcolor\": \"white\", \"linecolor\": \"white\", \"ticks\": \"\"}, \"bgcolor\": \"#E5ECF6\", \"caxis\": {\"gridcolor\": \"white\", \"linecolor\": \"white\", \"ticks\": \"\"}}, \"title\": {\"x\": 0.05}, \"xaxis\": {\"automargin\": true, \"gridcolor\": \"white\", \"linecolor\": \"white\", \"ticks\": \"\", \"title\": {\"standoff\": 15}, \"zerolinecolor\": \"white\", \"zerolinewidth\": 2}, \"yaxis\": {\"automargin\": true, \"gridcolor\": \"white\", \"linecolor\": \"white\", \"ticks\": \"\", \"title\": {\"standoff\": 15}, \"zerolinecolor\": \"white\", \"zerolinewidth\": 2}}}, \"title\": {\"font\": {\"color\": \"#000000\", \"size\": 50}, \"text\": \"Mestres Formandos (2017, 2018, 2019)\", \"x\": 0.5, \"xanchor\": \"center\"}, \"width\": 6300, \"xaxis\": {\"title\": {\"text\": \"Institui\\u00e7\\u00e3o\"}}},                        {\"responsive\": true}                    ).then(function(){\n",
       "                            \n",
       "var gd = document.getElementById('d0295495-c063-4753-913e-87414cd30120');\n",
       "var x = new MutationObserver(function (mutations, observer) {{\n",
       "        var display = window.getComputedStyle(gd).display;\n",
       "        if (!display || display === 'none') {{\n",
       "            console.log([gd, 'removed!']);\n",
       "            Plotly.purge(gd);\n",
       "            observer.disconnect();\n",
       "        }}\n",
       "}});\n",
       "\n",
       "// Listen for the removal of the full notebook cells\n",
       "var notebookContainer = gd.closest('#notebook-container');\n",
       "if (notebookContainer) {{\n",
       "    x.observe(notebookContainer, {childList: true});\n",
       "}}\n",
       "\n",
       "// Listen for the clearing of the current output cell\n",
       "var outputEl = gd.closest('.output');\n",
       "if (outputEl) {{\n",
       "    x.observe(outputEl, {childList: true});\n",
       "}}\n",
       "\n",
       "                        })                };                });            </script>        </div>"
      ]
     },
     "metadata": {},
     "output_type": "display_data"
    }
   ],
   "source": [
    "make_chart(mestres_formandos, f'Mestres Formandos ({\", \".join(ANOS)})')"
   ]
  },
  {
   "cell_type": "code",
   "execution_count": null,
   "metadata": {},
   "outputs": [],
   "source": []
  },
  {
   "cell_type": "code",
   "execution_count": null,
   "metadata": {},
   "outputs": [],
   "source": []
  }
 ],
 "metadata": {
  "kernelspec": {
   "display_name": "Python 3",
   "language": "python",
   "name": "python3"
  },
  "language_info": {
   "codemirror_mode": {
    "name": "ipython",
    "version": 3
   },
   "file_extension": ".py",
   "mimetype": "text/x-python",
   "name": "python",
   "nbconvert_exporter": "python",
   "pygments_lexer": "ipython3",
   "version": "3.8.5"
  }
 },
 "nbformat": 4,
 "nbformat_minor": 4
}
