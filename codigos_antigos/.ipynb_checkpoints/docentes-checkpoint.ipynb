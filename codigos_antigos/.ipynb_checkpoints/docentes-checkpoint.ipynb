{
 "cells": [
  {
   "cell_type": "code",
   "execution_count": 4,
   "metadata": {},
   "outputs": [],
   "source": [
    "import plotly.offline as py\n",
    "import plotly.graph_objs as go"
   ]
  },
  {
   "cell_type": "code",
   "execution_count": 12,
   "metadata": {
    "scrolled": true
   },
   "outputs": [],
   "source": [
    "# para o processamento dos dados\n",
    "import MyUtil\n",
    "from collections import defaultdict\n",
    "\n",
    "FILE_NAME = 'docentes.xlsx'\n",
    "PATH = 'dados_arquitetura_'\n",
    "ANOS = {'2013', '2014', '2015', '2016'}\n",
    "\n",
    "\n",
    "def get_docentes(filepath):\n",
    "    \"\"\"\n",
    "    Função que recupera e processa os dados de interesse\n",
    "    :return: um dicionario, com os dados de interesse\n",
    "    \"\"\"\n",
    "    registers = MyUtil.read_file(FILE_NAME, filepath)\n",
    "\n",
    "    docentes = defaultdict(lambda: list())\n",
    "    for row in registers:\n",
    "        docentes[row[3]].append({\n",
    "            'name': row[8],\n",
    "            'category': row[12]\n",
    "        })\n",
    "\n",
    "    return docentes\n",
    "\n",
    "\n",
    "def get_docentes_programa(p_code):\n",
    "    \"\"\"\n",
    "    Função que avalia e calcula a média de docentes por categoria\n",
    "    :param p_code: dicionário com chaves equivalentes ao nomes e valores equivalentes a categoria\n",
    "    :return: a média por codigo\n",
    "    \"\"\"\n",
    "    names_categories = dict()\n",
    "\n",
    "    for docente in p_code:\n",
    "        if docente['name'] not in names_categories.keys():  # primeira vez que o docente é registrado\n",
    "            names_categories[docente['name']] = docente['category']\n",
    "\n",
    "        elif names_categories[docente['name']] not in ('BOTH', docente['category']):\n",
    "            # registrado como outra categoria -> pertence a ambas\n",
    "            names_categories[docente['name']] = 'BOTH'\n",
    "\n",
    "    docentes_programa = {'PERMANENTE': 0, 'COLABORADOR': 0, 'total': 0}\n",
    "    for category in names_categories.values():  # ignora os nomes, apenas considera as categorias\n",
    "        if category in ('PERMANENTE', 'COLABORADOR'):\n",
    "            docentes_programa[category] += 1\n",
    "        else:  # ambas as categorias\n",
    "            docentes_programa['PERMANENTE'] += 0.5\n",
    "            docentes_programa['COLABORADOR'] += 0.5\n",
    "\n",
    "    return docentes_programa\n",
    "\n",
    "\n",
    "def get_docentes_programas(docentes):\n",
    "    \"\"\"\n",
    "    Função que calcula todas as médias\n",
    "    :param docentes: os dados recolhidos\n",
    "    :return: a média individual de cada programa\n",
    "    \"\"\"\n",
    "    codes = {code for code in docentes.keys()}\n",
    "    doc_prog = defaultdict(lambda: {\n",
    "        'PERMANENTE': 0,\n",
    "        'COLABORADOR': 0,\n",
    "        'total': 0\n",
    "    })\n",
    "\n",
    "    for code in codes:\n",
    "        d_programa = get_docentes_programa(docentes[code])\n",
    "\n",
    "        new_code = code\n",
    "        if code in programas_nivel.keys():\n",
    "            new_code = programas_nivel[code]\n",
    "        elif code in programas.keys():\n",
    "            new_code = programas[code]\n",
    "\n",
    "        doc_prog[new_code]['PERMANENTE'] += d_programa['PERMANENTE']\n",
    "        doc_prog[new_code]['COLABORADOR'] += d_programa['COLABORADOR']\n",
    "        doc_prog[new_code]['total'] += d_programa['PERMANENTE'] + d_programa['COLABORADOR']\n",
    "\n",
    "    return doc_prog\n",
    "\n",
    "\n",
    "def make_chart(chart_data):\n",
    "    \"\"\"\n",
    "    Monta o gráfico com base nos dados\n",
    "    :param chart_data: dadaos para a elaboraçõa do gráfico\n",
    "    :return: none\n",
    "    \"\"\"\n",
    "    import plotly.offline as py\n",
    "    import plotly.graph_objs as go\n",
    "\n",
    "    trace_perm = go.Bar(x=list(chart_data.keys()),\n",
    "                        y=[f_d['PERMANENTE'] for f_d in chart_data.values()],\n",
    "                        name='PERMANENTE',\n",
    "                        marker={'color': '#FF0000'})\n",
    "\n",
    "    trace_colab = go.Bar(x=list(chart_data.keys()),\n",
    "                         y=[f_d['COLABORADOR'] for f_d in chart_data.values()],\n",
    "                         name='COLABORADOR',\n",
    "                         marker={'color': '#0000FF'})\n",
    "\n",
    "    data = [trace_perm, trace_colab]\n",
    "\n",
    "    title = {\n",
    "        'text': 'Médias de Docentes Permanentes e Colaboradores',\n",
    "        'x': 0.5,\n",
    "        'xanchor': 'center',\n",
    "        'font': {\n",
    "            'color': '#000000',\n",
    "            'size': 20\n",
    "        }\n",
    "    }\n",
    "\n",
    "    subtitle = {\n",
    "        'font': {'color': '#000000'},\n",
    "        'orientation': 'h',\n",
    "        'x': 0,\n",
    "        'y': 1\n",
    "    }\n",
    "\n",
    "    layout = go.Layout(title=title,\n",
    "                       xaxis={'title': 'Instituição'},\n",
    "                       barmode='stack',\n",
    "                       legend=subtitle)\n",
    "    fig = go.Figure(data=data, layout=layout)\n",
    "    py.iplot(fig)\n",
    "\n",
    "\n",
    "def sort_dict(dict_to_sort):\n",
    "    sorted_dict = {value[0]: value[1] for value in sorted(dict_to_sort.items(), key=lambda item: item[1]['PERMANENTE'])}\n",
    "    return {value[0]: value[1] for value in sorted(sorted_dict.items(), key=lambda item: item[1]['total'])}\n",
    "\n",
    "\n",
    "all_registers=dict()\n",
    "list_docentes=dict()\n",
    "programas=dict()\n",
    "\n",
    "#all_registers.update(MyUtil.read_file(FILE_NAME, PATH+ano+'/'))\n",
    "for ano in ANOS: \n",
    "    list_docentes_add = get_docentes(PATH+ano+'/')\n",
    "    for programa in list_docentes_add:\n",
    "        if programa in list_docentes:\n",
    "            list_docentes[programa].extend(list_docentes_add[programa])\n",
    "        else:\n",
    "            list_docentes[programa] = list_docentes_add[programa]\n",
    "    programas.update(MyUtil.read_programas(PATH+ano+'/'))\n",
    "\n",
    "programas_nivel = MyUtil.read_programas_nivel()\n",
    "docentes_programas = sort_dict(get_docentes_programas(list_docentes))\n"
   ]
  },
  {
   "cell_type": "code",
   "execution_count": 13,
   "metadata": {},
   "outputs": [
    {
     "data": {
      "application/vnd.plotly.v1+json": {
       "config": {
        "linkText": "Export to plot.ly",
        "plotlyServerURL": "https://plot.ly",
        "showLink": false
       },
       "data": [
        {
         "marker": {
          "color": "#FF0000"
         },
         "name": "PERMANENTE",
         "type": "bar",
         "x": [
          "UFJF-AC-4",
          "IMED-AEU-3",
          "UNESP-BAURU-AeU-4",
          "PUC-RIO-A-3",
          " FIAMFAAM-PPeGdEU-3",
          "UFRN-D-4",
          "UFU-AeU-3",
          "UNIVILLE-D-4",
          "USJT-AEU-4",
          "UFPE-E-3",
          "UFV-AEU-4",
          "UNIFATEA-DTEI-3",
          "UNISINOS-D-5",
          "UEL-AeU-4",
          "PUCCAMP-AeU-5",
          "UFSC-D-5",
          "UFC-AEUED-3",
          "UNISINOS-AeU-4",
          "UDESC-D-4",
          "UNIRITTER-AeU-4",
          "UFG-PEC-3",
          "UEMG-D-5",
          "UFES-AEU-4",
          "UNB-D-3",
          "UAM-D-5",
          "UFRJ-AP-4",
          "UFPA-AeU-4",
          "UFCG-D-3",
          "UNESP-BAURU-D-6",
          "UFPR-D-4",
          "UFRJ-PeP-4",
          "UFRN-APEMA-4",
          "UERJ-D-4",
          "UNIRITTER-D-4",
          "UFPB-JP-AEU-4",
          "UNIFOR-CDC-3",
          "CESAR-AM-DDAD-3",
          "UFMA-D-3",
          "UFSC-UHEADC-4",
          "UPM-AEU-6",
          "PUC-RIO-D-5",
          "UFRGS-A-4",
          "UFRN-AEU-4",
          "UFPE-D-4",
          "UFPEL-AEU-4",
          "UFRJ-A-6",
          "UFF-AEU-4",
          "UFRJ-U-5",
          "CESAR-D-3",
          "UFRGS-D-5",
          "UFAL-DDEH-3",
          "UFMG-AEU-6",
          "UNICAMP-ATeC-5",
          "USP/SC-AEU-4",
          "UFBA-C-CeR-4",
          "UNB-AEU-4",
          "UFSC-AEU-5",
          "UFBA-AEU-4",
          "USP-AEU-4"
         ],
         "y": [
          9.5,
          10,
          10,
          11,
          11,
          9,
          10,
          10.5,
          12,
          8.5,
          10,
          10,
          10.5,
          12,
          13,
          11,
          11,
          12.5,
          11.5,
          12,
          12.5,
          13,
          10,
          12.5,
          13,
          12,
          15,
          12,
          16.5,
          13.5,
          13.5,
          14.5,
          13,
          14,
          15,
          17.5,
          9,
          14.5,
          15,
          17.5,
          18,
          16,
          18.5,
          17,
          15,
          19.5,
          19.5,
          24.5,
          15.5,
          19.5,
          20,
          22.5,
          22.5,
          23.5,
          25,
          27.5,
          34.5,
          29,
          103
         ]
        },
        {
         "marker": {
          "color": "#0000FF"
         },
         "name": "COLABORADOR",
         "type": "bar",
         "x": [
          "UFJF-AC-4",
          "IMED-AEU-3",
          "UNESP-BAURU-AeU-4",
          "PUC-RIO-A-3",
          " FIAMFAAM-PPeGdEU-3",
          "UFRN-D-4",
          "UFU-AeU-3",
          "UNIVILLE-D-4",
          "USJT-AEU-4",
          "UFPE-E-3",
          "UFV-AEU-4",
          "UNIFATEA-DTEI-3",
          "UNISINOS-D-5",
          "UEL-AeU-4",
          "PUCCAMP-AeU-5",
          "UFSC-D-5",
          "UFC-AEUED-3",
          "UNISINOS-AeU-4",
          "UDESC-D-4",
          "UNIRITTER-AeU-4",
          "UFG-PEC-3",
          "UEMG-D-5",
          "UFES-AEU-4",
          "UNB-D-3",
          "UAM-D-5",
          "UFRJ-AP-4",
          "UFPA-AeU-4",
          "UFCG-D-3",
          "UNESP-BAURU-D-6",
          "UFPR-D-4",
          "UFRJ-PeP-4",
          "UFRN-APEMA-4",
          "UERJ-D-4",
          "UNIRITTER-D-4",
          "UFPB-JP-AEU-4",
          "UNIFOR-CDC-3",
          "CESAR-AM-DDAD-3",
          "UFMA-D-3",
          "UFSC-UHEADC-4",
          "UPM-AEU-6",
          "PUC-RIO-D-5",
          "UFRGS-A-4",
          "UFRN-AEU-4",
          "UFPE-D-4",
          "UFPEL-AEU-4",
          "UFRJ-A-6",
          "UFF-AEU-4",
          "UFRJ-U-5",
          "CESAR-D-3",
          "UFRGS-D-5",
          "UFAL-DDEH-3",
          "UFMG-AEU-6",
          "UNICAMP-ATeC-5",
          "USP/SC-AEU-4",
          "UFBA-C-CeR-4",
          "UNB-AEU-4",
          "UFSC-AEU-5",
          "UFBA-AEU-4",
          "USP-AEU-4"
         ],
         "y": [
          0.5,
          0,
          1,
          0,
          0,
          3,
          2,
          1.5,
          0,
          4.5,
          3,
          3,
          2.5,
          1,
          0,
          3,
          3,
          1.5,
          3.5,
          3,
          2.5,
          2,
          6,
          3.5,
          3,
          5,
          2,
          6,
          1.5,
          5.5,
          5.5,
          4.5,
          7,
          6,
          5,
          2.5,
          12,
          6.5,
          6,
          3.5,
          3,
          6,
          3.5,
          7,
          11,
          6.5,
          8.5,
          4.5,
          14.5,
          10.5,
          11,
          9.5,
          11.5,
          12.5,
          14,
          16.5,
          11.5,
          18,
          38
         ]
        }
       ],
       "layout": {
        "barmode": "stack",
        "legend": {
         "font": {
          "color": "#000000"
         },
         "orientation": "h",
         "x": 0,
         "y": 1
        },
        "template": {
         "data": {
          "bar": [
           {
            "error_x": {
             "color": "#2a3f5f"
            },
            "error_y": {
             "color": "#2a3f5f"
            },
            "marker": {
             "line": {
              "color": "#E5ECF6",
              "width": 0.5
             }
            },
            "type": "bar"
           }
          ],
          "barpolar": [
           {
            "marker": {
             "line": {
              "color": "#E5ECF6",
              "width": 0.5
             }
            },
            "type": "barpolar"
           }
          ],
          "carpet": [
           {
            "aaxis": {
             "endlinecolor": "#2a3f5f",
             "gridcolor": "white",
             "linecolor": "white",
             "minorgridcolor": "white",
             "startlinecolor": "#2a3f5f"
            },
            "baxis": {
             "endlinecolor": "#2a3f5f",
             "gridcolor": "white",
             "linecolor": "white",
             "minorgridcolor": "white",
             "startlinecolor": "#2a3f5f"
            },
            "type": "carpet"
           }
          ],
          "choropleth": [
           {
            "colorbar": {
             "outlinewidth": 0,
             "ticks": ""
            },
            "type": "choropleth"
           }
          ],
          "contour": [
           {
            "colorbar": {
             "outlinewidth": 0,
             "ticks": ""
            },
            "colorscale": [
             [
              0,
              "#0d0887"
             ],
             [
              0.1111111111111111,
              "#46039f"
             ],
             [
              0.2222222222222222,
              "#7201a8"
             ],
             [
              0.3333333333333333,
              "#9c179e"
             ],
             [
              0.4444444444444444,
              "#bd3786"
             ],
             [
              0.5555555555555556,
              "#d8576b"
             ],
             [
              0.6666666666666666,
              "#ed7953"
             ],
             [
              0.7777777777777778,
              "#fb9f3a"
             ],
             [
              0.8888888888888888,
              "#fdca26"
             ],
             [
              1,
              "#f0f921"
             ]
            ],
            "type": "contour"
           }
          ],
          "contourcarpet": [
           {
            "colorbar": {
             "outlinewidth": 0,
             "ticks": ""
            },
            "type": "contourcarpet"
           }
          ],
          "heatmap": [
           {
            "colorbar": {
             "outlinewidth": 0,
             "ticks": ""
            },
            "colorscale": [
             [
              0,
              "#0d0887"
             ],
             [
              0.1111111111111111,
              "#46039f"
             ],
             [
              0.2222222222222222,
              "#7201a8"
             ],
             [
              0.3333333333333333,
              "#9c179e"
             ],
             [
              0.4444444444444444,
              "#bd3786"
             ],
             [
              0.5555555555555556,
              "#d8576b"
             ],
             [
              0.6666666666666666,
              "#ed7953"
             ],
             [
              0.7777777777777778,
              "#fb9f3a"
             ],
             [
              0.8888888888888888,
              "#fdca26"
             ],
             [
              1,
              "#f0f921"
             ]
            ],
            "type": "heatmap"
           }
          ],
          "heatmapgl": [
           {
            "colorbar": {
             "outlinewidth": 0,
             "ticks": ""
            },
            "colorscale": [
             [
              0,
              "#0d0887"
             ],
             [
              0.1111111111111111,
              "#46039f"
             ],
             [
              0.2222222222222222,
              "#7201a8"
             ],
             [
              0.3333333333333333,
              "#9c179e"
             ],
             [
              0.4444444444444444,
              "#bd3786"
             ],
             [
              0.5555555555555556,
              "#d8576b"
             ],
             [
              0.6666666666666666,
              "#ed7953"
             ],
             [
              0.7777777777777778,
              "#fb9f3a"
             ],
             [
              0.8888888888888888,
              "#fdca26"
             ],
             [
              1,
              "#f0f921"
             ]
            ],
            "type": "heatmapgl"
           }
          ],
          "histogram": [
           {
            "marker": {
             "colorbar": {
              "outlinewidth": 0,
              "ticks": ""
             }
            },
            "type": "histogram"
           }
          ],
          "histogram2d": [
           {
            "colorbar": {
             "outlinewidth": 0,
             "ticks": ""
            },
            "colorscale": [
             [
              0,
              "#0d0887"
             ],
             [
              0.1111111111111111,
              "#46039f"
             ],
             [
              0.2222222222222222,
              "#7201a8"
             ],
             [
              0.3333333333333333,
              "#9c179e"
             ],
             [
              0.4444444444444444,
              "#bd3786"
             ],
             [
              0.5555555555555556,
              "#d8576b"
             ],
             [
              0.6666666666666666,
              "#ed7953"
             ],
             [
              0.7777777777777778,
              "#fb9f3a"
             ],
             [
              0.8888888888888888,
              "#fdca26"
             ],
             [
              1,
              "#f0f921"
             ]
            ],
            "type": "histogram2d"
           }
          ],
          "histogram2dcontour": [
           {
            "colorbar": {
             "outlinewidth": 0,
             "ticks": ""
            },
            "colorscale": [
             [
              0,
              "#0d0887"
             ],
             [
              0.1111111111111111,
              "#46039f"
             ],
             [
              0.2222222222222222,
              "#7201a8"
             ],
             [
              0.3333333333333333,
              "#9c179e"
             ],
             [
              0.4444444444444444,
              "#bd3786"
             ],
             [
              0.5555555555555556,
              "#d8576b"
             ],
             [
              0.6666666666666666,
              "#ed7953"
             ],
             [
              0.7777777777777778,
              "#fb9f3a"
             ],
             [
              0.8888888888888888,
              "#fdca26"
             ],
             [
              1,
              "#f0f921"
             ]
            ],
            "type": "histogram2dcontour"
           }
          ],
          "mesh3d": [
           {
            "colorbar": {
             "outlinewidth": 0,
             "ticks": ""
            },
            "type": "mesh3d"
           }
          ],
          "parcoords": [
           {
            "line": {
             "colorbar": {
              "outlinewidth": 0,
              "ticks": ""
             }
            },
            "type": "parcoords"
           }
          ],
          "pie": [
           {
            "automargin": true,
            "type": "pie"
           }
          ],
          "scatter": [
           {
            "marker": {
             "colorbar": {
              "outlinewidth": 0,
              "ticks": ""
             }
            },
            "type": "scatter"
           }
          ],
          "scatter3d": [
           {
            "line": {
             "colorbar": {
              "outlinewidth": 0,
              "ticks": ""
             }
            },
            "marker": {
             "colorbar": {
              "outlinewidth": 0,
              "ticks": ""
             }
            },
            "type": "scatter3d"
           }
          ],
          "scattercarpet": [
           {
            "marker": {
             "colorbar": {
              "outlinewidth": 0,
              "ticks": ""
             }
            },
            "type": "scattercarpet"
           }
          ],
          "scattergeo": [
           {
            "marker": {
             "colorbar": {
              "outlinewidth": 0,
              "ticks": ""
             }
            },
            "type": "scattergeo"
           }
          ],
          "scattergl": [
           {
            "marker": {
             "colorbar": {
              "outlinewidth": 0,
              "ticks": ""
             }
            },
            "type": "scattergl"
           }
          ],
          "scattermapbox": [
           {
            "marker": {
             "colorbar": {
              "outlinewidth": 0,
              "ticks": ""
             }
            },
            "type": "scattermapbox"
           }
          ],
          "scatterpolar": [
           {
            "marker": {
             "colorbar": {
              "outlinewidth": 0,
              "ticks": ""
             }
            },
            "type": "scatterpolar"
           }
          ],
          "scatterpolargl": [
           {
            "marker": {
             "colorbar": {
              "outlinewidth": 0,
              "ticks": ""
             }
            },
            "type": "scatterpolargl"
           }
          ],
          "scatterternary": [
           {
            "marker": {
             "colorbar": {
              "outlinewidth": 0,
              "ticks": ""
             }
            },
            "type": "scatterternary"
           }
          ],
          "surface": [
           {
            "colorbar": {
             "outlinewidth": 0,
             "ticks": ""
            },
            "colorscale": [
             [
              0,
              "#0d0887"
             ],
             [
              0.1111111111111111,
              "#46039f"
             ],
             [
              0.2222222222222222,
              "#7201a8"
             ],
             [
              0.3333333333333333,
              "#9c179e"
             ],
             [
              0.4444444444444444,
              "#bd3786"
             ],
             [
              0.5555555555555556,
              "#d8576b"
             ],
             [
              0.6666666666666666,
              "#ed7953"
             ],
             [
              0.7777777777777778,
              "#fb9f3a"
             ],
             [
              0.8888888888888888,
              "#fdca26"
             ],
             [
              1,
              "#f0f921"
             ]
            ],
            "type": "surface"
           }
          ],
          "table": [
           {
            "cells": {
             "fill": {
              "color": "#EBF0F8"
             },
             "line": {
              "color": "white"
             }
            },
            "header": {
             "fill": {
              "color": "#C8D4E3"
             },
             "line": {
              "color": "white"
             }
            },
            "type": "table"
           }
          ]
         },
         "layout": {
          "annotationdefaults": {
           "arrowcolor": "#2a3f5f",
           "arrowhead": 0,
           "arrowwidth": 1
          },
          "coloraxis": {
           "colorbar": {
            "outlinewidth": 0,
            "ticks": ""
           }
          },
          "colorscale": {
           "diverging": [
            [
             0,
             "#8e0152"
            ],
            [
             0.1,
             "#c51b7d"
            ],
            [
             0.2,
             "#de77ae"
            ],
            [
             0.3,
             "#f1b6da"
            ],
            [
             0.4,
             "#fde0ef"
            ],
            [
             0.5,
             "#f7f7f7"
            ],
            [
             0.6,
             "#e6f5d0"
            ],
            [
             0.7,
             "#b8e186"
            ],
            [
             0.8,
             "#7fbc41"
            ],
            [
             0.9,
             "#4d9221"
            ],
            [
             1,
             "#276419"
            ]
           ],
           "sequential": [
            [
             0,
             "#0d0887"
            ],
            [
             0.1111111111111111,
             "#46039f"
            ],
            [
             0.2222222222222222,
             "#7201a8"
            ],
            [
             0.3333333333333333,
             "#9c179e"
            ],
            [
             0.4444444444444444,
             "#bd3786"
            ],
            [
             0.5555555555555556,
             "#d8576b"
            ],
            [
             0.6666666666666666,
             "#ed7953"
            ],
            [
             0.7777777777777778,
             "#fb9f3a"
            ],
            [
             0.8888888888888888,
             "#fdca26"
            ],
            [
             1,
             "#f0f921"
            ]
           ],
           "sequentialminus": [
            [
             0,
             "#0d0887"
            ],
            [
             0.1111111111111111,
             "#46039f"
            ],
            [
             0.2222222222222222,
             "#7201a8"
            ],
            [
             0.3333333333333333,
             "#9c179e"
            ],
            [
             0.4444444444444444,
             "#bd3786"
            ],
            [
             0.5555555555555556,
             "#d8576b"
            ],
            [
             0.6666666666666666,
             "#ed7953"
            ],
            [
             0.7777777777777778,
             "#fb9f3a"
            ],
            [
             0.8888888888888888,
             "#fdca26"
            ],
            [
             1,
             "#f0f921"
            ]
           ]
          },
          "colorway": [
           "#636efa",
           "#EF553B",
           "#00cc96",
           "#ab63fa",
           "#FFA15A",
           "#19d3f3",
           "#FF6692",
           "#B6E880",
           "#FF97FF",
           "#FECB52"
          ],
          "font": {
           "color": "#2a3f5f"
          },
          "geo": {
           "bgcolor": "white",
           "lakecolor": "white",
           "landcolor": "#E5ECF6",
           "showlakes": true,
           "showland": true,
           "subunitcolor": "white"
          },
          "hoverlabel": {
           "align": "left"
          },
          "hovermode": "closest",
          "mapbox": {
           "style": "light"
          },
          "paper_bgcolor": "white",
          "plot_bgcolor": "#E5ECF6",
          "polar": {
           "angularaxis": {
            "gridcolor": "white",
            "linecolor": "white",
            "ticks": ""
           },
           "bgcolor": "#E5ECF6",
           "radialaxis": {
            "gridcolor": "white",
            "linecolor": "white",
            "ticks": ""
           }
          },
          "scene": {
           "xaxis": {
            "backgroundcolor": "#E5ECF6",
            "gridcolor": "white",
            "gridwidth": 2,
            "linecolor": "white",
            "showbackground": true,
            "ticks": "",
            "zerolinecolor": "white"
           },
           "yaxis": {
            "backgroundcolor": "#E5ECF6",
            "gridcolor": "white",
            "gridwidth": 2,
            "linecolor": "white",
            "showbackground": true,
            "ticks": "",
            "zerolinecolor": "white"
           },
           "zaxis": {
            "backgroundcolor": "#E5ECF6",
            "gridcolor": "white",
            "gridwidth": 2,
            "linecolor": "white",
            "showbackground": true,
            "ticks": "",
            "zerolinecolor": "white"
           }
          },
          "shapedefaults": {
           "line": {
            "color": "#2a3f5f"
           }
          },
          "ternary": {
           "aaxis": {
            "gridcolor": "white",
            "linecolor": "white",
            "ticks": ""
           },
           "baxis": {
            "gridcolor": "white",
            "linecolor": "white",
            "ticks": ""
           },
           "bgcolor": "#E5ECF6",
           "caxis": {
            "gridcolor": "white",
            "linecolor": "white",
            "ticks": ""
           }
          },
          "title": {
           "x": 0.05
          },
          "xaxis": {
           "automargin": true,
           "gridcolor": "white",
           "linecolor": "white",
           "ticks": "",
           "title": {
            "standoff": 15
           },
           "zerolinecolor": "white",
           "zerolinewidth": 2
          },
          "yaxis": {
           "automargin": true,
           "gridcolor": "white",
           "linecolor": "white",
           "ticks": "",
           "title": {
            "standoff": 15
           },
           "zerolinecolor": "white",
           "zerolinewidth": 2
          }
         }
        },
        "title": {
         "font": {
          "color": "#000000",
          "size": 20
         },
         "text": "Médias de Docentes Permanentes e Colaboradores",
         "x": 0.5,
         "xanchor": "center"
        },
        "xaxis": {
         "title": {
          "text": "Instituição"
         }
        }
       }
      },
      "text/html": [
       "<div>\n",
       "        \n",
       "        \n",
       "            <div id=\"225359b8-556a-4b0a-9efb-87870f6933bd\" class=\"plotly-graph-div\" style=\"height:525px; width:100%;\"></div>\n",
       "            <script type=\"text/javascript\">\n",
       "                require([\"plotly\"], function(Plotly) {\n",
       "                    window.PLOTLYENV=window.PLOTLYENV || {};\n",
       "                    \n",
       "                if (document.getElementById(\"225359b8-556a-4b0a-9efb-87870f6933bd\")) {\n",
       "                    Plotly.newPlot(\n",
       "                        '225359b8-556a-4b0a-9efb-87870f6933bd',\n",
       "                        [{\"marker\": {\"color\": \"#FF0000\"}, \"name\": \"PERMANENTE\", \"type\": \"bar\", \"x\": [\"UFJF-AC-4\", \"IMED-AEU-3\", \"UNESP-BAURU-AeU-4\", \"PUC-RIO-A-3\", \" FIAMFAAM-PPeGdEU-3\", \"UFRN-D-4\", \"UFU-AeU-3\", \"UNIVILLE-D-4\", \"USJT-AEU-4\", \"UFPE-E-3\", \"UFV-AEU-4\", \"UNIFATEA-DTEI-3\", \"UNISINOS-D-5\", \"UEL-AeU-4\", \"PUCCAMP-AeU-5\", \"UFSC-D-5\", \"UFC-AEUED-3\", \"UNISINOS-AeU-4\", \"UDESC-D-4\", \"UNIRITTER-AeU-4\", \"UFG-PEC-3\", \"UEMG-D-5\", \"UFES-AEU-4\", \"UNB-D-3\", \"UAM-D-5\", \"UFRJ-AP-4\", \"UFPA-AeU-4\", \"UFCG-D-3\", \"UNESP-BAURU-D-6\", \"UFPR-D-4\", \"UFRJ-PeP-4\", \"UFRN-APEMA-4\", \"UERJ-D-4\", \"UNIRITTER-D-4\", \"UFPB-JP-AEU-4\", \"UNIFOR-CDC-3\", \"CESAR-AM-DDAD-3\", \"UFMA-D-3\", \"UFSC-UHEADC-4\", \"UPM-AEU-6\", \"PUC-RIO-D-5\", \"UFRGS-A-4\", \"UFRN-AEU-4\", \"UFPE-D-4\", \"UFPEL-AEU-4\", \"UFRJ-A-6\", \"UFF-AEU-4\", \"UFRJ-U-5\", \"CESAR-D-3\", \"UFRGS-D-5\", \"UFAL-DDEH-3\", \"UFMG-AEU-6\", \"UNICAMP-ATeC-5\", \"USP/SC-AEU-4\", \"UFBA-C-CeR-4\", \"UNB-AEU-4\", \"UFSC-AEU-5\", \"UFBA-AEU-4\", \"USP-AEU-4\"], \"y\": [9.5, 10, 10, 11, 11, 9, 10, 10.5, 12, 8.5, 10, 10, 10.5, 12.0, 13, 11.0, 11, 12.5, 11.5, 12.0, 12.5, 13.0, 10, 12.5, 13.0, 12, 15, 12.0, 16.5, 13.5, 13.5, 14.5, 13.0, 14.0, 15.0, 17.5, 9, 14.5, 15.0, 17.5, 18, 16.0, 18.5, 17.0, 15.0, 19.5, 19.5, 24.5, 15.5, 19.5, 20.0, 22.5, 22.5, 23.5, 25.0, 27.5, 34.5, 29.0, 103.0]}, {\"marker\": {\"color\": \"#0000FF\"}, \"name\": \"COLABORADOR\", \"type\": \"bar\", \"x\": [\"UFJF-AC-4\", \"IMED-AEU-3\", \"UNESP-BAURU-AeU-4\", \"PUC-RIO-A-3\", \" FIAMFAAM-PPeGdEU-3\", \"UFRN-D-4\", \"UFU-AeU-3\", \"UNIVILLE-D-4\", \"USJT-AEU-4\", \"UFPE-E-3\", \"UFV-AEU-4\", \"UNIFATEA-DTEI-3\", \"UNISINOS-D-5\", \"UEL-AeU-4\", \"PUCCAMP-AeU-5\", \"UFSC-D-5\", \"UFC-AEUED-3\", \"UNISINOS-AeU-4\", \"UDESC-D-4\", \"UNIRITTER-AeU-4\", \"UFG-PEC-3\", \"UEMG-D-5\", \"UFES-AEU-4\", \"UNB-D-3\", \"UAM-D-5\", \"UFRJ-AP-4\", \"UFPA-AeU-4\", \"UFCG-D-3\", \"UNESP-BAURU-D-6\", \"UFPR-D-4\", \"UFRJ-PeP-4\", \"UFRN-APEMA-4\", \"UERJ-D-4\", \"UNIRITTER-D-4\", \"UFPB-JP-AEU-4\", \"UNIFOR-CDC-3\", \"CESAR-AM-DDAD-3\", \"UFMA-D-3\", \"UFSC-UHEADC-4\", \"UPM-AEU-6\", \"PUC-RIO-D-5\", \"UFRGS-A-4\", \"UFRN-AEU-4\", \"UFPE-D-4\", \"UFPEL-AEU-4\", \"UFRJ-A-6\", \"UFF-AEU-4\", \"UFRJ-U-5\", \"CESAR-D-3\", \"UFRGS-D-5\", \"UFAL-DDEH-3\", \"UFMG-AEU-6\", \"UNICAMP-ATeC-5\", \"USP/SC-AEU-4\", \"UFBA-C-CeR-4\", \"UNB-AEU-4\", \"UFSC-AEU-5\", \"UFBA-AEU-4\", \"USP-AEU-4\"], \"y\": [0.5, 0, 1, 0, 0, 3, 2, 1.5, 0, 4.5, 3, 3, 2.5, 1.0, 0, 3.0, 3, 1.5, 3.5, 3.0, 2.5, 2.0, 6, 3.5, 3.0, 5, 2, 6.0, 1.5, 5.5, 5.5, 4.5, 7.0, 6.0, 5.0, 2.5, 12, 6.5, 6.0, 3.5, 3, 6.0, 3.5, 7.0, 11.0, 6.5, 8.5, 4.5, 14.5, 10.5, 11.0, 9.5, 11.5, 12.5, 14.0, 16.5, 11.5, 18.0, 38.0]}],\n",
       "                        {\"barmode\": \"stack\", \"legend\": {\"font\": {\"color\": \"#000000\"}, \"orientation\": \"h\", \"x\": 0, \"y\": 1}, \"template\": {\"data\": {\"bar\": [{\"error_x\": {\"color\": \"#2a3f5f\"}, \"error_y\": {\"color\": \"#2a3f5f\"}, \"marker\": {\"line\": {\"color\": \"#E5ECF6\", \"width\": 0.5}}, \"type\": \"bar\"}], \"barpolar\": [{\"marker\": {\"line\": {\"color\": \"#E5ECF6\", \"width\": 0.5}}, \"type\": \"barpolar\"}], \"carpet\": [{\"aaxis\": {\"endlinecolor\": \"#2a3f5f\", \"gridcolor\": \"white\", \"linecolor\": \"white\", \"minorgridcolor\": \"white\", \"startlinecolor\": \"#2a3f5f\"}, \"baxis\": {\"endlinecolor\": \"#2a3f5f\", \"gridcolor\": \"white\", \"linecolor\": \"white\", \"minorgridcolor\": \"white\", \"startlinecolor\": \"#2a3f5f\"}, \"type\": \"carpet\"}], \"choropleth\": [{\"colorbar\": {\"outlinewidth\": 0, \"ticks\": \"\"}, \"type\": \"choropleth\"}], \"contour\": [{\"colorbar\": {\"outlinewidth\": 0, \"ticks\": \"\"}, \"colorscale\": [[0.0, \"#0d0887\"], [0.1111111111111111, \"#46039f\"], [0.2222222222222222, \"#7201a8\"], [0.3333333333333333, \"#9c179e\"], [0.4444444444444444, \"#bd3786\"], [0.5555555555555556, \"#d8576b\"], [0.6666666666666666, \"#ed7953\"], [0.7777777777777778, \"#fb9f3a\"], [0.8888888888888888, \"#fdca26\"], [1.0, \"#f0f921\"]], \"type\": \"contour\"}], \"contourcarpet\": [{\"colorbar\": {\"outlinewidth\": 0, \"ticks\": \"\"}, \"type\": \"contourcarpet\"}], \"heatmap\": [{\"colorbar\": {\"outlinewidth\": 0, \"ticks\": \"\"}, \"colorscale\": [[0.0, \"#0d0887\"], [0.1111111111111111, \"#46039f\"], [0.2222222222222222, \"#7201a8\"], [0.3333333333333333, \"#9c179e\"], [0.4444444444444444, \"#bd3786\"], [0.5555555555555556, \"#d8576b\"], [0.6666666666666666, \"#ed7953\"], [0.7777777777777778, \"#fb9f3a\"], [0.8888888888888888, \"#fdca26\"], [1.0, \"#f0f921\"]], \"type\": \"heatmap\"}], \"heatmapgl\": [{\"colorbar\": {\"outlinewidth\": 0, \"ticks\": \"\"}, \"colorscale\": [[0.0, \"#0d0887\"], [0.1111111111111111, \"#46039f\"], [0.2222222222222222, \"#7201a8\"], [0.3333333333333333, \"#9c179e\"], [0.4444444444444444, \"#bd3786\"], [0.5555555555555556, \"#d8576b\"], [0.6666666666666666, \"#ed7953\"], [0.7777777777777778, \"#fb9f3a\"], [0.8888888888888888, \"#fdca26\"], [1.0, \"#f0f921\"]], \"type\": \"heatmapgl\"}], \"histogram\": [{\"marker\": {\"colorbar\": {\"outlinewidth\": 0, \"ticks\": \"\"}}, \"type\": \"histogram\"}], \"histogram2d\": [{\"colorbar\": {\"outlinewidth\": 0, \"ticks\": \"\"}, \"colorscale\": [[0.0, \"#0d0887\"], [0.1111111111111111, \"#46039f\"], [0.2222222222222222, \"#7201a8\"], [0.3333333333333333, \"#9c179e\"], [0.4444444444444444, \"#bd3786\"], [0.5555555555555556, \"#d8576b\"], [0.6666666666666666, \"#ed7953\"], [0.7777777777777778, \"#fb9f3a\"], [0.8888888888888888, \"#fdca26\"], [1.0, \"#f0f921\"]], \"type\": \"histogram2d\"}], \"histogram2dcontour\": [{\"colorbar\": {\"outlinewidth\": 0, \"ticks\": \"\"}, \"colorscale\": [[0.0, \"#0d0887\"], [0.1111111111111111, \"#46039f\"], [0.2222222222222222, \"#7201a8\"], [0.3333333333333333, \"#9c179e\"], [0.4444444444444444, \"#bd3786\"], [0.5555555555555556, \"#d8576b\"], [0.6666666666666666, \"#ed7953\"], [0.7777777777777778, \"#fb9f3a\"], [0.8888888888888888, \"#fdca26\"], [1.0, \"#f0f921\"]], \"type\": \"histogram2dcontour\"}], \"mesh3d\": [{\"colorbar\": {\"outlinewidth\": 0, \"ticks\": \"\"}, \"type\": \"mesh3d\"}], \"parcoords\": [{\"line\": {\"colorbar\": {\"outlinewidth\": 0, \"ticks\": \"\"}}, \"type\": \"parcoords\"}], \"pie\": [{\"automargin\": true, \"type\": \"pie\"}], \"scatter\": [{\"marker\": {\"colorbar\": {\"outlinewidth\": 0, \"ticks\": \"\"}}, \"type\": \"scatter\"}], \"scatter3d\": [{\"line\": {\"colorbar\": {\"outlinewidth\": 0, \"ticks\": \"\"}}, \"marker\": {\"colorbar\": {\"outlinewidth\": 0, \"ticks\": \"\"}}, \"type\": \"scatter3d\"}], \"scattercarpet\": [{\"marker\": {\"colorbar\": {\"outlinewidth\": 0, \"ticks\": \"\"}}, \"type\": \"scattercarpet\"}], \"scattergeo\": [{\"marker\": {\"colorbar\": {\"outlinewidth\": 0, \"ticks\": \"\"}}, \"type\": \"scattergeo\"}], \"scattergl\": [{\"marker\": {\"colorbar\": {\"outlinewidth\": 0, \"ticks\": \"\"}}, \"type\": \"scattergl\"}], \"scattermapbox\": [{\"marker\": {\"colorbar\": {\"outlinewidth\": 0, \"ticks\": \"\"}}, \"type\": \"scattermapbox\"}], \"scatterpolar\": [{\"marker\": {\"colorbar\": {\"outlinewidth\": 0, \"ticks\": \"\"}}, \"type\": \"scatterpolar\"}], \"scatterpolargl\": [{\"marker\": {\"colorbar\": {\"outlinewidth\": 0, \"ticks\": \"\"}}, \"type\": \"scatterpolargl\"}], \"scatterternary\": [{\"marker\": {\"colorbar\": {\"outlinewidth\": 0, \"ticks\": \"\"}}, \"type\": \"scatterternary\"}], \"surface\": [{\"colorbar\": {\"outlinewidth\": 0, \"ticks\": \"\"}, \"colorscale\": [[0.0, \"#0d0887\"], [0.1111111111111111, \"#46039f\"], [0.2222222222222222, \"#7201a8\"], [0.3333333333333333, \"#9c179e\"], [0.4444444444444444, \"#bd3786\"], [0.5555555555555556, \"#d8576b\"], [0.6666666666666666, \"#ed7953\"], [0.7777777777777778, \"#fb9f3a\"], [0.8888888888888888, \"#fdca26\"], [1.0, \"#f0f921\"]], \"type\": \"surface\"}], \"table\": [{\"cells\": {\"fill\": {\"color\": \"#EBF0F8\"}, \"line\": {\"color\": \"white\"}}, \"header\": {\"fill\": {\"color\": \"#C8D4E3\"}, \"line\": {\"color\": \"white\"}}, \"type\": \"table\"}]}, \"layout\": {\"annotationdefaults\": {\"arrowcolor\": \"#2a3f5f\", \"arrowhead\": 0, \"arrowwidth\": 1}, \"coloraxis\": {\"colorbar\": {\"outlinewidth\": 0, \"ticks\": \"\"}}, \"colorscale\": {\"diverging\": [[0, \"#8e0152\"], [0.1, \"#c51b7d\"], [0.2, \"#de77ae\"], [0.3, \"#f1b6da\"], [0.4, \"#fde0ef\"], [0.5, \"#f7f7f7\"], [0.6, \"#e6f5d0\"], [0.7, \"#b8e186\"], [0.8, \"#7fbc41\"], [0.9, \"#4d9221\"], [1, \"#276419\"]], \"sequential\": [[0.0, \"#0d0887\"], [0.1111111111111111, \"#46039f\"], [0.2222222222222222, \"#7201a8\"], [0.3333333333333333, \"#9c179e\"], [0.4444444444444444, \"#bd3786\"], [0.5555555555555556, \"#d8576b\"], [0.6666666666666666, \"#ed7953\"], [0.7777777777777778, \"#fb9f3a\"], [0.8888888888888888, \"#fdca26\"], [1.0, \"#f0f921\"]], \"sequentialminus\": [[0.0, \"#0d0887\"], [0.1111111111111111, \"#46039f\"], [0.2222222222222222, \"#7201a8\"], [0.3333333333333333, \"#9c179e\"], [0.4444444444444444, \"#bd3786\"], [0.5555555555555556, \"#d8576b\"], [0.6666666666666666, \"#ed7953\"], [0.7777777777777778, \"#fb9f3a\"], [0.8888888888888888, \"#fdca26\"], [1.0, \"#f0f921\"]]}, \"colorway\": [\"#636efa\", \"#EF553B\", \"#00cc96\", \"#ab63fa\", \"#FFA15A\", \"#19d3f3\", \"#FF6692\", \"#B6E880\", \"#FF97FF\", \"#FECB52\"], \"font\": {\"color\": \"#2a3f5f\"}, \"geo\": {\"bgcolor\": \"white\", \"lakecolor\": \"white\", \"landcolor\": \"#E5ECF6\", \"showlakes\": true, \"showland\": true, \"subunitcolor\": \"white\"}, \"hoverlabel\": {\"align\": \"left\"}, \"hovermode\": \"closest\", \"mapbox\": {\"style\": \"light\"}, \"paper_bgcolor\": \"white\", \"plot_bgcolor\": \"#E5ECF6\", \"polar\": {\"angularaxis\": {\"gridcolor\": \"white\", \"linecolor\": \"white\", \"ticks\": \"\"}, \"bgcolor\": \"#E5ECF6\", \"radialaxis\": {\"gridcolor\": \"white\", \"linecolor\": \"white\", \"ticks\": \"\"}}, \"scene\": {\"xaxis\": {\"backgroundcolor\": \"#E5ECF6\", \"gridcolor\": \"white\", \"gridwidth\": 2, \"linecolor\": \"white\", \"showbackground\": true, \"ticks\": \"\", \"zerolinecolor\": \"white\"}, \"yaxis\": {\"backgroundcolor\": \"#E5ECF6\", \"gridcolor\": \"white\", \"gridwidth\": 2, \"linecolor\": \"white\", \"showbackground\": true, \"ticks\": \"\", \"zerolinecolor\": \"white\"}, \"zaxis\": {\"backgroundcolor\": \"#E5ECF6\", \"gridcolor\": \"white\", \"gridwidth\": 2, \"linecolor\": \"white\", \"showbackground\": true, \"ticks\": \"\", \"zerolinecolor\": \"white\"}}, \"shapedefaults\": {\"line\": {\"color\": \"#2a3f5f\"}}, \"ternary\": {\"aaxis\": {\"gridcolor\": \"white\", \"linecolor\": \"white\", \"ticks\": \"\"}, \"baxis\": {\"gridcolor\": \"white\", \"linecolor\": \"white\", \"ticks\": \"\"}, \"bgcolor\": \"#E5ECF6\", \"caxis\": {\"gridcolor\": \"white\", \"linecolor\": \"white\", \"ticks\": \"\"}}, \"title\": {\"x\": 0.05}, \"xaxis\": {\"automargin\": true, \"gridcolor\": \"white\", \"linecolor\": \"white\", \"ticks\": \"\", \"title\": {\"standoff\": 15}, \"zerolinecolor\": \"white\", \"zerolinewidth\": 2}, \"yaxis\": {\"automargin\": true, \"gridcolor\": \"white\", \"linecolor\": \"white\", \"ticks\": \"\", \"title\": {\"standoff\": 15}, \"zerolinecolor\": \"white\", \"zerolinewidth\": 2}}}, \"title\": {\"font\": {\"color\": \"#000000\", \"size\": 20}, \"text\": \"M\\u00e9dias de Docentes Permanentes e Colaboradores\", \"x\": 0.5, \"xanchor\": \"center\"}, \"xaxis\": {\"title\": {\"text\": \"Institui\\u00e7\\u00e3o\"}}},\n",
       "                        {\"responsive\": true}\n",
       "                    ).then(function(){\n",
       "                            \n",
       "var gd = document.getElementById('225359b8-556a-4b0a-9efb-87870f6933bd');\n",
       "var x = new MutationObserver(function (mutations, observer) {{\n",
       "        var display = window.getComputedStyle(gd).display;\n",
       "        if (!display || display === 'none') {{\n",
       "            console.log([gd, 'removed!']);\n",
       "            Plotly.purge(gd);\n",
       "            observer.disconnect();\n",
       "        }}\n",
       "}});\n",
       "\n",
       "// Listen for the removal of the full notebook cells\n",
       "var notebookContainer = gd.closest('#notebook-container');\n",
       "if (notebookContainer) {{\n",
       "    x.observe(notebookContainer, {childList: true});\n",
       "}}\n",
       "\n",
       "// Listen for the clearing of the current output cell\n",
       "var outputEl = gd.closest('.output');\n",
       "if (outputEl) {{\n",
       "    x.observe(outputEl, {childList: true});\n",
       "}}\n",
       "\n",
       "                        })\n",
       "                };\n",
       "                });\n",
       "            </script>\n",
       "        </div>"
      ]
     },
     "metadata": {},
     "output_type": "display_data"
    }
   ],
   "source": [
    "make_chart(docentes_programas)"
   ]
  },
  {
   "cell_type": "code",
   "execution_count": null,
   "metadata": {},
   "outputs": [],
   "source": []
  }
 ],
 "metadata": {
  "kernelspec": {
   "display_name": "Python 3",
   "language": "python",
   "name": "python3"
  },
  "language_info": {
   "codemirror_mode": {
    "name": "ipython",
    "version": 3
   },
   "file_extension": ".py",
   "mimetype": "text/x-python",
   "name": "python",
   "nbconvert_exporter": "python",
   "pygments_lexer": "ipython3",
   "version": "3.7.6"
  }
 },
 "nbformat": 4,
 "nbformat_minor": 4
}
