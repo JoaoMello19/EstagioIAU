{
 "cells": [
  {
   "cell_type": "code",
   "execution_count": 3,
   "metadata": {},
   "outputs": [],
   "source": [
    "import plotly.offline as py\n",
    "import plotly.graph_objs as go"
   ]
  },
  {
   "cell_type": "code",
   "execution_count": 33,
   "metadata": {},
   "outputs": [],
   "source": [
    "import MyUtil\n",
    "from collections import defaultdict\n",
    "import collections\n",
    "\n",
    "PATH = 'dados_arquitetura_'\n",
    "ANOS = ['2013', '2014', '2014', '2015']\n",
    "\n",
    "def read_idioma_trabalhos(filepath, idiomas):\n",
    "    registers = MyUtil.read_file('trabalhos_conclusao.tsv', filepath)\n",
    "    trabalhos = defaultdict(lambda: defaultdict())\n",
    "    for row in registers:\n",
    "        i_programa = 16\n",
    "        i_idioma = 7\n",
    "        \n",
    "        #tratamento de casos especificos\n",
    "        while len(row[i_programa]) != 13:\n",
    "            i_programa+=1\n",
    "        \n",
    "        while not row[i_idioma].isupper():\n",
    "            i_idioma+=1\n",
    "            \n",
    "        # [code][idioma] = quantidade\n",
    "        if row[i_programa] in trabalhos:\n",
    "            if row[i_idioma] in trabalhos[row[i_programa]]:\n",
    "                trabalhos[row[i_programa]][row[i_idioma]] += 1\n",
    "            else:\n",
    "                trabalhos[row[i_programa]][row[i_idioma]] = 1\n",
    "            trabalhos[row[i_programa]]['total'] += 1\n",
    "        else:\n",
    "            trabalhos[row[i_programa]]['total'] = 1\n",
    "            trabalhos[row[i_programa]][row[i_idioma]] = 1\n",
    "            \n",
    "        if row[i_idioma] not in idiomas:\n",
    "            idiomas.append(row[i_idioma])\n",
    "\n",
    "\n",
    "    return trabalhos\n",
    "\n",
    "def contar_porcentagens_idiomas(trabalhos, idiomas):\n",
    "    for programa in trabalhos.values():\n",
    "        for idioma in idiomas:\n",
    "            if idioma not in programa:\n",
    "                programa[idioma] = 0\n",
    "            programa[idioma+' %'] = 100*programa[idioma]/programa['total']\n",
    "        #print(programa)\n",
    "\n",
    "    return programa\n",
    "\n",
    "def atualizar_cod_programa(trabalhos):\n",
    "    trabalhos_novo = defaultdict(lambda: defaultdict())\n",
    "\n",
    "    for code in trabalhos.keys():\n",
    "        new_code = code\n",
    "        if code in programas_nivel.keys():\n",
    "            new_code = programas_nivel[code]\n",
    "        elif code in programas.keys():\n",
    "            new_code = programas[code]\n",
    "\n",
    "        trabalhos_novo[new_code] = trabalhos[code]\n",
    "\n",
    "    return trabalhos_novo\n",
    "\n",
    "def make_chart(chart_data):\n",
    "    fig = go.Figure()\n",
    "    i = 0\n",
    "    colors = ['#9b59b6', '#1abc9c', '#3498db', '#ff7675', '#fd79a8', '#fdcb6e']\n",
    "    for idioma in idiomas:\n",
    "        fig.add_trace(go.Bar(x=list(chart_data.keys()),\n",
    "                        y=[f_d[idioma+' %'] for f_d in chart_data.values()],\n",
    "                        name= idioma+' %',\n",
    "                        text=['<b>'+'{0:.2f}'.format(f_d[idioma+' %'])+'</b>' for f_d in chart_data.values()],\n",
    "                        textposition='inside',\n",
    "                        insidetextanchor = 'middle',\n",
    "                        textfont_size=20,\n",
    "                        marker={'color': colors[i]}))\n",
    "        i += 1\n",
    "\n",
    "    title = {\n",
    "        'text': f'Idiomas de trabalhos de conclusão ({\", \".join(ANOS)})',\n",
    "        'x': 0.5,\n",
    "        'xanchor': 'center',\n",
    "        'font': {\n",
    "            'color': '#000000',\n",
    "            'size': 50\n",
    "        }\n",
    "    }\n",
    "\n",
    "    subtitle = {\n",
    "        'font': {'color': '#000000', 'size': 30},\n",
    "        'orientation': 'h',\n",
    "        'x': 0,\n",
    "        'y': 1\n",
    "    }\n",
    "\n",
    "    layout = go.Layout(title=title,\n",
    "                       xaxis={'title': 'Instituição'},\n",
    "                       barmode='stack',\n",
    "                       legend=subtitle,\n",
    "                       font_size=40,\n",
    "                       height=2300,\n",
    "                       width=5000)\n",
    "    fig.update_layout(layout)\n",
    "    py.iplot(fig)\n",
    "\n",
    "def sort_dict(dict_to_sort):\n",
    "    return dict(sorted(dict_to_sort.items(), key=lambda item: item[1]['PORTUGUES %']))\n",
    "\n",
    "\n",
    "list_trabalhos=dict()\n",
    "list_docentes=dict()\n",
    "programas=dict()\n",
    "idiomas = list()\n",
    "\n",
    "for ano in ANOS:     \n",
    "    list_trabalhos_add = read_idioma_trabalhos(PATH+ano+'/', idiomas)\n",
    "    for programa in list_trabalhos_add.keys():\n",
    "        if programa in list_trabalhos.keys():\n",
    "            idiomas_programa = list_trabalhos_add[programa]\n",
    "            for idioma in idiomas_programa.keys():\n",
    "                if idioma in list_trabalhos[programa]:\n",
    "                    list_trabalhos[programa][idioma] += idiomas_programa[idioma]\n",
    "                else:\n",
    "                    list_trabalhos[programa][idioma] = idiomas_programa[idioma]\n",
    "        else:\n",
    "            list_trabalhos[programa] = list_trabalhos_add[programa]\n",
    "    programas.update(MyUtil.read_programas(PATH+ano+'/'))\n",
    "\n",
    "programas_nivel = MyUtil.read_programas_nivel()\n",
    "contar_porcentagens_idiomas(list_trabalhos, idiomas)\n",
    "list_trabalhos = atualizar_cod_programa(list_trabalhos)\n",
    "#print(list_trabalhos)\n",
    "list_trabalhos = sort_dict(list_trabalhos)\n",
    "idiomas.sort(key = 'PORTUGUES'.__eq__)\n"
   ]
  },
  {
   "cell_type": "code",
   "execution_count": 34,
   "metadata": {
    "scrolled": true
   },
   "outputs": [
    {
     "data": {
      "application/vnd.plotly.v1+json": {
       "config": {
        "linkText": "Export to plot.ly",
        "plotlyServerURL": "https://plot.ly",
        "showLink": false
       },
       "data": [
        {
         "insidetextanchor": "middle",
         "marker": {
          "color": "#9b59b6"
         },
         "name": "BIRMANES %",
         "text": [
          "<b>0.00</b>",
          "<b>0.00</b>",
          "<b>0.00</b>",
          "<b>0.00</b>",
          "<b>0.00</b>",
          "<b>2.17</b>",
          "<b>0.00</b>",
          "<b>1.79</b>",
          "<b>0.00</b>",
          "<b>0.00</b>",
          "<b>0.00</b>",
          "<b>0.00</b>",
          "<b>0.00</b>",
          "<b>0.00</b>",
          "<b>0.00</b>",
          "<b>0.00</b>",
          "<b>0.00</b>",
          "<b>0.00</b>",
          "<b>0.00</b>",
          "<b>0.00</b>",
          "<b>0.00</b>",
          "<b>0.00</b>",
          "<b>0.00</b>",
          "<b>0.00</b>",
          "<b>0.00</b>",
          "<b>0.00</b>",
          "<b>0.00</b>",
          "<b>0.00</b>",
          "<b>0.00</b>",
          "<b>0.00</b>",
          "<b>0.00</b>",
          "<b>0.00</b>",
          "<b>0.00</b>",
          "<b>0.00</b>",
          "<b>0.00</b>",
          "<b>0.00</b>",
          "<b>0.00</b>",
          "<b>0.00</b>",
          "<b>0.00</b>",
          "<b>0.00</b>",
          "<b>0.00</b>",
          "<b>0.00</b>",
          "<b>0.00</b>",
          "<b>0.00</b>",
          "<b>0.00</b>",
          "<b>0.00</b>",
          "<b>0.00</b>",
          "<b>0.00</b>"
         ],
         "textfont": {
          "size": 20
         },
         "textposition": "inside",
         "type": "bar",
         "x": [
          "PUC-RIO-A-3",
          "UFBA-C-CeR-4",
          "UFRJ-AP-4",
          "UNIRITTER-AeU-4",
          "UNICAMP-ATeC-5",
          "UFRN-AEU-4",
          "UFRJ-U-5",
          "UFBA-AEU-4",
          "PUC-RIO-D-5",
          "UFRGS-A-4",
          "UPM-AEU-6",
          "UFPA-AeU-4",
          "UFPB-JP-AEU-4",
          "UFPE-D-4",
          "UFAL-DDEH-3",
          "UFES-AEU-4",
          "UFRJ-A-6",
          "UFF-AEU-4",
          "UERJ-D-4",
          "UFMG-AEU-6",
          "UFV-AEU-4",
          "UFJF-AC-4",
          "UEMG-D-5",
          "USP-AEU-4",
          "USP/SC-AEU-4",
          "UNESP-BAURU-D-6",
          "PUCCAMP-AeU-5",
          "USJT-AEU-4",
          "UAM-D-5",
          "UFPR-D-4",
          "UFSC-AEU-5",
          "UFSC-UHEADC-4",
          "UDESC-D-4",
          "UFRGS-D-5",
          "UFPEL-AEU-4",
          "UNISINOS-D-5",
          "UNIRITTER-D-4",
          "UNB-AEU-4",
          "UFMA-D-3",
          "UFRN-APEMA-4",
          "UFRN-D-4",
          "UEL-AeU-4",
          "UFSC-D-5",
          "UNB-D-3",
          "UFRJ-PeP-4",
          "UFU-AeU-3",
          "UNIVILLE-D-4",
          "UFG-PEC-3"
         ],
         "y": [
          0,
          0,
          0,
          0,
          0,
          2.1739130434782608,
          0,
          1.7857142857142858,
          0,
          0,
          0,
          0,
          0,
          0,
          0,
          0,
          0,
          0,
          0,
          0,
          0,
          0,
          0,
          0,
          0,
          0,
          0,
          0,
          0,
          0,
          0,
          0,
          0,
          0,
          0,
          0,
          0,
          0,
          0,
          0,
          0,
          0,
          0,
          0,
          0,
          0,
          0,
          0
         ]
        },
        {
         "insidetextanchor": "middle",
         "marker": {
          "color": "#1abc9c"
         },
         "name": "INGLES %",
         "text": [
          "<b>0.00</b>",
          "<b>0.00</b>",
          "<b>3.85</b>",
          "<b>0.00</b>",
          "<b>2.99</b>",
          "<b>0.00</b>",
          "<b>0.00</b>",
          "<b>0.00</b>",
          "<b>0.00</b>",
          "<b>0.00</b>",
          "<b>0.00</b>",
          "<b>0.00</b>",
          "<b>0.00</b>",
          "<b>0.00</b>",
          "<b>0.00</b>",
          "<b>0.00</b>",
          "<b>0.00</b>",
          "<b>0.00</b>",
          "<b>0.00</b>",
          "<b>0.00</b>",
          "<b>0.00</b>",
          "<b>0.00</b>",
          "<b>0.00</b>",
          "<b>0.00</b>",
          "<b>0.00</b>",
          "<b>0.00</b>",
          "<b>0.00</b>",
          "<b>0.00</b>",
          "<b>0.00</b>",
          "<b>0.00</b>",
          "<b>0.00</b>",
          "<b>0.00</b>",
          "<b>0.00</b>",
          "<b>0.00</b>",
          "<b>0.00</b>",
          "<b>0.00</b>",
          "<b>0.00</b>",
          "<b>0.00</b>",
          "<b>0.00</b>",
          "<b>0.00</b>",
          "<b>0.00</b>",
          "<b>0.00</b>",
          "<b>0.00</b>",
          "<b>0.00</b>",
          "<b>0.00</b>",
          "<b>0.00</b>",
          "<b>0.00</b>",
          "<b>0.00</b>"
         ],
         "textfont": {
          "size": 20
         },
         "textposition": "inside",
         "type": "bar",
         "x": [
          "PUC-RIO-A-3",
          "UFBA-C-CeR-4",
          "UFRJ-AP-4",
          "UNIRITTER-AeU-4",
          "UNICAMP-ATeC-5",
          "UFRN-AEU-4",
          "UFRJ-U-5",
          "UFBA-AEU-4",
          "PUC-RIO-D-5",
          "UFRGS-A-4",
          "UPM-AEU-6",
          "UFPA-AeU-4",
          "UFPB-JP-AEU-4",
          "UFPE-D-4",
          "UFAL-DDEH-3",
          "UFES-AEU-4",
          "UFRJ-A-6",
          "UFF-AEU-4",
          "UERJ-D-4",
          "UFMG-AEU-6",
          "UFV-AEU-4",
          "UFJF-AC-4",
          "UEMG-D-5",
          "USP-AEU-4",
          "USP/SC-AEU-4",
          "UNESP-BAURU-D-6",
          "PUCCAMP-AeU-5",
          "USJT-AEU-4",
          "UAM-D-5",
          "UFPR-D-4",
          "UFSC-AEU-5",
          "UFSC-UHEADC-4",
          "UDESC-D-4",
          "UFRGS-D-5",
          "UFPEL-AEU-4",
          "UNISINOS-D-5",
          "UNIRITTER-D-4",
          "UNB-AEU-4",
          "UFMA-D-3",
          "UFRN-APEMA-4",
          "UFRN-D-4",
          "UEL-AeU-4",
          "UFSC-D-5",
          "UNB-D-3",
          "UFRJ-PeP-4",
          "UFU-AeU-3",
          "UNIVILLE-D-4",
          "UFG-PEC-3"
         ],
         "y": [
          0,
          0,
          3.8461538461538463,
          0,
          2.985074626865672,
          0,
          0,
          0,
          0,
          0,
          0,
          0,
          0,
          0,
          0,
          0,
          0,
          0,
          0,
          0,
          0,
          0,
          0,
          0,
          0,
          0,
          0,
          0,
          0,
          0,
          0,
          0,
          0,
          0,
          0,
          0,
          0,
          0,
          0,
          0,
          0,
          0,
          0,
          0,
          0,
          0,
          0,
          0
         ]
        },
        {
         "insidetextanchor": "middle",
         "marker": {
          "color": "#3498db"
         },
         "name": "ESPANHOL %",
         "text": [
          "<b>20.00</b>",
          "<b>15.38</b>",
          "<b>3.85</b>",
          "<b>0.00</b>",
          "<b>0.00</b>",
          "<b>0.00</b>",
          "<b>2.11</b>",
          "<b>0.00</b>",
          "<b>1.75</b>",
          "<b>1.72</b>",
          "<b>0.00</b>",
          "<b>0.00</b>",
          "<b>0.00</b>",
          "<b>0.00</b>",
          "<b>0.00</b>",
          "<b>0.00</b>",
          "<b>0.00</b>",
          "<b>0.00</b>",
          "<b>0.00</b>",
          "<b>0.00</b>",
          "<b>0.00</b>",
          "<b>0.00</b>",
          "<b>0.00</b>",
          "<b>0.00</b>",
          "<b>0.00</b>",
          "<b>0.00</b>",
          "<b>0.00</b>",
          "<b>0.00</b>",
          "<b>0.00</b>",
          "<b>0.00</b>",
          "<b>0.00</b>",
          "<b>0.00</b>",
          "<b>0.00</b>",
          "<b>0.00</b>",
          "<b>0.00</b>",
          "<b>0.00</b>",
          "<b>0.00</b>",
          "<b>0.00</b>",
          "<b>0.00</b>",
          "<b>0.00</b>",
          "<b>0.00</b>",
          "<b>0.00</b>",
          "<b>0.00</b>",
          "<b>0.00</b>",
          "<b>0.00</b>",
          "<b>0.00</b>",
          "<b>0.00</b>",
          "<b>0.00</b>"
         ],
         "textfont": {
          "size": 20
         },
         "textposition": "inside",
         "type": "bar",
         "x": [
          "PUC-RIO-A-3",
          "UFBA-C-CeR-4",
          "UFRJ-AP-4",
          "UNIRITTER-AeU-4",
          "UNICAMP-ATeC-5",
          "UFRN-AEU-4",
          "UFRJ-U-5",
          "UFBA-AEU-4",
          "PUC-RIO-D-5",
          "UFRGS-A-4",
          "UPM-AEU-6",
          "UFPA-AeU-4",
          "UFPB-JP-AEU-4",
          "UFPE-D-4",
          "UFAL-DDEH-3",
          "UFES-AEU-4",
          "UFRJ-A-6",
          "UFF-AEU-4",
          "UERJ-D-4",
          "UFMG-AEU-6",
          "UFV-AEU-4",
          "UFJF-AC-4",
          "UEMG-D-5",
          "USP-AEU-4",
          "USP/SC-AEU-4",
          "UNESP-BAURU-D-6",
          "PUCCAMP-AeU-5",
          "USJT-AEU-4",
          "UAM-D-5",
          "UFPR-D-4",
          "UFSC-AEU-5",
          "UFSC-UHEADC-4",
          "UDESC-D-4",
          "UFRGS-D-5",
          "UFPEL-AEU-4",
          "UNISINOS-D-5",
          "UNIRITTER-D-4",
          "UNB-AEU-4",
          "UFMA-D-3",
          "UFRN-APEMA-4",
          "UFRN-D-4",
          "UEL-AeU-4",
          "UFSC-D-5",
          "UNB-D-3",
          "UFRJ-PeP-4",
          "UFU-AeU-3",
          "UNIVILLE-D-4",
          "UFG-PEC-3"
         ],
         "y": [
          20,
          15.384615384615385,
          3.8461538461538463,
          0,
          0,
          0,
          2.1052631578947367,
          0,
          1.7543859649122806,
          1.7241379310344827,
          0,
          0,
          0,
          0,
          0,
          0,
          0,
          0,
          0,
          0,
          0,
          0,
          0,
          0,
          0,
          0,
          0,
          0,
          0,
          0,
          0,
          0,
          0,
          0,
          0,
          0,
          0,
          0,
          0,
          0,
          0,
          0,
          0,
          0,
          0,
          0,
          0,
          0
         ]
        },
        {
         "insidetextanchor": "middle",
         "marker": {
          "color": "#ff7675"
         },
         "name": "QUICHUA %",
         "text": [
          "<b>0.00</b>",
          "<b>0.00</b>",
          "<b>0.00</b>",
          "<b>0.00</b>",
          "<b>0.00</b>",
          "<b>0.00</b>",
          "<b>0.00</b>",
          "<b>0.00</b>",
          "<b>0.00</b>",
          "<b>0.00</b>",
          "<b>0.63</b>",
          "<b>0.00</b>",
          "<b>0.00</b>",
          "<b>0.00</b>",
          "<b>0.00</b>",
          "<b>0.00</b>",
          "<b>0.00</b>",
          "<b>0.00</b>",
          "<b>0.00</b>",
          "<b>0.00</b>",
          "<b>0.00</b>",
          "<b>0.00</b>",
          "<b>0.00</b>",
          "<b>0.00</b>",
          "<b>0.00</b>",
          "<b>0.00</b>",
          "<b>0.00</b>",
          "<b>0.00</b>",
          "<b>0.00</b>",
          "<b>0.00</b>",
          "<b>0.00</b>",
          "<b>0.00</b>",
          "<b>0.00</b>",
          "<b>0.00</b>",
          "<b>0.00</b>",
          "<b>0.00</b>",
          "<b>0.00</b>",
          "<b>0.00</b>",
          "<b>0.00</b>",
          "<b>0.00</b>",
          "<b>0.00</b>",
          "<b>0.00</b>",
          "<b>0.00</b>",
          "<b>0.00</b>",
          "<b>0.00</b>",
          "<b>0.00</b>",
          "<b>0.00</b>",
          "<b>0.00</b>"
         ],
         "textfont": {
          "size": 20
         },
         "textposition": "inside",
         "type": "bar",
         "x": [
          "PUC-RIO-A-3",
          "UFBA-C-CeR-4",
          "UFRJ-AP-4",
          "UNIRITTER-AeU-4",
          "UNICAMP-ATeC-5",
          "UFRN-AEU-4",
          "UFRJ-U-5",
          "UFBA-AEU-4",
          "PUC-RIO-D-5",
          "UFRGS-A-4",
          "UPM-AEU-6",
          "UFPA-AeU-4",
          "UFPB-JP-AEU-4",
          "UFPE-D-4",
          "UFAL-DDEH-3",
          "UFES-AEU-4",
          "UFRJ-A-6",
          "UFF-AEU-4",
          "UERJ-D-4",
          "UFMG-AEU-6",
          "UFV-AEU-4",
          "UFJF-AC-4",
          "UEMG-D-5",
          "USP-AEU-4",
          "USP/SC-AEU-4",
          "UNESP-BAURU-D-6",
          "PUCCAMP-AeU-5",
          "USJT-AEU-4",
          "UAM-D-5",
          "UFPR-D-4",
          "UFSC-AEU-5",
          "UFSC-UHEADC-4",
          "UDESC-D-4",
          "UFRGS-D-5",
          "UFPEL-AEU-4",
          "UNISINOS-D-5",
          "UNIRITTER-D-4",
          "UNB-AEU-4",
          "UFMA-D-3",
          "UFRN-APEMA-4",
          "UFRN-D-4",
          "UEL-AeU-4",
          "UFSC-D-5",
          "UNB-D-3",
          "UFRJ-PeP-4",
          "UFU-AeU-3",
          "UNIVILLE-D-4",
          "UFG-PEC-3"
         ],
         "y": [
          0,
          0,
          0,
          0,
          0,
          0,
          0,
          0,
          0,
          0,
          0.6289308176100629,
          0,
          0,
          0,
          0,
          0,
          0,
          0,
          0,
          0,
          0,
          0,
          0,
          0,
          0,
          0,
          0,
          0,
          0,
          0,
          0,
          0,
          0,
          0,
          0,
          0,
          0,
          0,
          0,
          0,
          0,
          0,
          0,
          0,
          0,
          0,
          0,
          0
         ]
        },
        {
         "insidetextanchor": "middle",
         "marker": {
          "color": "#fd79a8"
         },
         "name": "PROVENCAL %",
         "text": [
          "<b>0.00</b>",
          "<b>0.00</b>",
          "<b>0.00</b>",
          "<b>5.00</b>",
          "<b>0.00</b>",
          "<b>0.00</b>",
          "<b>0.00</b>",
          "<b>0.00</b>",
          "<b>0.00</b>",
          "<b>0.00</b>",
          "<b>0.00</b>",
          "<b>0.00</b>",
          "<b>0.00</b>",
          "<b>0.00</b>",
          "<b>0.00</b>",
          "<b>0.00</b>",
          "<b>0.00</b>",
          "<b>0.00</b>",
          "<b>0.00</b>",
          "<b>0.00</b>",
          "<b>0.00</b>",
          "<b>0.00</b>",
          "<b>0.00</b>",
          "<b>0.00</b>",
          "<b>0.00</b>",
          "<b>0.00</b>",
          "<b>0.00</b>",
          "<b>0.00</b>",
          "<b>0.00</b>",
          "<b>0.00</b>",
          "<b>0.00</b>",
          "<b>0.00</b>",
          "<b>0.00</b>",
          "<b>0.00</b>",
          "<b>0.00</b>",
          "<b>0.00</b>",
          "<b>0.00</b>",
          "<b>0.00</b>",
          "<b>0.00</b>",
          "<b>0.00</b>",
          "<b>0.00</b>",
          "<b>0.00</b>",
          "<b>0.00</b>",
          "<b>0.00</b>",
          "<b>0.00</b>",
          "<b>0.00</b>",
          "<b>0.00</b>",
          "<b>0.00</b>"
         ],
         "textfont": {
          "size": 20
         },
         "textposition": "inside",
         "type": "bar",
         "x": [
          "PUC-RIO-A-3",
          "UFBA-C-CeR-4",
          "UFRJ-AP-4",
          "UNIRITTER-AeU-4",
          "UNICAMP-ATeC-5",
          "UFRN-AEU-4",
          "UFRJ-U-5",
          "UFBA-AEU-4",
          "PUC-RIO-D-5",
          "UFRGS-A-4",
          "UPM-AEU-6",
          "UFPA-AeU-4",
          "UFPB-JP-AEU-4",
          "UFPE-D-4",
          "UFAL-DDEH-3",
          "UFES-AEU-4",
          "UFRJ-A-6",
          "UFF-AEU-4",
          "UERJ-D-4",
          "UFMG-AEU-6",
          "UFV-AEU-4",
          "UFJF-AC-4",
          "UEMG-D-5",
          "USP-AEU-4",
          "USP/SC-AEU-4",
          "UNESP-BAURU-D-6",
          "PUCCAMP-AeU-5",
          "USJT-AEU-4",
          "UAM-D-5",
          "UFPR-D-4",
          "UFSC-AEU-5",
          "UFSC-UHEADC-4",
          "UDESC-D-4",
          "UFRGS-D-5",
          "UFPEL-AEU-4",
          "UNISINOS-D-5",
          "UNIRITTER-D-4",
          "UNB-AEU-4",
          "UFMA-D-3",
          "UFRN-APEMA-4",
          "UFRN-D-4",
          "UEL-AeU-4",
          "UFSC-D-5",
          "UNB-D-3",
          "UFRJ-PeP-4",
          "UFU-AeU-3",
          "UNIVILLE-D-4",
          "UFG-PEC-3"
         ],
         "y": [
          0,
          0,
          0,
          5,
          0,
          0,
          0,
          0,
          0,
          0,
          0,
          0,
          0,
          0,
          0,
          0,
          0,
          0,
          0,
          0,
          0,
          0,
          0,
          0,
          0,
          0,
          0,
          0,
          0,
          0,
          0,
          0,
          0,
          0,
          0,
          0,
          0,
          0,
          0,
          0,
          0,
          0,
          0,
          0,
          0,
          0,
          0,
          0
         ]
        },
        {
         "insidetextanchor": "middle",
         "marker": {
          "color": "#fdcb6e"
         },
         "name": "PORTUGUES %",
         "text": [
          "<b>80.00</b>",
          "<b>84.62</b>",
          "<b>92.31</b>",
          "<b>95.00</b>",
          "<b>97.01</b>",
          "<b>97.83</b>",
          "<b>97.89</b>",
          "<b>98.21</b>",
          "<b>98.25</b>",
          "<b>98.28</b>",
          "<b>99.37</b>",
          "<b>100.00</b>",
          "<b>100.00</b>",
          "<b>100.00</b>",
          "<b>100.00</b>",
          "<b>100.00</b>",
          "<b>100.00</b>",
          "<b>100.00</b>",
          "<b>100.00</b>",
          "<b>100.00</b>",
          "<b>100.00</b>",
          "<b>100.00</b>",
          "<b>100.00</b>",
          "<b>100.00</b>",
          "<b>100.00</b>",
          "<b>100.00</b>",
          "<b>100.00</b>",
          "<b>100.00</b>",
          "<b>100.00</b>",
          "<b>100.00</b>",
          "<b>100.00</b>",
          "<b>100.00</b>",
          "<b>100.00</b>",
          "<b>100.00</b>",
          "<b>100.00</b>",
          "<b>100.00</b>",
          "<b>100.00</b>",
          "<b>100.00</b>",
          "<b>100.00</b>",
          "<b>100.00</b>",
          "<b>100.00</b>",
          "<b>100.00</b>",
          "<b>100.00</b>",
          "<b>100.00</b>",
          "<b>100.00</b>",
          "<b>100.00</b>",
          "<b>100.00</b>",
          "<b>100.00</b>"
         ],
         "textfont": {
          "size": 20
         },
         "textposition": "inside",
         "type": "bar",
         "x": [
          "PUC-RIO-A-3",
          "UFBA-C-CeR-4",
          "UFRJ-AP-4",
          "UNIRITTER-AeU-4",
          "UNICAMP-ATeC-5",
          "UFRN-AEU-4",
          "UFRJ-U-5",
          "UFBA-AEU-4",
          "PUC-RIO-D-5",
          "UFRGS-A-4",
          "UPM-AEU-6",
          "UFPA-AeU-4",
          "UFPB-JP-AEU-4",
          "UFPE-D-4",
          "UFAL-DDEH-3",
          "UFES-AEU-4",
          "UFRJ-A-6",
          "UFF-AEU-4",
          "UERJ-D-4",
          "UFMG-AEU-6",
          "UFV-AEU-4",
          "UFJF-AC-4",
          "UEMG-D-5",
          "USP-AEU-4",
          "USP/SC-AEU-4",
          "UNESP-BAURU-D-6",
          "PUCCAMP-AeU-5",
          "USJT-AEU-4",
          "UAM-D-5",
          "UFPR-D-4",
          "UFSC-AEU-5",
          "UFSC-UHEADC-4",
          "UDESC-D-4",
          "UFRGS-D-5",
          "UFPEL-AEU-4",
          "UNISINOS-D-5",
          "UNIRITTER-D-4",
          "UNB-AEU-4",
          "UFMA-D-3",
          "UFRN-APEMA-4",
          "UFRN-D-4",
          "UEL-AeU-4",
          "UFSC-D-5",
          "UNB-D-3",
          "UFRJ-PeP-4",
          "UFU-AeU-3",
          "UNIVILLE-D-4",
          "UFG-PEC-3"
         ],
         "y": [
          80,
          84.61538461538461,
          92.3076923076923,
          95,
          97.01492537313433,
          97.82608695652173,
          97.89473684210526,
          98.21428571428571,
          98.24561403508773,
          98.27586206896552,
          99.37106918238993,
          100,
          100,
          100,
          100,
          100,
          100,
          100,
          100,
          100,
          100,
          100,
          100,
          100,
          100,
          100,
          100,
          100,
          100,
          100,
          100,
          100,
          100,
          100,
          100,
          100,
          100,
          100,
          100,
          100,
          100,
          100,
          100,
          100,
          100,
          100,
          100,
          100
         ]
        }
       ],
       "layout": {
        "barmode": "stack",
        "font": {
         "size": 40
        },
        "height": 2300,
        "legend": {
         "font": {
          "color": "#000000",
          "size": 30
         },
         "orientation": "h",
         "x": 0,
         "y": 1
        },
        "template": {
         "data": {
          "bar": [
           {
            "error_x": {
             "color": "#2a3f5f"
            },
            "error_y": {
             "color": "#2a3f5f"
            },
            "marker": {
             "line": {
              "color": "#E5ECF6",
              "width": 0.5
             }
            },
            "type": "bar"
           }
          ],
          "barpolar": [
           {
            "marker": {
             "line": {
              "color": "#E5ECF6",
              "width": 0.5
             }
            },
            "type": "barpolar"
           }
          ],
          "carpet": [
           {
            "aaxis": {
             "endlinecolor": "#2a3f5f",
             "gridcolor": "white",
             "linecolor": "white",
             "minorgridcolor": "white",
             "startlinecolor": "#2a3f5f"
            },
            "baxis": {
             "endlinecolor": "#2a3f5f",
             "gridcolor": "white",
             "linecolor": "white",
             "minorgridcolor": "white",
             "startlinecolor": "#2a3f5f"
            },
            "type": "carpet"
           }
          ],
          "choropleth": [
           {
            "colorbar": {
             "outlinewidth": 0,
             "ticks": ""
            },
            "type": "choropleth"
           }
          ],
          "contour": [
           {
            "colorbar": {
             "outlinewidth": 0,
             "ticks": ""
            },
            "colorscale": [
             [
              0,
              "#0d0887"
             ],
             [
              0.1111111111111111,
              "#46039f"
             ],
             [
              0.2222222222222222,
              "#7201a8"
             ],
             [
              0.3333333333333333,
              "#9c179e"
             ],
             [
              0.4444444444444444,
              "#bd3786"
             ],
             [
              0.5555555555555556,
              "#d8576b"
             ],
             [
              0.6666666666666666,
              "#ed7953"
             ],
             [
              0.7777777777777778,
              "#fb9f3a"
             ],
             [
              0.8888888888888888,
              "#fdca26"
             ],
             [
              1,
              "#f0f921"
             ]
            ],
            "type": "contour"
           }
          ],
          "contourcarpet": [
           {
            "colorbar": {
             "outlinewidth": 0,
             "ticks": ""
            },
            "type": "contourcarpet"
           }
          ],
          "heatmap": [
           {
            "colorbar": {
             "outlinewidth": 0,
             "ticks": ""
            },
            "colorscale": [
             [
              0,
              "#0d0887"
             ],
             [
              0.1111111111111111,
              "#46039f"
             ],
             [
              0.2222222222222222,
              "#7201a8"
             ],
             [
              0.3333333333333333,
              "#9c179e"
             ],
             [
              0.4444444444444444,
              "#bd3786"
             ],
             [
              0.5555555555555556,
              "#d8576b"
             ],
             [
              0.6666666666666666,
              "#ed7953"
             ],
             [
              0.7777777777777778,
              "#fb9f3a"
             ],
             [
              0.8888888888888888,
              "#fdca26"
             ],
             [
              1,
              "#f0f921"
             ]
            ],
            "type": "heatmap"
           }
          ],
          "heatmapgl": [
           {
            "colorbar": {
             "outlinewidth": 0,
             "ticks": ""
            },
            "colorscale": [
             [
              0,
              "#0d0887"
             ],
             [
              0.1111111111111111,
              "#46039f"
             ],
             [
              0.2222222222222222,
              "#7201a8"
             ],
             [
              0.3333333333333333,
              "#9c179e"
             ],
             [
              0.4444444444444444,
              "#bd3786"
             ],
             [
              0.5555555555555556,
              "#d8576b"
             ],
             [
              0.6666666666666666,
              "#ed7953"
             ],
             [
              0.7777777777777778,
              "#fb9f3a"
             ],
             [
              0.8888888888888888,
              "#fdca26"
             ],
             [
              1,
              "#f0f921"
             ]
            ],
            "type": "heatmapgl"
           }
          ],
          "histogram": [
           {
            "marker": {
             "colorbar": {
              "outlinewidth": 0,
              "ticks": ""
             }
            },
            "type": "histogram"
           }
          ],
          "histogram2d": [
           {
            "colorbar": {
             "outlinewidth": 0,
             "ticks": ""
            },
            "colorscale": [
             [
              0,
              "#0d0887"
             ],
             [
              0.1111111111111111,
              "#46039f"
             ],
             [
              0.2222222222222222,
              "#7201a8"
             ],
             [
              0.3333333333333333,
              "#9c179e"
             ],
             [
              0.4444444444444444,
              "#bd3786"
             ],
             [
              0.5555555555555556,
              "#d8576b"
             ],
             [
              0.6666666666666666,
              "#ed7953"
             ],
             [
              0.7777777777777778,
              "#fb9f3a"
             ],
             [
              0.8888888888888888,
              "#fdca26"
             ],
             [
              1,
              "#f0f921"
             ]
            ],
            "type": "histogram2d"
           }
          ],
          "histogram2dcontour": [
           {
            "colorbar": {
             "outlinewidth": 0,
             "ticks": ""
            },
            "colorscale": [
             [
              0,
              "#0d0887"
             ],
             [
              0.1111111111111111,
              "#46039f"
             ],
             [
              0.2222222222222222,
              "#7201a8"
             ],
             [
              0.3333333333333333,
              "#9c179e"
             ],
             [
              0.4444444444444444,
              "#bd3786"
             ],
             [
              0.5555555555555556,
              "#d8576b"
             ],
             [
              0.6666666666666666,
              "#ed7953"
             ],
             [
              0.7777777777777778,
              "#fb9f3a"
             ],
             [
              0.8888888888888888,
              "#fdca26"
             ],
             [
              1,
              "#f0f921"
             ]
            ],
            "type": "histogram2dcontour"
           }
          ],
          "mesh3d": [
           {
            "colorbar": {
             "outlinewidth": 0,
             "ticks": ""
            },
            "type": "mesh3d"
           }
          ],
          "parcoords": [
           {
            "line": {
             "colorbar": {
              "outlinewidth": 0,
              "ticks": ""
             }
            },
            "type": "parcoords"
           }
          ],
          "pie": [
           {
            "automargin": true,
            "type": "pie"
           }
          ],
          "scatter": [
           {
            "marker": {
             "colorbar": {
              "outlinewidth": 0,
              "ticks": ""
             }
            },
            "type": "scatter"
           }
          ],
          "scatter3d": [
           {
            "line": {
             "colorbar": {
              "outlinewidth": 0,
              "ticks": ""
             }
            },
            "marker": {
             "colorbar": {
              "outlinewidth": 0,
              "ticks": ""
             }
            },
            "type": "scatter3d"
           }
          ],
          "scattercarpet": [
           {
            "marker": {
             "colorbar": {
              "outlinewidth": 0,
              "ticks": ""
             }
            },
            "type": "scattercarpet"
           }
          ],
          "scattergeo": [
           {
            "marker": {
             "colorbar": {
              "outlinewidth": 0,
              "ticks": ""
             }
            },
            "type": "scattergeo"
           }
          ],
          "scattergl": [
           {
            "marker": {
             "colorbar": {
              "outlinewidth": 0,
              "ticks": ""
             }
            },
            "type": "scattergl"
           }
          ],
          "scattermapbox": [
           {
            "marker": {
             "colorbar": {
              "outlinewidth": 0,
              "ticks": ""
             }
            },
            "type": "scattermapbox"
           }
          ],
          "scatterpolar": [
           {
            "marker": {
             "colorbar": {
              "outlinewidth": 0,
              "ticks": ""
             }
            },
            "type": "scatterpolar"
           }
          ],
          "scatterpolargl": [
           {
            "marker": {
             "colorbar": {
              "outlinewidth": 0,
              "ticks": ""
             }
            },
            "type": "scatterpolargl"
           }
          ],
          "scatterternary": [
           {
            "marker": {
             "colorbar": {
              "outlinewidth": 0,
              "ticks": ""
             }
            },
            "type": "scatterternary"
           }
          ],
          "surface": [
           {
            "colorbar": {
             "outlinewidth": 0,
             "ticks": ""
            },
            "colorscale": [
             [
              0,
              "#0d0887"
             ],
             [
              0.1111111111111111,
              "#46039f"
             ],
             [
              0.2222222222222222,
              "#7201a8"
             ],
             [
              0.3333333333333333,
              "#9c179e"
             ],
             [
              0.4444444444444444,
              "#bd3786"
             ],
             [
              0.5555555555555556,
              "#d8576b"
             ],
             [
              0.6666666666666666,
              "#ed7953"
             ],
             [
              0.7777777777777778,
              "#fb9f3a"
             ],
             [
              0.8888888888888888,
              "#fdca26"
             ],
             [
              1,
              "#f0f921"
             ]
            ],
            "type": "surface"
           }
          ],
          "table": [
           {
            "cells": {
             "fill": {
              "color": "#EBF0F8"
             },
             "line": {
              "color": "white"
             }
            },
            "header": {
             "fill": {
              "color": "#C8D4E3"
             },
             "line": {
              "color": "white"
             }
            },
            "type": "table"
           }
          ]
         },
         "layout": {
          "annotationdefaults": {
           "arrowcolor": "#2a3f5f",
           "arrowhead": 0,
           "arrowwidth": 1
          },
          "coloraxis": {
           "colorbar": {
            "outlinewidth": 0,
            "ticks": ""
           }
          },
          "colorscale": {
           "diverging": [
            [
             0,
             "#8e0152"
            ],
            [
             0.1,
             "#c51b7d"
            ],
            [
             0.2,
             "#de77ae"
            ],
            [
             0.3,
             "#f1b6da"
            ],
            [
             0.4,
             "#fde0ef"
            ],
            [
             0.5,
             "#f7f7f7"
            ],
            [
             0.6,
             "#e6f5d0"
            ],
            [
             0.7,
             "#b8e186"
            ],
            [
             0.8,
             "#7fbc41"
            ],
            [
             0.9,
             "#4d9221"
            ],
            [
             1,
             "#276419"
            ]
           ],
           "sequential": [
            [
             0,
             "#0d0887"
            ],
            [
             0.1111111111111111,
             "#46039f"
            ],
            [
             0.2222222222222222,
             "#7201a8"
            ],
            [
             0.3333333333333333,
             "#9c179e"
            ],
            [
             0.4444444444444444,
             "#bd3786"
            ],
            [
             0.5555555555555556,
             "#d8576b"
            ],
            [
             0.6666666666666666,
             "#ed7953"
            ],
            [
             0.7777777777777778,
             "#fb9f3a"
            ],
            [
             0.8888888888888888,
             "#fdca26"
            ],
            [
             1,
             "#f0f921"
            ]
           ],
           "sequentialminus": [
            [
             0,
             "#0d0887"
            ],
            [
             0.1111111111111111,
             "#46039f"
            ],
            [
             0.2222222222222222,
             "#7201a8"
            ],
            [
             0.3333333333333333,
             "#9c179e"
            ],
            [
             0.4444444444444444,
             "#bd3786"
            ],
            [
             0.5555555555555556,
             "#d8576b"
            ],
            [
             0.6666666666666666,
             "#ed7953"
            ],
            [
             0.7777777777777778,
             "#fb9f3a"
            ],
            [
             0.8888888888888888,
             "#fdca26"
            ],
            [
             1,
             "#f0f921"
            ]
           ]
          },
          "colorway": [
           "#636efa",
           "#EF553B",
           "#00cc96",
           "#ab63fa",
           "#FFA15A",
           "#19d3f3",
           "#FF6692",
           "#B6E880",
           "#FF97FF",
           "#FECB52"
          ],
          "font": {
           "color": "#2a3f5f"
          },
          "geo": {
           "bgcolor": "white",
           "lakecolor": "white",
           "landcolor": "#E5ECF6",
           "showlakes": true,
           "showland": true,
           "subunitcolor": "white"
          },
          "hoverlabel": {
           "align": "left"
          },
          "hovermode": "closest",
          "mapbox": {
           "style": "light"
          },
          "paper_bgcolor": "white",
          "plot_bgcolor": "#E5ECF6",
          "polar": {
           "angularaxis": {
            "gridcolor": "white",
            "linecolor": "white",
            "ticks": ""
           },
           "bgcolor": "#E5ECF6",
           "radialaxis": {
            "gridcolor": "white",
            "linecolor": "white",
            "ticks": ""
           }
          },
          "scene": {
           "xaxis": {
            "backgroundcolor": "#E5ECF6",
            "gridcolor": "white",
            "gridwidth": 2,
            "linecolor": "white",
            "showbackground": true,
            "ticks": "",
            "zerolinecolor": "white"
           },
           "yaxis": {
            "backgroundcolor": "#E5ECF6",
            "gridcolor": "white",
            "gridwidth": 2,
            "linecolor": "white",
            "showbackground": true,
            "ticks": "",
            "zerolinecolor": "white"
           },
           "zaxis": {
            "backgroundcolor": "#E5ECF6",
            "gridcolor": "white",
            "gridwidth": 2,
            "linecolor": "white",
            "showbackground": true,
            "ticks": "",
            "zerolinecolor": "white"
           }
          },
          "shapedefaults": {
           "line": {
            "color": "#2a3f5f"
           }
          },
          "ternary": {
           "aaxis": {
            "gridcolor": "white",
            "linecolor": "white",
            "ticks": ""
           },
           "baxis": {
            "gridcolor": "white",
            "linecolor": "white",
            "ticks": ""
           },
           "bgcolor": "#E5ECF6",
           "caxis": {
            "gridcolor": "white",
            "linecolor": "white",
            "ticks": ""
           }
          },
          "title": {
           "x": 0.05
          },
          "xaxis": {
           "automargin": true,
           "gridcolor": "white",
           "linecolor": "white",
           "ticks": "",
           "title": {
            "standoff": 15
           },
           "zerolinecolor": "white",
           "zerolinewidth": 2
          },
          "yaxis": {
           "automargin": true,
           "gridcolor": "white",
           "linecolor": "white",
           "ticks": "",
           "title": {
            "standoff": 15
           },
           "zerolinecolor": "white",
           "zerolinewidth": 2
          }
         }
        },
        "title": {
         "font": {
          "color": "#000000",
          "size": 50
         },
         "text": "Idiomas de trabalhos de conclusão (2013, 2014, 2014, 2015)",
         "x": 0.5,
         "xanchor": "center"
        },
        "width": 5000,
        "xaxis": {
         "title": {
          "text": "Instituição"
         }
        }
       }
      },
      "text/html": [
       "<div>                            <div id=\"314a5cb4-0f81-4eb6-91c9-40d30d6b7665\" class=\"plotly-graph-div\" style=\"height:2300px; width:5000px;\"></div>            <script type=\"text/javascript\">                require([\"plotly\"], function(Plotly) {                    window.PLOTLYENV=window.PLOTLYENV || {};                                    if (document.getElementById(\"314a5cb4-0f81-4eb6-91c9-40d30d6b7665\")) {                    Plotly.newPlot(                        \"314a5cb4-0f81-4eb6-91c9-40d30d6b7665\",                        [{\"insidetextanchor\": \"middle\", \"marker\": {\"color\": \"#9b59b6\"}, \"name\": \"BIRMANES %\", \"text\": [\"<b>0.00</b>\", \"<b>0.00</b>\", \"<b>0.00</b>\", \"<b>0.00</b>\", \"<b>0.00</b>\", \"<b>2.17</b>\", \"<b>0.00</b>\", \"<b>1.79</b>\", \"<b>0.00</b>\", \"<b>0.00</b>\", \"<b>0.00</b>\", \"<b>0.00</b>\", \"<b>0.00</b>\", \"<b>0.00</b>\", \"<b>0.00</b>\", \"<b>0.00</b>\", \"<b>0.00</b>\", \"<b>0.00</b>\", \"<b>0.00</b>\", \"<b>0.00</b>\", \"<b>0.00</b>\", \"<b>0.00</b>\", \"<b>0.00</b>\", \"<b>0.00</b>\", \"<b>0.00</b>\", \"<b>0.00</b>\", \"<b>0.00</b>\", \"<b>0.00</b>\", \"<b>0.00</b>\", \"<b>0.00</b>\", \"<b>0.00</b>\", \"<b>0.00</b>\", \"<b>0.00</b>\", \"<b>0.00</b>\", \"<b>0.00</b>\", \"<b>0.00</b>\", \"<b>0.00</b>\", \"<b>0.00</b>\", \"<b>0.00</b>\", \"<b>0.00</b>\", \"<b>0.00</b>\", \"<b>0.00</b>\", \"<b>0.00</b>\", \"<b>0.00</b>\", \"<b>0.00</b>\", \"<b>0.00</b>\", \"<b>0.00</b>\", \"<b>0.00</b>\"], \"textfont\": {\"size\": 20}, \"textposition\": \"inside\", \"type\": \"bar\", \"x\": [\"PUC-RIO-A-3\", \"UFBA-C-CeR-4\", \"UFRJ-AP-4\", \"UNIRITTER-AeU-4\", \"UNICAMP-ATeC-5\", \"UFRN-AEU-4\", \"UFRJ-U-5\", \"UFBA-AEU-4\", \"PUC-RIO-D-5\", \"UFRGS-A-4\", \"UPM-AEU-6\", \"UFPA-AeU-4\", \"UFPB-JP-AEU-4\", \"UFPE-D-4\", \"UFAL-DDEH-3\", \"UFES-AEU-4\", \"UFRJ-A-6\", \"UFF-AEU-4\", \"UERJ-D-4\", \"UFMG-AEU-6\", \"UFV-AEU-4\", \"UFJF-AC-4\", \"UEMG-D-5\", \"USP-AEU-4\", \"USP/SC-AEU-4\", \"UNESP-BAURU-D-6\", \"PUCCAMP-AeU-5\", \"USJT-AEU-4\", \"UAM-D-5\", \"UFPR-D-4\", \"UFSC-AEU-5\", \"UFSC-UHEADC-4\", \"UDESC-D-4\", \"UFRGS-D-5\", \"UFPEL-AEU-4\", \"UNISINOS-D-5\", \"UNIRITTER-D-4\", \"UNB-AEU-4\", \"UFMA-D-3\", \"UFRN-APEMA-4\", \"UFRN-D-4\", \"UEL-AeU-4\", \"UFSC-D-5\", \"UNB-D-3\", \"UFRJ-PeP-4\", \"UFU-AeU-3\", \"UNIVILLE-D-4\", \"UFG-PEC-3\"], \"y\": [0.0, 0.0, 0.0, 0.0, 0.0, 2.1739130434782608, 0.0, 1.7857142857142858, 0.0, 0.0, 0.0, 0.0, 0.0, 0.0, 0.0, 0.0, 0.0, 0.0, 0.0, 0.0, 0.0, 0.0, 0.0, 0.0, 0.0, 0.0, 0.0, 0.0, 0.0, 0.0, 0.0, 0.0, 0.0, 0.0, 0.0, 0.0, 0.0, 0.0, 0.0, 0.0, 0.0, 0.0, 0.0, 0.0, 0.0, 0.0, 0.0, 0.0]}, {\"insidetextanchor\": \"middle\", \"marker\": {\"color\": \"#1abc9c\"}, \"name\": \"INGLES %\", \"text\": [\"<b>0.00</b>\", \"<b>0.00</b>\", \"<b>3.85</b>\", \"<b>0.00</b>\", \"<b>2.99</b>\", \"<b>0.00</b>\", \"<b>0.00</b>\", \"<b>0.00</b>\", \"<b>0.00</b>\", \"<b>0.00</b>\", \"<b>0.00</b>\", \"<b>0.00</b>\", \"<b>0.00</b>\", \"<b>0.00</b>\", \"<b>0.00</b>\", \"<b>0.00</b>\", \"<b>0.00</b>\", \"<b>0.00</b>\", \"<b>0.00</b>\", \"<b>0.00</b>\", \"<b>0.00</b>\", \"<b>0.00</b>\", \"<b>0.00</b>\", \"<b>0.00</b>\", \"<b>0.00</b>\", \"<b>0.00</b>\", \"<b>0.00</b>\", \"<b>0.00</b>\", \"<b>0.00</b>\", \"<b>0.00</b>\", \"<b>0.00</b>\", \"<b>0.00</b>\", \"<b>0.00</b>\", \"<b>0.00</b>\", \"<b>0.00</b>\", \"<b>0.00</b>\", \"<b>0.00</b>\", \"<b>0.00</b>\", \"<b>0.00</b>\", \"<b>0.00</b>\", \"<b>0.00</b>\", \"<b>0.00</b>\", \"<b>0.00</b>\", \"<b>0.00</b>\", \"<b>0.00</b>\", \"<b>0.00</b>\", \"<b>0.00</b>\", \"<b>0.00</b>\"], \"textfont\": {\"size\": 20}, \"textposition\": \"inside\", \"type\": \"bar\", \"x\": [\"PUC-RIO-A-3\", \"UFBA-C-CeR-4\", \"UFRJ-AP-4\", \"UNIRITTER-AeU-4\", \"UNICAMP-ATeC-5\", \"UFRN-AEU-4\", \"UFRJ-U-5\", \"UFBA-AEU-4\", \"PUC-RIO-D-5\", \"UFRGS-A-4\", \"UPM-AEU-6\", \"UFPA-AeU-4\", \"UFPB-JP-AEU-4\", \"UFPE-D-4\", \"UFAL-DDEH-3\", \"UFES-AEU-4\", \"UFRJ-A-6\", \"UFF-AEU-4\", \"UERJ-D-4\", \"UFMG-AEU-6\", \"UFV-AEU-4\", \"UFJF-AC-4\", \"UEMG-D-5\", \"USP-AEU-4\", \"USP/SC-AEU-4\", \"UNESP-BAURU-D-6\", \"PUCCAMP-AeU-5\", \"USJT-AEU-4\", \"UAM-D-5\", \"UFPR-D-4\", \"UFSC-AEU-5\", \"UFSC-UHEADC-4\", \"UDESC-D-4\", \"UFRGS-D-5\", \"UFPEL-AEU-4\", \"UNISINOS-D-5\", \"UNIRITTER-D-4\", \"UNB-AEU-4\", \"UFMA-D-3\", \"UFRN-APEMA-4\", \"UFRN-D-4\", \"UEL-AeU-4\", \"UFSC-D-5\", \"UNB-D-3\", \"UFRJ-PeP-4\", \"UFU-AeU-3\", \"UNIVILLE-D-4\", \"UFG-PEC-3\"], \"y\": [0.0, 0.0, 3.8461538461538463, 0.0, 2.985074626865672, 0.0, 0.0, 0.0, 0.0, 0.0, 0.0, 0.0, 0.0, 0.0, 0.0, 0.0, 0.0, 0.0, 0.0, 0.0, 0.0, 0.0, 0.0, 0.0, 0.0, 0.0, 0.0, 0.0, 0.0, 0.0, 0.0, 0.0, 0.0, 0.0, 0.0, 0.0, 0.0, 0.0, 0.0, 0.0, 0.0, 0.0, 0.0, 0.0, 0.0, 0.0, 0.0, 0.0]}, {\"insidetextanchor\": \"middle\", \"marker\": {\"color\": \"#3498db\"}, \"name\": \"ESPANHOL %\", \"text\": [\"<b>20.00</b>\", \"<b>15.38</b>\", \"<b>3.85</b>\", \"<b>0.00</b>\", \"<b>0.00</b>\", \"<b>0.00</b>\", \"<b>2.11</b>\", \"<b>0.00</b>\", \"<b>1.75</b>\", \"<b>1.72</b>\", \"<b>0.00</b>\", \"<b>0.00</b>\", \"<b>0.00</b>\", \"<b>0.00</b>\", \"<b>0.00</b>\", \"<b>0.00</b>\", \"<b>0.00</b>\", \"<b>0.00</b>\", \"<b>0.00</b>\", \"<b>0.00</b>\", \"<b>0.00</b>\", \"<b>0.00</b>\", \"<b>0.00</b>\", \"<b>0.00</b>\", \"<b>0.00</b>\", \"<b>0.00</b>\", \"<b>0.00</b>\", \"<b>0.00</b>\", \"<b>0.00</b>\", \"<b>0.00</b>\", \"<b>0.00</b>\", \"<b>0.00</b>\", \"<b>0.00</b>\", \"<b>0.00</b>\", \"<b>0.00</b>\", \"<b>0.00</b>\", \"<b>0.00</b>\", \"<b>0.00</b>\", \"<b>0.00</b>\", \"<b>0.00</b>\", \"<b>0.00</b>\", \"<b>0.00</b>\", \"<b>0.00</b>\", \"<b>0.00</b>\", \"<b>0.00</b>\", \"<b>0.00</b>\", \"<b>0.00</b>\", \"<b>0.00</b>\"], \"textfont\": {\"size\": 20}, \"textposition\": \"inside\", \"type\": \"bar\", \"x\": [\"PUC-RIO-A-3\", \"UFBA-C-CeR-4\", \"UFRJ-AP-4\", \"UNIRITTER-AeU-4\", \"UNICAMP-ATeC-5\", \"UFRN-AEU-4\", \"UFRJ-U-5\", \"UFBA-AEU-4\", \"PUC-RIO-D-5\", \"UFRGS-A-4\", \"UPM-AEU-6\", \"UFPA-AeU-4\", \"UFPB-JP-AEU-4\", \"UFPE-D-4\", \"UFAL-DDEH-3\", \"UFES-AEU-4\", \"UFRJ-A-6\", \"UFF-AEU-4\", \"UERJ-D-4\", \"UFMG-AEU-6\", \"UFV-AEU-4\", \"UFJF-AC-4\", \"UEMG-D-5\", \"USP-AEU-4\", \"USP/SC-AEU-4\", \"UNESP-BAURU-D-6\", \"PUCCAMP-AeU-5\", \"USJT-AEU-4\", \"UAM-D-5\", \"UFPR-D-4\", \"UFSC-AEU-5\", \"UFSC-UHEADC-4\", \"UDESC-D-4\", \"UFRGS-D-5\", \"UFPEL-AEU-4\", \"UNISINOS-D-5\", \"UNIRITTER-D-4\", \"UNB-AEU-4\", \"UFMA-D-3\", \"UFRN-APEMA-4\", \"UFRN-D-4\", \"UEL-AeU-4\", \"UFSC-D-5\", \"UNB-D-3\", \"UFRJ-PeP-4\", \"UFU-AeU-3\", \"UNIVILLE-D-4\", \"UFG-PEC-3\"], \"y\": [20.0, 15.384615384615385, 3.8461538461538463, 0.0, 0.0, 0.0, 2.1052631578947367, 0.0, 1.7543859649122806, 1.7241379310344827, 0.0, 0.0, 0.0, 0.0, 0.0, 0.0, 0.0, 0.0, 0.0, 0.0, 0.0, 0.0, 0.0, 0.0, 0.0, 0.0, 0.0, 0.0, 0.0, 0.0, 0.0, 0.0, 0.0, 0.0, 0.0, 0.0, 0.0, 0.0, 0.0, 0.0, 0.0, 0.0, 0.0, 0.0, 0.0, 0.0, 0.0, 0.0]}, {\"insidetextanchor\": \"middle\", \"marker\": {\"color\": \"#ff7675\"}, \"name\": \"QUICHUA %\", \"text\": [\"<b>0.00</b>\", \"<b>0.00</b>\", \"<b>0.00</b>\", \"<b>0.00</b>\", \"<b>0.00</b>\", \"<b>0.00</b>\", \"<b>0.00</b>\", \"<b>0.00</b>\", \"<b>0.00</b>\", \"<b>0.00</b>\", \"<b>0.63</b>\", \"<b>0.00</b>\", \"<b>0.00</b>\", \"<b>0.00</b>\", \"<b>0.00</b>\", \"<b>0.00</b>\", \"<b>0.00</b>\", \"<b>0.00</b>\", \"<b>0.00</b>\", \"<b>0.00</b>\", \"<b>0.00</b>\", \"<b>0.00</b>\", \"<b>0.00</b>\", \"<b>0.00</b>\", \"<b>0.00</b>\", \"<b>0.00</b>\", \"<b>0.00</b>\", \"<b>0.00</b>\", \"<b>0.00</b>\", \"<b>0.00</b>\", \"<b>0.00</b>\", \"<b>0.00</b>\", \"<b>0.00</b>\", \"<b>0.00</b>\", \"<b>0.00</b>\", \"<b>0.00</b>\", \"<b>0.00</b>\", \"<b>0.00</b>\", \"<b>0.00</b>\", \"<b>0.00</b>\", \"<b>0.00</b>\", \"<b>0.00</b>\", \"<b>0.00</b>\", \"<b>0.00</b>\", \"<b>0.00</b>\", \"<b>0.00</b>\", \"<b>0.00</b>\", \"<b>0.00</b>\"], \"textfont\": {\"size\": 20}, \"textposition\": \"inside\", \"type\": \"bar\", \"x\": [\"PUC-RIO-A-3\", \"UFBA-C-CeR-4\", \"UFRJ-AP-4\", \"UNIRITTER-AeU-4\", \"UNICAMP-ATeC-5\", \"UFRN-AEU-4\", \"UFRJ-U-5\", \"UFBA-AEU-4\", \"PUC-RIO-D-5\", \"UFRGS-A-4\", \"UPM-AEU-6\", \"UFPA-AeU-4\", \"UFPB-JP-AEU-4\", \"UFPE-D-4\", \"UFAL-DDEH-3\", \"UFES-AEU-4\", \"UFRJ-A-6\", \"UFF-AEU-4\", \"UERJ-D-4\", \"UFMG-AEU-6\", \"UFV-AEU-4\", \"UFJF-AC-4\", \"UEMG-D-5\", \"USP-AEU-4\", \"USP/SC-AEU-4\", \"UNESP-BAURU-D-6\", \"PUCCAMP-AeU-5\", \"USJT-AEU-4\", \"UAM-D-5\", \"UFPR-D-4\", \"UFSC-AEU-5\", \"UFSC-UHEADC-4\", \"UDESC-D-4\", \"UFRGS-D-5\", \"UFPEL-AEU-4\", \"UNISINOS-D-5\", \"UNIRITTER-D-4\", \"UNB-AEU-4\", \"UFMA-D-3\", \"UFRN-APEMA-4\", \"UFRN-D-4\", \"UEL-AeU-4\", \"UFSC-D-5\", \"UNB-D-3\", \"UFRJ-PeP-4\", \"UFU-AeU-3\", \"UNIVILLE-D-4\", \"UFG-PEC-3\"], \"y\": [0.0, 0.0, 0.0, 0.0, 0.0, 0.0, 0.0, 0.0, 0.0, 0.0, 0.6289308176100629, 0.0, 0.0, 0.0, 0.0, 0.0, 0.0, 0.0, 0.0, 0.0, 0.0, 0.0, 0.0, 0.0, 0.0, 0.0, 0.0, 0.0, 0.0, 0.0, 0.0, 0.0, 0.0, 0.0, 0.0, 0.0, 0.0, 0.0, 0.0, 0.0, 0.0, 0.0, 0.0, 0.0, 0.0, 0.0, 0.0, 0.0]}, {\"insidetextanchor\": \"middle\", \"marker\": {\"color\": \"#fd79a8\"}, \"name\": \"PROVENCAL %\", \"text\": [\"<b>0.00</b>\", \"<b>0.00</b>\", \"<b>0.00</b>\", \"<b>5.00</b>\", \"<b>0.00</b>\", \"<b>0.00</b>\", \"<b>0.00</b>\", \"<b>0.00</b>\", \"<b>0.00</b>\", \"<b>0.00</b>\", \"<b>0.00</b>\", \"<b>0.00</b>\", \"<b>0.00</b>\", \"<b>0.00</b>\", \"<b>0.00</b>\", \"<b>0.00</b>\", \"<b>0.00</b>\", \"<b>0.00</b>\", \"<b>0.00</b>\", \"<b>0.00</b>\", \"<b>0.00</b>\", \"<b>0.00</b>\", \"<b>0.00</b>\", \"<b>0.00</b>\", \"<b>0.00</b>\", \"<b>0.00</b>\", \"<b>0.00</b>\", \"<b>0.00</b>\", \"<b>0.00</b>\", \"<b>0.00</b>\", \"<b>0.00</b>\", \"<b>0.00</b>\", \"<b>0.00</b>\", \"<b>0.00</b>\", \"<b>0.00</b>\", \"<b>0.00</b>\", \"<b>0.00</b>\", \"<b>0.00</b>\", \"<b>0.00</b>\", \"<b>0.00</b>\", \"<b>0.00</b>\", \"<b>0.00</b>\", \"<b>0.00</b>\", \"<b>0.00</b>\", \"<b>0.00</b>\", \"<b>0.00</b>\", \"<b>0.00</b>\", \"<b>0.00</b>\"], \"textfont\": {\"size\": 20}, \"textposition\": \"inside\", \"type\": \"bar\", \"x\": [\"PUC-RIO-A-3\", \"UFBA-C-CeR-4\", \"UFRJ-AP-4\", \"UNIRITTER-AeU-4\", \"UNICAMP-ATeC-5\", \"UFRN-AEU-4\", \"UFRJ-U-5\", \"UFBA-AEU-4\", \"PUC-RIO-D-5\", \"UFRGS-A-4\", \"UPM-AEU-6\", \"UFPA-AeU-4\", \"UFPB-JP-AEU-4\", \"UFPE-D-4\", \"UFAL-DDEH-3\", \"UFES-AEU-4\", \"UFRJ-A-6\", \"UFF-AEU-4\", \"UERJ-D-4\", \"UFMG-AEU-6\", \"UFV-AEU-4\", \"UFJF-AC-4\", \"UEMG-D-5\", \"USP-AEU-4\", \"USP/SC-AEU-4\", \"UNESP-BAURU-D-6\", \"PUCCAMP-AeU-5\", \"USJT-AEU-4\", \"UAM-D-5\", \"UFPR-D-4\", \"UFSC-AEU-5\", \"UFSC-UHEADC-4\", \"UDESC-D-4\", \"UFRGS-D-5\", \"UFPEL-AEU-4\", \"UNISINOS-D-5\", \"UNIRITTER-D-4\", \"UNB-AEU-4\", \"UFMA-D-3\", \"UFRN-APEMA-4\", \"UFRN-D-4\", \"UEL-AeU-4\", \"UFSC-D-5\", \"UNB-D-3\", \"UFRJ-PeP-4\", \"UFU-AeU-3\", \"UNIVILLE-D-4\", \"UFG-PEC-3\"], \"y\": [0.0, 0.0, 0.0, 5.0, 0.0, 0.0, 0.0, 0.0, 0.0, 0.0, 0.0, 0.0, 0.0, 0.0, 0.0, 0.0, 0.0, 0.0, 0.0, 0.0, 0.0, 0.0, 0.0, 0.0, 0.0, 0.0, 0.0, 0.0, 0.0, 0.0, 0.0, 0.0, 0.0, 0.0, 0.0, 0.0, 0.0, 0.0, 0.0, 0.0, 0.0, 0.0, 0.0, 0.0, 0.0, 0.0, 0.0, 0.0]}, {\"insidetextanchor\": \"middle\", \"marker\": {\"color\": \"#fdcb6e\"}, \"name\": \"PORTUGUES %\", \"text\": [\"<b>80.00</b>\", \"<b>84.62</b>\", \"<b>92.31</b>\", \"<b>95.00</b>\", \"<b>97.01</b>\", \"<b>97.83</b>\", \"<b>97.89</b>\", \"<b>98.21</b>\", \"<b>98.25</b>\", \"<b>98.28</b>\", \"<b>99.37</b>\", \"<b>100.00</b>\", \"<b>100.00</b>\", \"<b>100.00</b>\", \"<b>100.00</b>\", \"<b>100.00</b>\", \"<b>100.00</b>\", \"<b>100.00</b>\", \"<b>100.00</b>\", \"<b>100.00</b>\", \"<b>100.00</b>\", \"<b>100.00</b>\", \"<b>100.00</b>\", \"<b>100.00</b>\", \"<b>100.00</b>\", \"<b>100.00</b>\", \"<b>100.00</b>\", \"<b>100.00</b>\", \"<b>100.00</b>\", \"<b>100.00</b>\", \"<b>100.00</b>\", \"<b>100.00</b>\", \"<b>100.00</b>\", \"<b>100.00</b>\", \"<b>100.00</b>\", \"<b>100.00</b>\", \"<b>100.00</b>\", \"<b>100.00</b>\", \"<b>100.00</b>\", \"<b>100.00</b>\", \"<b>100.00</b>\", \"<b>100.00</b>\", \"<b>100.00</b>\", \"<b>100.00</b>\", \"<b>100.00</b>\", \"<b>100.00</b>\", \"<b>100.00</b>\", \"<b>100.00</b>\"], \"textfont\": {\"size\": 20}, \"textposition\": \"inside\", \"type\": \"bar\", \"x\": [\"PUC-RIO-A-3\", \"UFBA-C-CeR-4\", \"UFRJ-AP-4\", \"UNIRITTER-AeU-4\", \"UNICAMP-ATeC-5\", \"UFRN-AEU-4\", \"UFRJ-U-5\", \"UFBA-AEU-4\", \"PUC-RIO-D-5\", \"UFRGS-A-4\", \"UPM-AEU-6\", \"UFPA-AeU-4\", \"UFPB-JP-AEU-4\", \"UFPE-D-4\", \"UFAL-DDEH-3\", \"UFES-AEU-4\", \"UFRJ-A-6\", \"UFF-AEU-4\", \"UERJ-D-4\", \"UFMG-AEU-6\", \"UFV-AEU-4\", \"UFJF-AC-4\", \"UEMG-D-5\", \"USP-AEU-4\", \"USP/SC-AEU-4\", \"UNESP-BAURU-D-6\", \"PUCCAMP-AeU-5\", \"USJT-AEU-4\", \"UAM-D-5\", \"UFPR-D-4\", \"UFSC-AEU-5\", \"UFSC-UHEADC-4\", \"UDESC-D-4\", \"UFRGS-D-5\", \"UFPEL-AEU-4\", \"UNISINOS-D-5\", \"UNIRITTER-D-4\", \"UNB-AEU-4\", \"UFMA-D-3\", \"UFRN-APEMA-4\", \"UFRN-D-4\", \"UEL-AeU-4\", \"UFSC-D-5\", \"UNB-D-3\", \"UFRJ-PeP-4\", \"UFU-AeU-3\", \"UNIVILLE-D-4\", \"UFG-PEC-3\"], \"y\": [80.0, 84.61538461538461, 92.3076923076923, 95.0, 97.01492537313433, 97.82608695652173, 97.89473684210526, 98.21428571428571, 98.24561403508773, 98.27586206896552, 99.37106918238993, 100.0, 100.0, 100.0, 100.0, 100.0, 100.0, 100.0, 100.0, 100.0, 100.0, 100.0, 100.0, 100.0, 100.0, 100.0, 100.0, 100.0, 100.0, 100.0, 100.0, 100.0, 100.0, 100.0, 100.0, 100.0, 100.0, 100.0, 100.0, 100.0, 100.0, 100.0, 100.0, 100.0, 100.0, 100.0, 100.0, 100.0]}],                        {\"barmode\": \"stack\", \"font\": {\"size\": 40}, \"height\": 2300, \"legend\": {\"font\": {\"color\": \"#000000\", \"size\": 30}, \"orientation\": \"h\", \"x\": 0, \"y\": 1}, \"template\": {\"data\": {\"bar\": [{\"error_x\": {\"color\": \"#2a3f5f\"}, \"error_y\": {\"color\": \"#2a3f5f\"}, \"marker\": {\"line\": {\"color\": \"#E5ECF6\", \"width\": 0.5}}, \"type\": \"bar\"}], \"barpolar\": [{\"marker\": {\"line\": {\"color\": \"#E5ECF6\", \"width\": 0.5}}, \"type\": \"barpolar\"}], \"carpet\": [{\"aaxis\": {\"endlinecolor\": \"#2a3f5f\", \"gridcolor\": \"white\", \"linecolor\": \"white\", \"minorgridcolor\": \"white\", \"startlinecolor\": \"#2a3f5f\"}, \"baxis\": {\"endlinecolor\": \"#2a3f5f\", \"gridcolor\": \"white\", \"linecolor\": \"white\", \"minorgridcolor\": \"white\", \"startlinecolor\": \"#2a3f5f\"}, \"type\": \"carpet\"}], \"choropleth\": [{\"colorbar\": {\"outlinewidth\": 0, \"ticks\": \"\"}, \"type\": \"choropleth\"}], \"contour\": [{\"colorbar\": {\"outlinewidth\": 0, \"ticks\": \"\"}, \"colorscale\": [[0.0, \"#0d0887\"], [0.1111111111111111, \"#46039f\"], [0.2222222222222222, \"#7201a8\"], [0.3333333333333333, \"#9c179e\"], [0.4444444444444444, \"#bd3786\"], [0.5555555555555556, \"#d8576b\"], [0.6666666666666666, \"#ed7953\"], [0.7777777777777778, \"#fb9f3a\"], [0.8888888888888888, \"#fdca26\"], [1.0, \"#f0f921\"]], \"type\": \"contour\"}], \"contourcarpet\": [{\"colorbar\": {\"outlinewidth\": 0, \"ticks\": \"\"}, \"type\": \"contourcarpet\"}], \"heatmap\": [{\"colorbar\": {\"outlinewidth\": 0, \"ticks\": \"\"}, \"colorscale\": [[0.0, \"#0d0887\"], [0.1111111111111111, \"#46039f\"], [0.2222222222222222, \"#7201a8\"], [0.3333333333333333, \"#9c179e\"], [0.4444444444444444, \"#bd3786\"], [0.5555555555555556, \"#d8576b\"], [0.6666666666666666, \"#ed7953\"], [0.7777777777777778, \"#fb9f3a\"], [0.8888888888888888, \"#fdca26\"], [1.0, \"#f0f921\"]], \"type\": \"heatmap\"}], \"heatmapgl\": [{\"colorbar\": {\"outlinewidth\": 0, \"ticks\": \"\"}, \"colorscale\": [[0.0, \"#0d0887\"], [0.1111111111111111, \"#46039f\"], [0.2222222222222222, \"#7201a8\"], [0.3333333333333333, \"#9c179e\"], [0.4444444444444444, \"#bd3786\"], [0.5555555555555556, \"#d8576b\"], [0.6666666666666666, \"#ed7953\"], [0.7777777777777778, \"#fb9f3a\"], [0.8888888888888888, \"#fdca26\"], [1.0, \"#f0f921\"]], \"type\": \"heatmapgl\"}], \"histogram\": [{\"marker\": {\"colorbar\": {\"outlinewidth\": 0, \"ticks\": \"\"}}, \"type\": \"histogram\"}], \"histogram2d\": [{\"colorbar\": {\"outlinewidth\": 0, \"ticks\": \"\"}, \"colorscale\": [[0.0, \"#0d0887\"], [0.1111111111111111, \"#46039f\"], [0.2222222222222222, \"#7201a8\"], [0.3333333333333333, \"#9c179e\"], [0.4444444444444444, \"#bd3786\"], [0.5555555555555556, \"#d8576b\"], [0.6666666666666666, \"#ed7953\"], [0.7777777777777778, \"#fb9f3a\"], [0.8888888888888888, \"#fdca26\"], [1.0, \"#f0f921\"]], \"type\": \"histogram2d\"}], \"histogram2dcontour\": [{\"colorbar\": {\"outlinewidth\": 0, \"ticks\": \"\"}, \"colorscale\": [[0.0, \"#0d0887\"], [0.1111111111111111, \"#46039f\"], [0.2222222222222222, \"#7201a8\"], [0.3333333333333333, \"#9c179e\"], [0.4444444444444444, \"#bd3786\"], [0.5555555555555556, \"#d8576b\"], [0.6666666666666666, \"#ed7953\"], [0.7777777777777778, \"#fb9f3a\"], [0.8888888888888888, \"#fdca26\"], [1.0, \"#f0f921\"]], \"type\": \"histogram2dcontour\"}], \"mesh3d\": [{\"colorbar\": {\"outlinewidth\": 0, \"ticks\": \"\"}, \"type\": \"mesh3d\"}], \"parcoords\": [{\"line\": {\"colorbar\": {\"outlinewidth\": 0, \"ticks\": \"\"}}, \"type\": \"parcoords\"}], \"pie\": [{\"automargin\": true, \"type\": \"pie\"}], \"scatter\": [{\"marker\": {\"colorbar\": {\"outlinewidth\": 0, \"ticks\": \"\"}}, \"type\": \"scatter\"}], \"scatter3d\": [{\"line\": {\"colorbar\": {\"outlinewidth\": 0, \"ticks\": \"\"}}, \"marker\": {\"colorbar\": {\"outlinewidth\": 0, \"ticks\": \"\"}}, \"type\": \"scatter3d\"}], \"scattercarpet\": [{\"marker\": {\"colorbar\": {\"outlinewidth\": 0, \"ticks\": \"\"}}, \"type\": \"scattercarpet\"}], \"scattergeo\": [{\"marker\": {\"colorbar\": {\"outlinewidth\": 0, \"ticks\": \"\"}}, \"type\": \"scattergeo\"}], \"scattergl\": [{\"marker\": {\"colorbar\": {\"outlinewidth\": 0, \"ticks\": \"\"}}, \"type\": \"scattergl\"}], \"scattermapbox\": [{\"marker\": {\"colorbar\": {\"outlinewidth\": 0, \"ticks\": \"\"}}, \"type\": \"scattermapbox\"}], \"scatterpolar\": [{\"marker\": {\"colorbar\": {\"outlinewidth\": 0, \"ticks\": \"\"}}, \"type\": \"scatterpolar\"}], \"scatterpolargl\": [{\"marker\": {\"colorbar\": {\"outlinewidth\": 0, \"ticks\": \"\"}}, \"type\": \"scatterpolargl\"}], \"scatterternary\": [{\"marker\": {\"colorbar\": {\"outlinewidth\": 0, \"ticks\": \"\"}}, \"type\": \"scatterternary\"}], \"surface\": [{\"colorbar\": {\"outlinewidth\": 0, \"ticks\": \"\"}, \"colorscale\": [[0.0, \"#0d0887\"], [0.1111111111111111, \"#46039f\"], [0.2222222222222222, \"#7201a8\"], [0.3333333333333333, \"#9c179e\"], [0.4444444444444444, \"#bd3786\"], [0.5555555555555556, \"#d8576b\"], [0.6666666666666666, \"#ed7953\"], [0.7777777777777778, \"#fb9f3a\"], [0.8888888888888888, \"#fdca26\"], [1.0, \"#f0f921\"]], \"type\": \"surface\"}], \"table\": [{\"cells\": {\"fill\": {\"color\": \"#EBF0F8\"}, \"line\": {\"color\": \"white\"}}, \"header\": {\"fill\": {\"color\": \"#C8D4E3\"}, \"line\": {\"color\": \"white\"}}, \"type\": \"table\"}]}, \"layout\": {\"annotationdefaults\": {\"arrowcolor\": \"#2a3f5f\", \"arrowhead\": 0, \"arrowwidth\": 1}, \"coloraxis\": {\"colorbar\": {\"outlinewidth\": 0, \"ticks\": \"\"}}, \"colorscale\": {\"diverging\": [[0, \"#8e0152\"], [0.1, \"#c51b7d\"], [0.2, \"#de77ae\"], [0.3, \"#f1b6da\"], [0.4, \"#fde0ef\"], [0.5, \"#f7f7f7\"], [0.6, \"#e6f5d0\"], [0.7, \"#b8e186\"], [0.8, \"#7fbc41\"], [0.9, \"#4d9221\"], [1, \"#276419\"]], \"sequential\": [[0.0, \"#0d0887\"], [0.1111111111111111, \"#46039f\"], [0.2222222222222222, \"#7201a8\"], [0.3333333333333333, \"#9c179e\"], [0.4444444444444444, \"#bd3786\"], [0.5555555555555556, \"#d8576b\"], [0.6666666666666666, \"#ed7953\"], [0.7777777777777778, \"#fb9f3a\"], [0.8888888888888888, \"#fdca26\"], [1.0, \"#f0f921\"]], \"sequentialminus\": [[0.0, \"#0d0887\"], [0.1111111111111111, \"#46039f\"], [0.2222222222222222, \"#7201a8\"], [0.3333333333333333, \"#9c179e\"], [0.4444444444444444, \"#bd3786\"], [0.5555555555555556, \"#d8576b\"], [0.6666666666666666, \"#ed7953\"], [0.7777777777777778, \"#fb9f3a\"], [0.8888888888888888, \"#fdca26\"], [1.0, \"#f0f921\"]]}, \"colorway\": [\"#636efa\", \"#EF553B\", \"#00cc96\", \"#ab63fa\", \"#FFA15A\", \"#19d3f3\", \"#FF6692\", \"#B6E880\", \"#FF97FF\", \"#FECB52\"], \"font\": {\"color\": \"#2a3f5f\"}, \"geo\": {\"bgcolor\": \"white\", \"lakecolor\": \"white\", \"landcolor\": \"#E5ECF6\", \"showlakes\": true, \"showland\": true, \"subunitcolor\": \"white\"}, \"hoverlabel\": {\"align\": \"left\"}, \"hovermode\": \"closest\", \"mapbox\": {\"style\": \"light\"}, \"paper_bgcolor\": \"white\", \"plot_bgcolor\": \"#E5ECF6\", \"polar\": {\"angularaxis\": {\"gridcolor\": \"white\", \"linecolor\": \"white\", \"ticks\": \"\"}, \"bgcolor\": \"#E5ECF6\", \"radialaxis\": {\"gridcolor\": \"white\", \"linecolor\": \"white\", \"ticks\": \"\"}}, \"scene\": {\"xaxis\": {\"backgroundcolor\": \"#E5ECF6\", \"gridcolor\": \"white\", \"gridwidth\": 2, \"linecolor\": \"white\", \"showbackground\": true, \"ticks\": \"\", \"zerolinecolor\": \"white\"}, \"yaxis\": {\"backgroundcolor\": \"#E5ECF6\", \"gridcolor\": \"white\", \"gridwidth\": 2, \"linecolor\": \"white\", \"showbackground\": true, \"ticks\": \"\", \"zerolinecolor\": \"white\"}, \"zaxis\": {\"backgroundcolor\": \"#E5ECF6\", \"gridcolor\": \"white\", \"gridwidth\": 2, \"linecolor\": \"white\", \"showbackground\": true, \"ticks\": \"\", \"zerolinecolor\": \"white\"}}, \"shapedefaults\": {\"line\": {\"color\": \"#2a3f5f\"}}, \"ternary\": {\"aaxis\": {\"gridcolor\": \"white\", \"linecolor\": \"white\", \"ticks\": \"\"}, \"baxis\": {\"gridcolor\": \"white\", \"linecolor\": \"white\", \"ticks\": \"\"}, \"bgcolor\": \"#E5ECF6\", \"caxis\": {\"gridcolor\": \"white\", \"linecolor\": \"white\", \"ticks\": \"\"}}, \"title\": {\"x\": 0.05}, \"xaxis\": {\"automargin\": true, \"gridcolor\": \"white\", \"linecolor\": \"white\", \"ticks\": \"\", \"title\": {\"standoff\": 15}, \"zerolinecolor\": \"white\", \"zerolinewidth\": 2}, \"yaxis\": {\"automargin\": true, \"gridcolor\": \"white\", \"linecolor\": \"white\", \"ticks\": \"\", \"title\": {\"standoff\": 15}, \"zerolinecolor\": \"white\", \"zerolinewidth\": 2}}}, \"title\": {\"font\": {\"color\": \"#000000\", \"size\": 50}, \"text\": \"Idiomas de trabalhos de conclus\\u00e3o (2013, 2014, 2014, 2015)\", \"x\": 0.5, \"xanchor\": \"center\"}, \"width\": 5000, \"xaxis\": {\"title\": {\"text\": \"Institui\\u00e7\\u00e3o\"}}},                        {\"responsive\": true}                    ).then(function(){\n",
       "                            \n",
       "var gd = document.getElementById('314a5cb4-0f81-4eb6-91c9-40d30d6b7665');\n",
       "var x = new MutationObserver(function (mutations, observer) {{\n",
       "        var display = window.getComputedStyle(gd).display;\n",
       "        if (!display || display === 'none') {{\n",
       "            console.log([gd, 'removed!']);\n",
       "            Plotly.purge(gd);\n",
       "            observer.disconnect();\n",
       "        }}\n",
       "}});\n",
       "\n",
       "// Listen for the removal of the full notebook cells\n",
       "var notebookContainer = gd.closest('#notebook-container');\n",
       "if (notebookContainer) {{\n",
       "    x.observe(notebookContainer, {childList: true});\n",
       "}}\n",
       "\n",
       "// Listen for the clearing of the current output cell\n",
       "var outputEl = gd.closest('.output');\n",
       "if (outputEl) {{\n",
       "    x.observe(outputEl, {childList: true});\n",
       "}}\n",
       "\n",
       "                        })                };                });            </script>        </div>"
      ]
     },
     "metadata": {},
     "output_type": "display_data"
    }
   ],
   "source": [
    "\n",
    "make_chart(list_trabalhos)"
   ]
  }
 ],
 "metadata": {
  "kernelspec": {
   "display_name": "Python 3",
   "language": "python",
   "name": "python3"
  },
  "language_info": {
   "codemirror_mode": {
    "name": "ipython",
    "version": 3
   },
   "file_extension": ".py",
   "mimetype": "text/x-python",
   "name": "python",
   "nbconvert_exporter": "python",
   "pygments_lexer": "ipython3",
   "version": "3.8.5"
  }
 },
 "nbformat": 4,
 "nbformat_minor": 4
}
