{
 "cells": [
  {
   "cell_type": "code",
   "execution_count": 1,
   "metadata": {},
   "outputs": [],
   "source": [
    "import plotly.offline as py\n",
    "import plotly.graph_objs as go"
   ]
  },
  {
   "cell_type": "code",
   "execution_count": 14,
   "metadata": {},
   "outputs": [],
   "source": [
    "import MyUtil, MyClasses\n",
    "from collections import defaultdict\n",
    "\n",
    "PATH = '/home/joaomello/Documentos/USP/IC - Analise de Dados/Arquitetura/dados_arquitetura_2017/'\n",
    "TIPO_QUALIS = ('A1', 'A2', 'A3', 'A4', 'B1', 'B2', 'B3', 'B4', 'B5', 'C', 'NA', 'NP')\n",
    "PESO_QUALIS = {'A1': 1, 'A2': 0.875, 'A3': 0.75, 'A4': 0.625, 'B1': 0.5, 'B2': 0.2, 'B3': 0.1, 'B4': 0.05, 'B5': 0,\n",
    "               'C': 0, 'NA': 0, 'NP': 0}\n",
    "COLOR_QUALIS = {'A1': '#000044', 'A2': '#000088', 'A3': '#0000CC', 'A4': '#0000FF',\n",
    "                'B1': '#003300', 'B2': '#006600', 'B3': '#009900', 'B4': '#00CC00', 'B5': '#00FF00',\n",
    "                'C': '#880000', 'NA': '#CC0000', 'NP': '#FF0000'}\n",
    "\n",
    "\n",
    "def new_quali_dict():\n",
    "    # cria um dicionario padrao para armazenar os qualis\n",
    "    quali_dict = {quali: 0 for quali in TIPO_QUALIS}\n",
    "    quali_dict['total'] = 0\n",
    "    return quali_dict\n",
    "\n",
    "\n",
    "def read_periodicos():\n",
    "    # leitura dos periodicos\n",
    "    periodicos = list()\n",
    "    with open(PATH + 'periodicos.tsv') as file:\n",
    "        for row in file:\n",
    "            cells = str(row).split('\\t')\n",
    "            new_periodico = MyClasses.Periodico(*cells[:32])\n",
    "            new_periodico.add_authors(*cells[32:-1])\n",
    "            periodicos.append(new_periodico)\n",
    "    del periodicos[0]\n",
    "    return periodicos\n",
    "\n",
    "\n",
    "def read_conferencias():\n",
    "    conferencias = list()\n",
    "    with open(PATH + 'conferencias.tsv') as file:\n",
    "        for row in file:\n",
    "            cells = str(row).split('\\t')\n",
    "            new_conferencia = MyClasses.Conferencias(*cells[:32])\n",
    "            new_conferencia.add_authors(*cells[32:-1])\n",
    "            conferencias.append(new_conferencia)\n",
    "    del conferencias[0]\n",
    "    return conferencias\n",
    "\n",
    "\n",
    "def read_qualis():\n",
    "    with open('qualis-2017-2018.tsv') as file:\n",
    "        qualis = [MyClasses.Quali(*str(row).split('\\t')) for row in file]\n",
    "    del qualis[0]\n",
    "    return qualis\n",
    "\n",
    "\n",
    "def read_docentes():\n",
    "    registers = MyUtil.read_file('docentes.xlsx', path=PATH)\n",
    "    docentes = defaultdict(lambda: list())\n",
    "\n",
    "    for row in registers:\n",
    "        docentes[row[3]].append({\n",
    "            'name': row[8],\n",
    "            'category': row[12]\n",
    "        })\n",
    "\n",
    "    return docentes\n",
    "\n",
    "\n",
    "def get_docentes_programa(p_code):\n",
    "    \"\"\"\n",
    "    Função que avalia e calcula a média de docentes por categoria\n",
    "    :param p_code: dicionário com chaves equivalentes ao nomes e valores equivalentes a categoria\n",
    "    :return: a média por codigo\n",
    "    \"\"\"\n",
    "    names_categories = dict()\n",
    "\n",
    "    for docente in p_code:\n",
    "        if docente['name'] not in names_categories.keys():  # primeira vez que o docente é registrado\n",
    "            names_categories[docente['name']] = docente['category']\n",
    "\n",
    "        elif names_categories[docente['name']] not in ('BOTH', docente['category']):\n",
    "            # registrado como outra categoria -> pertence a ambas\n",
    "            names_categories[docente['name']] = 'BOTH'\n",
    "\n",
    "    docentes_programa = {'PERMANENTE': 0, 'COLABORADOR': 0, 'total': 0}\n",
    "    for category in names_categories.values():\n",
    "        if category in ('PERMANENTE', 'COLABORADOR'):\n",
    "            docentes_programa[category] += 1\n",
    "        else:  # ambas as categorias\n",
    "            docentes_programa['PERMANENTE'] += 0.5\n",
    "            docentes_programa['COLABORADOR'] += 0.5\n",
    "        docentes_programa['total'] += 1\n",
    "\n",
    "    return docentes_programa\n",
    "\n",
    "\n",
    "def get_docentes_programas(docentes):\n",
    "    \"\"\"\n",
    "    Função que calcula todas as médias\n",
    "    :param docentes: os dados recolhidos\n",
    "    :return: a média individual de cada programa\n",
    "    \"\"\"\n",
    "    codes = {code for code in docentes.keys()}\n",
    "    doc_prog = defaultdict(lambda: {\n",
    "        'PERMANENTE': 0,\n",
    "        'COLABORADOR': 0,\n",
    "        'total': 0\n",
    "    })\n",
    "\n",
    "    for code in codes:\n",
    "        d_programa = get_docentes_programa(docentes[code])\n",
    "        doc_prog[code]['PERMANENTE'] += d_programa['PERMANENTE']\n",
    "        doc_prog[code]['COLABORADOR'] += d_programa['COLABORADOR']\n",
    "        doc_prog[code]['total'] += d_programa['total']\n",
    "\n",
    "    return doc_prog\n",
    "\n",
    "\n",
    "def get_publicacoes_qualis(publicacoes, qualis):\n",
    "    publicacoes_qualis = defaultdict(lambda: new_quali_dict())\n",
    "    issn_quali = {quali.issn: quali.estrato for quali in qualis}\n",
    "\n",
    "    for publicacao in publicacoes:\n",
    "        cod_programa = publicacao.codigo_ppg\n",
    "        issn = publicacao.get_issn()\n",
    "        quali_programa = issn_quali[issn] if issn in issn_quali.keys() else 'NA'  # caso nao haja issn\n",
    "        publicacoes_qualis[cod_programa][quali_programa] += 1\n",
    "        publicacoes_qualis[cod_programa]['total'] += 1\n",
    "\n",
    "    return publicacoes_qualis\n",
    "\n",
    "\n",
    "def get_publicacoes_docente(p_qualis, docentes_programa):\n",
    "    ponderado = defaultdict(lambda: dict())\n",
    "    for code in p_qualis.keys():\n",
    "        for quali in TIPO_QUALIS:\n",
    "            ponderado[code][quali] = p_qualis[code][quali] * PESO_QUALIS[quali]\n",
    "            ponderado[code][quali] /= sum([valor for valor in docentes_programa[code].values()])\n",
    "        ponderado[code]['total'] = sum([valor for valor in ponderado[code].values()])\n",
    "\n",
    "    return ponderado\n",
    "\n",
    "\n",
    "def get_publicacoes_permanente(p_qualis, docentes_programa):\n",
    "    ponderado = defaultdict(lambda: dict())\n",
    "    for code in p_qualis.keys():\n",
    "        for quali in TIPO_QUALIS:\n",
    "            ponderado[code][quali] = p_qualis[code][quali] * PESO_QUALIS[quali]\n",
    "            ponderado[code][quali] /= docentes_programa[code]['PERMANENTE']\n",
    "        ponderado[code]['total'] = sum([valor for valor in ponderado[code].values()])\n",
    "\n",
    "    return ponderado\n",
    "\n",
    "\n",
    "def get_code(code):\n",
    "    new_code = code\n",
    "    if code in programas_nivel.keys():\n",
    "        new_code = programas_nivel[code]\n",
    "    elif code in programas.keys():\n",
    "        new_code = programas[code]\n",
    "    return new_code\n",
    "\n",
    "\n",
    "def sort_dict(dict_to_sort):\n",
    "    return {get_code(value[0]): value[1] for value in sorted(dict_to_sort.items(), key=lambda item: item[1]['total'])}\n",
    "\n",
    "\n",
    "def make_chart(chart_data, chart_title):\n",
    "    data = list()\n",
    "    for i in range(0, len(TIPO_QUALIS)):\n",
    "        data.append(go.Bar(x=list(chart_data.keys()),\n",
    "                           y=[p_quali[TIPO_QUALIS[i]] for p_quali in chart_data.values()],\n",
    "                           marker_color=COLOR_QUALIS[TIPO_QUALIS[i]],\n",
    "                           name=f'{TIPO_QUALIS[i]} ({PESO_QUALIS[TIPO_QUALIS[i]]})'))\n",
    "\n",
    "    title = {\n",
    "        'text': chart_title,\n",
    "        'x': 0.5,\n",
    "        'xanchor': 'center',\n",
    "        'font': {\n",
    "            'color': '#000000',\n",
    "            'size': 20\n",
    "        }\n",
    "    }\n",
    "\n",
    "    layout = go.Layout(title=title,\n",
    "                       xaxis={'title': 'Instituição'},\n",
    "                       barmode='stack')\n",
    "\n",
    "    fig = go.Figure(data=data, layout=layout)\n",
    "    py.iplot(fig)\n",
    "\n",
    "\n",
    "# dados lidos\n",
    "programas = MyUtil.read_programas(PATH)\n",
    "programas_nivel = MyUtil.read_programas_nivel()\n",
    "list_periodicos = read_periodicos()\n",
    "list_conferencias = read_conferencias()\n",
    "list_qualis = read_qualis()\n",
    "list_docentes = read_docentes()\n",
    "\n",
    "# dados processados\n",
    "docente_programa = get_docentes_programas(list_docentes)\n",
    "\n",
    "periodicos_qualis = get_publicacoes_qualis(list_periodicos, list_qualis)\n",
    "periodicos_docente = sort_dict(get_publicacoes_docente(periodicos_qualis, docente_programa))\n",
    "periodicos_permanente = sort_dict(get_publicacoes_permanente(periodicos_qualis, docente_programa))\n",
    "periodicos_qualis = sort_dict(periodicos_qualis)  # ordena depois, pois a lista é utilizada em outro método\n",
    "\n",
    "conferencias_qualis = get_publicacoes_qualis(list_conferencias, list_qualis)\n",
    "conferencias_docente = sort_dict(get_publicacoes_docente(conferencias_qualis, docente_programa))\n",
    "conferencias_permanente = sort_dict(get_publicacoes_permanente(conferencias_qualis, docente_programa))\n",
    "conferencias_qualis = sort_dict(conferencias_qualis)  # ordena depois, pois a lista é utilizada em outro método\n",
    "\n",
    "make_chart(periodicos_qualis, 'Periódicos por Qualis')\n",
    "make_chart(periodicos_docente, 'Periódicos por Docentes (Permanentes + Colaboradores)')\n",
    "make_chart(periodicos_permanente, 'Periódicos por Docentes Permanentes')\n",
    "\n",
    "make_chart(conferencias_qualis, 'Conferências por Qualis')\n",
    "make_chart(conferencias_docente, 'Conferências por Docentes (Permanentes + Colaboradores)')\n",
    "make_chart(conferencias_permanente, 'Conferências por Docentes Permanentes')\n"
   ]
  },
  {
   "cell_type": "code",
   "execution_count": 15,
   "metadata": {},
   "outputs": [
    {
     "data": {
      "application/vnd.plotly.v1+json": {
       "config": {
        "linkText": "Export to plot.ly",
        "plotlyServerURL": "https://plot.ly",
        "showLink": false
       },
       "data": [
        {
         "marker": {
          "color": "#000044"
         },
         "name": "A1 (1)",
         "type": "bar",
         "x": [
          "UFPE-3",
          "UFV-4",
          "UFPE-4",
          "UNIFOR-3",
          "UFU-3",
          "UNB-3",
          "UFPA-4",
          "UERJ-4",
          "UNIFATEA-3",
          "UFAL-3",
          "UFG-3",
          "UFJF-4",
          "UFRGS-4",
          "UNESP-BAURU-4",
          " FIAMFAAM-3",
          "UFF-4",
          "UNB-4",
          "UEL-4",
          "UFCG-3",
          "PUC-RIO-3",
          "UFPB-JP-4",
          "PUCCAMP-5",
          "UFES-4",
          "UFRJ-4",
          "IMED-3",
          "UFC-3",
          "UNISINOS-5",
          "UFRN-4",
          "UNIVILLE-4",
          "UFRJ-6",
          "UNICAMP-5",
          "UEMG-5",
          "UFMG-6",
          "UNISINOS-4",
          "UFMA-3",
          "USJT-4",
          "UDESC-4",
          "PUC-RIO-5",
          "UNESP-BAURU-6",
          "UFRGS-5",
          "UAM-5",
          "UFPR-4",
          "UFPEL-4",
          "UFRJ-5",
          "USP/SC-4",
          "UFBA-4",
          "UNIRITTER-4",
          "UFSC-5",
          "UPM-6",
          "USP-4"
         ],
         "y": [
          0,
          0,
          0,
          2,
          0,
          0,
          0,
          0,
          0,
          0,
          0,
          1,
          0,
          0,
          0,
          0,
          0,
          0,
          0,
          1,
          0,
          0,
          0,
          0,
          2,
          0,
          0,
          0,
          0,
          0,
          4,
          2,
          0,
          4,
          1,
          0,
          2,
          1,
          2,
          3,
          0,
          1,
          0,
          1,
          0,
          0,
          1,
          0,
          0,
          3
         ]
        },
        {
         "marker": {
          "color": "#000088"
         },
         "name": "A2 (0.875)",
         "type": "bar",
         "x": [
          "UFPE-3",
          "UFV-4",
          "UFPE-4",
          "UNIFOR-3",
          "UFU-3",
          "UNB-3",
          "UFPA-4",
          "UERJ-4",
          "UNIFATEA-3",
          "UFAL-3",
          "UFG-3",
          "UFJF-4",
          "UFRGS-4",
          "UNESP-BAURU-4",
          " FIAMFAAM-3",
          "UFF-4",
          "UNB-4",
          "UEL-4",
          "UFCG-3",
          "PUC-RIO-3",
          "UFPB-JP-4",
          "PUCCAMP-5",
          "UFES-4",
          "UFRJ-4",
          "IMED-3",
          "UFC-3",
          "UNISINOS-5",
          "UFRN-4",
          "UNIVILLE-4",
          "UFRJ-6",
          "UNICAMP-5",
          "UEMG-5",
          "UFMG-6",
          "UNISINOS-4",
          "UFMA-3",
          "USJT-4",
          "UDESC-4",
          "PUC-RIO-5",
          "UNESP-BAURU-6",
          "UFRGS-5",
          "UAM-5",
          "UFPR-4",
          "UFPEL-4",
          "UFRJ-5",
          "USP/SC-4",
          "UFBA-4",
          "UNIRITTER-4",
          "UFSC-5",
          "UPM-6",
          "USP-4"
         ],
         "y": [
          0,
          0,
          0,
          0,
          0,
          0,
          0,
          0,
          0,
          1,
          0,
          0,
          0,
          0,
          0,
          1,
          0,
          0,
          0,
          5,
          0,
          2,
          0,
          0,
          0,
          1,
          0,
          0,
          0,
          0,
          0,
          1,
          0,
          0,
          0,
          1,
          1,
          1,
          1,
          1,
          0,
          0,
          0,
          1,
          1,
          0,
          1,
          0,
          0,
          3
         ]
        },
        {
         "marker": {
          "color": "#0000CC"
         },
         "name": "A3 (0.75)",
         "type": "bar",
         "x": [
          "UFPE-3",
          "UFV-4",
          "UFPE-4",
          "UNIFOR-3",
          "UFU-3",
          "UNB-3",
          "UFPA-4",
          "UERJ-4",
          "UNIFATEA-3",
          "UFAL-3",
          "UFG-3",
          "UFJF-4",
          "UFRGS-4",
          "UNESP-BAURU-4",
          " FIAMFAAM-3",
          "UFF-4",
          "UNB-4",
          "UEL-4",
          "UFCG-3",
          "PUC-RIO-3",
          "UFPB-JP-4",
          "PUCCAMP-5",
          "UFES-4",
          "UFRJ-4",
          "IMED-3",
          "UFC-3",
          "UNISINOS-5",
          "UFRN-4",
          "UNIVILLE-4",
          "UFRJ-6",
          "UNICAMP-5",
          "UEMG-5",
          "UFMG-6",
          "UNISINOS-4",
          "UFMA-3",
          "USJT-4",
          "UDESC-4",
          "PUC-RIO-5",
          "UNESP-BAURU-6",
          "UFRGS-5",
          "UAM-5",
          "UFPR-4",
          "UFPEL-4",
          "UFRJ-5",
          "USP/SC-4",
          "UFBA-4",
          "UNIRITTER-4",
          "UFSC-5",
          "UPM-6",
          "USP-4"
         ],
         "y": [
          0,
          0,
          0,
          0,
          0,
          0,
          0,
          0,
          0,
          0,
          1,
          0,
          0,
          0,
          1,
          1,
          0,
          0,
          1,
          1,
          0,
          1,
          0,
          2,
          1,
          0,
          0,
          0,
          0,
          0,
          1,
          0,
          0,
          1,
          1,
          0,
          0,
          1,
          1,
          1,
          4,
          0,
          0,
          3,
          0,
          0,
          1,
          3,
          1,
          3
         ]
        },
        {
         "marker": {
          "color": "#0000FF"
         },
         "name": "A4 (0.625)",
         "type": "bar",
         "x": [
          "UFPE-3",
          "UFV-4",
          "UFPE-4",
          "UNIFOR-3",
          "UFU-3",
          "UNB-3",
          "UFPA-4",
          "UERJ-4",
          "UNIFATEA-3",
          "UFAL-3",
          "UFG-3",
          "UFJF-4",
          "UFRGS-4",
          "UNESP-BAURU-4",
          " FIAMFAAM-3",
          "UFF-4",
          "UNB-4",
          "UEL-4",
          "UFCG-3",
          "PUC-RIO-3",
          "UFPB-JP-4",
          "PUCCAMP-5",
          "UFES-4",
          "UFRJ-4",
          "IMED-3",
          "UFC-3",
          "UNISINOS-5",
          "UFRN-4",
          "UNIVILLE-4",
          "UFRJ-6",
          "UNICAMP-5",
          "UEMG-5",
          "UFMG-6",
          "UNISINOS-4",
          "UFMA-3",
          "USJT-4",
          "UDESC-4",
          "PUC-RIO-5",
          "UNESP-BAURU-6",
          "UFRGS-5",
          "UAM-5",
          "UFPR-4",
          "UFPEL-4",
          "UFRJ-5",
          "USP/SC-4",
          "UFBA-4",
          "UNIRITTER-4",
          "UFSC-5",
          "UPM-6",
          "USP-4"
         ],
         "y": [
          0,
          0,
          0,
          2,
          0,
          0,
          1,
          1,
          0,
          0,
          1,
          1,
          0,
          0,
          0,
          0,
          1,
          1,
          3,
          0,
          1,
          0,
          5,
          1,
          3,
          0,
          1,
          0,
          0,
          2,
          0,
          3,
          5,
          1,
          0,
          0,
          0,
          1,
          2,
          0,
          4,
          2,
          2,
          2,
          3,
          2,
          0,
          0,
          0,
          4
         ]
        },
        {
         "marker": {
          "color": "#003300"
         },
         "name": "B1 (0.5)",
         "type": "bar",
         "x": [
          "UFPE-3",
          "UFV-4",
          "UFPE-4",
          "UNIFOR-3",
          "UFU-3",
          "UNB-3",
          "UFPA-4",
          "UERJ-4",
          "UNIFATEA-3",
          "UFAL-3",
          "UFG-3",
          "UFJF-4",
          "UFRGS-4",
          "UNESP-BAURU-4",
          " FIAMFAAM-3",
          "UFF-4",
          "UNB-4",
          "UEL-4",
          "UFCG-3",
          "PUC-RIO-3",
          "UFPB-JP-4",
          "PUCCAMP-5",
          "UFES-4",
          "UFRJ-4",
          "IMED-3",
          "UFC-3",
          "UNISINOS-5",
          "UFRN-4",
          "UNIVILLE-4",
          "UFRJ-6",
          "UNICAMP-5",
          "UEMG-5",
          "UFMG-6",
          "UNISINOS-4",
          "UFMA-3",
          "USJT-4",
          "UDESC-4",
          "PUC-RIO-5",
          "UNESP-BAURU-6",
          "UFRGS-5",
          "UAM-5",
          "UFPR-4",
          "UFPEL-4",
          "UFRJ-5",
          "USP/SC-4",
          "UFBA-4",
          "UNIRITTER-4",
          "UFSC-5",
          "UPM-6",
          "USP-4"
         ],
         "y": [
          0,
          0,
          0,
          0,
          2,
          0,
          0,
          0,
          1,
          2,
          0,
          0,
          0,
          0,
          0,
          0,
          0,
          1,
          1,
          0,
          1,
          0,
          0,
          0,
          2,
          0,
          4,
          0,
          0,
          2,
          0,
          1,
          0,
          3,
          1,
          1,
          0,
          3,
          0,
          1,
          2,
          0,
          2,
          1,
          0,
          2,
          3,
          2,
          1,
          5
         ]
        },
        {
         "marker": {
          "color": "#006600"
         },
         "name": "B2 (0.2)",
         "type": "bar",
         "x": [
          "UFPE-3",
          "UFV-4",
          "UFPE-4",
          "UNIFOR-3",
          "UFU-3",
          "UNB-3",
          "UFPA-4",
          "UERJ-4",
          "UNIFATEA-3",
          "UFAL-3",
          "UFG-3",
          "UFJF-4",
          "UFRGS-4",
          "UNESP-BAURU-4",
          " FIAMFAAM-3",
          "UFF-4",
          "UNB-4",
          "UEL-4",
          "UFCG-3",
          "PUC-RIO-3",
          "UFPB-JP-4",
          "PUCCAMP-5",
          "UFES-4",
          "UFRJ-4",
          "IMED-3",
          "UFC-3",
          "UNISINOS-5",
          "UFRN-4",
          "UNIVILLE-4",
          "UFRJ-6",
          "UNICAMP-5",
          "UEMG-5",
          "UFMG-6",
          "UNISINOS-4",
          "UFMA-3",
          "USJT-4",
          "UDESC-4",
          "PUC-RIO-5",
          "UNESP-BAURU-6",
          "UFRGS-5",
          "UAM-5",
          "UFPR-4",
          "UFPEL-4",
          "UFRJ-5",
          "USP/SC-4",
          "UFBA-4",
          "UNIRITTER-4",
          "UFSC-5",
          "UPM-6",
          "USP-4"
         ],
         "y": [
          0,
          0,
          0,
          0,
          0,
          1,
          2,
          0,
          0,
          0,
          0,
          0,
          1,
          7,
          0,
          1,
          0,
          1,
          0,
          1,
          1,
          2,
          3,
          2,
          0,
          1,
          3,
          2,
          3,
          1,
          1,
          1,
          1,
          8,
          3,
          5,
          4,
          2,
          0,
          3,
          0,
          0,
          2,
          4,
          3,
          3,
          6,
          6,
          9,
          1
         ]
        },
        {
         "marker": {
          "color": "#009900"
         },
         "name": "B3 (0.1)",
         "type": "bar",
         "x": [
          "UFPE-3",
          "UFV-4",
          "UFPE-4",
          "UNIFOR-3",
          "UFU-3",
          "UNB-3",
          "UFPA-4",
          "UERJ-4",
          "UNIFATEA-3",
          "UFAL-3",
          "UFG-3",
          "UFJF-4",
          "UFRGS-4",
          "UNESP-BAURU-4",
          " FIAMFAAM-3",
          "UFF-4",
          "UNB-4",
          "UEL-4",
          "UFCG-3",
          "PUC-RIO-3",
          "UFPB-JP-4",
          "PUCCAMP-5",
          "UFES-4",
          "UFRJ-4",
          "IMED-3",
          "UFC-3",
          "UNISINOS-5",
          "UFRN-4",
          "UNIVILLE-4",
          "UFRJ-6",
          "UNICAMP-5",
          "UEMG-5",
          "UFMG-6",
          "UNISINOS-4",
          "UFMA-3",
          "USJT-4",
          "UDESC-4",
          "PUC-RIO-5",
          "UNESP-BAURU-6",
          "UFRGS-5",
          "UAM-5",
          "UFPR-4",
          "UFPEL-4",
          "UFRJ-5",
          "USP/SC-4",
          "UFBA-4",
          "UNIRITTER-4",
          "UFSC-5",
          "UPM-6",
          "USP-4"
         ],
         "y": [
          0,
          1,
          0,
          1,
          1,
          0,
          1,
          1,
          0,
          0,
          0,
          2,
          3,
          1,
          1,
          4,
          2,
          1,
          1,
          1,
          6,
          0,
          2,
          0,
          4,
          1,
          0,
          2,
          5,
          2,
          1,
          1,
          0,
          4,
          0,
          2,
          4,
          0,
          0,
          0,
          2,
          3,
          4,
          2,
          6,
          4,
          5,
          7,
          5,
          12
         ]
        },
        {
         "marker": {
          "color": "#00CC00"
         },
         "name": "B4 (0.05)",
         "type": "bar",
         "x": [
          "UFPE-3",
          "UFV-4",
          "UFPE-4",
          "UNIFOR-3",
          "UFU-3",
          "UNB-3",
          "UFPA-4",
          "UERJ-4",
          "UNIFATEA-3",
          "UFAL-3",
          "UFG-3",
          "UFJF-4",
          "UFRGS-4",
          "UNESP-BAURU-4",
          " FIAMFAAM-3",
          "UFF-4",
          "UNB-4",
          "UEL-4",
          "UFCG-3",
          "PUC-RIO-3",
          "UFPB-JP-4",
          "PUCCAMP-5",
          "UFES-4",
          "UFRJ-4",
          "IMED-3",
          "UFC-3",
          "UNISINOS-5",
          "UFRN-4",
          "UNIVILLE-4",
          "UFRJ-6",
          "UNICAMP-5",
          "UEMG-5",
          "UFMG-6",
          "UNISINOS-4",
          "UFMA-3",
          "USJT-4",
          "UDESC-4",
          "PUC-RIO-5",
          "UNESP-BAURU-6",
          "UFRGS-5",
          "UAM-5",
          "UFPR-4",
          "UFPEL-4",
          "UFRJ-5",
          "USP/SC-4",
          "UFBA-4",
          "UNIRITTER-4",
          "UFSC-5",
          "UPM-6",
          "USP-4"
         ],
         "y": [
          0,
          0,
          1,
          0,
          0,
          2,
          0,
          0,
          0,
          1,
          0,
          0,
          0,
          0,
          0,
          1,
          1,
          0,
          0,
          0,
          0,
          0,
          0,
          0,
          0,
          0,
          1,
          0,
          0,
          1,
          0,
          3,
          2,
          0,
          1,
          0,
          1,
          0,
          1,
          1,
          1,
          2,
          1,
          1,
          0,
          0,
          1,
          4,
          1,
          2
         ]
        },
        {
         "marker": {
          "color": "#00FF00"
         },
         "name": "B5 (0)",
         "type": "bar",
         "x": [
          "UFPE-3",
          "UFV-4",
          "UFPE-4",
          "UNIFOR-3",
          "UFU-3",
          "UNB-3",
          "UFPA-4",
          "UERJ-4",
          "UNIFATEA-3",
          "UFAL-3",
          "UFG-3",
          "UFJF-4",
          "UFRGS-4",
          "UNESP-BAURU-4",
          " FIAMFAAM-3",
          "UFF-4",
          "UNB-4",
          "UEL-4",
          "UFCG-3",
          "PUC-RIO-3",
          "UFPB-JP-4",
          "PUCCAMP-5",
          "UFES-4",
          "UFRJ-4",
          "IMED-3",
          "UFC-3",
          "UNISINOS-5",
          "UFRN-4",
          "UNIVILLE-4",
          "UFRJ-6",
          "UNICAMP-5",
          "UEMG-5",
          "UFMG-6",
          "UNISINOS-4",
          "UFMA-3",
          "USJT-4",
          "UDESC-4",
          "PUC-RIO-5",
          "UNESP-BAURU-6",
          "UFRGS-5",
          "UAM-5",
          "UFPR-4",
          "UFPEL-4",
          "UFRJ-5",
          "USP/SC-4",
          "UFBA-4",
          "UNIRITTER-4",
          "UFSC-5",
          "UPM-6",
          "USP-4"
         ],
         "y": [
          0,
          0,
          0,
          0,
          0,
          0,
          0,
          0,
          0,
          0,
          0,
          0,
          0,
          0,
          0,
          0,
          0,
          0,
          0,
          0,
          0,
          0,
          0,
          0,
          0,
          0,
          0,
          0,
          0,
          0,
          0,
          0,
          0,
          0,
          0,
          0,
          0,
          0,
          0,
          0,
          0,
          0,
          0,
          0,
          0,
          0,
          0,
          0,
          0,
          0
         ]
        },
        {
         "marker": {
          "color": "#880000"
         },
         "name": "C (0)",
         "type": "bar",
         "x": [
          "UFPE-3",
          "UFV-4",
          "UFPE-4",
          "UNIFOR-3",
          "UFU-3",
          "UNB-3",
          "UFPA-4",
          "UERJ-4",
          "UNIFATEA-3",
          "UFAL-3",
          "UFG-3",
          "UFJF-4",
          "UFRGS-4",
          "UNESP-BAURU-4",
          " FIAMFAAM-3",
          "UFF-4",
          "UNB-4",
          "UEL-4",
          "UFCG-3",
          "PUC-RIO-3",
          "UFPB-JP-4",
          "PUCCAMP-5",
          "UFES-4",
          "UFRJ-4",
          "IMED-3",
          "UFC-3",
          "UNISINOS-5",
          "UFRN-4",
          "UNIVILLE-4",
          "UFRJ-6",
          "UNICAMP-5",
          "UEMG-5",
          "UFMG-6",
          "UNISINOS-4",
          "UFMA-3",
          "USJT-4",
          "UDESC-4",
          "PUC-RIO-5",
          "UNESP-BAURU-6",
          "UFRGS-5",
          "UAM-5",
          "UFPR-4",
          "UFPEL-4",
          "UFRJ-5",
          "USP/SC-4",
          "UFBA-4",
          "UNIRITTER-4",
          "UFSC-5",
          "UPM-6",
          "USP-4"
         ],
         "y": [
          3,
          4,
          3,
          2,
          4,
          5,
          7,
          9,
          12,
          8,
          10,
          9,
          11,
          8,
          15,
          10,
          12,
          13,
          8,
          11,
          9,
          14,
          8,
          15,
          8,
          19,
          12,
          15,
          14,
          16,
          17,
          12,
          14,
          11,
          22,
          21,
          18,
          21,
          24,
          19,
          23,
          26,
          31,
          23,
          31,
          34,
          35,
          41,
          68,
          63
         ]
        },
        {
         "marker": {
          "color": "#CC0000"
         },
         "name": "NA (0)",
         "type": "bar",
         "x": [
          "UFPE-3",
          "UFV-4",
          "UFPE-4",
          "UNIFOR-3",
          "UFU-3",
          "UNB-3",
          "UFPA-4",
          "UERJ-4",
          "UNIFATEA-3",
          "UFAL-3",
          "UFG-3",
          "UFJF-4",
          "UFRGS-4",
          "UNESP-BAURU-4",
          " FIAMFAAM-3",
          "UFF-4",
          "UNB-4",
          "UEL-4",
          "UFCG-3",
          "PUC-RIO-3",
          "UFPB-JP-4",
          "PUCCAMP-5",
          "UFES-4",
          "UFRJ-4",
          "IMED-3",
          "UFC-3",
          "UNISINOS-5",
          "UFRN-4",
          "UNIVILLE-4",
          "UFRJ-6",
          "UNICAMP-5",
          "UEMG-5",
          "UFMG-6",
          "UNISINOS-4",
          "UFMA-3",
          "USJT-4",
          "UDESC-4",
          "PUC-RIO-5",
          "UNESP-BAURU-6",
          "UFRGS-5",
          "UAM-5",
          "UFPR-4",
          "UFPEL-4",
          "UFRJ-5",
          "USP/SC-4",
          "UFBA-4",
          "UNIRITTER-4",
          "UFSC-5",
          "UPM-6",
          "USP-4"
         ],
         "y": [
          0,
          0,
          2,
          0,
          3,
          4,
          2,
          2,
          0,
          1,
          3,
          3,
          2,
          1,
          0,
          0,
          2,
          1,
          4,
          0,
          2,
          1,
          3,
          1,
          3,
          1,
          2,
          5,
          3,
          3,
          3,
          3,
          6,
          0,
          3,
          3,
          4,
          5,
          4,
          9,
          6,
          8,
          1,
          6,
          3,
          7,
          4,
          12,
          3,
          15
         ]
        },
        {
         "marker": {
          "color": "#FF0000"
         },
         "name": "NP (0)",
         "type": "bar",
         "x": [
          "UFPE-3",
          "UFV-4",
          "UFPE-4",
          "UNIFOR-3",
          "UFU-3",
          "UNB-3",
          "UFPA-4",
          "UERJ-4",
          "UNIFATEA-3",
          "UFAL-3",
          "UFG-3",
          "UFJF-4",
          "UFRGS-4",
          "UNESP-BAURU-4",
          " FIAMFAAM-3",
          "UFF-4",
          "UNB-4",
          "UEL-4",
          "UFCG-3",
          "PUC-RIO-3",
          "UFPB-JP-4",
          "PUCCAMP-5",
          "UFES-4",
          "UFRJ-4",
          "IMED-3",
          "UFC-3",
          "UNISINOS-5",
          "UFRN-4",
          "UNIVILLE-4",
          "UFRJ-6",
          "UNICAMP-5",
          "UEMG-5",
          "UFMG-6",
          "UNISINOS-4",
          "UFMA-3",
          "USJT-4",
          "UDESC-4",
          "PUC-RIO-5",
          "UNESP-BAURU-6",
          "UFRGS-5",
          "UAM-5",
          "UFPR-4",
          "UFPEL-4",
          "UFRJ-5",
          "USP/SC-4",
          "UFBA-4",
          "UNIRITTER-4",
          "UFSC-5",
          "UPM-6",
          "USP-4"
         ],
         "y": [
          0,
          0,
          0,
          0,
          0,
          0,
          0,
          0,
          0,
          0,
          0,
          0,
          0,
          0,
          0,
          0,
          0,
          0,
          0,
          0,
          0,
          0,
          0,
          0,
          0,
          0,
          0,
          0,
          0,
          0,
          0,
          0,
          0,
          0,
          0,
          0,
          0,
          0,
          0,
          0,
          0,
          0,
          0,
          0,
          0,
          0,
          0,
          0,
          0,
          0
         ]
        }
       ],
       "layout": {
        "barmode": "stack",
        "template": {
         "data": {
          "bar": [
           {
            "error_x": {
             "color": "#2a3f5f"
            },
            "error_y": {
             "color": "#2a3f5f"
            },
            "marker": {
             "line": {
              "color": "#E5ECF6",
              "width": 0.5
             }
            },
            "type": "bar"
           }
          ],
          "barpolar": [
           {
            "marker": {
             "line": {
              "color": "#E5ECF6",
              "width": 0.5
             }
            },
            "type": "barpolar"
           }
          ],
          "carpet": [
           {
            "aaxis": {
             "endlinecolor": "#2a3f5f",
             "gridcolor": "white",
             "linecolor": "white",
             "minorgridcolor": "white",
             "startlinecolor": "#2a3f5f"
            },
            "baxis": {
             "endlinecolor": "#2a3f5f",
             "gridcolor": "white",
             "linecolor": "white",
             "minorgridcolor": "white",
             "startlinecolor": "#2a3f5f"
            },
            "type": "carpet"
           }
          ],
          "choropleth": [
           {
            "colorbar": {
             "outlinewidth": 0,
             "ticks": ""
            },
            "type": "choropleth"
           }
          ],
          "contour": [
           {
            "colorbar": {
             "outlinewidth": 0,
             "ticks": ""
            },
            "colorscale": [
             [
              0,
              "#0d0887"
             ],
             [
              0.1111111111111111,
              "#46039f"
             ],
             [
              0.2222222222222222,
              "#7201a8"
             ],
             [
              0.3333333333333333,
              "#9c179e"
             ],
             [
              0.4444444444444444,
              "#bd3786"
             ],
             [
              0.5555555555555556,
              "#d8576b"
             ],
             [
              0.6666666666666666,
              "#ed7953"
             ],
             [
              0.7777777777777778,
              "#fb9f3a"
             ],
             [
              0.8888888888888888,
              "#fdca26"
             ],
             [
              1,
              "#f0f921"
             ]
            ],
            "type": "contour"
           }
          ],
          "contourcarpet": [
           {
            "colorbar": {
             "outlinewidth": 0,
             "ticks": ""
            },
            "type": "contourcarpet"
           }
          ],
          "heatmap": [
           {
            "colorbar": {
             "outlinewidth": 0,
             "ticks": ""
            },
            "colorscale": [
             [
              0,
              "#0d0887"
             ],
             [
              0.1111111111111111,
              "#46039f"
             ],
             [
              0.2222222222222222,
              "#7201a8"
             ],
             [
              0.3333333333333333,
              "#9c179e"
             ],
             [
              0.4444444444444444,
              "#bd3786"
             ],
             [
              0.5555555555555556,
              "#d8576b"
             ],
             [
              0.6666666666666666,
              "#ed7953"
             ],
             [
              0.7777777777777778,
              "#fb9f3a"
             ],
             [
              0.8888888888888888,
              "#fdca26"
             ],
             [
              1,
              "#f0f921"
             ]
            ],
            "type": "heatmap"
           }
          ],
          "heatmapgl": [
           {
            "colorbar": {
             "outlinewidth": 0,
             "ticks": ""
            },
            "colorscale": [
             [
              0,
              "#0d0887"
             ],
             [
              0.1111111111111111,
              "#46039f"
             ],
             [
              0.2222222222222222,
              "#7201a8"
             ],
             [
              0.3333333333333333,
              "#9c179e"
             ],
             [
              0.4444444444444444,
              "#bd3786"
             ],
             [
              0.5555555555555556,
              "#d8576b"
             ],
             [
              0.6666666666666666,
              "#ed7953"
             ],
             [
              0.7777777777777778,
              "#fb9f3a"
             ],
             [
              0.8888888888888888,
              "#fdca26"
             ],
             [
              1,
              "#f0f921"
             ]
            ],
            "type": "heatmapgl"
           }
          ],
          "histogram": [
           {
            "marker": {
             "colorbar": {
              "outlinewidth": 0,
              "ticks": ""
             }
            },
            "type": "histogram"
           }
          ],
          "histogram2d": [
           {
            "colorbar": {
             "outlinewidth": 0,
             "ticks": ""
            },
            "colorscale": [
             [
              0,
              "#0d0887"
             ],
             [
              0.1111111111111111,
              "#46039f"
             ],
             [
              0.2222222222222222,
              "#7201a8"
             ],
             [
              0.3333333333333333,
              "#9c179e"
             ],
             [
              0.4444444444444444,
              "#bd3786"
             ],
             [
              0.5555555555555556,
              "#d8576b"
             ],
             [
              0.6666666666666666,
              "#ed7953"
             ],
             [
              0.7777777777777778,
              "#fb9f3a"
             ],
             [
              0.8888888888888888,
              "#fdca26"
             ],
             [
              1,
              "#f0f921"
             ]
            ],
            "type": "histogram2d"
           }
          ],
          "histogram2dcontour": [
           {
            "colorbar": {
             "outlinewidth": 0,
             "ticks": ""
            },
            "colorscale": [
             [
              0,
              "#0d0887"
             ],
             [
              0.1111111111111111,
              "#46039f"
             ],
             [
              0.2222222222222222,
              "#7201a8"
             ],
             [
              0.3333333333333333,
              "#9c179e"
             ],
             [
              0.4444444444444444,
              "#bd3786"
             ],
             [
              0.5555555555555556,
              "#d8576b"
             ],
             [
              0.6666666666666666,
              "#ed7953"
             ],
             [
              0.7777777777777778,
              "#fb9f3a"
             ],
             [
              0.8888888888888888,
              "#fdca26"
             ],
             [
              1,
              "#f0f921"
             ]
            ],
            "type": "histogram2dcontour"
           }
          ],
          "mesh3d": [
           {
            "colorbar": {
             "outlinewidth": 0,
             "ticks": ""
            },
            "type": "mesh3d"
           }
          ],
          "parcoords": [
           {
            "line": {
             "colorbar": {
              "outlinewidth": 0,
              "ticks": ""
             }
            },
            "type": "parcoords"
           }
          ],
          "pie": [
           {
            "automargin": true,
            "type": "pie"
           }
          ],
          "scatter": [
           {
            "marker": {
             "colorbar": {
              "outlinewidth": 0,
              "ticks": ""
             }
            },
            "type": "scatter"
           }
          ],
          "scatter3d": [
           {
            "line": {
             "colorbar": {
              "outlinewidth": 0,
              "ticks": ""
             }
            },
            "marker": {
             "colorbar": {
              "outlinewidth": 0,
              "ticks": ""
             }
            },
            "type": "scatter3d"
           }
          ],
          "scattercarpet": [
           {
            "marker": {
             "colorbar": {
              "outlinewidth": 0,
              "ticks": ""
             }
            },
            "type": "scattercarpet"
           }
          ],
          "scattergeo": [
           {
            "marker": {
             "colorbar": {
              "outlinewidth": 0,
              "ticks": ""
             }
            },
            "type": "scattergeo"
           }
          ],
          "scattergl": [
           {
            "marker": {
             "colorbar": {
              "outlinewidth": 0,
              "ticks": ""
             }
            },
            "type": "scattergl"
           }
          ],
          "scattermapbox": [
           {
            "marker": {
             "colorbar": {
              "outlinewidth": 0,
              "ticks": ""
             }
            },
            "type": "scattermapbox"
           }
          ],
          "scatterpolar": [
           {
            "marker": {
             "colorbar": {
              "outlinewidth": 0,
              "ticks": ""
             }
            },
            "type": "scatterpolar"
           }
          ],
          "scatterpolargl": [
           {
            "marker": {
             "colorbar": {
              "outlinewidth": 0,
              "ticks": ""
             }
            },
            "type": "scatterpolargl"
           }
          ],
          "scatterternary": [
           {
            "marker": {
             "colorbar": {
              "outlinewidth": 0,
              "ticks": ""
             }
            },
            "type": "scatterternary"
           }
          ],
          "surface": [
           {
            "colorbar": {
             "outlinewidth": 0,
             "ticks": ""
            },
            "colorscale": [
             [
              0,
              "#0d0887"
             ],
             [
              0.1111111111111111,
              "#46039f"
             ],
             [
              0.2222222222222222,
              "#7201a8"
             ],
             [
              0.3333333333333333,
              "#9c179e"
             ],
             [
              0.4444444444444444,
              "#bd3786"
             ],
             [
              0.5555555555555556,
              "#d8576b"
             ],
             [
              0.6666666666666666,
              "#ed7953"
             ],
             [
              0.7777777777777778,
              "#fb9f3a"
             ],
             [
              0.8888888888888888,
              "#fdca26"
             ],
             [
              1,
              "#f0f921"
             ]
            ],
            "type": "surface"
           }
          ],
          "table": [
           {
            "cells": {
             "fill": {
              "color": "#EBF0F8"
             },
             "line": {
              "color": "white"
             }
            },
            "header": {
             "fill": {
              "color": "#C8D4E3"
             },
             "line": {
              "color": "white"
             }
            },
            "type": "table"
           }
          ]
         },
         "layout": {
          "annotationdefaults": {
           "arrowcolor": "#2a3f5f",
           "arrowhead": 0,
           "arrowwidth": 1
          },
          "coloraxis": {
           "colorbar": {
            "outlinewidth": 0,
            "ticks": ""
           }
          },
          "colorscale": {
           "diverging": [
            [
             0,
             "#8e0152"
            ],
            [
             0.1,
             "#c51b7d"
            ],
            [
             0.2,
             "#de77ae"
            ],
            [
             0.3,
             "#f1b6da"
            ],
            [
             0.4,
             "#fde0ef"
            ],
            [
             0.5,
             "#f7f7f7"
            ],
            [
             0.6,
             "#e6f5d0"
            ],
            [
             0.7,
             "#b8e186"
            ],
            [
             0.8,
             "#7fbc41"
            ],
            [
             0.9,
             "#4d9221"
            ],
            [
             1,
             "#276419"
            ]
           ],
           "sequential": [
            [
             0,
             "#0d0887"
            ],
            [
             0.1111111111111111,
             "#46039f"
            ],
            [
             0.2222222222222222,
             "#7201a8"
            ],
            [
             0.3333333333333333,
             "#9c179e"
            ],
            [
             0.4444444444444444,
             "#bd3786"
            ],
            [
             0.5555555555555556,
             "#d8576b"
            ],
            [
             0.6666666666666666,
             "#ed7953"
            ],
            [
             0.7777777777777778,
             "#fb9f3a"
            ],
            [
             0.8888888888888888,
             "#fdca26"
            ],
            [
             1,
             "#f0f921"
            ]
           ],
           "sequentialminus": [
            [
             0,
             "#0d0887"
            ],
            [
             0.1111111111111111,
             "#46039f"
            ],
            [
             0.2222222222222222,
             "#7201a8"
            ],
            [
             0.3333333333333333,
             "#9c179e"
            ],
            [
             0.4444444444444444,
             "#bd3786"
            ],
            [
             0.5555555555555556,
             "#d8576b"
            ],
            [
             0.6666666666666666,
             "#ed7953"
            ],
            [
             0.7777777777777778,
             "#fb9f3a"
            ],
            [
             0.8888888888888888,
             "#fdca26"
            ],
            [
             1,
             "#f0f921"
            ]
           ]
          },
          "colorway": [
           "#636efa",
           "#EF553B",
           "#00cc96",
           "#ab63fa",
           "#FFA15A",
           "#19d3f3",
           "#FF6692",
           "#B6E880",
           "#FF97FF",
           "#FECB52"
          ],
          "font": {
           "color": "#2a3f5f"
          },
          "geo": {
           "bgcolor": "white",
           "lakecolor": "white",
           "landcolor": "#E5ECF6",
           "showlakes": true,
           "showland": true,
           "subunitcolor": "white"
          },
          "hoverlabel": {
           "align": "left"
          },
          "hovermode": "closest",
          "mapbox": {
           "style": "light"
          },
          "paper_bgcolor": "white",
          "plot_bgcolor": "#E5ECF6",
          "polar": {
           "angularaxis": {
            "gridcolor": "white",
            "linecolor": "white",
            "ticks": ""
           },
           "bgcolor": "#E5ECF6",
           "radialaxis": {
            "gridcolor": "white",
            "linecolor": "white",
            "ticks": ""
           }
          },
          "scene": {
           "xaxis": {
            "backgroundcolor": "#E5ECF6",
            "gridcolor": "white",
            "gridwidth": 2,
            "linecolor": "white",
            "showbackground": true,
            "ticks": "",
            "zerolinecolor": "white"
           },
           "yaxis": {
            "backgroundcolor": "#E5ECF6",
            "gridcolor": "white",
            "gridwidth": 2,
            "linecolor": "white",
            "showbackground": true,
            "ticks": "",
            "zerolinecolor": "white"
           },
           "zaxis": {
            "backgroundcolor": "#E5ECF6",
            "gridcolor": "white",
            "gridwidth": 2,
            "linecolor": "white",
            "showbackground": true,
            "ticks": "",
            "zerolinecolor": "white"
           }
          },
          "shapedefaults": {
           "line": {
            "color": "#2a3f5f"
           }
          },
          "ternary": {
           "aaxis": {
            "gridcolor": "white",
            "linecolor": "white",
            "ticks": ""
           },
           "baxis": {
            "gridcolor": "white",
            "linecolor": "white",
            "ticks": ""
           },
           "bgcolor": "#E5ECF6",
           "caxis": {
            "gridcolor": "white",
            "linecolor": "white",
            "ticks": ""
           }
          },
          "title": {
           "x": 0.05
          },
          "xaxis": {
           "automargin": true,
           "gridcolor": "white",
           "linecolor": "white",
           "ticks": "",
           "title": {
            "standoff": 15
           },
           "zerolinecolor": "white",
           "zerolinewidth": 2
          },
          "yaxis": {
           "automargin": true,
           "gridcolor": "white",
           "linecolor": "white",
           "ticks": "",
           "title": {
            "standoff": 15
           },
           "zerolinecolor": "white",
           "zerolinewidth": 2
          }
         }
        },
        "title": {
         "font": {
          "color": "#000000",
          "size": 20
         },
         "text": "Periódicos por Qualis",
         "x": 0.5,
         "xanchor": "center"
        },
        "xaxis": {
         "title": {
          "text": "Instituição"
         }
        }
       }
      },
      "text/html": [
       "<div>\n",
       "        \n",
       "        \n",
       "            <div id=\"06d2e445-5477-42f8-a85d-a76bb5545072\" class=\"plotly-graph-div\" style=\"height:525px; width:100%;\"></div>\n",
       "            <script type=\"text/javascript\">\n",
       "                require([\"plotly\"], function(Plotly) {\n",
       "                    window.PLOTLYENV=window.PLOTLYENV || {};\n",
       "                    \n",
       "                if (document.getElementById(\"06d2e445-5477-42f8-a85d-a76bb5545072\")) {\n",
       "                    Plotly.newPlot(\n",
       "                        '06d2e445-5477-42f8-a85d-a76bb5545072',\n",
       "                        [{\"marker\": {\"color\": \"#000044\"}, \"name\": \"A1 (1)\", \"type\": \"bar\", \"x\": [\"UFPE-3\", \"UFV-4\", \"UFPE-4\", \"UNIFOR-3\", \"UFU-3\", \"UNB-3\", \"UFPA-4\", \"UERJ-4\", \"UNIFATEA-3\", \"UFAL-3\", \"UFG-3\", \"UFJF-4\", \"UFRGS-4\", \"UNESP-BAURU-4\", \" FIAMFAAM-3\", \"UFF-4\", \"UNB-4\", \"UEL-4\", \"UFCG-3\", \"PUC-RIO-3\", \"UFPB-JP-4\", \"PUCCAMP-5\", \"UFES-4\", \"UFRJ-4\", \"IMED-3\", \"UFC-3\", \"UNISINOS-5\", \"UFRN-4\", \"UNIVILLE-4\", \"UFRJ-6\", \"UNICAMP-5\", \"UEMG-5\", \"UFMG-6\", \"UNISINOS-4\", \"UFMA-3\", \"USJT-4\", \"UDESC-4\", \"PUC-RIO-5\", \"UNESP-BAURU-6\", \"UFRGS-5\", \"UAM-5\", \"UFPR-4\", \"UFPEL-4\", \"UFRJ-5\", \"USP/SC-4\", \"UFBA-4\", \"UNIRITTER-4\", \"UFSC-5\", \"UPM-6\", \"USP-4\"], \"y\": [0, 0, 0, 2, 0, 0, 0, 0, 0, 0, 0, 1, 0, 0, 0, 0, 0, 0, 0, 1, 0, 0, 0, 0, 2, 0, 0, 0, 0, 0, 4, 2, 0, 4, 1, 0, 2, 1, 2, 3, 0, 1, 0, 1, 0, 0, 1, 0, 0, 3]}, {\"marker\": {\"color\": \"#000088\"}, \"name\": \"A2 (0.875)\", \"type\": \"bar\", \"x\": [\"UFPE-3\", \"UFV-4\", \"UFPE-4\", \"UNIFOR-3\", \"UFU-3\", \"UNB-3\", \"UFPA-4\", \"UERJ-4\", \"UNIFATEA-3\", \"UFAL-3\", \"UFG-3\", \"UFJF-4\", \"UFRGS-4\", \"UNESP-BAURU-4\", \" FIAMFAAM-3\", \"UFF-4\", \"UNB-4\", \"UEL-4\", \"UFCG-3\", \"PUC-RIO-3\", \"UFPB-JP-4\", \"PUCCAMP-5\", \"UFES-4\", \"UFRJ-4\", \"IMED-3\", \"UFC-3\", \"UNISINOS-5\", \"UFRN-4\", \"UNIVILLE-4\", \"UFRJ-6\", \"UNICAMP-5\", \"UEMG-5\", \"UFMG-6\", \"UNISINOS-4\", \"UFMA-3\", \"USJT-4\", \"UDESC-4\", \"PUC-RIO-5\", \"UNESP-BAURU-6\", \"UFRGS-5\", \"UAM-5\", \"UFPR-4\", \"UFPEL-4\", \"UFRJ-5\", \"USP/SC-4\", \"UFBA-4\", \"UNIRITTER-4\", \"UFSC-5\", \"UPM-6\", \"USP-4\"], \"y\": [0, 0, 0, 0, 0, 0, 0, 0, 0, 1, 0, 0, 0, 0, 0, 1, 0, 0, 0, 5, 0, 2, 0, 0, 0, 1, 0, 0, 0, 0, 0, 1, 0, 0, 0, 1, 1, 1, 1, 1, 0, 0, 0, 1, 1, 0, 1, 0, 0, 3]}, {\"marker\": {\"color\": \"#0000CC\"}, \"name\": \"A3 (0.75)\", \"type\": \"bar\", \"x\": [\"UFPE-3\", \"UFV-4\", \"UFPE-4\", \"UNIFOR-3\", \"UFU-3\", \"UNB-3\", \"UFPA-4\", \"UERJ-4\", \"UNIFATEA-3\", \"UFAL-3\", \"UFG-3\", \"UFJF-4\", \"UFRGS-4\", \"UNESP-BAURU-4\", \" FIAMFAAM-3\", \"UFF-4\", \"UNB-4\", \"UEL-4\", \"UFCG-3\", \"PUC-RIO-3\", \"UFPB-JP-4\", \"PUCCAMP-5\", \"UFES-4\", \"UFRJ-4\", \"IMED-3\", \"UFC-3\", \"UNISINOS-5\", \"UFRN-4\", \"UNIVILLE-4\", \"UFRJ-6\", \"UNICAMP-5\", \"UEMG-5\", \"UFMG-6\", \"UNISINOS-4\", \"UFMA-3\", \"USJT-4\", \"UDESC-4\", \"PUC-RIO-5\", \"UNESP-BAURU-6\", \"UFRGS-5\", \"UAM-5\", \"UFPR-4\", \"UFPEL-4\", \"UFRJ-5\", \"USP/SC-4\", \"UFBA-4\", \"UNIRITTER-4\", \"UFSC-5\", \"UPM-6\", \"USP-4\"], \"y\": [0, 0, 0, 0, 0, 0, 0, 0, 0, 0, 1, 0, 0, 0, 1, 1, 0, 0, 1, 1, 0, 1, 0, 2, 1, 0, 0, 0, 0, 0, 1, 0, 0, 1, 1, 0, 0, 1, 1, 1, 4, 0, 0, 3, 0, 0, 1, 3, 1, 3]}, {\"marker\": {\"color\": \"#0000FF\"}, \"name\": \"A4 (0.625)\", \"type\": \"bar\", \"x\": [\"UFPE-3\", \"UFV-4\", \"UFPE-4\", \"UNIFOR-3\", \"UFU-3\", \"UNB-3\", \"UFPA-4\", \"UERJ-4\", \"UNIFATEA-3\", \"UFAL-3\", \"UFG-3\", \"UFJF-4\", \"UFRGS-4\", \"UNESP-BAURU-4\", \" FIAMFAAM-3\", \"UFF-4\", \"UNB-4\", \"UEL-4\", \"UFCG-3\", \"PUC-RIO-3\", \"UFPB-JP-4\", \"PUCCAMP-5\", \"UFES-4\", \"UFRJ-4\", \"IMED-3\", \"UFC-3\", \"UNISINOS-5\", \"UFRN-4\", \"UNIVILLE-4\", \"UFRJ-6\", \"UNICAMP-5\", \"UEMG-5\", \"UFMG-6\", \"UNISINOS-4\", \"UFMA-3\", \"USJT-4\", \"UDESC-4\", \"PUC-RIO-5\", \"UNESP-BAURU-6\", \"UFRGS-5\", \"UAM-5\", \"UFPR-4\", \"UFPEL-4\", \"UFRJ-5\", \"USP/SC-4\", \"UFBA-4\", \"UNIRITTER-4\", \"UFSC-5\", \"UPM-6\", \"USP-4\"], \"y\": [0, 0, 0, 2, 0, 0, 1, 1, 0, 0, 1, 1, 0, 0, 0, 0, 1, 1, 3, 0, 1, 0, 5, 1, 3, 0, 1, 0, 0, 2, 0, 3, 5, 1, 0, 0, 0, 1, 2, 0, 4, 2, 2, 2, 3, 2, 0, 0, 0, 4]}, {\"marker\": {\"color\": \"#003300\"}, \"name\": \"B1 (0.5)\", \"type\": \"bar\", \"x\": [\"UFPE-3\", \"UFV-4\", \"UFPE-4\", \"UNIFOR-3\", \"UFU-3\", \"UNB-3\", \"UFPA-4\", \"UERJ-4\", \"UNIFATEA-3\", \"UFAL-3\", \"UFG-3\", \"UFJF-4\", \"UFRGS-4\", \"UNESP-BAURU-4\", \" FIAMFAAM-3\", \"UFF-4\", \"UNB-4\", \"UEL-4\", \"UFCG-3\", \"PUC-RIO-3\", \"UFPB-JP-4\", \"PUCCAMP-5\", \"UFES-4\", \"UFRJ-4\", \"IMED-3\", \"UFC-3\", \"UNISINOS-5\", \"UFRN-4\", \"UNIVILLE-4\", \"UFRJ-6\", \"UNICAMP-5\", \"UEMG-5\", \"UFMG-6\", \"UNISINOS-4\", \"UFMA-3\", \"USJT-4\", \"UDESC-4\", \"PUC-RIO-5\", \"UNESP-BAURU-6\", \"UFRGS-5\", \"UAM-5\", \"UFPR-4\", \"UFPEL-4\", \"UFRJ-5\", \"USP/SC-4\", \"UFBA-4\", \"UNIRITTER-4\", \"UFSC-5\", \"UPM-6\", \"USP-4\"], \"y\": [0, 0, 0, 0, 2, 0, 0, 0, 1, 2, 0, 0, 0, 0, 0, 0, 0, 1, 1, 0, 1, 0, 0, 0, 2, 0, 4, 0, 0, 2, 0, 1, 0, 3, 1, 1, 0, 3, 0, 1, 2, 0, 2, 1, 0, 2, 3, 2, 1, 5]}, {\"marker\": {\"color\": \"#006600\"}, \"name\": \"B2 (0.2)\", \"type\": \"bar\", \"x\": [\"UFPE-3\", \"UFV-4\", \"UFPE-4\", \"UNIFOR-3\", \"UFU-3\", \"UNB-3\", \"UFPA-4\", \"UERJ-4\", \"UNIFATEA-3\", \"UFAL-3\", \"UFG-3\", \"UFJF-4\", \"UFRGS-4\", \"UNESP-BAURU-4\", \" FIAMFAAM-3\", \"UFF-4\", \"UNB-4\", \"UEL-4\", \"UFCG-3\", \"PUC-RIO-3\", \"UFPB-JP-4\", \"PUCCAMP-5\", \"UFES-4\", \"UFRJ-4\", \"IMED-3\", \"UFC-3\", \"UNISINOS-5\", \"UFRN-4\", \"UNIVILLE-4\", \"UFRJ-6\", \"UNICAMP-5\", \"UEMG-5\", \"UFMG-6\", \"UNISINOS-4\", \"UFMA-3\", \"USJT-4\", \"UDESC-4\", \"PUC-RIO-5\", \"UNESP-BAURU-6\", \"UFRGS-5\", \"UAM-5\", \"UFPR-4\", \"UFPEL-4\", \"UFRJ-5\", \"USP/SC-4\", \"UFBA-4\", \"UNIRITTER-4\", \"UFSC-5\", \"UPM-6\", \"USP-4\"], \"y\": [0, 0, 0, 0, 0, 1, 2, 0, 0, 0, 0, 0, 1, 7, 0, 1, 0, 1, 0, 1, 1, 2, 3, 2, 0, 1, 3, 2, 3, 1, 1, 1, 1, 8, 3, 5, 4, 2, 0, 3, 0, 0, 2, 4, 3, 3, 6, 6, 9, 1]}, {\"marker\": {\"color\": \"#009900\"}, \"name\": \"B3 (0.1)\", \"type\": \"bar\", \"x\": [\"UFPE-3\", \"UFV-4\", \"UFPE-4\", \"UNIFOR-3\", \"UFU-3\", \"UNB-3\", \"UFPA-4\", \"UERJ-4\", \"UNIFATEA-3\", \"UFAL-3\", \"UFG-3\", \"UFJF-4\", \"UFRGS-4\", \"UNESP-BAURU-4\", \" FIAMFAAM-3\", \"UFF-4\", \"UNB-4\", \"UEL-4\", \"UFCG-3\", \"PUC-RIO-3\", \"UFPB-JP-4\", \"PUCCAMP-5\", \"UFES-4\", \"UFRJ-4\", \"IMED-3\", \"UFC-3\", \"UNISINOS-5\", \"UFRN-4\", \"UNIVILLE-4\", \"UFRJ-6\", \"UNICAMP-5\", \"UEMG-5\", \"UFMG-6\", \"UNISINOS-4\", \"UFMA-3\", \"USJT-4\", \"UDESC-4\", \"PUC-RIO-5\", \"UNESP-BAURU-6\", \"UFRGS-5\", \"UAM-5\", \"UFPR-4\", \"UFPEL-4\", \"UFRJ-5\", \"USP/SC-4\", \"UFBA-4\", \"UNIRITTER-4\", \"UFSC-5\", \"UPM-6\", \"USP-4\"], \"y\": [0, 1, 0, 1, 1, 0, 1, 1, 0, 0, 0, 2, 3, 1, 1, 4, 2, 1, 1, 1, 6, 0, 2, 0, 4, 1, 0, 2, 5, 2, 1, 1, 0, 4, 0, 2, 4, 0, 0, 0, 2, 3, 4, 2, 6, 4, 5, 7, 5, 12]}, {\"marker\": {\"color\": \"#00CC00\"}, \"name\": \"B4 (0.05)\", \"type\": \"bar\", \"x\": [\"UFPE-3\", \"UFV-4\", \"UFPE-4\", \"UNIFOR-3\", \"UFU-3\", \"UNB-3\", \"UFPA-4\", \"UERJ-4\", \"UNIFATEA-3\", \"UFAL-3\", \"UFG-3\", \"UFJF-4\", \"UFRGS-4\", \"UNESP-BAURU-4\", \" FIAMFAAM-3\", \"UFF-4\", \"UNB-4\", \"UEL-4\", \"UFCG-3\", \"PUC-RIO-3\", \"UFPB-JP-4\", \"PUCCAMP-5\", \"UFES-4\", \"UFRJ-4\", \"IMED-3\", \"UFC-3\", \"UNISINOS-5\", \"UFRN-4\", \"UNIVILLE-4\", \"UFRJ-6\", \"UNICAMP-5\", \"UEMG-5\", \"UFMG-6\", \"UNISINOS-4\", \"UFMA-3\", \"USJT-4\", \"UDESC-4\", \"PUC-RIO-5\", \"UNESP-BAURU-6\", \"UFRGS-5\", \"UAM-5\", \"UFPR-4\", \"UFPEL-4\", \"UFRJ-5\", \"USP/SC-4\", \"UFBA-4\", \"UNIRITTER-4\", \"UFSC-5\", \"UPM-6\", \"USP-4\"], \"y\": [0, 0, 1, 0, 0, 2, 0, 0, 0, 1, 0, 0, 0, 0, 0, 1, 1, 0, 0, 0, 0, 0, 0, 0, 0, 0, 1, 0, 0, 1, 0, 3, 2, 0, 1, 0, 1, 0, 1, 1, 1, 2, 1, 1, 0, 0, 1, 4, 1, 2]}, {\"marker\": {\"color\": \"#00FF00\"}, \"name\": \"B5 (0)\", \"type\": \"bar\", \"x\": [\"UFPE-3\", \"UFV-4\", \"UFPE-4\", \"UNIFOR-3\", \"UFU-3\", \"UNB-3\", \"UFPA-4\", \"UERJ-4\", \"UNIFATEA-3\", \"UFAL-3\", \"UFG-3\", \"UFJF-4\", \"UFRGS-4\", \"UNESP-BAURU-4\", \" FIAMFAAM-3\", \"UFF-4\", \"UNB-4\", \"UEL-4\", \"UFCG-3\", \"PUC-RIO-3\", \"UFPB-JP-4\", \"PUCCAMP-5\", \"UFES-4\", \"UFRJ-4\", \"IMED-3\", \"UFC-3\", \"UNISINOS-5\", \"UFRN-4\", \"UNIVILLE-4\", \"UFRJ-6\", \"UNICAMP-5\", \"UEMG-5\", \"UFMG-6\", \"UNISINOS-4\", \"UFMA-3\", \"USJT-4\", \"UDESC-4\", \"PUC-RIO-5\", \"UNESP-BAURU-6\", \"UFRGS-5\", \"UAM-5\", \"UFPR-4\", \"UFPEL-4\", \"UFRJ-5\", \"USP/SC-4\", \"UFBA-4\", \"UNIRITTER-4\", \"UFSC-5\", \"UPM-6\", \"USP-4\"], \"y\": [0, 0, 0, 0, 0, 0, 0, 0, 0, 0, 0, 0, 0, 0, 0, 0, 0, 0, 0, 0, 0, 0, 0, 0, 0, 0, 0, 0, 0, 0, 0, 0, 0, 0, 0, 0, 0, 0, 0, 0, 0, 0, 0, 0, 0, 0, 0, 0, 0, 0]}, {\"marker\": {\"color\": \"#880000\"}, \"name\": \"C (0)\", \"type\": \"bar\", \"x\": [\"UFPE-3\", \"UFV-4\", \"UFPE-4\", \"UNIFOR-3\", \"UFU-3\", \"UNB-3\", \"UFPA-4\", \"UERJ-4\", \"UNIFATEA-3\", \"UFAL-3\", \"UFG-3\", \"UFJF-4\", \"UFRGS-4\", \"UNESP-BAURU-4\", \" FIAMFAAM-3\", \"UFF-4\", \"UNB-4\", \"UEL-4\", \"UFCG-3\", \"PUC-RIO-3\", \"UFPB-JP-4\", \"PUCCAMP-5\", \"UFES-4\", \"UFRJ-4\", \"IMED-3\", \"UFC-3\", \"UNISINOS-5\", \"UFRN-4\", \"UNIVILLE-4\", \"UFRJ-6\", \"UNICAMP-5\", \"UEMG-5\", \"UFMG-6\", \"UNISINOS-4\", \"UFMA-3\", \"USJT-4\", \"UDESC-4\", \"PUC-RIO-5\", \"UNESP-BAURU-6\", \"UFRGS-5\", \"UAM-5\", \"UFPR-4\", \"UFPEL-4\", \"UFRJ-5\", \"USP/SC-4\", \"UFBA-4\", \"UNIRITTER-4\", \"UFSC-5\", \"UPM-6\", \"USP-4\"], \"y\": [3, 4, 3, 2, 4, 5, 7, 9, 12, 8, 10, 9, 11, 8, 15, 10, 12, 13, 8, 11, 9, 14, 8, 15, 8, 19, 12, 15, 14, 16, 17, 12, 14, 11, 22, 21, 18, 21, 24, 19, 23, 26, 31, 23, 31, 34, 35, 41, 68, 63]}, {\"marker\": {\"color\": \"#CC0000\"}, \"name\": \"NA (0)\", \"type\": \"bar\", \"x\": [\"UFPE-3\", \"UFV-4\", \"UFPE-4\", \"UNIFOR-3\", \"UFU-3\", \"UNB-3\", \"UFPA-4\", \"UERJ-4\", \"UNIFATEA-3\", \"UFAL-3\", \"UFG-3\", \"UFJF-4\", \"UFRGS-4\", \"UNESP-BAURU-4\", \" FIAMFAAM-3\", \"UFF-4\", \"UNB-4\", \"UEL-4\", \"UFCG-3\", \"PUC-RIO-3\", \"UFPB-JP-4\", \"PUCCAMP-5\", \"UFES-4\", \"UFRJ-4\", \"IMED-3\", \"UFC-3\", \"UNISINOS-5\", \"UFRN-4\", \"UNIVILLE-4\", \"UFRJ-6\", \"UNICAMP-5\", \"UEMG-5\", \"UFMG-6\", \"UNISINOS-4\", \"UFMA-3\", \"USJT-4\", \"UDESC-4\", \"PUC-RIO-5\", \"UNESP-BAURU-6\", \"UFRGS-5\", \"UAM-5\", \"UFPR-4\", \"UFPEL-4\", \"UFRJ-5\", \"USP/SC-4\", \"UFBA-4\", \"UNIRITTER-4\", \"UFSC-5\", \"UPM-6\", \"USP-4\"], \"y\": [0, 0, 2, 0, 3, 4, 2, 2, 0, 1, 3, 3, 2, 1, 0, 0, 2, 1, 4, 0, 2, 1, 3, 1, 3, 1, 2, 5, 3, 3, 3, 3, 6, 0, 3, 3, 4, 5, 4, 9, 6, 8, 1, 6, 3, 7, 4, 12, 3, 15]}, {\"marker\": {\"color\": \"#FF0000\"}, \"name\": \"NP (0)\", \"type\": \"bar\", \"x\": [\"UFPE-3\", \"UFV-4\", \"UFPE-4\", \"UNIFOR-3\", \"UFU-3\", \"UNB-3\", \"UFPA-4\", \"UERJ-4\", \"UNIFATEA-3\", \"UFAL-3\", \"UFG-3\", \"UFJF-4\", \"UFRGS-4\", \"UNESP-BAURU-4\", \" FIAMFAAM-3\", \"UFF-4\", \"UNB-4\", \"UEL-4\", \"UFCG-3\", \"PUC-RIO-3\", \"UFPB-JP-4\", \"PUCCAMP-5\", \"UFES-4\", \"UFRJ-4\", \"IMED-3\", \"UFC-3\", \"UNISINOS-5\", \"UFRN-4\", \"UNIVILLE-4\", \"UFRJ-6\", \"UNICAMP-5\", \"UEMG-5\", \"UFMG-6\", \"UNISINOS-4\", \"UFMA-3\", \"USJT-4\", \"UDESC-4\", \"PUC-RIO-5\", \"UNESP-BAURU-6\", \"UFRGS-5\", \"UAM-5\", \"UFPR-4\", \"UFPEL-4\", \"UFRJ-5\", \"USP/SC-4\", \"UFBA-4\", \"UNIRITTER-4\", \"UFSC-5\", \"UPM-6\", \"USP-4\"], \"y\": [0, 0, 0, 0, 0, 0, 0, 0, 0, 0, 0, 0, 0, 0, 0, 0, 0, 0, 0, 0, 0, 0, 0, 0, 0, 0, 0, 0, 0, 0, 0, 0, 0, 0, 0, 0, 0, 0, 0, 0, 0, 0, 0, 0, 0, 0, 0, 0, 0, 0]}],\n",
       "                        {\"barmode\": \"stack\", \"template\": {\"data\": {\"bar\": [{\"error_x\": {\"color\": \"#2a3f5f\"}, \"error_y\": {\"color\": \"#2a3f5f\"}, \"marker\": {\"line\": {\"color\": \"#E5ECF6\", \"width\": 0.5}}, \"type\": \"bar\"}], \"barpolar\": [{\"marker\": {\"line\": {\"color\": \"#E5ECF6\", \"width\": 0.5}}, \"type\": \"barpolar\"}], \"carpet\": [{\"aaxis\": {\"endlinecolor\": \"#2a3f5f\", \"gridcolor\": \"white\", \"linecolor\": \"white\", \"minorgridcolor\": \"white\", \"startlinecolor\": \"#2a3f5f\"}, \"baxis\": {\"endlinecolor\": \"#2a3f5f\", \"gridcolor\": \"white\", \"linecolor\": \"white\", \"minorgridcolor\": \"white\", \"startlinecolor\": \"#2a3f5f\"}, \"type\": \"carpet\"}], \"choropleth\": [{\"colorbar\": {\"outlinewidth\": 0, \"ticks\": \"\"}, \"type\": \"choropleth\"}], \"contour\": [{\"colorbar\": {\"outlinewidth\": 0, \"ticks\": \"\"}, \"colorscale\": [[0.0, \"#0d0887\"], [0.1111111111111111, \"#46039f\"], [0.2222222222222222, \"#7201a8\"], [0.3333333333333333, \"#9c179e\"], [0.4444444444444444, \"#bd3786\"], [0.5555555555555556, \"#d8576b\"], [0.6666666666666666, \"#ed7953\"], [0.7777777777777778, \"#fb9f3a\"], [0.8888888888888888, \"#fdca26\"], [1.0, \"#f0f921\"]], \"type\": \"contour\"}], \"contourcarpet\": [{\"colorbar\": {\"outlinewidth\": 0, \"ticks\": \"\"}, \"type\": \"contourcarpet\"}], \"heatmap\": [{\"colorbar\": {\"outlinewidth\": 0, \"ticks\": \"\"}, \"colorscale\": [[0.0, \"#0d0887\"], [0.1111111111111111, \"#46039f\"], [0.2222222222222222, \"#7201a8\"], [0.3333333333333333, \"#9c179e\"], [0.4444444444444444, \"#bd3786\"], [0.5555555555555556, \"#d8576b\"], [0.6666666666666666, \"#ed7953\"], [0.7777777777777778, \"#fb9f3a\"], [0.8888888888888888, \"#fdca26\"], [1.0, \"#f0f921\"]], \"type\": \"heatmap\"}], \"heatmapgl\": [{\"colorbar\": {\"outlinewidth\": 0, \"ticks\": \"\"}, \"colorscale\": [[0.0, \"#0d0887\"], [0.1111111111111111, \"#46039f\"], [0.2222222222222222, \"#7201a8\"], [0.3333333333333333, \"#9c179e\"], [0.4444444444444444, \"#bd3786\"], [0.5555555555555556, \"#d8576b\"], [0.6666666666666666, \"#ed7953\"], [0.7777777777777778, \"#fb9f3a\"], [0.8888888888888888, \"#fdca26\"], [1.0, \"#f0f921\"]], \"type\": \"heatmapgl\"}], \"histogram\": [{\"marker\": {\"colorbar\": {\"outlinewidth\": 0, \"ticks\": \"\"}}, \"type\": \"histogram\"}], \"histogram2d\": [{\"colorbar\": {\"outlinewidth\": 0, \"ticks\": \"\"}, \"colorscale\": [[0.0, \"#0d0887\"], [0.1111111111111111, \"#46039f\"], [0.2222222222222222, \"#7201a8\"], [0.3333333333333333, \"#9c179e\"], [0.4444444444444444, \"#bd3786\"], [0.5555555555555556, \"#d8576b\"], [0.6666666666666666, \"#ed7953\"], [0.7777777777777778, \"#fb9f3a\"], [0.8888888888888888, \"#fdca26\"], [1.0, \"#f0f921\"]], \"type\": \"histogram2d\"}], \"histogram2dcontour\": [{\"colorbar\": {\"outlinewidth\": 0, \"ticks\": \"\"}, \"colorscale\": [[0.0, \"#0d0887\"], [0.1111111111111111, \"#46039f\"], [0.2222222222222222, \"#7201a8\"], [0.3333333333333333, \"#9c179e\"], [0.4444444444444444, \"#bd3786\"], [0.5555555555555556, \"#d8576b\"], [0.6666666666666666, \"#ed7953\"], [0.7777777777777778, \"#fb9f3a\"], [0.8888888888888888, \"#fdca26\"], [1.0, \"#f0f921\"]], \"type\": \"histogram2dcontour\"}], \"mesh3d\": [{\"colorbar\": {\"outlinewidth\": 0, \"ticks\": \"\"}, \"type\": \"mesh3d\"}], \"parcoords\": [{\"line\": {\"colorbar\": {\"outlinewidth\": 0, \"ticks\": \"\"}}, \"type\": \"parcoords\"}], \"pie\": [{\"automargin\": true, \"type\": \"pie\"}], \"scatter\": [{\"marker\": {\"colorbar\": {\"outlinewidth\": 0, \"ticks\": \"\"}}, \"type\": \"scatter\"}], \"scatter3d\": [{\"line\": {\"colorbar\": {\"outlinewidth\": 0, \"ticks\": \"\"}}, \"marker\": {\"colorbar\": {\"outlinewidth\": 0, \"ticks\": \"\"}}, \"type\": \"scatter3d\"}], \"scattercarpet\": [{\"marker\": {\"colorbar\": {\"outlinewidth\": 0, \"ticks\": \"\"}}, \"type\": \"scattercarpet\"}], \"scattergeo\": [{\"marker\": {\"colorbar\": {\"outlinewidth\": 0, \"ticks\": \"\"}}, \"type\": \"scattergeo\"}], \"scattergl\": [{\"marker\": {\"colorbar\": {\"outlinewidth\": 0, \"ticks\": \"\"}}, \"type\": \"scattergl\"}], \"scattermapbox\": [{\"marker\": {\"colorbar\": {\"outlinewidth\": 0, \"ticks\": \"\"}}, \"type\": \"scattermapbox\"}], \"scatterpolar\": [{\"marker\": {\"colorbar\": {\"outlinewidth\": 0, \"ticks\": \"\"}}, \"type\": \"scatterpolar\"}], \"scatterpolargl\": [{\"marker\": {\"colorbar\": {\"outlinewidth\": 0, \"ticks\": \"\"}}, \"type\": \"scatterpolargl\"}], \"scatterternary\": [{\"marker\": {\"colorbar\": {\"outlinewidth\": 0, \"ticks\": \"\"}}, \"type\": \"scatterternary\"}], \"surface\": [{\"colorbar\": {\"outlinewidth\": 0, \"ticks\": \"\"}, \"colorscale\": [[0.0, \"#0d0887\"], [0.1111111111111111, \"#46039f\"], [0.2222222222222222, \"#7201a8\"], [0.3333333333333333, \"#9c179e\"], [0.4444444444444444, \"#bd3786\"], [0.5555555555555556, \"#d8576b\"], [0.6666666666666666, \"#ed7953\"], [0.7777777777777778, \"#fb9f3a\"], [0.8888888888888888, \"#fdca26\"], [1.0, \"#f0f921\"]], \"type\": \"surface\"}], \"table\": [{\"cells\": {\"fill\": {\"color\": \"#EBF0F8\"}, \"line\": {\"color\": \"white\"}}, \"header\": {\"fill\": {\"color\": \"#C8D4E3\"}, \"line\": {\"color\": \"white\"}}, \"type\": \"table\"}]}, \"layout\": {\"annotationdefaults\": {\"arrowcolor\": \"#2a3f5f\", \"arrowhead\": 0, \"arrowwidth\": 1}, \"coloraxis\": {\"colorbar\": {\"outlinewidth\": 0, \"ticks\": \"\"}}, \"colorscale\": {\"diverging\": [[0, \"#8e0152\"], [0.1, \"#c51b7d\"], [0.2, \"#de77ae\"], [0.3, \"#f1b6da\"], [0.4, \"#fde0ef\"], [0.5, \"#f7f7f7\"], [0.6, \"#e6f5d0\"], [0.7, \"#b8e186\"], [0.8, \"#7fbc41\"], [0.9, \"#4d9221\"], [1, \"#276419\"]], \"sequential\": [[0.0, \"#0d0887\"], [0.1111111111111111, \"#46039f\"], [0.2222222222222222, \"#7201a8\"], [0.3333333333333333, \"#9c179e\"], [0.4444444444444444, \"#bd3786\"], [0.5555555555555556, \"#d8576b\"], [0.6666666666666666, \"#ed7953\"], [0.7777777777777778, \"#fb9f3a\"], [0.8888888888888888, \"#fdca26\"], [1.0, \"#f0f921\"]], \"sequentialminus\": [[0.0, \"#0d0887\"], [0.1111111111111111, \"#46039f\"], [0.2222222222222222, \"#7201a8\"], [0.3333333333333333, \"#9c179e\"], [0.4444444444444444, \"#bd3786\"], [0.5555555555555556, \"#d8576b\"], [0.6666666666666666, \"#ed7953\"], [0.7777777777777778, \"#fb9f3a\"], [0.8888888888888888, \"#fdca26\"], [1.0, \"#f0f921\"]]}, \"colorway\": [\"#636efa\", \"#EF553B\", \"#00cc96\", \"#ab63fa\", \"#FFA15A\", \"#19d3f3\", \"#FF6692\", \"#B6E880\", \"#FF97FF\", \"#FECB52\"], \"font\": {\"color\": \"#2a3f5f\"}, \"geo\": {\"bgcolor\": \"white\", \"lakecolor\": \"white\", \"landcolor\": \"#E5ECF6\", \"showlakes\": true, \"showland\": true, \"subunitcolor\": \"white\"}, \"hoverlabel\": {\"align\": \"left\"}, \"hovermode\": \"closest\", \"mapbox\": {\"style\": \"light\"}, \"paper_bgcolor\": \"white\", \"plot_bgcolor\": \"#E5ECF6\", \"polar\": {\"angularaxis\": {\"gridcolor\": \"white\", \"linecolor\": \"white\", \"ticks\": \"\"}, \"bgcolor\": \"#E5ECF6\", \"radialaxis\": {\"gridcolor\": \"white\", \"linecolor\": \"white\", \"ticks\": \"\"}}, \"scene\": {\"xaxis\": {\"backgroundcolor\": \"#E5ECF6\", \"gridcolor\": \"white\", \"gridwidth\": 2, \"linecolor\": \"white\", \"showbackground\": true, \"ticks\": \"\", \"zerolinecolor\": \"white\"}, \"yaxis\": {\"backgroundcolor\": \"#E5ECF6\", \"gridcolor\": \"white\", \"gridwidth\": 2, \"linecolor\": \"white\", \"showbackground\": true, \"ticks\": \"\", \"zerolinecolor\": \"white\"}, \"zaxis\": {\"backgroundcolor\": \"#E5ECF6\", \"gridcolor\": \"white\", \"gridwidth\": 2, \"linecolor\": \"white\", \"showbackground\": true, \"ticks\": \"\", \"zerolinecolor\": \"white\"}}, \"shapedefaults\": {\"line\": {\"color\": \"#2a3f5f\"}}, \"ternary\": {\"aaxis\": {\"gridcolor\": \"white\", \"linecolor\": \"white\", \"ticks\": \"\"}, \"baxis\": {\"gridcolor\": \"white\", \"linecolor\": \"white\", \"ticks\": \"\"}, \"bgcolor\": \"#E5ECF6\", \"caxis\": {\"gridcolor\": \"white\", \"linecolor\": \"white\", \"ticks\": \"\"}}, \"title\": {\"x\": 0.05}, \"xaxis\": {\"automargin\": true, \"gridcolor\": \"white\", \"linecolor\": \"white\", \"ticks\": \"\", \"title\": {\"standoff\": 15}, \"zerolinecolor\": \"white\", \"zerolinewidth\": 2}, \"yaxis\": {\"automargin\": true, \"gridcolor\": \"white\", \"linecolor\": \"white\", \"ticks\": \"\", \"title\": {\"standoff\": 15}, \"zerolinecolor\": \"white\", \"zerolinewidth\": 2}}}, \"title\": {\"font\": {\"color\": \"#000000\", \"size\": 20}, \"text\": \"Peri\\u00f3dicos por Qualis\", \"x\": 0.5, \"xanchor\": \"center\"}, \"xaxis\": {\"title\": {\"text\": \"Institui\\u00e7\\u00e3o\"}}},\n",
       "                        {\"responsive\": true}\n",
       "                    ).then(function(){\n",
       "                            \n",
       "var gd = document.getElementById('06d2e445-5477-42f8-a85d-a76bb5545072');\n",
       "var x = new MutationObserver(function (mutations, observer) {{\n",
       "        var display = window.getComputedStyle(gd).display;\n",
       "        if (!display || display === 'none') {{\n",
       "            console.log([gd, 'removed!']);\n",
       "            Plotly.purge(gd);\n",
       "            observer.disconnect();\n",
       "        }}\n",
       "}});\n",
       "\n",
       "// Listen for the removal of the full notebook cells\n",
       "var notebookContainer = gd.closest('#notebook-container');\n",
       "if (notebookContainer) {{\n",
       "    x.observe(notebookContainer, {childList: true});\n",
       "}}\n",
       "\n",
       "// Listen for the clearing of the current output cell\n",
       "var outputEl = gd.closest('.output');\n",
       "if (outputEl) {{\n",
       "    x.observe(outputEl, {childList: true});\n",
       "}}\n",
       "\n",
       "                        })\n",
       "                };\n",
       "                });\n",
       "            </script>\n",
       "        </div>"
      ]
     },
     "metadata": {},
     "output_type": "display_data"
    }
   ],
   "source": [
    "sorted_q = sort_data(periodicos_qualis, list_programas)\n",
    "\n",
    "data = list()\n",
    "for i in range(0, len(TIPO_QUALIS)):\n",
    "    data.append(go.Bar(x=[p_quali['code'] for p_quali in sorted_q],\n",
    "                       y=[p_quali[TIPO_QUALIS[i]] for p_quali in sorted_q],\n",
    "                       marker_color=COLOR_QUALIS[TIPO_QUALIS[i]],\n",
    "                       name=f'{TIPO_QUALIS[i]} ({PESO_QUALIS[TIPO_QUALIS[i]]})'))\n",
    "\n",
    "title = {\n",
    "    'text': 'Periódicos por Qualis',\n",
    "    'x': 0.5,\n",
    "    'xanchor': 'center',\n",
    "    'font': {\n",
    "        'color': '#000000',\n",
    "        'size': 20\n",
    "    }\n",
    "}\n",
    "layout = go.Layout(title=title, \n",
    "                   xaxis={'title': 'Instituição'},\n",
    "                   barmode='stack')\n",
    "\n",
    "fig = go.Figure(data=data, layout=layout)\n",
    "py.iplot(fig)"
   ]
  },
  {
   "cell_type": "code",
   "execution_count": 16,
   "metadata": {},
   "outputs": [
    {
     "data": {
      "application/vnd.plotly.v1+json": {
       "config": {
        "linkText": "Export to plot.ly",
        "plotlyServerURL": "https://plot.ly",
        "showLink": false
       },
       "data": [
        {
         "marker": {
          "color": "#000044"
         },
         "name": "A1 (1)",
         "type": "bar",
         "x": [
          "UFPE-3",
          "UFPE-4",
          "UFV-4",
          "UNB-3",
          "UNB-4",
          "UFRGS-4",
          "UFRN-4",
          "UERJ-4",
          "UNIFATEA-3",
          "UFAL-3",
          "UFU-3",
          "UFPA-4",
          "UFG-3",
          "UEL-4",
          "UFC-3",
          " FIAMFAAM-3",
          "UFF-4",
          "UFBA-4",
          "UNIVILLE-4",
          "USP/SC-4",
          "UFPB-JP-4",
          "USP-4",
          "UFRJ-6",
          "UFPEL-4",
          "UNESP-BAURU-4",
          "UFMG-6",
          "UPM-6",
          "UFRJ-4",
          "UFPR-4",
          "UFJF-4",
          "UNIFOR-3",
          "UFCG-3",
          "UFMA-3",
          "UNICAMP-5",
          "UFRGS-5",
          "UFRJ-5",
          "PUCCAMP-5",
          "UNISINOS-5",
          "USJT-4",
          "UFSC-5",
          "UFES-4",
          "PUC-RIO-5",
          "UDESC-4",
          "UNESP-BAURU-6",
          "UEMG-5",
          "UNIRITTER-4",
          "IMED-3",
          "UAM-5",
          "PUC-RIO-3",
          "UNISINOS-4"
         ],
         "y": [
          0,
          0,
          0,
          0,
          0,
          0,
          0,
          0,
          0,
          0,
          0,
          0,
          0,
          0,
          0,
          0,
          0,
          0,
          0,
          0,
          0,
          0.012711864406779662,
          0,
          0,
          0,
          0,
          0,
          0,
          0.03125,
          0.045454545454545456,
          0.05,
          0,
          0.03571428571428571,
          0.08333333333333333,
          0.06,
          0.017241379310344827,
          0,
          0,
          0,
          0,
          0,
          0.027777777777777776,
          0.07692307692307693,
          0.06666666666666667,
          0.07142857142857142,
          0.03571428571428571,
          0.09090909090909091,
          0,
          0.05,
          0.16666666666666666
         ]
        },
        {
         "marker": {
          "color": "#000088"
         },
         "name": "A2 (0.875)",
         "type": "bar",
         "x": [
          "UFPE-3",
          "UFPE-4",
          "UFV-4",
          "UNB-3",
          "UNB-4",
          "UFRGS-4",
          "UFRN-4",
          "UERJ-4",
          "UNIFATEA-3",
          "UFAL-3",
          "UFU-3",
          "UFPA-4",
          "UFG-3",
          "UEL-4",
          "UFC-3",
          " FIAMFAAM-3",
          "UFF-4",
          "UFBA-4",
          "UNIVILLE-4",
          "USP/SC-4",
          "UFPB-JP-4",
          "USP-4",
          "UFRJ-6",
          "UFPEL-4",
          "UNESP-BAURU-4",
          "UFMG-6",
          "UPM-6",
          "UFRJ-4",
          "UFPR-4",
          "UFJF-4",
          "UNIFOR-3",
          "UFCG-3",
          "UFMA-3",
          "UNICAMP-5",
          "UFRGS-5",
          "UFRJ-5",
          "PUCCAMP-5",
          "UNISINOS-5",
          "USJT-4",
          "UFSC-5",
          "UFES-4",
          "PUC-RIO-5",
          "UDESC-4",
          "UNESP-BAURU-6",
          "UEMG-5",
          "UNIRITTER-4",
          "IMED-3",
          "UAM-5",
          "PUC-RIO-3",
          "UNISINOS-4"
         ],
         "y": [
          0,
          0,
          0,
          0,
          0,
          0,
          0,
          0,
          0,
          0.015625,
          0,
          0,
          0,
          0,
          0.03125,
          0,
          0.0175,
          0,
          0,
          0.011824324324324325,
          0,
          0.011122881355932203,
          0,
          0,
          0,
          0,
          0,
          0,
          0,
          0,
          0,
          0,
          0,
          0,
          0.0175,
          0.015086206896551725,
          0.07291666666666667,
          0,
          0.04375,
          0,
          0,
          0.024305555555555556,
          0.03365384615384615,
          0.029166666666666667,
          0.03125,
          0.03125,
          0,
          0,
          0.21875,
          0
         ]
        },
        {
         "marker": {
          "color": "#0000CC"
         },
         "name": "A3 (0.75)",
         "type": "bar",
         "x": [
          "UFPE-3",
          "UFPE-4",
          "UFV-4",
          "UNB-3",
          "UNB-4",
          "UFRGS-4",
          "UFRN-4",
          "UERJ-4",
          "UNIFATEA-3",
          "UFAL-3",
          "UFU-3",
          "UFPA-4",
          "UFG-3",
          "UEL-4",
          "UFC-3",
          " FIAMFAAM-3",
          "UFF-4",
          "UFBA-4",
          "UNIVILLE-4",
          "USP/SC-4",
          "UFPB-JP-4",
          "USP-4",
          "UFRJ-6",
          "UFPEL-4",
          "UNESP-BAURU-4",
          "UFMG-6",
          "UPM-6",
          "UFRJ-4",
          "UFPR-4",
          "UFJF-4",
          "UNIFOR-3",
          "UFCG-3",
          "UFMA-3",
          "UNICAMP-5",
          "UFRGS-5",
          "UFRJ-5",
          "PUCCAMP-5",
          "UNISINOS-5",
          "USJT-4",
          "UFSC-5",
          "UFES-4",
          "PUC-RIO-5",
          "UDESC-4",
          "UNESP-BAURU-6",
          "UEMG-5",
          "UNIRITTER-4",
          "IMED-3",
          "UAM-5",
          "PUC-RIO-3",
          "UNISINOS-4"
         ],
         "y": [
          0,
          0,
          0,
          0,
          0,
          0,
          0,
          0,
          0,
          0,
          0,
          0,
          0.022058823529411766,
          0,
          0,
          0.0375,
          0.015,
          0,
          0,
          0,
          0,
          0.009533898305084746,
          0,
          0,
          0,
          0,
          0.017045454545454544,
          0.05,
          0,
          0,
          0,
          0.0234375,
          0.026785714285714284,
          0.015625,
          0.015,
          0.03879310344827586,
          0.03125,
          0,
          0,
          0.04551282051282052,
          0,
          0.020833333333333332,
          0,
          0.025,
          0,
          0.026785714285714284,
          0.03409090909090909,
          0.125,
          0.0375,
          0.03125
         ]
        },
        {
         "marker": {
          "color": "#0000FF"
         },
         "name": "A4 (0.625)",
         "type": "bar",
         "x": [
          "UFPE-3",
          "UFPE-4",
          "UFV-4",
          "UNB-3",
          "UNB-4",
          "UFRGS-4",
          "UFRN-4",
          "UERJ-4",
          "UNIFATEA-3",
          "UFAL-3",
          "UFU-3",
          "UFPA-4",
          "UFG-3",
          "UEL-4",
          "UFC-3",
          " FIAMFAAM-3",
          "UFF-4",
          "UFBA-4",
          "UNIVILLE-4",
          "USP/SC-4",
          "UFPB-JP-4",
          "USP-4",
          "UFRJ-6",
          "UFPEL-4",
          "UNESP-BAURU-4",
          "UFMG-6",
          "UPM-6",
          "UFRJ-4",
          "UFPR-4",
          "UFJF-4",
          "UNIFOR-3",
          "UFCG-3",
          "UFMA-3",
          "UNICAMP-5",
          "UFRGS-5",
          "UFRJ-5",
          "PUCCAMP-5",
          "UNISINOS-5",
          "USJT-4",
          "UFSC-5",
          "UFES-4",
          "PUC-RIO-5",
          "UDESC-4",
          "UNESP-BAURU-6",
          "UEMG-5",
          "UNIRITTER-4",
          "IMED-3",
          "UAM-5",
          "PUC-RIO-3",
          "UNISINOS-4"
         ],
         "y": [
          0,
          0,
          0,
          0,
          0.00744047619047619,
          0,
          0,
          0.015625,
          0,
          0,
          0,
          0.022321428571428572,
          0.01838235294117647,
          0.01838235294117647,
          0,
          0,
          0,
          0.017857142857142856,
          0,
          0.02533783783783784,
          0.01838235294117647,
          0.01059322033898305,
          0.028409090909090908,
          0.02717391304347826,
          0,
          0.0625,
          0,
          0.020833333333333332,
          0.0390625,
          0.028409090909090908,
          0.03125,
          0.05859375,
          0,
          0,
          0,
          0.021551724137931036,
          0,
          0.02403846153846154,
          0,
          0,
          0.11160714285714286,
          0.017361111111111112,
          0,
          0.041666666666666664,
          0.06696428571428571,
          0,
          0.08522727272727272,
          0.10416666666666667,
          0,
          0.026041666666666668
         ]
        },
        {
         "marker": {
          "color": "#003300"
         },
         "name": "B1 (0.5)",
         "type": "bar",
         "x": [
          "UFPE-3",
          "UFPE-4",
          "UFV-4",
          "UNB-3",
          "UNB-4",
          "UFRGS-4",
          "UFRN-4",
          "UERJ-4",
          "UNIFATEA-3",
          "UFAL-3",
          "UFU-3",
          "UFPA-4",
          "UFG-3",
          "UEL-4",
          "UFC-3",
          " FIAMFAAM-3",
          "UFF-4",
          "UFBA-4",
          "UNIVILLE-4",
          "USP/SC-4",
          "UFPB-JP-4",
          "USP-4",
          "UFRJ-6",
          "UFPEL-4",
          "UNESP-BAURU-4",
          "UFMG-6",
          "UPM-6",
          "UFRJ-4",
          "UFPR-4",
          "UFJF-4",
          "UNIFOR-3",
          "UFCG-3",
          "UFMA-3",
          "UNICAMP-5",
          "UFRGS-5",
          "UFRJ-5",
          "PUCCAMP-5",
          "UNISINOS-5",
          "USJT-4",
          "UFSC-5",
          "UFES-4",
          "PUC-RIO-5",
          "UDESC-4",
          "UNESP-BAURU-6",
          "UEMG-5",
          "UNIRITTER-4",
          "IMED-3",
          "UAM-5",
          "PUC-RIO-3",
          "UNISINOS-4"
         ],
         "y": [
          0,
          0,
          0,
          0,
          0,
          0,
          0,
          0,
          0.019230769230769232,
          0.017857142857142856,
          0.03125,
          0,
          0,
          0.014705882352941176,
          0,
          0,
          0,
          0.014285714285714285,
          0,
          0,
          0.014705882352941176,
          0.01059322033898305,
          0.022727272727272728,
          0.021739130434782608,
          0,
          0,
          0.011363636363636364,
          0,
          0,
          0,
          0,
          0.015625,
          0.017857142857142856,
          0,
          0.01,
          0.008620689655172414,
          0,
          0.07692307692307693,
          0.025,
          0.02478632478632479,
          0,
          0.041666666666666664,
          0,
          0,
          0.017857142857142856,
          0.05357142857142857,
          0.045454545454545456,
          0.041666666666666664,
          0,
          0.0625
         ]
        },
        {
         "marker": {
          "color": "#006600"
         },
         "name": "B2 (0.2)",
         "type": "bar",
         "x": [
          "UFPE-3",
          "UFPE-4",
          "UFV-4",
          "UNB-3",
          "UNB-4",
          "UFRGS-4",
          "UFRN-4",
          "UERJ-4",
          "UNIFATEA-3",
          "UFAL-3",
          "UFU-3",
          "UFPA-4",
          "UFG-3",
          "UEL-4",
          "UFC-3",
          " FIAMFAAM-3",
          "UFF-4",
          "UFBA-4",
          "UNIVILLE-4",
          "USP/SC-4",
          "UFPB-JP-4",
          "USP-4",
          "UFRJ-6",
          "UFPEL-4",
          "UNESP-BAURU-4",
          "UFMG-6",
          "UPM-6",
          "UFRJ-4",
          "UFPR-4",
          "UFJF-4",
          "UNIFOR-3",
          "UFCG-3",
          "UFMA-3",
          "UNICAMP-5",
          "UFRGS-5",
          "UFRJ-5",
          "PUCCAMP-5",
          "UNISINOS-5",
          "USJT-4",
          "UFSC-5",
          "UFES-4",
          "PUC-RIO-5",
          "UDESC-4",
          "UNESP-BAURU-6",
          "UEMG-5",
          "UNIRITTER-4",
          "IMED-3",
          "UAM-5",
          "PUC-RIO-3",
          "UNISINOS-4"
         ],
         "y": [
          0,
          0,
          0,
          0.006666666666666667,
          0,
          0.004166666666666667,
          0.011011904761904763,
          0,
          0,
          0,
          0,
          0.014285714285714287,
          0,
          0.0058823529411764705,
          0.0071428571428571435,
          0,
          0.004,
          0.009417989417989419,
          0.02727272727272728,
          0.008108108108108109,
          0.0058823529411764705,
          0.0008474576271186442,
          0.004545454545454546,
          0.008695652173913044,
          0.06363636363636364,
          0.004,
          0.04090909090909091,
          0.011111111111111112,
          0,
          0,
          0,
          0,
          0.021428571428571432,
          0.004166666666666667,
          0.012000000000000002,
          0.013793103448275864,
          0.016666666666666666,
          0.02307692307692308,
          0.05,
          0.035213675213675216,
          0.021428571428571432,
          0.011111111111111112,
          0.03076923076923077,
          0,
          0.0071428571428571435,
          0.04285714285714286,
          0,
          0,
          0.01,
          0.06666666666666667
         ]
        },
        {
         "marker": {
          "color": "#009900"
         },
         "name": "B3 (0.1)",
         "type": "bar",
         "x": [
          "UFPE-3",
          "UFPE-4",
          "UFV-4",
          "UNB-3",
          "UNB-4",
          "UFRGS-4",
          "UFRN-4",
          "UERJ-4",
          "UNIFATEA-3",
          "UFAL-3",
          "UFU-3",
          "UFPA-4",
          "UFG-3",
          "UEL-4",
          "UFC-3",
          " FIAMFAAM-3",
          "UFF-4",
          "UFBA-4",
          "UNIVILLE-4",
          "USP/SC-4",
          "UFPB-JP-4",
          "USP-4",
          "UFRJ-6",
          "UFPEL-4",
          "UNESP-BAURU-4",
          "UFMG-6",
          "UPM-6",
          "UFRJ-4",
          "UFPR-4",
          "UFJF-4",
          "UNIFOR-3",
          "UFCG-3",
          "UFMA-3",
          "UNICAMP-5",
          "UFRGS-5",
          "UFRJ-5",
          "PUCCAMP-5",
          "UNISINOS-5",
          "USJT-4",
          "UFSC-5",
          "UFES-4",
          "PUC-RIO-5",
          "UDESC-4",
          "UNESP-BAURU-6",
          "UEMG-5",
          "UNIRITTER-4",
          "IMED-3",
          "UAM-5",
          "PUC-RIO-3",
          "UNISINOS-4"
         ],
         "y": [
          0,
          0,
          0.004545454545454546,
          0,
          0.002380952380952381,
          0.006250000000000001,
          0.006926406926406927,
          0.0025,
          0,
          0,
          0.003125,
          0.0035714285714285718,
          0,
          0.0029411764705882353,
          0.0035714285714285718,
          0.005,
          0.008,
          0.006137566137566138,
          0.022727272727272728,
          0.008108108108108109,
          0.017647058823529415,
          0.005084745762711865,
          0.004545454545454546,
          0.008695652173913044,
          0.004545454545454546,
          0,
          0.011363636363636364,
          0,
          0.009375000000000001,
          0.009090909090909092,
          0.0025,
          0.003125,
          0,
          0.0020833333333333333,
          0,
          0.003448275862068966,
          0,
          0,
          0.01,
          0.01871794871794872,
          0.0071428571428571435,
          0,
          0.015384615384615385,
          0,
          0.0035714285714285718,
          0.01785714285714286,
          0.018181818181818184,
          0.008333333333333333,
          0.005,
          0.016666666666666666
         ]
        },
        {
         "marker": {
          "color": "#00CC00"
         },
         "name": "B4 (0.05)",
         "type": "bar",
         "x": [
          "UFPE-3",
          "UFPE-4",
          "UFV-4",
          "UNB-3",
          "UNB-4",
          "UFRGS-4",
          "UFRN-4",
          "UERJ-4",
          "UNIFATEA-3",
          "UFAL-3",
          "UFU-3",
          "UFPA-4",
          "UFG-3",
          "UEL-4",
          "UFC-3",
          " FIAMFAAM-3",
          "UFF-4",
          "UFBA-4",
          "UNIVILLE-4",
          "USP/SC-4",
          "UFPB-JP-4",
          "USP-4",
          "UFRJ-6",
          "UFPEL-4",
          "UNESP-BAURU-4",
          "UFMG-6",
          "UPM-6",
          "UFRJ-4",
          "UFPR-4",
          "UFJF-4",
          "UNIFOR-3",
          "UFCG-3",
          "UFMA-3",
          "UNICAMP-5",
          "UFRGS-5",
          "UFRJ-5",
          "PUCCAMP-5",
          "UNISINOS-5",
          "USJT-4",
          "UFSC-5",
          "UFES-4",
          "PUC-RIO-5",
          "UDESC-4",
          "UNESP-BAURU-6",
          "UEMG-5",
          "UNIRITTER-4",
          "IMED-3",
          "UAM-5",
          "PUC-RIO-3",
          "UNISINOS-4"
         ],
         "y": [
          0,
          0.0011363636363636365,
          0,
          0.0033333333333333335,
          0.0005952380952380953,
          0,
          0,
          0,
          0,
          0.0008928571428571429,
          0,
          0,
          0,
          0,
          0,
          0,
          0.001,
          0,
          0,
          0,
          0,
          0.0004237288135593221,
          0.0011363636363636365,
          0.0010869565217391304,
          0,
          0.002,
          0.0011363636363636365,
          0,
          0.003125,
          0,
          0,
          0,
          0.0017857142857142859,
          0,
          0.001,
          0.0008620689655172415,
          0,
          0.0019230769230769232,
          0,
          0.004957264957264958,
          0,
          0,
          0.0019230769230769232,
          0.0016666666666666668,
          0.005357142857142858,
          0.0017857142857142859,
          0,
          0.0020833333333333333,
          0,
          0
         ]
        },
        {
         "marker": {
          "color": "#00FF00"
         },
         "name": "B5 (0)",
         "type": "bar",
         "x": [
          "UFPE-3",
          "UFPE-4",
          "UFV-4",
          "UNB-3",
          "UNB-4",
          "UFRGS-4",
          "UFRN-4",
          "UERJ-4",
          "UNIFATEA-3",
          "UFAL-3",
          "UFU-3",
          "UFPA-4",
          "UFG-3",
          "UEL-4",
          "UFC-3",
          " FIAMFAAM-3",
          "UFF-4",
          "UFBA-4",
          "UNIVILLE-4",
          "USP/SC-4",
          "UFPB-JP-4",
          "USP-4",
          "UFRJ-6",
          "UFPEL-4",
          "UNESP-BAURU-4",
          "UFMG-6",
          "UPM-6",
          "UFRJ-4",
          "UFPR-4",
          "UFJF-4",
          "UNIFOR-3",
          "UFCG-3",
          "UFMA-3",
          "UNICAMP-5",
          "UFRGS-5",
          "UFRJ-5",
          "PUCCAMP-5",
          "UNISINOS-5",
          "USJT-4",
          "UFSC-5",
          "UFES-4",
          "PUC-RIO-5",
          "UDESC-4",
          "UNESP-BAURU-6",
          "UEMG-5",
          "UNIRITTER-4",
          "IMED-3",
          "UAM-5",
          "PUC-RIO-3",
          "UNISINOS-4"
         ],
         "y": [
          0,
          0,
          0,
          0,
          0,
          0,
          0,
          0,
          0,
          0,
          0,
          0,
          0,
          0,
          0,
          0,
          0,
          0,
          0,
          0,
          0,
          0,
          0,
          0,
          0,
          0,
          0,
          0,
          0,
          0,
          0,
          0,
          0,
          0,
          0,
          0,
          0,
          0,
          0,
          0,
          0,
          0,
          0,
          0,
          0,
          0,
          0,
          0,
          0,
          0
         ]
        },
        {
         "marker": {
          "color": "#880000"
         },
         "name": "C (0)",
         "type": "bar",
         "x": [
          "UFPE-3",
          "UFPE-4",
          "UFV-4",
          "UNB-3",
          "UNB-4",
          "UFRGS-4",
          "UFRN-4",
          "UERJ-4",
          "UNIFATEA-3",
          "UFAL-3",
          "UFU-3",
          "UFPA-4",
          "UFG-3",
          "UEL-4",
          "UFC-3",
          " FIAMFAAM-3",
          "UFF-4",
          "UFBA-4",
          "UNIVILLE-4",
          "USP/SC-4",
          "UFPB-JP-4",
          "USP-4",
          "UFRJ-6",
          "UFPEL-4",
          "UNESP-BAURU-4",
          "UFMG-6",
          "UPM-6",
          "UFRJ-4",
          "UFPR-4",
          "UFJF-4",
          "UNIFOR-3",
          "UFCG-3",
          "UFMA-3",
          "UNICAMP-5",
          "UFRGS-5",
          "UFRJ-5",
          "PUCCAMP-5",
          "UNISINOS-5",
          "USJT-4",
          "UFSC-5",
          "UFES-4",
          "PUC-RIO-5",
          "UDESC-4",
          "UNESP-BAURU-6",
          "UEMG-5",
          "UNIRITTER-4",
          "IMED-3",
          "UAM-5",
          "PUC-RIO-3",
          "UNISINOS-4"
         ],
         "y": [
          0,
          0,
          0,
          0,
          0,
          0,
          0,
          0,
          0,
          0,
          0,
          0,
          0,
          0,
          0,
          0,
          0,
          0,
          0,
          0,
          0,
          0,
          0,
          0,
          0,
          0,
          0,
          0,
          0,
          0,
          0,
          0,
          0,
          0,
          0,
          0,
          0,
          0,
          0,
          0,
          0,
          0,
          0,
          0,
          0,
          0,
          0,
          0,
          0,
          0
         ]
        },
        {
         "marker": {
          "color": "#CC0000"
         },
         "name": "NA (0)",
         "type": "bar",
         "x": [
          "UFPE-3",
          "UFPE-4",
          "UFV-4",
          "UNB-3",
          "UNB-4",
          "UFRGS-4",
          "UFRN-4",
          "UERJ-4",
          "UNIFATEA-3",
          "UFAL-3",
          "UFU-3",
          "UFPA-4",
          "UFG-3",
          "UEL-4",
          "UFC-3",
          " FIAMFAAM-3",
          "UFF-4",
          "UFBA-4",
          "UNIVILLE-4",
          "USP/SC-4",
          "UFPB-JP-4",
          "USP-4",
          "UFRJ-6",
          "UFPEL-4",
          "UNESP-BAURU-4",
          "UFMG-6",
          "UPM-6",
          "UFRJ-4",
          "UFPR-4",
          "UFJF-4",
          "UNIFOR-3",
          "UFCG-3",
          "UFMA-3",
          "UNICAMP-5",
          "UFRGS-5",
          "UFRJ-5",
          "PUCCAMP-5",
          "UNISINOS-5",
          "USJT-4",
          "UFSC-5",
          "UFES-4",
          "PUC-RIO-5",
          "UDESC-4",
          "UNESP-BAURU-6",
          "UEMG-5",
          "UNIRITTER-4",
          "IMED-3",
          "UAM-5",
          "PUC-RIO-3",
          "UNISINOS-4"
         ],
         "y": [
          0,
          0,
          0,
          0,
          0,
          0,
          0,
          0,
          0,
          0,
          0,
          0,
          0,
          0,
          0,
          0,
          0,
          0,
          0,
          0,
          0,
          0,
          0,
          0,
          0,
          0,
          0,
          0,
          0,
          0,
          0,
          0,
          0,
          0,
          0,
          0,
          0,
          0,
          0,
          0,
          0,
          0,
          0,
          0,
          0,
          0,
          0,
          0,
          0,
          0
         ]
        },
        {
         "marker": {
          "color": "#FF0000"
         },
         "name": "NP (0)",
         "type": "bar",
         "x": [
          "UFPE-3",
          "UFPE-4",
          "UFV-4",
          "UNB-3",
          "UNB-4",
          "UFRGS-4",
          "UFRN-4",
          "UERJ-4",
          "UNIFATEA-3",
          "UFAL-3",
          "UFU-3",
          "UFPA-4",
          "UFG-3",
          "UEL-4",
          "UFC-3",
          " FIAMFAAM-3",
          "UFF-4",
          "UFBA-4",
          "UNIVILLE-4",
          "USP/SC-4",
          "UFPB-JP-4",
          "USP-4",
          "UFRJ-6",
          "UFPEL-4",
          "UNESP-BAURU-4",
          "UFMG-6",
          "UPM-6",
          "UFRJ-4",
          "UFPR-4",
          "UFJF-4",
          "UNIFOR-3",
          "UFCG-3",
          "UFMA-3",
          "UNICAMP-5",
          "UFRGS-5",
          "UFRJ-5",
          "PUCCAMP-5",
          "UNISINOS-5",
          "USJT-4",
          "UFSC-5",
          "UFES-4",
          "PUC-RIO-5",
          "UDESC-4",
          "UNESP-BAURU-6",
          "UEMG-5",
          "UNIRITTER-4",
          "IMED-3",
          "UAM-5",
          "PUC-RIO-3",
          "UNISINOS-4"
         ],
         "y": [
          0,
          0,
          0,
          0,
          0,
          0,
          0,
          0,
          0,
          0,
          0,
          0,
          0,
          0,
          0,
          0,
          0,
          0,
          0,
          0,
          0,
          0,
          0,
          0,
          0,
          0,
          0,
          0,
          0,
          0,
          0,
          0,
          0,
          0,
          0,
          0,
          0,
          0,
          0,
          0,
          0,
          0,
          0,
          0,
          0,
          0,
          0,
          0,
          0,
          0
         ]
        }
       ],
       "layout": {
        "barmode": "stack",
        "template": {
         "data": {
          "bar": [
           {
            "error_x": {
             "color": "#2a3f5f"
            },
            "error_y": {
             "color": "#2a3f5f"
            },
            "marker": {
             "line": {
              "color": "#E5ECF6",
              "width": 0.5
             }
            },
            "type": "bar"
           }
          ],
          "barpolar": [
           {
            "marker": {
             "line": {
              "color": "#E5ECF6",
              "width": 0.5
             }
            },
            "type": "barpolar"
           }
          ],
          "carpet": [
           {
            "aaxis": {
             "endlinecolor": "#2a3f5f",
             "gridcolor": "white",
             "linecolor": "white",
             "minorgridcolor": "white",
             "startlinecolor": "#2a3f5f"
            },
            "baxis": {
             "endlinecolor": "#2a3f5f",
             "gridcolor": "white",
             "linecolor": "white",
             "minorgridcolor": "white",
             "startlinecolor": "#2a3f5f"
            },
            "type": "carpet"
           }
          ],
          "choropleth": [
           {
            "colorbar": {
             "outlinewidth": 0,
             "ticks": ""
            },
            "type": "choropleth"
           }
          ],
          "contour": [
           {
            "colorbar": {
             "outlinewidth": 0,
             "ticks": ""
            },
            "colorscale": [
             [
              0,
              "#0d0887"
             ],
             [
              0.1111111111111111,
              "#46039f"
             ],
             [
              0.2222222222222222,
              "#7201a8"
             ],
             [
              0.3333333333333333,
              "#9c179e"
             ],
             [
              0.4444444444444444,
              "#bd3786"
             ],
             [
              0.5555555555555556,
              "#d8576b"
             ],
             [
              0.6666666666666666,
              "#ed7953"
             ],
             [
              0.7777777777777778,
              "#fb9f3a"
             ],
             [
              0.8888888888888888,
              "#fdca26"
             ],
             [
              1,
              "#f0f921"
             ]
            ],
            "type": "contour"
           }
          ],
          "contourcarpet": [
           {
            "colorbar": {
             "outlinewidth": 0,
             "ticks": ""
            },
            "type": "contourcarpet"
           }
          ],
          "heatmap": [
           {
            "colorbar": {
             "outlinewidth": 0,
             "ticks": ""
            },
            "colorscale": [
             [
              0,
              "#0d0887"
             ],
             [
              0.1111111111111111,
              "#46039f"
             ],
             [
              0.2222222222222222,
              "#7201a8"
             ],
             [
              0.3333333333333333,
              "#9c179e"
             ],
             [
              0.4444444444444444,
              "#bd3786"
             ],
             [
              0.5555555555555556,
              "#d8576b"
             ],
             [
              0.6666666666666666,
              "#ed7953"
             ],
             [
              0.7777777777777778,
              "#fb9f3a"
             ],
             [
              0.8888888888888888,
              "#fdca26"
             ],
             [
              1,
              "#f0f921"
             ]
            ],
            "type": "heatmap"
           }
          ],
          "heatmapgl": [
           {
            "colorbar": {
             "outlinewidth": 0,
             "ticks": ""
            },
            "colorscale": [
             [
              0,
              "#0d0887"
             ],
             [
              0.1111111111111111,
              "#46039f"
             ],
             [
              0.2222222222222222,
              "#7201a8"
             ],
             [
              0.3333333333333333,
              "#9c179e"
             ],
             [
              0.4444444444444444,
              "#bd3786"
             ],
             [
              0.5555555555555556,
              "#d8576b"
             ],
             [
              0.6666666666666666,
              "#ed7953"
             ],
             [
              0.7777777777777778,
              "#fb9f3a"
             ],
             [
              0.8888888888888888,
              "#fdca26"
             ],
             [
              1,
              "#f0f921"
             ]
            ],
            "type": "heatmapgl"
           }
          ],
          "histogram": [
           {
            "marker": {
             "colorbar": {
              "outlinewidth": 0,
              "ticks": ""
             }
            },
            "type": "histogram"
           }
          ],
          "histogram2d": [
           {
            "colorbar": {
             "outlinewidth": 0,
             "ticks": ""
            },
            "colorscale": [
             [
              0,
              "#0d0887"
             ],
             [
              0.1111111111111111,
              "#46039f"
             ],
             [
              0.2222222222222222,
              "#7201a8"
             ],
             [
              0.3333333333333333,
              "#9c179e"
             ],
             [
              0.4444444444444444,
              "#bd3786"
             ],
             [
              0.5555555555555556,
              "#d8576b"
             ],
             [
              0.6666666666666666,
              "#ed7953"
             ],
             [
              0.7777777777777778,
              "#fb9f3a"
             ],
             [
              0.8888888888888888,
              "#fdca26"
             ],
             [
              1,
              "#f0f921"
             ]
            ],
            "type": "histogram2d"
           }
          ],
          "histogram2dcontour": [
           {
            "colorbar": {
             "outlinewidth": 0,
             "ticks": ""
            },
            "colorscale": [
             [
              0,
              "#0d0887"
             ],
             [
              0.1111111111111111,
              "#46039f"
             ],
             [
              0.2222222222222222,
              "#7201a8"
             ],
             [
              0.3333333333333333,
              "#9c179e"
             ],
             [
              0.4444444444444444,
              "#bd3786"
             ],
             [
              0.5555555555555556,
              "#d8576b"
             ],
             [
              0.6666666666666666,
              "#ed7953"
             ],
             [
              0.7777777777777778,
              "#fb9f3a"
             ],
             [
              0.8888888888888888,
              "#fdca26"
             ],
             [
              1,
              "#f0f921"
             ]
            ],
            "type": "histogram2dcontour"
           }
          ],
          "mesh3d": [
           {
            "colorbar": {
             "outlinewidth": 0,
             "ticks": ""
            },
            "type": "mesh3d"
           }
          ],
          "parcoords": [
           {
            "line": {
             "colorbar": {
              "outlinewidth": 0,
              "ticks": ""
             }
            },
            "type": "parcoords"
           }
          ],
          "pie": [
           {
            "automargin": true,
            "type": "pie"
           }
          ],
          "scatter": [
           {
            "marker": {
             "colorbar": {
              "outlinewidth": 0,
              "ticks": ""
             }
            },
            "type": "scatter"
           }
          ],
          "scatter3d": [
           {
            "line": {
             "colorbar": {
              "outlinewidth": 0,
              "ticks": ""
             }
            },
            "marker": {
             "colorbar": {
              "outlinewidth": 0,
              "ticks": ""
             }
            },
            "type": "scatter3d"
           }
          ],
          "scattercarpet": [
           {
            "marker": {
             "colorbar": {
              "outlinewidth": 0,
              "ticks": ""
             }
            },
            "type": "scattercarpet"
           }
          ],
          "scattergeo": [
           {
            "marker": {
             "colorbar": {
              "outlinewidth": 0,
              "ticks": ""
             }
            },
            "type": "scattergeo"
           }
          ],
          "scattergl": [
           {
            "marker": {
             "colorbar": {
              "outlinewidth": 0,
              "ticks": ""
             }
            },
            "type": "scattergl"
           }
          ],
          "scattermapbox": [
           {
            "marker": {
             "colorbar": {
              "outlinewidth": 0,
              "ticks": ""
             }
            },
            "type": "scattermapbox"
           }
          ],
          "scatterpolar": [
           {
            "marker": {
             "colorbar": {
              "outlinewidth": 0,
              "ticks": ""
             }
            },
            "type": "scatterpolar"
           }
          ],
          "scatterpolargl": [
           {
            "marker": {
             "colorbar": {
              "outlinewidth": 0,
              "ticks": ""
             }
            },
            "type": "scatterpolargl"
           }
          ],
          "scatterternary": [
           {
            "marker": {
             "colorbar": {
              "outlinewidth": 0,
              "ticks": ""
             }
            },
            "type": "scatterternary"
           }
          ],
          "surface": [
           {
            "colorbar": {
             "outlinewidth": 0,
             "ticks": ""
            },
            "colorscale": [
             [
              0,
              "#0d0887"
             ],
             [
              0.1111111111111111,
              "#46039f"
             ],
             [
              0.2222222222222222,
              "#7201a8"
             ],
             [
              0.3333333333333333,
              "#9c179e"
             ],
             [
              0.4444444444444444,
              "#bd3786"
             ],
             [
              0.5555555555555556,
              "#d8576b"
             ],
             [
              0.6666666666666666,
              "#ed7953"
             ],
             [
              0.7777777777777778,
              "#fb9f3a"
             ],
             [
              0.8888888888888888,
              "#fdca26"
             ],
             [
              1,
              "#f0f921"
             ]
            ],
            "type": "surface"
           }
          ],
          "table": [
           {
            "cells": {
             "fill": {
              "color": "#EBF0F8"
             },
             "line": {
              "color": "white"
             }
            },
            "header": {
             "fill": {
              "color": "#C8D4E3"
             },
             "line": {
              "color": "white"
             }
            },
            "type": "table"
           }
          ]
         },
         "layout": {
          "annotationdefaults": {
           "arrowcolor": "#2a3f5f",
           "arrowhead": 0,
           "arrowwidth": 1
          },
          "coloraxis": {
           "colorbar": {
            "outlinewidth": 0,
            "ticks": ""
           }
          },
          "colorscale": {
           "diverging": [
            [
             0,
             "#8e0152"
            ],
            [
             0.1,
             "#c51b7d"
            ],
            [
             0.2,
             "#de77ae"
            ],
            [
             0.3,
             "#f1b6da"
            ],
            [
             0.4,
             "#fde0ef"
            ],
            [
             0.5,
             "#f7f7f7"
            ],
            [
             0.6,
             "#e6f5d0"
            ],
            [
             0.7,
             "#b8e186"
            ],
            [
             0.8,
             "#7fbc41"
            ],
            [
             0.9,
             "#4d9221"
            ],
            [
             1,
             "#276419"
            ]
           ],
           "sequential": [
            [
             0,
             "#0d0887"
            ],
            [
             0.1111111111111111,
             "#46039f"
            ],
            [
             0.2222222222222222,
             "#7201a8"
            ],
            [
             0.3333333333333333,
             "#9c179e"
            ],
            [
             0.4444444444444444,
             "#bd3786"
            ],
            [
             0.5555555555555556,
             "#d8576b"
            ],
            [
             0.6666666666666666,
             "#ed7953"
            ],
            [
             0.7777777777777778,
             "#fb9f3a"
            ],
            [
             0.8888888888888888,
             "#fdca26"
            ],
            [
             1,
             "#f0f921"
            ]
           ],
           "sequentialminus": [
            [
             0,
             "#0d0887"
            ],
            [
             0.1111111111111111,
             "#46039f"
            ],
            [
             0.2222222222222222,
             "#7201a8"
            ],
            [
             0.3333333333333333,
             "#9c179e"
            ],
            [
             0.4444444444444444,
             "#bd3786"
            ],
            [
             0.5555555555555556,
             "#d8576b"
            ],
            [
             0.6666666666666666,
             "#ed7953"
            ],
            [
             0.7777777777777778,
             "#fb9f3a"
            ],
            [
             0.8888888888888888,
             "#fdca26"
            ],
            [
             1,
             "#f0f921"
            ]
           ]
          },
          "colorway": [
           "#636efa",
           "#EF553B",
           "#00cc96",
           "#ab63fa",
           "#FFA15A",
           "#19d3f3",
           "#FF6692",
           "#B6E880",
           "#FF97FF",
           "#FECB52"
          ],
          "font": {
           "color": "#2a3f5f"
          },
          "geo": {
           "bgcolor": "white",
           "lakecolor": "white",
           "landcolor": "#E5ECF6",
           "showlakes": true,
           "showland": true,
           "subunitcolor": "white"
          },
          "hoverlabel": {
           "align": "left"
          },
          "hovermode": "closest",
          "mapbox": {
           "style": "light"
          },
          "paper_bgcolor": "white",
          "plot_bgcolor": "#E5ECF6",
          "polar": {
           "angularaxis": {
            "gridcolor": "white",
            "linecolor": "white",
            "ticks": ""
           },
           "bgcolor": "#E5ECF6",
           "radialaxis": {
            "gridcolor": "white",
            "linecolor": "white",
            "ticks": ""
           }
          },
          "scene": {
           "xaxis": {
            "backgroundcolor": "#E5ECF6",
            "gridcolor": "white",
            "gridwidth": 2,
            "linecolor": "white",
            "showbackground": true,
            "ticks": "",
            "zerolinecolor": "white"
           },
           "yaxis": {
            "backgroundcolor": "#E5ECF6",
            "gridcolor": "white",
            "gridwidth": 2,
            "linecolor": "white",
            "showbackground": true,
            "ticks": "",
            "zerolinecolor": "white"
           },
           "zaxis": {
            "backgroundcolor": "#E5ECF6",
            "gridcolor": "white",
            "gridwidth": 2,
            "linecolor": "white",
            "showbackground": true,
            "ticks": "",
            "zerolinecolor": "white"
           }
          },
          "shapedefaults": {
           "line": {
            "color": "#2a3f5f"
           }
          },
          "ternary": {
           "aaxis": {
            "gridcolor": "white",
            "linecolor": "white",
            "ticks": ""
           },
           "baxis": {
            "gridcolor": "white",
            "linecolor": "white",
            "ticks": ""
           },
           "bgcolor": "#E5ECF6",
           "caxis": {
            "gridcolor": "white",
            "linecolor": "white",
            "ticks": ""
           }
          },
          "title": {
           "x": 0.05
          },
          "xaxis": {
           "automargin": true,
           "gridcolor": "white",
           "linecolor": "white",
           "ticks": "",
           "title": {
            "standoff": 15
           },
           "zerolinecolor": "white",
           "zerolinewidth": 2
          },
          "yaxis": {
           "automargin": true,
           "gridcolor": "white",
           "linecolor": "white",
           "ticks": "",
           "title": {
            "standoff": 15
           },
           "zerolinecolor": "white",
           "zerolinewidth": 2
          }
         }
        },
        "title": {
         "font": {
          "color": "#000000",
          "size": 20
         },
         "text": "Periódicos por Docentes (Permanentes + Colaboradores)",
         "x": 0.5,
         "xanchor": "center"
        },
        "xaxis": {
         "title": {
          "text": "Instituição"
         }
        }
       }
      },
      "text/html": [
       "<div>\n",
       "        \n",
       "        \n",
       "            <div id=\"1b8f11dc-f492-4abd-a761-f8edaaf34453\" class=\"plotly-graph-div\" style=\"height:525px; width:100%;\"></div>\n",
       "            <script type=\"text/javascript\">\n",
       "                require([\"plotly\"], function(Plotly) {\n",
       "                    window.PLOTLYENV=window.PLOTLYENV || {};\n",
       "                    \n",
       "                if (document.getElementById(\"1b8f11dc-f492-4abd-a761-f8edaaf34453\")) {\n",
       "                    Plotly.newPlot(\n",
       "                        '1b8f11dc-f492-4abd-a761-f8edaaf34453',\n",
       "                        [{\"marker\": {\"color\": \"#000044\"}, \"name\": \"A1 (1)\", \"type\": \"bar\", \"x\": [\"UFPE-3\", \"UFPE-4\", \"UFV-4\", \"UNB-3\", \"UNB-4\", \"UFRGS-4\", \"UFRN-4\", \"UERJ-4\", \"UNIFATEA-3\", \"UFAL-3\", \"UFU-3\", \"UFPA-4\", \"UFG-3\", \"UEL-4\", \"UFC-3\", \" FIAMFAAM-3\", \"UFF-4\", \"UFBA-4\", \"UNIVILLE-4\", \"USP/SC-4\", \"UFPB-JP-4\", \"USP-4\", \"UFRJ-6\", \"UFPEL-4\", \"UNESP-BAURU-4\", \"UFMG-6\", \"UPM-6\", \"UFRJ-4\", \"UFPR-4\", \"UFJF-4\", \"UNIFOR-3\", \"UFCG-3\", \"UFMA-3\", \"UNICAMP-5\", \"UFRGS-5\", \"UFRJ-5\", \"PUCCAMP-5\", \"UNISINOS-5\", \"USJT-4\", \"UFSC-5\", \"UFES-4\", \"PUC-RIO-5\", \"UDESC-4\", \"UNESP-BAURU-6\", \"UEMG-5\", \"UNIRITTER-4\", \"IMED-3\", \"UAM-5\", \"PUC-RIO-3\", \"UNISINOS-4\"], \"y\": [0.0, 0.0, 0.0, 0.0, 0.0, 0.0, 0.0, 0.0, 0.0, 0.0, 0.0, 0.0, 0.0, 0.0, 0.0, 0.0, 0.0, 0.0, 0.0, 0.0, 0.0, 0.012711864406779662, 0.0, 0.0, 0.0, 0.0, 0.0, 0.0, 0.03125, 0.045454545454545456, 0.05, 0.0, 0.03571428571428571, 0.08333333333333333, 0.06, 0.017241379310344827, 0.0, 0.0, 0.0, 0.0, 0.0, 0.027777777777777776, 0.07692307692307693, 0.06666666666666667, 0.07142857142857142, 0.03571428571428571, 0.09090909090909091, 0.0, 0.05, 0.16666666666666666]}, {\"marker\": {\"color\": \"#000088\"}, \"name\": \"A2 (0.875)\", \"type\": \"bar\", \"x\": [\"UFPE-3\", \"UFPE-4\", \"UFV-4\", \"UNB-3\", \"UNB-4\", \"UFRGS-4\", \"UFRN-4\", \"UERJ-4\", \"UNIFATEA-3\", \"UFAL-3\", \"UFU-3\", \"UFPA-4\", \"UFG-3\", \"UEL-4\", \"UFC-3\", \" FIAMFAAM-3\", \"UFF-4\", \"UFBA-4\", \"UNIVILLE-4\", \"USP/SC-4\", \"UFPB-JP-4\", \"USP-4\", \"UFRJ-6\", \"UFPEL-4\", \"UNESP-BAURU-4\", \"UFMG-6\", \"UPM-6\", \"UFRJ-4\", \"UFPR-4\", \"UFJF-4\", \"UNIFOR-3\", \"UFCG-3\", \"UFMA-3\", \"UNICAMP-5\", \"UFRGS-5\", \"UFRJ-5\", \"PUCCAMP-5\", \"UNISINOS-5\", \"USJT-4\", \"UFSC-5\", \"UFES-4\", \"PUC-RIO-5\", \"UDESC-4\", \"UNESP-BAURU-6\", \"UEMG-5\", \"UNIRITTER-4\", \"IMED-3\", \"UAM-5\", \"PUC-RIO-3\", \"UNISINOS-4\"], \"y\": [0.0, 0.0, 0.0, 0.0, 0.0, 0.0, 0.0, 0.0, 0.0, 0.015625, 0.0, 0.0, 0.0, 0.0, 0.03125, 0.0, 0.0175, 0.0, 0.0, 0.011824324324324325, 0.0, 0.011122881355932203, 0.0, 0.0, 0.0, 0.0, 0.0, 0.0, 0.0, 0.0, 0.0, 0.0, 0.0, 0.0, 0.0175, 0.015086206896551725, 0.07291666666666667, 0.0, 0.04375, 0.0, 0.0, 0.024305555555555556, 0.03365384615384615, 0.029166666666666667, 0.03125, 0.03125, 0.0, 0.0, 0.21875, 0.0]}, {\"marker\": {\"color\": \"#0000CC\"}, \"name\": \"A3 (0.75)\", \"type\": \"bar\", \"x\": [\"UFPE-3\", \"UFPE-4\", \"UFV-4\", \"UNB-3\", \"UNB-4\", \"UFRGS-4\", \"UFRN-4\", \"UERJ-4\", \"UNIFATEA-3\", \"UFAL-3\", \"UFU-3\", \"UFPA-4\", \"UFG-3\", \"UEL-4\", \"UFC-3\", \" FIAMFAAM-3\", \"UFF-4\", \"UFBA-4\", \"UNIVILLE-4\", \"USP/SC-4\", \"UFPB-JP-4\", \"USP-4\", \"UFRJ-6\", \"UFPEL-4\", \"UNESP-BAURU-4\", \"UFMG-6\", \"UPM-6\", \"UFRJ-4\", \"UFPR-4\", \"UFJF-4\", \"UNIFOR-3\", \"UFCG-3\", \"UFMA-3\", \"UNICAMP-5\", \"UFRGS-5\", \"UFRJ-5\", \"PUCCAMP-5\", \"UNISINOS-5\", \"USJT-4\", \"UFSC-5\", \"UFES-4\", \"PUC-RIO-5\", \"UDESC-4\", \"UNESP-BAURU-6\", \"UEMG-5\", \"UNIRITTER-4\", \"IMED-3\", \"UAM-5\", \"PUC-RIO-3\", \"UNISINOS-4\"], \"y\": [0.0, 0.0, 0.0, 0.0, 0.0, 0.0, 0.0, 0.0, 0.0, 0.0, 0.0, 0.0, 0.022058823529411766, 0.0, 0.0, 0.0375, 0.015, 0.0, 0.0, 0.0, 0.0, 0.009533898305084746, 0.0, 0.0, 0.0, 0.0, 0.017045454545454544, 0.05, 0.0, 0.0, 0.0, 0.0234375, 0.026785714285714284, 0.015625, 0.015, 0.03879310344827586, 0.03125, 0.0, 0.0, 0.04551282051282052, 0.0, 0.020833333333333332, 0.0, 0.025, 0.0, 0.026785714285714284, 0.03409090909090909, 0.125, 0.0375, 0.03125]}, {\"marker\": {\"color\": \"#0000FF\"}, \"name\": \"A4 (0.625)\", \"type\": \"bar\", \"x\": [\"UFPE-3\", \"UFPE-4\", \"UFV-4\", \"UNB-3\", \"UNB-4\", \"UFRGS-4\", \"UFRN-4\", \"UERJ-4\", \"UNIFATEA-3\", \"UFAL-3\", \"UFU-3\", \"UFPA-4\", \"UFG-3\", \"UEL-4\", \"UFC-3\", \" FIAMFAAM-3\", \"UFF-4\", \"UFBA-4\", \"UNIVILLE-4\", \"USP/SC-4\", \"UFPB-JP-4\", \"USP-4\", \"UFRJ-6\", \"UFPEL-4\", \"UNESP-BAURU-4\", \"UFMG-6\", \"UPM-6\", \"UFRJ-4\", \"UFPR-4\", \"UFJF-4\", \"UNIFOR-3\", \"UFCG-3\", \"UFMA-3\", \"UNICAMP-5\", \"UFRGS-5\", \"UFRJ-5\", \"PUCCAMP-5\", \"UNISINOS-5\", \"USJT-4\", \"UFSC-5\", \"UFES-4\", \"PUC-RIO-5\", \"UDESC-4\", \"UNESP-BAURU-6\", \"UEMG-5\", \"UNIRITTER-4\", \"IMED-3\", \"UAM-5\", \"PUC-RIO-3\", \"UNISINOS-4\"], \"y\": [0.0, 0.0, 0.0, 0.0, 0.00744047619047619, 0.0, 0.0, 0.015625, 0.0, 0.0, 0.0, 0.022321428571428572, 0.01838235294117647, 0.01838235294117647, 0.0, 0.0, 0.0, 0.017857142857142856, 0.0, 0.02533783783783784, 0.01838235294117647, 0.01059322033898305, 0.028409090909090908, 0.02717391304347826, 0.0, 0.0625, 0.0, 0.020833333333333332, 0.0390625, 0.028409090909090908, 0.03125, 0.05859375, 0.0, 0.0, 0.0, 0.021551724137931036, 0.0, 0.02403846153846154, 0.0, 0.0, 0.11160714285714286, 0.017361111111111112, 0.0, 0.041666666666666664, 0.06696428571428571, 0.0, 0.08522727272727272, 0.10416666666666667, 0.0, 0.026041666666666668]}, {\"marker\": {\"color\": \"#003300\"}, \"name\": \"B1 (0.5)\", \"type\": \"bar\", \"x\": [\"UFPE-3\", \"UFPE-4\", \"UFV-4\", \"UNB-3\", \"UNB-4\", \"UFRGS-4\", \"UFRN-4\", \"UERJ-4\", \"UNIFATEA-3\", \"UFAL-3\", \"UFU-3\", \"UFPA-4\", \"UFG-3\", \"UEL-4\", \"UFC-3\", \" FIAMFAAM-3\", \"UFF-4\", \"UFBA-4\", \"UNIVILLE-4\", \"USP/SC-4\", \"UFPB-JP-4\", \"USP-4\", \"UFRJ-6\", \"UFPEL-4\", \"UNESP-BAURU-4\", \"UFMG-6\", \"UPM-6\", \"UFRJ-4\", \"UFPR-4\", \"UFJF-4\", \"UNIFOR-3\", \"UFCG-3\", \"UFMA-3\", \"UNICAMP-5\", \"UFRGS-5\", \"UFRJ-5\", \"PUCCAMP-5\", \"UNISINOS-5\", \"USJT-4\", \"UFSC-5\", \"UFES-4\", \"PUC-RIO-5\", \"UDESC-4\", \"UNESP-BAURU-6\", \"UEMG-5\", \"UNIRITTER-4\", \"IMED-3\", \"UAM-5\", \"PUC-RIO-3\", \"UNISINOS-4\"], \"y\": [0.0, 0.0, 0.0, 0.0, 0.0, 0.0, 0.0, 0.0, 0.019230769230769232, 0.017857142857142856, 0.03125, 0.0, 0.0, 0.014705882352941176, 0.0, 0.0, 0.0, 0.014285714285714285, 0.0, 0.0, 0.014705882352941176, 0.01059322033898305, 0.022727272727272728, 0.021739130434782608, 0.0, 0.0, 0.011363636363636364, 0.0, 0.0, 0.0, 0.0, 0.015625, 0.017857142857142856, 0.0, 0.01, 0.008620689655172414, 0.0, 0.07692307692307693, 0.025, 0.02478632478632479, 0.0, 0.041666666666666664, 0.0, 0.0, 0.017857142857142856, 0.05357142857142857, 0.045454545454545456, 0.041666666666666664, 0.0, 0.0625]}, {\"marker\": {\"color\": \"#006600\"}, \"name\": \"B2 (0.2)\", \"type\": \"bar\", \"x\": [\"UFPE-3\", \"UFPE-4\", \"UFV-4\", \"UNB-3\", \"UNB-4\", \"UFRGS-4\", \"UFRN-4\", \"UERJ-4\", \"UNIFATEA-3\", \"UFAL-3\", \"UFU-3\", \"UFPA-4\", \"UFG-3\", \"UEL-4\", \"UFC-3\", \" FIAMFAAM-3\", \"UFF-4\", \"UFBA-4\", \"UNIVILLE-4\", \"USP/SC-4\", \"UFPB-JP-4\", \"USP-4\", \"UFRJ-6\", \"UFPEL-4\", \"UNESP-BAURU-4\", \"UFMG-6\", \"UPM-6\", \"UFRJ-4\", \"UFPR-4\", \"UFJF-4\", \"UNIFOR-3\", \"UFCG-3\", \"UFMA-3\", \"UNICAMP-5\", \"UFRGS-5\", \"UFRJ-5\", \"PUCCAMP-5\", \"UNISINOS-5\", \"USJT-4\", \"UFSC-5\", \"UFES-4\", \"PUC-RIO-5\", \"UDESC-4\", \"UNESP-BAURU-6\", \"UEMG-5\", \"UNIRITTER-4\", \"IMED-3\", \"UAM-5\", \"PUC-RIO-3\", \"UNISINOS-4\"], \"y\": [0.0, 0.0, 0.0, 0.006666666666666667, 0.0, 0.004166666666666667, 0.011011904761904763, 0.0, 0.0, 0.0, 0.0, 0.014285714285714287, 0.0, 0.0058823529411764705, 0.0071428571428571435, 0.0, 0.004, 0.009417989417989419, 0.02727272727272728, 0.008108108108108109, 0.0058823529411764705, 0.0008474576271186442, 0.004545454545454546, 0.008695652173913044, 0.06363636363636364, 0.004, 0.04090909090909091, 0.011111111111111112, 0.0, 0.0, 0.0, 0.0, 0.021428571428571432, 0.004166666666666667, 0.012000000000000002, 0.013793103448275864, 0.016666666666666666, 0.02307692307692308, 0.05, 0.035213675213675216, 0.021428571428571432, 0.011111111111111112, 0.03076923076923077, 0.0, 0.0071428571428571435, 0.04285714285714286, 0.0, 0.0, 0.01, 0.06666666666666667]}, {\"marker\": {\"color\": \"#009900\"}, \"name\": \"B3 (0.1)\", \"type\": \"bar\", \"x\": [\"UFPE-3\", \"UFPE-4\", \"UFV-4\", \"UNB-3\", \"UNB-4\", \"UFRGS-4\", \"UFRN-4\", \"UERJ-4\", \"UNIFATEA-3\", \"UFAL-3\", \"UFU-3\", \"UFPA-4\", \"UFG-3\", \"UEL-4\", \"UFC-3\", \" FIAMFAAM-3\", \"UFF-4\", \"UFBA-4\", \"UNIVILLE-4\", \"USP/SC-4\", \"UFPB-JP-4\", \"USP-4\", \"UFRJ-6\", \"UFPEL-4\", \"UNESP-BAURU-4\", \"UFMG-6\", \"UPM-6\", \"UFRJ-4\", \"UFPR-4\", \"UFJF-4\", \"UNIFOR-3\", \"UFCG-3\", \"UFMA-3\", \"UNICAMP-5\", \"UFRGS-5\", \"UFRJ-5\", \"PUCCAMP-5\", \"UNISINOS-5\", \"USJT-4\", \"UFSC-5\", \"UFES-4\", \"PUC-RIO-5\", \"UDESC-4\", \"UNESP-BAURU-6\", \"UEMG-5\", \"UNIRITTER-4\", \"IMED-3\", \"UAM-5\", \"PUC-RIO-3\", \"UNISINOS-4\"], \"y\": [0.0, 0.0, 0.004545454545454546, 0.0, 0.002380952380952381, 0.006250000000000001, 0.006926406926406927, 0.0025, 0.0, 0.0, 0.003125, 0.0035714285714285718, 0.0, 0.0029411764705882353, 0.0035714285714285718, 0.005, 0.008, 0.006137566137566138, 0.022727272727272728, 0.008108108108108109, 0.017647058823529415, 0.005084745762711865, 0.004545454545454546, 0.008695652173913044, 0.004545454545454546, 0.0, 0.011363636363636364, 0.0, 0.009375000000000001, 0.009090909090909092, 0.0025, 0.003125, 0.0, 0.0020833333333333333, 0.0, 0.003448275862068966, 0.0, 0.0, 0.01, 0.01871794871794872, 0.0071428571428571435, 0.0, 0.015384615384615385, 0.0, 0.0035714285714285718, 0.01785714285714286, 0.018181818181818184, 0.008333333333333333, 0.005, 0.016666666666666666]}, {\"marker\": {\"color\": \"#00CC00\"}, \"name\": \"B4 (0.05)\", \"type\": \"bar\", \"x\": [\"UFPE-3\", \"UFPE-4\", \"UFV-4\", \"UNB-3\", \"UNB-4\", \"UFRGS-4\", \"UFRN-4\", \"UERJ-4\", \"UNIFATEA-3\", \"UFAL-3\", \"UFU-3\", \"UFPA-4\", \"UFG-3\", \"UEL-4\", \"UFC-3\", \" FIAMFAAM-3\", \"UFF-4\", \"UFBA-4\", \"UNIVILLE-4\", \"USP/SC-4\", \"UFPB-JP-4\", \"USP-4\", \"UFRJ-6\", \"UFPEL-4\", \"UNESP-BAURU-4\", \"UFMG-6\", \"UPM-6\", \"UFRJ-4\", \"UFPR-4\", \"UFJF-4\", \"UNIFOR-3\", \"UFCG-3\", \"UFMA-3\", \"UNICAMP-5\", \"UFRGS-5\", \"UFRJ-5\", \"PUCCAMP-5\", \"UNISINOS-5\", \"USJT-4\", \"UFSC-5\", \"UFES-4\", \"PUC-RIO-5\", \"UDESC-4\", \"UNESP-BAURU-6\", \"UEMG-5\", \"UNIRITTER-4\", \"IMED-3\", \"UAM-5\", \"PUC-RIO-3\", \"UNISINOS-4\"], \"y\": [0.0, 0.0011363636363636365, 0.0, 0.0033333333333333335, 0.0005952380952380953, 0.0, 0.0, 0.0, 0.0, 0.0008928571428571429, 0.0, 0.0, 0.0, 0.0, 0.0, 0.0, 0.001, 0.0, 0.0, 0.0, 0.0, 0.0004237288135593221, 0.0011363636363636365, 0.0010869565217391304, 0.0, 0.002, 0.0011363636363636365, 0.0, 0.003125, 0.0, 0.0, 0.0, 0.0017857142857142859, 0.0, 0.001, 0.0008620689655172415, 0.0, 0.0019230769230769232, 0.0, 0.004957264957264958, 0.0, 0.0, 0.0019230769230769232, 0.0016666666666666668, 0.005357142857142858, 0.0017857142857142859, 0.0, 0.0020833333333333333, 0.0, 0.0]}, {\"marker\": {\"color\": \"#00FF00\"}, \"name\": \"B5 (0)\", \"type\": \"bar\", \"x\": [\"UFPE-3\", \"UFPE-4\", \"UFV-4\", \"UNB-3\", \"UNB-4\", \"UFRGS-4\", \"UFRN-4\", \"UERJ-4\", \"UNIFATEA-3\", \"UFAL-3\", \"UFU-3\", \"UFPA-4\", \"UFG-3\", \"UEL-4\", \"UFC-3\", \" FIAMFAAM-3\", \"UFF-4\", \"UFBA-4\", \"UNIVILLE-4\", \"USP/SC-4\", \"UFPB-JP-4\", \"USP-4\", \"UFRJ-6\", \"UFPEL-4\", \"UNESP-BAURU-4\", \"UFMG-6\", \"UPM-6\", \"UFRJ-4\", \"UFPR-4\", \"UFJF-4\", \"UNIFOR-3\", \"UFCG-3\", \"UFMA-3\", \"UNICAMP-5\", \"UFRGS-5\", \"UFRJ-5\", \"PUCCAMP-5\", \"UNISINOS-5\", \"USJT-4\", \"UFSC-5\", \"UFES-4\", \"PUC-RIO-5\", \"UDESC-4\", \"UNESP-BAURU-6\", \"UEMG-5\", \"UNIRITTER-4\", \"IMED-3\", \"UAM-5\", \"PUC-RIO-3\", \"UNISINOS-4\"], \"y\": [0.0, 0.0, 0.0, 0.0, 0.0, 0.0, 0.0, 0.0, 0.0, 0.0, 0.0, 0.0, 0.0, 0.0, 0.0, 0.0, 0.0, 0.0, 0.0, 0.0, 0.0, 0.0, 0.0, 0.0, 0.0, 0.0, 0.0, 0.0, 0.0, 0.0, 0.0, 0.0, 0.0, 0.0, 0.0, 0.0, 0.0, 0.0, 0.0, 0.0, 0.0, 0.0, 0.0, 0.0, 0.0, 0.0, 0.0, 0.0, 0.0, 0.0]}, {\"marker\": {\"color\": \"#880000\"}, \"name\": \"C (0)\", \"type\": \"bar\", \"x\": [\"UFPE-3\", \"UFPE-4\", \"UFV-4\", \"UNB-3\", \"UNB-4\", \"UFRGS-4\", \"UFRN-4\", \"UERJ-4\", \"UNIFATEA-3\", \"UFAL-3\", \"UFU-3\", \"UFPA-4\", \"UFG-3\", \"UEL-4\", \"UFC-3\", \" FIAMFAAM-3\", \"UFF-4\", \"UFBA-4\", \"UNIVILLE-4\", \"USP/SC-4\", \"UFPB-JP-4\", \"USP-4\", \"UFRJ-6\", \"UFPEL-4\", \"UNESP-BAURU-4\", \"UFMG-6\", \"UPM-6\", \"UFRJ-4\", \"UFPR-4\", \"UFJF-4\", \"UNIFOR-3\", \"UFCG-3\", \"UFMA-3\", \"UNICAMP-5\", \"UFRGS-5\", \"UFRJ-5\", \"PUCCAMP-5\", \"UNISINOS-5\", \"USJT-4\", \"UFSC-5\", \"UFES-4\", \"PUC-RIO-5\", \"UDESC-4\", \"UNESP-BAURU-6\", \"UEMG-5\", \"UNIRITTER-4\", \"IMED-3\", \"UAM-5\", \"PUC-RIO-3\", \"UNISINOS-4\"], \"y\": [0.0, 0.0, 0.0, 0.0, 0.0, 0.0, 0.0, 0.0, 0.0, 0.0, 0.0, 0.0, 0.0, 0.0, 0.0, 0.0, 0.0, 0.0, 0.0, 0.0, 0.0, 0.0, 0.0, 0.0, 0.0, 0.0, 0.0, 0.0, 0.0, 0.0, 0.0, 0.0, 0.0, 0.0, 0.0, 0.0, 0.0, 0.0, 0.0, 0.0, 0.0, 0.0, 0.0, 0.0, 0.0, 0.0, 0.0, 0.0, 0.0, 0.0]}, {\"marker\": {\"color\": \"#CC0000\"}, \"name\": \"NA (0)\", \"type\": \"bar\", \"x\": [\"UFPE-3\", \"UFPE-4\", \"UFV-4\", \"UNB-3\", \"UNB-4\", \"UFRGS-4\", \"UFRN-4\", \"UERJ-4\", \"UNIFATEA-3\", \"UFAL-3\", \"UFU-3\", \"UFPA-4\", \"UFG-3\", \"UEL-4\", \"UFC-3\", \" FIAMFAAM-3\", \"UFF-4\", \"UFBA-4\", \"UNIVILLE-4\", \"USP/SC-4\", \"UFPB-JP-4\", \"USP-4\", \"UFRJ-6\", \"UFPEL-4\", \"UNESP-BAURU-4\", \"UFMG-6\", \"UPM-6\", \"UFRJ-4\", \"UFPR-4\", \"UFJF-4\", \"UNIFOR-3\", \"UFCG-3\", \"UFMA-3\", \"UNICAMP-5\", \"UFRGS-5\", \"UFRJ-5\", \"PUCCAMP-5\", \"UNISINOS-5\", \"USJT-4\", \"UFSC-5\", \"UFES-4\", \"PUC-RIO-5\", \"UDESC-4\", \"UNESP-BAURU-6\", \"UEMG-5\", \"UNIRITTER-4\", \"IMED-3\", \"UAM-5\", \"PUC-RIO-3\", \"UNISINOS-4\"], \"y\": [0.0, 0.0, 0.0, 0.0, 0.0, 0.0, 0.0, 0.0, 0.0, 0.0, 0.0, 0.0, 0.0, 0.0, 0.0, 0.0, 0.0, 0.0, 0.0, 0.0, 0.0, 0.0, 0.0, 0.0, 0.0, 0.0, 0.0, 0.0, 0.0, 0.0, 0.0, 0.0, 0.0, 0.0, 0.0, 0.0, 0.0, 0.0, 0.0, 0.0, 0.0, 0.0, 0.0, 0.0, 0.0, 0.0, 0.0, 0.0, 0.0, 0.0]}, {\"marker\": {\"color\": \"#FF0000\"}, \"name\": \"NP (0)\", \"type\": \"bar\", \"x\": [\"UFPE-3\", \"UFPE-4\", \"UFV-4\", \"UNB-3\", \"UNB-4\", \"UFRGS-4\", \"UFRN-4\", \"UERJ-4\", \"UNIFATEA-3\", \"UFAL-3\", \"UFU-3\", \"UFPA-4\", \"UFG-3\", \"UEL-4\", \"UFC-3\", \" FIAMFAAM-3\", \"UFF-4\", \"UFBA-4\", \"UNIVILLE-4\", \"USP/SC-4\", \"UFPB-JP-4\", \"USP-4\", \"UFRJ-6\", \"UFPEL-4\", \"UNESP-BAURU-4\", \"UFMG-6\", \"UPM-6\", \"UFRJ-4\", \"UFPR-4\", \"UFJF-4\", \"UNIFOR-3\", \"UFCG-3\", \"UFMA-3\", \"UNICAMP-5\", \"UFRGS-5\", \"UFRJ-5\", \"PUCCAMP-5\", \"UNISINOS-5\", \"USJT-4\", \"UFSC-5\", \"UFES-4\", \"PUC-RIO-5\", \"UDESC-4\", \"UNESP-BAURU-6\", \"UEMG-5\", \"UNIRITTER-4\", \"IMED-3\", \"UAM-5\", \"PUC-RIO-3\", \"UNISINOS-4\"], \"y\": [0.0, 0.0, 0.0, 0.0, 0.0, 0.0, 0.0, 0.0, 0.0, 0.0, 0.0, 0.0, 0.0, 0.0, 0.0, 0.0, 0.0, 0.0, 0.0, 0.0, 0.0, 0.0, 0.0, 0.0, 0.0, 0.0, 0.0, 0.0, 0.0, 0.0, 0.0, 0.0, 0.0, 0.0, 0.0, 0.0, 0.0, 0.0, 0.0, 0.0, 0.0, 0.0, 0.0, 0.0, 0.0, 0.0, 0.0, 0.0, 0.0, 0.0]}],\n",
       "                        {\"barmode\": \"stack\", \"template\": {\"data\": {\"bar\": [{\"error_x\": {\"color\": \"#2a3f5f\"}, \"error_y\": {\"color\": \"#2a3f5f\"}, \"marker\": {\"line\": {\"color\": \"#E5ECF6\", \"width\": 0.5}}, \"type\": \"bar\"}], \"barpolar\": [{\"marker\": {\"line\": {\"color\": \"#E5ECF6\", \"width\": 0.5}}, \"type\": \"barpolar\"}], \"carpet\": [{\"aaxis\": {\"endlinecolor\": \"#2a3f5f\", \"gridcolor\": \"white\", \"linecolor\": \"white\", \"minorgridcolor\": \"white\", \"startlinecolor\": \"#2a3f5f\"}, \"baxis\": {\"endlinecolor\": \"#2a3f5f\", \"gridcolor\": \"white\", \"linecolor\": \"white\", \"minorgridcolor\": \"white\", \"startlinecolor\": \"#2a3f5f\"}, \"type\": \"carpet\"}], \"choropleth\": [{\"colorbar\": {\"outlinewidth\": 0, \"ticks\": \"\"}, \"type\": \"choropleth\"}], \"contour\": [{\"colorbar\": {\"outlinewidth\": 0, \"ticks\": \"\"}, \"colorscale\": [[0.0, \"#0d0887\"], [0.1111111111111111, \"#46039f\"], [0.2222222222222222, \"#7201a8\"], [0.3333333333333333, \"#9c179e\"], [0.4444444444444444, \"#bd3786\"], [0.5555555555555556, \"#d8576b\"], [0.6666666666666666, \"#ed7953\"], [0.7777777777777778, \"#fb9f3a\"], [0.8888888888888888, \"#fdca26\"], [1.0, \"#f0f921\"]], \"type\": \"contour\"}], \"contourcarpet\": [{\"colorbar\": {\"outlinewidth\": 0, \"ticks\": \"\"}, \"type\": \"contourcarpet\"}], \"heatmap\": [{\"colorbar\": {\"outlinewidth\": 0, \"ticks\": \"\"}, \"colorscale\": [[0.0, \"#0d0887\"], [0.1111111111111111, \"#46039f\"], [0.2222222222222222, \"#7201a8\"], [0.3333333333333333, \"#9c179e\"], [0.4444444444444444, \"#bd3786\"], [0.5555555555555556, \"#d8576b\"], [0.6666666666666666, \"#ed7953\"], [0.7777777777777778, \"#fb9f3a\"], [0.8888888888888888, \"#fdca26\"], [1.0, \"#f0f921\"]], \"type\": \"heatmap\"}], \"heatmapgl\": [{\"colorbar\": {\"outlinewidth\": 0, \"ticks\": \"\"}, \"colorscale\": [[0.0, \"#0d0887\"], [0.1111111111111111, \"#46039f\"], [0.2222222222222222, \"#7201a8\"], [0.3333333333333333, \"#9c179e\"], [0.4444444444444444, \"#bd3786\"], [0.5555555555555556, \"#d8576b\"], [0.6666666666666666, \"#ed7953\"], [0.7777777777777778, \"#fb9f3a\"], [0.8888888888888888, \"#fdca26\"], [1.0, \"#f0f921\"]], \"type\": \"heatmapgl\"}], \"histogram\": [{\"marker\": {\"colorbar\": {\"outlinewidth\": 0, \"ticks\": \"\"}}, \"type\": \"histogram\"}], \"histogram2d\": [{\"colorbar\": {\"outlinewidth\": 0, \"ticks\": \"\"}, \"colorscale\": [[0.0, \"#0d0887\"], [0.1111111111111111, \"#46039f\"], [0.2222222222222222, \"#7201a8\"], [0.3333333333333333, \"#9c179e\"], [0.4444444444444444, \"#bd3786\"], [0.5555555555555556, \"#d8576b\"], [0.6666666666666666, \"#ed7953\"], [0.7777777777777778, \"#fb9f3a\"], [0.8888888888888888, \"#fdca26\"], [1.0, \"#f0f921\"]], \"type\": \"histogram2d\"}], \"histogram2dcontour\": [{\"colorbar\": {\"outlinewidth\": 0, \"ticks\": \"\"}, \"colorscale\": [[0.0, \"#0d0887\"], [0.1111111111111111, \"#46039f\"], [0.2222222222222222, \"#7201a8\"], [0.3333333333333333, \"#9c179e\"], [0.4444444444444444, \"#bd3786\"], [0.5555555555555556, \"#d8576b\"], [0.6666666666666666, \"#ed7953\"], [0.7777777777777778, \"#fb9f3a\"], [0.8888888888888888, \"#fdca26\"], [1.0, \"#f0f921\"]], \"type\": \"histogram2dcontour\"}], \"mesh3d\": [{\"colorbar\": {\"outlinewidth\": 0, \"ticks\": \"\"}, \"type\": \"mesh3d\"}], \"parcoords\": [{\"line\": {\"colorbar\": {\"outlinewidth\": 0, \"ticks\": \"\"}}, \"type\": \"parcoords\"}], \"pie\": [{\"automargin\": true, \"type\": \"pie\"}], \"scatter\": [{\"marker\": {\"colorbar\": {\"outlinewidth\": 0, \"ticks\": \"\"}}, \"type\": \"scatter\"}], \"scatter3d\": [{\"line\": {\"colorbar\": {\"outlinewidth\": 0, \"ticks\": \"\"}}, \"marker\": {\"colorbar\": {\"outlinewidth\": 0, \"ticks\": \"\"}}, \"type\": \"scatter3d\"}], \"scattercarpet\": [{\"marker\": {\"colorbar\": {\"outlinewidth\": 0, \"ticks\": \"\"}}, \"type\": \"scattercarpet\"}], \"scattergeo\": [{\"marker\": {\"colorbar\": {\"outlinewidth\": 0, \"ticks\": \"\"}}, \"type\": \"scattergeo\"}], \"scattergl\": [{\"marker\": {\"colorbar\": {\"outlinewidth\": 0, \"ticks\": \"\"}}, \"type\": \"scattergl\"}], \"scattermapbox\": [{\"marker\": {\"colorbar\": {\"outlinewidth\": 0, \"ticks\": \"\"}}, \"type\": \"scattermapbox\"}], \"scatterpolar\": [{\"marker\": {\"colorbar\": {\"outlinewidth\": 0, \"ticks\": \"\"}}, \"type\": \"scatterpolar\"}], \"scatterpolargl\": [{\"marker\": {\"colorbar\": {\"outlinewidth\": 0, \"ticks\": \"\"}}, \"type\": \"scatterpolargl\"}], \"scatterternary\": [{\"marker\": {\"colorbar\": {\"outlinewidth\": 0, \"ticks\": \"\"}}, \"type\": \"scatterternary\"}], \"surface\": [{\"colorbar\": {\"outlinewidth\": 0, \"ticks\": \"\"}, \"colorscale\": [[0.0, \"#0d0887\"], [0.1111111111111111, \"#46039f\"], [0.2222222222222222, \"#7201a8\"], [0.3333333333333333, \"#9c179e\"], [0.4444444444444444, \"#bd3786\"], [0.5555555555555556, \"#d8576b\"], [0.6666666666666666, \"#ed7953\"], [0.7777777777777778, \"#fb9f3a\"], [0.8888888888888888, \"#fdca26\"], [1.0, \"#f0f921\"]], \"type\": \"surface\"}], \"table\": [{\"cells\": {\"fill\": {\"color\": \"#EBF0F8\"}, \"line\": {\"color\": \"white\"}}, \"header\": {\"fill\": {\"color\": \"#C8D4E3\"}, \"line\": {\"color\": \"white\"}}, \"type\": \"table\"}]}, \"layout\": {\"annotationdefaults\": {\"arrowcolor\": \"#2a3f5f\", \"arrowhead\": 0, \"arrowwidth\": 1}, \"coloraxis\": {\"colorbar\": {\"outlinewidth\": 0, \"ticks\": \"\"}}, \"colorscale\": {\"diverging\": [[0, \"#8e0152\"], [0.1, \"#c51b7d\"], [0.2, \"#de77ae\"], [0.3, \"#f1b6da\"], [0.4, \"#fde0ef\"], [0.5, \"#f7f7f7\"], [0.6, \"#e6f5d0\"], [0.7, \"#b8e186\"], [0.8, \"#7fbc41\"], [0.9, \"#4d9221\"], [1, \"#276419\"]], \"sequential\": [[0.0, \"#0d0887\"], [0.1111111111111111, \"#46039f\"], [0.2222222222222222, \"#7201a8\"], [0.3333333333333333, \"#9c179e\"], [0.4444444444444444, \"#bd3786\"], [0.5555555555555556, \"#d8576b\"], [0.6666666666666666, \"#ed7953\"], [0.7777777777777778, \"#fb9f3a\"], [0.8888888888888888, \"#fdca26\"], [1.0, \"#f0f921\"]], \"sequentialminus\": [[0.0, \"#0d0887\"], [0.1111111111111111, \"#46039f\"], [0.2222222222222222, \"#7201a8\"], [0.3333333333333333, \"#9c179e\"], [0.4444444444444444, \"#bd3786\"], [0.5555555555555556, \"#d8576b\"], [0.6666666666666666, \"#ed7953\"], [0.7777777777777778, \"#fb9f3a\"], [0.8888888888888888, \"#fdca26\"], [1.0, \"#f0f921\"]]}, \"colorway\": [\"#636efa\", \"#EF553B\", \"#00cc96\", \"#ab63fa\", \"#FFA15A\", \"#19d3f3\", \"#FF6692\", \"#B6E880\", \"#FF97FF\", \"#FECB52\"], \"font\": {\"color\": \"#2a3f5f\"}, \"geo\": {\"bgcolor\": \"white\", \"lakecolor\": \"white\", \"landcolor\": \"#E5ECF6\", \"showlakes\": true, \"showland\": true, \"subunitcolor\": \"white\"}, \"hoverlabel\": {\"align\": \"left\"}, \"hovermode\": \"closest\", \"mapbox\": {\"style\": \"light\"}, \"paper_bgcolor\": \"white\", \"plot_bgcolor\": \"#E5ECF6\", \"polar\": {\"angularaxis\": {\"gridcolor\": \"white\", \"linecolor\": \"white\", \"ticks\": \"\"}, \"bgcolor\": \"#E5ECF6\", \"radialaxis\": {\"gridcolor\": \"white\", \"linecolor\": \"white\", \"ticks\": \"\"}}, \"scene\": {\"xaxis\": {\"backgroundcolor\": \"#E5ECF6\", \"gridcolor\": \"white\", \"gridwidth\": 2, \"linecolor\": \"white\", \"showbackground\": true, \"ticks\": \"\", \"zerolinecolor\": \"white\"}, \"yaxis\": {\"backgroundcolor\": \"#E5ECF6\", \"gridcolor\": \"white\", \"gridwidth\": 2, \"linecolor\": \"white\", \"showbackground\": true, \"ticks\": \"\", \"zerolinecolor\": \"white\"}, \"zaxis\": {\"backgroundcolor\": \"#E5ECF6\", \"gridcolor\": \"white\", \"gridwidth\": 2, \"linecolor\": \"white\", \"showbackground\": true, \"ticks\": \"\", \"zerolinecolor\": \"white\"}}, \"shapedefaults\": {\"line\": {\"color\": \"#2a3f5f\"}}, \"ternary\": {\"aaxis\": {\"gridcolor\": \"white\", \"linecolor\": \"white\", \"ticks\": \"\"}, \"baxis\": {\"gridcolor\": \"white\", \"linecolor\": \"white\", \"ticks\": \"\"}, \"bgcolor\": \"#E5ECF6\", \"caxis\": {\"gridcolor\": \"white\", \"linecolor\": \"white\", \"ticks\": \"\"}}, \"title\": {\"x\": 0.05}, \"xaxis\": {\"automargin\": true, \"gridcolor\": \"white\", \"linecolor\": \"white\", \"ticks\": \"\", \"title\": {\"standoff\": 15}, \"zerolinecolor\": \"white\", \"zerolinewidth\": 2}, \"yaxis\": {\"automargin\": true, \"gridcolor\": \"white\", \"linecolor\": \"white\", \"ticks\": \"\", \"title\": {\"standoff\": 15}, \"zerolinecolor\": \"white\", \"zerolinewidth\": 2}}}, \"title\": {\"font\": {\"color\": \"#000000\", \"size\": 20}, \"text\": \"Peri\\u00f3dicos por Docentes (Permanentes + Colaboradores)\", \"x\": 0.5, \"xanchor\": \"center\"}, \"xaxis\": {\"title\": {\"text\": \"Institui\\u00e7\\u00e3o\"}}},\n",
       "                        {\"responsive\": true}\n",
       "                    ).then(function(){\n",
       "                            \n",
       "var gd = document.getElementById('1b8f11dc-f492-4abd-a761-f8edaaf34453');\n",
       "var x = new MutationObserver(function (mutations, observer) {{\n",
       "        var display = window.getComputedStyle(gd).display;\n",
       "        if (!display || display === 'none') {{\n",
       "            console.log([gd, 'removed!']);\n",
       "            Plotly.purge(gd);\n",
       "            observer.disconnect();\n",
       "        }}\n",
       "}});\n",
       "\n",
       "// Listen for the removal of the full notebook cells\n",
       "var notebookContainer = gd.closest('#notebook-container');\n",
       "if (notebookContainer) {{\n",
       "    x.observe(notebookContainer, {childList: true});\n",
       "}}\n",
       "\n",
       "// Listen for the clearing of the current output cell\n",
       "var outputEl = gd.closest('.output');\n",
       "if (outputEl) {{\n",
       "    x.observe(outputEl, {childList: true});\n",
       "}}\n",
       "\n",
       "                        })\n",
       "                };\n",
       "                });\n",
       "            </script>\n",
       "        </div>"
      ]
     },
     "metadata": {},
     "output_type": "display_data"
    }
   ],
   "source": [
    "sorted_q = sort_data(periodicos_docente, list_programas)\n",
    "\n",
    "data = list()\n",
    "for i in range(0, len(TIPO_QUALIS)):\n",
    "    data.append(go.Bar(x=[p_quali['code'] for p_quali in sorted_q],\n",
    "                       y=[p_quali[TIPO_QUALIS[i]] for p_quali in sorted_q],\n",
    "                       marker_color=COLOR_QUALIS[TIPO_QUALIS[i]],\n",
    "                       name=f'{TIPO_QUALIS[i]} ({PESO_QUALIS[TIPO_QUALIS[i]]})'))\n",
    "\n",
    "title = {\n",
    "    'text': 'Periódicos por Docentes (Permanentes + Colaboradores)',\n",
    "    'x': 0.5,\n",
    "    'xanchor': 'center',\n",
    "    'font': {\n",
    "        'color': '#000000',\n",
    "        'size': 20\n",
    "    }\n",
    "}\n",
    "layout = go.Layout(title=title, \n",
    "                   xaxis={'title': 'Instituição'},\n",
    "                   barmode='stack')\n",
    "\n",
    "fig = go.Figure(data=data, layout=layout)\n",
    "py.iplot(fig)"
   ]
  },
  {
   "cell_type": "code",
   "execution_count": 17,
   "metadata": {},
   "outputs": [
    {
     "data": {
      "application/vnd.plotly.v1+json": {
       "config": {
        "linkText": "Export to plot.ly",
        "plotlyServerURL": "https://plot.ly",
        "showLink": false
       },
       "data": [
        {
         "marker": {
          "color": "#000044"
         },
         "name": "A1 (1)",
         "type": "bar",
         "x": [
          "UFPE-3",
          "UFPE-4",
          "UFV-4",
          "UFRGS-4",
          "UNB-3",
          "UNB-4",
          "UFRN-4",
          "UERJ-4",
          "UNIFATEA-3",
          "UFU-3",
          " FIAMFAAM-3",
          "UFPA-4",
          "UFAL-3",
          "UEL-4",
          "UFG-3",
          "UFC-3",
          "UNIVILLE-4",
          "UFF-4",
          "UFPB-JP-4",
          "UFBA-4",
          "USP/SC-4",
          "UFMG-6",
          "UFRJ-6",
          "UNESP-BAURU-4",
          "USP-4",
          "UFPEL-4",
          "UFJF-4",
          "UNIFOR-3",
          "UPM-6",
          "UFRJ-4",
          "UFPR-4",
          "PUCCAMP-5",
          "USJT-4",
          "UFMA-3",
          "UFCG-3",
          "UNISINOS-5",
          "UFRGS-5",
          "UNICAMP-5",
          "PUC-RIO-5",
          "UFSC-5",
          "UFRJ-5",
          "UFES-4",
          "UDESC-4",
          "UNESP-BAURU-6",
          "UEMG-5",
          "UNIRITTER-4",
          "IMED-3",
          "UAM-5",
          "PUC-RIO-3",
          "UNISINOS-4"
         ],
         "y": [
          0,
          0,
          0,
          0,
          0,
          0,
          0,
          0,
          0,
          0,
          0,
          0,
          0,
          0,
          0,
          0,
          0,
          0,
          0,
          0,
          0,
          0,
          0,
          0,
          0.03468208092485549,
          0,
          0.1,
          0.12121212121212122,
          0,
          0,
          0.09090909090909091,
          0,
          0,
          0.09523809523809523,
          0,
          0,
          0.15384615384615385,
          0.23529411764705882,
          0.058823529411764705,
          0,
          0.045454545454545456,
          0,
          0.18181818181818182,
          0.15384615384615385,
          0.15384615384615385,
          0.09090909090909091,
          0.18181818181818182,
          0,
          0.1,
          0.4
         ]
        },
        {
         "marker": {
          "color": "#000088"
         },
         "name": "A2 (0.875)",
         "type": "bar",
         "x": [
          "UFPE-3",
          "UFPE-4",
          "UFV-4",
          "UFRGS-4",
          "UNB-3",
          "UNB-4",
          "UFRN-4",
          "UERJ-4",
          "UNIFATEA-3",
          "UFU-3",
          " FIAMFAAM-3",
          "UFPA-4",
          "UFAL-3",
          "UEL-4",
          "UFG-3",
          "UFC-3",
          "UNIVILLE-4",
          "UFF-4",
          "UFPB-JP-4",
          "UFBA-4",
          "USP/SC-4",
          "UFMG-6",
          "UFRJ-6",
          "UNESP-BAURU-4",
          "USP-4",
          "UFPEL-4",
          "UFJF-4",
          "UNIFOR-3",
          "UPM-6",
          "UFRJ-4",
          "UFPR-4",
          "PUCCAMP-5",
          "USJT-4",
          "UFMA-3",
          "UFCG-3",
          "UNISINOS-5",
          "UFRGS-5",
          "UNICAMP-5",
          "PUC-RIO-5",
          "UFSC-5",
          "UFRJ-5",
          "UFES-4",
          "UDESC-4",
          "UNESP-BAURU-6",
          "UEMG-5",
          "UNIRITTER-4",
          "IMED-3",
          "UAM-5",
          "PUC-RIO-3",
          "UNISINOS-4"
         ],
         "y": [
          0,
          0,
          0,
          0,
          0,
          0,
          0,
          0,
          0,
          0,
          0,
          0,
          0.040697674418604654,
          0,
          0,
          0.07954545454545454,
          0,
          0.046052631578947366,
          0,
          0,
          0.031818181818181815,
          0,
          0,
          0,
          0.030346820809248554,
          0,
          0,
          0,
          0,
          0,
          0,
          0.14583333333333334,
          0.0875,
          0,
          0,
          0,
          0.04487179487179487,
          0,
          0.051470588235294115,
          0,
          0.03977272727272727,
          0,
          0.07954545454545454,
          0.0673076923076923,
          0.0673076923076923,
          0.07954545454545454,
          0,
          0,
          0.4375,
          0
         ]
        },
        {
         "marker": {
          "color": "#0000CC"
         },
         "name": "A3 (0.75)",
         "type": "bar",
         "x": [
          "UFPE-3",
          "UFPE-4",
          "UFV-4",
          "UFRGS-4",
          "UNB-3",
          "UNB-4",
          "UFRN-4",
          "UERJ-4",
          "UNIFATEA-3",
          "UFU-3",
          " FIAMFAAM-3",
          "UFPA-4",
          "UFAL-3",
          "UEL-4",
          "UFG-3",
          "UFC-3",
          "UNIVILLE-4",
          "UFF-4",
          "UFPB-JP-4",
          "UFBA-4",
          "USP/SC-4",
          "UFMG-6",
          "UFRJ-6",
          "UNESP-BAURU-4",
          "USP-4",
          "UFPEL-4",
          "UFJF-4",
          "UNIFOR-3",
          "UPM-6",
          "UFRJ-4",
          "UFPR-4",
          "PUCCAMP-5",
          "USJT-4",
          "UFMA-3",
          "UFCG-3",
          "UNISINOS-5",
          "UFRGS-5",
          "UNICAMP-5",
          "PUC-RIO-5",
          "UFSC-5",
          "UFRJ-5",
          "UFES-4",
          "UDESC-4",
          "UNESP-BAURU-6",
          "UEMG-5",
          "UNIRITTER-4",
          "IMED-3",
          "UAM-5",
          "PUC-RIO-3",
          "UNISINOS-4"
         ],
         "y": [
          0,
          0,
          0,
          0,
          0,
          0,
          0,
          0,
          0,
          0,
          0.075,
          0,
          0,
          0,
          0.05357142857142857,
          0,
          0,
          0.039473684210526314,
          0,
          0,
          0,
          0,
          0,
          0,
          0.02601156069364162,
          0,
          0,
          0,
          0.04411764705882353,
          0.13636363636363635,
          0,
          0.0625,
          0,
          0.07142857142857142,
          0.06521739130434782,
          0,
          0.038461538461538464,
          0.04411764705882353,
          0.04411764705882353,
          0.11043533930857874,
          0.10227272727272728,
          0,
          0,
          0.057692307692307696,
          0,
          0.0625,
          0.06818181818181818,
          0.2727272727272727,
          0.075,
          0.075
         ]
        },
        {
         "marker": {
          "color": "#0000FF"
         },
         "name": "A4 (0.625)",
         "type": "bar",
         "x": [
          "UFPE-3",
          "UFPE-4",
          "UFV-4",
          "UFRGS-4",
          "UNB-3",
          "UNB-4",
          "UFRN-4",
          "UERJ-4",
          "UNIFATEA-3",
          "UFU-3",
          " FIAMFAAM-3",
          "UFPA-4",
          "UFAL-3",
          "UEL-4",
          "UFG-3",
          "UFC-3",
          "UNIVILLE-4",
          "UFF-4",
          "UFPB-JP-4",
          "UFBA-4",
          "USP/SC-4",
          "UFMG-6",
          "UFRJ-6",
          "UNESP-BAURU-4",
          "USP-4",
          "UFPEL-4",
          "UFJF-4",
          "UNIFOR-3",
          "UPM-6",
          "UFRJ-4",
          "UFPR-4",
          "PUCCAMP-5",
          "USJT-4",
          "UFMA-3",
          "UFCG-3",
          "UNISINOS-5",
          "UFRGS-5",
          "UNICAMP-5",
          "PUC-RIO-5",
          "UFSC-5",
          "UFRJ-5",
          "UFES-4",
          "UDESC-4",
          "UNESP-BAURU-6",
          "UEMG-5",
          "UNIRITTER-4",
          "IMED-3",
          "UAM-5",
          "PUC-RIO-3",
          "UNISINOS-4"
         ],
         "y": [
          0,
          0,
          0,
          0,
          0,
          0.020833333333333332,
          0,
          0.04032258064516129,
          0,
          0,
          0,
          0.04807692307692308,
          0,
          0.041666666666666664,
          0.044642857142857144,
          0,
          0,
          0,
          0.041666666666666664,
          0.052083333333333336,
          0.06818181818181818,
          0.1358695652173913,
          0.06944444444444445,
          0,
          0.028901734104046242,
          0.07352941176470588,
          0.0625,
          0.07575757575757576,
          0,
          0.056818181818181816,
          0.11363636363636363,
          0,
          0,
          0,
          0.16304347826086957,
          0.05434782608695652,
          0,
          0,
          0.03676470588235294,
          0,
          0.056818181818181816,
          0.2840909090909091,
          0,
          0.09615384615384616,
          0.14423076923076922,
          0,
          0.17045454545454544,
          0.22727272727272727,
          0,
          0.0625
         ]
        },
        {
         "marker": {
          "color": "#003300"
         },
         "name": "B1 (0.5)",
         "type": "bar",
         "x": [
          "UFPE-3",
          "UFPE-4",
          "UFV-4",
          "UFRGS-4",
          "UNB-3",
          "UNB-4",
          "UFRN-4",
          "UERJ-4",
          "UNIFATEA-3",
          "UFU-3",
          " FIAMFAAM-3",
          "UFPA-4",
          "UFAL-3",
          "UEL-4",
          "UFG-3",
          "UFC-3",
          "UNIVILLE-4",
          "UFF-4",
          "UFPB-JP-4",
          "UFBA-4",
          "USP/SC-4",
          "UFMG-6",
          "UFRJ-6",
          "UNESP-BAURU-4",
          "USP-4",
          "UFPEL-4",
          "UFJF-4",
          "UNIFOR-3",
          "UPM-6",
          "UFRJ-4",
          "UFPR-4",
          "PUCCAMP-5",
          "USJT-4",
          "UFMA-3",
          "UFCG-3",
          "UNISINOS-5",
          "UFRGS-5",
          "UNICAMP-5",
          "PUC-RIO-5",
          "UFSC-5",
          "UFRJ-5",
          "UFES-4",
          "UDESC-4",
          "UNESP-BAURU-6",
          "UEMG-5",
          "UNIRITTER-4",
          "IMED-3",
          "UAM-5",
          "PUC-RIO-3",
          "UNISINOS-4"
         ],
         "y": [
          0,
          0,
          0,
          0,
          0,
          0,
          0,
          0,
          0.05,
          0.07692307692307693,
          0,
          0,
          0.046511627906976744,
          0.03333333333333333,
          0,
          0,
          0,
          0,
          0.03333333333333333,
          0.041666666666666664,
          0,
          0,
          0.05555555555555555,
          0,
          0.028901734104046242,
          0.058823529411764705,
          0,
          0,
          0.029411764705882353,
          0,
          0,
          0,
          0.05,
          0.047619047619047616,
          0.043478260869565216,
          0.17391304347826086,
          0.02564102564102564,
          0,
          0.08823529411764706,
          0.05953905249679898,
          0.022727272727272728,
          0,
          0,
          0,
          0.038461538461538464,
          0.12878787878787878,
          0.09090909090909091,
          0.09090909090909091,
          0,
          0.15
         ]
        },
        {
         "marker": {
          "color": "#006600"
         },
         "name": "B2 (0.2)",
         "type": "bar",
         "x": [
          "UFPE-3",
          "UFPE-4",
          "UFV-4",
          "UFRGS-4",
          "UNB-3",
          "UNB-4",
          "UFRN-4",
          "UERJ-4",
          "UNIFATEA-3",
          "UFU-3",
          " FIAMFAAM-3",
          "UFPA-4",
          "UFAL-3",
          "UEL-4",
          "UFG-3",
          "UFC-3",
          "UNIVILLE-4",
          "UFF-4",
          "UFPB-JP-4",
          "UFBA-4",
          "USP/SC-4",
          "UFMG-6",
          "UFRJ-6",
          "UNESP-BAURU-4",
          "USP-4",
          "UFPEL-4",
          "UFJF-4",
          "UNIFOR-3",
          "UPM-6",
          "UFRJ-4",
          "UFPR-4",
          "PUCCAMP-5",
          "USJT-4",
          "UFMA-3",
          "UFCG-3",
          "UNISINOS-5",
          "UFRGS-5",
          "UNICAMP-5",
          "PUC-RIO-5",
          "UFSC-5",
          "UFRJ-5",
          "UFES-4",
          "UDESC-4",
          "UNESP-BAURU-6",
          "UEMG-5",
          "UNIRITTER-4",
          "IMED-3",
          "UAM-5",
          "PUC-RIO-3",
          "UNISINOS-4"
         ],
         "y": [
          0,
          0,
          0,
          0.01,
          0.016666666666666666,
          0,
          0.027149321266968326,
          0,
          0,
          0,
          0,
          0.03076923076923077,
          0,
          0.013333333333333334,
          0,
          0.018181818181818184,
          0.06000000000000001,
          0.010526315789473684,
          0.013333333333333334,
          0.027477477477477478,
          0.02181818181818182,
          0.008695652173913044,
          0.011111111111111112,
          0.14,
          0.0023121387283236996,
          0.023529411764705882,
          0,
          0,
          0.10588235294117647,
          0.03076923076923077,
          0,
          0.03333333333333333,
          0.1,
          0.05714285714285715,
          0,
          0.05217391304347827,
          0.030769230769230774,
          0.011764705882352941,
          0.023529411764705882,
          0.08399487836107555,
          0.03636363636363637,
          0.05454545454545456,
          0.07272727272727274,
          0,
          0.015384615384615385,
          0.10606060606060608,
          0,
          0,
          0.02,
          0.16
         ]
        },
        {
         "marker": {
          "color": "#009900"
         },
         "name": "B3 (0.1)",
         "type": "bar",
         "x": [
          "UFPE-3",
          "UFPE-4",
          "UFV-4",
          "UFRGS-4",
          "UNB-3",
          "UNB-4",
          "UFRN-4",
          "UERJ-4",
          "UNIFATEA-3",
          "UFU-3",
          " FIAMFAAM-3",
          "UFPA-4",
          "UFAL-3",
          "UEL-4",
          "UFG-3",
          "UFC-3",
          "UNIVILLE-4",
          "UFF-4",
          "UFPB-JP-4",
          "UFBA-4",
          "USP/SC-4",
          "UFMG-6",
          "UFRJ-6",
          "UNESP-BAURU-4",
          "USP-4",
          "UFPEL-4",
          "UFJF-4",
          "UNIFOR-3",
          "UPM-6",
          "UFRJ-4",
          "UFPR-4",
          "PUCCAMP-5",
          "USJT-4",
          "UFMA-3",
          "UFCG-3",
          "UNISINOS-5",
          "UFRGS-5",
          "UNICAMP-5",
          "PUC-RIO-5",
          "UFSC-5",
          "UFRJ-5",
          "UFES-4",
          "UDESC-4",
          "UNESP-BAURU-6",
          "UEMG-5",
          "UNIRITTER-4",
          "IMED-3",
          "UAM-5",
          "PUC-RIO-3",
          "UNISINOS-4"
         ],
         "y": [
          0,
          0,
          0.011111111111111112,
          0.015000000000000003,
          0,
          0.006666666666666667,
          0.01838235294117647,
          0.0064516129032258064,
          0,
          0.007692307692307693,
          0.01,
          0.007692307692307693,
          0,
          0.006666666666666667,
          0,
          0.009090909090909092,
          0.05,
          0.021052631578947368,
          0.04000000000000001,
          0.01790540540540541,
          0.02181818181818182,
          0,
          0.011111111111111112,
          0.01,
          0.013872832369942198,
          0.023529411764705882,
          0.02,
          0.006060606060606061,
          0.029411764705882353,
          0,
          0.02727272727272728,
          0,
          0.02,
          0,
          0.008695652173913044,
          0,
          0,
          0.0058823529411764705,
          0,
          0.044814340588988484,
          0.009090909090909092,
          0.018181818181818184,
          0.03636363636363637,
          0,
          0.007692307692307693,
          0.04318181818181819,
          0.03636363636363637,
          0.018181818181818184,
          0.01,
          0.04
         ]
        },
        {
         "marker": {
          "color": "#00CC00"
         },
         "name": "B4 (0.05)",
         "type": "bar",
         "x": [
          "UFPE-3",
          "UFPE-4",
          "UFV-4",
          "UFRGS-4",
          "UNB-3",
          "UNB-4",
          "UFRN-4",
          "UERJ-4",
          "UNIFATEA-3",
          "UFU-3",
          " FIAMFAAM-3",
          "UFPA-4",
          "UFAL-3",
          "UEL-4",
          "UFG-3",
          "UFC-3",
          "UNIVILLE-4",
          "UFF-4",
          "UFPB-JP-4",
          "UFBA-4",
          "USP/SC-4",
          "UFMG-6",
          "UFRJ-6",
          "UNESP-BAURU-4",
          "USP-4",
          "UFPEL-4",
          "UFJF-4",
          "UNIFOR-3",
          "UPM-6",
          "UFRJ-4",
          "UFPR-4",
          "PUCCAMP-5",
          "USJT-4",
          "UFMA-3",
          "UFCG-3",
          "UNISINOS-5",
          "UFRGS-5",
          "UNICAMP-5",
          "PUC-RIO-5",
          "UFSC-5",
          "UFRJ-5",
          "UFES-4",
          "UDESC-4",
          "UNESP-BAURU-6",
          "UEMG-5",
          "UNIRITTER-4",
          "IMED-3",
          "UAM-5",
          "PUC-RIO-3",
          "UNISINOS-4"
         ],
         "y": [
          0,
          0.0025,
          0,
          0,
          0.008333333333333333,
          0.0016666666666666668,
          0,
          0,
          0,
          0,
          0,
          0,
          0.002325581395348837,
          0,
          0,
          0,
          0,
          0.002631578947368421,
          0,
          0,
          0,
          0.004347826086956522,
          0.002777777777777778,
          0,
          0.0011560693641618498,
          0.0029411764705882353,
          0,
          0,
          0.0029411764705882353,
          0,
          0.009090909090909092,
          0,
          0,
          0.004761904761904762,
          0,
          0.004347826086956522,
          0.002564102564102564,
          0,
          0,
          0.011907810499359796,
          0.002272727272727273,
          0,
          0.004545454545454546,
          0.0038461538461538464,
          0.01153846153846154,
          0.004545454545454546,
          0,
          0.004545454545454546,
          0,
          0
         ]
        },
        {
         "marker": {
          "color": "#00FF00"
         },
         "name": "B5 (0)",
         "type": "bar",
         "x": [
          "UFPE-3",
          "UFPE-4",
          "UFV-4",
          "UFRGS-4",
          "UNB-3",
          "UNB-4",
          "UFRN-4",
          "UERJ-4",
          "UNIFATEA-3",
          "UFU-3",
          " FIAMFAAM-3",
          "UFPA-4",
          "UFAL-3",
          "UEL-4",
          "UFG-3",
          "UFC-3",
          "UNIVILLE-4",
          "UFF-4",
          "UFPB-JP-4",
          "UFBA-4",
          "USP/SC-4",
          "UFMG-6",
          "UFRJ-6",
          "UNESP-BAURU-4",
          "USP-4",
          "UFPEL-4",
          "UFJF-4",
          "UNIFOR-3",
          "UPM-6",
          "UFRJ-4",
          "UFPR-4",
          "PUCCAMP-5",
          "USJT-4",
          "UFMA-3",
          "UFCG-3",
          "UNISINOS-5",
          "UFRGS-5",
          "UNICAMP-5",
          "PUC-RIO-5",
          "UFSC-5",
          "UFRJ-5",
          "UFES-4",
          "UDESC-4",
          "UNESP-BAURU-6",
          "UEMG-5",
          "UNIRITTER-4",
          "IMED-3",
          "UAM-5",
          "PUC-RIO-3",
          "UNISINOS-4"
         ],
         "y": [
          0,
          0,
          0,
          0,
          0,
          0,
          0,
          0,
          0,
          0,
          0,
          0,
          0,
          0,
          0,
          0,
          0,
          0,
          0,
          0,
          0,
          0,
          0,
          0,
          0,
          0,
          0,
          0,
          0,
          0,
          0,
          0,
          0,
          0,
          0,
          0,
          0,
          0,
          0,
          0,
          0,
          0,
          0,
          0,
          0,
          0,
          0,
          0,
          0,
          0
         ]
        },
        {
         "marker": {
          "color": "#880000"
         },
         "name": "C (0)",
         "type": "bar",
         "x": [
          "UFPE-3",
          "UFPE-4",
          "UFV-4",
          "UFRGS-4",
          "UNB-3",
          "UNB-4",
          "UFRN-4",
          "UERJ-4",
          "UNIFATEA-3",
          "UFU-3",
          " FIAMFAAM-3",
          "UFPA-4",
          "UFAL-3",
          "UEL-4",
          "UFG-3",
          "UFC-3",
          "UNIVILLE-4",
          "UFF-4",
          "UFPB-JP-4",
          "UFBA-4",
          "USP/SC-4",
          "UFMG-6",
          "UFRJ-6",
          "UNESP-BAURU-4",
          "USP-4",
          "UFPEL-4",
          "UFJF-4",
          "UNIFOR-3",
          "UPM-6",
          "UFRJ-4",
          "UFPR-4",
          "PUCCAMP-5",
          "USJT-4",
          "UFMA-3",
          "UFCG-3",
          "UNISINOS-5",
          "UFRGS-5",
          "UNICAMP-5",
          "PUC-RIO-5",
          "UFSC-5",
          "UFRJ-5",
          "UFES-4",
          "UDESC-4",
          "UNESP-BAURU-6",
          "UEMG-5",
          "UNIRITTER-4",
          "IMED-3",
          "UAM-5",
          "PUC-RIO-3",
          "UNISINOS-4"
         ],
         "y": [
          0,
          0,
          0,
          0,
          0,
          0,
          0,
          0,
          0,
          0,
          0,
          0,
          0,
          0,
          0,
          0,
          0,
          0,
          0,
          0,
          0,
          0,
          0,
          0,
          0,
          0,
          0,
          0,
          0,
          0,
          0,
          0,
          0,
          0,
          0,
          0,
          0,
          0,
          0,
          0,
          0,
          0,
          0,
          0,
          0,
          0,
          0,
          0,
          0,
          0
         ]
        },
        {
         "marker": {
          "color": "#CC0000"
         },
         "name": "NA (0)",
         "type": "bar",
         "x": [
          "UFPE-3",
          "UFPE-4",
          "UFV-4",
          "UFRGS-4",
          "UNB-3",
          "UNB-4",
          "UFRN-4",
          "UERJ-4",
          "UNIFATEA-3",
          "UFU-3",
          " FIAMFAAM-3",
          "UFPA-4",
          "UFAL-3",
          "UEL-4",
          "UFG-3",
          "UFC-3",
          "UNIVILLE-4",
          "UFF-4",
          "UFPB-JP-4",
          "UFBA-4",
          "USP/SC-4",
          "UFMG-6",
          "UFRJ-6",
          "UNESP-BAURU-4",
          "USP-4",
          "UFPEL-4",
          "UFJF-4",
          "UNIFOR-3",
          "UPM-6",
          "UFRJ-4",
          "UFPR-4",
          "PUCCAMP-5",
          "USJT-4",
          "UFMA-3",
          "UFCG-3",
          "UNISINOS-5",
          "UFRGS-5",
          "UNICAMP-5",
          "PUC-RIO-5",
          "UFSC-5",
          "UFRJ-5",
          "UFES-4",
          "UDESC-4",
          "UNESP-BAURU-6",
          "UEMG-5",
          "UNIRITTER-4",
          "IMED-3",
          "UAM-5",
          "PUC-RIO-3",
          "UNISINOS-4"
         ],
         "y": [
          0,
          0,
          0,
          0,
          0,
          0,
          0,
          0,
          0,
          0,
          0,
          0,
          0,
          0,
          0,
          0,
          0,
          0,
          0,
          0,
          0,
          0,
          0,
          0,
          0,
          0,
          0,
          0,
          0,
          0,
          0,
          0,
          0,
          0,
          0,
          0,
          0,
          0,
          0,
          0,
          0,
          0,
          0,
          0,
          0,
          0,
          0,
          0,
          0,
          0
         ]
        },
        {
         "marker": {
          "color": "#FF0000"
         },
         "name": "NP (0)",
         "type": "bar",
         "x": [
          "UFPE-3",
          "UFPE-4",
          "UFV-4",
          "UFRGS-4",
          "UNB-3",
          "UNB-4",
          "UFRN-4",
          "UERJ-4",
          "UNIFATEA-3",
          "UFU-3",
          " FIAMFAAM-3",
          "UFPA-4",
          "UFAL-3",
          "UEL-4",
          "UFG-3",
          "UFC-3",
          "UNIVILLE-4",
          "UFF-4",
          "UFPB-JP-4",
          "UFBA-4",
          "USP/SC-4",
          "UFMG-6",
          "UFRJ-6",
          "UNESP-BAURU-4",
          "USP-4",
          "UFPEL-4",
          "UFJF-4",
          "UNIFOR-3",
          "UPM-6",
          "UFRJ-4",
          "UFPR-4",
          "PUCCAMP-5",
          "USJT-4",
          "UFMA-3",
          "UFCG-3",
          "UNISINOS-5",
          "UFRGS-5",
          "UNICAMP-5",
          "PUC-RIO-5",
          "UFSC-5",
          "UFRJ-5",
          "UFES-4",
          "UDESC-4",
          "UNESP-BAURU-6",
          "UEMG-5",
          "UNIRITTER-4",
          "IMED-3",
          "UAM-5",
          "PUC-RIO-3",
          "UNISINOS-4"
         ],
         "y": [
          0,
          0,
          0,
          0,
          0,
          0,
          0,
          0,
          0,
          0,
          0,
          0,
          0,
          0,
          0,
          0,
          0,
          0,
          0,
          0,
          0,
          0,
          0,
          0,
          0,
          0,
          0,
          0,
          0,
          0,
          0,
          0,
          0,
          0,
          0,
          0,
          0,
          0,
          0,
          0,
          0,
          0,
          0,
          0,
          0,
          0,
          0,
          0,
          0,
          0
         ]
        }
       ],
       "layout": {
        "barmode": "stack",
        "template": {
         "data": {
          "bar": [
           {
            "error_x": {
             "color": "#2a3f5f"
            },
            "error_y": {
             "color": "#2a3f5f"
            },
            "marker": {
             "line": {
              "color": "#E5ECF6",
              "width": 0.5
             }
            },
            "type": "bar"
           }
          ],
          "barpolar": [
           {
            "marker": {
             "line": {
              "color": "#E5ECF6",
              "width": 0.5
             }
            },
            "type": "barpolar"
           }
          ],
          "carpet": [
           {
            "aaxis": {
             "endlinecolor": "#2a3f5f",
             "gridcolor": "white",
             "linecolor": "white",
             "minorgridcolor": "white",
             "startlinecolor": "#2a3f5f"
            },
            "baxis": {
             "endlinecolor": "#2a3f5f",
             "gridcolor": "white",
             "linecolor": "white",
             "minorgridcolor": "white",
             "startlinecolor": "#2a3f5f"
            },
            "type": "carpet"
           }
          ],
          "choropleth": [
           {
            "colorbar": {
             "outlinewidth": 0,
             "ticks": ""
            },
            "type": "choropleth"
           }
          ],
          "contour": [
           {
            "colorbar": {
             "outlinewidth": 0,
             "ticks": ""
            },
            "colorscale": [
             [
              0,
              "#0d0887"
             ],
             [
              0.1111111111111111,
              "#46039f"
             ],
             [
              0.2222222222222222,
              "#7201a8"
             ],
             [
              0.3333333333333333,
              "#9c179e"
             ],
             [
              0.4444444444444444,
              "#bd3786"
             ],
             [
              0.5555555555555556,
              "#d8576b"
             ],
             [
              0.6666666666666666,
              "#ed7953"
             ],
             [
              0.7777777777777778,
              "#fb9f3a"
             ],
             [
              0.8888888888888888,
              "#fdca26"
             ],
             [
              1,
              "#f0f921"
             ]
            ],
            "type": "contour"
           }
          ],
          "contourcarpet": [
           {
            "colorbar": {
             "outlinewidth": 0,
             "ticks": ""
            },
            "type": "contourcarpet"
           }
          ],
          "heatmap": [
           {
            "colorbar": {
             "outlinewidth": 0,
             "ticks": ""
            },
            "colorscale": [
             [
              0,
              "#0d0887"
             ],
             [
              0.1111111111111111,
              "#46039f"
             ],
             [
              0.2222222222222222,
              "#7201a8"
             ],
             [
              0.3333333333333333,
              "#9c179e"
             ],
             [
              0.4444444444444444,
              "#bd3786"
             ],
             [
              0.5555555555555556,
              "#d8576b"
             ],
             [
              0.6666666666666666,
              "#ed7953"
             ],
             [
              0.7777777777777778,
              "#fb9f3a"
             ],
             [
              0.8888888888888888,
              "#fdca26"
             ],
             [
              1,
              "#f0f921"
             ]
            ],
            "type": "heatmap"
           }
          ],
          "heatmapgl": [
           {
            "colorbar": {
             "outlinewidth": 0,
             "ticks": ""
            },
            "colorscale": [
             [
              0,
              "#0d0887"
             ],
             [
              0.1111111111111111,
              "#46039f"
             ],
             [
              0.2222222222222222,
              "#7201a8"
             ],
             [
              0.3333333333333333,
              "#9c179e"
             ],
             [
              0.4444444444444444,
              "#bd3786"
             ],
             [
              0.5555555555555556,
              "#d8576b"
             ],
             [
              0.6666666666666666,
              "#ed7953"
             ],
             [
              0.7777777777777778,
              "#fb9f3a"
             ],
             [
              0.8888888888888888,
              "#fdca26"
             ],
             [
              1,
              "#f0f921"
             ]
            ],
            "type": "heatmapgl"
           }
          ],
          "histogram": [
           {
            "marker": {
             "colorbar": {
              "outlinewidth": 0,
              "ticks": ""
             }
            },
            "type": "histogram"
           }
          ],
          "histogram2d": [
           {
            "colorbar": {
             "outlinewidth": 0,
             "ticks": ""
            },
            "colorscale": [
             [
              0,
              "#0d0887"
             ],
             [
              0.1111111111111111,
              "#46039f"
             ],
             [
              0.2222222222222222,
              "#7201a8"
             ],
             [
              0.3333333333333333,
              "#9c179e"
             ],
             [
              0.4444444444444444,
              "#bd3786"
             ],
             [
              0.5555555555555556,
              "#d8576b"
             ],
             [
              0.6666666666666666,
              "#ed7953"
             ],
             [
              0.7777777777777778,
              "#fb9f3a"
             ],
             [
              0.8888888888888888,
              "#fdca26"
             ],
             [
              1,
              "#f0f921"
             ]
            ],
            "type": "histogram2d"
           }
          ],
          "histogram2dcontour": [
           {
            "colorbar": {
             "outlinewidth": 0,
             "ticks": ""
            },
            "colorscale": [
             [
              0,
              "#0d0887"
             ],
             [
              0.1111111111111111,
              "#46039f"
             ],
             [
              0.2222222222222222,
              "#7201a8"
             ],
             [
              0.3333333333333333,
              "#9c179e"
             ],
             [
              0.4444444444444444,
              "#bd3786"
             ],
             [
              0.5555555555555556,
              "#d8576b"
             ],
             [
              0.6666666666666666,
              "#ed7953"
             ],
             [
              0.7777777777777778,
              "#fb9f3a"
             ],
             [
              0.8888888888888888,
              "#fdca26"
             ],
             [
              1,
              "#f0f921"
             ]
            ],
            "type": "histogram2dcontour"
           }
          ],
          "mesh3d": [
           {
            "colorbar": {
             "outlinewidth": 0,
             "ticks": ""
            },
            "type": "mesh3d"
           }
          ],
          "parcoords": [
           {
            "line": {
             "colorbar": {
              "outlinewidth": 0,
              "ticks": ""
             }
            },
            "type": "parcoords"
           }
          ],
          "pie": [
           {
            "automargin": true,
            "type": "pie"
           }
          ],
          "scatter": [
           {
            "marker": {
             "colorbar": {
              "outlinewidth": 0,
              "ticks": ""
             }
            },
            "type": "scatter"
           }
          ],
          "scatter3d": [
           {
            "line": {
             "colorbar": {
              "outlinewidth": 0,
              "ticks": ""
             }
            },
            "marker": {
             "colorbar": {
              "outlinewidth": 0,
              "ticks": ""
             }
            },
            "type": "scatter3d"
           }
          ],
          "scattercarpet": [
           {
            "marker": {
             "colorbar": {
              "outlinewidth": 0,
              "ticks": ""
             }
            },
            "type": "scattercarpet"
           }
          ],
          "scattergeo": [
           {
            "marker": {
             "colorbar": {
              "outlinewidth": 0,
              "ticks": ""
             }
            },
            "type": "scattergeo"
           }
          ],
          "scattergl": [
           {
            "marker": {
             "colorbar": {
              "outlinewidth": 0,
              "ticks": ""
             }
            },
            "type": "scattergl"
           }
          ],
          "scattermapbox": [
           {
            "marker": {
             "colorbar": {
              "outlinewidth": 0,
              "ticks": ""
             }
            },
            "type": "scattermapbox"
           }
          ],
          "scatterpolar": [
           {
            "marker": {
             "colorbar": {
              "outlinewidth": 0,
              "ticks": ""
             }
            },
            "type": "scatterpolar"
           }
          ],
          "scatterpolargl": [
           {
            "marker": {
             "colorbar": {
              "outlinewidth": 0,
              "ticks": ""
             }
            },
            "type": "scatterpolargl"
           }
          ],
          "scatterternary": [
           {
            "marker": {
             "colorbar": {
              "outlinewidth": 0,
              "ticks": ""
             }
            },
            "type": "scatterternary"
           }
          ],
          "surface": [
           {
            "colorbar": {
             "outlinewidth": 0,
             "ticks": ""
            },
            "colorscale": [
             [
              0,
              "#0d0887"
             ],
             [
              0.1111111111111111,
              "#46039f"
             ],
             [
              0.2222222222222222,
              "#7201a8"
             ],
             [
              0.3333333333333333,
              "#9c179e"
             ],
             [
              0.4444444444444444,
              "#bd3786"
             ],
             [
              0.5555555555555556,
              "#d8576b"
             ],
             [
              0.6666666666666666,
              "#ed7953"
             ],
             [
              0.7777777777777778,
              "#fb9f3a"
             ],
             [
              0.8888888888888888,
              "#fdca26"
             ],
             [
              1,
              "#f0f921"
             ]
            ],
            "type": "surface"
           }
          ],
          "table": [
           {
            "cells": {
             "fill": {
              "color": "#EBF0F8"
             },
             "line": {
              "color": "white"
             }
            },
            "header": {
             "fill": {
              "color": "#C8D4E3"
             },
             "line": {
              "color": "white"
             }
            },
            "type": "table"
           }
          ]
         },
         "layout": {
          "annotationdefaults": {
           "arrowcolor": "#2a3f5f",
           "arrowhead": 0,
           "arrowwidth": 1
          },
          "coloraxis": {
           "colorbar": {
            "outlinewidth": 0,
            "ticks": ""
           }
          },
          "colorscale": {
           "diverging": [
            [
             0,
             "#8e0152"
            ],
            [
             0.1,
             "#c51b7d"
            ],
            [
             0.2,
             "#de77ae"
            ],
            [
             0.3,
             "#f1b6da"
            ],
            [
             0.4,
             "#fde0ef"
            ],
            [
             0.5,
             "#f7f7f7"
            ],
            [
             0.6,
             "#e6f5d0"
            ],
            [
             0.7,
             "#b8e186"
            ],
            [
             0.8,
             "#7fbc41"
            ],
            [
             0.9,
             "#4d9221"
            ],
            [
             1,
             "#276419"
            ]
           ],
           "sequential": [
            [
             0,
             "#0d0887"
            ],
            [
             0.1111111111111111,
             "#46039f"
            ],
            [
             0.2222222222222222,
             "#7201a8"
            ],
            [
             0.3333333333333333,
             "#9c179e"
            ],
            [
             0.4444444444444444,
             "#bd3786"
            ],
            [
             0.5555555555555556,
             "#d8576b"
            ],
            [
             0.6666666666666666,
             "#ed7953"
            ],
            [
             0.7777777777777778,
             "#fb9f3a"
            ],
            [
             0.8888888888888888,
             "#fdca26"
            ],
            [
             1,
             "#f0f921"
            ]
           ],
           "sequentialminus": [
            [
             0,
             "#0d0887"
            ],
            [
             0.1111111111111111,
             "#46039f"
            ],
            [
             0.2222222222222222,
             "#7201a8"
            ],
            [
             0.3333333333333333,
             "#9c179e"
            ],
            [
             0.4444444444444444,
             "#bd3786"
            ],
            [
             0.5555555555555556,
             "#d8576b"
            ],
            [
             0.6666666666666666,
             "#ed7953"
            ],
            [
             0.7777777777777778,
             "#fb9f3a"
            ],
            [
             0.8888888888888888,
             "#fdca26"
            ],
            [
             1,
             "#f0f921"
            ]
           ]
          },
          "colorway": [
           "#636efa",
           "#EF553B",
           "#00cc96",
           "#ab63fa",
           "#FFA15A",
           "#19d3f3",
           "#FF6692",
           "#B6E880",
           "#FF97FF",
           "#FECB52"
          ],
          "font": {
           "color": "#2a3f5f"
          },
          "geo": {
           "bgcolor": "white",
           "lakecolor": "white",
           "landcolor": "#E5ECF6",
           "showlakes": true,
           "showland": true,
           "subunitcolor": "white"
          },
          "hoverlabel": {
           "align": "left"
          },
          "hovermode": "closest",
          "mapbox": {
           "style": "light"
          },
          "paper_bgcolor": "white",
          "plot_bgcolor": "#E5ECF6",
          "polar": {
           "angularaxis": {
            "gridcolor": "white",
            "linecolor": "white",
            "ticks": ""
           },
           "bgcolor": "#E5ECF6",
           "radialaxis": {
            "gridcolor": "white",
            "linecolor": "white",
            "ticks": ""
           }
          },
          "scene": {
           "xaxis": {
            "backgroundcolor": "#E5ECF6",
            "gridcolor": "white",
            "gridwidth": 2,
            "linecolor": "white",
            "showbackground": true,
            "ticks": "",
            "zerolinecolor": "white"
           },
           "yaxis": {
            "backgroundcolor": "#E5ECF6",
            "gridcolor": "white",
            "gridwidth": 2,
            "linecolor": "white",
            "showbackground": true,
            "ticks": "",
            "zerolinecolor": "white"
           },
           "zaxis": {
            "backgroundcolor": "#E5ECF6",
            "gridcolor": "white",
            "gridwidth": 2,
            "linecolor": "white",
            "showbackground": true,
            "ticks": "",
            "zerolinecolor": "white"
           }
          },
          "shapedefaults": {
           "line": {
            "color": "#2a3f5f"
           }
          },
          "ternary": {
           "aaxis": {
            "gridcolor": "white",
            "linecolor": "white",
            "ticks": ""
           },
           "baxis": {
            "gridcolor": "white",
            "linecolor": "white",
            "ticks": ""
           },
           "bgcolor": "#E5ECF6",
           "caxis": {
            "gridcolor": "white",
            "linecolor": "white",
            "ticks": ""
           }
          },
          "title": {
           "x": 0.05
          },
          "xaxis": {
           "automargin": true,
           "gridcolor": "white",
           "linecolor": "white",
           "ticks": "",
           "title": {
            "standoff": 15
           },
           "zerolinecolor": "white",
           "zerolinewidth": 2
          },
          "yaxis": {
           "automargin": true,
           "gridcolor": "white",
           "linecolor": "white",
           "ticks": "",
           "title": {
            "standoff": 15
           },
           "zerolinecolor": "white",
           "zerolinewidth": 2
          }
         }
        },
        "title": {
         "font": {
          "color": "#000000",
          "size": 20
         },
         "text": "Periódicos por Docentes Permanentes",
         "x": 0.5,
         "xanchor": "center"
        },
        "xaxis": {
         "title": {
          "text": "Instituição"
         }
        }
       }
      },
      "text/html": [
       "<div>\n",
       "        \n",
       "        \n",
       "            <div id=\"a902218b-e61e-4444-b0db-12fdb961a80d\" class=\"plotly-graph-div\" style=\"height:525px; width:100%;\"></div>\n",
       "            <script type=\"text/javascript\">\n",
       "                require([\"plotly\"], function(Plotly) {\n",
       "                    window.PLOTLYENV=window.PLOTLYENV || {};\n",
       "                    \n",
       "                if (document.getElementById(\"a902218b-e61e-4444-b0db-12fdb961a80d\")) {\n",
       "                    Plotly.newPlot(\n",
       "                        'a902218b-e61e-4444-b0db-12fdb961a80d',\n",
       "                        [{\"marker\": {\"color\": \"#000044\"}, \"name\": \"A1 (1)\", \"type\": \"bar\", \"x\": [\"UFPE-3\", \"UFPE-4\", \"UFV-4\", \"UFRGS-4\", \"UNB-3\", \"UNB-4\", \"UFRN-4\", \"UERJ-4\", \"UNIFATEA-3\", \"UFU-3\", \" FIAMFAAM-3\", \"UFPA-4\", \"UFAL-3\", \"UEL-4\", \"UFG-3\", \"UFC-3\", \"UNIVILLE-4\", \"UFF-4\", \"UFPB-JP-4\", \"UFBA-4\", \"USP/SC-4\", \"UFMG-6\", \"UFRJ-6\", \"UNESP-BAURU-4\", \"USP-4\", \"UFPEL-4\", \"UFJF-4\", \"UNIFOR-3\", \"UPM-6\", \"UFRJ-4\", \"UFPR-4\", \"PUCCAMP-5\", \"USJT-4\", \"UFMA-3\", \"UFCG-3\", \"UNISINOS-5\", \"UFRGS-5\", \"UNICAMP-5\", \"PUC-RIO-5\", \"UFSC-5\", \"UFRJ-5\", \"UFES-4\", \"UDESC-4\", \"UNESP-BAURU-6\", \"UEMG-5\", \"UNIRITTER-4\", \"IMED-3\", \"UAM-5\", \"PUC-RIO-3\", \"UNISINOS-4\"], \"y\": [0.0, 0.0, 0.0, 0.0, 0.0, 0.0, 0.0, 0.0, 0.0, 0.0, 0.0, 0.0, 0.0, 0.0, 0.0, 0.0, 0.0, 0.0, 0.0, 0.0, 0.0, 0.0, 0.0, 0.0, 0.03468208092485549, 0.0, 0.1, 0.12121212121212122, 0.0, 0.0, 0.09090909090909091, 0.0, 0.0, 0.09523809523809523, 0.0, 0.0, 0.15384615384615385, 0.23529411764705882, 0.058823529411764705, 0.0, 0.045454545454545456, 0.0, 0.18181818181818182, 0.15384615384615385, 0.15384615384615385, 0.09090909090909091, 0.18181818181818182, 0.0, 0.1, 0.4]}, {\"marker\": {\"color\": \"#000088\"}, \"name\": \"A2 (0.875)\", \"type\": \"bar\", \"x\": [\"UFPE-3\", \"UFPE-4\", \"UFV-4\", \"UFRGS-4\", \"UNB-3\", \"UNB-4\", \"UFRN-4\", \"UERJ-4\", \"UNIFATEA-3\", \"UFU-3\", \" FIAMFAAM-3\", \"UFPA-4\", \"UFAL-3\", \"UEL-4\", \"UFG-3\", \"UFC-3\", \"UNIVILLE-4\", \"UFF-4\", \"UFPB-JP-4\", \"UFBA-4\", \"USP/SC-4\", \"UFMG-6\", \"UFRJ-6\", \"UNESP-BAURU-4\", \"USP-4\", \"UFPEL-4\", \"UFJF-4\", \"UNIFOR-3\", \"UPM-6\", \"UFRJ-4\", \"UFPR-4\", \"PUCCAMP-5\", \"USJT-4\", \"UFMA-3\", \"UFCG-3\", \"UNISINOS-5\", \"UFRGS-5\", \"UNICAMP-5\", \"PUC-RIO-5\", \"UFSC-5\", \"UFRJ-5\", \"UFES-4\", \"UDESC-4\", \"UNESP-BAURU-6\", \"UEMG-5\", \"UNIRITTER-4\", \"IMED-3\", \"UAM-5\", \"PUC-RIO-3\", \"UNISINOS-4\"], \"y\": [0.0, 0.0, 0.0, 0.0, 0.0, 0.0, 0.0, 0.0, 0.0, 0.0, 0.0, 0.0, 0.040697674418604654, 0.0, 0.0, 0.07954545454545454, 0.0, 0.046052631578947366, 0.0, 0.0, 0.031818181818181815, 0.0, 0.0, 0.0, 0.030346820809248554, 0.0, 0.0, 0.0, 0.0, 0.0, 0.0, 0.14583333333333334, 0.0875, 0.0, 0.0, 0.0, 0.04487179487179487, 0.0, 0.051470588235294115, 0.0, 0.03977272727272727, 0.0, 0.07954545454545454, 0.0673076923076923, 0.0673076923076923, 0.07954545454545454, 0.0, 0.0, 0.4375, 0.0]}, {\"marker\": {\"color\": \"#0000CC\"}, \"name\": \"A3 (0.75)\", \"type\": \"bar\", \"x\": [\"UFPE-3\", \"UFPE-4\", \"UFV-4\", \"UFRGS-4\", \"UNB-3\", \"UNB-4\", \"UFRN-4\", \"UERJ-4\", \"UNIFATEA-3\", \"UFU-3\", \" FIAMFAAM-3\", \"UFPA-4\", \"UFAL-3\", \"UEL-4\", \"UFG-3\", \"UFC-3\", \"UNIVILLE-4\", \"UFF-4\", \"UFPB-JP-4\", \"UFBA-4\", \"USP/SC-4\", \"UFMG-6\", \"UFRJ-6\", \"UNESP-BAURU-4\", \"USP-4\", \"UFPEL-4\", \"UFJF-4\", \"UNIFOR-3\", \"UPM-6\", \"UFRJ-4\", \"UFPR-4\", \"PUCCAMP-5\", \"USJT-4\", \"UFMA-3\", \"UFCG-3\", \"UNISINOS-5\", \"UFRGS-5\", \"UNICAMP-5\", \"PUC-RIO-5\", \"UFSC-5\", \"UFRJ-5\", \"UFES-4\", \"UDESC-4\", \"UNESP-BAURU-6\", \"UEMG-5\", \"UNIRITTER-4\", \"IMED-3\", \"UAM-5\", \"PUC-RIO-3\", \"UNISINOS-4\"], \"y\": [0.0, 0.0, 0.0, 0.0, 0.0, 0.0, 0.0, 0.0, 0.0, 0.0, 0.075, 0.0, 0.0, 0.0, 0.05357142857142857, 0.0, 0.0, 0.039473684210526314, 0.0, 0.0, 0.0, 0.0, 0.0, 0.0, 0.02601156069364162, 0.0, 0.0, 0.0, 0.04411764705882353, 0.13636363636363635, 0.0, 0.0625, 0.0, 0.07142857142857142, 0.06521739130434782, 0.0, 0.038461538461538464, 0.04411764705882353, 0.04411764705882353, 0.11043533930857874, 0.10227272727272728, 0.0, 0.0, 0.057692307692307696, 0.0, 0.0625, 0.06818181818181818, 0.2727272727272727, 0.075, 0.075]}, {\"marker\": {\"color\": \"#0000FF\"}, \"name\": \"A4 (0.625)\", \"type\": \"bar\", \"x\": [\"UFPE-3\", \"UFPE-4\", \"UFV-4\", \"UFRGS-4\", \"UNB-3\", \"UNB-4\", \"UFRN-4\", \"UERJ-4\", \"UNIFATEA-3\", \"UFU-3\", \" FIAMFAAM-3\", \"UFPA-4\", \"UFAL-3\", \"UEL-4\", \"UFG-3\", \"UFC-3\", \"UNIVILLE-4\", \"UFF-4\", \"UFPB-JP-4\", \"UFBA-4\", \"USP/SC-4\", \"UFMG-6\", \"UFRJ-6\", \"UNESP-BAURU-4\", \"USP-4\", \"UFPEL-4\", \"UFJF-4\", \"UNIFOR-3\", \"UPM-6\", \"UFRJ-4\", \"UFPR-4\", \"PUCCAMP-5\", \"USJT-4\", \"UFMA-3\", \"UFCG-3\", \"UNISINOS-5\", \"UFRGS-5\", \"UNICAMP-5\", \"PUC-RIO-5\", \"UFSC-5\", \"UFRJ-5\", \"UFES-4\", \"UDESC-4\", \"UNESP-BAURU-6\", \"UEMG-5\", \"UNIRITTER-4\", \"IMED-3\", \"UAM-5\", \"PUC-RIO-3\", \"UNISINOS-4\"], \"y\": [0.0, 0.0, 0.0, 0.0, 0.0, 0.020833333333333332, 0.0, 0.04032258064516129, 0.0, 0.0, 0.0, 0.04807692307692308, 0.0, 0.041666666666666664, 0.044642857142857144, 0.0, 0.0, 0.0, 0.041666666666666664, 0.052083333333333336, 0.06818181818181818, 0.1358695652173913, 0.06944444444444445, 0.0, 0.028901734104046242, 0.07352941176470588, 0.0625, 0.07575757575757576, 0.0, 0.056818181818181816, 0.11363636363636363, 0.0, 0.0, 0.0, 0.16304347826086957, 0.05434782608695652, 0.0, 0.0, 0.03676470588235294, 0.0, 0.056818181818181816, 0.2840909090909091, 0.0, 0.09615384615384616, 0.14423076923076922, 0.0, 0.17045454545454544, 0.22727272727272727, 0.0, 0.0625]}, {\"marker\": {\"color\": \"#003300\"}, \"name\": \"B1 (0.5)\", \"type\": \"bar\", \"x\": [\"UFPE-3\", \"UFPE-4\", \"UFV-4\", \"UFRGS-4\", \"UNB-3\", \"UNB-4\", \"UFRN-4\", \"UERJ-4\", \"UNIFATEA-3\", \"UFU-3\", \" FIAMFAAM-3\", \"UFPA-4\", \"UFAL-3\", \"UEL-4\", \"UFG-3\", \"UFC-3\", \"UNIVILLE-4\", \"UFF-4\", \"UFPB-JP-4\", \"UFBA-4\", \"USP/SC-4\", \"UFMG-6\", \"UFRJ-6\", \"UNESP-BAURU-4\", \"USP-4\", \"UFPEL-4\", \"UFJF-4\", \"UNIFOR-3\", \"UPM-6\", \"UFRJ-4\", \"UFPR-4\", \"PUCCAMP-5\", \"USJT-4\", \"UFMA-3\", \"UFCG-3\", \"UNISINOS-5\", \"UFRGS-5\", \"UNICAMP-5\", \"PUC-RIO-5\", \"UFSC-5\", \"UFRJ-5\", \"UFES-4\", \"UDESC-4\", \"UNESP-BAURU-6\", \"UEMG-5\", \"UNIRITTER-4\", \"IMED-3\", \"UAM-5\", \"PUC-RIO-3\", \"UNISINOS-4\"], \"y\": [0.0, 0.0, 0.0, 0.0, 0.0, 0.0, 0.0, 0.0, 0.05, 0.07692307692307693, 0.0, 0.0, 0.046511627906976744, 0.03333333333333333, 0.0, 0.0, 0.0, 0.0, 0.03333333333333333, 0.041666666666666664, 0.0, 0.0, 0.05555555555555555, 0.0, 0.028901734104046242, 0.058823529411764705, 0.0, 0.0, 0.029411764705882353, 0.0, 0.0, 0.0, 0.05, 0.047619047619047616, 0.043478260869565216, 0.17391304347826086, 0.02564102564102564, 0.0, 0.08823529411764706, 0.05953905249679898, 0.022727272727272728, 0.0, 0.0, 0.0, 0.038461538461538464, 0.12878787878787878, 0.09090909090909091, 0.09090909090909091, 0.0, 0.15]}, {\"marker\": {\"color\": \"#006600\"}, \"name\": \"B2 (0.2)\", \"type\": \"bar\", \"x\": [\"UFPE-3\", \"UFPE-4\", \"UFV-4\", \"UFRGS-4\", \"UNB-3\", \"UNB-4\", \"UFRN-4\", \"UERJ-4\", \"UNIFATEA-3\", \"UFU-3\", \" FIAMFAAM-3\", \"UFPA-4\", \"UFAL-3\", \"UEL-4\", \"UFG-3\", \"UFC-3\", \"UNIVILLE-4\", \"UFF-4\", \"UFPB-JP-4\", \"UFBA-4\", \"USP/SC-4\", \"UFMG-6\", \"UFRJ-6\", \"UNESP-BAURU-4\", \"USP-4\", \"UFPEL-4\", \"UFJF-4\", \"UNIFOR-3\", \"UPM-6\", \"UFRJ-4\", \"UFPR-4\", \"PUCCAMP-5\", \"USJT-4\", \"UFMA-3\", \"UFCG-3\", \"UNISINOS-5\", \"UFRGS-5\", \"UNICAMP-5\", \"PUC-RIO-5\", \"UFSC-5\", \"UFRJ-5\", \"UFES-4\", \"UDESC-4\", \"UNESP-BAURU-6\", \"UEMG-5\", \"UNIRITTER-4\", \"IMED-3\", \"UAM-5\", \"PUC-RIO-3\", \"UNISINOS-4\"], \"y\": [0.0, 0.0, 0.0, 0.01, 0.016666666666666666, 0.0, 0.027149321266968326, 0.0, 0.0, 0.0, 0.0, 0.03076923076923077, 0.0, 0.013333333333333334, 0.0, 0.018181818181818184, 0.06000000000000001, 0.010526315789473684, 0.013333333333333334, 0.027477477477477478, 0.02181818181818182, 0.008695652173913044, 0.011111111111111112, 0.14, 0.0023121387283236996, 0.023529411764705882, 0.0, 0.0, 0.10588235294117647, 0.03076923076923077, 0.0, 0.03333333333333333, 0.1, 0.05714285714285715, 0.0, 0.05217391304347827, 0.030769230769230774, 0.011764705882352941, 0.023529411764705882, 0.08399487836107555, 0.03636363636363637, 0.05454545454545456, 0.07272727272727274, 0.0, 0.015384615384615385, 0.10606060606060608, 0.0, 0.0, 0.02, 0.16]}, {\"marker\": {\"color\": \"#009900\"}, \"name\": \"B3 (0.1)\", \"type\": \"bar\", \"x\": [\"UFPE-3\", \"UFPE-4\", \"UFV-4\", \"UFRGS-4\", \"UNB-3\", \"UNB-4\", \"UFRN-4\", \"UERJ-4\", \"UNIFATEA-3\", \"UFU-3\", \" FIAMFAAM-3\", \"UFPA-4\", \"UFAL-3\", \"UEL-4\", \"UFG-3\", \"UFC-3\", \"UNIVILLE-4\", \"UFF-4\", \"UFPB-JP-4\", \"UFBA-4\", \"USP/SC-4\", \"UFMG-6\", \"UFRJ-6\", \"UNESP-BAURU-4\", \"USP-4\", \"UFPEL-4\", \"UFJF-4\", \"UNIFOR-3\", \"UPM-6\", \"UFRJ-4\", \"UFPR-4\", \"PUCCAMP-5\", \"USJT-4\", \"UFMA-3\", \"UFCG-3\", \"UNISINOS-5\", \"UFRGS-5\", \"UNICAMP-5\", \"PUC-RIO-5\", \"UFSC-5\", \"UFRJ-5\", \"UFES-4\", \"UDESC-4\", \"UNESP-BAURU-6\", \"UEMG-5\", \"UNIRITTER-4\", \"IMED-3\", \"UAM-5\", \"PUC-RIO-3\", \"UNISINOS-4\"], \"y\": [0.0, 0.0, 0.011111111111111112, 0.015000000000000003, 0.0, 0.006666666666666667, 0.01838235294117647, 0.0064516129032258064, 0.0, 0.007692307692307693, 0.01, 0.007692307692307693, 0.0, 0.006666666666666667, 0.0, 0.009090909090909092, 0.05, 0.021052631578947368, 0.04000000000000001, 0.01790540540540541, 0.02181818181818182, 0.0, 0.011111111111111112, 0.01, 0.013872832369942198, 0.023529411764705882, 0.02, 0.006060606060606061, 0.029411764705882353, 0.0, 0.02727272727272728, 0.0, 0.02, 0.0, 0.008695652173913044, 0.0, 0.0, 0.0058823529411764705, 0.0, 0.044814340588988484, 0.009090909090909092, 0.018181818181818184, 0.03636363636363637, 0.0, 0.007692307692307693, 0.04318181818181819, 0.03636363636363637, 0.018181818181818184, 0.01, 0.04]}, {\"marker\": {\"color\": \"#00CC00\"}, \"name\": \"B4 (0.05)\", \"type\": \"bar\", \"x\": [\"UFPE-3\", \"UFPE-4\", \"UFV-4\", \"UFRGS-4\", \"UNB-3\", \"UNB-4\", \"UFRN-4\", \"UERJ-4\", \"UNIFATEA-3\", \"UFU-3\", \" FIAMFAAM-3\", \"UFPA-4\", \"UFAL-3\", \"UEL-4\", \"UFG-3\", \"UFC-3\", \"UNIVILLE-4\", \"UFF-4\", \"UFPB-JP-4\", \"UFBA-4\", \"USP/SC-4\", \"UFMG-6\", \"UFRJ-6\", \"UNESP-BAURU-4\", \"USP-4\", \"UFPEL-4\", \"UFJF-4\", \"UNIFOR-3\", \"UPM-6\", \"UFRJ-4\", \"UFPR-4\", \"PUCCAMP-5\", \"USJT-4\", \"UFMA-3\", \"UFCG-3\", \"UNISINOS-5\", \"UFRGS-5\", \"UNICAMP-5\", \"PUC-RIO-5\", \"UFSC-5\", \"UFRJ-5\", \"UFES-4\", \"UDESC-4\", \"UNESP-BAURU-6\", \"UEMG-5\", \"UNIRITTER-4\", \"IMED-3\", \"UAM-5\", \"PUC-RIO-3\", \"UNISINOS-4\"], \"y\": [0.0, 0.0025, 0.0, 0.0, 0.008333333333333333, 0.0016666666666666668, 0.0, 0.0, 0.0, 0.0, 0.0, 0.0, 0.002325581395348837, 0.0, 0.0, 0.0, 0.0, 0.002631578947368421, 0.0, 0.0, 0.0, 0.004347826086956522, 0.002777777777777778, 0.0, 0.0011560693641618498, 0.0029411764705882353, 0.0, 0.0, 0.0029411764705882353, 0.0, 0.009090909090909092, 0.0, 0.0, 0.004761904761904762, 0.0, 0.004347826086956522, 0.002564102564102564, 0.0, 0.0, 0.011907810499359796, 0.002272727272727273, 0.0, 0.004545454545454546, 0.0038461538461538464, 0.01153846153846154, 0.004545454545454546, 0.0, 0.004545454545454546, 0.0, 0.0]}, {\"marker\": {\"color\": \"#00FF00\"}, \"name\": \"B5 (0)\", \"type\": \"bar\", \"x\": [\"UFPE-3\", \"UFPE-4\", \"UFV-4\", \"UFRGS-4\", \"UNB-3\", \"UNB-4\", \"UFRN-4\", \"UERJ-4\", \"UNIFATEA-3\", \"UFU-3\", \" FIAMFAAM-3\", \"UFPA-4\", \"UFAL-3\", \"UEL-4\", \"UFG-3\", \"UFC-3\", \"UNIVILLE-4\", \"UFF-4\", \"UFPB-JP-4\", \"UFBA-4\", \"USP/SC-4\", \"UFMG-6\", \"UFRJ-6\", \"UNESP-BAURU-4\", \"USP-4\", \"UFPEL-4\", \"UFJF-4\", \"UNIFOR-3\", \"UPM-6\", \"UFRJ-4\", \"UFPR-4\", \"PUCCAMP-5\", \"USJT-4\", \"UFMA-3\", \"UFCG-3\", \"UNISINOS-5\", \"UFRGS-5\", \"UNICAMP-5\", \"PUC-RIO-5\", \"UFSC-5\", \"UFRJ-5\", \"UFES-4\", \"UDESC-4\", \"UNESP-BAURU-6\", \"UEMG-5\", \"UNIRITTER-4\", \"IMED-3\", \"UAM-5\", \"PUC-RIO-3\", \"UNISINOS-4\"], \"y\": [0.0, 0.0, 0.0, 0.0, 0.0, 0.0, 0.0, 0.0, 0.0, 0.0, 0.0, 0.0, 0.0, 0.0, 0.0, 0.0, 0.0, 0.0, 0.0, 0.0, 0.0, 0.0, 0.0, 0.0, 0.0, 0.0, 0.0, 0.0, 0.0, 0.0, 0.0, 0.0, 0.0, 0.0, 0.0, 0.0, 0.0, 0.0, 0.0, 0.0, 0.0, 0.0, 0.0, 0.0, 0.0, 0.0, 0.0, 0.0, 0.0, 0.0]}, {\"marker\": {\"color\": \"#880000\"}, \"name\": \"C (0)\", \"type\": \"bar\", \"x\": [\"UFPE-3\", \"UFPE-4\", \"UFV-4\", \"UFRGS-4\", \"UNB-3\", \"UNB-4\", \"UFRN-4\", \"UERJ-4\", \"UNIFATEA-3\", \"UFU-3\", \" FIAMFAAM-3\", \"UFPA-4\", \"UFAL-3\", \"UEL-4\", \"UFG-3\", \"UFC-3\", \"UNIVILLE-4\", \"UFF-4\", \"UFPB-JP-4\", \"UFBA-4\", \"USP/SC-4\", \"UFMG-6\", \"UFRJ-6\", \"UNESP-BAURU-4\", \"USP-4\", \"UFPEL-4\", \"UFJF-4\", \"UNIFOR-3\", \"UPM-6\", \"UFRJ-4\", \"UFPR-4\", \"PUCCAMP-5\", \"USJT-4\", \"UFMA-3\", \"UFCG-3\", \"UNISINOS-5\", \"UFRGS-5\", \"UNICAMP-5\", \"PUC-RIO-5\", \"UFSC-5\", \"UFRJ-5\", \"UFES-4\", \"UDESC-4\", \"UNESP-BAURU-6\", \"UEMG-5\", \"UNIRITTER-4\", \"IMED-3\", \"UAM-5\", \"PUC-RIO-3\", \"UNISINOS-4\"], \"y\": [0.0, 0.0, 0.0, 0.0, 0.0, 0.0, 0.0, 0.0, 0.0, 0.0, 0.0, 0.0, 0.0, 0.0, 0.0, 0.0, 0.0, 0.0, 0.0, 0.0, 0.0, 0.0, 0.0, 0.0, 0.0, 0.0, 0.0, 0.0, 0.0, 0.0, 0.0, 0.0, 0.0, 0.0, 0.0, 0.0, 0.0, 0.0, 0.0, 0.0, 0.0, 0.0, 0.0, 0.0, 0.0, 0.0, 0.0, 0.0, 0.0, 0.0]}, {\"marker\": {\"color\": \"#CC0000\"}, \"name\": \"NA (0)\", \"type\": \"bar\", \"x\": [\"UFPE-3\", \"UFPE-4\", \"UFV-4\", \"UFRGS-4\", \"UNB-3\", \"UNB-4\", \"UFRN-4\", \"UERJ-4\", \"UNIFATEA-3\", \"UFU-3\", \" FIAMFAAM-3\", \"UFPA-4\", \"UFAL-3\", \"UEL-4\", \"UFG-3\", \"UFC-3\", \"UNIVILLE-4\", \"UFF-4\", \"UFPB-JP-4\", \"UFBA-4\", \"USP/SC-4\", \"UFMG-6\", \"UFRJ-6\", \"UNESP-BAURU-4\", \"USP-4\", \"UFPEL-4\", \"UFJF-4\", \"UNIFOR-3\", \"UPM-6\", \"UFRJ-4\", \"UFPR-4\", \"PUCCAMP-5\", \"USJT-4\", \"UFMA-3\", \"UFCG-3\", \"UNISINOS-5\", \"UFRGS-5\", \"UNICAMP-5\", \"PUC-RIO-5\", \"UFSC-5\", \"UFRJ-5\", \"UFES-4\", \"UDESC-4\", \"UNESP-BAURU-6\", \"UEMG-5\", \"UNIRITTER-4\", \"IMED-3\", \"UAM-5\", \"PUC-RIO-3\", \"UNISINOS-4\"], \"y\": [0.0, 0.0, 0.0, 0.0, 0.0, 0.0, 0.0, 0.0, 0.0, 0.0, 0.0, 0.0, 0.0, 0.0, 0.0, 0.0, 0.0, 0.0, 0.0, 0.0, 0.0, 0.0, 0.0, 0.0, 0.0, 0.0, 0.0, 0.0, 0.0, 0.0, 0.0, 0.0, 0.0, 0.0, 0.0, 0.0, 0.0, 0.0, 0.0, 0.0, 0.0, 0.0, 0.0, 0.0, 0.0, 0.0, 0.0, 0.0, 0.0, 0.0]}, {\"marker\": {\"color\": \"#FF0000\"}, \"name\": \"NP (0)\", \"type\": \"bar\", \"x\": [\"UFPE-3\", \"UFPE-4\", \"UFV-4\", \"UFRGS-4\", \"UNB-3\", \"UNB-4\", \"UFRN-4\", \"UERJ-4\", \"UNIFATEA-3\", \"UFU-3\", \" FIAMFAAM-3\", \"UFPA-4\", \"UFAL-3\", \"UEL-4\", \"UFG-3\", \"UFC-3\", \"UNIVILLE-4\", \"UFF-4\", \"UFPB-JP-4\", \"UFBA-4\", \"USP/SC-4\", \"UFMG-6\", \"UFRJ-6\", \"UNESP-BAURU-4\", \"USP-4\", \"UFPEL-4\", \"UFJF-4\", \"UNIFOR-3\", \"UPM-6\", \"UFRJ-4\", \"UFPR-4\", \"PUCCAMP-5\", \"USJT-4\", \"UFMA-3\", \"UFCG-3\", \"UNISINOS-5\", \"UFRGS-5\", \"UNICAMP-5\", \"PUC-RIO-5\", \"UFSC-5\", \"UFRJ-5\", \"UFES-4\", \"UDESC-4\", \"UNESP-BAURU-6\", \"UEMG-5\", \"UNIRITTER-4\", \"IMED-3\", \"UAM-5\", \"PUC-RIO-3\", \"UNISINOS-4\"], \"y\": [0.0, 0.0, 0.0, 0.0, 0.0, 0.0, 0.0, 0.0, 0.0, 0.0, 0.0, 0.0, 0.0, 0.0, 0.0, 0.0, 0.0, 0.0, 0.0, 0.0, 0.0, 0.0, 0.0, 0.0, 0.0, 0.0, 0.0, 0.0, 0.0, 0.0, 0.0, 0.0, 0.0, 0.0, 0.0, 0.0, 0.0, 0.0, 0.0, 0.0, 0.0, 0.0, 0.0, 0.0, 0.0, 0.0, 0.0, 0.0, 0.0, 0.0]}],\n",
       "                        {\"barmode\": \"stack\", \"template\": {\"data\": {\"bar\": [{\"error_x\": {\"color\": \"#2a3f5f\"}, \"error_y\": {\"color\": \"#2a3f5f\"}, \"marker\": {\"line\": {\"color\": \"#E5ECF6\", \"width\": 0.5}}, \"type\": \"bar\"}], \"barpolar\": [{\"marker\": {\"line\": {\"color\": \"#E5ECF6\", \"width\": 0.5}}, \"type\": \"barpolar\"}], \"carpet\": [{\"aaxis\": {\"endlinecolor\": \"#2a3f5f\", \"gridcolor\": \"white\", \"linecolor\": \"white\", \"minorgridcolor\": \"white\", \"startlinecolor\": \"#2a3f5f\"}, \"baxis\": {\"endlinecolor\": \"#2a3f5f\", \"gridcolor\": \"white\", \"linecolor\": \"white\", \"minorgridcolor\": \"white\", \"startlinecolor\": \"#2a3f5f\"}, \"type\": \"carpet\"}], \"choropleth\": [{\"colorbar\": {\"outlinewidth\": 0, \"ticks\": \"\"}, \"type\": \"choropleth\"}], \"contour\": [{\"colorbar\": {\"outlinewidth\": 0, \"ticks\": \"\"}, \"colorscale\": [[0.0, \"#0d0887\"], [0.1111111111111111, \"#46039f\"], [0.2222222222222222, \"#7201a8\"], [0.3333333333333333, \"#9c179e\"], [0.4444444444444444, \"#bd3786\"], [0.5555555555555556, \"#d8576b\"], [0.6666666666666666, \"#ed7953\"], [0.7777777777777778, \"#fb9f3a\"], [0.8888888888888888, \"#fdca26\"], [1.0, \"#f0f921\"]], \"type\": \"contour\"}], \"contourcarpet\": [{\"colorbar\": {\"outlinewidth\": 0, \"ticks\": \"\"}, \"type\": \"contourcarpet\"}], \"heatmap\": [{\"colorbar\": {\"outlinewidth\": 0, \"ticks\": \"\"}, \"colorscale\": [[0.0, \"#0d0887\"], [0.1111111111111111, \"#46039f\"], [0.2222222222222222, \"#7201a8\"], [0.3333333333333333, \"#9c179e\"], [0.4444444444444444, \"#bd3786\"], [0.5555555555555556, \"#d8576b\"], [0.6666666666666666, \"#ed7953\"], [0.7777777777777778, \"#fb9f3a\"], [0.8888888888888888, \"#fdca26\"], [1.0, \"#f0f921\"]], \"type\": \"heatmap\"}], \"heatmapgl\": [{\"colorbar\": {\"outlinewidth\": 0, \"ticks\": \"\"}, \"colorscale\": [[0.0, \"#0d0887\"], [0.1111111111111111, \"#46039f\"], [0.2222222222222222, \"#7201a8\"], [0.3333333333333333, \"#9c179e\"], [0.4444444444444444, \"#bd3786\"], [0.5555555555555556, \"#d8576b\"], [0.6666666666666666, \"#ed7953\"], [0.7777777777777778, \"#fb9f3a\"], [0.8888888888888888, \"#fdca26\"], [1.0, \"#f0f921\"]], \"type\": \"heatmapgl\"}], \"histogram\": [{\"marker\": {\"colorbar\": {\"outlinewidth\": 0, \"ticks\": \"\"}}, \"type\": \"histogram\"}], \"histogram2d\": [{\"colorbar\": {\"outlinewidth\": 0, \"ticks\": \"\"}, \"colorscale\": [[0.0, \"#0d0887\"], [0.1111111111111111, \"#46039f\"], [0.2222222222222222, \"#7201a8\"], [0.3333333333333333, \"#9c179e\"], [0.4444444444444444, \"#bd3786\"], [0.5555555555555556, \"#d8576b\"], [0.6666666666666666, \"#ed7953\"], [0.7777777777777778, \"#fb9f3a\"], [0.8888888888888888, \"#fdca26\"], [1.0, \"#f0f921\"]], \"type\": \"histogram2d\"}], \"histogram2dcontour\": [{\"colorbar\": {\"outlinewidth\": 0, \"ticks\": \"\"}, \"colorscale\": [[0.0, \"#0d0887\"], [0.1111111111111111, \"#46039f\"], [0.2222222222222222, \"#7201a8\"], [0.3333333333333333, \"#9c179e\"], [0.4444444444444444, \"#bd3786\"], [0.5555555555555556, \"#d8576b\"], [0.6666666666666666, \"#ed7953\"], [0.7777777777777778, \"#fb9f3a\"], [0.8888888888888888, \"#fdca26\"], [1.0, \"#f0f921\"]], \"type\": \"histogram2dcontour\"}], \"mesh3d\": [{\"colorbar\": {\"outlinewidth\": 0, \"ticks\": \"\"}, \"type\": \"mesh3d\"}], \"parcoords\": [{\"line\": {\"colorbar\": {\"outlinewidth\": 0, \"ticks\": \"\"}}, \"type\": \"parcoords\"}], \"pie\": [{\"automargin\": true, \"type\": \"pie\"}], \"scatter\": [{\"marker\": {\"colorbar\": {\"outlinewidth\": 0, \"ticks\": \"\"}}, \"type\": \"scatter\"}], \"scatter3d\": [{\"line\": {\"colorbar\": {\"outlinewidth\": 0, \"ticks\": \"\"}}, \"marker\": {\"colorbar\": {\"outlinewidth\": 0, \"ticks\": \"\"}}, \"type\": \"scatter3d\"}], \"scattercarpet\": [{\"marker\": {\"colorbar\": {\"outlinewidth\": 0, \"ticks\": \"\"}}, \"type\": \"scattercarpet\"}], \"scattergeo\": [{\"marker\": {\"colorbar\": {\"outlinewidth\": 0, \"ticks\": \"\"}}, \"type\": \"scattergeo\"}], \"scattergl\": [{\"marker\": {\"colorbar\": {\"outlinewidth\": 0, \"ticks\": \"\"}}, \"type\": \"scattergl\"}], \"scattermapbox\": [{\"marker\": {\"colorbar\": {\"outlinewidth\": 0, \"ticks\": \"\"}}, \"type\": \"scattermapbox\"}], \"scatterpolar\": [{\"marker\": {\"colorbar\": {\"outlinewidth\": 0, \"ticks\": \"\"}}, \"type\": \"scatterpolar\"}], \"scatterpolargl\": [{\"marker\": {\"colorbar\": {\"outlinewidth\": 0, \"ticks\": \"\"}}, \"type\": \"scatterpolargl\"}], \"scatterternary\": [{\"marker\": {\"colorbar\": {\"outlinewidth\": 0, \"ticks\": \"\"}}, \"type\": \"scatterternary\"}], \"surface\": [{\"colorbar\": {\"outlinewidth\": 0, \"ticks\": \"\"}, \"colorscale\": [[0.0, \"#0d0887\"], [0.1111111111111111, \"#46039f\"], [0.2222222222222222, \"#7201a8\"], [0.3333333333333333, \"#9c179e\"], [0.4444444444444444, \"#bd3786\"], [0.5555555555555556, \"#d8576b\"], [0.6666666666666666, \"#ed7953\"], [0.7777777777777778, \"#fb9f3a\"], [0.8888888888888888, \"#fdca26\"], [1.0, \"#f0f921\"]], \"type\": \"surface\"}], \"table\": [{\"cells\": {\"fill\": {\"color\": \"#EBF0F8\"}, \"line\": {\"color\": \"white\"}}, \"header\": {\"fill\": {\"color\": \"#C8D4E3\"}, \"line\": {\"color\": \"white\"}}, \"type\": \"table\"}]}, \"layout\": {\"annotationdefaults\": {\"arrowcolor\": \"#2a3f5f\", \"arrowhead\": 0, \"arrowwidth\": 1}, \"coloraxis\": {\"colorbar\": {\"outlinewidth\": 0, \"ticks\": \"\"}}, \"colorscale\": {\"diverging\": [[0, \"#8e0152\"], [0.1, \"#c51b7d\"], [0.2, \"#de77ae\"], [0.3, \"#f1b6da\"], [0.4, \"#fde0ef\"], [0.5, \"#f7f7f7\"], [0.6, \"#e6f5d0\"], [0.7, \"#b8e186\"], [0.8, \"#7fbc41\"], [0.9, \"#4d9221\"], [1, \"#276419\"]], \"sequential\": [[0.0, \"#0d0887\"], [0.1111111111111111, \"#46039f\"], [0.2222222222222222, \"#7201a8\"], [0.3333333333333333, \"#9c179e\"], [0.4444444444444444, \"#bd3786\"], [0.5555555555555556, \"#d8576b\"], [0.6666666666666666, \"#ed7953\"], [0.7777777777777778, \"#fb9f3a\"], [0.8888888888888888, \"#fdca26\"], [1.0, \"#f0f921\"]], \"sequentialminus\": [[0.0, \"#0d0887\"], [0.1111111111111111, \"#46039f\"], [0.2222222222222222, \"#7201a8\"], [0.3333333333333333, \"#9c179e\"], [0.4444444444444444, \"#bd3786\"], [0.5555555555555556, \"#d8576b\"], [0.6666666666666666, \"#ed7953\"], [0.7777777777777778, \"#fb9f3a\"], [0.8888888888888888, \"#fdca26\"], [1.0, \"#f0f921\"]]}, \"colorway\": [\"#636efa\", \"#EF553B\", \"#00cc96\", \"#ab63fa\", \"#FFA15A\", \"#19d3f3\", \"#FF6692\", \"#B6E880\", \"#FF97FF\", \"#FECB52\"], \"font\": {\"color\": \"#2a3f5f\"}, \"geo\": {\"bgcolor\": \"white\", \"lakecolor\": \"white\", \"landcolor\": \"#E5ECF6\", \"showlakes\": true, \"showland\": true, \"subunitcolor\": \"white\"}, \"hoverlabel\": {\"align\": \"left\"}, \"hovermode\": \"closest\", \"mapbox\": {\"style\": \"light\"}, \"paper_bgcolor\": \"white\", \"plot_bgcolor\": \"#E5ECF6\", \"polar\": {\"angularaxis\": {\"gridcolor\": \"white\", \"linecolor\": \"white\", \"ticks\": \"\"}, \"bgcolor\": \"#E5ECF6\", \"radialaxis\": {\"gridcolor\": \"white\", \"linecolor\": \"white\", \"ticks\": \"\"}}, \"scene\": {\"xaxis\": {\"backgroundcolor\": \"#E5ECF6\", \"gridcolor\": \"white\", \"gridwidth\": 2, \"linecolor\": \"white\", \"showbackground\": true, \"ticks\": \"\", \"zerolinecolor\": \"white\"}, \"yaxis\": {\"backgroundcolor\": \"#E5ECF6\", \"gridcolor\": \"white\", \"gridwidth\": 2, \"linecolor\": \"white\", \"showbackground\": true, \"ticks\": \"\", \"zerolinecolor\": \"white\"}, \"zaxis\": {\"backgroundcolor\": \"#E5ECF6\", \"gridcolor\": \"white\", \"gridwidth\": 2, \"linecolor\": \"white\", \"showbackground\": true, \"ticks\": \"\", \"zerolinecolor\": \"white\"}}, \"shapedefaults\": {\"line\": {\"color\": \"#2a3f5f\"}}, \"ternary\": {\"aaxis\": {\"gridcolor\": \"white\", \"linecolor\": \"white\", \"ticks\": \"\"}, \"baxis\": {\"gridcolor\": \"white\", \"linecolor\": \"white\", \"ticks\": \"\"}, \"bgcolor\": \"#E5ECF6\", \"caxis\": {\"gridcolor\": \"white\", \"linecolor\": \"white\", \"ticks\": \"\"}}, \"title\": {\"x\": 0.05}, \"xaxis\": {\"automargin\": true, \"gridcolor\": \"white\", \"linecolor\": \"white\", \"ticks\": \"\", \"title\": {\"standoff\": 15}, \"zerolinecolor\": \"white\", \"zerolinewidth\": 2}, \"yaxis\": {\"automargin\": true, \"gridcolor\": \"white\", \"linecolor\": \"white\", \"ticks\": \"\", \"title\": {\"standoff\": 15}, \"zerolinecolor\": \"white\", \"zerolinewidth\": 2}}}, \"title\": {\"font\": {\"color\": \"#000000\", \"size\": 20}, \"text\": \"Peri\\u00f3dicos por Docentes Permanentes\", \"x\": 0.5, \"xanchor\": \"center\"}, \"xaxis\": {\"title\": {\"text\": \"Institui\\u00e7\\u00e3o\"}}},\n",
       "                        {\"responsive\": true}\n",
       "                    ).then(function(){\n",
       "                            \n",
       "var gd = document.getElementById('a902218b-e61e-4444-b0db-12fdb961a80d');\n",
       "var x = new MutationObserver(function (mutations, observer) {{\n",
       "        var display = window.getComputedStyle(gd).display;\n",
       "        if (!display || display === 'none') {{\n",
       "            console.log([gd, 'removed!']);\n",
       "            Plotly.purge(gd);\n",
       "            observer.disconnect();\n",
       "        }}\n",
       "}});\n",
       "\n",
       "// Listen for the removal of the full notebook cells\n",
       "var notebookContainer = gd.closest('#notebook-container');\n",
       "if (notebookContainer) {{\n",
       "    x.observe(notebookContainer, {childList: true});\n",
       "}}\n",
       "\n",
       "// Listen for the clearing of the current output cell\n",
       "var outputEl = gd.closest('.output');\n",
       "if (outputEl) {{\n",
       "    x.observe(outputEl, {childList: true});\n",
       "}}\n",
       "\n",
       "                        })\n",
       "                };\n",
       "                });\n",
       "            </script>\n",
       "        </div>"
      ]
     },
     "metadata": {},
     "output_type": "display_data"
    }
   ],
   "source": [
    "sorted_q = sort_data(periodicos_permanente, list_programas)\n",
    "\n",
    "data = list()\n",
    "for i in range(0, len(TIPO_QUALIS)):\n",
    "    data.append(go.Bar(x=[p_quali['code'] for p_quali in sorted_q],\n",
    "                       y=[p_quali[TIPO_QUALIS[i]] for p_quali in sorted_q],\n",
    "                       marker_color=COLOR_QUALIS[TIPO_QUALIS[i]],\n",
    "                       name=f'{TIPO_QUALIS[i]} ({PESO_QUALIS[TIPO_QUALIS[i]]})'))\n",
    "\n",
    "title = {\n",
    "    'text': 'Periódicos por Docentes Permanentes',\n",
    "    'x': 0.5,\n",
    "    'xanchor': 'center',\n",
    "    'font': {\n",
    "        'color': '#000000',\n",
    "        'size': 20\n",
    "    }\n",
    "}\n",
    "layout = go.Layout(title=title, \n",
    "                   xaxis={'title': 'Instituição'},\n",
    "                   barmode='stack')\n",
    "\n",
    "fig = go.Figure(data=data, layout=layout)\n",
    "py.iplot(fig)"
   ]
  },
  {
   "cell_type": "code",
   "execution_count": 18,
   "metadata": {},
   "outputs": [
    {
     "data": {
      "application/vnd.plotly.v1+json": {
       "config": {
        "linkText": "Export to plot.ly",
        "plotlyServerURL": "https://plot.ly",
        "showLink": false
       },
       "data": [
        {
         "marker": {
          "color": "#000044"
         },
         "name": "A1 (1)",
         "type": "bar",
         "x": [
          "CESAR-AM-3",
          "CESAR-3",
          " FIAMFAAM-3",
          "UNIFATEA-3",
          "PUC-RIO-3",
          "UFRGS-5",
          "UFPB-JP-4",
          "UNISINOS-5",
          "UFPE-3",
          "USJT-4",
          "UNIFOR-3",
          "UFV-4",
          "UNESP-BAURU-6",
          "UFPA-4",
          "UNIRITTER-4",
          "UNIVILLE-4",
          "UNESP-BAURU-4",
          "UNB-3",
          "UFRGS-4",
          "UFES-4",
          "PUC-RIO-5",
          "UFPE-4",
          "UDESC-4",
          "UEL-4",
          "UFU-3",
          "UFG-3",
          "UFCG-3",
          "UFMA-3",
          "UFJF-4",
          "UEMG-5",
          "UNISINOS-4",
          "UFAL-3",
          "UFC-3",
          "UERJ-4",
          "UFPR-4",
          "PUCCAMP-5",
          "UFF-4",
          "IMED-3",
          "UAM-5",
          "UFRJ-4",
          "UNICAMP-5",
          "UPM-6",
          "UNB-4",
          "USP/SC-4",
          "UFPEL-4",
          "UFRJ-5",
          "UFMG-6",
          "UFSC-5",
          "UFRN-4",
          "UFRJ-6",
          "UFBA-4",
          "USP-4"
         ],
         "y": [
          0,
          0,
          0,
          0,
          0,
          0,
          0,
          0,
          0,
          0,
          0,
          0,
          0,
          0,
          0,
          0,
          0,
          0,
          0,
          0,
          0,
          0,
          0,
          0,
          0,
          0,
          0,
          0,
          0,
          0,
          0,
          0,
          0,
          0,
          0,
          0,
          0,
          0,
          0,
          0,
          0,
          0,
          0,
          0,
          0,
          0,
          0,
          0,
          0,
          0,
          0,
          0
         ]
        },
        {
         "marker": {
          "color": "#000088"
         },
         "name": "A2 (0.875)",
         "type": "bar",
         "x": [
          "CESAR-AM-3",
          "CESAR-3",
          " FIAMFAAM-3",
          "UNIFATEA-3",
          "PUC-RIO-3",
          "UFRGS-5",
          "UFPB-JP-4",
          "UNISINOS-5",
          "UFPE-3",
          "USJT-4",
          "UNIFOR-3",
          "UFV-4",
          "UNESP-BAURU-6",
          "UFPA-4",
          "UNIRITTER-4",
          "UNIVILLE-4",
          "UNESP-BAURU-4",
          "UNB-3",
          "UFRGS-4",
          "UFES-4",
          "PUC-RIO-5",
          "UFPE-4",
          "UDESC-4",
          "UEL-4",
          "UFU-3",
          "UFG-3",
          "UFCG-3",
          "UFMA-3",
          "UFJF-4",
          "UEMG-5",
          "UNISINOS-4",
          "UFAL-3",
          "UFC-3",
          "UERJ-4",
          "UFPR-4",
          "PUCCAMP-5",
          "UFF-4",
          "IMED-3",
          "UAM-5",
          "UFRJ-4",
          "UNICAMP-5",
          "UPM-6",
          "UNB-4",
          "USP/SC-4",
          "UFPEL-4",
          "UFRJ-5",
          "UFMG-6",
          "UFSC-5",
          "UFRN-4",
          "UFRJ-6",
          "UFBA-4",
          "USP-4"
         ],
         "y": [
          0,
          0,
          0,
          0,
          0,
          0,
          0,
          0,
          0,
          0,
          0,
          0,
          0,
          0,
          0,
          0,
          0,
          0,
          0,
          0,
          0,
          0,
          0,
          0,
          0,
          0,
          0,
          0,
          0,
          0,
          0,
          0,
          0,
          0,
          0,
          0,
          0,
          0,
          0,
          0,
          0,
          0,
          0,
          0,
          0,
          0,
          0,
          0,
          0,
          0,
          0,
          0
         ]
        },
        {
         "marker": {
          "color": "#0000CC"
         },
         "name": "A3 (0.75)",
         "type": "bar",
         "x": [
          "CESAR-AM-3",
          "CESAR-3",
          " FIAMFAAM-3",
          "UNIFATEA-3",
          "PUC-RIO-3",
          "UFRGS-5",
          "UFPB-JP-4",
          "UNISINOS-5",
          "UFPE-3",
          "USJT-4",
          "UNIFOR-3",
          "UFV-4",
          "UNESP-BAURU-6",
          "UFPA-4",
          "UNIRITTER-4",
          "UNIVILLE-4",
          "UNESP-BAURU-4",
          "UNB-3",
          "UFRGS-4",
          "UFES-4",
          "PUC-RIO-5",
          "UFPE-4",
          "UDESC-4",
          "UEL-4",
          "UFU-3",
          "UFG-3",
          "UFCG-3",
          "UFMA-3",
          "UFJF-4",
          "UEMG-5",
          "UNISINOS-4",
          "UFAL-3",
          "UFC-3",
          "UERJ-4",
          "UFPR-4",
          "PUCCAMP-5",
          "UFF-4",
          "IMED-3",
          "UAM-5",
          "UFRJ-4",
          "UNICAMP-5",
          "UPM-6",
          "UNB-4",
          "USP/SC-4",
          "UFPEL-4",
          "UFRJ-5",
          "UFMG-6",
          "UFSC-5",
          "UFRN-4",
          "UFRJ-6",
          "UFBA-4",
          "USP-4"
         ],
         "y": [
          0,
          0,
          0,
          0,
          0,
          0,
          0,
          0,
          0,
          0,
          0,
          0,
          0,
          0,
          0,
          0,
          0,
          0,
          0,
          0,
          0,
          0,
          0,
          0,
          0,
          0,
          0,
          0,
          0,
          0,
          0,
          0,
          0,
          0,
          0,
          0,
          0,
          0,
          0,
          0,
          0,
          0,
          0,
          0,
          0,
          0,
          0,
          0,
          0,
          0,
          0,
          0
         ]
        },
        {
         "marker": {
          "color": "#0000FF"
         },
         "name": "A4 (0.625)",
         "type": "bar",
         "x": [
          "CESAR-AM-3",
          "CESAR-3",
          " FIAMFAAM-3",
          "UNIFATEA-3",
          "PUC-RIO-3",
          "UFRGS-5",
          "UFPB-JP-4",
          "UNISINOS-5",
          "UFPE-3",
          "USJT-4",
          "UNIFOR-3",
          "UFV-4",
          "UNESP-BAURU-6",
          "UFPA-4",
          "UNIRITTER-4",
          "UNIVILLE-4",
          "UNESP-BAURU-4",
          "UNB-3",
          "UFRGS-4",
          "UFES-4",
          "PUC-RIO-5",
          "UFPE-4",
          "UDESC-4",
          "UEL-4",
          "UFU-3",
          "UFG-3",
          "UFCG-3",
          "UFMA-3",
          "UFJF-4",
          "UEMG-5",
          "UNISINOS-4",
          "UFAL-3",
          "UFC-3",
          "UERJ-4",
          "UFPR-4",
          "PUCCAMP-5",
          "UFF-4",
          "IMED-3",
          "UAM-5",
          "UFRJ-4",
          "UNICAMP-5",
          "UPM-6",
          "UNB-4",
          "USP/SC-4",
          "UFPEL-4",
          "UFRJ-5",
          "UFMG-6",
          "UFSC-5",
          "UFRN-4",
          "UFRJ-6",
          "UFBA-4",
          "USP-4"
         ],
         "y": [
          0,
          0,
          0,
          0,
          0,
          0,
          0,
          0,
          0,
          0,
          0,
          0,
          0,
          0,
          0,
          0,
          0,
          0,
          0,
          0,
          0,
          0,
          0,
          0,
          0,
          0,
          0,
          0,
          0,
          0,
          0,
          0,
          0,
          0,
          0,
          0,
          0,
          0,
          0,
          0,
          0,
          0,
          0,
          0,
          0,
          0,
          0,
          0,
          0,
          0,
          0,
          0
         ]
        },
        {
         "marker": {
          "color": "#003300"
         },
         "name": "B1 (0.5)",
         "type": "bar",
         "x": [
          "CESAR-AM-3",
          "CESAR-3",
          " FIAMFAAM-3",
          "UNIFATEA-3",
          "PUC-RIO-3",
          "UFRGS-5",
          "UFPB-JP-4",
          "UNISINOS-5",
          "UFPE-3",
          "USJT-4",
          "UNIFOR-3",
          "UFV-4",
          "UNESP-BAURU-6",
          "UFPA-4",
          "UNIRITTER-4",
          "UNIVILLE-4",
          "UNESP-BAURU-4",
          "UNB-3",
          "UFRGS-4",
          "UFES-4",
          "PUC-RIO-5",
          "UFPE-4",
          "UDESC-4",
          "UEL-4",
          "UFU-3",
          "UFG-3",
          "UFCG-3",
          "UFMA-3",
          "UFJF-4",
          "UEMG-5",
          "UNISINOS-4",
          "UFAL-3",
          "UFC-3",
          "UERJ-4",
          "UFPR-4",
          "PUCCAMP-5",
          "UFF-4",
          "IMED-3",
          "UAM-5",
          "UFRJ-4",
          "UNICAMP-5",
          "UPM-6",
          "UNB-4",
          "USP/SC-4",
          "UFPEL-4",
          "UFRJ-5",
          "UFMG-6",
          "UFSC-5",
          "UFRN-4",
          "UFRJ-6",
          "UFBA-4",
          "USP-4"
         ],
         "y": [
          0,
          0,
          0,
          0,
          0,
          0,
          0,
          0,
          0,
          0,
          0,
          0,
          0,
          0,
          0,
          0,
          0,
          0,
          0,
          0,
          0,
          0,
          0,
          0,
          0,
          0,
          0,
          0,
          0,
          0,
          0,
          0,
          0,
          0,
          0,
          0,
          0,
          0,
          0,
          0,
          0,
          0,
          0,
          0,
          0,
          0,
          0,
          0,
          0,
          0,
          0,
          0
         ]
        },
        {
         "marker": {
          "color": "#006600"
         },
         "name": "B2 (0.2)",
         "type": "bar",
         "x": [
          "CESAR-AM-3",
          "CESAR-3",
          " FIAMFAAM-3",
          "UNIFATEA-3",
          "PUC-RIO-3",
          "UFRGS-5",
          "UFPB-JP-4",
          "UNISINOS-5",
          "UFPE-3",
          "USJT-4",
          "UNIFOR-3",
          "UFV-4",
          "UNESP-BAURU-6",
          "UFPA-4",
          "UNIRITTER-4",
          "UNIVILLE-4",
          "UNESP-BAURU-4",
          "UNB-3",
          "UFRGS-4",
          "UFES-4",
          "PUC-RIO-5",
          "UFPE-4",
          "UDESC-4",
          "UEL-4",
          "UFU-3",
          "UFG-3",
          "UFCG-3",
          "UFMA-3",
          "UFJF-4",
          "UEMG-5",
          "UNISINOS-4",
          "UFAL-3",
          "UFC-3",
          "UERJ-4",
          "UFPR-4",
          "PUCCAMP-5",
          "UFF-4",
          "IMED-3",
          "UAM-5",
          "UFRJ-4",
          "UNICAMP-5",
          "UPM-6",
          "UNB-4",
          "USP/SC-4",
          "UFPEL-4",
          "UFRJ-5",
          "UFMG-6",
          "UFSC-5",
          "UFRN-4",
          "UFRJ-6",
          "UFBA-4",
          "USP-4"
         ],
         "y": [
          0,
          0,
          0,
          0,
          0,
          0,
          0,
          0,
          0,
          0,
          0,
          0,
          0,
          0,
          0,
          0,
          0,
          0,
          0,
          0,
          0,
          0,
          0,
          0,
          0,
          0,
          0,
          0,
          0,
          0,
          0,
          0,
          0,
          0,
          0,
          0,
          0,
          0,
          0,
          0,
          0,
          0,
          0,
          0,
          0,
          0,
          0,
          0,
          0,
          0,
          0,
          0
         ]
        },
        {
         "marker": {
          "color": "#009900"
         },
         "name": "B3 (0.1)",
         "type": "bar",
         "x": [
          "CESAR-AM-3",
          "CESAR-3",
          " FIAMFAAM-3",
          "UNIFATEA-3",
          "PUC-RIO-3",
          "UFRGS-5",
          "UFPB-JP-4",
          "UNISINOS-5",
          "UFPE-3",
          "USJT-4",
          "UNIFOR-3",
          "UFV-4",
          "UNESP-BAURU-6",
          "UFPA-4",
          "UNIRITTER-4",
          "UNIVILLE-4",
          "UNESP-BAURU-4",
          "UNB-3",
          "UFRGS-4",
          "UFES-4",
          "PUC-RIO-5",
          "UFPE-4",
          "UDESC-4",
          "UEL-4",
          "UFU-3",
          "UFG-3",
          "UFCG-3",
          "UFMA-3",
          "UFJF-4",
          "UEMG-5",
          "UNISINOS-4",
          "UFAL-3",
          "UFC-3",
          "UERJ-4",
          "UFPR-4",
          "PUCCAMP-5",
          "UFF-4",
          "IMED-3",
          "UAM-5",
          "UFRJ-4",
          "UNICAMP-5",
          "UPM-6",
          "UNB-4",
          "USP/SC-4",
          "UFPEL-4",
          "UFRJ-5",
          "UFMG-6",
          "UFSC-5",
          "UFRN-4",
          "UFRJ-6",
          "UFBA-4",
          "USP-4"
         ],
         "y": [
          0,
          0,
          0,
          0,
          0,
          0,
          0,
          0,
          0,
          0,
          0,
          0,
          0,
          0,
          0,
          0,
          0,
          0,
          0,
          0,
          0,
          0,
          0,
          0,
          0,
          0,
          0,
          0,
          0,
          0,
          0,
          0,
          0,
          0,
          0,
          0,
          0,
          0,
          0,
          0,
          0,
          0,
          0,
          0,
          0,
          0,
          0,
          0,
          0,
          0,
          0,
          0
         ]
        },
        {
         "marker": {
          "color": "#00CC00"
         },
         "name": "B4 (0.05)",
         "type": "bar",
         "x": [
          "CESAR-AM-3",
          "CESAR-3",
          " FIAMFAAM-3",
          "UNIFATEA-3",
          "PUC-RIO-3",
          "UFRGS-5",
          "UFPB-JP-4",
          "UNISINOS-5",
          "UFPE-3",
          "USJT-4",
          "UNIFOR-3",
          "UFV-4",
          "UNESP-BAURU-6",
          "UFPA-4",
          "UNIRITTER-4",
          "UNIVILLE-4",
          "UNESP-BAURU-4",
          "UNB-3",
          "UFRGS-4",
          "UFES-4",
          "PUC-RIO-5",
          "UFPE-4",
          "UDESC-4",
          "UEL-4",
          "UFU-3",
          "UFG-3",
          "UFCG-3",
          "UFMA-3",
          "UFJF-4",
          "UEMG-5",
          "UNISINOS-4",
          "UFAL-3",
          "UFC-3",
          "UERJ-4",
          "UFPR-4",
          "PUCCAMP-5",
          "UFF-4",
          "IMED-3",
          "UAM-5",
          "UFRJ-4",
          "UNICAMP-5",
          "UPM-6",
          "UNB-4",
          "USP/SC-4",
          "UFPEL-4",
          "UFRJ-5",
          "UFMG-6",
          "UFSC-5",
          "UFRN-4",
          "UFRJ-6",
          "UFBA-4",
          "USP-4"
         ],
         "y": [
          0,
          0,
          0,
          0,
          0,
          0,
          0,
          0,
          0,
          0,
          0,
          0,
          0,
          0,
          0,
          0,
          0,
          0,
          0,
          0,
          0,
          0,
          0,
          0,
          0,
          0,
          0,
          0,
          0,
          0,
          0,
          0,
          0,
          0,
          0,
          0,
          0,
          0,
          0,
          0,
          0,
          0,
          0,
          0,
          0,
          0,
          0,
          0,
          0,
          0,
          0,
          0
         ]
        },
        {
         "marker": {
          "color": "#00FF00"
         },
         "name": "B5 (0)",
         "type": "bar",
         "x": [
          "CESAR-AM-3",
          "CESAR-3",
          " FIAMFAAM-3",
          "UNIFATEA-3",
          "PUC-RIO-3",
          "UFRGS-5",
          "UFPB-JP-4",
          "UNISINOS-5",
          "UFPE-3",
          "USJT-4",
          "UNIFOR-3",
          "UFV-4",
          "UNESP-BAURU-6",
          "UFPA-4",
          "UNIRITTER-4",
          "UNIVILLE-4",
          "UNESP-BAURU-4",
          "UNB-3",
          "UFRGS-4",
          "UFES-4",
          "PUC-RIO-5",
          "UFPE-4",
          "UDESC-4",
          "UEL-4",
          "UFU-3",
          "UFG-3",
          "UFCG-3",
          "UFMA-3",
          "UFJF-4",
          "UEMG-5",
          "UNISINOS-4",
          "UFAL-3",
          "UFC-3",
          "UERJ-4",
          "UFPR-4",
          "PUCCAMP-5",
          "UFF-4",
          "IMED-3",
          "UAM-5",
          "UFRJ-4",
          "UNICAMP-5",
          "UPM-6",
          "UNB-4",
          "USP/SC-4",
          "UFPEL-4",
          "UFRJ-5",
          "UFMG-6",
          "UFSC-5",
          "UFRN-4",
          "UFRJ-6",
          "UFBA-4",
          "USP-4"
         ],
         "y": [
          0,
          0,
          0,
          0,
          0,
          0,
          0,
          0,
          0,
          0,
          0,
          0,
          0,
          0,
          0,
          0,
          0,
          0,
          0,
          0,
          0,
          0,
          0,
          0,
          0,
          0,
          0,
          0,
          0,
          0,
          0,
          0,
          0,
          0,
          0,
          0,
          0,
          0,
          0,
          0,
          0,
          0,
          0,
          0,
          0,
          0,
          0,
          0,
          0,
          0,
          0,
          0
         ]
        },
        {
         "marker": {
          "color": "#880000"
         },
         "name": "C (0)",
         "type": "bar",
         "x": [
          "CESAR-AM-3",
          "CESAR-3",
          " FIAMFAAM-3",
          "UNIFATEA-3",
          "PUC-RIO-3",
          "UFRGS-5",
          "UFPB-JP-4",
          "UNISINOS-5",
          "UFPE-3",
          "USJT-4",
          "UNIFOR-3",
          "UFV-4",
          "UNESP-BAURU-6",
          "UFPA-4",
          "UNIRITTER-4",
          "UNIVILLE-4",
          "UNESP-BAURU-4",
          "UNB-3",
          "UFRGS-4",
          "UFES-4",
          "PUC-RIO-5",
          "UFPE-4",
          "UDESC-4",
          "UEL-4",
          "UFU-3",
          "UFG-3",
          "UFCG-3",
          "UFMA-3",
          "UFJF-4",
          "UEMG-5",
          "UNISINOS-4",
          "UFAL-3",
          "UFC-3",
          "UERJ-4",
          "UFPR-4",
          "PUCCAMP-5",
          "UFF-4",
          "IMED-3",
          "UAM-5",
          "UFRJ-4",
          "UNICAMP-5",
          "UPM-6",
          "UNB-4",
          "USP/SC-4",
          "UFPEL-4",
          "UFRJ-5",
          "UFMG-6",
          "UFSC-5",
          "UFRN-4",
          "UFRJ-6",
          "UFBA-4",
          "USP-4"
         ],
         "y": [
          0,
          0,
          0,
          0,
          0,
          0,
          0,
          0,
          0,
          0,
          0,
          0,
          0,
          0,
          0,
          0,
          0,
          0,
          0,
          0,
          0,
          0,
          0,
          0,
          0,
          0,
          0,
          0,
          0,
          0,
          0,
          0,
          0,
          0,
          0,
          0,
          0,
          0,
          0,
          0,
          0,
          0,
          0,
          0,
          0,
          0,
          0,
          0,
          0,
          0,
          0,
          0
         ]
        },
        {
         "marker": {
          "color": "#CC0000"
         },
         "name": "NA (0)",
         "type": "bar",
         "x": [
          "CESAR-AM-3",
          "CESAR-3",
          " FIAMFAAM-3",
          "UNIFATEA-3",
          "PUC-RIO-3",
          "UFRGS-5",
          "UFPB-JP-4",
          "UNISINOS-5",
          "UFPE-3",
          "USJT-4",
          "UNIFOR-3",
          "UFV-4",
          "UNESP-BAURU-6",
          "UFPA-4",
          "UNIRITTER-4",
          "UNIVILLE-4",
          "UNESP-BAURU-4",
          "UNB-3",
          "UFRGS-4",
          "UFES-4",
          "PUC-RIO-5",
          "UFPE-4",
          "UDESC-4",
          "UEL-4",
          "UFU-3",
          "UFG-3",
          "UFCG-3",
          "UFMA-3",
          "UFJF-4",
          "UEMG-5",
          "UNISINOS-4",
          "UFAL-3",
          "UFC-3",
          "UERJ-4",
          "UFPR-4",
          "PUCCAMP-5",
          "UFF-4",
          "IMED-3",
          "UAM-5",
          "UFRJ-4",
          "UNICAMP-5",
          "UPM-6",
          "UNB-4",
          "USP/SC-4",
          "UFPEL-4",
          "UFRJ-5",
          "UFMG-6",
          "UFSC-5",
          "UFRN-4",
          "UFRJ-6",
          "UFBA-4",
          "USP-4"
         ],
         "y": [
          2,
          3,
          7,
          12,
          15,
          15,
          21,
          22,
          22,
          25,
          30,
          32,
          32,
          34,
          34,
          34,
          36,
          36,
          37,
          38,
          38,
          40,
          40,
          41,
          42,
          44,
          45,
          45,
          46,
          46,
          47,
          48,
          53,
          54,
          66,
          74,
          79,
          82,
          86,
          90,
          97,
          109,
          112,
          126,
          131,
          132,
          134,
          143,
          155,
          162,
          163,
          253
         ]
        },
        {
         "marker": {
          "color": "#FF0000"
         },
         "name": "NP (0)",
         "type": "bar",
         "x": [
          "CESAR-AM-3",
          "CESAR-3",
          " FIAMFAAM-3",
          "UNIFATEA-3",
          "PUC-RIO-3",
          "UFRGS-5",
          "UFPB-JP-4",
          "UNISINOS-5",
          "UFPE-3",
          "USJT-4",
          "UNIFOR-3",
          "UFV-4",
          "UNESP-BAURU-6",
          "UFPA-4",
          "UNIRITTER-4",
          "UNIVILLE-4",
          "UNESP-BAURU-4",
          "UNB-3",
          "UFRGS-4",
          "UFES-4",
          "PUC-RIO-5",
          "UFPE-4",
          "UDESC-4",
          "UEL-4",
          "UFU-3",
          "UFG-3",
          "UFCG-3",
          "UFMA-3",
          "UFJF-4",
          "UEMG-5",
          "UNISINOS-4",
          "UFAL-3",
          "UFC-3",
          "UERJ-4",
          "UFPR-4",
          "PUCCAMP-5",
          "UFF-4",
          "IMED-3",
          "UAM-5",
          "UFRJ-4",
          "UNICAMP-5",
          "UPM-6",
          "UNB-4",
          "USP/SC-4",
          "UFPEL-4",
          "UFRJ-5",
          "UFMG-6",
          "UFSC-5",
          "UFRN-4",
          "UFRJ-6",
          "UFBA-4",
          "USP-4"
         ],
         "y": [
          0,
          0,
          0,
          0,
          0,
          0,
          0,
          0,
          0,
          0,
          0,
          0,
          0,
          0,
          0,
          0,
          0,
          0,
          0,
          0,
          0,
          0,
          0,
          0,
          0,
          0,
          0,
          0,
          0,
          0,
          0,
          0,
          0,
          0,
          0,
          0,
          0,
          0,
          0,
          0,
          0,
          0,
          0,
          0,
          0,
          0,
          0,
          0,
          0,
          0,
          0,
          0
         ]
        }
       ],
       "layout": {
        "barmode": "stack",
        "template": {
         "data": {
          "bar": [
           {
            "error_x": {
             "color": "#2a3f5f"
            },
            "error_y": {
             "color": "#2a3f5f"
            },
            "marker": {
             "line": {
              "color": "#E5ECF6",
              "width": 0.5
             }
            },
            "type": "bar"
           }
          ],
          "barpolar": [
           {
            "marker": {
             "line": {
              "color": "#E5ECF6",
              "width": 0.5
             }
            },
            "type": "barpolar"
           }
          ],
          "carpet": [
           {
            "aaxis": {
             "endlinecolor": "#2a3f5f",
             "gridcolor": "white",
             "linecolor": "white",
             "minorgridcolor": "white",
             "startlinecolor": "#2a3f5f"
            },
            "baxis": {
             "endlinecolor": "#2a3f5f",
             "gridcolor": "white",
             "linecolor": "white",
             "minorgridcolor": "white",
             "startlinecolor": "#2a3f5f"
            },
            "type": "carpet"
           }
          ],
          "choropleth": [
           {
            "colorbar": {
             "outlinewidth": 0,
             "ticks": ""
            },
            "type": "choropleth"
           }
          ],
          "contour": [
           {
            "colorbar": {
             "outlinewidth": 0,
             "ticks": ""
            },
            "colorscale": [
             [
              0,
              "#0d0887"
             ],
             [
              0.1111111111111111,
              "#46039f"
             ],
             [
              0.2222222222222222,
              "#7201a8"
             ],
             [
              0.3333333333333333,
              "#9c179e"
             ],
             [
              0.4444444444444444,
              "#bd3786"
             ],
             [
              0.5555555555555556,
              "#d8576b"
             ],
             [
              0.6666666666666666,
              "#ed7953"
             ],
             [
              0.7777777777777778,
              "#fb9f3a"
             ],
             [
              0.8888888888888888,
              "#fdca26"
             ],
             [
              1,
              "#f0f921"
             ]
            ],
            "type": "contour"
           }
          ],
          "contourcarpet": [
           {
            "colorbar": {
             "outlinewidth": 0,
             "ticks": ""
            },
            "type": "contourcarpet"
           }
          ],
          "heatmap": [
           {
            "colorbar": {
             "outlinewidth": 0,
             "ticks": ""
            },
            "colorscale": [
             [
              0,
              "#0d0887"
             ],
             [
              0.1111111111111111,
              "#46039f"
             ],
             [
              0.2222222222222222,
              "#7201a8"
             ],
             [
              0.3333333333333333,
              "#9c179e"
             ],
             [
              0.4444444444444444,
              "#bd3786"
             ],
             [
              0.5555555555555556,
              "#d8576b"
             ],
             [
              0.6666666666666666,
              "#ed7953"
             ],
             [
              0.7777777777777778,
              "#fb9f3a"
             ],
             [
              0.8888888888888888,
              "#fdca26"
             ],
             [
              1,
              "#f0f921"
             ]
            ],
            "type": "heatmap"
           }
          ],
          "heatmapgl": [
           {
            "colorbar": {
             "outlinewidth": 0,
             "ticks": ""
            },
            "colorscale": [
             [
              0,
              "#0d0887"
             ],
             [
              0.1111111111111111,
              "#46039f"
             ],
             [
              0.2222222222222222,
              "#7201a8"
             ],
             [
              0.3333333333333333,
              "#9c179e"
             ],
             [
              0.4444444444444444,
              "#bd3786"
             ],
             [
              0.5555555555555556,
              "#d8576b"
             ],
             [
              0.6666666666666666,
              "#ed7953"
             ],
             [
              0.7777777777777778,
              "#fb9f3a"
             ],
             [
              0.8888888888888888,
              "#fdca26"
             ],
             [
              1,
              "#f0f921"
             ]
            ],
            "type": "heatmapgl"
           }
          ],
          "histogram": [
           {
            "marker": {
             "colorbar": {
              "outlinewidth": 0,
              "ticks": ""
             }
            },
            "type": "histogram"
           }
          ],
          "histogram2d": [
           {
            "colorbar": {
             "outlinewidth": 0,
             "ticks": ""
            },
            "colorscale": [
             [
              0,
              "#0d0887"
             ],
             [
              0.1111111111111111,
              "#46039f"
             ],
             [
              0.2222222222222222,
              "#7201a8"
             ],
             [
              0.3333333333333333,
              "#9c179e"
             ],
             [
              0.4444444444444444,
              "#bd3786"
             ],
             [
              0.5555555555555556,
              "#d8576b"
             ],
             [
              0.6666666666666666,
              "#ed7953"
             ],
             [
              0.7777777777777778,
              "#fb9f3a"
             ],
             [
              0.8888888888888888,
              "#fdca26"
             ],
             [
              1,
              "#f0f921"
             ]
            ],
            "type": "histogram2d"
           }
          ],
          "histogram2dcontour": [
           {
            "colorbar": {
             "outlinewidth": 0,
             "ticks": ""
            },
            "colorscale": [
             [
              0,
              "#0d0887"
             ],
             [
              0.1111111111111111,
              "#46039f"
             ],
             [
              0.2222222222222222,
              "#7201a8"
             ],
             [
              0.3333333333333333,
              "#9c179e"
             ],
             [
              0.4444444444444444,
              "#bd3786"
             ],
             [
              0.5555555555555556,
              "#d8576b"
             ],
             [
              0.6666666666666666,
              "#ed7953"
             ],
             [
              0.7777777777777778,
              "#fb9f3a"
             ],
             [
              0.8888888888888888,
              "#fdca26"
             ],
             [
              1,
              "#f0f921"
             ]
            ],
            "type": "histogram2dcontour"
           }
          ],
          "mesh3d": [
           {
            "colorbar": {
             "outlinewidth": 0,
             "ticks": ""
            },
            "type": "mesh3d"
           }
          ],
          "parcoords": [
           {
            "line": {
             "colorbar": {
              "outlinewidth": 0,
              "ticks": ""
             }
            },
            "type": "parcoords"
           }
          ],
          "pie": [
           {
            "automargin": true,
            "type": "pie"
           }
          ],
          "scatter": [
           {
            "marker": {
             "colorbar": {
              "outlinewidth": 0,
              "ticks": ""
             }
            },
            "type": "scatter"
           }
          ],
          "scatter3d": [
           {
            "line": {
             "colorbar": {
              "outlinewidth": 0,
              "ticks": ""
             }
            },
            "marker": {
             "colorbar": {
              "outlinewidth": 0,
              "ticks": ""
             }
            },
            "type": "scatter3d"
           }
          ],
          "scattercarpet": [
           {
            "marker": {
             "colorbar": {
              "outlinewidth": 0,
              "ticks": ""
             }
            },
            "type": "scattercarpet"
           }
          ],
          "scattergeo": [
           {
            "marker": {
             "colorbar": {
              "outlinewidth": 0,
              "ticks": ""
             }
            },
            "type": "scattergeo"
           }
          ],
          "scattergl": [
           {
            "marker": {
             "colorbar": {
              "outlinewidth": 0,
              "ticks": ""
             }
            },
            "type": "scattergl"
           }
          ],
          "scattermapbox": [
           {
            "marker": {
             "colorbar": {
              "outlinewidth": 0,
              "ticks": ""
             }
            },
            "type": "scattermapbox"
           }
          ],
          "scatterpolar": [
           {
            "marker": {
             "colorbar": {
              "outlinewidth": 0,
              "ticks": ""
             }
            },
            "type": "scatterpolar"
           }
          ],
          "scatterpolargl": [
           {
            "marker": {
             "colorbar": {
              "outlinewidth": 0,
              "ticks": ""
             }
            },
            "type": "scatterpolargl"
           }
          ],
          "scatterternary": [
           {
            "marker": {
             "colorbar": {
              "outlinewidth": 0,
              "ticks": ""
             }
            },
            "type": "scatterternary"
           }
          ],
          "surface": [
           {
            "colorbar": {
             "outlinewidth": 0,
             "ticks": ""
            },
            "colorscale": [
             [
              0,
              "#0d0887"
             ],
             [
              0.1111111111111111,
              "#46039f"
             ],
             [
              0.2222222222222222,
              "#7201a8"
             ],
             [
              0.3333333333333333,
              "#9c179e"
             ],
             [
              0.4444444444444444,
              "#bd3786"
             ],
             [
              0.5555555555555556,
              "#d8576b"
             ],
             [
              0.6666666666666666,
              "#ed7953"
             ],
             [
              0.7777777777777778,
              "#fb9f3a"
             ],
             [
              0.8888888888888888,
              "#fdca26"
             ],
             [
              1,
              "#f0f921"
             ]
            ],
            "type": "surface"
           }
          ],
          "table": [
           {
            "cells": {
             "fill": {
              "color": "#EBF0F8"
             },
             "line": {
              "color": "white"
             }
            },
            "header": {
             "fill": {
              "color": "#C8D4E3"
             },
             "line": {
              "color": "white"
             }
            },
            "type": "table"
           }
          ]
         },
         "layout": {
          "annotationdefaults": {
           "arrowcolor": "#2a3f5f",
           "arrowhead": 0,
           "arrowwidth": 1
          },
          "coloraxis": {
           "colorbar": {
            "outlinewidth": 0,
            "ticks": ""
           }
          },
          "colorscale": {
           "diverging": [
            [
             0,
             "#8e0152"
            ],
            [
             0.1,
             "#c51b7d"
            ],
            [
             0.2,
             "#de77ae"
            ],
            [
             0.3,
             "#f1b6da"
            ],
            [
             0.4,
             "#fde0ef"
            ],
            [
             0.5,
             "#f7f7f7"
            ],
            [
             0.6,
             "#e6f5d0"
            ],
            [
             0.7,
             "#b8e186"
            ],
            [
             0.8,
             "#7fbc41"
            ],
            [
             0.9,
             "#4d9221"
            ],
            [
             1,
             "#276419"
            ]
           ],
           "sequential": [
            [
             0,
             "#0d0887"
            ],
            [
             0.1111111111111111,
             "#46039f"
            ],
            [
             0.2222222222222222,
             "#7201a8"
            ],
            [
             0.3333333333333333,
             "#9c179e"
            ],
            [
             0.4444444444444444,
             "#bd3786"
            ],
            [
             0.5555555555555556,
             "#d8576b"
            ],
            [
             0.6666666666666666,
             "#ed7953"
            ],
            [
             0.7777777777777778,
             "#fb9f3a"
            ],
            [
             0.8888888888888888,
             "#fdca26"
            ],
            [
             1,
             "#f0f921"
            ]
           ],
           "sequentialminus": [
            [
             0,
             "#0d0887"
            ],
            [
             0.1111111111111111,
             "#46039f"
            ],
            [
             0.2222222222222222,
             "#7201a8"
            ],
            [
             0.3333333333333333,
             "#9c179e"
            ],
            [
             0.4444444444444444,
             "#bd3786"
            ],
            [
             0.5555555555555556,
             "#d8576b"
            ],
            [
             0.6666666666666666,
             "#ed7953"
            ],
            [
             0.7777777777777778,
             "#fb9f3a"
            ],
            [
             0.8888888888888888,
             "#fdca26"
            ],
            [
             1,
             "#f0f921"
            ]
           ]
          },
          "colorway": [
           "#636efa",
           "#EF553B",
           "#00cc96",
           "#ab63fa",
           "#FFA15A",
           "#19d3f3",
           "#FF6692",
           "#B6E880",
           "#FF97FF",
           "#FECB52"
          ],
          "font": {
           "color": "#2a3f5f"
          },
          "geo": {
           "bgcolor": "white",
           "lakecolor": "white",
           "landcolor": "#E5ECF6",
           "showlakes": true,
           "showland": true,
           "subunitcolor": "white"
          },
          "hoverlabel": {
           "align": "left"
          },
          "hovermode": "closest",
          "mapbox": {
           "style": "light"
          },
          "paper_bgcolor": "white",
          "plot_bgcolor": "#E5ECF6",
          "polar": {
           "angularaxis": {
            "gridcolor": "white",
            "linecolor": "white",
            "ticks": ""
           },
           "bgcolor": "#E5ECF6",
           "radialaxis": {
            "gridcolor": "white",
            "linecolor": "white",
            "ticks": ""
           }
          },
          "scene": {
           "xaxis": {
            "backgroundcolor": "#E5ECF6",
            "gridcolor": "white",
            "gridwidth": 2,
            "linecolor": "white",
            "showbackground": true,
            "ticks": "",
            "zerolinecolor": "white"
           },
           "yaxis": {
            "backgroundcolor": "#E5ECF6",
            "gridcolor": "white",
            "gridwidth": 2,
            "linecolor": "white",
            "showbackground": true,
            "ticks": "",
            "zerolinecolor": "white"
           },
           "zaxis": {
            "backgroundcolor": "#E5ECF6",
            "gridcolor": "white",
            "gridwidth": 2,
            "linecolor": "white",
            "showbackground": true,
            "ticks": "",
            "zerolinecolor": "white"
           }
          },
          "shapedefaults": {
           "line": {
            "color": "#2a3f5f"
           }
          },
          "ternary": {
           "aaxis": {
            "gridcolor": "white",
            "linecolor": "white",
            "ticks": ""
           },
           "baxis": {
            "gridcolor": "white",
            "linecolor": "white",
            "ticks": ""
           },
           "bgcolor": "#E5ECF6",
           "caxis": {
            "gridcolor": "white",
            "linecolor": "white",
            "ticks": ""
           }
          },
          "title": {
           "x": 0.05
          },
          "xaxis": {
           "automargin": true,
           "gridcolor": "white",
           "linecolor": "white",
           "ticks": "",
           "title": {
            "standoff": 15
           },
           "zerolinecolor": "white",
           "zerolinewidth": 2
          },
          "yaxis": {
           "automargin": true,
           "gridcolor": "white",
           "linecolor": "white",
           "ticks": "",
           "title": {
            "standoff": 15
           },
           "zerolinecolor": "white",
           "zerolinewidth": 2
          }
         }
        },
        "title": {
         "font": {
          "color": "#000000",
          "size": 20
         },
         "text": "Conferências por Qualis",
         "x": 0.5,
         "xanchor": "center"
        },
        "xaxis": {
         "title": {
          "text": "Instituição"
         }
        }
       }
      },
      "text/html": [
       "<div>\n",
       "        \n",
       "        \n",
       "            <div id=\"7b6db149-1947-45d8-9cac-cfe03e130361\" class=\"plotly-graph-div\" style=\"height:525px; width:100%;\"></div>\n",
       "            <script type=\"text/javascript\">\n",
       "                require([\"plotly\"], function(Plotly) {\n",
       "                    window.PLOTLYENV=window.PLOTLYENV || {};\n",
       "                    \n",
       "                if (document.getElementById(\"7b6db149-1947-45d8-9cac-cfe03e130361\")) {\n",
       "                    Plotly.newPlot(\n",
       "                        '7b6db149-1947-45d8-9cac-cfe03e130361',\n",
       "                        [{\"marker\": {\"color\": \"#000044\"}, \"name\": \"A1 (1)\", \"type\": \"bar\", \"x\": [\"CESAR-AM-3\", \"CESAR-3\", \" FIAMFAAM-3\", \"UNIFATEA-3\", \"PUC-RIO-3\", \"UFRGS-5\", \"UFPB-JP-4\", \"UNISINOS-5\", \"UFPE-3\", \"USJT-4\", \"UNIFOR-3\", \"UFV-4\", \"UNESP-BAURU-6\", \"UFPA-4\", \"UNIRITTER-4\", \"UNIVILLE-4\", \"UNESP-BAURU-4\", \"UNB-3\", \"UFRGS-4\", \"UFES-4\", \"PUC-RIO-5\", \"UFPE-4\", \"UDESC-4\", \"UEL-4\", \"UFU-3\", \"UFG-3\", \"UFCG-3\", \"UFMA-3\", \"UFJF-4\", \"UEMG-5\", \"UNISINOS-4\", \"UFAL-3\", \"UFC-3\", \"UERJ-4\", \"UFPR-4\", \"PUCCAMP-5\", \"UFF-4\", \"IMED-3\", \"UAM-5\", \"UFRJ-4\", \"UNICAMP-5\", \"UPM-6\", \"UNB-4\", \"USP/SC-4\", \"UFPEL-4\", \"UFRJ-5\", \"UFMG-6\", \"UFSC-5\", \"UFRN-4\", \"UFRJ-6\", \"UFBA-4\", \"USP-4\"], \"y\": [0, 0, 0, 0, 0, 0, 0, 0, 0, 0, 0, 0, 0, 0, 0, 0, 0, 0, 0, 0, 0, 0, 0, 0, 0, 0, 0, 0, 0, 0, 0, 0, 0, 0, 0, 0, 0, 0, 0, 0, 0, 0, 0, 0, 0, 0, 0, 0, 0, 0, 0, 0]}, {\"marker\": {\"color\": \"#000088\"}, \"name\": \"A2 (0.875)\", \"type\": \"bar\", \"x\": [\"CESAR-AM-3\", \"CESAR-3\", \" FIAMFAAM-3\", \"UNIFATEA-3\", \"PUC-RIO-3\", \"UFRGS-5\", \"UFPB-JP-4\", \"UNISINOS-5\", \"UFPE-3\", \"USJT-4\", \"UNIFOR-3\", \"UFV-4\", \"UNESP-BAURU-6\", \"UFPA-4\", \"UNIRITTER-4\", \"UNIVILLE-4\", \"UNESP-BAURU-4\", \"UNB-3\", \"UFRGS-4\", \"UFES-4\", \"PUC-RIO-5\", \"UFPE-4\", \"UDESC-4\", \"UEL-4\", \"UFU-3\", \"UFG-3\", \"UFCG-3\", \"UFMA-3\", \"UFJF-4\", \"UEMG-5\", \"UNISINOS-4\", \"UFAL-3\", \"UFC-3\", \"UERJ-4\", \"UFPR-4\", \"PUCCAMP-5\", \"UFF-4\", \"IMED-3\", \"UAM-5\", \"UFRJ-4\", \"UNICAMP-5\", \"UPM-6\", \"UNB-4\", \"USP/SC-4\", \"UFPEL-4\", \"UFRJ-5\", \"UFMG-6\", \"UFSC-5\", \"UFRN-4\", \"UFRJ-6\", \"UFBA-4\", \"USP-4\"], \"y\": [0, 0, 0, 0, 0, 0, 0, 0, 0, 0, 0, 0, 0, 0, 0, 0, 0, 0, 0, 0, 0, 0, 0, 0, 0, 0, 0, 0, 0, 0, 0, 0, 0, 0, 0, 0, 0, 0, 0, 0, 0, 0, 0, 0, 0, 0, 0, 0, 0, 0, 0, 0]}, {\"marker\": {\"color\": \"#0000CC\"}, \"name\": \"A3 (0.75)\", \"type\": \"bar\", \"x\": [\"CESAR-AM-3\", \"CESAR-3\", \" FIAMFAAM-3\", \"UNIFATEA-3\", \"PUC-RIO-3\", \"UFRGS-5\", \"UFPB-JP-4\", \"UNISINOS-5\", \"UFPE-3\", \"USJT-4\", \"UNIFOR-3\", \"UFV-4\", \"UNESP-BAURU-6\", \"UFPA-4\", \"UNIRITTER-4\", \"UNIVILLE-4\", \"UNESP-BAURU-4\", \"UNB-3\", \"UFRGS-4\", \"UFES-4\", \"PUC-RIO-5\", \"UFPE-4\", \"UDESC-4\", \"UEL-4\", \"UFU-3\", \"UFG-3\", \"UFCG-3\", \"UFMA-3\", \"UFJF-4\", \"UEMG-5\", \"UNISINOS-4\", \"UFAL-3\", \"UFC-3\", \"UERJ-4\", \"UFPR-4\", \"PUCCAMP-5\", \"UFF-4\", \"IMED-3\", \"UAM-5\", \"UFRJ-4\", \"UNICAMP-5\", \"UPM-6\", \"UNB-4\", \"USP/SC-4\", \"UFPEL-4\", \"UFRJ-5\", \"UFMG-6\", \"UFSC-5\", \"UFRN-4\", \"UFRJ-6\", \"UFBA-4\", \"USP-4\"], \"y\": [0, 0, 0, 0, 0, 0, 0, 0, 0, 0, 0, 0, 0, 0, 0, 0, 0, 0, 0, 0, 0, 0, 0, 0, 0, 0, 0, 0, 0, 0, 0, 0, 0, 0, 0, 0, 0, 0, 0, 0, 0, 0, 0, 0, 0, 0, 0, 0, 0, 0, 0, 0]}, {\"marker\": {\"color\": \"#0000FF\"}, \"name\": \"A4 (0.625)\", \"type\": \"bar\", \"x\": [\"CESAR-AM-3\", \"CESAR-3\", \" FIAMFAAM-3\", \"UNIFATEA-3\", \"PUC-RIO-3\", \"UFRGS-5\", \"UFPB-JP-4\", \"UNISINOS-5\", \"UFPE-3\", \"USJT-4\", \"UNIFOR-3\", \"UFV-4\", \"UNESP-BAURU-6\", \"UFPA-4\", \"UNIRITTER-4\", \"UNIVILLE-4\", \"UNESP-BAURU-4\", \"UNB-3\", \"UFRGS-4\", \"UFES-4\", \"PUC-RIO-5\", \"UFPE-4\", \"UDESC-4\", \"UEL-4\", \"UFU-3\", \"UFG-3\", \"UFCG-3\", \"UFMA-3\", \"UFJF-4\", \"UEMG-5\", \"UNISINOS-4\", \"UFAL-3\", \"UFC-3\", \"UERJ-4\", \"UFPR-4\", \"PUCCAMP-5\", \"UFF-4\", \"IMED-3\", \"UAM-5\", \"UFRJ-4\", \"UNICAMP-5\", \"UPM-6\", \"UNB-4\", \"USP/SC-4\", \"UFPEL-4\", \"UFRJ-5\", \"UFMG-6\", \"UFSC-5\", \"UFRN-4\", \"UFRJ-6\", \"UFBA-4\", \"USP-4\"], \"y\": [0, 0, 0, 0, 0, 0, 0, 0, 0, 0, 0, 0, 0, 0, 0, 0, 0, 0, 0, 0, 0, 0, 0, 0, 0, 0, 0, 0, 0, 0, 0, 0, 0, 0, 0, 0, 0, 0, 0, 0, 0, 0, 0, 0, 0, 0, 0, 0, 0, 0, 0, 0]}, {\"marker\": {\"color\": \"#003300\"}, \"name\": \"B1 (0.5)\", \"type\": \"bar\", \"x\": [\"CESAR-AM-3\", \"CESAR-3\", \" FIAMFAAM-3\", \"UNIFATEA-3\", \"PUC-RIO-3\", \"UFRGS-5\", \"UFPB-JP-4\", \"UNISINOS-5\", \"UFPE-3\", \"USJT-4\", \"UNIFOR-3\", \"UFV-4\", \"UNESP-BAURU-6\", \"UFPA-4\", \"UNIRITTER-4\", \"UNIVILLE-4\", \"UNESP-BAURU-4\", \"UNB-3\", \"UFRGS-4\", \"UFES-4\", \"PUC-RIO-5\", \"UFPE-4\", \"UDESC-4\", \"UEL-4\", \"UFU-3\", \"UFG-3\", \"UFCG-3\", \"UFMA-3\", \"UFJF-4\", \"UEMG-5\", \"UNISINOS-4\", \"UFAL-3\", \"UFC-3\", \"UERJ-4\", \"UFPR-4\", \"PUCCAMP-5\", \"UFF-4\", \"IMED-3\", \"UAM-5\", \"UFRJ-4\", \"UNICAMP-5\", \"UPM-6\", \"UNB-4\", \"USP/SC-4\", \"UFPEL-4\", \"UFRJ-5\", \"UFMG-6\", \"UFSC-5\", \"UFRN-4\", \"UFRJ-6\", \"UFBA-4\", \"USP-4\"], \"y\": [0, 0, 0, 0, 0, 0, 0, 0, 0, 0, 0, 0, 0, 0, 0, 0, 0, 0, 0, 0, 0, 0, 0, 0, 0, 0, 0, 0, 0, 0, 0, 0, 0, 0, 0, 0, 0, 0, 0, 0, 0, 0, 0, 0, 0, 0, 0, 0, 0, 0, 0, 0]}, {\"marker\": {\"color\": \"#006600\"}, \"name\": \"B2 (0.2)\", \"type\": \"bar\", \"x\": [\"CESAR-AM-3\", \"CESAR-3\", \" FIAMFAAM-3\", \"UNIFATEA-3\", \"PUC-RIO-3\", \"UFRGS-5\", \"UFPB-JP-4\", \"UNISINOS-5\", \"UFPE-3\", \"USJT-4\", \"UNIFOR-3\", \"UFV-4\", \"UNESP-BAURU-6\", \"UFPA-4\", \"UNIRITTER-4\", \"UNIVILLE-4\", \"UNESP-BAURU-4\", \"UNB-3\", \"UFRGS-4\", \"UFES-4\", \"PUC-RIO-5\", \"UFPE-4\", \"UDESC-4\", \"UEL-4\", \"UFU-3\", \"UFG-3\", \"UFCG-3\", \"UFMA-3\", \"UFJF-4\", \"UEMG-5\", \"UNISINOS-4\", \"UFAL-3\", \"UFC-3\", \"UERJ-4\", \"UFPR-4\", \"PUCCAMP-5\", \"UFF-4\", \"IMED-3\", \"UAM-5\", \"UFRJ-4\", \"UNICAMP-5\", \"UPM-6\", \"UNB-4\", \"USP/SC-4\", \"UFPEL-4\", \"UFRJ-5\", \"UFMG-6\", \"UFSC-5\", \"UFRN-4\", \"UFRJ-6\", \"UFBA-4\", \"USP-4\"], \"y\": [0, 0, 0, 0, 0, 0, 0, 0, 0, 0, 0, 0, 0, 0, 0, 0, 0, 0, 0, 0, 0, 0, 0, 0, 0, 0, 0, 0, 0, 0, 0, 0, 0, 0, 0, 0, 0, 0, 0, 0, 0, 0, 0, 0, 0, 0, 0, 0, 0, 0, 0, 0]}, {\"marker\": {\"color\": \"#009900\"}, \"name\": \"B3 (0.1)\", \"type\": \"bar\", \"x\": [\"CESAR-AM-3\", \"CESAR-3\", \" FIAMFAAM-3\", \"UNIFATEA-3\", \"PUC-RIO-3\", \"UFRGS-5\", \"UFPB-JP-4\", \"UNISINOS-5\", \"UFPE-3\", \"USJT-4\", \"UNIFOR-3\", \"UFV-4\", \"UNESP-BAURU-6\", \"UFPA-4\", \"UNIRITTER-4\", \"UNIVILLE-4\", \"UNESP-BAURU-4\", \"UNB-3\", \"UFRGS-4\", \"UFES-4\", \"PUC-RIO-5\", \"UFPE-4\", \"UDESC-4\", \"UEL-4\", \"UFU-3\", \"UFG-3\", \"UFCG-3\", \"UFMA-3\", \"UFJF-4\", \"UEMG-5\", \"UNISINOS-4\", \"UFAL-3\", \"UFC-3\", \"UERJ-4\", \"UFPR-4\", \"PUCCAMP-5\", \"UFF-4\", \"IMED-3\", \"UAM-5\", \"UFRJ-4\", \"UNICAMP-5\", \"UPM-6\", \"UNB-4\", \"USP/SC-4\", \"UFPEL-4\", \"UFRJ-5\", \"UFMG-6\", \"UFSC-5\", \"UFRN-4\", \"UFRJ-6\", \"UFBA-4\", \"USP-4\"], \"y\": [0, 0, 0, 0, 0, 0, 0, 0, 0, 0, 0, 0, 0, 0, 0, 0, 0, 0, 0, 0, 0, 0, 0, 0, 0, 0, 0, 0, 0, 0, 0, 0, 0, 0, 0, 0, 0, 0, 0, 0, 0, 0, 0, 0, 0, 0, 0, 0, 0, 0, 0, 0]}, {\"marker\": {\"color\": \"#00CC00\"}, \"name\": \"B4 (0.05)\", \"type\": \"bar\", \"x\": [\"CESAR-AM-3\", \"CESAR-3\", \" FIAMFAAM-3\", \"UNIFATEA-3\", \"PUC-RIO-3\", \"UFRGS-5\", \"UFPB-JP-4\", \"UNISINOS-5\", \"UFPE-3\", \"USJT-4\", \"UNIFOR-3\", \"UFV-4\", \"UNESP-BAURU-6\", \"UFPA-4\", \"UNIRITTER-4\", \"UNIVILLE-4\", \"UNESP-BAURU-4\", \"UNB-3\", \"UFRGS-4\", \"UFES-4\", \"PUC-RIO-5\", \"UFPE-4\", \"UDESC-4\", \"UEL-4\", \"UFU-3\", \"UFG-3\", \"UFCG-3\", \"UFMA-3\", \"UFJF-4\", \"UEMG-5\", \"UNISINOS-4\", \"UFAL-3\", \"UFC-3\", \"UERJ-4\", \"UFPR-4\", \"PUCCAMP-5\", \"UFF-4\", \"IMED-3\", \"UAM-5\", \"UFRJ-4\", \"UNICAMP-5\", \"UPM-6\", \"UNB-4\", \"USP/SC-4\", \"UFPEL-4\", \"UFRJ-5\", \"UFMG-6\", \"UFSC-5\", \"UFRN-4\", \"UFRJ-6\", \"UFBA-4\", \"USP-4\"], \"y\": [0, 0, 0, 0, 0, 0, 0, 0, 0, 0, 0, 0, 0, 0, 0, 0, 0, 0, 0, 0, 0, 0, 0, 0, 0, 0, 0, 0, 0, 0, 0, 0, 0, 0, 0, 0, 0, 0, 0, 0, 0, 0, 0, 0, 0, 0, 0, 0, 0, 0, 0, 0]}, {\"marker\": {\"color\": \"#00FF00\"}, \"name\": \"B5 (0)\", \"type\": \"bar\", \"x\": [\"CESAR-AM-3\", \"CESAR-3\", \" FIAMFAAM-3\", \"UNIFATEA-3\", \"PUC-RIO-3\", \"UFRGS-5\", \"UFPB-JP-4\", \"UNISINOS-5\", \"UFPE-3\", \"USJT-4\", \"UNIFOR-3\", \"UFV-4\", \"UNESP-BAURU-6\", \"UFPA-4\", \"UNIRITTER-4\", \"UNIVILLE-4\", \"UNESP-BAURU-4\", \"UNB-3\", \"UFRGS-4\", \"UFES-4\", \"PUC-RIO-5\", \"UFPE-4\", \"UDESC-4\", \"UEL-4\", \"UFU-3\", \"UFG-3\", \"UFCG-3\", \"UFMA-3\", \"UFJF-4\", \"UEMG-5\", \"UNISINOS-4\", \"UFAL-3\", \"UFC-3\", \"UERJ-4\", \"UFPR-4\", \"PUCCAMP-5\", \"UFF-4\", \"IMED-3\", \"UAM-5\", \"UFRJ-4\", \"UNICAMP-5\", \"UPM-6\", \"UNB-4\", \"USP/SC-4\", \"UFPEL-4\", \"UFRJ-5\", \"UFMG-6\", \"UFSC-5\", \"UFRN-4\", \"UFRJ-6\", \"UFBA-4\", \"USP-4\"], \"y\": [0, 0, 0, 0, 0, 0, 0, 0, 0, 0, 0, 0, 0, 0, 0, 0, 0, 0, 0, 0, 0, 0, 0, 0, 0, 0, 0, 0, 0, 0, 0, 0, 0, 0, 0, 0, 0, 0, 0, 0, 0, 0, 0, 0, 0, 0, 0, 0, 0, 0, 0, 0]}, {\"marker\": {\"color\": \"#880000\"}, \"name\": \"C (0)\", \"type\": \"bar\", \"x\": [\"CESAR-AM-3\", \"CESAR-3\", \" FIAMFAAM-3\", \"UNIFATEA-3\", \"PUC-RIO-3\", \"UFRGS-5\", \"UFPB-JP-4\", \"UNISINOS-5\", \"UFPE-3\", \"USJT-4\", \"UNIFOR-3\", \"UFV-4\", \"UNESP-BAURU-6\", \"UFPA-4\", \"UNIRITTER-4\", \"UNIVILLE-4\", \"UNESP-BAURU-4\", \"UNB-3\", \"UFRGS-4\", \"UFES-4\", \"PUC-RIO-5\", \"UFPE-4\", \"UDESC-4\", \"UEL-4\", \"UFU-3\", \"UFG-3\", \"UFCG-3\", \"UFMA-3\", \"UFJF-4\", \"UEMG-5\", \"UNISINOS-4\", \"UFAL-3\", \"UFC-3\", \"UERJ-4\", \"UFPR-4\", \"PUCCAMP-5\", \"UFF-4\", \"IMED-3\", \"UAM-5\", \"UFRJ-4\", \"UNICAMP-5\", \"UPM-6\", \"UNB-4\", \"USP/SC-4\", \"UFPEL-4\", \"UFRJ-5\", \"UFMG-6\", \"UFSC-5\", \"UFRN-4\", \"UFRJ-6\", \"UFBA-4\", \"USP-4\"], \"y\": [0, 0, 0, 0, 0, 0, 0, 0, 0, 0, 0, 0, 0, 0, 0, 0, 0, 0, 0, 0, 0, 0, 0, 0, 0, 0, 0, 0, 0, 0, 0, 0, 0, 0, 0, 0, 0, 0, 0, 0, 0, 0, 0, 0, 0, 0, 0, 0, 0, 0, 0, 0]}, {\"marker\": {\"color\": \"#CC0000\"}, \"name\": \"NA (0)\", \"type\": \"bar\", \"x\": [\"CESAR-AM-3\", \"CESAR-3\", \" FIAMFAAM-3\", \"UNIFATEA-3\", \"PUC-RIO-3\", \"UFRGS-5\", \"UFPB-JP-4\", \"UNISINOS-5\", \"UFPE-3\", \"USJT-4\", \"UNIFOR-3\", \"UFV-4\", \"UNESP-BAURU-6\", \"UFPA-4\", \"UNIRITTER-4\", \"UNIVILLE-4\", \"UNESP-BAURU-4\", \"UNB-3\", \"UFRGS-4\", \"UFES-4\", \"PUC-RIO-5\", \"UFPE-4\", \"UDESC-4\", \"UEL-4\", \"UFU-3\", \"UFG-3\", \"UFCG-3\", \"UFMA-3\", \"UFJF-4\", \"UEMG-5\", \"UNISINOS-4\", \"UFAL-3\", \"UFC-3\", \"UERJ-4\", \"UFPR-4\", \"PUCCAMP-5\", \"UFF-4\", \"IMED-3\", \"UAM-5\", \"UFRJ-4\", \"UNICAMP-5\", \"UPM-6\", \"UNB-4\", \"USP/SC-4\", \"UFPEL-4\", \"UFRJ-5\", \"UFMG-6\", \"UFSC-5\", \"UFRN-4\", \"UFRJ-6\", \"UFBA-4\", \"USP-4\"], \"y\": [2, 3, 7, 12, 15, 15, 21, 22, 22, 25, 30, 32, 32, 34, 34, 34, 36, 36, 37, 38, 38, 40, 40, 41, 42, 44, 45, 45, 46, 46, 47, 48, 53, 54, 66, 74, 79, 82, 86, 90, 97, 109, 112, 126, 131, 132, 134, 143, 155, 162, 163, 253]}, {\"marker\": {\"color\": \"#FF0000\"}, \"name\": \"NP (0)\", \"type\": \"bar\", \"x\": [\"CESAR-AM-3\", \"CESAR-3\", \" FIAMFAAM-3\", \"UNIFATEA-3\", \"PUC-RIO-3\", \"UFRGS-5\", \"UFPB-JP-4\", \"UNISINOS-5\", \"UFPE-3\", \"USJT-4\", \"UNIFOR-3\", \"UFV-4\", \"UNESP-BAURU-6\", \"UFPA-4\", \"UNIRITTER-4\", \"UNIVILLE-4\", \"UNESP-BAURU-4\", \"UNB-3\", \"UFRGS-4\", \"UFES-4\", \"PUC-RIO-5\", \"UFPE-4\", \"UDESC-4\", \"UEL-4\", \"UFU-3\", \"UFG-3\", \"UFCG-3\", \"UFMA-3\", \"UFJF-4\", \"UEMG-5\", \"UNISINOS-4\", \"UFAL-3\", \"UFC-3\", \"UERJ-4\", \"UFPR-4\", \"PUCCAMP-5\", \"UFF-4\", \"IMED-3\", \"UAM-5\", \"UFRJ-4\", \"UNICAMP-5\", \"UPM-6\", \"UNB-4\", \"USP/SC-4\", \"UFPEL-4\", \"UFRJ-5\", \"UFMG-6\", \"UFSC-5\", \"UFRN-4\", \"UFRJ-6\", \"UFBA-4\", \"USP-4\"], \"y\": [0, 0, 0, 0, 0, 0, 0, 0, 0, 0, 0, 0, 0, 0, 0, 0, 0, 0, 0, 0, 0, 0, 0, 0, 0, 0, 0, 0, 0, 0, 0, 0, 0, 0, 0, 0, 0, 0, 0, 0, 0, 0, 0, 0, 0, 0, 0, 0, 0, 0, 0, 0]}],\n",
       "                        {\"barmode\": \"stack\", \"template\": {\"data\": {\"bar\": [{\"error_x\": {\"color\": \"#2a3f5f\"}, \"error_y\": {\"color\": \"#2a3f5f\"}, \"marker\": {\"line\": {\"color\": \"#E5ECF6\", \"width\": 0.5}}, \"type\": \"bar\"}], \"barpolar\": [{\"marker\": {\"line\": {\"color\": \"#E5ECF6\", \"width\": 0.5}}, \"type\": \"barpolar\"}], \"carpet\": [{\"aaxis\": {\"endlinecolor\": \"#2a3f5f\", \"gridcolor\": \"white\", \"linecolor\": \"white\", \"minorgridcolor\": \"white\", \"startlinecolor\": \"#2a3f5f\"}, \"baxis\": {\"endlinecolor\": \"#2a3f5f\", \"gridcolor\": \"white\", \"linecolor\": \"white\", \"minorgridcolor\": \"white\", \"startlinecolor\": \"#2a3f5f\"}, \"type\": \"carpet\"}], \"choropleth\": [{\"colorbar\": {\"outlinewidth\": 0, \"ticks\": \"\"}, \"type\": \"choropleth\"}], \"contour\": [{\"colorbar\": {\"outlinewidth\": 0, \"ticks\": \"\"}, \"colorscale\": [[0.0, \"#0d0887\"], [0.1111111111111111, \"#46039f\"], [0.2222222222222222, \"#7201a8\"], [0.3333333333333333, \"#9c179e\"], [0.4444444444444444, \"#bd3786\"], [0.5555555555555556, \"#d8576b\"], [0.6666666666666666, \"#ed7953\"], [0.7777777777777778, \"#fb9f3a\"], [0.8888888888888888, \"#fdca26\"], [1.0, \"#f0f921\"]], \"type\": \"contour\"}], \"contourcarpet\": [{\"colorbar\": {\"outlinewidth\": 0, \"ticks\": \"\"}, \"type\": \"contourcarpet\"}], \"heatmap\": [{\"colorbar\": {\"outlinewidth\": 0, \"ticks\": \"\"}, \"colorscale\": [[0.0, \"#0d0887\"], [0.1111111111111111, \"#46039f\"], [0.2222222222222222, \"#7201a8\"], [0.3333333333333333, \"#9c179e\"], [0.4444444444444444, \"#bd3786\"], [0.5555555555555556, \"#d8576b\"], [0.6666666666666666, \"#ed7953\"], [0.7777777777777778, \"#fb9f3a\"], [0.8888888888888888, \"#fdca26\"], [1.0, \"#f0f921\"]], \"type\": \"heatmap\"}], \"heatmapgl\": [{\"colorbar\": {\"outlinewidth\": 0, \"ticks\": \"\"}, \"colorscale\": [[0.0, \"#0d0887\"], [0.1111111111111111, \"#46039f\"], [0.2222222222222222, \"#7201a8\"], [0.3333333333333333, \"#9c179e\"], [0.4444444444444444, \"#bd3786\"], [0.5555555555555556, \"#d8576b\"], [0.6666666666666666, \"#ed7953\"], [0.7777777777777778, \"#fb9f3a\"], [0.8888888888888888, \"#fdca26\"], [1.0, \"#f0f921\"]], \"type\": \"heatmapgl\"}], \"histogram\": [{\"marker\": {\"colorbar\": {\"outlinewidth\": 0, \"ticks\": \"\"}}, \"type\": \"histogram\"}], \"histogram2d\": [{\"colorbar\": {\"outlinewidth\": 0, \"ticks\": \"\"}, \"colorscale\": [[0.0, \"#0d0887\"], [0.1111111111111111, \"#46039f\"], [0.2222222222222222, \"#7201a8\"], [0.3333333333333333, \"#9c179e\"], [0.4444444444444444, \"#bd3786\"], [0.5555555555555556, \"#d8576b\"], [0.6666666666666666, \"#ed7953\"], [0.7777777777777778, \"#fb9f3a\"], [0.8888888888888888, \"#fdca26\"], [1.0, \"#f0f921\"]], \"type\": \"histogram2d\"}], \"histogram2dcontour\": [{\"colorbar\": {\"outlinewidth\": 0, \"ticks\": \"\"}, \"colorscale\": [[0.0, \"#0d0887\"], [0.1111111111111111, \"#46039f\"], [0.2222222222222222, \"#7201a8\"], [0.3333333333333333, \"#9c179e\"], [0.4444444444444444, \"#bd3786\"], [0.5555555555555556, \"#d8576b\"], [0.6666666666666666, \"#ed7953\"], [0.7777777777777778, \"#fb9f3a\"], [0.8888888888888888, \"#fdca26\"], [1.0, \"#f0f921\"]], \"type\": \"histogram2dcontour\"}], \"mesh3d\": [{\"colorbar\": {\"outlinewidth\": 0, \"ticks\": \"\"}, \"type\": \"mesh3d\"}], \"parcoords\": [{\"line\": {\"colorbar\": {\"outlinewidth\": 0, \"ticks\": \"\"}}, \"type\": \"parcoords\"}], \"pie\": [{\"automargin\": true, \"type\": \"pie\"}], \"scatter\": [{\"marker\": {\"colorbar\": {\"outlinewidth\": 0, \"ticks\": \"\"}}, \"type\": \"scatter\"}], \"scatter3d\": [{\"line\": {\"colorbar\": {\"outlinewidth\": 0, \"ticks\": \"\"}}, \"marker\": {\"colorbar\": {\"outlinewidth\": 0, \"ticks\": \"\"}}, \"type\": \"scatter3d\"}], \"scattercarpet\": [{\"marker\": {\"colorbar\": {\"outlinewidth\": 0, \"ticks\": \"\"}}, \"type\": \"scattercarpet\"}], \"scattergeo\": [{\"marker\": {\"colorbar\": {\"outlinewidth\": 0, \"ticks\": \"\"}}, \"type\": \"scattergeo\"}], \"scattergl\": [{\"marker\": {\"colorbar\": {\"outlinewidth\": 0, \"ticks\": \"\"}}, \"type\": \"scattergl\"}], \"scattermapbox\": [{\"marker\": {\"colorbar\": {\"outlinewidth\": 0, \"ticks\": \"\"}}, \"type\": \"scattermapbox\"}], \"scatterpolar\": [{\"marker\": {\"colorbar\": {\"outlinewidth\": 0, \"ticks\": \"\"}}, \"type\": \"scatterpolar\"}], \"scatterpolargl\": [{\"marker\": {\"colorbar\": {\"outlinewidth\": 0, \"ticks\": \"\"}}, \"type\": \"scatterpolargl\"}], \"scatterternary\": [{\"marker\": {\"colorbar\": {\"outlinewidth\": 0, \"ticks\": \"\"}}, \"type\": \"scatterternary\"}], \"surface\": [{\"colorbar\": {\"outlinewidth\": 0, \"ticks\": \"\"}, \"colorscale\": [[0.0, \"#0d0887\"], [0.1111111111111111, \"#46039f\"], [0.2222222222222222, \"#7201a8\"], [0.3333333333333333, \"#9c179e\"], [0.4444444444444444, \"#bd3786\"], [0.5555555555555556, \"#d8576b\"], [0.6666666666666666, \"#ed7953\"], [0.7777777777777778, \"#fb9f3a\"], [0.8888888888888888, \"#fdca26\"], [1.0, \"#f0f921\"]], \"type\": \"surface\"}], \"table\": [{\"cells\": {\"fill\": {\"color\": \"#EBF0F8\"}, \"line\": {\"color\": \"white\"}}, \"header\": {\"fill\": {\"color\": \"#C8D4E3\"}, \"line\": {\"color\": \"white\"}}, \"type\": \"table\"}]}, \"layout\": {\"annotationdefaults\": {\"arrowcolor\": \"#2a3f5f\", \"arrowhead\": 0, \"arrowwidth\": 1}, \"coloraxis\": {\"colorbar\": {\"outlinewidth\": 0, \"ticks\": \"\"}}, \"colorscale\": {\"diverging\": [[0, \"#8e0152\"], [0.1, \"#c51b7d\"], [0.2, \"#de77ae\"], [0.3, \"#f1b6da\"], [0.4, \"#fde0ef\"], [0.5, \"#f7f7f7\"], [0.6, \"#e6f5d0\"], [0.7, \"#b8e186\"], [0.8, \"#7fbc41\"], [0.9, \"#4d9221\"], [1, \"#276419\"]], \"sequential\": [[0.0, \"#0d0887\"], [0.1111111111111111, \"#46039f\"], [0.2222222222222222, \"#7201a8\"], [0.3333333333333333, \"#9c179e\"], [0.4444444444444444, \"#bd3786\"], [0.5555555555555556, \"#d8576b\"], [0.6666666666666666, \"#ed7953\"], [0.7777777777777778, \"#fb9f3a\"], [0.8888888888888888, \"#fdca26\"], [1.0, \"#f0f921\"]], \"sequentialminus\": [[0.0, \"#0d0887\"], [0.1111111111111111, \"#46039f\"], [0.2222222222222222, \"#7201a8\"], [0.3333333333333333, \"#9c179e\"], [0.4444444444444444, \"#bd3786\"], [0.5555555555555556, \"#d8576b\"], [0.6666666666666666, \"#ed7953\"], [0.7777777777777778, \"#fb9f3a\"], [0.8888888888888888, \"#fdca26\"], [1.0, \"#f0f921\"]]}, \"colorway\": [\"#636efa\", \"#EF553B\", \"#00cc96\", \"#ab63fa\", \"#FFA15A\", \"#19d3f3\", \"#FF6692\", \"#B6E880\", \"#FF97FF\", \"#FECB52\"], \"font\": {\"color\": \"#2a3f5f\"}, \"geo\": {\"bgcolor\": \"white\", \"lakecolor\": \"white\", \"landcolor\": \"#E5ECF6\", \"showlakes\": true, \"showland\": true, \"subunitcolor\": \"white\"}, \"hoverlabel\": {\"align\": \"left\"}, \"hovermode\": \"closest\", \"mapbox\": {\"style\": \"light\"}, \"paper_bgcolor\": \"white\", \"plot_bgcolor\": \"#E5ECF6\", \"polar\": {\"angularaxis\": {\"gridcolor\": \"white\", \"linecolor\": \"white\", \"ticks\": \"\"}, \"bgcolor\": \"#E5ECF6\", \"radialaxis\": {\"gridcolor\": \"white\", \"linecolor\": \"white\", \"ticks\": \"\"}}, \"scene\": {\"xaxis\": {\"backgroundcolor\": \"#E5ECF6\", \"gridcolor\": \"white\", \"gridwidth\": 2, \"linecolor\": \"white\", \"showbackground\": true, \"ticks\": \"\", \"zerolinecolor\": \"white\"}, \"yaxis\": {\"backgroundcolor\": \"#E5ECF6\", \"gridcolor\": \"white\", \"gridwidth\": 2, \"linecolor\": \"white\", \"showbackground\": true, \"ticks\": \"\", \"zerolinecolor\": \"white\"}, \"zaxis\": {\"backgroundcolor\": \"#E5ECF6\", \"gridcolor\": \"white\", \"gridwidth\": 2, \"linecolor\": \"white\", \"showbackground\": true, \"ticks\": \"\", \"zerolinecolor\": \"white\"}}, \"shapedefaults\": {\"line\": {\"color\": \"#2a3f5f\"}}, \"ternary\": {\"aaxis\": {\"gridcolor\": \"white\", \"linecolor\": \"white\", \"ticks\": \"\"}, \"baxis\": {\"gridcolor\": \"white\", \"linecolor\": \"white\", \"ticks\": \"\"}, \"bgcolor\": \"#E5ECF6\", \"caxis\": {\"gridcolor\": \"white\", \"linecolor\": \"white\", \"ticks\": \"\"}}, \"title\": {\"x\": 0.05}, \"xaxis\": {\"automargin\": true, \"gridcolor\": \"white\", \"linecolor\": \"white\", \"ticks\": \"\", \"title\": {\"standoff\": 15}, \"zerolinecolor\": \"white\", \"zerolinewidth\": 2}, \"yaxis\": {\"automargin\": true, \"gridcolor\": \"white\", \"linecolor\": \"white\", \"ticks\": \"\", \"title\": {\"standoff\": 15}, \"zerolinecolor\": \"white\", \"zerolinewidth\": 2}}}, \"title\": {\"font\": {\"color\": \"#000000\", \"size\": 20}, \"text\": \"Confer\\u00eancias por Qualis\", \"x\": 0.5, \"xanchor\": \"center\"}, \"xaxis\": {\"title\": {\"text\": \"Institui\\u00e7\\u00e3o\"}}},\n",
       "                        {\"responsive\": true}\n",
       "                    ).then(function(){\n",
       "                            \n",
       "var gd = document.getElementById('7b6db149-1947-45d8-9cac-cfe03e130361');\n",
       "var x = new MutationObserver(function (mutations, observer) {{\n",
       "        var display = window.getComputedStyle(gd).display;\n",
       "        if (!display || display === 'none') {{\n",
       "            console.log([gd, 'removed!']);\n",
       "            Plotly.purge(gd);\n",
       "            observer.disconnect();\n",
       "        }}\n",
       "}});\n",
       "\n",
       "// Listen for the removal of the full notebook cells\n",
       "var notebookContainer = gd.closest('#notebook-container');\n",
       "if (notebookContainer) {{\n",
       "    x.observe(notebookContainer, {childList: true});\n",
       "}}\n",
       "\n",
       "// Listen for the clearing of the current output cell\n",
       "var outputEl = gd.closest('.output');\n",
       "if (outputEl) {{\n",
       "    x.observe(outputEl, {childList: true});\n",
       "}}\n",
       "\n",
       "                        })\n",
       "                };\n",
       "                });\n",
       "            </script>\n",
       "        </div>"
      ]
     },
     "metadata": {},
     "output_type": "display_data"
    }
   ],
   "source": [
    "sorted_q = sort_data(conferencias_qualis, list_programas)\n",
    "\n",
    "data = list()\n",
    "for i in range(0, len(TIPO_QUALIS)):\n",
    "    data.append(go.Bar(x=[p_quali['code'] for p_quali in sorted_q],\n",
    "                       y=[p_quali[TIPO_QUALIS[i]] for p_quali in sorted_q],\n",
    "                       marker_color=COLOR_QUALIS[TIPO_QUALIS[i]],\n",
    "                       name=f'{TIPO_QUALIS[i]} ({PESO_QUALIS[TIPO_QUALIS[i]]})'))\n",
    "\n",
    "title = {\n",
    "    'text': 'Conferências por Qualis',\n",
    "    'x': 0.5,\n",
    "    'xanchor': 'center',\n",
    "    'font': {\n",
    "        'color': '#000000',\n",
    "        'size': 20\n",
    "    }\n",
    "}\n",
    "layout = go.Layout(title=title, \n",
    "                   xaxis={'title': 'Instituição'},\n",
    "                   barmode='stack')\n",
    "\n",
    "fig = go.Figure(data=data, layout=layout)\n",
    "py.iplot(fig)"
   ]
  }
 ],
 "metadata": {
  "kernelspec": {
   "display_name": "Python 3",
   "language": "python",
   "name": "python3"
  },
  "language_info": {
   "codemirror_mode": {
    "name": "ipython",
    "version": 3
   },
   "file_extension": ".py",
   "mimetype": "text/x-python",
   "name": "python",
   "nbconvert_exporter": "python",
   "pygments_lexer": "ipython3",
   "version": "3.7.6"
  }
 },
 "nbformat": 4,
 "nbformat_minor": 4
}
