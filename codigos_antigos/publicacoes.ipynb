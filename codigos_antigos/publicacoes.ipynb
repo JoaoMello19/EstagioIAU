{
 "cells": [
  {
   "cell_type": "code",
   "execution_count": 5,
   "metadata": {},
   "outputs": [],
   "source": [
    "import plotly.offline as py\n",
    "import plotly.graph_objs as go"
   ]
  },
  {
   "cell_type": "code",
   "execution_count": 13,
   "metadata": {},
   "outputs": [],
   "source": [
    "import MyUtil, MyClasses\n",
    "from collections import defaultdict\n",
    "\n",
    "ANOS = ['2013', '2014', '2015', '2016']\n",
    "PATH = 'dados_arquitetura_'\n",
    "TIPO_QUALIS = ('A1', 'A2', 'A3', 'A4', 'B1', 'B2', 'B3', 'B4', 'B5', 'C', 'NA', 'NP')\n",
    "PESO_QUALIS = {'A1': 1, 'A2': 0.875, 'A3': 0.75, 'A4': 0.625, 'B1': 0.5, 'B2': 0.2, 'B3': 0.1, 'B4': 0.05, 'B5': 0,\n",
    "               'C': 0, 'NA': 0, 'NP': 0}\n",
    "COLOR_QUALIS = {'A1': '#000044', 'A2': '#000088', 'A3': '#0000CC', 'A4': '#0000FF',\n",
    "                'B1': '#003300', 'B2': '#006600', 'B3': '#009900', 'B4': '#00CC00', 'B5': '#00FF00',\n",
    "                'C': '#880000', 'NA': '#CC0000', 'NP': '#FF0000'}\n",
    "\n",
    "\n",
    "def new_quali_dict():\n",
    "    # cria um dicionario padrao para armazenar os qualis\n",
    "    quali_dict = {quali: 0 for quali in TIPO_QUALIS}\n",
    "    quali_dict['total'] = 0\n",
    "    return quali_dict\n",
    "\n",
    "\n",
    "def read_periodicos(filepath):\n",
    "    # leitura dos periodicos\n",
    "    periodicos = list()\n",
    "    with open(filepath + 'periodicos.tsv', encoding='Latin-1') as file:\n",
    "        for row in file:\n",
    "            cells = str(row).split('\\t')\n",
    "            new_periodico = MyClasses.Periodico(*cells[:29])\n",
    "            new_periodico.add_authors(*cells[29:-1])\n",
    "            periodicos.append(new_periodico)\n",
    "    del periodicos[0]\n",
    "    return periodicos\n",
    "\n",
    "\n",
    "def read_conferencias(filepath):\n",
    "    conferencias = list()\n",
    "    with open(filepath + 'conferencias.tsv', encoding='Latin-1') as file:\n",
    "        for row in file:\n",
    "            cells = str(row).split('\\t')\n",
    "            new_conferencia = MyClasses.Conferencias(*cells[:32])\n",
    "            new_conferencia.add_authors(*cells[32:-1])\n",
    "            conferencias.append(new_conferencia)\n",
    "    del conferencias[0]\n",
    "    return conferencias\n",
    "\n",
    "\n",
    "def read_qualis():\n",
    "    with open('qualis-2017-2018.tsv', encoding='Latin-1') as file:\n",
    "        qualis = [MyClasses.Quali(*str(row).split('\\t')) for row in file]\n",
    "    del qualis[0]\n",
    "    return qualis\n",
    "\n",
    "\n",
    "def read_docentes(filepath):\n",
    "    registers = MyUtil.read_file('docentes.xlsx', path=filepath)\n",
    "    docentes = defaultdict(lambda: list())\n",
    "\n",
    "    for row in registers:\n",
    "        docentes[row[3]].append({\n",
    "            'name': row[8],\n",
    "            'category': row[12]\n",
    "        })\n",
    "\n",
    "    return docentes\n",
    "\n",
    "\n",
    "def get_docentes_programa(p_code):\n",
    "    \"\"\"\n",
    "    Função que avalia e calcula a média de docentes por categoria\n",
    "    :param p_code: dicionário com chaves equivalentes ao nomes e valores equivalentes a categoria\n",
    "    :return: a média por codigo\n",
    "    \"\"\"\n",
    "    names_categories = dict()\n",
    "\n",
    "    for docente in p_code:\n",
    "        if docente['name'] not in names_categories.keys():  # primeira vez que o docente é registrado\n",
    "            names_categories[docente['name']] = docente['category']\n",
    "\n",
    "        elif names_categories[docente['name']] not in ('BOTH', docente['category']):\n",
    "            # registrado como outra categoria -> pertence a ambas\n",
    "            names_categories[docente['name']] = 'BOTH'\n",
    "\n",
    "    docentes_programa = {'PERMANENTE': 0, 'COLABORADOR': 0, 'total': 0}\n",
    "    for category in names_categories.values():\n",
    "        if category in ('PERMANENTE', 'COLABORADOR'):\n",
    "            docentes_programa[category] += 1\n",
    "        else:  # ambas as categorias\n",
    "            docentes_programa['PERMANENTE'] += 0.5\n",
    "            docentes_programa['COLABORADOR'] += 0.5\n",
    "        docentes_programa['total'] += 1\n",
    "\n",
    "    return docentes_programa\n",
    "\n",
    "\n",
    "def get_docentes_programas(docentes):\n",
    "    \"\"\"\n",
    "    Função que calcula todas as médias\n",
    "    :param docentes: os dados recolhidos\n",
    "    :return: a média individual de cada programa\n",
    "    \"\"\"\n",
    "    codes = {code for code in docentes.keys()}\n",
    "    doc_prog = defaultdict(lambda: {\n",
    "        'PERMANENTE': 0,\n",
    "        'COLABORADOR': 0,\n",
    "        'total': 0\n",
    "    })\n",
    "\n",
    "    for code in codes:\n",
    "        d_programa = get_docentes_programa(docentes[code])\n",
    "        doc_prog[code]['PERMANENTE'] += d_programa['PERMANENTE']\n",
    "        doc_prog[code]['COLABORADOR'] += d_programa['COLABORADOR']\n",
    "        doc_prog[code]['total'] += d_programa['total']\n",
    "\n",
    "    return doc_prog\n",
    "\n",
    "\n",
    "def get_publicacoes_qualis(publicacoes, qualis):\n",
    "    publicacoes_qualis = defaultdict(lambda: new_quali_dict())\n",
    "    issn_quali = {quali.issn: quali.estrato for quali in qualis}\n",
    "\n",
    "    for publicacao in publicacoes:\n",
    "        cod_programa = publicacao.codigo_ppg\n",
    "        issn = publicacao.get_issn()\n",
    "        quali_programa = issn_quali[issn] if issn in issn_quali.keys() else 'NA'  # caso nao haja issn\n",
    "        publicacoes_qualis[cod_programa][quali_programa] += 1\n",
    "        publicacoes_qualis[cod_programa]['total'] += 1\n",
    "\n",
    "    return publicacoes_qualis\n",
    "\n",
    "\n",
    "def get_publicacoes_docente(p_qualis, docentes_programa):\n",
    "    ponderado = defaultdict(lambda: dict())\n",
    "    for code in p_qualis.keys():\n",
    "        for quali in TIPO_QUALIS:\n",
    "            ponderado[code][quali] = p_qualis[code][quali] * PESO_QUALIS[quali]\n",
    "            ponderado[code][quali] /= sum([valor for valor in docentes_programa[code].values()])\n",
    "        ponderado[code]['total'] = sum([valor for valor in ponderado[code].values()])\n",
    "\n",
    "    return ponderado\n",
    "\n",
    "\n",
    "def get_publicacoes_permanente(p_qualis, docentes_programa):\n",
    "    ponderado = defaultdict(lambda: dict())\n",
    "    for code in p_qualis.keys():\n",
    "        for quali in TIPO_QUALIS:\n",
    "            ponderado[code][quali] = p_qualis[code][quali] * PESO_QUALIS[quali]\n",
    "            ponderado[code][quali] /= docentes_programa[code]['PERMANENTE']\n",
    "        ponderado[code]['total'] = sum([valor for valor in ponderado[code].values()])\n",
    "\n",
    "    return ponderado\n",
    "\n",
    "\n",
    "def get_code(code):\n",
    "    new_code = code\n",
    "    if code in programas_nivel.keys():\n",
    "        new_code = programas_nivel[code]\n",
    "    elif code in programas.keys():\n",
    "        new_code = programas[code]\n",
    "    return new_code\n",
    "\n",
    "\n",
    "def sort_dict(dict_to_sort):\n",
    "    return {get_code(value[0]): value[1] for value in sorted(dict_to_sort.items(), key=lambda item: item[1]['total'])}\n",
    "\n",
    "\n",
    "def make_chart(chart_data, chart_title):\n",
    "    data = list()\n",
    "    for i in range(0, len(TIPO_QUALIS)):\n",
    "        data.append(go.Bar(x=list(chart_data.keys()),\n",
    "                           y=[p_quali[TIPO_QUALIS[i]] for p_quali in chart_data.values()],\n",
    "                           marker_color=COLOR_QUALIS[TIPO_QUALIS[i]],\n",
    "                           name=f'{TIPO_QUALIS[i]} ({PESO_QUALIS[TIPO_QUALIS[i]]})'))\n",
    "\n",
    "    title = {\n",
    "        'text': chart_title,\n",
    "        'x': 0.5,\n",
    "        'xanchor': 'center',\n",
    "        'font': {\n",
    "            'color': '#000000',\n",
    "            'size': 20\n",
    "        }\n",
    "    }\n",
    "\n",
    "    layout = go.Layout(title=title,\n",
    "                       xaxis={'title': 'Instituição'},\n",
    "                       barmode='stack')\n",
    "\n",
    "    fig = go.Figure(data=data, layout=layout)\n",
    "    py.iplot(fig)\n",
    "\n",
    "list_periodicos=[]\n",
    "list_conferencias=[]\n",
    "list_docentes=dict()\n",
    "programas=dict()\n",
    "\n",
    "# dados lidos\n",
    "for ano in ANOS:\n",
    "    programas.update(MyUtil.read_programas(PATH+ano+'/'))\n",
    "    list_periodicos.extend(read_periodicos(PATH+ano+'/'))\n",
    "    list_conferencias.extend(read_conferencias(PATH+ano+'/'))\n",
    "    list_docentes_add = read_docentes(PATH+ano+'/')\n",
    "    for programa in list_docentes_add:\n",
    "        if programa in list_docentes:\n",
    "            list_docentes[programa].extend(list_docentes_add[programa])\n",
    "        else:\n",
    "            list_docentes[programa] = list_docentes_add[programa]\n",
    "\n",
    "programas_nivel = MyUtil.read_programas_nivel()\n",
    "list_qualis = read_qualis()\n",
    "\n",
    "# dados processados\n",
    "docente_programa = get_docentes_programas(list_docentes)\n",
    "\n",
    "periodicos_qualis = get_publicacoes_qualis(list_periodicos, list_qualis)\n",
    "periodicos_docente = sort_dict(get_publicacoes_docente(periodicos_qualis, docente_programa))\n",
    "periodicos_permanente = sort_dict(get_publicacoes_permanente(periodicos_qualis, docente_programa))\n",
    "periodicos_qualis = sort_dict(periodicos_qualis)  # ordena depois, pois a lista é utilizada em outro método\n",
    "\n",
    "conferencias_qualis = get_publicacoes_qualis(list_conferencias, list_qualis)\n",
    "conferencias_docente = sort_dict(get_publicacoes_docente(conferencias_qualis, docente_programa))\n",
    "conferencias_permanente = sort_dict(get_publicacoes_permanente(conferencias_qualis, docente_programa))\n",
    "conferencias_qualis = sort_dict(conferencias_qualis)  # ordena depois, pois a lista é utilizada em outro método\n"
   ]
  },
  {
   "cell_type": "code",
   "execution_count": 14,
   "metadata": {},
   "outputs": [
    {
     "data": {
      "application/vnd.plotly.v1+json": {
       "config": {
        "linkText": "Export to plot.ly",
        "plotlyServerURL": "https://plot.ly",
        "showLink": false
       },
       "data": [
        {
         "marker": {
          "color": "#000044"
         },
         "name": "A1 (1)",
         "type": "bar",
         "x": [
          "UFPE-E-3",
          "UNIFOR-CDC-3",
          "UFRN-D-4",
          "UNIVILLE-D-4",
          "UFRJ-PeP-4",
          "IMED-AEU-3",
          "UFG-PEC-3",
          "UFRN-APEMA-4",
          " FIAMFAAM-PPeGdEU-3",
          "UFV-AEU-4",
          "UFU-AeU-3",
          "UFCG-D-3",
          "UNIFATEA-DTEI-3",
          "UFC-AEUED-3",
          "UFJF-AC-4",
          "UEL-AeU-4",
          "UFAL-DDEH-3",
          "UNESP-BAURU-AeU-4",
          "UNB-D-3",
          "UFPE-D-4",
          "PUC-RIO-A-3",
          "UNISINOS-AeU-4",
          "UFSC-UHEADC-4",
          "UFPA-AeU-4",
          "UFES-AEU-4",
          "UFRJ-AP-4",
          "UFMA-D-3",
          "UFF-AEU-4",
          "UFPB-JP-AEU-4",
          "UERJ-D-4",
          "UNISINOS-D-5",
          "UFRGS-A-4",
          "PUCCAMP-AeU-5",
          "UFRN-AEU-4",
          "UDESC-D-4",
          "UNIRITTER-AeU-4",
          "UEMG-D-5",
          "UFPR-D-4",
          "UNIRITTER-D-4",
          "UFBA-C-CeR-4",
          "UNICAMP-ATeC-5",
          "UFPEL-AEU-4",
          "UAM-D-5",
          "UNB-AEU-4",
          "USJT-AEU-4",
          "PUC-RIO-D-5",
          "UFRJ-A-6",
          "UFRGS-D-5",
          "UFSC-AEU-5",
          "UFSC-D-5",
          "UFMG-AEU-6",
          "UNESP-BAURU-D-6",
          "UFRJ-U-5",
          "USP/SC-AEU-4",
          "UFBA-AEU-4",
          "UPM-AEU-6",
          "USP-AEU-4"
         ],
         "y": [
          0,
          0,
          0,
          0,
          0,
          1,
          0,
          0,
          0,
          1,
          0,
          4,
          0,
          0,
          0,
          0,
          1,
          0,
          0,
          0,
          2,
          2,
          1,
          1,
          2,
          4,
          2,
          3,
          2,
          0,
          1,
          0,
          0,
          1,
          1,
          0,
          7,
          0,
          2,
          0,
          2,
          0,
          0,
          4,
          0,
          2,
          3,
          9,
          20,
          0,
          2,
          1,
          5,
          4,
          3,
          0,
          7
         ]
        },
        {
         "marker": {
          "color": "#000088"
         },
         "name": "A2 (0.875)",
         "type": "bar",
         "x": [
          "UFPE-E-3",
          "UNIFOR-CDC-3",
          "UFRN-D-4",
          "UNIVILLE-D-4",
          "UFRJ-PeP-4",
          "IMED-AEU-3",
          "UFG-PEC-3",
          "UFRN-APEMA-4",
          " FIAMFAAM-PPeGdEU-3",
          "UFV-AEU-4",
          "UFU-AeU-3",
          "UFCG-D-3",
          "UNIFATEA-DTEI-3",
          "UFC-AEUED-3",
          "UFJF-AC-4",
          "UEL-AeU-4",
          "UFAL-DDEH-3",
          "UNESP-BAURU-AeU-4",
          "UNB-D-3",
          "UFPE-D-4",
          "PUC-RIO-A-3",
          "UNISINOS-AeU-4",
          "UFSC-UHEADC-4",
          "UFPA-AeU-4",
          "UFES-AEU-4",
          "UFRJ-AP-4",
          "UFMA-D-3",
          "UFF-AEU-4",
          "UFPB-JP-AEU-4",
          "UERJ-D-4",
          "UNISINOS-D-5",
          "UFRGS-A-4",
          "PUCCAMP-AeU-5",
          "UFRN-AEU-4",
          "UDESC-D-4",
          "UNIRITTER-AeU-4",
          "UEMG-D-5",
          "UFPR-D-4",
          "UNIRITTER-D-4",
          "UFBA-C-CeR-4",
          "UNICAMP-ATeC-5",
          "UFPEL-AEU-4",
          "UAM-D-5",
          "UNB-AEU-4",
          "USJT-AEU-4",
          "PUC-RIO-D-5",
          "UFRJ-A-6",
          "UFRGS-D-5",
          "UFSC-AEU-5",
          "UFSC-D-5",
          "UFMG-AEU-6",
          "UNESP-BAURU-D-6",
          "UFRJ-U-5",
          "USP/SC-AEU-4",
          "UFBA-AEU-4",
          "UPM-AEU-6",
          "USP-AEU-4"
         ],
         "y": [
          0,
          0,
          0,
          0,
          0,
          0,
          0,
          0,
          0,
          0,
          0,
          1,
          0,
          0,
          0,
          3,
          0,
          0,
          0,
          0,
          4,
          1,
          0,
          0,
          3,
          2,
          2,
          0,
          2,
          0,
          2,
          0,
          0,
          0,
          1,
          0,
          1,
          0,
          0,
          0,
          0,
          0,
          1,
          1,
          0,
          6,
          0,
          3,
          1,
          0,
          0,
          3,
          2,
          2,
          0,
          0,
          6
         ]
        },
        {
         "marker": {
          "color": "#0000CC"
         },
         "name": "A3 (0.75)",
         "type": "bar",
         "x": [
          "UFPE-E-3",
          "UNIFOR-CDC-3",
          "UFRN-D-4",
          "UNIVILLE-D-4",
          "UFRJ-PeP-4",
          "IMED-AEU-3",
          "UFG-PEC-3",
          "UFRN-APEMA-4",
          " FIAMFAAM-PPeGdEU-3",
          "UFV-AEU-4",
          "UFU-AeU-3",
          "UFCG-D-3",
          "UNIFATEA-DTEI-3",
          "UFC-AEUED-3",
          "UFJF-AC-4",
          "UEL-AeU-4",
          "UFAL-DDEH-3",
          "UNESP-BAURU-AeU-4",
          "UNB-D-3",
          "UFPE-D-4",
          "PUC-RIO-A-3",
          "UNISINOS-AeU-4",
          "UFSC-UHEADC-4",
          "UFPA-AeU-4",
          "UFES-AEU-4",
          "UFRJ-AP-4",
          "UFMA-D-3",
          "UFF-AEU-4",
          "UFPB-JP-AEU-4",
          "UERJ-D-4",
          "UNISINOS-D-5",
          "UFRGS-A-4",
          "PUCCAMP-AeU-5",
          "UFRN-AEU-4",
          "UDESC-D-4",
          "UNIRITTER-AeU-4",
          "UEMG-D-5",
          "UFPR-D-4",
          "UNIRITTER-D-4",
          "UFBA-C-CeR-4",
          "UNICAMP-ATeC-5",
          "UFPEL-AEU-4",
          "UAM-D-5",
          "UNB-AEU-4",
          "USJT-AEU-4",
          "PUC-RIO-D-5",
          "UFRJ-A-6",
          "UFRGS-D-5",
          "UFSC-AEU-5",
          "UFSC-D-5",
          "UFMG-AEU-6",
          "UNESP-BAURU-D-6",
          "UFRJ-U-5",
          "USP/SC-AEU-4",
          "UFBA-AEU-4",
          "UPM-AEU-6",
          "USP-AEU-4"
         ],
         "y": [
          0,
          0,
          0,
          0,
          0,
          3,
          0,
          0,
          0,
          0,
          0,
          2,
          2,
          1,
          1,
          1,
          0,
          0,
          0,
          0,
          0,
          1,
          0,
          2,
          0,
          0,
          1,
          2,
          1,
          0,
          2,
          2,
          3,
          1,
          1,
          0,
          7,
          0,
          2,
          0,
          3,
          0,
          0,
          3,
          2,
          2,
          0,
          6,
          3,
          5,
          5,
          4,
          0,
          7,
          0,
          1,
          7
         ]
        },
        {
         "marker": {
          "color": "#0000FF"
         },
         "name": "A4 (0.625)",
         "type": "bar",
         "x": [
          "UFPE-E-3",
          "UNIFOR-CDC-3",
          "UFRN-D-4",
          "UNIVILLE-D-4",
          "UFRJ-PeP-4",
          "IMED-AEU-3",
          "UFG-PEC-3",
          "UFRN-APEMA-4",
          " FIAMFAAM-PPeGdEU-3",
          "UFV-AEU-4",
          "UFU-AeU-3",
          "UFCG-D-3",
          "UNIFATEA-DTEI-3",
          "UFC-AEUED-3",
          "UFJF-AC-4",
          "UEL-AeU-4",
          "UFAL-DDEH-3",
          "UNESP-BAURU-AeU-4",
          "UNB-D-3",
          "UFPE-D-4",
          "PUC-RIO-A-3",
          "UNISINOS-AeU-4",
          "UFSC-UHEADC-4",
          "UFPA-AeU-4",
          "UFES-AEU-4",
          "UFRJ-AP-4",
          "UFMA-D-3",
          "UFF-AEU-4",
          "UFPB-JP-AEU-4",
          "UERJ-D-4",
          "UNISINOS-D-5",
          "UFRGS-A-4",
          "PUCCAMP-AeU-5",
          "UFRN-AEU-4",
          "UDESC-D-4",
          "UNIRITTER-AeU-4",
          "UEMG-D-5",
          "UFPR-D-4",
          "UNIRITTER-D-4",
          "UFBA-C-CeR-4",
          "UNICAMP-ATeC-5",
          "UFPEL-AEU-4",
          "UAM-D-5",
          "UNB-AEU-4",
          "USJT-AEU-4",
          "PUC-RIO-D-5",
          "UFRJ-A-6",
          "UFRGS-D-5",
          "UFSC-AEU-5",
          "UFSC-D-5",
          "UFMG-AEU-6",
          "UNESP-BAURU-D-6",
          "UFRJ-U-5",
          "USP/SC-AEU-4",
          "UFBA-AEU-4",
          "UPM-AEU-6",
          "USP-AEU-4"
         ],
         "y": [
          1,
          0,
          0,
          0,
          0,
          1,
          0,
          2,
          3,
          0,
          0,
          0,
          0,
          2,
          2,
          3,
          1,
          2,
          0,
          10,
          0,
          1,
          1,
          2,
          3,
          1,
          10,
          7,
          2,
          1,
          1,
          0,
          2,
          4,
          1,
          1,
          6,
          3,
          1,
          0,
          5,
          5,
          11,
          3,
          1,
          20,
          8,
          2,
          6,
          3,
          6,
          14,
          5,
          12,
          8,
          2,
          23
         ]
        },
        {
         "marker": {
          "color": "#003300"
         },
         "name": "B1 (0.5)",
         "type": "bar",
         "x": [
          "UFPE-E-3",
          "UNIFOR-CDC-3",
          "UFRN-D-4",
          "UNIVILLE-D-4",
          "UFRJ-PeP-4",
          "IMED-AEU-3",
          "UFG-PEC-3",
          "UFRN-APEMA-4",
          " FIAMFAAM-PPeGdEU-3",
          "UFV-AEU-4",
          "UFU-AeU-3",
          "UFCG-D-3",
          "UNIFATEA-DTEI-3",
          "UFC-AEUED-3",
          "UFJF-AC-4",
          "UEL-AeU-4",
          "UFAL-DDEH-3",
          "UNESP-BAURU-AeU-4",
          "UNB-D-3",
          "UFPE-D-4",
          "PUC-RIO-A-3",
          "UNISINOS-AeU-4",
          "UFSC-UHEADC-4",
          "UFPA-AeU-4",
          "UFES-AEU-4",
          "UFRJ-AP-4",
          "UFMA-D-3",
          "UFF-AEU-4",
          "UFPB-JP-AEU-4",
          "UERJ-D-4",
          "UNISINOS-D-5",
          "UFRGS-A-4",
          "PUCCAMP-AeU-5",
          "UFRN-AEU-4",
          "UDESC-D-4",
          "UNIRITTER-AeU-4",
          "UEMG-D-5",
          "UFPR-D-4",
          "UNIRITTER-D-4",
          "UFBA-C-CeR-4",
          "UNICAMP-ATeC-5",
          "UFPEL-AEU-4",
          "UAM-D-5",
          "UNB-AEU-4",
          "USJT-AEU-4",
          "PUC-RIO-D-5",
          "UFRJ-A-6",
          "UFRGS-D-5",
          "UFSC-AEU-5",
          "UFSC-D-5",
          "UFMG-AEU-6",
          "UNESP-BAURU-D-6",
          "UFRJ-U-5",
          "USP/SC-AEU-4",
          "UFBA-AEU-4",
          "UPM-AEU-6",
          "USP-AEU-4"
         ],
         "y": [
          0,
          0,
          0,
          0,
          0,
          1,
          1,
          2,
          1,
          2,
          0,
          1,
          1,
          0,
          0,
          2,
          2,
          0,
          1,
          2,
          1,
          0,
          2,
          3,
          0,
          0,
          2,
          0,
          2,
          0,
          4,
          0,
          2,
          3,
          4,
          3,
          0,
          0,
          3,
          0,
          2,
          0,
          0,
          1,
          1,
          2,
          2,
          1,
          3,
          2,
          7,
          5,
          3,
          4,
          0,
          2,
          6
         ]
        },
        {
         "marker": {
          "color": "#006600"
         },
         "name": "B2 (0.2)",
         "type": "bar",
         "x": [
          "UFPE-E-3",
          "UNIFOR-CDC-3",
          "UFRN-D-4",
          "UNIVILLE-D-4",
          "UFRJ-PeP-4",
          "IMED-AEU-3",
          "UFG-PEC-3",
          "UFRN-APEMA-4",
          " FIAMFAAM-PPeGdEU-3",
          "UFV-AEU-4",
          "UFU-AeU-3",
          "UFCG-D-3",
          "UNIFATEA-DTEI-3",
          "UFC-AEUED-3",
          "UFJF-AC-4",
          "UEL-AeU-4",
          "UFAL-DDEH-3",
          "UNESP-BAURU-AeU-4",
          "UNB-D-3",
          "UFPE-D-4",
          "PUC-RIO-A-3",
          "UNISINOS-AeU-4",
          "UFSC-UHEADC-4",
          "UFPA-AeU-4",
          "UFES-AEU-4",
          "UFRJ-AP-4",
          "UFMA-D-3",
          "UFF-AEU-4",
          "UFPB-JP-AEU-4",
          "UERJ-D-4",
          "UNISINOS-D-5",
          "UFRGS-A-4",
          "PUCCAMP-AeU-5",
          "UFRN-AEU-4",
          "UDESC-D-4",
          "UNIRITTER-AeU-4",
          "UEMG-D-5",
          "UFPR-D-4",
          "UNIRITTER-D-4",
          "UFBA-C-CeR-4",
          "UNICAMP-ATeC-5",
          "UFPEL-AEU-4",
          "UAM-D-5",
          "UNB-AEU-4",
          "USJT-AEU-4",
          "PUC-RIO-D-5",
          "UFRJ-A-6",
          "UFRGS-D-5",
          "UFSC-AEU-5",
          "UFSC-D-5",
          "UFMG-AEU-6",
          "UNESP-BAURU-D-6",
          "UFRJ-U-5",
          "USP/SC-AEU-4",
          "UFBA-AEU-4",
          "UPM-AEU-6",
          "USP-AEU-4"
         ],
         "y": [
          0,
          1,
          0,
          1,
          1,
          1,
          1,
          1,
          0,
          5,
          1,
          0,
          1,
          5,
          2,
          3,
          0,
          13,
          0,
          0,
          1,
          7,
          7,
          8,
          1,
          2,
          1,
          0,
          5,
          2,
          8,
          3,
          4,
          4,
          6,
          8,
          4,
          4,
          6,
          0,
          7,
          1,
          6,
          2,
          0,
          5,
          2,
          5,
          7,
          3,
          3,
          2,
          7,
          12,
          2,
          19,
          7
         ]
        },
        {
         "marker": {
          "color": "#009900"
         },
         "name": "B3 (0.1)",
         "type": "bar",
         "x": [
          "UFPE-E-3",
          "UNIFOR-CDC-3",
          "UFRN-D-4",
          "UNIVILLE-D-4",
          "UFRJ-PeP-4",
          "IMED-AEU-3",
          "UFG-PEC-3",
          "UFRN-APEMA-4",
          " FIAMFAAM-PPeGdEU-3",
          "UFV-AEU-4",
          "UFU-AeU-3",
          "UFCG-D-3",
          "UNIFATEA-DTEI-3",
          "UFC-AEUED-3",
          "UFJF-AC-4",
          "UEL-AeU-4",
          "UFAL-DDEH-3",
          "UNESP-BAURU-AeU-4",
          "UNB-D-3",
          "UFPE-D-4",
          "PUC-RIO-A-3",
          "UNISINOS-AeU-4",
          "UFSC-UHEADC-4",
          "UFPA-AeU-4",
          "UFES-AEU-4",
          "UFRJ-AP-4",
          "UFMA-D-3",
          "UFF-AEU-4",
          "UFPB-JP-AEU-4",
          "UERJ-D-4",
          "UNISINOS-D-5",
          "UFRGS-A-4",
          "PUCCAMP-AeU-5",
          "UFRN-AEU-4",
          "UDESC-D-4",
          "UNIRITTER-AeU-4",
          "UEMG-D-5",
          "UFPR-D-4",
          "UNIRITTER-D-4",
          "UFBA-C-CeR-4",
          "UNICAMP-ATeC-5",
          "UFPEL-AEU-4",
          "UAM-D-5",
          "UNB-AEU-4",
          "USJT-AEU-4",
          "PUC-RIO-D-5",
          "UFRJ-A-6",
          "UFRGS-D-5",
          "UFSC-AEU-5",
          "UFSC-D-5",
          "UFMG-AEU-6",
          "UNESP-BAURU-D-6",
          "UFRJ-U-5",
          "USP/SC-AEU-4",
          "UFBA-AEU-4",
          "UPM-AEU-6",
          "USP-AEU-4"
         ],
         "y": [
          0,
          0,
          0,
          0,
          2,
          1,
          3,
          3,
          1,
          0,
          1,
          2,
          3,
          3,
          2,
          0,
          2,
          4,
          1,
          4,
          3,
          8,
          2,
          3,
          3,
          0,
          3,
          2,
          7,
          3,
          4,
          1,
          3,
          6,
          9,
          4,
          4,
          6,
          5,
          1,
          1,
          15,
          9,
          7,
          5,
          3,
          4,
          13,
          7,
          9,
          6,
          19,
          13,
          10,
          10,
          8,
          29
         ]
        },
        {
         "marker": {
          "color": "#00CC00"
         },
         "name": "B4 (0.05)",
         "type": "bar",
         "x": [
          "UFPE-E-3",
          "UNIFOR-CDC-3",
          "UFRN-D-4",
          "UNIVILLE-D-4",
          "UFRJ-PeP-4",
          "IMED-AEU-3",
          "UFG-PEC-3",
          "UFRN-APEMA-4",
          " FIAMFAAM-PPeGdEU-3",
          "UFV-AEU-4",
          "UFU-AeU-3",
          "UFCG-D-3",
          "UNIFATEA-DTEI-3",
          "UFC-AEUED-3",
          "UFJF-AC-4",
          "UEL-AeU-4",
          "UFAL-DDEH-3",
          "UNESP-BAURU-AeU-4",
          "UNB-D-3",
          "UFPE-D-4",
          "PUC-RIO-A-3",
          "UNISINOS-AeU-4",
          "UFSC-UHEADC-4",
          "UFPA-AeU-4",
          "UFES-AEU-4",
          "UFRJ-AP-4",
          "UFMA-D-3",
          "UFF-AEU-4",
          "UFPB-JP-AEU-4",
          "UERJ-D-4",
          "UNISINOS-D-5",
          "UFRGS-A-4",
          "PUCCAMP-AeU-5",
          "UFRN-AEU-4",
          "UDESC-D-4",
          "UNIRITTER-AeU-4",
          "UEMG-D-5",
          "UFPR-D-4",
          "UNIRITTER-D-4",
          "UFBA-C-CeR-4",
          "UNICAMP-ATeC-5",
          "UFPEL-AEU-4",
          "UAM-D-5",
          "UNB-AEU-4",
          "USJT-AEU-4",
          "PUC-RIO-D-5",
          "UFRJ-A-6",
          "UFRGS-D-5",
          "UFSC-AEU-5",
          "UFSC-D-5",
          "UFMG-AEU-6",
          "UNESP-BAURU-D-6",
          "UFRJ-U-5",
          "USP/SC-AEU-4",
          "UFBA-AEU-4",
          "UPM-AEU-6",
          "USP-AEU-4"
         ],
         "y": [
          0,
          0,
          0,
          1,
          0,
          1,
          0,
          0,
          0,
          0,
          1,
          1,
          1,
          1,
          0,
          1,
          0,
          0,
          0,
          4,
          0,
          1,
          3,
          1,
          3,
          0,
          3,
          1,
          2,
          10,
          4,
          2,
          1,
          1,
          13,
          0,
          4,
          6,
          1,
          2,
          2,
          3,
          3,
          0,
          1,
          4,
          4,
          5,
          10,
          11,
          0,
          6,
          2,
          1,
          2,
          9,
          9
         ]
        },
        {
         "marker": {
          "color": "#00FF00"
         },
         "name": "B5 (0)",
         "type": "bar",
         "x": [
          "UFPE-E-3",
          "UNIFOR-CDC-3",
          "UFRN-D-4",
          "UNIVILLE-D-4",
          "UFRJ-PeP-4",
          "IMED-AEU-3",
          "UFG-PEC-3",
          "UFRN-APEMA-4",
          " FIAMFAAM-PPeGdEU-3",
          "UFV-AEU-4",
          "UFU-AeU-3",
          "UFCG-D-3",
          "UNIFATEA-DTEI-3",
          "UFC-AEUED-3",
          "UFJF-AC-4",
          "UEL-AeU-4",
          "UFAL-DDEH-3",
          "UNESP-BAURU-AeU-4",
          "UNB-D-3",
          "UFPE-D-4",
          "PUC-RIO-A-3",
          "UNISINOS-AeU-4",
          "UFSC-UHEADC-4",
          "UFPA-AeU-4",
          "UFES-AEU-4",
          "UFRJ-AP-4",
          "UFMA-D-3",
          "UFF-AEU-4",
          "UFPB-JP-AEU-4",
          "UERJ-D-4",
          "UNISINOS-D-5",
          "UFRGS-A-4",
          "PUCCAMP-AeU-5",
          "UFRN-AEU-4",
          "UDESC-D-4",
          "UNIRITTER-AeU-4",
          "UEMG-D-5",
          "UFPR-D-4",
          "UNIRITTER-D-4",
          "UFBA-C-CeR-4",
          "UNICAMP-ATeC-5",
          "UFPEL-AEU-4",
          "UAM-D-5",
          "UNB-AEU-4",
          "USJT-AEU-4",
          "PUC-RIO-D-5",
          "UFRJ-A-6",
          "UFRGS-D-5",
          "UFSC-AEU-5",
          "UFSC-D-5",
          "UFMG-AEU-6",
          "UNESP-BAURU-D-6",
          "UFRJ-U-5",
          "USP/SC-AEU-4",
          "UFBA-AEU-4",
          "UPM-AEU-6",
          "USP-AEU-4"
         ],
         "y": [
          0,
          0,
          0,
          0,
          0,
          0,
          0,
          0,
          0,
          0,
          0,
          0,
          0,
          0,
          0,
          0,
          0,
          0,
          0,
          0,
          0,
          0,
          0,
          0,
          0,
          0,
          0,
          0,
          0,
          0,
          0,
          0,
          0,
          0,
          0,
          0,
          0,
          0,
          0,
          0,
          0,
          0,
          0,
          0,
          0,
          0,
          0,
          0,
          0,
          0,
          0,
          0,
          0,
          0,
          0,
          0,
          0
         ]
        },
        {
         "marker": {
          "color": "#880000"
         },
         "name": "C (0)",
         "type": "bar",
         "x": [
          "UFPE-E-3",
          "UNIFOR-CDC-3",
          "UFRN-D-4",
          "UNIVILLE-D-4",
          "UFRJ-PeP-4",
          "IMED-AEU-3",
          "UFG-PEC-3",
          "UFRN-APEMA-4",
          " FIAMFAAM-PPeGdEU-3",
          "UFV-AEU-4",
          "UFU-AeU-3",
          "UFCG-D-3",
          "UNIFATEA-DTEI-3",
          "UFC-AEUED-3",
          "UFJF-AC-4",
          "UEL-AeU-4",
          "UFAL-DDEH-3",
          "UNESP-BAURU-AeU-4",
          "UNB-D-3",
          "UFPE-D-4",
          "PUC-RIO-A-3",
          "UNISINOS-AeU-4",
          "UFSC-UHEADC-4",
          "UFPA-AeU-4",
          "UFES-AEU-4",
          "UFRJ-AP-4",
          "UFMA-D-3",
          "UFF-AEU-4",
          "UFPB-JP-AEU-4",
          "UERJ-D-4",
          "UNISINOS-D-5",
          "UFRGS-A-4",
          "PUCCAMP-AeU-5",
          "UFRN-AEU-4",
          "UDESC-D-4",
          "UNIRITTER-AeU-4",
          "UEMG-D-5",
          "UFPR-D-4",
          "UNIRITTER-D-4",
          "UFBA-C-CeR-4",
          "UNICAMP-ATeC-5",
          "UFPEL-AEU-4",
          "UAM-D-5",
          "UNB-AEU-4",
          "USJT-AEU-4",
          "PUC-RIO-D-5",
          "UFRJ-A-6",
          "UFRGS-D-5",
          "UFSC-AEU-5",
          "UFSC-D-5",
          "UFMG-AEU-6",
          "UNESP-BAURU-D-6",
          "UFRJ-U-5",
          "USP/SC-AEU-4",
          "UFBA-AEU-4",
          "UPM-AEU-6",
          "USP-AEU-4"
         ],
         "y": [
          0,
          1,
          1,
          5,
          10,
          6,
          10,
          10,
          13,
          13,
          19,
          9,
          15,
          15,
          14,
          19,
          24,
          20,
          37,
          15,
          26,
          16,
          24,
          25,
          36,
          44,
          18,
          37,
          39,
          39,
          19,
          42,
          45,
          33,
          29,
          46,
          31,
          40,
          39,
          52,
          48,
          70,
          55,
          45,
          102,
          46,
          57,
          46,
          51,
          49,
          75,
          75,
          93,
          69,
          76,
          198,
          185
         ]
        },
        {
         "marker": {
          "color": "#CC0000"
         },
         "name": "NA (0)",
         "type": "bar",
         "x": [
          "UFPE-E-3",
          "UNIFOR-CDC-3",
          "UFRN-D-4",
          "UNIVILLE-D-4",
          "UFRJ-PeP-4",
          "IMED-AEU-3",
          "UFG-PEC-3",
          "UFRN-APEMA-4",
          " FIAMFAAM-PPeGdEU-3",
          "UFV-AEU-4",
          "UFU-AeU-3",
          "UFCG-D-3",
          "UNIFATEA-DTEI-3",
          "UFC-AEUED-3",
          "UFJF-AC-4",
          "UEL-AeU-4",
          "UFAL-DDEH-3",
          "UNESP-BAURU-AeU-4",
          "UNB-D-3",
          "UFPE-D-4",
          "PUC-RIO-A-3",
          "UNISINOS-AeU-4",
          "UFSC-UHEADC-4",
          "UFPA-AeU-4",
          "UFES-AEU-4",
          "UFRJ-AP-4",
          "UFMA-D-3",
          "UFF-AEU-4",
          "UFPB-JP-AEU-4",
          "UERJ-D-4",
          "UNISINOS-D-5",
          "UFRGS-A-4",
          "PUCCAMP-AeU-5",
          "UFRN-AEU-4",
          "UDESC-D-4",
          "UNIRITTER-AeU-4",
          "UEMG-D-5",
          "UFPR-D-4",
          "UNIRITTER-D-4",
          "UFBA-C-CeR-4",
          "UNICAMP-ATeC-5",
          "UFPEL-AEU-4",
          "UAM-D-5",
          "UNB-AEU-4",
          "USJT-AEU-4",
          "PUC-RIO-D-5",
          "UFRJ-A-6",
          "UFRGS-D-5",
          "UFSC-AEU-5",
          "UFSC-D-5",
          "UFMG-AEU-6",
          "UNESP-BAURU-D-6",
          "UFRJ-U-5",
          "USP/SC-AEU-4",
          "UFBA-AEU-4",
          "UPM-AEU-6",
          "USP-AEU-4"
         ],
         "y": [
          1,
          0,
          3,
          4,
          6,
          4,
          7,
          5,
          5,
          5,
          5,
          9,
          6,
          3,
          11,
          4,
          10,
          3,
          8,
          15,
          14,
          16,
          16,
          18,
          13,
          11,
          22,
          13,
          5,
          16,
          28,
          26,
          16,
          24,
          16,
          22,
          24,
          29,
          29,
          35,
          36,
          18,
          27,
          47,
          12,
          39,
          52,
          48,
          36,
          62,
          55,
          31,
          33,
          48,
          69,
          56,
          188
         ]
        },
        {
         "marker": {
          "color": "#FF0000"
         },
         "name": "NP (0)",
         "type": "bar",
         "x": [
          "UFPE-E-3",
          "UNIFOR-CDC-3",
          "UFRN-D-4",
          "UNIVILLE-D-4",
          "UFRJ-PeP-4",
          "IMED-AEU-3",
          "UFG-PEC-3",
          "UFRN-APEMA-4",
          " FIAMFAAM-PPeGdEU-3",
          "UFV-AEU-4",
          "UFU-AeU-3",
          "UFCG-D-3",
          "UNIFATEA-DTEI-3",
          "UFC-AEUED-3",
          "UFJF-AC-4",
          "UEL-AeU-4",
          "UFAL-DDEH-3",
          "UNESP-BAURU-AeU-4",
          "UNB-D-3",
          "UFPE-D-4",
          "PUC-RIO-A-3",
          "UNISINOS-AeU-4",
          "UFSC-UHEADC-4",
          "UFPA-AeU-4",
          "UFES-AEU-4",
          "UFRJ-AP-4",
          "UFMA-D-3",
          "UFF-AEU-4",
          "UFPB-JP-AEU-4",
          "UERJ-D-4",
          "UNISINOS-D-5",
          "UFRGS-A-4",
          "PUCCAMP-AeU-5",
          "UFRN-AEU-4",
          "UDESC-D-4",
          "UNIRITTER-AeU-4",
          "UEMG-D-5",
          "UFPR-D-4",
          "UNIRITTER-D-4",
          "UFBA-C-CeR-4",
          "UNICAMP-ATeC-5",
          "UFPEL-AEU-4",
          "UAM-D-5",
          "UNB-AEU-4",
          "USJT-AEU-4",
          "PUC-RIO-D-5",
          "UFRJ-A-6",
          "UFRGS-D-5",
          "UFSC-AEU-5",
          "UFSC-D-5",
          "UFMG-AEU-6",
          "UNESP-BAURU-D-6",
          "UFRJ-U-5",
          "USP/SC-AEU-4",
          "UFBA-AEU-4",
          "UPM-AEU-6",
          "USP-AEU-4"
         ],
         "y": [
          0,
          0,
          0,
          0,
          0,
          0,
          0,
          0,
          0,
          0,
          0,
          0,
          0,
          0,
          0,
          0,
          0,
          0,
          0,
          0,
          0,
          0,
          0,
          0,
          0,
          0,
          0,
          0,
          0,
          0,
          0,
          0,
          0,
          0,
          0,
          0,
          0,
          0,
          0,
          0,
          0,
          0,
          0,
          0,
          0,
          0,
          0,
          0,
          0,
          0,
          0,
          0,
          0,
          0,
          0,
          0,
          0
         ]
        }
       ],
       "layout": {
        "barmode": "stack",
        "template": {
         "data": {
          "bar": [
           {
            "error_x": {
             "color": "#2a3f5f"
            },
            "error_y": {
             "color": "#2a3f5f"
            },
            "marker": {
             "line": {
              "color": "#E5ECF6",
              "width": 0.5
             }
            },
            "type": "bar"
           }
          ],
          "barpolar": [
           {
            "marker": {
             "line": {
              "color": "#E5ECF6",
              "width": 0.5
             }
            },
            "type": "barpolar"
           }
          ],
          "carpet": [
           {
            "aaxis": {
             "endlinecolor": "#2a3f5f",
             "gridcolor": "white",
             "linecolor": "white",
             "minorgridcolor": "white",
             "startlinecolor": "#2a3f5f"
            },
            "baxis": {
             "endlinecolor": "#2a3f5f",
             "gridcolor": "white",
             "linecolor": "white",
             "minorgridcolor": "white",
             "startlinecolor": "#2a3f5f"
            },
            "type": "carpet"
           }
          ],
          "choropleth": [
           {
            "colorbar": {
             "outlinewidth": 0,
             "ticks": ""
            },
            "type": "choropleth"
           }
          ],
          "contour": [
           {
            "colorbar": {
             "outlinewidth": 0,
             "ticks": ""
            },
            "colorscale": [
             [
              0,
              "#0d0887"
             ],
             [
              0.1111111111111111,
              "#46039f"
             ],
             [
              0.2222222222222222,
              "#7201a8"
             ],
             [
              0.3333333333333333,
              "#9c179e"
             ],
             [
              0.4444444444444444,
              "#bd3786"
             ],
             [
              0.5555555555555556,
              "#d8576b"
             ],
             [
              0.6666666666666666,
              "#ed7953"
             ],
             [
              0.7777777777777778,
              "#fb9f3a"
             ],
             [
              0.8888888888888888,
              "#fdca26"
             ],
             [
              1,
              "#f0f921"
             ]
            ],
            "type": "contour"
           }
          ],
          "contourcarpet": [
           {
            "colorbar": {
             "outlinewidth": 0,
             "ticks": ""
            },
            "type": "contourcarpet"
           }
          ],
          "heatmap": [
           {
            "colorbar": {
             "outlinewidth": 0,
             "ticks": ""
            },
            "colorscale": [
             [
              0,
              "#0d0887"
             ],
             [
              0.1111111111111111,
              "#46039f"
             ],
             [
              0.2222222222222222,
              "#7201a8"
             ],
             [
              0.3333333333333333,
              "#9c179e"
             ],
             [
              0.4444444444444444,
              "#bd3786"
             ],
             [
              0.5555555555555556,
              "#d8576b"
             ],
             [
              0.6666666666666666,
              "#ed7953"
             ],
             [
              0.7777777777777778,
              "#fb9f3a"
             ],
             [
              0.8888888888888888,
              "#fdca26"
             ],
             [
              1,
              "#f0f921"
             ]
            ],
            "type": "heatmap"
           }
          ],
          "heatmapgl": [
           {
            "colorbar": {
             "outlinewidth": 0,
             "ticks": ""
            },
            "colorscale": [
             [
              0,
              "#0d0887"
             ],
             [
              0.1111111111111111,
              "#46039f"
             ],
             [
              0.2222222222222222,
              "#7201a8"
             ],
             [
              0.3333333333333333,
              "#9c179e"
             ],
             [
              0.4444444444444444,
              "#bd3786"
             ],
             [
              0.5555555555555556,
              "#d8576b"
             ],
             [
              0.6666666666666666,
              "#ed7953"
             ],
             [
              0.7777777777777778,
              "#fb9f3a"
             ],
             [
              0.8888888888888888,
              "#fdca26"
             ],
             [
              1,
              "#f0f921"
             ]
            ],
            "type": "heatmapgl"
           }
          ],
          "histogram": [
           {
            "marker": {
             "colorbar": {
              "outlinewidth": 0,
              "ticks": ""
             }
            },
            "type": "histogram"
           }
          ],
          "histogram2d": [
           {
            "colorbar": {
             "outlinewidth": 0,
             "ticks": ""
            },
            "colorscale": [
             [
              0,
              "#0d0887"
             ],
             [
              0.1111111111111111,
              "#46039f"
             ],
             [
              0.2222222222222222,
              "#7201a8"
             ],
             [
              0.3333333333333333,
              "#9c179e"
             ],
             [
              0.4444444444444444,
              "#bd3786"
             ],
             [
              0.5555555555555556,
              "#d8576b"
             ],
             [
              0.6666666666666666,
              "#ed7953"
             ],
             [
              0.7777777777777778,
              "#fb9f3a"
             ],
             [
              0.8888888888888888,
              "#fdca26"
             ],
             [
              1,
              "#f0f921"
             ]
            ],
            "type": "histogram2d"
           }
          ],
          "histogram2dcontour": [
           {
            "colorbar": {
             "outlinewidth": 0,
             "ticks": ""
            },
            "colorscale": [
             [
              0,
              "#0d0887"
             ],
             [
              0.1111111111111111,
              "#46039f"
             ],
             [
              0.2222222222222222,
              "#7201a8"
             ],
             [
              0.3333333333333333,
              "#9c179e"
             ],
             [
              0.4444444444444444,
              "#bd3786"
             ],
             [
              0.5555555555555556,
              "#d8576b"
             ],
             [
              0.6666666666666666,
              "#ed7953"
             ],
             [
              0.7777777777777778,
              "#fb9f3a"
             ],
             [
              0.8888888888888888,
              "#fdca26"
             ],
             [
              1,
              "#f0f921"
             ]
            ],
            "type": "histogram2dcontour"
           }
          ],
          "mesh3d": [
           {
            "colorbar": {
             "outlinewidth": 0,
             "ticks": ""
            },
            "type": "mesh3d"
           }
          ],
          "parcoords": [
           {
            "line": {
             "colorbar": {
              "outlinewidth": 0,
              "ticks": ""
             }
            },
            "type": "parcoords"
           }
          ],
          "pie": [
           {
            "automargin": true,
            "type": "pie"
           }
          ],
          "scatter": [
           {
            "marker": {
             "colorbar": {
              "outlinewidth": 0,
              "ticks": ""
             }
            },
            "type": "scatter"
           }
          ],
          "scatter3d": [
           {
            "line": {
             "colorbar": {
              "outlinewidth": 0,
              "ticks": ""
             }
            },
            "marker": {
             "colorbar": {
              "outlinewidth": 0,
              "ticks": ""
             }
            },
            "type": "scatter3d"
           }
          ],
          "scattercarpet": [
           {
            "marker": {
             "colorbar": {
              "outlinewidth": 0,
              "ticks": ""
             }
            },
            "type": "scattercarpet"
           }
          ],
          "scattergeo": [
           {
            "marker": {
             "colorbar": {
              "outlinewidth": 0,
              "ticks": ""
             }
            },
            "type": "scattergeo"
           }
          ],
          "scattergl": [
           {
            "marker": {
             "colorbar": {
              "outlinewidth": 0,
              "ticks": ""
             }
            },
            "type": "scattergl"
           }
          ],
          "scattermapbox": [
           {
            "marker": {
             "colorbar": {
              "outlinewidth": 0,
              "ticks": ""
             }
            },
            "type": "scattermapbox"
           }
          ],
          "scatterpolar": [
           {
            "marker": {
             "colorbar": {
              "outlinewidth": 0,
              "ticks": ""
             }
            },
            "type": "scatterpolar"
           }
          ],
          "scatterpolargl": [
           {
            "marker": {
             "colorbar": {
              "outlinewidth": 0,
              "ticks": ""
             }
            },
            "type": "scatterpolargl"
           }
          ],
          "scatterternary": [
           {
            "marker": {
             "colorbar": {
              "outlinewidth": 0,
              "ticks": ""
             }
            },
            "type": "scatterternary"
           }
          ],
          "surface": [
           {
            "colorbar": {
             "outlinewidth": 0,
             "ticks": ""
            },
            "colorscale": [
             [
              0,
              "#0d0887"
             ],
             [
              0.1111111111111111,
              "#46039f"
             ],
             [
              0.2222222222222222,
              "#7201a8"
             ],
             [
              0.3333333333333333,
              "#9c179e"
             ],
             [
              0.4444444444444444,
              "#bd3786"
             ],
             [
              0.5555555555555556,
              "#d8576b"
             ],
             [
              0.6666666666666666,
              "#ed7953"
             ],
             [
              0.7777777777777778,
              "#fb9f3a"
             ],
             [
              0.8888888888888888,
              "#fdca26"
             ],
             [
              1,
              "#f0f921"
             ]
            ],
            "type": "surface"
           }
          ],
          "table": [
           {
            "cells": {
             "fill": {
              "color": "#EBF0F8"
             },
             "line": {
              "color": "white"
             }
            },
            "header": {
             "fill": {
              "color": "#C8D4E3"
             },
             "line": {
              "color": "white"
             }
            },
            "type": "table"
           }
          ]
         },
         "layout": {
          "annotationdefaults": {
           "arrowcolor": "#2a3f5f",
           "arrowhead": 0,
           "arrowwidth": 1
          },
          "coloraxis": {
           "colorbar": {
            "outlinewidth": 0,
            "ticks": ""
           }
          },
          "colorscale": {
           "diverging": [
            [
             0,
             "#8e0152"
            ],
            [
             0.1,
             "#c51b7d"
            ],
            [
             0.2,
             "#de77ae"
            ],
            [
             0.3,
             "#f1b6da"
            ],
            [
             0.4,
             "#fde0ef"
            ],
            [
             0.5,
             "#f7f7f7"
            ],
            [
             0.6,
             "#e6f5d0"
            ],
            [
             0.7,
             "#b8e186"
            ],
            [
             0.8,
             "#7fbc41"
            ],
            [
             0.9,
             "#4d9221"
            ],
            [
             1,
             "#276419"
            ]
           ],
           "sequential": [
            [
             0,
             "#0d0887"
            ],
            [
             0.1111111111111111,
             "#46039f"
            ],
            [
             0.2222222222222222,
             "#7201a8"
            ],
            [
             0.3333333333333333,
             "#9c179e"
            ],
            [
             0.4444444444444444,
             "#bd3786"
            ],
            [
             0.5555555555555556,
             "#d8576b"
            ],
            [
             0.6666666666666666,
             "#ed7953"
            ],
            [
             0.7777777777777778,
             "#fb9f3a"
            ],
            [
             0.8888888888888888,
             "#fdca26"
            ],
            [
             1,
             "#f0f921"
            ]
           ],
           "sequentialminus": [
            [
             0,
             "#0d0887"
            ],
            [
             0.1111111111111111,
             "#46039f"
            ],
            [
             0.2222222222222222,
             "#7201a8"
            ],
            [
             0.3333333333333333,
             "#9c179e"
            ],
            [
             0.4444444444444444,
             "#bd3786"
            ],
            [
             0.5555555555555556,
             "#d8576b"
            ],
            [
             0.6666666666666666,
             "#ed7953"
            ],
            [
             0.7777777777777778,
             "#fb9f3a"
            ],
            [
             0.8888888888888888,
             "#fdca26"
            ],
            [
             1,
             "#f0f921"
            ]
           ]
          },
          "colorway": [
           "#636efa",
           "#EF553B",
           "#00cc96",
           "#ab63fa",
           "#FFA15A",
           "#19d3f3",
           "#FF6692",
           "#B6E880",
           "#FF97FF",
           "#FECB52"
          ],
          "font": {
           "color": "#2a3f5f"
          },
          "geo": {
           "bgcolor": "white",
           "lakecolor": "white",
           "landcolor": "#E5ECF6",
           "showlakes": true,
           "showland": true,
           "subunitcolor": "white"
          },
          "hoverlabel": {
           "align": "left"
          },
          "hovermode": "closest",
          "mapbox": {
           "style": "light"
          },
          "paper_bgcolor": "white",
          "plot_bgcolor": "#E5ECF6",
          "polar": {
           "angularaxis": {
            "gridcolor": "white",
            "linecolor": "white",
            "ticks": ""
           },
           "bgcolor": "#E5ECF6",
           "radialaxis": {
            "gridcolor": "white",
            "linecolor": "white",
            "ticks": ""
           }
          },
          "scene": {
           "xaxis": {
            "backgroundcolor": "#E5ECF6",
            "gridcolor": "white",
            "gridwidth": 2,
            "linecolor": "white",
            "showbackground": true,
            "ticks": "",
            "zerolinecolor": "white"
           },
           "yaxis": {
            "backgroundcolor": "#E5ECF6",
            "gridcolor": "white",
            "gridwidth": 2,
            "linecolor": "white",
            "showbackground": true,
            "ticks": "",
            "zerolinecolor": "white"
           },
           "zaxis": {
            "backgroundcolor": "#E5ECF6",
            "gridcolor": "white",
            "gridwidth": 2,
            "linecolor": "white",
            "showbackground": true,
            "ticks": "",
            "zerolinecolor": "white"
           }
          },
          "shapedefaults": {
           "line": {
            "color": "#2a3f5f"
           }
          },
          "ternary": {
           "aaxis": {
            "gridcolor": "white",
            "linecolor": "white",
            "ticks": ""
           },
           "baxis": {
            "gridcolor": "white",
            "linecolor": "white",
            "ticks": ""
           },
           "bgcolor": "#E5ECF6",
           "caxis": {
            "gridcolor": "white",
            "linecolor": "white",
            "ticks": ""
           }
          },
          "title": {
           "x": 0.05
          },
          "xaxis": {
           "automargin": true,
           "gridcolor": "white",
           "linecolor": "white",
           "ticks": "",
           "title": {
            "standoff": 15
           },
           "zerolinecolor": "white",
           "zerolinewidth": 2
          },
          "yaxis": {
           "automargin": true,
           "gridcolor": "white",
           "linecolor": "white",
           "ticks": "",
           "title": {
            "standoff": 15
           },
           "zerolinecolor": "white",
           "zerolinewidth": 2
          }
         }
        },
        "title": {
         "font": {
          "color": "#000000",
          "size": 20
         },
         "text": "Periódicos por Qualis2013,2014,2015,2016",
         "x": 0.5,
         "xanchor": "center"
        },
        "xaxis": {
         "title": {
          "text": "Instituição"
         }
        }
       }
      },
      "text/html": [
       "<div>\n",
       "        \n",
       "        \n",
       "            <div id=\"20b92f31-575c-43de-9dde-a5c668a9e0ef\" class=\"plotly-graph-div\" style=\"height:525px; width:100%;\"></div>\n",
       "            <script type=\"text/javascript\">\n",
       "                require([\"plotly\"], function(Plotly) {\n",
       "                    window.PLOTLYENV=window.PLOTLYENV || {};\n",
       "                    \n",
       "                if (document.getElementById(\"20b92f31-575c-43de-9dde-a5c668a9e0ef\")) {\n",
       "                    Plotly.newPlot(\n",
       "                        '20b92f31-575c-43de-9dde-a5c668a9e0ef',\n",
       "                        [{\"marker\": {\"color\": \"#000044\"}, \"name\": \"A1 (1)\", \"type\": \"bar\", \"x\": [\"UFPE-E-3\", \"UNIFOR-CDC-3\", \"UFRN-D-4\", \"UNIVILLE-D-4\", \"UFRJ-PeP-4\", \"IMED-AEU-3\", \"UFG-PEC-3\", \"UFRN-APEMA-4\", \" FIAMFAAM-PPeGdEU-3\", \"UFV-AEU-4\", \"UFU-AeU-3\", \"UFCG-D-3\", \"UNIFATEA-DTEI-3\", \"UFC-AEUED-3\", \"UFJF-AC-4\", \"UEL-AeU-4\", \"UFAL-DDEH-3\", \"UNESP-BAURU-AeU-4\", \"UNB-D-3\", \"UFPE-D-4\", \"PUC-RIO-A-3\", \"UNISINOS-AeU-4\", \"UFSC-UHEADC-4\", \"UFPA-AeU-4\", \"UFES-AEU-4\", \"UFRJ-AP-4\", \"UFMA-D-3\", \"UFF-AEU-4\", \"UFPB-JP-AEU-4\", \"UERJ-D-4\", \"UNISINOS-D-5\", \"UFRGS-A-4\", \"PUCCAMP-AeU-5\", \"UFRN-AEU-4\", \"UDESC-D-4\", \"UNIRITTER-AeU-4\", \"UEMG-D-5\", \"UFPR-D-4\", \"UNIRITTER-D-4\", \"UFBA-C-CeR-4\", \"UNICAMP-ATeC-5\", \"UFPEL-AEU-4\", \"UAM-D-5\", \"UNB-AEU-4\", \"USJT-AEU-4\", \"PUC-RIO-D-5\", \"UFRJ-A-6\", \"UFRGS-D-5\", \"UFSC-AEU-5\", \"UFSC-D-5\", \"UFMG-AEU-6\", \"UNESP-BAURU-D-6\", \"UFRJ-U-5\", \"USP/SC-AEU-4\", \"UFBA-AEU-4\", \"UPM-AEU-6\", \"USP-AEU-4\"], \"y\": [0, 0, 0, 0, 0, 1, 0, 0, 0, 1, 0, 4, 0, 0, 0, 0, 1, 0, 0, 0, 2, 2, 1, 1, 2, 4, 2, 3, 2, 0, 1, 0, 0, 1, 1, 0, 7, 0, 2, 0, 2, 0, 0, 4, 0, 2, 3, 9, 20, 0, 2, 1, 5, 4, 3, 0, 7]}, {\"marker\": {\"color\": \"#000088\"}, \"name\": \"A2 (0.875)\", \"type\": \"bar\", \"x\": [\"UFPE-E-3\", \"UNIFOR-CDC-3\", \"UFRN-D-4\", \"UNIVILLE-D-4\", \"UFRJ-PeP-4\", \"IMED-AEU-3\", \"UFG-PEC-3\", \"UFRN-APEMA-4\", \" FIAMFAAM-PPeGdEU-3\", \"UFV-AEU-4\", \"UFU-AeU-3\", \"UFCG-D-3\", \"UNIFATEA-DTEI-3\", \"UFC-AEUED-3\", \"UFJF-AC-4\", \"UEL-AeU-4\", \"UFAL-DDEH-3\", \"UNESP-BAURU-AeU-4\", \"UNB-D-3\", \"UFPE-D-4\", \"PUC-RIO-A-3\", \"UNISINOS-AeU-4\", \"UFSC-UHEADC-4\", \"UFPA-AeU-4\", \"UFES-AEU-4\", \"UFRJ-AP-4\", \"UFMA-D-3\", \"UFF-AEU-4\", \"UFPB-JP-AEU-4\", \"UERJ-D-4\", \"UNISINOS-D-5\", \"UFRGS-A-4\", \"PUCCAMP-AeU-5\", \"UFRN-AEU-4\", \"UDESC-D-4\", \"UNIRITTER-AeU-4\", \"UEMG-D-5\", \"UFPR-D-4\", \"UNIRITTER-D-4\", \"UFBA-C-CeR-4\", \"UNICAMP-ATeC-5\", \"UFPEL-AEU-4\", \"UAM-D-5\", \"UNB-AEU-4\", \"USJT-AEU-4\", \"PUC-RIO-D-5\", \"UFRJ-A-6\", \"UFRGS-D-5\", \"UFSC-AEU-5\", \"UFSC-D-5\", \"UFMG-AEU-6\", \"UNESP-BAURU-D-6\", \"UFRJ-U-5\", \"USP/SC-AEU-4\", \"UFBA-AEU-4\", \"UPM-AEU-6\", \"USP-AEU-4\"], \"y\": [0, 0, 0, 0, 0, 0, 0, 0, 0, 0, 0, 1, 0, 0, 0, 3, 0, 0, 0, 0, 4, 1, 0, 0, 3, 2, 2, 0, 2, 0, 2, 0, 0, 0, 1, 0, 1, 0, 0, 0, 0, 0, 1, 1, 0, 6, 0, 3, 1, 0, 0, 3, 2, 2, 0, 0, 6]}, {\"marker\": {\"color\": \"#0000CC\"}, \"name\": \"A3 (0.75)\", \"type\": \"bar\", \"x\": [\"UFPE-E-3\", \"UNIFOR-CDC-3\", \"UFRN-D-4\", \"UNIVILLE-D-4\", \"UFRJ-PeP-4\", \"IMED-AEU-3\", \"UFG-PEC-3\", \"UFRN-APEMA-4\", \" FIAMFAAM-PPeGdEU-3\", \"UFV-AEU-4\", \"UFU-AeU-3\", \"UFCG-D-3\", \"UNIFATEA-DTEI-3\", \"UFC-AEUED-3\", \"UFJF-AC-4\", \"UEL-AeU-4\", \"UFAL-DDEH-3\", \"UNESP-BAURU-AeU-4\", \"UNB-D-3\", \"UFPE-D-4\", \"PUC-RIO-A-3\", \"UNISINOS-AeU-4\", \"UFSC-UHEADC-4\", \"UFPA-AeU-4\", \"UFES-AEU-4\", \"UFRJ-AP-4\", \"UFMA-D-3\", \"UFF-AEU-4\", \"UFPB-JP-AEU-4\", \"UERJ-D-4\", \"UNISINOS-D-5\", \"UFRGS-A-4\", \"PUCCAMP-AeU-5\", \"UFRN-AEU-4\", \"UDESC-D-4\", \"UNIRITTER-AeU-4\", \"UEMG-D-5\", \"UFPR-D-4\", \"UNIRITTER-D-4\", \"UFBA-C-CeR-4\", \"UNICAMP-ATeC-5\", \"UFPEL-AEU-4\", \"UAM-D-5\", \"UNB-AEU-4\", \"USJT-AEU-4\", \"PUC-RIO-D-5\", \"UFRJ-A-6\", \"UFRGS-D-5\", \"UFSC-AEU-5\", \"UFSC-D-5\", \"UFMG-AEU-6\", \"UNESP-BAURU-D-6\", \"UFRJ-U-5\", \"USP/SC-AEU-4\", \"UFBA-AEU-4\", \"UPM-AEU-6\", \"USP-AEU-4\"], \"y\": [0, 0, 0, 0, 0, 3, 0, 0, 0, 0, 0, 2, 2, 1, 1, 1, 0, 0, 0, 0, 0, 1, 0, 2, 0, 0, 1, 2, 1, 0, 2, 2, 3, 1, 1, 0, 7, 0, 2, 0, 3, 0, 0, 3, 2, 2, 0, 6, 3, 5, 5, 4, 0, 7, 0, 1, 7]}, {\"marker\": {\"color\": \"#0000FF\"}, \"name\": \"A4 (0.625)\", \"type\": \"bar\", \"x\": [\"UFPE-E-3\", \"UNIFOR-CDC-3\", \"UFRN-D-4\", \"UNIVILLE-D-4\", \"UFRJ-PeP-4\", \"IMED-AEU-3\", \"UFG-PEC-3\", \"UFRN-APEMA-4\", \" FIAMFAAM-PPeGdEU-3\", \"UFV-AEU-4\", \"UFU-AeU-3\", \"UFCG-D-3\", \"UNIFATEA-DTEI-3\", \"UFC-AEUED-3\", \"UFJF-AC-4\", \"UEL-AeU-4\", \"UFAL-DDEH-3\", \"UNESP-BAURU-AeU-4\", \"UNB-D-3\", \"UFPE-D-4\", \"PUC-RIO-A-3\", \"UNISINOS-AeU-4\", \"UFSC-UHEADC-4\", \"UFPA-AeU-4\", \"UFES-AEU-4\", \"UFRJ-AP-4\", \"UFMA-D-3\", \"UFF-AEU-4\", \"UFPB-JP-AEU-4\", \"UERJ-D-4\", \"UNISINOS-D-5\", \"UFRGS-A-4\", \"PUCCAMP-AeU-5\", \"UFRN-AEU-4\", \"UDESC-D-4\", \"UNIRITTER-AeU-4\", \"UEMG-D-5\", \"UFPR-D-4\", \"UNIRITTER-D-4\", \"UFBA-C-CeR-4\", \"UNICAMP-ATeC-5\", \"UFPEL-AEU-4\", \"UAM-D-5\", \"UNB-AEU-4\", \"USJT-AEU-4\", \"PUC-RIO-D-5\", \"UFRJ-A-6\", \"UFRGS-D-5\", \"UFSC-AEU-5\", \"UFSC-D-5\", \"UFMG-AEU-6\", \"UNESP-BAURU-D-6\", \"UFRJ-U-5\", \"USP/SC-AEU-4\", \"UFBA-AEU-4\", \"UPM-AEU-6\", \"USP-AEU-4\"], \"y\": [1, 0, 0, 0, 0, 1, 0, 2, 3, 0, 0, 0, 0, 2, 2, 3, 1, 2, 0, 10, 0, 1, 1, 2, 3, 1, 10, 7, 2, 1, 1, 0, 2, 4, 1, 1, 6, 3, 1, 0, 5, 5, 11, 3, 1, 20, 8, 2, 6, 3, 6, 14, 5, 12, 8, 2, 23]}, {\"marker\": {\"color\": \"#003300\"}, \"name\": \"B1 (0.5)\", \"type\": \"bar\", \"x\": [\"UFPE-E-3\", \"UNIFOR-CDC-3\", \"UFRN-D-4\", \"UNIVILLE-D-4\", \"UFRJ-PeP-4\", \"IMED-AEU-3\", \"UFG-PEC-3\", \"UFRN-APEMA-4\", \" FIAMFAAM-PPeGdEU-3\", \"UFV-AEU-4\", \"UFU-AeU-3\", \"UFCG-D-3\", \"UNIFATEA-DTEI-3\", \"UFC-AEUED-3\", \"UFJF-AC-4\", \"UEL-AeU-4\", \"UFAL-DDEH-3\", \"UNESP-BAURU-AeU-4\", \"UNB-D-3\", \"UFPE-D-4\", \"PUC-RIO-A-3\", \"UNISINOS-AeU-4\", \"UFSC-UHEADC-4\", \"UFPA-AeU-4\", \"UFES-AEU-4\", \"UFRJ-AP-4\", \"UFMA-D-3\", \"UFF-AEU-4\", \"UFPB-JP-AEU-4\", \"UERJ-D-4\", \"UNISINOS-D-5\", \"UFRGS-A-4\", \"PUCCAMP-AeU-5\", \"UFRN-AEU-4\", \"UDESC-D-4\", \"UNIRITTER-AeU-4\", \"UEMG-D-5\", \"UFPR-D-4\", \"UNIRITTER-D-4\", \"UFBA-C-CeR-4\", \"UNICAMP-ATeC-5\", \"UFPEL-AEU-4\", \"UAM-D-5\", \"UNB-AEU-4\", \"USJT-AEU-4\", \"PUC-RIO-D-5\", \"UFRJ-A-6\", \"UFRGS-D-5\", \"UFSC-AEU-5\", \"UFSC-D-5\", \"UFMG-AEU-6\", \"UNESP-BAURU-D-6\", \"UFRJ-U-5\", \"USP/SC-AEU-4\", \"UFBA-AEU-4\", \"UPM-AEU-6\", \"USP-AEU-4\"], \"y\": [0, 0, 0, 0, 0, 1, 1, 2, 1, 2, 0, 1, 1, 0, 0, 2, 2, 0, 1, 2, 1, 0, 2, 3, 0, 0, 2, 0, 2, 0, 4, 0, 2, 3, 4, 3, 0, 0, 3, 0, 2, 0, 0, 1, 1, 2, 2, 1, 3, 2, 7, 5, 3, 4, 0, 2, 6]}, {\"marker\": {\"color\": \"#006600\"}, \"name\": \"B2 (0.2)\", \"type\": \"bar\", \"x\": [\"UFPE-E-3\", \"UNIFOR-CDC-3\", \"UFRN-D-4\", \"UNIVILLE-D-4\", \"UFRJ-PeP-4\", \"IMED-AEU-3\", \"UFG-PEC-3\", \"UFRN-APEMA-4\", \" FIAMFAAM-PPeGdEU-3\", \"UFV-AEU-4\", \"UFU-AeU-3\", \"UFCG-D-3\", \"UNIFATEA-DTEI-3\", \"UFC-AEUED-3\", \"UFJF-AC-4\", \"UEL-AeU-4\", \"UFAL-DDEH-3\", \"UNESP-BAURU-AeU-4\", \"UNB-D-3\", \"UFPE-D-4\", \"PUC-RIO-A-3\", \"UNISINOS-AeU-4\", \"UFSC-UHEADC-4\", \"UFPA-AeU-4\", \"UFES-AEU-4\", \"UFRJ-AP-4\", \"UFMA-D-3\", \"UFF-AEU-4\", \"UFPB-JP-AEU-4\", \"UERJ-D-4\", \"UNISINOS-D-5\", \"UFRGS-A-4\", \"PUCCAMP-AeU-5\", \"UFRN-AEU-4\", \"UDESC-D-4\", \"UNIRITTER-AeU-4\", \"UEMG-D-5\", \"UFPR-D-4\", \"UNIRITTER-D-4\", \"UFBA-C-CeR-4\", \"UNICAMP-ATeC-5\", \"UFPEL-AEU-4\", \"UAM-D-5\", \"UNB-AEU-4\", \"USJT-AEU-4\", \"PUC-RIO-D-5\", \"UFRJ-A-6\", \"UFRGS-D-5\", \"UFSC-AEU-5\", \"UFSC-D-5\", \"UFMG-AEU-6\", \"UNESP-BAURU-D-6\", \"UFRJ-U-5\", \"USP/SC-AEU-4\", \"UFBA-AEU-4\", \"UPM-AEU-6\", \"USP-AEU-4\"], \"y\": [0, 1, 0, 1, 1, 1, 1, 1, 0, 5, 1, 0, 1, 5, 2, 3, 0, 13, 0, 0, 1, 7, 7, 8, 1, 2, 1, 0, 5, 2, 8, 3, 4, 4, 6, 8, 4, 4, 6, 0, 7, 1, 6, 2, 0, 5, 2, 5, 7, 3, 3, 2, 7, 12, 2, 19, 7]}, {\"marker\": {\"color\": \"#009900\"}, \"name\": \"B3 (0.1)\", \"type\": \"bar\", \"x\": [\"UFPE-E-3\", \"UNIFOR-CDC-3\", \"UFRN-D-4\", \"UNIVILLE-D-4\", \"UFRJ-PeP-4\", \"IMED-AEU-3\", \"UFG-PEC-3\", \"UFRN-APEMA-4\", \" FIAMFAAM-PPeGdEU-3\", \"UFV-AEU-4\", \"UFU-AeU-3\", \"UFCG-D-3\", \"UNIFATEA-DTEI-3\", \"UFC-AEUED-3\", \"UFJF-AC-4\", \"UEL-AeU-4\", \"UFAL-DDEH-3\", \"UNESP-BAURU-AeU-4\", \"UNB-D-3\", \"UFPE-D-4\", \"PUC-RIO-A-3\", \"UNISINOS-AeU-4\", \"UFSC-UHEADC-4\", \"UFPA-AeU-4\", \"UFES-AEU-4\", \"UFRJ-AP-4\", \"UFMA-D-3\", \"UFF-AEU-4\", \"UFPB-JP-AEU-4\", \"UERJ-D-4\", \"UNISINOS-D-5\", \"UFRGS-A-4\", \"PUCCAMP-AeU-5\", \"UFRN-AEU-4\", \"UDESC-D-4\", \"UNIRITTER-AeU-4\", \"UEMG-D-5\", \"UFPR-D-4\", \"UNIRITTER-D-4\", \"UFBA-C-CeR-4\", \"UNICAMP-ATeC-5\", \"UFPEL-AEU-4\", \"UAM-D-5\", \"UNB-AEU-4\", \"USJT-AEU-4\", \"PUC-RIO-D-5\", \"UFRJ-A-6\", \"UFRGS-D-5\", \"UFSC-AEU-5\", \"UFSC-D-5\", \"UFMG-AEU-6\", \"UNESP-BAURU-D-6\", \"UFRJ-U-5\", \"USP/SC-AEU-4\", \"UFBA-AEU-4\", \"UPM-AEU-6\", \"USP-AEU-4\"], \"y\": [0, 0, 0, 0, 2, 1, 3, 3, 1, 0, 1, 2, 3, 3, 2, 0, 2, 4, 1, 4, 3, 8, 2, 3, 3, 0, 3, 2, 7, 3, 4, 1, 3, 6, 9, 4, 4, 6, 5, 1, 1, 15, 9, 7, 5, 3, 4, 13, 7, 9, 6, 19, 13, 10, 10, 8, 29]}, {\"marker\": {\"color\": \"#00CC00\"}, \"name\": \"B4 (0.05)\", \"type\": \"bar\", \"x\": [\"UFPE-E-3\", \"UNIFOR-CDC-3\", \"UFRN-D-4\", \"UNIVILLE-D-4\", \"UFRJ-PeP-4\", \"IMED-AEU-3\", \"UFG-PEC-3\", \"UFRN-APEMA-4\", \" FIAMFAAM-PPeGdEU-3\", \"UFV-AEU-4\", \"UFU-AeU-3\", \"UFCG-D-3\", \"UNIFATEA-DTEI-3\", \"UFC-AEUED-3\", \"UFJF-AC-4\", \"UEL-AeU-4\", \"UFAL-DDEH-3\", \"UNESP-BAURU-AeU-4\", \"UNB-D-3\", \"UFPE-D-4\", \"PUC-RIO-A-3\", \"UNISINOS-AeU-4\", \"UFSC-UHEADC-4\", \"UFPA-AeU-4\", \"UFES-AEU-4\", \"UFRJ-AP-4\", \"UFMA-D-3\", \"UFF-AEU-4\", \"UFPB-JP-AEU-4\", \"UERJ-D-4\", \"UNISINOS-D-5\", \"UFRGS-A-4\", \"PUCCAMP-AeU-5\", \"UFRN-AEU-4\", \"UDESC-D-4\", \"UNIRITTER-AeU-4\", \"UEMG-D-5\", \"UFPR-D-4\", \"UNIRITTER-D-4\", \"UFBA-C-CeR-4\", \"UNICAMP-ATeC-5\", \"UFPEL-AEU-4\", \"UAM-D-5\", \"UNB-AEU-4\", \"USJT-AEU-4\", \"PUC-RIO-D-5\", \"UFRJ-A-6\", \"UFRGS-D-5\", \"UFSC-AEU-5\", \"UFSC-D-5\", \"UFMG-AEU-6\", \"UNESP-BAURU-D-6\", \"UFRJ-U-5\", \"USP/SC-AEU-4\", \"UFBA-AEU-4\", \"UPM-AEU-6\", \"USP-AEU-4\"], \"y\": [0, 0, 0, 1, 0, 1, 0, 0, 0, 0, 1, 1, 1, 1, 0, 1, 0, 0, 0, 4, 0, 1, 3, 1, 3, 0, 3, 1, 2, 10, 4, 2, 1, 1, 13, 0, 4, 6, 1, 2, 2, 3, 3, 0, 1, 4, 4, 5, 10, 11, 0, 6, 2, 1, 2, 9, 9]}, {\"marker\": {\"color\": \"#00FF00\"}, \"name\": \"B5 (0)\", \"type\": \"bar\", \"x\": [\"UFPE-E-3\", \"UNIFOR-CDC-3\", \"UFRN-D-4\", \"UNIVILLE-D-4\", \"UFRJ-PeP-4\", \"IMED-AEU-3\", \"UFG-PEC-3\", \"UFRN-APEMA-4\", \" FIAMFAAM-PPeGdEU-3\", \"UFV-AEU-4\", \"UFU-AeU-3\", \"UFCG-D-3\", \"UNIFATEA-DTEI-3\", \"UFC-AEUED-3\", \"UFJF-AC-4\", \"UEL-AeU-4\", \"UFAL-DDEH-3\", \"UNESP-BAURU-AeU-4\", \"UNB-D-3\", \"UFPE-D-4\", \"PUC-RIO-A-3\", \"UNISINOS-AeU-4\", \"UFSC-UHEADC-4\", \"UFPA-AeU-4\", \"UFES-AEU-4\", \"UFRJ-AP-4\", \"UFMA-D-3\", \"UFF-AEU-4\", \"UFPB-JP-AEU-4\", \"UERJ-D-4\", \"UNISINOS-D-5\", \"UFRGS-A-4\", \"PUCCAMP-AeU-5\", \"UFRN-AEU-4\", \"UDESC-D-4\", \"UNIRITTER-AeU-4\", \"UEMG-D-5\", \"UFPR-D-4\", \"UNIRITTER-D-4\", \"UFBA-C-CeR-4\", \"UNICAMP-ATeC-5\", \"UFPEL-AEU-4\", \"UAM-D-5\", \"UNB-AEU-4\", \"USJT-AEU-4\", \"PUC-RIO-D-5\", \"UFRJ-A-6\", \"UFRGS-D-5\", \"UFSC-AEU-5\", \"UFSC-D-5\", \"UFMG-AEU-6\", \"UNESP-BAURU-D-6\", \"UFRJ-U-5\", \"USP/SC-AEU-4\", \"UFBA-AEU-4\", \"UPM-AEU-6\", \"USP-AEU-4\"], \"y\": [0, 0, 0, 0, 0, 0, 0, 0, 0, 0, 0, 0, 0, 0, 0, 0, 0, 0, 0, 0, 0, 0, 0, 0, 0, 0, 0, 0, 0, 0, 0, 0, 0, 0, 0, 0, 0, 0, 0, 0, 0, 0, 0, 0, 0, 0, 0, 0, 0, 0, 0, 0, 0, 0, 0, 0, 0]}, {\"marker\": {\"color\": \"#880000\"}, \"name\": \"C (0)\", \"type\": \"bar\", \"x\": [\"UFPE-E-3\", \"UNIFOR-CDC-3\", \"UFRN-D-4\", \"UNIVILLE-D-4\", \"UFRJ-PeP-4\", \"IMED-AEU-3\", \"UFG-PEC-3\", \"UFRN-APEMA-4\", \" FIAMFAAM-PPeGdEU-3\", \"UFV-AEU-4\", \"UFU-AeU-3\", \"UFCG-D-3\", \"UNIFATEA-DTEI-3\", \"UFC-AEUED-3\", \"UFJF-AC-4\", \"UEL-AeU-4\", \"UFAL-DDEH-3\", \"UNESP-BAURU-AeU-4\", \"UNB-D-3\", \"UFPE-D-4\", \"PUC-RIO-A-3\", \"UNISINOS-AeU-4\", \"UFSC-UHEADC-4\", \"UFPA-AeU-4\", \"UFES-AEU-4\", \"UFRJ-AP-4\", \"UFMA-D-3\", \"UFF-AEU-4\", \"UFPB-JP-AEU-4\", \"UERJ-D-4\", \"UNISINOS-D-5\", \"UFRGS-A-4\", \"PUCCAMP-AeU-5\", \"UFRN-AEU-4\", \"UDESC-D-4\", \"UNIRITTER-AeU-4\", \"UEMG-D-5\", \"UFPR-D-4\", \"UNIRITTER-D-4\", \"UFBA-C-CeR-4\", \"UNICAMP-ATeC-5\", \"UFPEL-AEU-4\", \"UAM-D-5\", \"UNB-AEU-4\", \"USJT-AEU-4\", \"PUC-RIO-D-5\", \"UFRJ-A-6\", \"UFRGS-D-5\", \"UFSC-AEU-5\", \"UFSC-D-5\", \"UFMG-AEU-6\", \"UNESP-BAURU-D-6\", \"UFRJ-U-5\", \"USP/SC-AEU-4\", \"UFBA-AEU-4\", \"UPM-AEU-6\", \"USP-AEU-4\"], \"y\": [0, 1, 1, 5, 10, 6, 10, 10, 13, 13, 19, 9, 15, 15, 14, 19, 24, 20, 37, 15, 26, 16, 24, 25, 36, 44, 18, 37, 39, 39, 19, 42, 45, 33, 29, 46, 31, 40, 39, 52, 48, 70, 55, 45, 102, 46, 57, 46, 51, 49, 75, 75, 93, 69, 76, 198, 185]}, {\"marker\": {\"color\": \"#CC0000\"}, \"name\": \"NA (0)\", \"type\": \"bar\", \"x\": [\"UFPE-E-3\", \"UNIFOR-CDC-3\", \"UFRN-D-4\", \"UNIVILLE-D-4\", \"UFRJ-PeP-4\", \"IMED-AEU-3\", \"UFG-PEC-3\", \"UFRN-APEMA-4\", \" FIAMFAAM-PPeGdEU-3\", \"UFV-AEU-4\", \"UFU-AeU-3\", \"UFCG-D-3\", \"UNIFATEA-DTEI-3\", \"UFC-AEUED-3\", \"UFJF-AC-4\", \"UEL-AeU-4\", \"UFAL-DDEH-3\", \"UNESP-BAURU-AeU-4\", \"UNB-D-3\", \"UFPE-D-4\", \"PUC-RIO-A-3\", \"UNISINOS-AeU-4\", \"UFSC-UHEADC-4\", \"UFPA-AeU-4\", \"UFES-AEU-4\", \"UFRJ-AP-4\", \"UFMA-D-3\", \"UFF-AEU-4\", \"UFPB-JP-AEU-4\", \"UERJ-D-4\", \"UNISINOS-D-5\", \"UFRGS-A-4\", \"PUCCAMP-AeU-5\", \"UFRN-AEU-4\", \"UDESC-D-4\", \"UNIRITTER-AeU-4\", \"UEMG-D-5\", \"UFPR-D-4\", \"UNIRITTER-D-4\", \"UFBA-C-CeR-4\", \"UNICAMP-ATeC-5\", \"UFPEL-AEU-4\", \"UAM-D-5\", \"UNB-AEU-4\", \"USJT-AEU-4\", \"PUC-RIO-D-5\", \"UFRJ-A-6\", \"UFRGS-D-5\", \"UFSC-AEU-5\", \"UFSC-D-5\", \"UFMG-AEU-6\", \"UNESP-BAURU-D-6\", \"UFRJ-U-5\", \"USP/SC-AEU-4\", \"UFBA-AEU-4\", \"UPM-AEU-6\", \"USP-AEU-4\"], \"y\": [1, 0, 3, 4, 6, 4, 7, 5, 5, 5, 5, 9, 6, 3, 11, 4, 10, 3, 8, 15, 14, 16, 16, 18, 13, 11, 22, 13, 5, 16, 28, 26, 16, 24, 16, 22, 24, 29, 29, 35, 36, 18, 27, 47, 12, 39, 52, 48, 36, 62, 55, 31, 33, 48, 69, 56, 188]}, {\"marker\": {\"color\": \"#FF0000\"}, \"name\": \"NP (0)\", \"type\": \"bar\", \"x\": [\"UFPE-E-3\", \"UNIFOR-CDC-3\", \"UFRN-D-4\", \"UNIVILLE-D-4\", \"UFRJ-PeP-4\", \"IMED-AEU-3\", \"UFG-PEC-3\", \"UFRN-APEMA-4\", \" FIAMFAAM-PPeGdEU-3\", \"UFV-AEU-4\", \"UFU-AeU-3\", \"UFCG-D-3\", \"UNIFATEA-DTEI-3\", \"UFC-AEUED-3\", \"UFJF-AC-4\", \"UEL-AeU-4\", \"UFAL-DDEH-3\", \"UNESP-BAURU-AeU-4\", \"UNB-D-3\", \"UFPE-D-4\", \"PUC-RIO-A-3\", \"UNISINOS-AeU-4\", \"UFSC-UHEADC-4\", \"UFPA-AeU-4\", \"UFES-AEU-4\", \"UFRJ-AP-4\", \"UFMA-D-3\", \"UFF-AEU-4\", \"UFPB-JP-AEU-4\", \"UERJ-D-4\", \"UNISINOS-D-5\", \"UFRGS-A-4\", \"PUCCAMP-AeU-5\", \"UFRN-AEU-4\", \"UDESC-D-4\", \"UNIRITTER-AeU-4\", \"UEMG-D-5\", \"UFPR-D-4\", \"UNIRITTER-D-4\", \"UFBA-C-CeR-4\", \"UNICAMP-ATeC-5\", \"UFPEL-AEU-4\", \"UAM-D-5\", \"UNB-AEU-4\", \"USJT-AEU-4\", \"PUC-RIO-D-5\", \"UFRJ-A-6\", \"UFRGS-D-5\", \"UFSC-AEU-5\", \"UFSC-D-5\", \"UFMG-AEU-6\", \"UNESP-BAURU-D-6\", \"UFRJ-U-5\", \"USP/SC-AEU-4\", \"UFBA-AEU-4\", \"UPM-AEU-6\", \"USP-AEU-4\"], \"y\": [0, 0, 0, 0, 0, 0, 0, 0, 0, 0, 0, 0, 0, 0, 0, 0, 0, 0, 0, 0, 0, 0, 0, 0, 0, 0, 0, 0, 0, 0, 0, 0, 0, 0, 0, 0, 0, 0, 0, 0, 0, 0, 0, 0, 0, 0, 0, 0, 0, 0, 0, 0, 0, 0, 0, 0, 0]}],\n",
       "                        {\"barmode\": \"stack\", \"template\": {\"data\": {\"bar\": [{\"error_x\": {\"color\": \"#2a3f5f\"}, \"error_y\": {\"color\": \"#2a3f5f\"}, \"marker\": {\"line\": {\"color\": \"#E5ECF6\", \"width\": 0.5}}, \"type\": \"bar\"}], \"barpolar\": [{\"marker\": {\"line\": {\"color\": \"#E5ECF6\", \"width\": 0.5}}, \"type\": \"barpolar\"}], \"carpet\": [{\"aaxis\": {\"endlinecolor\": \"#2a3f5f\", \"gridcolor\": \"white\", \"linecolor\": \"white\", \"minorgridcolor\": \"white\", \"startlinecolor\": \"#2a3f5f\"}, \"baxis\": {\"endlinecolor\": \"#2a3f5f\", \"gridcolor\": \"white\", \"linecolor\": \"white\", \"minorgridcolor\": \"white\", \"startlinecolor\": \"#2a3f5f\"}, \"type\": \"carpet\"}], \"choropleth\": [{\"colorbar\": {\"outlinewidth\": 0, \"ticks\": \"\"}, \"type\": \"choropleth\"}], \"contour\": [{\"colorbar\": {\"outlinewidth\": 0, \"ticks\": \"\"}, \"colorscale\": [[0.0, \"#0d0887\"], [0.1111111111111111, \"#46039f\"], [0.2222222222222222, \"#7201a8\"], [0.3333333333333333, \"#9c179e\"], [0.4444444444444444, \"#bd3786\"], [0.5555555555555556, \"#d8576b\"], [0.6666666666666666, \"#ed7953\"], [0.7777777777777778, \"#fb9f3a\"], [0.8888888888888888, \"#fdca26\"], [1.0, \"#f0f921\"]], \"type\": \"contour\"}], \"contourcarpet\": [{\"colorbar\": {\"outlinewidth\": 0, \"ticks\": \"\"}, \"type\": \"contourcarpet\"}], \"heatmap\": [{\"colorbar\": {\"outlinewidth\": 0, \"ticks\": \"\"}, \"colorscale\": [[0.0, \"#0d0887\"], [0.1111111111111111, \"#46039f\"], [0.2222222222222222, \"#7201a8\"], [0.3333333333333333, \"#9c179e\"], [0.4444444444444444, \"#bd3786\"], [0.5555555555555556, \"#d8576b\"], [0.6666666666666666, \"#ed7953\"], [0.7777777777777778, \"#fb9f3a\"], [0.8888888888888888, \"#fdca26\"], [1.0, \"#f0f921\"]], \"type\": \"heatmap\"}], \"heatmapgl\": [{\"colorbar\": {\"outlinewidth\": 0, \"ticks\": \"\"}, \"colorscale\": [[0.0, \"#0d0887\"], [0.1111111111111111, \"#46039f\"], [0.2222222222222222, \"#7201a8\"], [0.3333333333333333, \"#9c179e\"], [0.4444444444444444, \"#bd3786\"], [0.5555555555555556, \"#d8576b\"], [0.6666666666666666, \"#ed7953\"], [0.7777777777777778, \"#fb9f3a\"], [0.8888888888888888, \"#fdca26\"], [1.0, \"#f0f921\"]], \"type\": \"heatmapgl\"}], \"histogram\": [{\"marker\": {\"colorbar\": {\"outlinewidth\": 0, \"ticks\": \"\"}}, \"type\": \"histogram\"}], \"histogram2d\": [{\"colorbar\": {\"outlinewidth\": 0, \"ticks\": \"\"}, \"colorscale\": [[0.0, \"#0d0887\"], [0.1111111111111111, \"#46039f\"], [0.2222222222222222, \"#7201a8\"], [0.3333333333333333, \"#9c179e\"], [0.4444444444444444, \"#bd3786\"], [0.5555555555555556, \"#d8576b\"], [0.6666666666666666, \"#ed7953\"], [0.7777777777777778, \"#fb9f3a\"], [0.8888888888888888, \"#fdca26\"], [1.0, \"#f0f921\"]], \"type\": \"histogram2d\"}], \"histogram2dcontour\": [{\"colorbar\": {\"outlinewidth\": 0, \"ticks\": \"\"}, \"colorscale\": [[0.0, \"#0d0887\"], [0.1111111111111111, \"#46039f\"], [0.2222222222222222, \"#7201a8\"], [0.3333333333333333, \"#9c179e\"], [0.4444444444444444, \"#bd3786\"], [0.5555555555555556, \"#d8576b\"], [0.6666666666666666, \"#ed7953\"], [0.7777777777777778, \"#fb9f3a\"], [0.8888888888888888, \"#fdca26\"], [1.0, \"#f0f921\"]], \"type\": \"histogram2dcontour\"}], \"mesh3d\": [{\"colorbar\": {\"outlinewidth\": 0, \"ticks\": \"\"}, \"type\": \"mesh3d\"}], \"parcoords\": [{\"line\": {\"colorbar\": {\"outlinewidth\": 0, \"ticks\": \"\"}}, \"type\": \"parcoords\"}], \"pie\": [{\"automargin\": true, \"type\": \"pie\"}], \"scatter\": [{\"marker\": {\"colorbar\": {\"outlinewidth\": 0, \"ticks\": \"\"}}, \"type\": \"scatter\"}], \"scatter3d\": [{\"line\": {\"colorbar\": {\"outlinewidth\": 0, \"ticks\": \"\"}}, \"marker\": {\"colorbar\": {\"outlinewidth\": 0, \"ticks\": \"\"}}, \"type\": \"scatter3d\"}], \"scattercarpet\": [{\"marker\": {\"colorbar\": {\"outlinewidth\": 0, \"ticks\": \"\"}}, \"type\": \"scattercarpet\"}], \"scattergeo\": [{\"marker\": {\"colorbar\": {\"outlinewidth\": 0, \"ticks\": \"\"}}, \"type\": \"scattergeo\"}], \"scattergl\": [{\"marker\": {\"colorbar\": {\"outlinewidth\": 0, \"ticks\": \"\"}}, \"type\": \"scattergl\"}], \"scattermapbox\": [{\"marker\": {\"colorbar\": {\"outlinewidth\": 0, \"ticks\": \"\"}}, \"type\": \"scattermapbox\"}], \"scatterpolar\": [{\"marker\": {\"colorbar\": {\"outlinewidth\": 0, \"ticks\": \"\"}}, \"type\": \"scatterpolar\"}], \"scatterpolargl\": [{\"marker\": {\"colorbar\": {\"outlinewidth\": 0, \"ticks\": \"\"}}, \"type\": \"scatterpolargl\"}], \"scatterternary\": [{\"marker\": {\"colorbar\": {\"outlinewidth\": 0, \"ticks\": \"\"}}, \"type\": \"scatterternary\"}], \"surface\": [{\"colorbar\": {\"outlinewidth\": 0, \"ticks\": \"\"}, \"colorscale\": [[0.0, \"#0d0887\"], [0.1111111111111111, \"#46039f\"], [0.2222222222222222, \"#7201a8\"], [0.3333333333333333, \"#9c179e\"], [0.4444444444444444, \"#bd3786\"], [0.5555555555555556, \"#d8576b\"], [0.6666666666666666, \"#ed7953\"], [0.7777777777777778, \"#fb9f3a\"], [0.8888888888888888, \"#fdca26\"], [1.0, \"#f0f921\"]], \"type\": \"surface\"}], \"table\": [{\"cells\": {\"fill\": {\"color\": \"#EBF0F8\"}, \"line\": {\"color\": \"white\"}}, \"header\": {\"fill\": {\"color\": \"#C8D4E3\"}, \"line\": {\"color\": \"white\"}}, \"type\": \"table\"}]}, \"layout\": {\"annotationdefaults\": {\"arrowcolor\": \"#2a3f5f\", \"arrowhead\": 0, \"arrowwidth\": 1}, \"coloraxis\": {\"colorbar\": {\"outlinewidth\": 0, \"ticks\": \"\"}}, \"colorscale\": {\"diverging\": [[0, \"#8e0152\"], [0.1, \"#c51b7d\"], [0.2, \"#de77ae\"], [0.3, \"#f1b6da\"], [0.4, \"#fde0ef\"], [0.5, \"#f7f7f7\"], [0.6, \"#e6f5d0\"], [0.7, \"#b8e186\"], [0.8, \"#7fbc41\"], [0.9, \"#4d9221\"], [1, \"#276419\"]], \"sequential\": [[0.0, \"#0d0887\"], [0.1111111111111111, \"#46039f\"], [0.2222222222222222, \"#7201a8\"], [0.3333333333333333, \"#9c179e\"], [0.4444444444444444, \"#bd3786\"], [0.5555555555555556, \"#d8576b\"], [0.6666666666666666, \"#ed7953\"], [0.7777777777777778, \"#fb9f3a\"], [0.8888888888888888, \"#fdca26\"], [1.0, \"#f0f921\"]], \"sequentialminus\": [[0.0, \"#0d0887\"], [0.1111111111111111, \"#46039f\"], [0.2222222222222222, \"#7201a8\"], [0.3333333333333333, \"#9c179e\"], [0.4444444444444444, \"#bd3786\"], [0.5555555555555556, \"#d8576b\"], [0.6666666666666666, \"#ed7953\"], [0.7777777777777778, \"#fb9f3a\"], [0.8888888888888888, \"#fdca26\"], [1.0, \"#f0f921\"]]}, \"colorway\": [\"#636efa\", \"#EF553B\", \"#00cc96\", \"#ab63fa\", \"#FFA15A\", \"#19d3f3\", \"#FF6692\", \"#B6E880\", \"#FF97FF\", \"#FECB52\"], \"font\": {\"color\": \"#2a3f5f\"}, \"geo\": {\"bgcolor\": \"white\", \"lakecolor\": \"white\", \"landcolor\": \"#E5ECF6\", \"showlakes\": true, \"showland\": true, \"subunitcolor\": \"white\"}, \"hoverlabel\": {\"align\": \"left\"}, \"hovermode\": \"closest\", \"mapbox\": {\"style\": \"light\"}, \"paper_bgcolor\": \"white\", \"plot_bgcolor\": \"#E5ECF6\", \"polar\": {\"angularaxis\": {\"gridcolor\": \"white\", \"linecolor\": \"white\", \"ticks\": \"\"}, \"bgcolor\": \"#E5ECF6\", \"radialaxis\": {\"gridcolor\": \"white\", \"linecolor\": \"white\", \"ticks\": \"\"}}, \"scene\": {\"xaxis\": {\"backgroundcolor\": \"#E5ECF6\", \"gridcolor\": \"white\", \"gridwidth\": 2, \"linecolor\": \"white\", \"showbackground\": true, \"ticks\": \"\", \"zerolinecolor\": \"white\"}, \"yaxis\": {\"backgroundcolor\": \"#E5ECF6\", \"gridcolor\": \"white\", \"gridwidth\": 2, \"linecolor\": \"white\", \"showbackground\": true, \"ticks\": \"\", \"zerolinecolor\": \"white\"}, \"zaxis\": {\"backgroundcolor\": \"#E5ECF6\", \"gridcolor\": \"white\", \"gridwidth\": 2, \"linecolor\": \"white\", \"showbackground\": true, \"ticks\": \"\", \"zerolinecolor\": \"white\"}}, \"shapedefaults\": {\"line\": {\"color\": \"#2a3f5f\"}}, \"ternary\": {\"aaxis\": {\"gridcolor\": \"white\", \"linecolor\": \"white\", \"ticks\": \"\"}, \"baxis\": {\"gridcolor\": \"white\", \"linecolor\": \"white\", \"ticks\": \"\"}, \"bgcolor\": \"#E5ECF6\", \"caxis\": {\"gridcolor\": \"white\", \"linecolor\": \"white\", \"ticks\": \"\"}}, \"title\": {\"x\": 0.05}, \"xaxis\": {\"automargin\": true, \"gridcolor\": \"white\", \"linecolor\": \"white\", \"ticks\": \"\", \"title\": {\"standoff\": 15}, \"zerolinecolor\": \"white\", \"zerolinewidth\": 2}, \"yaxis\": {\"automargin\": true, \"gridcolor\": \"white\", \"linecolor\": \"white\", \"ticks\": \"\", \"title\": {\"standoff\": 15}, \"zerolinecolor\": \"white\", \"zerolinewidth\": 2}}}, \"title\": {\"font\": {\"color\": \"#000000\", \"size\": 20}, \"text\": \"Peri\\u00f3dicos por Qualis2013,2014,2015,2016\", \"x\": 0.5, \"xanchor\": \"center\"}, \"xaxis\": {\"title\": {\"text\": \"Institui\\u00e7\\u00e3o\"}}},\n",
       "                        {\"responsive\": true}\n",
       "                    ).then(function(){\n",
       "                            \n",
       "var gd = document.getElementById('20b92f31-575c-43de-9dde-a5c668a9e0ef');\n",
       "var x = new MutationObserver(function (mutations, observer) {{\n",
       "        var display = window.getComputedStyle(gd).display;\n",
       "        if (!display || display === 'none') {{\n",
       "            console.log([gd, 'removed!']);\n",
       "            Plotly.purge(gd);\n",
       "            observer.disconnect();\n",
       "        }}\n",
       "}});\n",
       "\n",
       "// Listen for the removal of the full notebook cells\n",
       "var notebookContainer = gd.closest('#notebook-container');\n",
       "if (notebookContainer) {{\n",
       "    x.observe(notebookContainer, {childList: true});\n",
       "}}\n",
       "\n",
       "// Listen for the clearing of the current output cell\n",
       "var outputEl = gd.closest('.output');\n",
       "if (outputEl) {{\n",
       "    x.observe(outputEl, {childList: true});\n",
       "}}\n",
       "\n",
       "                        })\n",
       "                };\n",
       "                });\n",
       "            </script>\n",
       "        </div>"
      ]
     },
     "metadata": {},
     "output_type": "display_data"
    }
   ],
   "source": [
    "make_chart(periodicos_qualis, 'Periódicos por Qualis - '+','.join(ANOS))\n",
    "\n"
   ]
  },
  {
   "cell_type": "code",
   "execution_count": 15,
   "metadata": {},
   "outputs": [
    {
     "data": {
      "application/vnd.plotly.v1+json": {
       "config": {
        "linkText": "Export to plot.ly",
        "plotlyServerURL": "https://plot.ly",
        "showLink": false
       },
       "data": [
        {
         "marker": {
          "color": "#000044"
         },
         "name": "A1 (1)",
         "type": "bar",
         "x": [
          "UFRN-D-4",
          "UFBA-C-CeR-4",
          "UNIFOR-CDC-3",
          "UNIVILLE-D-4",
          "UFRJ-PeP-4",
          "UFU-AeU-3",
          "UNB-D-3",
          "UFPE-E-3",
          "UFG-PEC-3",
          "UFAL-DDEH-3",
          "UERJ-D-4",
          "UFRGS-A-4",
          "UFRN-APEMA-4",
          "UFPR-D-4",
          "UFPEL-AEU-4",
          "UNIFATEA-DTEI-3",
          "UFBA-AEU-4",
          "UFSC-UHEADC-4",
          " FIAMFAAM-PPeGdEU-3",
          "UFV-AEU-4",
          "UFC-AEUED-3",
          "UNB-AEU-4",
          "UFJF-AC-4",
          "USJT-AEU-4",
          "UNIRITTER-AeU-4",
          "USP-AEU-4",
          "UNICAMP-ATeC-5",
          "UFF-AEU-4",
          "UFPE-D-4",
          "UFRN-AEU-4",
          "UNIRITTER-D-4",
          "UPM-AEU-6",
          "UFRJ-A-6",
          "UNESP-BAURU-AeU-4",
          "UFCG-D-3",
          "UFRJ-AP-4",
          "UFPA-AeU-4",
          "UFPB-JP-AEU-4",
          "PUCCAMP-AeU-5",
          "UFMG-AEU-6",
          "UFES-AEU-4",
          "UNISINOS-AeU-4",
          "IMED-AEU-3",
          "UFRJ-U-5",
          "UEL-AeU-4",
          "UDESC-D-4",
          "UFMA-D-3",
          "PUC-RIO-A-3",
          "UFSC-D-5",
          "UAM-D-5",
          "USP/SC-AEU-4",
          "UFSC-AEU-5",
          "UFRGS-D-5",
          "UNISINOS-D-5",
          "PUC-RIO-D-5",
          "UNESP-BAURU-D-6",
          "UEMG-D-5"
         ],
         "y": [
          0,
          0,
          0,
          0,
          0,
          0,
          0,
          0,
          0,
          0.016129032258064516,
          0,
          0,
          0,
          0,
          0,
          0,
          0.031914893617021274,
          0.023809523809523808,
          0,
          0.038461538461538464,
          0,
          0.045454545454545456,
          0,
          0,
          0,
          0.024822695035460994,
          0.029411764705882353,
          0.05357142857142857,
          0,
          0.022727272727272728,
          0.05,
          0,
          0.057692307692307696,
          0,
          0.1111111111111111,
          0.11764705882352941,
          0.029411764705882353,
          0.05,
          0,
          0.03125,
          0.0625,
          0.07142857142857142,
          0.05,
          0.08620689655172414,
          0,
          0.03333333333333333,
          0.047619047619047616,
          0.09090909090909091,
          0,
          0,
          0.05555555555555555,
          0.21739130434782608,
          0.15,
          0.038461538461538464,
          0.047619047619047616,
          0.027777777777777776,
          0.23333333333333334
         ]
        },
        {
         "marker": {
          "color": "#000088"
         },
         "name": "A2 (0.875)",
         "type": "bar",
         "x": [
          "UFRN-D-4",
          "UFBA-C-CeR-4",
          "UNIFOR-CDC-3",
          "UNIVILLE-D-4",
          "UFRJ-PeP-4",
          "UFU-AeU-3",
          "UNB-D-3",
          "UFPE-E-3",
          "UFG-PEC-3",
          "UFAL-DDEH-3",
          "UERJ-D-4",
          "UFRGS-A-4",
          "UFRN-APEMA-4",
          "UFPR-D-4",
          "UFPEL-AEU-4",
          "UNIFATEA-DTEI-3",
          "UFBA-AEU-4",
          "UFSC-UHEADC-4",
          " FIAMFAAM-PPeGdEU-3",
          "UFV-AEU-4",
          "UFC-AEUED-3",
          "UNB-AEU-4",
          "UFJF-AC-4",
          "USJT-AEU-4",
          "UNIRITTER-AeU-4",
          "USP-AEU-4",
          "UNICAMP-ATeC-5",
          "UFF-AEU-4",
          "UFPE-D-4",
          "UFRN-AEU-4",
          "UNIRITTER-D-4",
          "UPM-AEU-6",
          "UFRJ-A-6",
          "UNESP-BAURU-AeU-4",
          "UFCG-D-3",
          "UFRJ-AP-4",
          "UFPA-AeU-4",
          "UFPB-JP-AEU-4",
          "PUCCAMP-AeU-5",
          "UFMG-AEU-6",
          "UFES-AEU-4",
          "UNISINOS-AeU-4",
          "IMED-AEU-3",
          "UFRJ-U-5",
          "UEL-AeU-4",
          "UDESC-D-4",
          "UFMA-D-3",
          "PUC-RIO-A-3",
          "UFSC-D-5",
          "UAM-D-5",
          "USP/SC-AEU-4",
          "UFSC-AEU-5",
          "UFRGS-D-5",
          "UNISINOS-D-5",
          "PUC-RIO-D-5",
          "UNESP-BAURU-D-6",
          "UEMG-D-5"
         ],
         "y": [
          0,
          0,
          0,
          0,
          0,
          0,
          0,
          0,
          0,
          0,
          0,
          0,
          0,
          0,
          0,
          0,
          0,
          0,
          0,
          0,
          0,
          0.009943181818181818,
          0,
          0,
          0,
          0.018617021276595744,
          0,
          0,
          0,
          0,
          0,
          0,
          0,
          0,
          0.024305555555555556,
          0.051470588235294115,
          0,
          0.04375,
          0,
          0,
          0.08203125,
          0.03125,
          0,
          0.03017241379310345,
          0.10096153846153846,
          0.029166666666666667,
          0.041666666666666664,
          0.1590909090909091,
          0,
          0.02734375,
          0.024305555555555556,
          0.009510869565217392,
          0.04375,
          0.0673076923076923,
          0.125,
          0.07291666666666667,
          0.029166666666666667
         ]
        },
        {
         "marker": {
          "color": "#0000CC"
         },
         "name": "A3 (0.75)",
         "type": "bar",
         "x": [
          "UFRN-D-4",
          "UFBA-C-CeR-4",
          "UNIFOR-CDC-3",
          "UNIVILLE-D-4",
          "UFRJ-PeP-4",
          "UFU-AeU-3",
          "UNB-D-3",
          "UFPE-E-3",
          "UFG-PEC-3",
          "UFAL-DDEH-3",
          "UERJ-D-4",
          "UFRGS-A-4",
          "UFRN-APEMA-4",
          "UFPR-D-4",
          "UFPEL-AEU-4",
          "UNIFATEA-DTEI-3",
          "UFBA-AEU-4",
          "UFSC-UHEADC-4",
          " FIAMFAAM-PPeGdEU-3",
          "UFV-AEU-4",
          "UFC-AEUED-3",
          "UNB-AEU-4",
          "UFJF-AC-4",
          "USJT-AEU-4",
          "UNIRITTER-AeU-4",
          "USP-AEU-4",
          "UNICAMP-ATeC-5",
          "UFF-AEU-4",
          "UFPE-D-4",
          "UFRN-AEU-4",
          "UNIRITTER-D-4",
          "UPM-AEU-6",
          "UFRJ-A-6",
          "UNESP-BAURU-AeU-4",
          "UFCG-D-3",
          "UFRJ-AP-4",
          "UFPA-AeU-4",
          "UFPB-JP-AEU-4",
          "PUCCAMP-AeU-5",
          "UFMG-AEU-6",
          "UFES-AEU-4",
          "UNISINOS-AeU-4",
          "IMED-AEU-3",
          "UFRJ-U-5",
          "UEL-AeU-4",
          "UDESC-D-4",
          "UFMA-D-3",
          "PUC-RIO-A-3",
          "UFSC-D-5",
          "UAM-D-5",
          "USP/SC-AEU-4",
          "UFSC-AEU-5",
          "UFRGS-D-5",
          "UNISINOS-D-5",
          "PUC-RIO-D-5",
          "UNESP-BAURU-D-6",
          "UEMG-D-5"
         ],
         "y": [
          0,
          0,
          0,
          0,
          0,
          0,
          0,
          0,
          0,
          0,
          0,
          0.03409090909090909,
          0,
          0,
          0,
          0.057692307692307696,
          0,
          0,
          0,
          0,
          0.026785714285714284,
          0.02556818181818182,
          0.0375,
          0.0625,
          0,
          0.018617021276595744,
          0.03308823529411765,
          0.026785714285714284,
          0,
          0.017045454545454544,
          0.0375,
          0.017857142857142856,
          0,
          0,
          0.041666666666666664,
          0,
          0.04411764705882353,
          0.01875,
          0.08653846153846154,
          0.05859375,
          0,
          0.026785714285714284,
          0.1125,
          0,
          0.028846153846153848,
          0.025,
          0.017857142857142856,
          0,
          0.13392857142857142,
          0,
          0.07291666666666667,
          0.024456521739130436,
          0.075,
          0.057692307692307696,
          0.03571428571428571,
          0.08333333333333333,
          0.175
         ]
        },
        {
         "marker": {
          "color": "#0000FF"
         },
         "name": "A4 (0.625)",
         "type": "bar",
         "x": [
          "UFRN-D-4",
          "UFBA-C-CeR-4",
          "UNIFOR-CDC-3",
          "UNIVILLE-D-4",
          "UFRJ-PeP-4",
          "UFU-AeU-3",
          "UNB-D-3",
          "UFPE-E-3",
          "UFG-PEC-3",
          "UFAL-DDEH-3",
          "UERJ-D-4",
          "UFRGS-A-4",
          "UFRN-APEMA-4",
          "UFPR-D-4",
          "UFPEL-AEU-4",
          "UNIFATEA-DTEI-3",
          "UFBA-AEU-4",
          "UFSC-UHEADC-4",
          " FIAMFAAM-PPeGdEU-3",
          "UFV-AEU-4",
          "UFC-AEUED-3",
          "UNB-AEU-4",
          "UFJF-AC-4",
          "USJT-AEU-4",
          "UNIRITTER-AeU-4",
          "USP-AEU-4",
          "UNICAMP-ATeC-5",
          "UFF-AEU-4",
          "UFPE-D-4",
          "UFRN-AEU-4",
          "UNIRITTER-D-4",
          "UPM-AEU-6",
          "UFRJ-A-6",
          "UNESP-BAURU-AeU-4",
          "UFCG-D-3",
          "UFRJ-AP-4",
          "UFPA-AeU-4",
          "UFPB-JP-AEU-4",
          "PUCCAMP-AeU-5",
          "UFMG-AEU-6",
          "UFES-AEU-4",
          "UNISINOS-AeU-4",
          "IMED-AEU-3",
          "UFRJ-U-5",
          "UEL-AeU-4",
          "UDESC-D-4",
          "UFMA-D-3",
          "PUC-RIO-A-3",
          "UFSC-D-5",
          "UAM-D-5",
          "USP/SC-AEU-4",
          "UFSC-AEU-5",
          "UFRGS-D-5",
          "UNISINOS-D-5",
          "PUC-RIO-D-5",
          "UNESP-BAURU-D-6",
          "UEMG-D-5"
         ],
         "y": [
          0,
          0,
          0,
          0,
          0,
          0,
          0,
          0.02403846153846154,
          0,
          0.010080645161290322,
          0.015625,
          0,
          0.03289473684210526,
          0.049342105263157895,
          0.06009615384615385,
          0,
          0.05319148936170213,
          0.01488095238095238,
          0.08522727272727272,
          0,
          0.044642857142857144,
          0.02130681818181818,
          0.0625,
          0.026041666666666668,
          0.020833333333333332,
          0.050975177304964536,
          0.04595588235294118,
          0.078125,
          0.13020833333333334,
          0.056818181818181816,
          0.015625,
          0.02976190476190476,
          0.09615384615384616,
          0.056818181818181816,
          0,
          0.01838235294117647,
          0.03676470588235294,
          0.03125,
          0.04807692307692308,
          0.05859375,
          0.05859375,
          0.022321428571428572,
          0.03125,
          0.05387931034482758,
          0.07211538461538461,
          0.020833333333333332,
          0.1488095238095238,
          0,
          0.06696428571428571,
          0.21484375,
          0.10416666666666667,
          0.04076086956521739,
          0.020833333333333332,
          0.02403846153846154,
          0.2976190476190476,
          0.24305555555555555,
          0.125
         ]
        },
        {
         "marker": {
          "color": "#003300"
         },
         "name": "B1 (0.5)",
         "type": "bar",
         "x": [
          "UFRN-D-4",
          "UFBA-C-CeR-4",
          "UNIFOR-CDC-3",
          "UNIVILLE-D-4",
          "UFRJ-PeP-4",
          "UFU-AeU-3",
          "UNB-D-3",
          "UFPE-E-3",
          "UFG-PEC-3",
          "UFAL-DDEH-3",
          "UERJ-D-4",
          "UFRGS-A-4",
          "UFRN-APEMA-4",
          "UFPR-D-4",
          "UFPEL-AEU-4",
          "UNIFATEA-DTEI-3",
          "UFBA-AEU-4",
          "UFSC-UHEADC-4",
          " FIAMFAAM-PPeGdEU-3",
          "UFV-AEU-4",
          "UFC-AEUED-3",
          "UNB-AEU-4",
          "UFJF-AC-4",
          "USJT-AEU-4",
          "UNIRITTER-AeU-4",
          "USP-AEU-4",
          "UNICAMP-ATeC-5",
          "UFF-AEU-4",
          "UFPE-D-4",
          "UFRN-AEU-4",
          "UNIRITTER-D-4",
          "UPM-AEU-6",
          "UFRJ-A-6",
          "UNESP-BAURU-AeU-4",
          "UFCG-D-3",
          "UFRJ-AP-4",
          "UFPA-AeU-4",
          "UFPB-JP-AEU-4",
          "PUCCAMP-AeU-5",
          "UFMG-AEU-6",
          "UFES-AEU-4",
          "UNISINOS-AeU-4",
          "IMED-AEU-3",
          "UFRJ-U-5",
          "UEL-AeU-4",
          "UDESC-D-4",
          "UFMA-D-3",
          "PUC-RIO-A-3",
          "UFSC-D-5",
          "UAM-D-5",
          "USP/SC-AEU-4",
          "UFSC-AEU-5",
          "UFRGS-D-5",
          "UNISINOS-D-5",
          "PUC-RIO-D-5",
          "UNESP-BAURU-D-6",
          "UEMG-D-5"
         ],
         "y": [
          0,
          0,
          0,
          0,
          0,
          0,
          0.015625,
          0,
          0.016666666666666666,
          0.016129032258064516,
          0,
          0,
          0.02631578947368421,
          0,
          0,
          0.019230769230769232,
          0,
          0.023809523809523808,
          0.022727272727272728,
          0.038461538461538464,
          0,
          0.005681818181818182,
          0,
          0.020833333333333332,
          0.05,
          0.010638297872340425,
          0.014705882352941176,
          0,
          0.020833333333333332,
          0.03409090909090909,
          0.0375,
          0.023809523809523808,
          0.019230769230769232,
          0,
          0.013888888888888888,
          0,
          0.04411764705882353,
          0.025,
          0.038461538461538464,
          0.0546875,
          0,
          0,
          0.025,
          0.02586206896551724,
          0.038461538461538464,
          0.06666666666666667,
          0.023809523809523808,
          0.022727272727272728,
          0.03571428571428571,
          0,
          0.027777777777777776,
          0.016304347826086956,
          0.008333333333333333,
          0.07692307692307693,
          0.023809523809523808,
          0.06944444444444445,
          0
         ]
        },
        {
         "marker": {
          "color": "#006600"
         },
         "name": "B2 (0.2)",
         "type": "bar",
         "x": [
          "UFRN-D-4",
          "UFBA-C-CeR-4",
          "UNIFOR-CDC-3",
          "UNIVILLE-D-4",
          "UFRJ-PeP-4",
          "UFU-AeU-3",
          "UNB-D-3",
          "UFPE-E-3",
          "UFG-PEC-3",
          "UFAL-DDEH-3",
          "UERJ-D-4",
          "UFRGS-A-4",
          "UFRN-APEMA-4",
          "UFPR-D-4",
          "UFPEL-AEU-4",
          "UNIFATEA-DTEI-3",
          "UFBA-AEU-4",
          "UFSC-UHEADC-4",
          " FIAMFAAM-PPeGdEU-3",
          "UFV-AEU-4",
          "UFC-AEUED-3",
          "UNB-AEU-4",
          "UFJF-AC-4",
          "USJT-AEU-4",
          "UNIRITTER-AeU-4",
          "USP-AEU-4",
          "UNICAMP-ATeC-5",
          "UFF-AEU-4",
          "UFPE-D-4",
          "UFRN-AEU-4",
          "UNIRITTER-D-4",
          "UPM-AEU-6",
          "UFRJ-A-6",
          "UNESP-BAURU-AeU-4",
          "UFCG-D-3",
          "UFRJ-AP-4",
          "UFPA-AeU-4",
          "UFPB-JP-AEU-4",
          "PUCCAMP-AeU-5",
          "UFMG-AEU-6",
          "UFES-AEU-4",
          "UNISINOS-AeU-4",
          "IMED-AEU-3",
          "UFRJ-U-5",
          "UEL-AeU-4",
          "UDESC-D-4",
          "UFMA-D-3",
          "PUC-RIO-A-3",
          "UFSC-D-5",
          "UAM-D-5",
          "USP/SC-AEU-4",
          "UFSC-AEU-5",
          "UFRGS-D-5",
          "UNISINOS-D-5",
          "PUC-RIO-D-5",
          "UNESP-BAURU-D-6",
          "UEMG-D-5"
         ],
         "y": [
          0,
          0,
          0.005,
          0.008333333333333333,
          0.005263157894736842,
          0.008333333333333333,
          0,
          0,
          0.006666666666666667,
          0,
          0.01,
          0.01363636363636364,
          0.005263157894736842,
          0.021052631578947368,
          0.0038461538461538464,
          0.007692307692307693,
          0.00425531914893617,
          0.03333333333333334,
          0,
          0.038461538461538464,
          0.03571428571428571,
          0.004545454545454546,
          0.02,
          0,
          0.05333333333333334,
          0.004964539007092199,
          0.02058823529411765,
          0,
          0,
          0.018181818181818184,
          0.030000000000000006,
          0.09047619047619049,
          0.007692307692307693,
          0.11818181818181818,
          0,
          0.011764705882352941,
          0.047058823529411764,
          0.025,
          0.03076923076923077,
          0.009375000000000001,
          0.00625,
          0.05,
          0.01,
          0.024137931034482762,
          0.02307692307692308,
          0.04000000000000001,
          0.004761904761904762,
          0.009090909090909092,
          0.021428571428571432,
          0.037500000000000006,
          0.03333333333333334,
          0.015217391304347827,
          0.016666666666666666,
          0.06153846153846154,
          0.023809523809523808,
          0.011111111111111112,
          0.02666666666666667
         ]
        },
        {
         "marker": {
          "color": "#009900"
         },
         "name": "B3 (0.1)",
         "type": "bar",
         "x": [
          "UFRN-D-4",
          "UFBA-C-CeR-4",
          "UNIFOR-CDC-3",
          "UNIVILLE-D-4",
          "UFRJ-PeP-4",
          "UFU-AeU-3",
          "UNB-D-3",
          "UFPE-E-3",
          "UFG-PEC-3",
          "UFAL-DDEH-3",
          "UERJ-D-4",
          "UFRGS-A-4",
          "UFRN-APEMA-4",
          "UFPR-D-4",
          "UFPEL-AEU-4",
          "UNIFATEA-DTEI-3",
          "UFBA-AEU-4",
          "UFSC-UHEADC-4",
          " FIAMFAAM-PPeGdEU-3",
          "UFV-AEU-4",
          "UFC-AEUED-3",
          "UNB-AEU-4",
          "UFJF-AC-4",
          "USJT-AEU-4",
          "UNIRITTER-AeU-4",
          "USP-AEU-4",
          "UNICAMP-ATeC-5",
          "UFF-AEU-4",
          "UFPE-D-4",
          "UFRN-AEU-4",
          "UNIRITTER-D-4",
          "UPM-AEU-6",
          "UFRJ-A-6",
          "UNESP-BAURU-AeU-4",
          "UFCG-D-3",
          "UFRJ-AP-4",
          "UFPA-AeU-4",
          "UFPB-JP-AEU-4",
          "PUCCAMP-AeU-5",
          "UFMG-AEU-6",
          "UFES-AEU-4",
          "UNISINOS-AeU-4",
          "IMED-AEU-3",
          "UFRJ-U-5",
          "UEL-AeU-4",
          "UDESC-D-4",
          "UFMA-D-3",
          "PUC-RIO-A-3",
          "UFSC-D-5",
          "UAM-D-5",
          "USP/SC-AEU-4",
          "UFSC-AEU-5",
          "UFRGS-D-5",
          "UNISINOS-D-5",
          "PUC-RIO-D-5",
          "UNESP-BAURU-D-6",
          "UEMG-D-5"
         ],
         "y": [
          0,
          0.001282051282051282,
          0,
          0,
          0.005263157894736842,
          0.004166666666666667,
          0.003125,
          0,
          0.010000000000000002,
          0.0032258064516129032,
          0.0075000000000000015,
          0.002272727272727273,
          0.007894736842105265,
          0.01578947368421053,
          0.028846153846153848,
          0.01153846153846154,
          0.010638297872340425,
          0.004761904761904762,
          0.004545454545454546,
          0,
          0.010714285714285716,
          0.007954545454545455,
          0.01,
          0.020833333333333332,
          0.013333333333333334,
          0.010283687943262412,
          0.0014705882352941176,
          0.0035714285714285718,
          0.008333333333333333,
          0.01363636363636364,
          0.0125,
          0.01904761904761905,
          0.007692307692307693,
          0.018181818181818184,
          0.005555555555555556,
          0,
          0.008823529411764707,
          0.0175,
          0.01153846153846154,
          0.009375000000000001,
          0.009375000000000001,
          0.028571428571428574,
          0.005,
          0.022413793103448276,
          0,
          0.030000000000000002,
          0.0071428571428571435,
          0.01363636363636364,
          0.03214285714285715,
          0.028125,
          0.013888888888888888,
          0.007608695652173913,
          0.021666666666666667,
          0.015384615384615385,
          0.0071428571428571435,
          0.052777777777777785,
          0.013333333333333334
         ]
        },
        {
         "marker": {
          "color": "#00CC00"
         },
         "name": "B4 (0.05)",
         "type": "bar",
         "x": [
          "UFRN-D-4",
          "UFBA-C-CeR-4",
          "UNIFOR-CDC-3",
          "UNIVILLE-D-4",
          "UFRJ-PeP-4",
          "UFU-AeU-3",
          "UNB-D-3",
          "UFPE-E-3",
          "UFG-PEC-3",
          "UFAL-DDEH-3",
          "UERJ-D-4",
          "UFRGS-A-4",
          "UFRN-APEMA-4",
          "UFPR-D-4",
          "UFPEL-AEU-4",
          "UNIFATEA-DTEI-3",
          "UFBA-AEU-4",
          "UFSC-UHEADC-4",
          " FIAMFAAM-PPeGdEU-3",
          "UFV-AEU-4",
          "UFC-AEUED-3",
          "UNB-AEU-4",
          "UFJF-AC-4",
          "USJT-AEU-4",
          "UNIRITTER-AeU-4",
          "USP-AEU-4",
          "UNICAMP-ATeC-5",
          "UFF-AEU-4",
          "UFPE-D-4",
          "UFRN-AEU-4",
          "UNIRITTER-D-4",
          "UPM-AEU-6",
          "UFRJ-A-6",
          "UNESP-BAURU-AeU-4",
          "UFCG-D-3",
          "UFRJ-AP-4",
          "UFPA-AeU-4",
          "UFPB-JP-AEU-4",
          "PUCCAMP-AeU-5",
          "UFMG-AEU-6",
          "UFES-AEU-4",
          "UNISINOS-AeU-4",
          "IMED-AEU-3",
          "UFRJ-U-5",
          "UEL-AeU-4",
          "UDESC-D-4",
          "UFMA-D-3",
          "PUC-RIO-A-3",
          "UFSC-D-5",
          "UAM-D-5",
          "USP/SC-AEU-4",
          "UFSC-AEU-5",
          "UFRGS-D-5",
          "UNISINOS-D-5",
          "PUC-RIO-D-5",
          "UNESP-BAURU-D-6",
          "UEMG-D-5"
         ],
         "y": [
          0,
          0.001282051282051282,
          0,
          0.0020833333333333333,
          0,
          0.0020833333333333333,
          0,
          0,
          0,
          0,
          0.0125,
          0.002272727272727273,
          0,
          0.007894736842105265,
          0.002884615384615385,
          0.0019230769230769232,
          0.0010638297872340426,
          0.0035714285714285718,
          0,
          0,
          0.0017857142857142859,
          0,
          0,
          0.0020833333333333333,
          0,
          0.001595744680851064,
          0.0014705882352941176,
          0.0008928571428571429,
          0.004166666666666667,
          0.0011363636363636365,
          0.00125,
          0.010714285714285714,
          0.0038461538461538464,
          0,
          0.001388888888888889,
          0,
          0.0014705882352941176,
          0.0025,
          0.0019230769230769232,
          0,
          0.004687500000000001,
          0.0017857142857142859,
          0.0025,
          0.001724137931034483,
          0.0019230769230769232,
          0.021666666666666667,
          0.0035714285714285718,
          0,
          0.019642857142857146,
          0.004687500000000001,
          0.0006944444444444445,
          0.005434782608695652,
          0.004166666666666667,
          0.007692307692307693,
          0.004761904761904762,
          0.008333333333333335,
          0.006666666666666667
         ]
        },
        {
         "marker": {
          "color": "#00FF00"
         },
         "name": "B5 (0)",
         "type": "bar",
         "x": [
          "UFRN-D-4",
          "UFBA-C-CeR-4",
          "UNIFOR-CDC-3",
          "UNIVILLE-D-4",
          "UFRJ-PeP-4",
          "UFU-AeU-3",
          "UNB-D-3",
          "UFPE-E-3",
          "UFG-PEC-3",
          "UFAL-DDEH-3",
          "UERJ-D-4",
          "UFRGS-A-4",
          "UFRN-APEMA-4",
          "UFPR-D-4",
          "UFPEL-AEU-4",
          "UNIFATEA-DTEI-3",
          "UFBA-AEU-4",
          "UFSC-UHEADC-4",
          " FIAMFAAM-PPeGdEU-3",
          "UFV-AEU-4",
          "UFC-AEUED-3",
          "UNB-AEU-4",
          "UFJF-AC-4",
          "USJT-AEU-4",
          "UNIRITTER-AeU-4",
          "USP-AEU-4",
          "UNICAMP-ATeC-5",
          "UFF-AEU-4",
          "UFPE-D-4",
          "UFRN-AEU-4",
          "UNIRITTER-D-4",
          "UPM-AEU-6",
          "UFRJ-A-6",
          "UNESP-BAURU-AeU-4",
          "UFCG-D-3",
          "UFRJ-AP-4",
          "UFPA-AeU-4",
          "UFPB-JP-AEU-4",
          "PUCCAMP-AeU-5",
          "UFMG-AEU-6",
          "UFES-AEU-4",
          "UNISINOS-AeU-4",
          "IMED-AEU-3",
          "UFRJ-U-5",
          "UEL-AeU-4",
          "UDESC-D-4",
          "UFMA-D-3",
          "PUC-RIO-A-3",
          "UFSC-D-5",
          "UAM-D-5",
          "USP/SC-AEU-4",
          "UFSC-AEU-5",
          "UFRGS-D-5",
          "UNISINOS-D-5",
          "PUC-RIO-D-5",
          "UNESP-BAURU-D-6",
          "UEMG-D-5"
         ],
         "y": [
          0,
          0,
          0,
          0,
          0,
          0,
          0,
          0,
          0,
          0,
          0,
          0,
          0,
          0,
          0,
          0,
          0,
          0,
          0,
          0,
          0,
          0,
          0,
          0,
          0,
          0,
          0,
          0,
          0,
          0,
          0,
          0,
          0,
          0,
          0,
          0,
          0,
          0,
          0,
          0,
          0,
          0,
          0,
          0,
          0,
          0,
          0,
          0,
          0,
          0,
          0,
          0,
          0,
          0,
          0,
          0,
          0
         ]
        },
        {
         "marker": {
          "color": "#880000"
         },
         "name": "C (0)",
         "type": "bar",
         "x": [
          "UFRN-D-4",
          "UFBA-C-CeR-4",
          "UNIFOR-CDC-3",
          "UNIVILLE-D-4",
          "UFRJ-PeP-4",
          "UFU-AeU-3",
          "UNB-D-3",
          "UFPE-E-3",
          "UFG-PEC-3",
          "UFAL-DDEH-3",
          "UERJ-D-4",
          "UFRGS-A-4",
          "UFRN-APEMA-4",
          "UFPR-D-4",
          "UFPEL-AEU-4",
          "UNIFATEA-DTEI-3",
          "UFBA-AEU-4",
          "UFSC-UHEADC-4",
          " FIAMFAAM-PPeGdEU-3",
          "UFV-AEU-4",
          "UFC-AEUED-3",
          "UNB-AEU-4",
          "UFJF-AC-4",
          "USJT-AEU-4",
          "UNIRITTER-AeU-4",
          "USP-AEU-4",
          "UNICAMP-ATeC-5",
          "UFF-AEU-4",
          "UFPE-D-4",
          "UFRN-AEU-4",
          "UNIRITTER-D-4",
          "UPM-AEU-6",
          "UFRJ-A-6",
          "UNESP-BAURU-AeU-4",
          "UFCG-D-3",
          "UFRJ-AP-4",
          "UFPA-AeU-4",
          "UFPB-JP-AEU-4",
          "PUCCAMP-AeU-5",
          "UFMG-AEU-6",
          "UFES-AEU-4",
          "UNISINOS-AeU-4",
          "IMED-AEU-3",
          "UFRJ-U-5",
          "UEL-AeU-4",
          "UDESC-D-4",
          "UFMA-D-3",
          "PUC-RIO-A-3",
          "UFSC-D-5",
          "UAM-D-5",
          "USP/SC-AEU-4",
          "UFSC-AEU-5",
          "UFRGS-D-5",
          "UNISINOS-D-5",
          "PUC-RIO-D-5",
          "UNESP-BAURU-D-6",
          "UEMG-D-5"
         ],
         "y": [
          0,
          0,
          0,
          0,
          0,
          0,
          0,
          0,
          0,
          0,
          0,
          0,
          0,
          0,
          0,
          0,
          0,
          0,
          0,
          0,
          0,
          0,
          0,
          0,
          0,
          0,
          0,
          0,
          0,
          0,
          0,
          0,
          0,
          0,
          0,
          0,
          0,
          0,
          0,
          0,
          0,
          0,
          0,
          0,
          0,
          0,
          0,
          0,
          0,
          0,
          0,
          0,
          0,
          0,
          0,
          0,
          0
         ]
        },
        {
         "marker": {
          "color": "#CC0000"
         },
         "name": "NA (0)",
         "type": "bar",
         "x": [
          "UFRN-D-4",
          "UFBA-C-CeR-4",
          "UNIFOR-CDC-3",
          "UNIVILLE-D-4",
          "UFRJ-PeP-4",
          "UFU-AeU-3",
          "UNB-D-3",
          "UFPE-E-3",
          "UFG-PEC-3",
          "UFAL-DDEH-3",
          "UERJ-D-4",
          "UFRGS-A-4",
          "UFRN-APEMA-4",
          "UFPR-D-4",
          "UFPEL-AEU-4",
          "UNIFATEA-DTEI-3",
          "UFBA-AEU-4",
          "UFSC-UHEADC-4",
          " FIAMFAAM-PPeGdEU-3",
          "UFV-AEU-4",
          "UFC-AEUED-3",
          "UNB-AEU-4",
          "UFJF-AC-4",
          "USJT-AEU-4",
          "UNIRITTER-AeU-4",
          "USP-AEU-4",
          "UNICAMP-ATeC-5",
          "UFF-AEU-4",
          "UFPE-D-4",
          "UFRN-AEU-4",
          "UNIRITTER-D-4",
          "UPM-AEU-6",
          "UFRJ-A-6",
          "UNESP-BAURU-AeU-4",
          "UFCG-D-3",
          "UFRJ-AP-4",
          "UFPA-AeU-4",
          "UFPB-JP-AEU-4",
          "PUCCAMP-AeU-5",
          "UFMG-AEU-6",
          "UFES-AEU-4",
          "UNISINOS-AeU-4",
          "IMED-AEU-3",
          "UFRJ-U-5",
          "UEL-AeU-4",
          "UDESC-D-4",
          "UFMA-D-3",
          "PUC-RIO-A-3",
          "UFSC-D-5",
          "UAM-D-5",
          "USP/SC-AEU-4",
          "UFSC-AEU-5",
          "UFRGS-D-5",
          "UNISINOS-D-5",
          "PUC-RIO-D-5",
          "UNESP-BAURU-D-6",
          "UEMG-D-5"
         ],
         "y": [
          0,
          0,
          0,
          0,
          0,
          0,
          0,
          0,
          0,
          0,
          0,
          0,
          0,
          0,
          0,
          0,
          0,
          0,
          0,
          0,
          0,
          0,
          0,
          0,
          0,
          0,
          0,
          0,
          0,
          0,
          0,
          0,
          0,
          0,
          0,
          0,
          0,
          0,
          0,
          0,
          0,
          0,
          0,
          0,
          0,
          0,
          0,
          0,
          0,
          0,
          0,
          0,
          0,
          0,
          0,
          0,
          0
         ]
        },
        {
         "marker": {
          "color": "#FF0000"
         },
         "name": "NP (0)",
         "type": "bar",
         "x": [
          "UFRN-D-4",
          "UFBA-C-CeR-4",
          "UNIFOR-CDC-3",
          "UNIVILLE-D-4",
          "UFRJ-PeP-4",
          "UFU-AeU-3",
          "UNB-D-3",
          "UFPE-E-3",
          "UFG-PEC-3",
          "UFAL-DDEH-3",
          "UERJ-D-4",
          "UFRGS-A-4",
          "UFRN-APEMA-4",
          "UFPR-D-4",
          "UFPEL-AEU-4",
          "UNIFATEA-DTEI-3",
          "UFBA-AEU-4",
          "UFSC-UHEADC-4",
          " FIAMFAAM-PPeGdEU-3",
          "UFV-AEU-4",
          "UFC-AEUED-3",
          "UNB-AEU-4",
          "UFJF-AC-4",
          "USJT-AEU-4",
          "UNIRITTER-AeU-4",
          "USP-AEU-4",
          "UNICAMP-ATeC-5",
          "UFF-AEU-4",
          "UFPE-D-4",
          "UFRN-AEU-4",
          "UNIRITTER-D-4",
          "UPM-AEU-6",
          "UFRJ-A-6",
          "UNESP-BAURU-AeU-4",
          "UFCG-D-3",
          "UFRJ-AP-4",
          "UFPA-AeU-4",
          "UFPB-JP-AEU-4",
          "PUCCAMP-AeU-5",
          "UFMG-AEU-6",
          "UFES-AEU-4",
          "UNISINOS-AeU-4",
          "IMED-AEU-3",
          "UFRJ-U-5",
          "UEL-AeU-4",
          "UDESC-D-4",
          "UFMA-D-3",
          "PUC-RIO-A-3",
          "UFSC-D-5",
          "UAM-D-5",
          "USP/SC-AEU-4",
          "UFSC-AEU-5",
          "UFRGS-D-5",
          "UNISINOS-D-5",
          "PUC-RIO-D-5",
          "UNESP-BAURU-D-6",
          "UEMG-D-5"
         ],
         "y": [
          0,
          0,
          0,
          0,
          0,
          0,
          0,
          0,
          0,
          0,
          0,
          0,
          0,
          0,
          0,
          0,
          0,
          0,
          0,
          0,
          0,
          0,
          0,
          0,
          0,
          0,
          0,
          0,
          0,
          0,
          0,
          0,
          0,
          0,
          0,
          0,
          0,
          0,
          0,
          0,
          0,
          0,
          0,
          0,
          0,
          0,
          0,
          0,
          0,
          0,
          0,
          0,
          0,
          0,
          0,
          0,
          0
         ]
        }
       ],
       "layout": {
        "barmode": "stack",
        "template": {
         "data": {
          "bar": [
           {
            "error_x": {
             "color": "#2a3f5f"
            },
            "error_y": {
             "color": "#2a3f5f"
            },
            "marker": {
             "line": {
              "color": "#E5ECF6",
              "width": 0.5
             }
            },
            "type": "bar"
           }
          ],
          "barpolar": [
           {
            "marker": {
             "line": {
              "color": "#E5ECF6",
              "width": 0.5
             }
            },
            "type": "barpolar"
           }
          ],
          "carpet": [
           {
            "aaxis": {
             "endlinecolor": "#2a3f5f",
             "gridcolor": "white",
             "linecolor": "white",
             "minorgridcolor": "white",
             "startlinecolor": "#2a3f5f"
            },
            "baxis": {
             "endlinecolor": "#2a3f5f",
             "gridcolor": "white",
             "linecolor": "white",
             "minorgridcolor": "white",
             "startlinecolor": "#2a3f5f"
            },
            "type": "carpet"
           }
          ],
          "choropleth": [
           {
            "colorbar": {
             "outlinewidth": 0,
             "ticks": ""
            },
            "type": "choropleth"
           }
          ],
          "contour": [
           {
            "colorbar": {
             "outlinewidth": 0,
             "ticks": ""
            },
            "colorscale": [
             [
              0,
              "#0d0887"
             ],
             [
              0.1111111111111111,
              "#46039f"
             ],
             [
              0.2222222222222222,
              "#7201a8"
             ],
             [
              0.3333333333333333,
              "#9c179e"
             ],
             [
              0.4444444444444444,
              "#bd3786"
             ],
             [
              0.5555555555555556,
              "#d8576b"
             ],
             [
              0.6666666666666666,
              "#ed7953"
             ],
             [
              0.7777777777777778,
              "#fb9f3a"
             ],
             [
              0.8888888888888888,
              "#fdca26"
             ],
             [
              1,
              "#f0f921"
             ]
            ],
            "type": "contour"
           }
          ],
          "contourcarpet": [
           {
            "colorbar": {
             "outlinewidth": 0,
             "ticks": ""
            },
            "type": "contourcarpet"
           }
          ],
          "heatmap": [
           {
            "colorbar": {
             "outlinewidth": 0,
             "ticks": ""
            },
            "colorscale": [
             [
              0,
              "#0d0887"
             ],
             [
              0.1111111111111111,
              "#46039f"
             ],
             [
              0.2222222222222222,
              "#7201a8"
             ],
             [
              0.3333333333333333,
              "#9c179e"
             ],
             [
              0.4444444444444444,
              "#bd3786"
             ],
             [
              0.5555555555555556,
              "#d8576b"
             ],
             [
              0.6666666666666666,
              "#ed7953"
             ],
             [
              0.7777777777777778,
              "#fb9f3a"
             ],
             [
              0.8888888888888888,
              "#fdca26"
             ],
             [
              1,
              "#f0f921"
             ]
            ],
            "type": "heatmap"
           }
          ],
          "heatmapgl": [
           {
            "colorbar": {
             "outlinewidth": 0,
             "ticks": ""
            },
            "colorscale": [
             [
              0,
              "#0d0887"
             ],
             [
              0.1111111111111111,
              "#46039f"
             ],
             [
              0.2222222222222222,
              "#7201a8"
             ],
             [
              0.3333333333333333,
              "#9c179e"
             ],
             [
              0.4444444444444444,
              "#bd3786"
             ],
             [
              0.5555555555555556,
              "#d8576b"
             ],
             [
              0.6666666666666666,
              "#ed7953"
             ],
             [
              0.7777777777777778,
              "#fb9f3a"
             ],
             [
              0.8888888888888888,
              "#fdca26"
             ],
             [
              1,
              "#f0f921"
             ]
            ],
            "type": "heatmapgl"
           }
          ],
          "histogram": [
           {
            "marker": {
             "colorbar": {
              "outlinewidth": 0,
              "ticks": ""
             }
            },
            "type": "histogram"
           }
          ],
          "histogram2d": [
           {
            "colorbar": {
             "outlinewidth": 0,
             "ticks": ""
            },
            "colorscale": [
             [
              0,
              "#0d0887"
             ],
             [
              0.1111111111111111,
              "#46039f"
             ],
             [
              0.2222222222222222,
              "#7201a8"
             ],
             [
              0.3333333333333333,
              "#9c179e"
             ],
             [
              0.4444444444444444,
              "#bd3786"
             ],
             [
              0.5555555555555556,
              "#d8576b"
             ],
             [
              0.6666666666666666,
              "#ed7953"
             ],
             [
              0.7777777777777778,
              "#fb9f3a"
             ],
             [
              0.8888888888888888,
              "#fdca26"
             ],
             [
              1,
              "#f0f921"
             ]
            ],
            "type": "histogram2d"
           }
          ],
          "histogram2dcontour": [
           {
            "colorbar": {
             "outlinewidth": 0,
             "ticks": ""
            },
            "colorscale": [
             [
              0,
              "#0d0887"
             ],
             [
              0.1111111111111111,
              "#46039f"
             ],
             [
              0.2222222222222222,
              "#7201a8"
             ],
             [
              0.3333333333333333,
              "#9c179e"
             ],
             [
              0.4444444444444444,
              "#bd3786"
             ],
             [
              0.5555555555555556,
              "#d8576b"
             ],
             [
              0.6666666666666666,
              "#ed7953"
             ],
             [
              0.7777777777777778,
              "#fb9f3a"
             ],
             [
              0.8888888888888888,
              "#fdca26"
             ],
             [
              1,
              "#f0f921"
             ]
            ],
            "type": "histogram2dcontour"
           }
          ],
          "mesh3d": [
           {
            "colorbar": {
             "outlinewidth": 0,
             "ticks": ""
            },
            "type": "mesh3d"
           }
          ],
          "parcoords": [
           {
            "line": {
             "colorbar": {
              "outlinewidth": 0,
              "ticks": ""
             }
            },
            "type": "parcoords"
           }
          ],
          "pie": [
           {
            "automargin": true,
            "type": "pie"
           }
          ],
          "scatter": [
           {
            "marker": {
             "colorbar": {
              "outlinewidth": 0,
              "ticks": ""
             }
            },
            "type": "scatter"
           }
          ],
          "scatter3d": [
           {
            "line": {
             "colorbar": {
              "outlinewidth": 0,
              "ticks": ""
             }
            },
            "marker": {
             "colorbar": {
              "outlinewidth": 0,
              "ticks": ""
             }
            },
            "type": "scatter3d"
           }
          ],
          "scattercarpet": [
           {
            "marker": {
             "colorbar": {
              "outlinewidth": 0,
              "ticks": ""
             }
            },
            "type": "scattercarpet"
           }
          ],
          "scattergeo": [
           {
            "marker": {
             "colorbar": {
              "outlinewidth": 0,
              "ticks": ""
             }
            },
            "type": "scattergeo"
           }
          ],
          "scattergl": [
           {
            "marker": {
             "colorbar": {
              "outlinewidth": 0,
              "ticks": ""
             }
            },
            "type": "scattergl"
           }
          ],
          "scattermapbox": [
           {
            "marker": {
             "colorbar": {
              "outlinewidth": 0,
              "ticks": ""
             }
            },
            "type": "scattermapbox"
           }
          ],
          "scatterpolar": [
           {
            "marker": {
             "colorbar": {
              "outlinewidth": 0,
              "ticks": ""
             }
            },
            "type": "scatterpolar"
           }
          ],
          "scatterpolargl": [
           {
            "marker": {
             "colorbar": {
              "outlinewidth": 0,
              "ticks": ""
             }
            },
            "type": "scatterpolargl"
           }
          ],
          "scatterternary": [
           {
            "marker": {
             "colorbar": {
              "outlinewidth": 0,
              "ticks": ""
             }
            },
            "type": "scatterternary"
           }
          ],
          "surface": [
           {
            "colorbar": {
             "outlinewidth": 0,
             "ticks": ""
            },
            "colorscale": [
             [
              0,
              "#0d0887"
             ],
             [
              0.1111111111111111,
              "#46039f"
             ],
             [
              0.2222222222222222,
              "#7201a8"
             ],
             [
              0.3333333333333333,
              "#9c179e"
             ],
             [
              0.4444444444444444,
              "#bd3786"
             ],
             [
              0.5555555555555556,
              "#d8576b"
             ],
             [
              0.6666666666666666,
              "#ed7953"
             ],
             [
              0.7777777777777778,
              "#fb9f3a"
             ],
             [
              0.8888888888888888,
              "#fdca26"
             ],
             [
              1,
              "#f0f921"
             ]
            ],
            "type": "surface"
           }
          ],
          "table": [
           {
            "cells": {
             "fill": {
              "color": "#EBF0F8"
             },
             "line": {
              "color": "white"
             }
            },
            "header": {
             "fill": {
              "color": "#C8D4E3"
             },
             "line": {
              "color": "white"
             }
            },
            "type": "table"
           }
          ]
         },
         "layout": {
          "annotationdefaults": {
           "arrowcolor": "#2a3f5f",
           "arrowhead": 0,
           "arrowwidth": 1
          },
          "coloraxis": {
           "colorbar": {
            "outlinewidth": 0,
            "ticks": ""
           }
          },
          "colorscale": {
           "diverging": [
            [
             0,
             "#8e0152"
            ],
            [
             0.1,
             "#c51b7d"
            ],
            [
             0.2,
             "#de77ae"
            ],
            [
             0.3,
             "#f1b6da"
            ],
            [
             0.4,
             "#fde0ef"
            ],
            [
             0.5,
             "#f7f7f7"
            ],
            [
             0.6,
             "#e6f5d0"
            ],
            [
             0.7,
             "#b8e186"
            ],
            [
             0.8,
             "#7fbc41"
            ],
            [
             0.9,
             "#4d9221"
            ],
            [
             1,
             "#276419"
            ]
           ],
           "sequential": [
            [
             0,
             "#0d0887"
            ],
            [
             0.1111111111111111,
             "#46039f"
            ],
            [
             0.2222222222222222,
             "#7201a8"
            ],
            [
             0.3333333333333333,
             "#9c179e"
            ],
            [
             0.4444444444444444,
             "#bd3786"
            ],
            [
             0.5555555555555556,
             "#d8576b"
            ],
            [
             0.6666666666666666,
             "#ed7953"
            ],
            [
             0.7777777777777778,
             "#fb9f3a"
            ],
            [
             0.8888888888888888,
             "#fdca26"
            ],
            [
             1,
             "#f0f921"
            ]
           ],
           "sequentialminus": [
            [
             0,
             "#0d0887"
            ],
            [
             0.1111111111111111,
             "#46039f"
            ],
            [
             0.2222222222222222,
             "#7201a8"
            ],
            [
             0.3333333333333333,
             "#9c179e"
            ],
            [
             0.4444444444444444,
             "#bd3786"
            ],
            [
             0.5555555555555556,
             "#d8576b"
            ],
            [
             0.6666666666666666,
             "#ed7953"
            ],
            [
             0.7777777777777778,
             "#fb9f3a"
            ],
            [
             0.8888888888888888,
             "#fdca26"
            ],
            [
             1,
             "#f0f921"
            ]
           ]
          },
          "colorway": [
           "#636efa",
           "#EF553B",
           "#00cc96",
           "#ab63fa",
           "#FFA15A",
           "#19d3f3",
           "#FF6692",
           "#B6E880",
           "#FF97FF",
           "#FECB52"
          ],
          "font": {
           "color": "#2a3f5f"
          },
          "geo": {
           "bgcolor": "white",
           "lakecolor": "white",
           "landcolor": "#E5ECF6",
           "showlakes": true,
           "showland": true,
           "subunitcolor": "white"
          },
          "hoverlabel": {
           "align": "left"
          },
          "hovermode": "closest",
          "mapbox": {
           "style": "light"
          },
          "paper_bgcolor": "white",
          "plot_bgcolor": "#E5ECF6",
          "polar": {
           "angularaxis": {
            "gridcolor": "white",
            "linecolor": "white",
            "ticks": ""
           },
           "bgcolor": "#E5ECF6",
           "radialaxis": {
            "gridcolor": "white",
            "linecolor": "white",
            "ticks": ""
           }
          },
          "scene": {
           "xaxis": {
            "backgroundcolor": "#E5ECF6",
            "gridcolor": "white",
            "gridwidth": 2,
            "linecolor": "white",
            "showbackground": true,
            "ticks": "",
            "zerolinecolor": "white"
           },
           "yaxis": {
            "backgroundcolor": "#E5ECF6",
            "gridcolor": "white",
            "gridwidth": 2,
            "linecolor": "white",
            "showbackground": true,
            "ticks": "",
            "zerolinecolor": "white"
           },
           "zaxis": {
            "backgroundcolor": "#E5ECF6",
            "gridcolor": "white",
            "gridwidth": 2,
            "linecolor": "white",
            "showbackground": true,
            "ticks": "",
            "zerolinecolor": "white"
           }
          },
          "shapedefaults": {
           "line": {
            "color": "#2a3f5f"
           }
          },
          "ternary": {
           "aaxis": {
            "gridcolor": "white",
            "linecolor": "white",
            "ticks": ""
           },
           "baxis": {
            "gridcolor": "white",
            "linecolor": "white",
            "ticks": ""
           },
           "bgcolor": "#E5ECF6",
           "caxis": {
            "gridcolor": "white",
            "linecolor": "white",
            "ticks": ""
           }
          },
          "title": {
           "x": 0.05
          },
          "xaxis": {
           "automargin": true,
           "gridcolor": "white",
           "linecolor": "white",
           "ticks": "",
           "title": {
            "standoff": 15
           },
           "zerolinecolor": "white",
           "zerolinewidth": 2
          },
          "yaxis": {
           "automargin": true,
           "gridcolor": "white",
           "linecolor": "white",
           "ticks": "",
           "title": {
            "standoff": 15
           },
           "zerolinecolor": "white",
           "zerolinewidth": 2
          }
         }
        },
        "title": {
         "font": {
          "color": "#000000",
          "size": 20
         },
         "text": "Periódicos por Docentes (Permanentes + Colaboradores)2013,2014,2015,2016",
         "x": 0.5,
         "xanchor": "center"
        },
        "xaxis": {
         "title": {
          "text": "Instituição"
         }
        }
       }
      },
      "text/html": [
       "<div>\n",
       "        \n",
       "        \n",
       "            <div id=\"2a12bf82-0210-40c6-9613-3e1881d72d8b\" class=\"plotly-graph-div\" style=\"height:525px; width:100%;\"></div>\n",
       "            <script type=\"text/javascript\">\n",
       "                require([\"plotly\"], function(Plotly) {\n",
       "                    window.PLOTLYENV=window.PLOTLYENV || {};\n",
       "                    \n",
       "                if (document.getElementById(\"2a12bf82-0210-40c6-9613-3e1881d72d8b\")) {\n",
       "                    Plotly.newPlot(\n",
       "                        '2a12bf82-0210-40c6-9613-3e1881d72d8b',\n",
       "                        [{\"marker\": {\"color\": \"#000044\"}, \"name\": \"A1 (1)\", \"type\": \"bar\", \"x\": [\"UFRN-D-4\", \"UFBA-C-CeR-4\", \"UNIFOR-CDC-3\", \"UNIVILLE-D-4\", \"UFRJ-PeP-4\", \"UFU-AeU-3\", \"UNB-D-3\", \"UFPE-E-3\", \"UFG-PEC-3\", \"UFAL-DDEH-3\", \"UERJ-D-4\", \"UFRGS-A-4\", \"UFRN-APEMA-4\", \"UFPR-D-4\", \"UFPEL-AEU-4\", \"UNIFATEA-DTEI-3\", \"UFBA-AEU-4\", \"UFSC-UHEADC-4\", \" FIAMFAAM-PPeGdEU-3\", \"UFV-AEU-4\", \"UFC-AEUED-3\", \"UNB-AEU-4\", \"UFJF-AC-4\", \"USJT-AEU-4\", \"UNIRITTER-AeU-4\", \"USP-AEU-4\", \"UNICAMP-ATeC-5\", \"UFF-AEU-4\", \"UFPE-D-4\", \"UFRN-AEU-4\", \"UNIRITTER-D-4\", \"UPM-AEU-6\", \"UFRJ-A-6\", \"UNESP-BAURU-AeU-4\", \"UFCG-D-3\", \"UFRJ-AP-4\", \"UFPA-AeU-4\", \"UFPB-JP-AEU-4\", \"PUCCAMP-AeU-5\", \"UFMG-AEU-6\", \"UFES-AEU-4\", \"UNISINOS-AeU-4\", \"IMED-AEU-3\", \"UFRJ-U-5\", \"UEL-AeU-4\", \"UDESC-D-4\", \"UFMA-D-3\", \"PUC-RIO-A-3\", \"UFSC-D-5\", \"UAM-D-5\", \"USP/SC-AEU-4\", \"UFSC-AEU-5\", \"UFRGS-D-5\", \"UNISINOS-D-5\", \"PUC-RIO-D-5\", \"UNESP-BAURU-D-6\", \"UEMG-D-5\"], \"y\": [0.0, 0.0, 0.0, 0.0, 0.0, 0.0, 0.0, 0.0, 0.0, 0.016129032258064516, 0.0, 0.0, 0.0, 0.0, 0.0, 0.0, 0.031914893617021274, 0.023809523809523808, 0.0, 0.038461538461538464, 0.0, 0.045454545454545456, 0.0, 0.0, 0.0, 0.024822695035460994, 0.029411764705882353, 0.05357142857142857, 0.0, 0.022727272727272728, 0.05, 0.0, 0.057692307692307696, 0.0, 0.1111111111111111, 0.11764705882352941, 0.029411764705882353, 0.05, 0.0, 0.03125, 0.0625, 0.07142857142857142, 0.05, 0.08620689655172414, 0.0, 0.03333333333333333, 0.047619047619047616, 0.09090909090909091, 0.0, 0.0, 0.05555555555555555, 0.21739130434782608, 0.15, 0.038461538461538464, 0.047619047619047616, 0.027777777777777776, 0.23333333333333334]}, {\"marker\": {\"color\": \"#000088\"}, \"name\": \"A2 (0.875)\", \"type\": \"bar\", \"x\": [\"UFRN-D-4\", \"UFBA-C-CeR-4\", \"UNIFOR-CDC-3\", \"UNIVILLE-D-4\", \"UFRJ-PeP-4\", \"UFU-AeU-3\", \"UNB-D-3\", \"UFPE-E-3\", \"UFG-PEC-3\", \"UFAL-DDEH-3\", \"UERJ-D-4\", \"UFRGS-A-4\", \"UFRN-APEMA-4\", \"UFPR-D-4\", \"UFPEL-AEU-4\", \"UNIFATEA-DTEI-3\", \"UFBA-AEU-4\", \"UFSC-UHEADC-4\", \" FIAMFAAM-PPeGdEU-3\", \"UFV-AEU-4\", \"UFC-AEUED-3\", \"UNB-AEU-4\", \"UFJF-AC-4\", \"USJT-AEU-4\", \"UNIRITTER-AeU-4\", \"USP-AEU-4\", \"UNICAMP-ATeC-5\", \"UFF-AEU-4\", \"UFPE-D-4\", \"UFRN-AEU-4\", \"UNIRITTER-D-4\", \"UPM-AEU-6\", \"UFRJ-A-6\", \"UNESP-BAURU-AeU-4\", \"UFCG-D-3\", \"UFRJ-AP-4\", \"UFPA-AeU-4\", \"UFPB-JP-AEU-4\", \"PUCCAMP-AeU-5\", \"UFMG-AEU-6\", \"UFES-AEU-4\", \"UNISINOS-AeU-4\", \"IMED-AEU-3\", \"UFRJ-U-5\", \"UEL-AeU-4\", \"UDESC-D-4\", \"UFMA-D-3\", \"PUC-RIO-A-3\", \"UFSC-D-5\", \"UAM-D-5\", \"USP/SC-AEU-4\", \"UFSC-AEU-5\", \"UFRGS-D-5\", \"UNISINOS-D-5\", \"PUC-RIO-D-5\", \"UNESP-BAURU-D-6\", \"UEMG-D-5\"], \"y\": [0.0, 0.0, 0.0, 0.0, 0.0, 0.0, 0.0, 0.0, 0.0, 0.0, 0.0, 0.0, 0.0, 0.0, 0.0, 0.0, 0.0, 0.0, 0.0, 0.0, 0.0, 0.009943181818181818, 0.0, 0.0, 0.0, 0.018617021276595744, 0.0, 0.0, 0.0, 0.0, 0.0, 0.0, 0.0, 0.0, 0.024305555555555556, 0.051470588235294115, 0.0, 0.04375, 0.0, 0.0, 0.08203125, 0.03125, 0.0, 0.03017241379310345, 0.10096153846153846, 0.029166666666666667, 0.041666666666666664, 0.1590909090909091, 0.0, 0.02734375, 0.024305555555555556, 0.009510869565217392, 0.04375, 0.0673076923076923, 0.125, 0.07291666666666667, 0.029166666666666667]}, {\"marker\": {\"color\": \"#0000CC\"}, \"name\": \"A3 (0.75)\", \"type\": \"bar\", \"x\": [\"UFRN-D-4\", \"UFBA-C-CeR-4\", \"UNIFOR-CDC-3\", \"UNIVILLE-D-4\", \"UFRJ-PeP-4\", \"UFU-AeU-3\", \"UNB-D-3\", \"UFPE-E-3\", \"UFG-PEC-3\", \"UFAL-DDEH-3\", \"UERJ-D-4\", \"UFRGS-A-4\", \"UFRN-APEMA-4\", \"UFPR-D-4\", \"UFPEL-AEU-4\", \"UNIFATEA-DTEI-3\", \"UFBA-AEU-4\", \"UFSC-UHEADC-4\", \" FIAMFAAM-PPeGdEU-3\", \"UFV-AEU-4\", \"UFC-AEUED-3\", \"UNB-AEU-4\", \"UFJF-AC-4\", \"USJT-AEU-4\", \"UNIRITTER-AeU-4\", \"USP-AEU-4\", \"UNICAMP-ATeC-5\", \"UFF-AEU-4\", \"UFPE-D-4\", \"UFRN-AEU-4\", \"UNIRITTER-D-4\", \"UPM-AEU-6\", \"UFRJ-A-6\", \"UNESP-BAURU-AeU-4\", \"UFCG-D-3\", \"UFRJ-AP-4\", \"UFPA-AeU-4\", \"UFPB-JP-AEU-4\", \"PUCCAMP-AeU-5\", \"UFMG-AEU-6\", \"UFES-AEU-4\", \"UNISINOS-AeU-4\", \"IMED-AEU-3\", \"UFRJ-U-5\", \"UEL-AeU-4\", \"UDESC-D-4\", \"UFMA-D-3\", \"PUC-RIO-A-3\", \"UFSC-D-5\", \"UAM-D-5\", \"USP/SC-AEU-4\", \"UFSC-AEU-5\", \"UFRGS-D-5\", \"UNISINOS-D-5\", \"PUC-RIO-D-5\", \"UNESP-BAURU-D-6\", \"UEMG-D-5\"], \"y\": [0.0, 0.0, 0.0, 0.0, 0.0, 0.0, 0.0, 0.0, 0.0, 0.0, 0.0, 0.03409090909090909, 0.0, 0.0, 0.0, 0.057692307692307696, 0.0, 0.0, 0.0, 0.0, 0.026785714285714284, 0.02556818181818182, 0.0375, 0.0625, 0.0, 0.018617021276595744, 0.03308823529411765, 0.026785714285714284, 0.0, 0.017045454545454544, 0.0375, 0.017857142857142856, 0.0, 0.0, 0.041666666666666664, 0.0, 0.04411764705882353, 0.01875, 0.08653846153846154, 0.05859375, 0.0, 0.026785714285714284, 0.1125, 0.0, 0.028846153846153848, 0.025, 0.017857142857142856, 0.0, 0.13392857142857142, 0.0, 0.07291666666666667, 0.024456521739130436, 0.075, 0.057692307692307696, 0.03571428571428571, 0.08333333333333333, 0.175]}, {\"marker\": {\"color\": \"#0000FF\"}, \"name\": \"A4 (0.625)\", \"type\": \"bar\", \"x\": [\"UFRN-D-4\", \"UFBA-C-CeR-4\", \"UNIFOR-CDC-3\", \"UNIVILLE-D-4\", \"UFRJ-PeP-4\", \"UFU-AeU-3\", \"UNB-D-3\", \"UFPE-E-3\", \"UFG-PEC-3\", \"UFAL-DDEH-3\", \"UERJ-D-4\", \"UFRGS-A-4\", \"UFRN-APEMA-4\", \"UFPR-D-4\", \"UFPEL-AEU-4\", \"UNIFATEA-DTEI-3\", \"UFBA-AEU-4\", \"UFSC-UHEADC-4\", \" FIAMFAAM-PPeGdEU-3\", \"UFV-AEU-4\", \"UFC-AEUED-3\", \"UNB-AEU-4\", \"UFJF-AC-4\", \"USJT-AEU-4\", \"UNIRITTER-AeU-4\", \"USP-AEU-4\", \"UNICAMP-ATeC-5\", \"UFF-AEU-4\", \"UFPE-D-4\", \"UFRN-AEU-4\", \"UNIRITTER-D-4\", \"UPM-AEU-6\", \"UFRJ-A-6\", \"UNESP-BAURU-AeU-4\", \"UFCG-D-3\", \"UFRJ-AP-4\", \"UFPA-AeU-4\", \"UFPB-JP-AEU-4\", \"PUCCAMP-AeU-5\", \"UFMG-AEU-6\", \"UFES-AEU-4\", \"UNISINOS-AeU-4\", \"IMED-AEU-3\", \"UFRJ-U-5\", \"UEL-AeU-4\", \"UDESC-D-4\", \"UFMA-D-3\", \"PUC-RIO-A-3\", \"UFSC-D-5\", \"UAM-D-5\", \"USP/SC-AEU-4\", \"UFSC-AEU-5\", \"UFRGS-D-5\", \"UNISINOS-D-5\", \"PUC-RIO-D-5\", \"UNESP-BAURU-D-6\", \"UEMG-D-5\"], \"y\": [0.0, 0.0, 0.0, 0.0, 0.0, 0.0, 0.0, 0.02403846153846154, 0.0, 0.010080645161290322, 0.015625, 0.0, 0.03289473684210526, 0.049342105263157895, 0.06009615384615385, 0.0, 0.05319148936170213, 0.01488095238095238, 0.08522727272727272, 0.0, 0.044642857142857144, 0.02130681818181818, 0.0625, 0.026041666666666668, 0.020833333333333332, 0.050975177304964536, 0.04595588235294118, 0.078125, 0.13020833333333334, 0.056818181818181816, 0.015625, 0.02976190476190476, 0.09615384615384616, 0.056818181818181816, 0.0, 0.01838235294117647, 0.03676470588235294, 0.03125, 0.04807692307692308, 0.05859375, 0.05859375, 0.022321428571428572, 0.03125, 0.05387931034482758, 0.07211538461538461, 0.020833333333333332, 0.1488095238095238, 0.0, 0.06696428571428571, 0.21484375, 0.10416666666666667, 0.04076086956521739, 0.020833333333333332, 0.02403846153846154, 0.2976190476190476, 0.24305555555555555, 0.125]}, {\"marker\": {\"color\": \"#003300\"}, \"name\": \"B1 (0.5)\", \"type\": \"bar\", \"x\": [\"UFRN-D-4\", \"UFBA-C-CeR-4\", \"UNIFOR-CDC-3\", \"UNIVILLE-D-4\", \"UFRJ-PeP-4\", \"UFU-AeU-3\", \"UNB-D-3\", \"UFPE-E-3\", \"UFG-PEC-3\", \"UFAL-DDEH-3\", \"UERJ-D-4\", \"UFRGS-A-4\", \"UFRN-APEMA-4\", \"UFPR-D-4\", \"UFPEL-AEU-4\", \"UNIFATEA-DTEI-3\", \"UFBA-AEU-4\", \"UFSC-UHEADC-4\", \" FIAMFAAM-PPeGdEU-3\", \"UFV-AEU-4\", \"UFC-AEUED-3\", \"UNB-AEU-4\", \"UFJF-AC-4\", \"USJT-AEU-4\", \"UNIRITTER-AeU-4\", \"USP-AEU-4\", \"UNICAMP-ATeC-5\", \"UFF-AEU-4\", \"UFPE-D-4\", \"UFRN-AEU-4\", \"UNIRITTER-D-4\", \"UPM-AEU-6\", \"UFRJ-A-6\", \"UNESP-BAURU-AeU-4\", \"UFCG-D-3\", \"UFRJ-AP-4\", \"UFPA-AeU-4\", \"UFPB-JP-AEU-4\", \"PUCCAMP-AeU-5\", \"UFMG-AEU-6\", \"UFES-AEU-4\", \"UNISINOS-AeU-4\", \"IMED-AEU-3\", \"UFRJ-U-5\", \"UEL-AeU-4\", \"UDESC-D-4\", \"UFMA-D-3\", \"PUC-RIO-A-3\", \"UFSC-D-5\", \"UAM-D-5\", \"USP/SC-AEU-4\", \"UFSC-AEU-5\", \"UFRGS-D-5\", \"UNISINOS-D-5\", \"PUC-RIO-D-5\", \"UNESP-BAURU-D-6\", \"UEMG-D-5\"], \"y\": [0.0, 0.0, 0.0, 0.0, 0.0, 0.0, 0.015625, 0.0, 0.016666666666666666, 0.016129032258064516, 0.0, 0.0, 0.02631578947368421, 0.0, 0.0, 0.019230769230769232, 0.0, 0.023809523809523808, 0.022727272727272728, 0.038461538461538464, 0.0, 0.005681818181818182, 0.0, 0.020833333333333332, 0.05, 0.010638297872340425, 0.014705882352941176, 0.0, 0.020833333333333332, 0.03409090909090909, 0.0375, 0.023809523809523808, 0.019230769230769232, 0.0, 0.013888888888888888, 0.0, 0.04411764705882353, 0.025, 0.038461538461538464, 0.0546875, 0.0, 0.0, 0.025, 0.02586206896551724, 0.038461538461538464, 0.06666666666666667, 0.023809523809523808, 0.022727272727272728, 0.03571428571428571, 0.0, 0.027777777777777776, 0.016304347826086956, 0.008333333333333333, 0.07692307692307693, 0.023809523809523808, 0.06944444444444445, 0.0]}, {\"marker\": {\"color\": \"#006600\"}, \"name\": \"B2 (0.2)\", \"type\": \"bar\", \"x\": [\"UFRN-D-4\", \"UFBA-C-CeR-4\", \"UNIFOR-CDC-3\", \"UNIVILLE-D-4\", \"UFRJ-PeP-4\", \"UFU-AeU-3\", \"UNB-D-3\", \"UFPE-E-3\", \"UFG-PEC-3\", \"UFAL-DDEH-3\", \"UERJ-D-4\", \"UFRGS-A-4\", \"UFRN-APEMA-4\", \"UFPR-D-4\", \"UFPEL-AEU-4\", \"UNIFATEA-DTEI-3\", \"UFBA-AEU-4\", \"UFSC-UHEADC-4\", \" FIAMFAAM-PPeGdEU-3\", \"UFV-AEU-4\", \"UFC-AEUED-3\", \"UNB-AEU-4\", \"UFJF-AC-4\", \"USJT-AEU-4\", \"UNIRITTER-AeU-4\", \"USP-AEU-4\", \"UNICAMP-ATeC-5\", \"UFF-AEU-4\", \"UFPE-D-4\", \"UFRN-AEU-4\", \"UNIRITTER-D-4\", \"UPM-AEU-6\", \"UFRJ-A-6\", \"UNESP-BAURU-AeU-4\", \"UFCG-D-3\", \"UFRJ-AP-4\", \"UFPA-AeU-4\", \"UFPB-JP-AEU-4\", \"PUCCAMP-AeU-5\", \"UFMG-AEU-6\", \"UFES-AEU-4\", \"UNISINOS-AeU-4\", \"IMED-AEU-3\", \"UFRJ-U-5\", \"UEL-AeU-4\", \"UDESC-D-4\", \"UFMA-D-3\", \"PUC-RIO-A-3\", \"UFSC-D-5\", \"UAM-D-5\", \"USP/SC-AEU-4\", \"UFSC-AEU-5\", \"UFRGS-D-5\", \"UNISINOS-D-5\", \"PUC-RIO-D-5\", \"UNESP-BAURU-D-6\", \"UEMG-D-5\"], \"y\": [0.0, 0.0, 0.005, 0.008333333333333333, 0.005263157894736842, 0.008333333333333333, 0.0, 0.0, 0.006666666666666667, 0.0, 0.01, 0.01363636363636364, 0.005263157894736842, 0.021052631578947368, 0.0038461538461538464, 0.007692307692307693, 0.00425531914893617, 0.03333333333333334, 0.0, 0.038461538461538464, 0.03571428571428571, 0.004545454545454546, 0.02, 0.0, 0.05333333333333334, 0.004964539007092199, 0.02058823529411765, 0.0, 0.0, 0.018181818181818184, 0.030000000000000006, 0.09047619047619049, 0.007692307692307693, 0.11818181818181818, 0.0, 0.011764705882352941, 0.047058823529411764, 0.025, 0.03076923076923077, 0.009375000000000001, 0.00625, 0.05, 0.01, 0.024137931034482762, 0.02307692307692308, 0.04000000000000001, 0.004761904761904762, 0.009090909090909092, 0.021428571428571432, 0.037500000000000006, 0.03333333333333334, 0.015217391304347827, 0.016666666666666666, 0.06153846153846154, 0.023809523809523808, 0.011111111111111112, 0.02666666666666667]}, {\"marker\": {\"color\": \"#009900\"}, \"name\": \"B3 (0.1)\", \"type\": \"bar\", \"x\": [\"UFRN-D-4\", \"UFBA-C-CeR-4\", \"UNIFOR-CDC-3\", \"UNIVILLE-D-4\", \"UFRJ-PeP-4\", \"UFU-AeU-3\", \"UNB-D-3\", \"UFPE-E-3\", \"UFG-PEC-3\", \"UFAL-DDEH-3\", \"UERJ-D-4\", \"UFRGS-A-4\", \"UFRN-APEMA-4\", \"UFPR-D-4\", \"UFPEL-AEU-4\", \"UNIFATEA-DTEI-3\", \"UFBA-AEU-4\", \"UFSC-UHEADC-4\", \" FIAMFAAM-PPeGdEU-3\", \"UFV-AEU-4\", \"UFC-AEUED-3\", \"UNB-AEU-4\", \"UFJF-AC-4\", \"USJT-AEU-4\", \"UNIRITTER-AeU-4\", \"USP-AEU-4\", \"UNICAMP-ATeC-5\", \"UFF-AEU-4\", \"UFPE-D-4\", \"UFRN-AEU-4\", \"UNIRITTER-D-4\", \"UPM-AEU-6\", \"UFRJ-A-6\", \"UNESP-BAURU-AeU-4\", \"UFCG-D-3\", \"UFRJ-AP-4\", \"UFPA-AeU-4\", \"UFPB-JP-AEU-4\", \"PUCCAMP-AeU-5\", \"UFMG-AEU-6\", \"UFES-AEU-4\", \"UNISINOS-AeU-4\", \"IMED-AEU-3\", \"UFRJ-U-5\", \"UEL-AeU-4\", \"UDESC-D-4\", \"UFMA-D-3\", \"PUC-RIO-A-3\", \"UFSC-D-5\", \"UAM-D-5\", \"USP/SC-AEU-4\", \"UFSC-AEU-5\", \"UFRGS-D-5\", \"UNISINOS-D-5\", \"PUC-RIO-D-5\", \"UNESP-BAURU-D-6\", \"UEMG-D-5\"], \"y\": [0.0, 0.001282051282051282, 0.0, 0.0, 0.005263157894736842, 0.004166666666666667, 0.003125, 0.0, 0.010000000000000002, 0.0032258064516129032, 0.0075000000000000015, 0.002272727272727273, 0.007894736842105265, 0.01578947368421053, 0.028846153846153848, 0.01153846153846154, 0.010638297872340425, 0.004761904761904762, 0.004545454545454546, 0.0, 0.010714285714285716, 0.007954545454545455, 0.01, 0.020833333333333332, 0.013333333333333334, 0.010283687943262412, 0.0014705882352941176, 0.0035714285714285718, 0.008333333333333333, 0.01363636363636364, 0.0125, 0.01904761904761905, 0.007692307692307693, 0.018181818181818184, 0.005555555555555556, 0.0, 0.008823529411764707, 0.0175, 0.01153846153846154, 0.009375000000000001, 0.009375000000000001, 0.028571428571428574, 0.005, 0.022413793103448276, 0.0, 0.030000000000000002, 0.0071428571428571435, 0.01363636363636364, 0.03214285714285715, 0.028125, 0.013888888888888888, 0.007608695652173913, 0.021666666666666667, 0.015384615384615385, 0.0071428571428571435, 0.052777777777777785, 0.013333333333333334]}, {\"marker\": {\"color\": \"#00CC00\"}, \"name\": \"B4 (0.05)\", \"type\": \"bar\", \"x\": [\"UFRN-D-4\", \"UFBA-C-CeR-4\", \"UNIFOR-CDC-3\", \"UNIVILLE-D-4\", \"UFRJ-PeP-4\", \"UFU-AeU-3\", \"UNB-D-3\", \"UFPE-E-3\", \"UFG-PEC-3\", \"UFAL-DDEH-3\", \"UERJ-D-4\", \"UFRGS-A-4\", \"UFRN-APEMA-4\", \"UFPR-D-4\", \"UFPEL-AEU-4\", \"UNIFATEA-DTEI-3\", \"UFBA-AEU-4\", \"UFSC-UHEADC-4\", \" FIAMFAAM-PPeGdEU-3\", \"UFV-AEU-4\", \"UFC-AEUED-3\", \"UNB-AEU-4\", \"UFJF-AC-4\", \"USJT-AEU-4\", \"UNIRITTER-AeU-4\", \"USP-AEU-4\", \"UNICAMP-ATeC-5\", \"UFF-AEU-4\", \"UFPE-D-4\", \"UFRN-AEU-4\", \"UNIRITTER-D-4\", \"UPM-AEU-6\", \"UFRJ-A-6\", \"UNESP-BAURU-AeU-4\", \"UFCG-D-3\", \"UFRJ-AP-4\", \"UFPA-AeU-4\", \"UFPB-JP-AEU-4\", \"PUCCAMP-AeU-5\", \"UFMG-AEU-6\", \"UFES-AEU-4\", \"UNISINOS-AeU-4\", \"IMED-AEU-3\", \"UFRJ-U-5\", \"UEL-AeU-4\", \"UDESC-D-4\", \"UFMA-D-3\", \"PUC-RIO-A-3\", \"UFSC-D-5\", \"UAM-D-5\", \"USP/SC-AEU-4\", \"UFSC-AEU-5\", \"UFRGS-D-5\", \"UNISINOS-D-5\", \"PUC-RIO-D-5\", \"UNESP-BAURU-D-6\", \"UEMG-D-5\"], \"y\": [0.0, 0.001282051282051282, 0.0, 0.0020833333333333333, 0.0, 0.0020833333333333333, 0.0, 0.0, 0.0, 0.0, 0.0125, 0.002272727272727273, 0.0, 0.007894736842105265, 0.002884615384615385, 0.0019230769230769232, 0.0010638297872340426, 0.0035714285714285718, 0.0, 0.0, 0.0017857142857142859, 0.0, 0.0, 0.0020833333333333333, 0.0, 0.001595744680851064, 0.0014705882352941176, 0.0008928571428571429, 0.004166666666666667, 0.0011363636363636365, 0.00125, 0.010714285714285714, 0.0038461538461538464, 0.0, 0.001388888888888889, 0.0, 0.0014705882352941176, 0.0025, 0.0019230769230769232, 0.0, 0.004687500000000001, 0.0017857142857142859, 0.0025, 0.001724137931034483, 0.0019230769230769232, 0.021666666666666667, 0.0035714285714285718, 0.0, 0.019642857142857146, 0.004687500000000001, 0.0006944444444444445, 0.005434782608695652, 0.004166666666666667, 0.007692307692307693, 0.004761904761904762, 0.008333333333333335, 0.006666666666666667]}, {\"marker\": {\"color\": \"#00FF00\"}, \"name\": \"B5 (0)\", \"type\": \"bar\", \"x\": [\"UFRN-D-4\", \"UFBA-C-CeR-4\", \"UNIFOR-CDC-3\", \"UNIVILLE-D-4\", \"UFRJ-PeP-4\", \"UFU-AeU-3\", \"UNB-D-3\", \"UFPE-E-3\", \"UFG-PEC-3\", \"UFAL-DDEH-3\", \"UERJ-D-4\", \"UFRGS-A-4\", \"UFRN-APEMA-4\", \"UFPR-D-4\", \"UFPEL-AEU-4\", \"UNIFATEA-DTEI-3\", \"UFBA-AEU-4\", \"UFSC-UHEADC-4\", \" FIAMFAAM-PPeGdEU-3\", \"UFV-AEU-4\", \"UFC-AEUED-3\", \"UNB-AEU-4\", \"UFJF-AC-4\", \"USJT-AEU-4\", \"UNIRITTER-AeU-4\", \"USP-AEU-4\", \"UNICAMP-ATeC-5\", \"UFF-AEU-4\", \"UFPE-D-4\", \"UFRN-AEU-4\", \"UNIRITTER-D-4\", \"UPM-AEU-6\", \"UFRJ-A-6\", \"UNESP-BAURU-AeU-4\", \"UFCG-D-3\", \"UFRJ-AP-4\", \"UFPA-AeU-4\", \"UFPB-JP-AEU-4\", \"PUCCAMP-AeU-5\", \"UFMG-AEU-6\", \"UFES-AEU-4\", \"UNISINOS-AeU-4\", \"IMED-AEU-3\", \"UFRJ-U-5\", \"UEL-AeU-4\", \"UDESC-D-4\", \"UFMA-D-3\", \"PUC-RIO-A-3\", \"UFSC-D-5\", \"UAM-D-5\", \"USP/SC-AEU-4\", \"UFSC-AEU-5\", \"UFRGS-D-5\", \"UNISINOS-D-5\", \"PUC-RIO-D-5\", \"UNESP-BAURU-D-6\", \"UEMG-D-5\"], \"y\": [0.0, 0.0, 0.0, 0.0, 0.0, 0.0, 0.0, 0.0, 0.0, 0.0, 0.0, 0.0, 0.0, 0.0, 0.0, 0.0, 0.0, 0.0, 0.0, 0.0, 0.0, 0.0, 0.0, 0.0, 0.0, 0.0, 0.0, 0.0, 0.0, 0.0, 0.0, 0.0, 0.0, 0.0, 0.0, 0.0, 0.0, 0.0, 0.0, 0.0, 0.0, 0.0, 0.0, 0.0, 0.0, 0.0, 0.0, 0.0, 0.0, 0.0, 0.0, 0.0, 0.0, 0.0, 0.0, 0.0, 0.0]}, {\"marker\": {\"color\": \"#880000\"}, \"name\": \"C (0)\", \"type\": \"bar\", \"x\": [\"UFRN-D-4\", \"UFBA-C-CeR-4\", \"UNIFOR-CDC-3\", \"UNIVILLE-D-4\", \"UFRJ-PeP-4\", \"UFU-AeU-3\", \"UNB-D-3\", \"UFPE-E-3\", \"UFG-PEC-3\", \"UFAL-DDEH-3\", \"UERJ-D-4\", \"UFRGS-A-4\", \"UFRN-APEMA-4\", \"UFPR-D-4\", \"UFPEL-AEU-4\", \"UNIFATEA-DTEI-3\", \"UFBA-AEU-4\", \"UFSC-UHEADC-4\", \" FIAMFAAM-PPeGdEU-3\", \"UFV-AEU-4\", \"UFC-AEUED-3\", \"UNB-AEU-4\", \"UFJF-AC-4\", \"USJT-AEU-4\", \"UNIRITTER-AeU-4\", \"USP-AEU-4\", \"UNICAMP-ATeC-5\", \"UFF-AEU-4\", \"UFPE-D-4\", \"UFRN-AEU-4\", \"UNIRITTER-D-4\", \"UPM-AEU-6\", \"UFRJ-A-6\", \"UNESP-BAURU-AeU-4\", \"UFCG-D-3\", \"UFRJ-AP-4\", \"UFPA-AeU-4\", \"UFPB-JP-AEU-4\", \"PUCCAMP-AeU-5\", \"UFMG-AEU-6\", \"UFES-AEU-4\", \"UNISINOS-AeU-4\", \"IMED-AEU-3\", \"UFRJ-U-5\", \"UEL-AeU-4\", \"UDESC-D-4\", \"UFMA-D-3\", \"PUC-RIO-A-3\", \"UFSC-D-5\", \"UAM-D-5\", \"USP/SC-AEU-4\", \"UFSC-AEU-5\", \"UFRGS-D-5\", \"UNISINOS-D-5\", \"PUC-RIO-D-5\", \"UNESP-BAURU-D-6\", \"UEMG-D-5\"], \"y\": [0.0, 0.0, 0.0, 0.0, 0.0, 0.0, 0.0, 0.0, 0.0, 0.0, 0.0, 0.0, 0.0, 0.0, 0.0, 0.0, 0.0, 0.0, 0.0, 0.0, 0.0, 0.0, 0.0, 0.0, 0.0, 0.0, 0.0, 0.0, 0.0, 0.0, 0.0, 0.0, 0.0, 0.0, 0.0, 0.0, 0.0, 0.0, 0.0, 0.0, 0.0, 0.0, 0.0, 0.0, 0.0, 0.0, 0.0, 0.0, 0.0, 0.0, 0.0, 0.0, 0.0, 0.0, 0.0, 0.0, 0.0]}, {\"marker\": {\"color\": \"#CC0000\"}, \"name\": \"NA (0)\", \"type\": \"bar\", \"x\": [\"UFRN-D-4\", \"UFBA-C-CeR-4\", \"UNIFOR-CDC-3\", \"UNIVILLE-D-4\", \"UFRJ-PeP-4\", \"UFU-AeU-3\", \"UNB-D-3\", \"UFPE-E-3\", \"UFG-PEC-3\", \"UFAL-DDEH-3\", \"UERJ-D-4\", \"UFRGS-A-4\", \"UFRN-APEMA-4\", \"UFPR-D-4\", \"UFPEL-AEU-4\", \"UNIFATEA-DTEI-3\", \"UFBA-AEU-4\", \"UFSC-UHEADC-4\", \" FIAMFAAM-PPeGdEU-3\", \"UFV-AEU-4\", \"UFC-AEUED-3\", \"UNB-AEU-4\", \"UFJF-AC-4\", \"USJT-AEU-4\", \"UNIRITTER-AeU-4\", \"USP-AEU-4\", \"UNICAMP-ATeC-5\", \"UFF-AEU-4\", \"UFPE-D-4\", \"UFRN-AEU-4\", \"UNIRITTER-D-4\", \"UPM-AEU-6\", \"UFRJ-A-6\", \"UNESP-BAURU-AeU-4\", \"UFCG-D-3\", \"UFRJ-AP-4\", \"UFPA-AeU-4\", \"UFPB-JP-AEU-4\", \"PUCCAMP-AeU-5\", \"UFMG-AEU-6\", \"UFES-AEU-4\", \"UNISINOS-AeU-4\", \"IMED-AEU-3\", \"UFRJ-U-5\", \"UEL-AeU-4\", \"UDESC-D-4\", \"UFMA-D-3\", \"PUC-RIO-A-3\", \"UFSC-D-5\", \"UAM-D-5\", \"USP/SC-AEU-4\", \"UFSC-AEU-5\", \"UFRGS-D-5\", \"UNISINOS-D-5\", \"PUC-RIO-D-5\", \"UNESP-BAURU-D-6\", \"UEMG-D-5\"], \"y\": [0.0, 0.0, 0.0, 0.0, 0.0, 0.0, 0.0, 0.0, 0.0, 0.0, 0.0, 0.0, 0.0, 0.0, 0.0, 0.0, 0.0, 0.0, 0.0, 0.0, 0.0, 0.0, 0.0, 0.0, 0.0, 0.0, 0.0, 0.0, 0.0, 0.0, 0.0, 0.0, 0.0, 0.0, 0.0, 0.0, 0.0, 0.0, 0.0, 0.0, 0.0, 0.0, 0.0, 0.0, 0.0, 0.0, 0.0, 0.0, 0.0, 0.0, 0.0, 0.0, 0.0, 0.0, 0.0, 0.0, 0.0]}, {\"marker\": {\"color\": \"#FF0000\"}, \"name\": \"NP (0)\", \"type\": \"bar\", \"x\": [\"UFRN-D-4\", \"UFBA-C-CeR-4\", \"UNIFOR-CDC-3\", \"UNIVILLE-D-4\", \"UFRJ-PeP-4\", \"UFU-AeU-3\", \"UNB-D-3\", \"UFPE-E-3\", \"UFG-PEC-3\", \"UFAL-DDEH-3\", \"UERJ-D-4\", \"UFRGS-A-4\", \"UFRN-APEMA-4\", \"UFPR-D-4\", \"UFPEL-AEU-4\", \"UNIFATEA-DTEI-3\", \"UFBA-AEU-4\", \"UFSC-UHEADC-4\", \" FIAMFAAM-PPeGdEU-3\", \"UFV-AEU-4\", \"UFC-AEUED-3\", \"UNB-AEU-4\", \"UFJF-AC-4\", \"USJT-AEU-4\", \"UNIRITTER-AeU-4\", \"USP-AEU-4\", \"UNICAMP-ATeC-5\", \"UFF-AEU-4\", \"UFPE-D-4\", \"UFRN-AEU-4\", \"UNIRITTER-D-4\", \"UPM-AEU-6\", \"UFRJ-A-6\", \"UNESP-BAURU-AeU-4\", \"UFCG-D-3\", \"UFRJ-AP-4\", \"UFPA-AeU-4\", \"UFPB-JP-AEU-4\", \"PUCCAMP-AeU-5\", \"UFMG-AEU-6\", \"UFES-AEU-4\", \"UNISINOS-AeU-4\", \"IMED-AEU-3\", \"UFRJ-U-5\", \"UEL-AeU-4\", \"UDESC-D-4\", \"UFMA-D-3\", \"PUC-RIO-A-3\", \"UFSC-D-5\", \"UAM-D-5\", \"USP/SC-AEU-4\", \"UFSC-AEU-5\", \"UFRGS-D-5\", \"UNISINOS-D-5\", \"PUC-RIO-D-5\", \"UNESP-BAURU-D-6\", \"UEMG-D-5\"], \"y\": [0.0, 0.0, 0.0, 0.0, 0.0, 0.0, 0.0, 0.0, 0.0, 0.0, 0.0, 0.0, 0.0, 0.0, 0.0, 0.0, 0.0, 0.0, 0.0, 0.0, 0.0, 0.0, 0.0, 0.0, 0.0, 0.0, 0.0, 0.0, 0.0, 0.0, 0.0, 0.0, 0.0, 0.0, 0.0, 0.0, 0.0, 0.0, 0.0, 0.0, 0.0, 0.0, 0.0, 0.0, 0.0, 0.0, 0.0, 0.0, 0.0, 0.0, 0.0, 0.0, 0.0, 0.0, 0.0, 0.0, 0.0]}],\n",
       "                        {\"barmode\": \"stack\", \"template\": {\"data\": {\"bar\": [{\"error_x\": {\"color\": \"#2a3f5f\"}, \"error_y\": {\"color\": \"#2a3f5f\"}, \"marker\": {\"line\": {\"color\": \"#E5ECF6\", \"width\": 0.5}}, \"type\": \"bar\"}], \"barpolar\": [{\"marker\": {\"line\": {\"color\": \"#E5ECF6\", \"width\": 0.5}}, \"type\": \"barpolar\"}], \"carpet\": [{\"aaxis\": {\"endlinecolor\": \"#2a3f5f\", \"gridcolor\": \"white\", \"linecolor\": \"white\", \"minorgridcolor\": \"white\", \"startlinecolor\": \"#2a3f5f\"}, \"baxis\": {\"endlinecolor\": \"#2a3f5f\", \"gridcolor\": \"white\", \"linecolor\": \"white\", \"minorgridcolor\": \"white\", \"startlinecolor\": \"#2a3f5f\"}, \"type\": \"carpet\"}], \"choropleth\": [{\"colorbar\": {\"outlinewidth\": 0, \"ticks\": \"\"}, \"type\": \"choropleth\"}], \"contour\": [{\"colorbar\": {\"outlinewidth\": 0, \"ticks\": \"\"}, \"colorscale\": [[0.0, \"#0d0887\"], [0.1111111111111111, \"#46039f\"], [0.2222222222222222, \"#7201a8\"], [0.3333333333333333, \"#9c179e\"], [0.4444444444444444, \"#bd3786\"], [0.5555555555555556, \"#d8576b\"], [0.6666666666666666, \"#ed7953\"], [0.7777777777777778, \"#fb9f3a\"], [0.8888888888888888, \"#fdca26\"], [1.0, \"#f0f921\"]], \"type\": \"contour\"}], \"contourcarpet\": [{\"colorbar\": {\"outlinewidth\": 0, \"ticks\": \"\"}, \"type\": \"contourcarpet\"}], \"heatmap\": [{\"colorbar\": {\"outlinewidth\": 0, \"ticks\": \"\"}, \"colorscale\": [[0.0, \"#0d0887\"], [0.1111111111111111, \"#46039f\"], [0.2222222222222222, \"#7201a8\"], [0.3333333333333333, \"#9c179e\"], [0.4444444444444444, \"#bd3786\"], [0.5555555555555556, \"#d8576b\"], [0.6666666666666666, \"#ed7953\"], [0.7777777777777778, \"#fb9f3a\"], [0.8888888888888888, \"#fdca26\"], [1.0, \"#f0f921\"]], \"type\": \"heatmap\"}], \"heatmapgl\": [{\"colorbar\": {\"outlinewidth\": 0, \"ticks\": \"\"}, \"colorscale\": [[0.0, \"#0d0887\"], [0.1111111111111111, \"#46039f\"], [0.2222222222222222, \"#7201a8\"], [0.3333333333333333, \"#9c179e\"], [0.4444444444444444, \"#bd3786\"], [0.5555555555555556, \"#d8576b\"], [0.6666666666666666, \"#ed7953\"], [0.7777777777777778, \"#fb9f3a\"], [0.8888888888888888, \"#fdca26\"], [1.0, \"#f0f921\"]], \"type\": \"heatmapgl\"}], \"histogram\": [{\"marker\": {\"colorbar\": {\"outlinewidth\": 0, \"ticks\": \"\"}}, \"type\": \"histogram\"}], \"histogram2d\": [{\"colorbar\": {\"outlinewidth\": 0, \"ticks\": \"\"}, \"colorscale\": [[0.0, \"#0d0887\"], [0.1111111111111111, \"#46039f\"], [0.2222222222222222, \"#7201a8\"], [0.3333333333333333, \"#9c179e\"], [0.4444444444444444, \"#bd3786\"], [0.5555555555555556, \"#d8576b\"], [0.6666666666666666, \"#ed7953\"], [0.7777777777777778, \"#fb9f3a\"], [0.8888888888888888, \"#fdca26\"], [1.0, \"#f0f921\"]], \"type\": \"histogram2d\"}], \"histogram2dcontour\": [{\"colorbar\": {\"outlinewidth\": 0, \"ticks\": \"\"}, \"colorscale\": [[0.0, \"#0d0887\"], [0.1111111111111111, \"#46039f\"], [0.2222222222222222, \"#7201a8\"], [0.3333333333333333, \"#9c179e\"], [0.4444444444444444, \"#bd3786\"], [0.5555555555555556, \"#d8576b\"], [0.6666666666666666, \"#ed7953\"], [0.7777777777777778, \"#fb9f3a\"], [0.8888888888888888, \"#fdca26\"], [1.0, \"#f0f921\"]], \"type\": \"histogram2dcontour\"}], \"mesh3d\": [{\"colorbar\": {\"outlinewidth\": 0, \"ticks\": \"\"}, \"type\": \"mesh3d\"}], \"parcoords\": [{\"line\": {\"colorbar\": {\"outlinewidth\": 0, \"ticks\": \"\"}}, \"type\": \"parcoords\"}], \"pie\": [{\"automargin\": true, \"type\": \"pie\"}], \"scatter\": [{\"marker\": {\"colorbar\": {\"outlinewidth\": 0, \"ticks\": \"\"}}, \"type\": \"scatter\"}], \"scatter3d\": [{\"line\": {\"colorbar\": {\"outlinewidth\": 0, \"ticks\": \"\"}}, \"marker\": {\"colorbar\": {\"outlinewidth\": 0, \"ticks\": \"\"}}, \"type\": \"scatter3d\"}], \"scattercarpet\": [{\"marker\": {\"colorbar\": {\"outlinewidth\": 0, \"ticks\": \"\"}}, \"type\": \"scattercarpet\"}], \"scattergeo\": [{\"marker\": {\"colorbar\": {\"outlinewidth\": 0, \"ticks\": \"\"}}, \"type\": \"scattergeo\"}], \"scattergl\": [{\"marker\": {\"colorbar\": {\"outlinewidth\": 0, \"ticks\": \"\"}}, \"type\": \"scattergl\"}], \"scattermapbox\": [{\"marker\": {\"colorbar\": {\"outlinewidth\": 0, \"ticks\": \"\"}}, \"type\": \"scattermapbox\"}], \"scatterpolar\": [{\"marker\": {\"colorbar\": {\"outlinewidth\": 0, \"ticks\": \"\"}}, \"type\": \"scatterpolar\"}], \"scatterpolargl\": [{\"marker\": {\"colorbar\": {\"outlinewidth\": 0, \"ticks\": \"\"}}, \"type\": \"scatterpolargl\"}], \"scatterternary\": [{\"marker\": {\"colorbar\": {\"outlinewidth\": 0, \"ticks\": \"\"}}, \"type\": \"scatterternary\"}], \"surface\": [{\"colorbar\": {\"outlinewidth\": 0, \"ticks\": \"\"}, \"colorscale\": [[0.0, \"#0d0887\"], [0.1111111111111111, \"#46039f\"], [0.2222222222222222, \"#7201a8\"], [0.3333333333333333, \"#9c179e\"], [0.4444444444444444, \"#bd3786\"], [0.5555555555555556, \"#d8576b\"], [0.6666666666666666, \"#ed7953\"], [0.7777777777777778, \"#fb9f3a\"], [0.8888888888888888, \"#fdca26\"], [1.0, \"#f0f921\"]], \"type\": \"surface\"}], \"table\": [{\"cells\": {\"fill\": {\"color\": \"#EBF0F8\"}, \"line\": {\"color\": \"white\"}}, \"header\": {\"fill\": {\"color\": \"#C8D4E3\"}, \"line\": {\"color\": \"white\"}}, \"type\": \"table\"}]}, \"layout\": {\"annotationdefaults\": {\"arrowcolor\": \"#2a3f5f\", \"arrowhead\": 0, \"arrowwidth\": 1}, \"coloraxis\": {\"colorbar\": {\"outlinewidth\": 0, \"ticks\": \"\"}}, \"colorscale\": {\"diverging\": [[0, \"#8e0152\"], [0.1, \"#c51b7d\"], [0.2, \"#de77ae\"], [0.3, \"#f1b6da\"], [0.4, \"#fde0ef\"], [0.5, \"#f7f7f7\"], [0.6, \"#e6f5d0\"], [0.7, \"#b8e186\"], [0.8, \"#7fbc41\"], [0.9, \"#4d9221\"], [1, \"#276419\"]], \"sequential\": [[0.0, \"#0d0887\"], [0.1111111111111111, \"#46039f\"], [0.2222222222222222, \"#7201a8\"], [0.3333333333333333, \"#9c179e\"], [0.4444444444444444, \"#bd3786\"], [0.5555555555555556, \"#d8576b\"], [0.6666666666666666, \"#ed7953\"], [0.7777777777777778, \"#fb9f3a\"], [0.8888888888888888, \"#fdca26\"], [1.0, \"#f0f921\"]], \"sequentialminus\": [[0.0, \"#0d0887\"], [0.1111111111111111, \"#46039f\"], [0.2222222222222222, \"#7201a8\"], [0.3333333333333333, \"#9c179e\"], [0.4444444444444444, \"#bd3786\"], [0.5555555555555556, \"#d8576b\"], [0.6666666666666666, \"#ed7953\"], [0.7777777777777778, \"#fb9f3a\"], [0.8888888888888888, \"#fdca26\"], [1.0, \"#f0f921\"]]}, \"colorway\": [\"#636efa\", \"#EF553B\", \"#00cc96\", \"#ab63fa\", \"#FFA15A\", \"#19d3f3\", \"#FF6692\", \"#B6E880\", \"#FF97FF\", \"#FECB52\"], \"font\": {\"color\": \"#2a3f5f\"}, \"geo\": {\"bgcolor\": \"white\", \"lakecolor\": \"white\", \"landcolor\": \"#E5ECF6\", \"showlakes\": true, \"showland\": true, \"subunitcolor\": \"white\"}, \"hoverlabel\": {\"align\": \"left\"}, \"hovermode\": \"closest\", \"mapbox\": {\"style\": \"light\"}, \"paper_bgcolor\": \"white\", \"plot_bgcolor\": \"#E5ECF6\", \"polar\": {\"angularaxis\": {\"gridcolor\": \"white\", \"linecolor\": \"white\", \"ticks\": \"\"}, \"bgcolor\": \"#E5ECF6\", \"radialaxis\": {\"gridcolor\": \"white\", \"linecolor\": \"white\", \"ticks\": \"\"}}, \"scene\": {\"xaxis\": {\"backgroundcolor\": \"#E5ECF6\", \"gridcolor\": \"white\", \"gridwidth\": 2, \"linecolor\": \"white\", \"showbackground\": true, \"ticks\": \"\", \"zerolinecolor\": \"white\"}, \"yaxis\": {\"backgroundcolor\": \"#E5ECF6\", \"gridcolor\": \"white\", \"gridwidth\": 2, \"linecolor\": \"white\", \"showbackground\": true, \"ticks\": \"\", \"zerolinecolor\": \"white\"}, \"zaxis\": {\"backgroundcolor\": \"#E5ECF6\", \"gridcolor\": \"white\", \"gridwidth\": 2, \"linecolor\": \"white\", \"showbackground\": true, \"ticks\": \"\", \"zerolinecolor\": \"white\"}}, \"shapedefaults\": {\"line\": {\"color\": \"#2a3f5f\"}}, \"ternary\": {\"aaxis\": {\"gridcolor\": \"white\", \"linecolor\": \"white\", \"ticks\": \"\"}, \"baxis\": {\"gridcolor\": \"white\", \"linecolor\": \"white\", \"ticks\": \"\"}, \"bgcolor\": \"#E5ECF6\", \"caxis\": {\"gridcolor\": \"white\", \"linecolor\": \"white\", \"ticks\": \"\"}}, \"title\": {\"x\": 0.05}, \"xaxis\": {\"automargin\": true, \"gridcolor\": \"white\", \"linecolor\": \"white\", \"ticks\": \"\", \"title\": {\"standoff\": 15}, \"zerolinecolor\": \"white\", \"zerolinewidth\": 2}, \"yaxis\": {\"automargin\": true, \"gridcolor\": \"white\", \"linecolor\": \"white\", \"ticks\": \"\", \"title\": {\"standoff\": 15}, \"zerolinecolor\": \"white\", \"zerolinewidth\": 2}}}, \"title\": {\"font\": {\"color\": \"#000000\", \"size\": 20}, \"text\": \"Peri\\u00f3dicos por Docentes (Permanentes + Colaboradores)2013,2014,2015,2016\", \"x\": 0.5, \"xanchor\": \"center\"}, \"xaxis\": {\"title\": {\"text\": \"Institui\\u00e7\\u00e3o\"}}},\n",
       "                        {\"responsive\": true}\n",
       "                    ).then(function(){\n",
       "                            \n",
       "var gd = document.getElementById('2a12bf82-0210-40c6-9613-3e1881d72d8b');\n",
       "var x = new MutationObserver(function (mutations, observer) {{\n",
       "        var display = window.getComputedStyle(gd).display;\n",
       "        if (!display || display === 'none') {{\n",
       "            console.log([gd, 'removed!']);\n",
       "            Plotly.purge(gd);\n",
       "            observer.disconnect();\n",
       "        }}\n",
       "}});\n",
       "\n",
       "// Listen for the removal of the full notebook cells\n",
       "var notebookContainer = gd.closest('#notebook-container');\n",
       "if (notebookContainer) {{\n",
       "    x.observe(notebookContainer, {childList: true});\n",
       "}}\n",
       "\n",
       "// Listen for the clearing of the current output cell\n",
       "var outputEl = gd.closest('.output');\n",
       "if (outputEl) {{\n",
       "    x.observe(outputEl, {childList: true});\n",
       "}}\n",
       "\n",
       "                        })\n",
       "                };\n",
       "                });\n",
       "            </script>\n",
       "        </div>"
      ]
     },
     "metadata": {},
     "output_type": "display_data"
    }
   ],
   "source": [
    "make_chart(periodicos_docente, 'Periódicos por Docentes (Permanentes + Colaboradores) - '+','.join(ANOS))"
   ]
  },
  {
   "cell_type": "code",
   "execution_count": 16,
   "metadata": {},
   "outputs": [
    {
     "data": {
      "application/vnd.plotly.v1+json": {
       "config": {
        "linkText": "Export to plot.ly",
        "plotlyServerURL": "https://plot.ly",
        "showLink": false
       },
       "data": [
        {
         "marker": {
          "color": "#000044"
         },
         "name": "A1 (1)",
         "type": "bar",
         "x": [
          "UFRN-D-4",
          "UFBA-C-CeR-4",
          "UNIFOR-CDC-3",
          "UNIVILLE-D-4",
          "UFRJ-PeP-4",
          "UFU-AeU-3",
          "UNB-D-3",
          "UFPE-E-3",
          "UFG-PEC-3",
          "UERJ-D-4",
          "UFAL-DDEH-3",
          "UFRGS-A-4",
          "UFRN-APEMA-4",
          " FIAMFAAM-PPeGdEU-3",
          "UNIFATEA-DTEI-3",
          "USJT-AEU-4",
          "UFPR-D-4",
          "UFJF-AC-4",
          "UFSC-UHEADC-4",
          "UFV-AEU-4",
          "UFC-AEUED-3",
          "UFBA-AEU-4",
          "UFPEL-AEU-4",
          "UNIRITTER-AeU-4",
          "USP-AEU-4",
          "UNB-AEU-4",
          "UFRN-AEU-4",
          "UNESP-BAURU-AeU-4",
          "PUCCAMP-AeU-5",
          "UNICAMP-ATeC-5",
          "UPM-AEU-6",
          "UFPE-D-4",
          "UFF-AEU-4",
          "IMED-AEU-3",
          "UFPA-AeU-4",
          "UFRJ-A-6",
          "UNISINOS-AeU-4",
          "UNIRITTER-D-4",
          "UFRJ-AP-4",
          "UFPB-JP-AEU-4",
          "UEL-AeU-4",
          "UFRJ-U-5",
          "PUC-RIO-A-3",
          "UFCG-D-3",
          "UFMG-AEU-6",
          "UDESC-D-4",
          "UFES-AEU-4",
          "UAM-D-5",
          "UFSC-D-5",
          "UFMA-D-3",
          "UNISINOS-D-5",
          "UFSC-AEU-5",
          "USP/SC-AEU-4",
          "UFRGS-D-5",
          "UNESP-BAURU-D-6",
          "PUC-RIO-D-5",
          "UEMG-D-5"
         ],
         "y": [
          0,
          0,
          0,
          0,
          0,
          0,
          0,
          0,
          0,
          0,
          0.05,
          0,
          0,
          0,
          0,
          0,
          0,
          0,
          0.06666666666666667,
          0.1,
          0,
          0.10344827586206896,
          0,
          0,
          0.06796116504854369,
          0.14545454545454545,
          0.05405405405405406,
          0,
          0,
          0.08888888888888889,
          0,
          0,
          0.15384615384615385,
          0.1,
          0.06666666666666667,
          0.15384615384615385,
          0.16,
          0.14285714285714285,
          0.3333333333333333,
          0.13333333333333333,
          0,
          0.20408163265306123,
          0.18181818181818182,
          0.3333333333333333,
          0.08888888888888889,
          0.08695652173913043,
          0.2,
          0,
          0,
          0.13793103448275862,
          0.09523809523809523,
          0.5797101449275363,
          0.1702127659574468,
          0.46153846153846156,
          0.06060606060606061,
          0.1111111111111111,
          0.5384615384615384
         ]
        },
        {
         "marker": {
          "color": "#000088"
         },
         "name": "A2 (0.875)",
         "type": "bar",
         "x": [
          "UFRN-D-4",
          "UFBA-C-CeR-4",
          "UNIFOR-CDC-3",
          "UNIVILLE-D-4",
          "UFRJ-PeP-4",
          "UFU-AeU-3",
          "UNB-D-3",
          "UFPE-E-3",
          "UFG-PEC-3",
          "UERJ-D-4",
          "UFAL-DDEH-3",
          "UFRGS-A-4",
          "UFRN-APEMA-4",
          " FIAMFAAM-PPeGdEU-3",
          "UNIFATEA-DTEI-3",
          "USJT-AEU-4",
          "UFPR-D-4",
          "UFJF-AC-4",
          "UFSC-UHEADC-4",
          "UFV-AEU-4",
          "UFC-AEUED-3",
          "UFBA-AEU-4",
          "UFPEL-AEU-4",
          "UNIRITTER-AeU-4",
          "USP-AEU-4",
          "UNB-AEU-4",
          "UFRN-AEU-4",
          "UNESP-BAURU-AeU-4",
          "PUCCAMP-AeU-5",
          "UNICAMP-ATeC-5",
          "UPM-AEU-6",
          "UFPE-D-4",
          "UFF-AEU-4",
          "IMED-AEU-3",
          "UFPA-AeU-4",
          "UFRJ-A-6",
          "UNISINOS-AeU-4",
          "UNIRITTER-D-4",
          "UFRJ-AP-4",
          "UFPB-JP-AEU-4",
          "UEL-AeU-4",
          "UFRJ-U-5",
          "PUC-RIO-A-3",
          "UFCG-D-3",
          "UFMG-AEU-6",
          "UDESC-D-4",
          "UFES-AEU-4",
          "UAM-D-5",
          "UFSC-D-5",
          "UFMA-D-3",
          "UNISINOS-D-5",
          "UFSC-AEU-5",
          "USP/SC-AEU-4",
          "UFRGS-D-5",
          "UNESP-BAURU-D-6",
          "PUC-RIO-D-5",
          "UEMG-D-5"
         ],
         "y": [
          0,
          0,
          0,
          0,
          0,
          0,
          0,
          0,
          0,
          0,
          0,
          0,
          0,
          0,
          0,
          0,
          0,
          0,
          0,
          0,
          0,
          0,
          0,
          0,
          0.050970873786407765,
          0.031818181818181815,
          0,
          0,
          0,
          0,
          0,
          0,
          0,
          0,
          0,
          0,
          0.07,
          0,
          0.14583333333333334,
          0.11666666666666667,
          0.21875,
          0.07142857142857142,
          0.3181818181818182,
          0.07291666666666667,
          0,
          0.07608695652173914,
          0.2625,
          0.0673076923076923,
          0,
          0.1206896551724138,
          0.16666666666666666,
          0.025362318840579712,
          0.07446808510638298,
          0.1346153846153846,
          0.1590909090909091,
          0.2916666666666667,
          0.0673076923076923
         ]
        },
        {
         "marker": {
          "color": "#0000CC"
         },
         "name": "A3 (0.75)",
         "type": "bar",
         "x": [
          "UFRN-D-4",
          "UFBA-C-CeR-4",
          "UNIFOR-CDC-3",
          "UNIVILLE-D-4",
          "UFRJ-PeP-4",
          "UFU-AeU-3",
          "UNB-D-3",
          "UFPE-E-3",
          "UFG-PEC-3",
          "UERJ-D-4",
          "UFAL-DDEH-3",
          "UFRGS-A-4",
          "UFRN-APEMA-4",
          " FIAMFAAM-PPeGdEU-3",
          "UNIFATEA-DTEI-3",
          "USJT-AEU-4",
          "UFPR-D-4",
          "UFJF-AC-4",
          "UFSC-UHEADC-4",
          "UFV-AEU-4",
          "UFC-AEUED-3",
          "UFBA-AEU-4",
          "UFPEL-AEU-4",
          "UNIRITTER-AeU-4",
          "USP-AEU-4",
          "UNB-AEU-4",
          "UFRN-AEU-4",
          "UNESP-BAURU-AeU-4",
          "PUCCAMP-AeU-5",
          "UNICAMP-ATeC-5",
          "UPM-AEU-6",
          "UFPE-D-4",
          "UFF-AEU-4",
          "IMED-AEU-3",
          "UFPA-AeU-4",
          "UFRJ-A-6",
          "UNISINOS-AeU-4",
          "UNIRITTER-D-4",
          "UFRJ-AP-4",
          "UFPB-JP-AEU-4",
          "UEL-AeU-4",
          "UFRJ-U-5",
          "PUC-RIO-A-3",
          "UFCG-D-3",
          "UFMG-AEU-6",
          "UDESC-D-4",
          "UFES-AEU-4",
          "UAM-D-5",
          "UFSC-D-5",
          "UFMA-D-3",
          "UNISINOS-D-5",
          "UFSC-AEU-5",
          "USP/SC-AEU-4",
          "UFRGS-D-5",
          "UNESP-BAURU-D-6",
          "PUC-RIO-D-5",
          "UEMG-D-5"
         ],
         "y": [
          0,
          0,
          0,
          0,
          0,
          0,
          0,
          0,
          0,
          0,
          0,
          0.09375,
          0,
          0,
          0.15,
          0.125,
          0,
          0.07894736842105263,
          0,
          0,
          0.06818181818181818,
          0,
          0,
          0,
          0.050970873786407765,
          0.08181818181818182,
          0.04054054054054054,
          0,
          0.17307692307692307,
          0.1,
          0.04285714285714286,
          0,
          0.07692307692307693,
          0.225,
          0.1,
          0,
          0.06,
          0.10714285714285714,
          0,
          0.05,
          0.0625,
          0,
          0,
          0.125,
          0.16666666666666666,
          0.06521739130434782,
          0,
          0,
          0.3409090909090909,
          0.05172413793103448,
          0.14285714285714285,
          0.06521739130434782,
          0.22340425531914893,
          0.23076923076923078,
          0.18181818181818182,
          0.08333333333333333,
          0.40384615384615385
         ]
        },
        {
         "marker": {
          "color": "#0000FF"
         },
         "name": "A4 (0.625)",
         "type": "bar",
         "x": [
          "UFRN-D-4",
          "UFBA-C-CeR-4",
          "UNIFOR-CDC-3",
          "UNIVILLE-D-4",
          "UFRJ-PeP-4",
          "UFU-AeU-3",
          "UNB-D-3",
          "UFPE-E-3",
          "UFG-PEC-3",
          "UERJ-D-4",
          "UFAL-DDEH-3",
          "UFRGS-A-4",
          "UFRN-APEMA-4",
          " FIAMFAAM-PPeGdEU-3",
          "UNIFATEA-DTEI-3",
          "USJT-AEU-4",
          "UFPR-D-4",
          "UFJF-AC-4",
          "UFSC-UHEADC-4",
          "UFV-AEU-4",
          "UFC-AEUED-3",
          "UFBA-AEU-4",
          "UFPEL-AEU-4",
          "UNIRITTER-AeU-4",
          "USP-AEU-4",
          "UNB-AEU-4",
          "UFRN-AEU-4",
          "UNESP-BAURU-AeU-4",
          "PUCCAMP-AeU-5",
          "UNICAMP-ATeC-5",
          "UPM-AEU-6",
          "UFPE-D-4",
          "UFF-AEU-4",
          "IMED-AEU-3",
          "UFPA-AeU-4",
          "UFRJ-A-6",
          "UNISINOS-AeU-4",
          "UNIRITTER-D-4",
          "UFRJ-AP-4",
          "UFPB-JP-AEU-4",
          "UEL-AeU-4",
          "UFRJ-U-5",
          "PUC-RIO-A-3",
          "UFCG-D-3",
          "UFMG-AEU-6",
          "UDESC-D-4",
          "UFES-AEU-4",
          "UAM-D-5",
          "UFSC-D-5",
          "UFMA-D-3",
          "UNISINOS-D-5",
          "UFSC-AEU-5",
          "USP/SC-AEU-4",
          "UFRGS-D-5",
          "UNESP-BAURU-D-6",
          "PUC-RIO-D-5",
          "UEMG-D-5"
         ],
         "y": [
          0,
          0,
          0,
          0,
          0,
          0,
          0,
          0.07352941176470588,
          0,
          0.04807692307692308,
          0.03125,
          0,
          0.08620689655172414,
          0.17045454545454544,
          0,
          0.052083333333333336,
          0.1388888888888889,
          0.13157894736842105,
          0.041666666666666664,
          0,
          0.11363636363636363,
          0.1724137931034483,
          0.20833333333333334,
          0.052083333333333336,
          0.1395631067961165,
          0.06818181818181818,
          0.13513513513513514,
          0.125,
          0.09615384615384616,
          0.1388888888888889,
          0.07142857142857142,
          0.36764705882352944,
          0.22435897435897437,
          0.0625,
          0.08333333333333333,
          0.2564102564102564,
          0.05,
          0.044642857142857144,
          0.052083333333333336,
          0.08333333333333333,
          0.15625,
          0.12755102040816327,
          0,
          0,
          0.16666666666666666,
          0.05434782608695652,
          0.1875,
          0.5288461538461539,
          0.17045454545454544,
          0.43103448275862066,
          0.05952380952380952,
          0.10869565217391304,
          0.3191489361702128,
          0.0641025641025641,
          0.5303030303030303,
          0.6944444444444444,
          0.28846153846153844
         ]
        },
        {
         "marker": {
          "color": "#003300"
         },
         "name": "B1 (0.5)",
         "type": "bar",
         "x": [
          "UFRN-D-4",
          "UFBA-C-CeR-4",
          "UNIFOR-CDC-3",
          "UNIVILLE-D-4",
          "UFRJ-PeP-4",
          "UFU-AeU-3",
          "UNB-D-3",
          "UFPE-E-3",
          "UFG-PEC-3",
          "UERJ-D-4",
          "UFAL-DDEH-3",
          "UFRGS-A-4",
          "UFRN-APEMA-4",
          " FIAMFAAM-PPeGdEU-3",
          "UNIFATEA-DTEI-3",
          "USJT-AEU-4",
          "UFPR-D-4",
          "UFJF-AC-4",
          "UFSC-UHEADC-4",
          "UFV-AEU-4",
          "UFC-AEUED-3",
          "UFBA-AEU-4",
          "UFPEL-AEU-4",
          "UNIRITTER-AeU-4",
          "USP-AEU-4",
          "UNB-AEU-4",
          "UFRN-AEU-4",
          "UNESP-BAURU-AeU-4",
          "PUCCAMP-AeU-5",
          "UNICAMP-ATeC-5",
          "UPM-AEU-6",
          "UFPE-D-4",
          "UFF-AEU-4",
          "IMED-AEU-3",
          "UFPA-AeU-4",
          "UFRJ-A-6",
          "UNISINOS-AeU-4",
          "UNIRITTER-D-4",
          "UFRJ-AP-4",
          "UFPB-JP-AEU-4",
          "UEL-AeU-4",
          "UFRJ-U-5",
          "PUC-RIO-A-3",
          "UFCG-D-3",
          "UFMG-AEU-6",
          "UDESC-D-4",
          "UFES-AEU-4",
          "UAM-D-5",
          "UFSC-D-5",
          "UFMA-D-3",
          "UNISINOS-D-5",
          "UFSC-AEU-5",
          "USP/SC-AEU-4",
          "UFRGS-D-5",
          "UNESP-BAURU-D-6",
          "PUC-RIO-D-5",
          "UEMG-D-5"
         ],
         "y": [
          0,
          0,
          0,
          0,
          0,
          0,
          0.04,
          0,
          0.04,
          0,
          0.05,
          0,
          0.06896551724137931,
          0.045454545454545456,
          0.05,
          0.041666666666666664,
          0,
          0,
          0.06666666666666667,
          0.1,
          0,
          0,
          0,
          0.125,
          0.02912621359223301,
          0.01818181818181818,
          0.08108108108108109,
          0,
          0.07692307692307693,
          0.044444444444444446,
          0.05714285714285714,
          0.058823529411764705,
          0,
          0.05,
          0.1,
          0.05128205128205128,
          0,
          0.10714285714285714,
          0,
          0.06666666666666667,
          0.08333333333333333,
          0.061224489795918366,
          0.045454545454545456,
          0.041666666666666664,
          0.15555555555555556,
          0.17391304347826086,
          0,
          0,
          0.09090909090909091,
          0.06896551724137931,
          0.19047619047619047,
          0.043478260869565216,
          0.0851063829787234,
          0.02564102564102564,
          0.15151515151515152,
          0.05555555555555555,
          0
         ]
        },
        {
         "marker": {
          "color": "#006600"
         },
         "name": "B2 (0.2)",
         "type": "bar",
         "x": [
          "UFRN-D-4",
          "UFBA-C-CeR-4",
          "UNIFOR-CDC-3",
          "UNIVILLE-D-4",
          "UFRJ-PeP-4",
          "UFU-AeU-3",
          "UNB-D-3",
          "UFPE-E-3",
          "UFG-PEC-3",
          "UERJ-D-4",
          "UFAL-DDEH-3",
          "UFRGS-A-4",
          "UFRN-APEMA-4",
          " FIAMFAAM-PPeGdEU-3",
          "UNIFATEA-DTEI-3",
          "USJT-AEU-4",
          "UFPR-D-4",
          "UFJF-AC-4",
          "UFSC-UHEADC-4",
          "UFV-AEU-4",
          "UFC-AEUED-3",
          "UFBA-AEU-4",
          "UFPEL-AEU-4",
          "UNIRITTER-AeU-4",
          "USP-AEU-4",
          "UNB-AEU-4",
          "UFRN-AEU-4",
          "UNESP-BAURU-AeU-4",
          "PUCCAMP-AeU-5",
          "UNICAMP-ATeC-5",
          "UPM-AEU-6",
          "UFPE-D-4",
          "UFF-AEU-4",
          "IMED-AEU-3",
          "UFPA-AeU-4",
          "UFRJ-A-6",
          "UNISINOS-AeU-4",
          "UNIRITTER-D-4",
          "UFRJ-AP-4",
          "UFPB-JP-AEU-4",
          "UEL-AeU-4",
          "UFRJ-U-5",
          "PUC-RIO-A-3",
          "UFCG-D-3",
          "UFMG-AEU-6",
          "UDESC-D-4",
          "UFES-AEU-4",
          "UAM-D-5",
          "UFSC-D-5",
          "UFMA-D-3",
          "UNISINOS-D-5",
          "UFSC-AEU-5",
          "USP/SC-AEU-4",
          "UFRGS-D-5",
          "UNESP-BAURU-D-6",
          "PUC-RIO-D-5",
          "UEMG-D-5"
         ],
         "y": [
          0,
          0,
          0.011428571428571429,
          0.01904761904761905,
          0.014814814814814815,
          0.02,
          0,
          0,
          0.016,
          0.03076923076923077,
          0,
          0.037500000000000006,
          0.013793103448275864,
          0,
          0.02,
          0,
          0.05925925925925926,
          0.042105263157894736,
          0.09333333333333334,
          0.1,
          0.09090909090909091,
          0.013793103448275864,
          0.013333333333333334,
          0.13333333333333333,
          0.01359223300970874,
          0.014545454545454545,
          0.043243243243243246,
          0.26,
          0.06153846153846154,
          0.06222222222222223,
          0.21714285714285717,
          0,
          0,
          0.02,
          0.10666666666666667,
          0.020512820512820513,
          0.11200000000000002,
          0.08571428571428573,
          0.03333333333333333,
          0.06666666666666667,
          0.05000000000000001,
          0.05714285714285715,
          0.018181818181818184,
          0,
          0.026666666666666672,
          0.10434782608695654,
          0.02,
          0.09230769230769233,
          0.05454545454545456,
          0.013793103448275864,
          0.1523809523809524,
          0.04057971014492754,
          0.1021276595744681,
          0.05128205128205128,
          0.024242424242424242,
          0.05555555555555555,
          0.06153846153846154
         ]
        },
        {
         "marker": {
          "color": "#009900"
         },
         "name": "B3 (0.1)",
         "type": "bar",
         "x": [
          "UFRN-D-4",
          "UFBA-C-CeR-4",
          "UNIFOR-CDC-3",
          "UNIVILLE-D-4",
          "UFRJ-PeP-4",
          "UFU-AeU-3",
          "UNB-D-3",
          "UFPE-E-3",
          "UFG-PEC-3",
          "UERJ-D-4",
          "UFAL-DDEH-3",
          "UFRGS-A-4",
          "UFRN-APEMA-4",
          " FIAMFAAM-PPeGdEU-3",
          "UNIFATEA-DTEI-3",
          "USJT-AEU-4",
          "UFPR-D-4",
          "UFJF-AC-4",
          "UFSC-UHEADC-4",
          "UFV-AEU-4",
          "UFC-AEUED-3",
          "UFBA-AEU-4",
          "UFPEL-AEU-4",
          "UNIRITTER-AeU-4",
          "USP-AEU-4",
          "UNB-AEU-4",
          "UFRN-AEU-4",
          "UNESP-BAURU-AeU-4",
          "PUCCAMP-AeU-5",
          "UNICAMP-ATeC-5",
          "UPM-AEU-6",
          "UFPE-D-4",
          "UFF-AEU-4",
          "IMED-AEU-3",
          "UFPA-AeU-4",
          "UFRJ-A-6",
          "UNISINOS-AeU-4",
          "UNIRITTER-D-4",
          "UFRJ-AP-4",
          "UFPB-JP-AEU-4",
          "UEL-AeU-4",
          "UFRJ-U-5",
          "PUC-RIO-A-3",
          "UFCG-D-3",
          "UFMG-AEU-6",
          "UDESC-D-4",
          "UFES-AEU-4",
          "UAM-D-5",
          "UFSC-D-5",
          "UFMA-D-3",
          "UNISINOS-D-5",
          "UFSC-AEU-5",
          "USP/SC-AEU-4",
          "UFRGS-D-5",
          "UNESP-BAURU-D-6",
          "PUC-RIO-D-5",
          "UEMG-D-5"
         ],
         "y": [
          0,
          0.004,
          0,
          0,
          0.014814814814814815,
          0.01,
          0.008,
          0,
          0.024000000000000004,
          0.02307692307692308,
          0.01,
          0.00625,
          0.020689655172413796,
          0.009090909090909092,
          0.030000000000000006,
          0.041666666666666664,
          0.04444444444444445,
          0.021052631578947368,
          0.013333333333333334,
          0,
          0.02727272727272728,
          0.034482758620689655,
          0.1,
          0.03333333333333333,
          0.028155339805825245,
          0.025454545454545455,
          0.032432432432432434,
          0.04,
          0.02307692307692308,
          0.0044444444444444444,
          0.045714285714285714,
          0.023529411764705882,
          0.010256410256410256,
          0.01,
          0.020000000000000004,
          0.020512820512820513,
          0.064,
          0.03571428571428571,
          0,
          0.04666666666666667,
          0,
          0.05306122448979592,
          0.02727272727272728,
          0.016666666666666666,
          0.026666666666666672,
          0.0782608695652174,
          0.030000000000000006,
          0.06923076923076923,
          0.08181818181818182,
          0.020689655172413796,
          0.0380952380952381,
          0.02028985507246377,
          0.0425531914893617,
          0.06666666666666667,
          0.11515151515151516,
          0.01666666666666667,
          0.03076923076923077
         ]
        },
        {
         "marker": {
          "color": "#00CC00"
         },
         "name": "B4 (0.05)",
         "type": "bar",
         "x": [
          "UFRN-D-4",
          "UFBA-C-CeR-4",
          "UNIFOR-CDC-3",
          "UNIVILLE-D-4",
          "UFRJ-PeP-4",
          "UFU-AeU-3",
          "UNB-D-3",
          "UFPE-E-3",
          "UFG-PEC-3",
          "UERJ-D-4",
          "UFAL-DDEH-3",
          "UFRGS-A-4",
          "UFRN-APEMA-4",
          " FIAMFAAM-PPeGdEU-3",
          "UNIFATEA-DTEI-3",
          "USJT-AEU-4",
          "UFPR-D-4",
          "UFJF-AC-4",
          "UFSC-UHEADC-4",
          "UFV-AEU-4",
          "UFC-AEUED-3",
          "UFBA-AEU-4",
          "UFPEL-AEU-4",
          "UNIRITTER-AeU-4",
          "USP-AEU-4",
          "UNB-AEU-4",
          "UFRN-AEU-4",
          "UNESP-BAURU-AeU-4",
          "PUCCAMP-AeU-5",
          "UNICAMP-ATeC-5",
          "UPM-AEU-6",
          "UFPE-D-4",
          "UFF-AEU-4",
          "IMED-AEU-3",
          "UFPA-AeU-4",
          "UFRJ-A-6",
          "UNISINOS-AeU-4",
          "UNIRITTER-D-4",
          "UFRJ-AP-4",
          "UFPB-JP-AEU-4",
          "UEL-AeU-4",
          "UFRJ-U-5",
          "PUC-RIO-A-3",
          "UFCG-D-3",
          "UFMG-AEU-6",
          "UDESC-D-4",
          "UFES-AEU-4",
          "UAM-D-5",
          "UFSC-D-5",
          "UFMA-D-3",
          "UNISINOS-D-5",
          "UFSC-AEU-5",
          "USP/SC-AEU-4",
          "UFRGS-D-5",
          "UNESP-BAURU-D-6",
          "PUC-RIO-D-5",
          "UEMG-D-5"
         ],
         "y": [
          0,
          0.004,
          0,
          0.004761904761904762,
          0,
          0.005,
          0,
          0,
          0,
          0.038461538461538464,
          0,
          0.00625,
          0,
          0,
          0.005,
          0.004166666666666667,
          0.022222222222222227,
          0,
          0.010000000000000002,
          0,
          0.004545454545454546,
          0.003448275862068966,
          0.010000000000000002,
          0,
          0.004368932038834952,
          0,
          0.002702702702702703,
          0,
          0.0038461538461538464,
          0.0044444444444444444,
          0.025714285714285714,
          0.011764705882352941,
          0.002564102564102564,
          0.005,
          0.0033333333333333335,
          0.010256410256410256,
          0.004,
          0.0035714285714285718,
          0,
          0.006666666666666667,
          0.004166666666666667,
          0.004081632653061225,
          0,
          0.004166666666666667,
          0,
          0.05652173913043478,
          0.015000000000000003,
          0.01153846153846154,
          0.05,
          0.010344827586206898,
          0.01904761904761905,
          0.014492753623188406,
          0.002127659574468085,
          0.01282051282051282,
          0.018181818181818184,
          0.011111111111111112,
          0.015384615384615385
         ]
        },
        {
         "marker": {
          "color": "#00FF00"
         },
         "name": "B5 (0)",
         "type": "bar",
         "x": [
          "UFRN-D-4",
          "UFBA-C-CeR-4",
          "UNIFOR-CDC-3",
          "UNIVILLE-D-4",
          "UFRJ-PeP-4",
          "UFU-AeU-3",
          "UNB-D-3",
          "UFPE-E-3",
          "UFG-PEC-3",
          "UERJ-D-4",
          "UFAL-DDEH-3",
          "UFRGS-A-4",
          "UFRN-APEMA-4",
          " FIAMFAAM-PPeGdEU-3",
          "UNIFATEA-DTEI-3",
          "USJT-AEU-4",
          "UFPR-D-4",
          "UFJF-AC-4",
          "UFSC-UHEADC-4",
          "UFV-AEU-4",
          "UFC-AEUED-3",
          "UFBA-AEU-4",
          "UFPEL-AEU-4",
          "UNIRITTER-AeU-4",
          "USP-AEU-4",
          "UNB-AEU-4",
          "UFRN-AEU-4",
          "UNESP-BAURU-AeU-4",
          "PUCCAMP-AeU-5",
          "UNICAMP-ATeC-5",
          "UPM-AEU-6",
          "UFPE-D-4",
          "UFF-AEU-4",
          "IMED-AEU-3",
          "UFPA-AeU-4",
          "UFRJ-A-6",
          "UNISINOS-AeU-4",
          "UNIRITTER-D-4",
          "UFRJ-AP-4",
          "UFPB-JP-AEU-4",
          "UEL-AeU-4",
          "UFRJ-U-5",
          "PUC-RIO-A-3",
          "UFCG-D-3",
          "UFMG-AEU-6",
          "UDESC-D-4",
          "UFES-AEU-4",
          "UAM-D-5",
          "UFSC-D-5",
          "UFMA-D-3",
          "UNISINOS-D-5",
          "UFSC-AEU-5",
          "USP/SC-AEU-4",
          "UFRGS-D-5",
          "UNESP-BAURU-D-6",
          "PUC-RIO-D-5",
          "UEMG-D-5"
         ],
         "y": [
          0,
          0,
          0,
          0,
          0,
          0,
          0,
          0,
          0,
          0,
          0,
          0,
          0,
          0,
          0,
          0,
          0,
          0,
          0,
          0,
          0,
          0,
          0,
          0,
          0,
          0,
          0,
          0,
          0,
          0,
          0,
          0,
          0,
          0,
          0,
          0,
          0,
          0,
          0,
          0,
          0,
          0,
          0,
          0,
          0,
          0,
          0,
          0,
          0,
          0,
          0,
          0,
          0,
          0,
          0,
          0,
          0
         ]
        },
        {
         "marker": {
          "color": "#880000"
         },
         "name": "C (0)",
         "type": "bar",
         "x": [
          "UFRN-D-4",
          "UFBA-C-CeR-4",
          "UNIFOR-CDC-3",
          "UNIVILLE-D-4",
          "UFRJ-PeP-4",
          "UFU-AeU-3",
          "UNB-D-3",
          "UFPE-E-3",
          "UFG-PEC-3",
          "UERJ-D-4",
          "UFAL-DDEH-3",
          "UFRGS-A-4",
          "UFRN-APEMA-4",
          " FIAMFAAM-PPeGdEU-3",
          "UNIFATEA-DTEI-3",
          "USJT-AEU-4",
          "UFPR-D-4",
          "UFJF-AC-4",
          "UFSC-UHEADC-4",
          "UFV-AEU-4",
          "UFC-AEUED-3",
          "UFBA-AEU-4",
          "UFPEL-AEU-4",
          "UNIRITTER-AeU-4",
          "USP-AEU-4",
          "UNB-AEU-4",
          "UFRN-AEU-4",
          "UNESP-BAURU-AeU-4",
          "PUCCAMP-AeU-5",
          "UNICAMP-ATeC-5",
          "UPM-AEU-6",
          "UFPE-D-4",
          "UFF-AEU-4",
          "IMED-AEU-3",
          "UFPA-AeU-4",
          "UFRJ-A-6",
          "UNISINOS-AeU-4",
          "UNIRITTER-D-4",
          "UFRJ-AP-4",
          "UFPB-JP-AEU-4",
          "UEL-AeU-4",
          "UFRJ-U-5",
          "PUC-RIO-A-3",
          "UFCG-D-3",
          "UFMG-AEU-6",
          "UDESC-D-4",
          "UFES-AEU-4",
          "UAM-D-5",
          "UFSC-D-5",
          "UFMA-D-3",
          "UNISINOS-D-5",
          "UFSC-AEU-5",
          "USP/SC-AEU-4",
          "UFRGS-D-5",
          "UNESP-BAURU-D-6",
          "PUC-RIO-D-5",
          "UEMG-D-5"
         ],
         "y": [
          0,
          0,
          0,
          0,
          0,
          0,
          0,
          0,
          0,
          0,
          0,
          0,
          0,
          0,
          0,
          0,
          0,
          0,
          0,
          0,
          0,
          0,
          0,
          0,
          0,
          0,
          0,
          0,
          0,
          0,
          0,
          0,
          0,
          0,
          0,
          0,
          0,
          0,
          0,
          0,
          0,
          0,
          0,
          0,
          0,
          0,
          0,
          0,
          0,
          0,
          0,
          0,
          0,
          0,
          0,
          0,
          0
         ]
        },
        {
         "marker": {
          "color": "#CC0000"
         },
         "name": "NA (0)",
         "type": "bar",
         "x": [
          "UFRN-D-4",
          "UFBA-C-CeR-4",
          "UNIFOR-CDC-3",
          "UNIVILLE-D-4",
          "UFRJ-PeP-4",
          "UFU-AeU-3",
          "UNB-D-3",
          "UFPE-E-3",
          "UFG-PEC-3",
          "UERJ-D-4",
          "UFAL-DDEH-3",
          "UFRGS-A-4",
          "UFRN-APEMA-4",
          " FIAMFAAM-PPeGdEU-3",
          "UNIFATEA-DTEI-3",
          "USJT-AEU-4",
          "UFPR-D-4",
          "UFJF-AC-4",
          "UFSC-UHEADC-4",
          "UFV-AEU-4",
          "UFC-AEUED-3",
          "UFBA-AEU-4",
          "UFPEL-AEU-4",
          "UNIRITTER-AeU-4",
          "USP-AEU-4",
          "UNB-AEU-4",
          "UFRN-AEU-4",
          "UNESP-BAURU-AeU-4",
          "PUCCAMP-AeU-5",
          "UNICAMP-ATeC-5",
          "UPM-AEU-6",
          "UFPE-D-4",
          "UFF-AEU-4",
          "IMED-AEU-3",
          "UFPA-AeU-4",
          "UFRJ-A-6",
          "UNISINOS-AeU-4",
          "UNIRITTER-D-4",
          "UFRJ-AP-4",
          "UFPB-JP-AEU-4",
          "UEL-AeU-4",
          "UFRJ-U-5",
          "PUC-RIO-A-3",
          "UFCG-D-3",
          "UFMG-AEU-6",
          "UDESC-D-4",
          "UFES-AEU-4",
          "UAM-D-5",
          "UFSC-D-5",
          "UFMA-D-3",
          "UNISINOS-D-5",
          "UFSC-AEU-5",
          "USP/SC-AEU-4",
          "UFRGS-D-5",
          "UNESP-BAURU-D-6",
          "PUC-RIO-D-5",
          "UEMG-D-5"
         ],
         "y": [
          0,
          0,
          0,
          0,
          0,
          0,
          0,
          0,
          0,
          0,
          0,
          0,
          0,
          0,
          0,
          0,
          0,
          0,
          0,
          0,
          0,
          0,
          0,
          0,
          0,
          0,
          0,
          0,
          0,
          0,
          0,
          0,
          0,
          0,
          0,
          0,
          0,
          0,
          0,
          0,
          0,
          0,
          0,
          0,
          0,
          0,
          0,
          0,
          0,
          0,
          0,
          0,
          0,
          0,
          0,
          0,
          0
         ]
        },
        {
         "marker": {
          "color": "#FF0000"
         },
         "name": "NP (0)",
         "type": "bar",
         "x": [
          "UFRN-D-4",
          "UFBA-C-CeR-4",
          "UNIFOR-CDC-3",
          "UNIVILLE-D-4",
          "UFRJ-PeP-4",
          "UFU-AeU-3",
          "UNB-D-3",
          "UFPE-E-3",
          "UFG-PEC-3",
          "UERJ-D-4",
          "UFAL-DDEH-3",
          "UFRGS-A-4",
          "UFRN-APEMA-4",
          " FIAMFAAM-PPeGdEU-3",
          "UNIFATEA-DTEI-3",
          "USJT-AEU-4",
          "UFPR-D-4",
          "UFJF-AC-4",
          "UFSC-UHEADC-4",
          "UFV-AEU-4",
          "UFC-AEUED-3",
          "UFBA-AEU-4",
          "UFPEL-AEU-4",
          "UNIRITTER-AeU-4",
          "USP-AEU-4",
          "UNB-AEU-4",
          "UFRN-AEU-4",
          "UNESP-BAURU-AeU-4",
          "PUCCAMP-AeU-5",
          "UNICAMP-ATeC-5",
          "UPM-AEU-6",
          "UFPE-D-4",
          "UFF-AEU-4",
          "IMED-AEU-3",
          "UFPA-AeU-4",
          "UFRJ-A-6",
          "UNISINOS-AeU-4",
          "UNIRITTER-D-4",
          "UFRJ-AP-4",
          "UFPB-JP-AEU-4",
          "UEL-AeU-4",
          "UFRJ-U-5",
          "PUC-RIO-A-3",
          "UFCG-D-3",
          "UFMG-AEU-6",
          "UDESC-D-4",
          "UFES-AEU-4",
          "UAM-D-5",
          "UFSC-D-5",
          "UFMA-D-3",
          "UNISINOS-D-5",
          "UFSC-AEU-5",
          "USP/SC-AEU-4",
          "UFRGS-D-5",
          "UNESP-BAURU-D-6",
          "PUC-RIO-D-5",
          "UEMG-D-5"
         ],
         "y": [
          0,
          0,
          0,
          0,
          0,
          0,
          0,
          0,
          0,
          0,
          0,
          0,
          0,
          0,
          0,
          0,
          0,
          0,
          0,
          0,
          0,
          0,
          0,
          0,
          0,
          0,
          0,
          0,
          0,
          0,
          0,
          0,
          0,
          0,
          0,
          0,
          0,
          0,
          0,
          0,
          0,
          0,
          0,
          0,
          0,
          0,
          0,
          0,
          0,
          0,
          0,
          0,
          0,
          0,
          0,
          0,
          0
         ]
        }
       ],
       "layout": {
        "barmode": "stack",
        "template": {
         "data": {
          "bar": [
           {
            "error_x": {
             "color": "#2a3f5f"
            },
            "error_y": {
             "color": "#2a3f5f"
            },
            "marker": {
             "line": {
              "color": "#E5ECF6",
              "width": 0.5
             }
            },
            "type": "bar"
           }
          ],
          "barpolar": [
           {
            "marker": {
             "line": {
              "color": "#E5ECF6",
              "width": 0.5
             }
            },
            "type": "barpolar"
           }
          ],
          "carpet": [
           {
            "aaxis": {
             "endlinecolor": "#2a3f5f",
             "gridcolor": "white",
             "linecolor": "white",
             "minorgridcolor": "white",
             "startlinecolor": "#2a3f5f"
            },
            "baxis": {
             "endlinecolor": "#2a3f5f",
             "gridcolor": "white",
             "linecolor": "white",
             "minorgridcolor": "white",
             "startlinecolor": "#2a3f5f"
            },
            "type": "carpet"
           }
          ],
          "choropleth": [
           {
            "colorbar": {
             "outlinewidth": 0,
             "ticks": ""
            },
            "type": "choropleth"
           }
          ],
          "contour": [
           {
            "colorbar": {
             "outlinewidth": 0,
             "ticks": ""
            },
            "colorscale": [
             [
              0,
              "#0d0887"
             ],
             [
              0.1111111111111111,
              "#46039f"
             ],
             [
              0.2222222222222222,
              "#7201a8"
             ],
             [
              0.3333333333333333,
              "#9c179e"
             ],
             [
              0.4444444444444444,
              "#bd3786"
             ],
             [
              0.5555555555555556,
              "#d8576b"
             ],
             [
              0.6666666666666666,
              "#ed7953"
             ],
             [
              0.7777777777777778,
              "#fb9f3a"
             ],
             [
              0.8888888888888888,
              "#fdca26"
             ],
             [
              1,
              "#f0f921"
             ]
            ],
            "type": "contour"
           }
          ],
          "contourcarpet": [
           {
            "colorbar": {
             "outlinewidth": 0,
             "ticks": ""
            },
            "type": "contourcarpet"
           }
          ],
          "heatmap": [
           {
            "colorbar": {
             "outlinewidth": 0,
             "ticks": ""
            },
            "colorscale": [
             [
              0,
              "#0d0887"
             ],
             [
              0.1111111111111111,
              "#46039f"
             ],
             [
              0.2222222222222222,
              "#7201a8"
             ],
             [
              0.3333333333333333,
              "#9c179e"
             ],
             [
              0.4444444444444444,
              "#bd3786"
             ],
             [
              0.5555555555555556,
              "#d8576b"
             ],
             [
              0.6666666666666666,
              "#ed7953"
             ],
             [
              0.7777777777777778,
              "#fb9f3a"
             ],
             [
              0.8888888888888888,
              "#fdca26"
             ],
             [
              1,
              "#f0f921"
             ]
            ],
            "type": "heatmap"
           }
          ],
          "heatmapgl": [
           {
            "colorbar": {
             "outlinewidth": 0,
             "ticks": ""
            },
            "colorscale": [
             [
              0,
              "#0d0887"
             ],
             [
              0.1111111111111111,
              "#46039f"
             ],
             [
              0.2222222222222222,
              "#7201a8"
             ],
             [
              0.3333333333333333,
              "#9c179e"
             ],
             [
              0.4444444444444444,
              "#bd3786"
             ],
             [
              0.5555555555555556,
              "#d8576b"
             ],
             [
              0.6666666666666666,
              "#ed7953"
             ],
             [
              0.7777777777777778,
              "#fb9f3a"
             ],
             [
              0.8888888888888888,
              "#fdca26"
             ],
             [
              1,
              "#f0f921"
             ]
            ],
            "type": "heatmapgl"
           }
          ],
          "histogram": [
           {
            "marker": {
             "colorbar": {
              "outlinewidth": 0,
              "ticks": ""
             }
            },
            "type": "histogram"
           }
          ],
          "histogram2d": [
           {
            "colorbar": {
             "outlinewidth": 0,
             "ticks": ""
            },
            "colorscale": [
             [
              0,
              "#0d0887"
             ],
             [
              0.1111111111111111,
              "#46039f"
             ],
             [
              0.2222222222222222,
              "#7201a8"
             ],
             [
              0.3333333333333333,
              "#9c179e"
             ],
             [
              0.4444444444444444,
              "#bd3786"
             ],
             [
              0.5555555555555556,
              "#d8576b"
             ],
             [
              0.6666666666666666,
              "#ed7953"
             ],
             [
              0.7777777777777778,
              "#fb9f3a"
             ],
             [
              0.8888888888888888,
              "#fdca26"
             ],
             [
              1,
              "#f0f921"
             ]
            ],
            "type": "histogram2d"
           }
          ],
          "histogram2dcontour": [
           {
            "colorbar": {
             "outlinewidth": 0,
             "ticks": ""
            },
            "colorscale": [
             [
              0,
              "#0d0887"
             ],
             [
              0.1111111111111111,
              "#46039f"
             ],
             [
              0.2222222222222222,
              "#7201a8"
             ],
             [
              0.3333333333333333,
              "#9c179e"
             ],
             [
              0.4444444444444444,
              "#bd3786"
             ],
             [
              0.5555555555555556,
              "#d8576b"
             ],
             [
              0.6666666666666666,
              "#ed7953"
             ],
             [
              0.7777777777777778,
              "#fb9f3a"
             ],
             [
              0.8888888888888888,
              "#fdca26"
             ],
             [
              1,
              "#f0f921"
             ]
            ],
            "type": "histogram2dcontour"
           }
          ],
          "mesh3d": [
           {
            "colorbar": {
             "outlinewidth": 0,
             "ticks": ""
            },
            "type": "mesh3d"
           }
          ],
          "parcoords": [
           {
            "line": {
             "colorbar": {
              "outlinewidth": 0,
              "ticks": ""
             }
            },
            "type": "parcoords"
           }
          ],
          "pie": [
           {
            "automargin": true,
            "type": "pie"
           }
          ],
          "scatter": [
           {
            "marker": {
             "colorbar": {
              "outlinewidth": 0,
              "ticks": ""
             }
            },
            "type": "scatter"
           }
          ],
          "scatter3d": [
           {
            "line": {
             "colorbar": {
              "outlinewidth": 0,
              "ticks": ""
             }
            },
            "marker": {
             "colorbar": {
              "outlinewidth": 0,
              "ticks": ""
             }
            },
            "type": "scatter3d"
           }
          ],
          "scattercarpet": [
           {
            "marker": {
             "colorbar": {
              "outlinewidth": 0,
              "ticks": ""
             }
            },
            "type": "scattercarpet"
           }
          ],
          "scattergeo": [
           {
            "marker": {
             "colorbar": {
              "outlinewidth": 0,
              "ticks": ""
             }
            },
            "type": "scattergeo"
           }
          ],
          "scattergl": [
           {
            "marker": {
             "colorbar": {
              "outlinewidth": 0,
              "ticks": ""
             }
            },
            "type": "scattergl"
           }
          ],
          "scattermapbox": [
           {
            "marker": {
             "colorbar": {
              "outlinewidth": 0,
              "ticks": ""
             }
            },
            "type": "scattermapbox"
           }
          ],
          "scatterpolar": [
           {
            "marker": {
             "colorbar": {
              "outlinewidth": 0,
              "ticks": ""
             }
            },
            "type": "scatterpolar"
           }
          ],
          "scatterpolargl": [
           {
            "marker": {
             "colorbar": {
              "outlinewidth": 0,
              "ticks": ""
             }
            },
            "type": "scatterpolargl"
           }
          ],
          "scatterternary": [
           {
            "marker": {
             "colorbar": {
              "outlinewidth": 0,
              "ticks": ""
             }
            },
            "type": "scatterternary"
           }
          ],
          "surface": [
           {
            "colorbar": {
             "outlinewidth": 0,
             "ticks": ""
            },
            "colorscale": [
             [
              0,
              "#0d0887"
             ],
             [
              0.1111111111111111,
              "#46039f"
             ],
             [
              0.2222222222222222,
              "#7201a8"
             ],
             [
              0.3333333333333333,
              "#9c179e"
             ],
             [
              0.4444444444444444,
              "#bd3786"
             ],
             [
              0.5555555555555556,
              "#d8576b"
             ],
             [
              0.6666666666666666,
              "#ed7953"
             ],
             [
              0.7777777777777778,
              "#fb9f3a"
             ],
             [
              0.8888888888888888,
              "#fdca26"
             ],
             [
              1,
              "#f0f921"
             ]
            ],
            "type": "surface"
           }
          ],
          "table": [
           {
            "cells": {
             "fill": {
              "color": "#EBF0F8"
             },
             "line": {
              "color": "white"
             }
            },
            "header": {
             "fill": {
              "color": "#C8D4E3"
             },
             "line": {
              "color": "white"
             }
            },
            "type": "table"
           }
          ]
         },
         "layout": {
          "annotationdefaults": {
           "arrowcolor": "#2a3f5f",
           "arrowhead": 0,
           "arrowwidth": 1
          },
          "coloraxis": {
           "colorbar": {
            "outlinewidth": 0,
            "ticks": ""
           }
          },
          "colorscale": {
           "diverging": [
            [
             0,
             "#8e0152"
            ],
            [
             0.1,
             "#c51b7d"
            ],
            [
             0.2,
             "#de77ae"
            ],
            [
             0.3,
             "#f1b6da"
            ],
            [
             0.4,
             "#fde0ef"
            ],
            [
             0.5,
             "#f7f7f7"
            ],
            [
             0.6,
             "#e6f5d0"
            ],
            [
             0.7,
             "#b8e186"
            ],
            [
             0.8,
             "#7fbc41"
            ],
            [
             0.9,
             "#4d9221"
            ],
            [
             1,
             "#276419"
            ]
           ],
           "sequential": [
            [
             0,
             "#0d0887"
            ],
            [
             0.1111111111111111,
             "#46039f"
            ],
            [
             0.2222222222222222,
             "#7201a8"
            ],
            [
             0.3333333333333333,
             "#9c179e"
            ],
            [
             0.4444444444444444,
             "#bd3786"
            ],
            [
             0.5555555555555556,
             "#d8576b"
            ],
            [
             0.6666666666666666,
             "#ed7953"
            ],
            [
             0.7777777777777778,
             "#fb9f3a"
            ],
            [
             0.8888888888888888,
             "#fdca26"
            ],
            [
             1,
             "#f0f921"
            ]
           ],
           "sequentialminus": [
            [
             0,
             "#0d0887"
            ],
            [
             0.1111111111111111,
             "#46039f"
            ],
            [
             0.2222222222222222,
             "#7201a8"
            ],
            [
             0.3333333333333333,
             "#9c179e"
            ],
            [
             0.4444444444444444,
             "#bd3786"
            ],
            [
             0.5555555555555556,
             "#d8576b"
            ],
            [
             0.6666666666666666,
             "#ed7953"
            ],
            [
             0.7777777777777778,
             "#fb9f3a"
            ],
            [
             0.8888888888888888,
             "#fdca26"
            ],
            [
             1,
             "#f0f921"
            ]
           ]
          },
          "colorway": [
           "#636efa",
           "#EF553B",
           "#00cc96",
           "#ab63fa",
           "#FFA15A",
           "#19d3f3",
           "#FF6692",
           "#B6E880",
           "#FF97FF",
           "#FECB52"
          ],
          "font": {
           "color": "#2a3f5f"
          },
          "geo": {
           "bgcolor": "white",
           "lakecolor": "white",
           "landcolor": "#E5ECF6",
           "showlakes": true,
           "showland": true,
           "subunitcolor": "white"
          },
          "hoverlabel": {
           "align": "left"
          },
          "hovermode": "closest",
          "mapbox": {
           "style": "light"
          },
          "paper_bgcolor": "white",
          "plot_bgcolor": "#E5ECF6",
          "polar": {
           "angularaxis": {
            "gridcolor": "white",
            "linecolor": "white",
            "ticks": ""
           },
           "bgcolor": "#E5ECF6",
           "radialaxis": {
            "gridcolor": "white",
            "linecolor": "white",
            "ticks": ""
           }
          },
          "scene": {
           "xaxis": {
            "backgroundcolor": "#E5ECF6",
            "gridcolor": "white",
            "gridwidth": 2,
            "linecolor": "white",
            "showbackground": true,
            "ticks": "",
            "zerolinecolor": "white"
           },
           "yaxis": {
            "backgroundcolor": "#E5ECF6",
            "gridcolor": "white",
            "gridwidth": 2,
            "linecolor": "white",
            "showbackground": true,
            "ticks": "",
            "zerolinecolor": "white"
           },
           "zaxis": {
            "backgroundcolor": "#E5ECF6",
            "gridcolor": "white",
            "gridwidth": 2,
            "linecolor": "white",
            "showbackground": true,
            "ticks": "",
            "zerolinecolor": "white"
           }
          },
          "shapedefaults": {
           "line": {
            "color": "#2a3f5f"
           }
          },
          "ternary": {
           "aaxis": {
            "gridcolor": "white",
            "linecolor": "white",
            "ticks": ""
           },
           "baxis": {
            "gridcolor": "white",
            "linecolor": "white",
            "ticks": ""
           },
           "bgcolor": "#E5ECF6",
           "caxis": {
            "gridcolor": "white",
            "linecolor": "white",
            "ticks": ""
           }
          },
          "title": {
           "x": 0.05
          },
          "xaxis": {
           "automargin": true,
           "gridcolor": "white",
           "linecolor": "white",
           "ticks": "",
           "title": {
            "standoff": 15
           },
           "zerolinecolor": "white",
           "zerolinewidth": 2
          },
          "yaxis": {
           "automargin": true,
           "gridcolor": "white",
           "linecolor": "white",
           "ticks": "",
           "title": {
            "standoff": 15
           },
           "zerolinecolor": "white",
           "zerolinewidth": 2
          }
         }
        },
        "title": {
         "font": {
          "color": "#000000",
          "size": 20
         },
         "text": "Periódicos por Docentes Permanentes - 2013,2014,2015,2016",
         "x": 0.5,
         "xanchor": "center"
        },
        "xaxis": {
         "title": {
          "text": "Instituição"
         }
        }
       }
      },
      "text/html": [
       "<div>\n",
       "        \n",
       "        \n",
       "            <div id=\"ee1f55dc-91cc-48b5-a052-3f52fd9b37b6\" class=\"plotly-graph-div\" style=\"height:525px; width:100%;\"></div>\n",
       "            <script type=\"text/javascript\">\n",
       "                require([\"plotly\"], function(Plotly) {\n",
       "                    window.PLOTLYENV=window.PLOTLYENV || {};\n",
       "                    \n",
       "                if (document.getElementById(\"ee1f55dc-91cc-48b5-a052-3f52fd9b37b6\")) {\n",
       "                    Plotly.newPlot(\n",
       "                        'ee1f55dc-91cc-48b5-a052-3f52fd9b37b6',\n",
       "                        [{\"marker\": {\"color\": \"#000044\"}, \"name\": \"A1 (1)\", \"type\": \"bar\", \"x\": [\"UFRN-D-4\", \"UFBA-C-CeR-4\", \"UNIFOR-CDC-3\", \"UNIVILLE-D-4\", \"UFRJ-PeP-4\", \"UFU-AeU-3\", \"UNB-D-3\", \"UFPE-E-3\", \"UFG-PEC-3\", \"UERJ-D-4\", \"UFAL-DDEH-3\", \"UFRGS-A-4\", \"UFRN-APEMA-4\", \" FIAMFAAM-PPeGdEU-3\", \"UNIFATEA-DTEI-3\", \"USJT-AEU-4\", \"UFPR-D-4\", \"UFJF-AC-4\", \"UFSC-UHEADC-4\", \"UFV-AEU-4\", \"UFC-AEUED-3\", \"UFBA-AEU-4\", \"UFPEL-AEU-4\", \"UNIRITTER-AeU-4\", \"USP-AEU-4\", \"UNB-AEU-4\", \"UFRN-AEU-4\", \"UNESP-BAURU-AeU-4\", \"PUCCAMP-AeU-5\", \"UNICAMP-ATeC-5\", \"UPM-AEU-6\", \"UFPE-D-4\", \"UFF-AEU-4\", \"IMED-AEU-3\", \"UFPA-AeU-4\", \"UFRJ-A-6\", \"UNISINOS-AeU-4\", \"UNIRITTER-D-4\", \"UFRJ-AP-4\", \"UFPB-JP-AEU-4\", \"UEL-AeU-4\", \"UFRJ-U-5\", \"PUC-RIO-A-3\", \"UFCG-D-3\", \"UFMG-AEU-6\", \"UDESC-D-4\", \"UFES-AEU-4\", \"UAM-D-5\", \"UFSC-D-5\", \"UFMA-D-3\", \"UNISINOS-D-5\", \"UFSC-AEU-5\", \"USP/SC-AEU-4\", \"UFRGS-D-5\", \"UNESP-BAURU-D-6\", \"PUC-RIO-D-5\", \"UEMG-D-5\"], \"y\": [0.0, 0.0, 0.0, 0.0, 0.0, 0.0, 0.0, 0.0, 0.0, 0.0, 0.05, 0.0, 0.0, 0.0, 0.0, 0.0, 0.0, 0.0, 0.06666666666666667, 0.1, 0.0, 0.10344827586206896, 0.0, 0.0, 0.06796116504854369, 0.14545454545454545, 0.05405405405405406, 0.0, 0.0, 0.08888888888888889, 0.0, 0.0, 0.15384615384615385, 0.1, 0.06666666666666667, 0.15384615384615385, 0.16, 0.14285714285714285, 0.3333333333333333, 0.13333333333333333, 0.0, 0.20408163265306123, 0.18181818181818182, 0.3333333333333333, 0.08888888888888889, 0.08695652173913043, 0.2, 0.0, 0.0, 0.13793103448275862, 0.09523809523809523, 0.5797101449275363, 0.1702127659574468, 0.46153846153846156, 0.06060606060606061, 0.1111111111111111, 0.5384615384615384]}, {\"marker\": {\"color\": \"#000088\"}, \"name\": \"A2 (0.875)\", \"type\": \"bar\", \"x\": [\"UFRN-D-4\", \"UFBA-C-CeR-4\", \"UNIFOR-CDC-3\", \"UNIVILLE-D-4\", \"UFRJ-PeP-4\", \"UFU-AeU-3\", \"UNB-D-3\", \"UFPE-E-3\", \"UFG-PEC-3\", \"UERJ-D-4\", \"UFAL-DDEH-3\", \"UFRGS-A-4\", \"UFRN-APEMA-4\", \" FIAMFAAM-PPeGdEU-3\", \"UNIFATEA-DTEI-3\", \"USJT-AEU-4\", \"UFPR-D-4\", \"UFJF-AC-4\", \"UFSC-UHEADC-4\", \"UFV-AEU-4\", \"UFC-AEUED-3\", \"UFBA-AEU-4\", \"UFPEL-AEU-4\", \"UNIRITTER-AeU-4\", \"USP-AEU-4\", \"UNB-AEU-4\", \"UFRN-AEU-4\", \"UNESP-BAURU-AeU-4\", \"PUCCAMP-AeU-5\", \"UNICAMP-ATeC-5\", \"UPM-AEU-6\", \"UFPE-D-4\", \"UFF-AEU-4\", \"IMED-AEU-3\", \"UFPA-AeU-4\", \"UFRJ-A-6\", \"UNISINOS-AeU-4\", \"UNIRITTER-D-4\", \"UFRJ-AP-4\", \"UFPB-JP-AEU-4\", \"UEL-AeU-4\", \"UFRJ-U-5\", \"PUC-RIO-A-3\", \"UFCG-D-3\", \"UFMG-AEU-6\", \"UDESC-D-4\", \"UFES-AEU-4\", \"UAM-D-5\", \"UFSC-D-5\", \"UFMA-D-3\", \"UNISINOS-D-5\", \"UFSC-AEU-5\", \"USP/SC-AEU-4\", \"UFRGS-D-5\", \"UNESP-BAURU-D-6\", \"PUC-RIO-D-5\", \"UEMG-D-5\"], \"y\": [0.0, 0.0, 0.0, 0.0, 0.0, 0.0, 0.0, 0.0, 0.0, 0.0, 0.0, 0.0, 0.0, 0.0, 0.0, 0.0, 0.0, 0.0, 0.0, 0.0, 0.0, 0.0, 0.0, 0.0, 0.050970873786407765, 0.031818181818181815, 0.0, 0.0, 0.0, 0.0, 0.0, 0.0, 0.0, 0.0, 0.0, 0.0, 0.07, 0.0, 0.14583333333333334, 0.11666666666666667, 0.21875, 0.07142857142857142, 0.3181818181818182, 0.07291666666666667, 0.0, 0.07608695652173914, 0.2625, 0.0673076923076923, 0.0, 0.1206896551724138, 0.16666666666666666, 0.025362318840579712, 0.07446808510638298, 0.1346153846153846, 0.1590909090909091, 0.2916666666666667, 0.0673076923076923]}, {\"marker\": {\"color\": \"#0000CC\"}, \"name\": \"A3 (0.75)\", \"type\": \"bar\", \"x\": [\"UFRN-D-4\", \"UFBA-C-CeR-4\", \"UNIFOR-CDC-3\", \"UNIVILLE-D-4\", \"UFRJ-PeP-4\", \"UFU-AeU-3\", \"UNB-D-3\", \"UFPE-E-3\", \"UFG-PEC-3\", \"UERJ-D-4\", \"UFAL-DDEH-3\", \"UFRGS-A-4\", \"UFRN-APEMA-4\", \" FIAMFAAM-PPeGdEU-3\", \"UNIFATEA-DTEI-3\", \"USJT-AEU-4\", \"UFPR-D-4\", \"UFJF-AC-4\", \"UFSC-UHEADC-4\", \"UFV-AEU-4\", \"UFC-AEUED-3\", \"UFBA-AEU-4\", \"UFPEL-AEU-4\", \"UNIRITTER-AeU-4\", \"USP-AEU-4\", \"UNB-AEU-4\", \"UFRN-AEU-4\", \"UNESP-BAURU-AeU-4\", \"PUCCAMP-AeU-5\", \"UNICAMP-ATeC-5\", \"UPM-AEU-6\", \"UFPE-D-4\", \"UFF-AEU-4\", \"IMED-AEU-3\", \"UFPA-AeU-4\", \"UFRJ-A-6\", \"UNISINOS-AeU-4\", \"UNIRITTER-D-4\", \"UFRJ-AP-4\", \"UFPB-JP-AEU-4\", \"UEL-AeU-4\", \"UFRJ-U-5\", \"PUC-RIO-A-3\", \"UFCG-D-3\", \"UFMG-AEU-6\", \"UDESC-D-4\", \"UFES-AEU-4\", \"UAM-D-5\", \"UFSC-D-5\", \"UFMA-D-3\", \"UNISINOS-D-5\", \"UFSC-AEU-5\", \"USP/SC-AEU-4\", \"UFRGS-D-5\", \"UNESP-BAURU-D-6\", \"PUC-RIO-D-5\", \"UEMG-D-5\"], \"y\": [0.0, 0.0, 0.0, 0.0, 0.0, 0.0, 0.0, 0.0, 0.0, 0.0, 0.0, 0.09375, 0.0, 0.0, 0.15, 0.125, 0.0, 0.07894736842105263, 0.0, 0.0, 0.06818181818181818, 0.0, 0.0, 0.0, 0.050970873786407765, 0.08181818181818182, 0.04054054054054054, 0.0, 0.17307692307692307, 0.1, 0.04285714285714286, 0.0, 0.07692307692307693, 0.225, 0.1, 0.0, 0.06, 0.10714285714285714, 0.0, 0.05, 0.0625, 0.0, 0.0, 0.125, 0.16666666666666666, 0.06521739130434782, 0.0, 0.0, 0.3409090909090909, 0.05172413793103448, 0.14285714285714285, 0.06521739130434782, 0.22340425531914893, 0.23076923076923078, 0.18181818181818182, 0.08333333333333333, 0.40384615384615385]}, {\"marker\": {\"color\": \"#0000FF\"}, \"name\": \"A4 (0.625)\", \"type\": \"bar\", \"x\": [\"UFRN-D-4\", \"UFBA-C-CeR-4\", \"UNIFOR-CDC-3\", \"UNIVILLE-D-4\", \"UFRJ-PeP-4\", \"UFU-AeU-3\", \"UNB-D-3\", \"UFPE-E-3\", \"UFG-PEC-3\", \"UERJ-D-4\", \"UFAL-DDEH-3\", \"UFRGS-A-4\", \"UFRN-APEMA-4\", \" FIAMFAAM-PPeGdEU-3\", \"UNIFATEA-DTEI-3\", \"USJT-AEU-4\", \"UFPR-D-4\", \"UFJF-AC-4\", \"UFSC-UHEADC-4\", \"UFV-AEU-4\", \"UFC-AEUED-3\", \"UFBA-AEU-4\", \"UFPEL-AEU-4\", \"UNIRITTER-AeU-4\", \"USP-AEU-4\", \"UNB-AEU-4\", \"UFRN-AEU-4\", \"UNESP-BAURU-AeU-4\", \"PUCCAMP-AeU-5\", \"UNICAMP-ATeC-5\", \"UPM-AEU-6\", \"UFPE-D-4\", \"UFF-AEU-4\", \"IMED-AEU-3\", \"UFPA-AeU-4\", \"UFRJ-A-6\", \"UNISINOS-AeU-4\", \"UNIRITTER-D-4\", \"UFRJ-AP-4\", \"UFPB-JP-AEU-4\", \"UEL-AeU-4\", \"UFRJ-U-5\", \"PUC-RIO-A-3\", \"UFCG-D-3\", \"UFMG-AEU-6\", \"UDESC-D-4\", \"UFES-AEU-4\", \"UAM-D-5\", \"UFSC-D-5\", \"UFMA-D-3\", \"UNISINOS-D-5\", \"UFSC-AEU-5\", \"USP/SC-AEU-4\", \"UFRGS-D-5\", \"UNESP-BAURU-D-6\", \"PUC-RIO-D-5\", \"UEMG-D-5\"], \"y\": [0.0, 0.0, 0.0, 0.0, 0.0, 0.0, 0.0, 0.07352941176470588, 0.0, 0.04807692307692308, 0.03125, 0.0, 0.08620689655172414, 0.17045454545454544, 0.0, 0.052083333333333336, 0.1388888888888889, 0.13157894736842105, 0.041666666666666664, 0.0, 0.11363636363636363, 0.1724137931034483, 0.20833333333333334, 0.052083333333333336, 0.1395631067961165, 0.06818181818181818, 0.13513513513513514, 0.125, 0.09615384615384616, 0.1388888888888889, 0.07142857142857142, 0.36764705882352944, 0.22435897435897437, 0.0625, 0.08333333333333333, 0.2564102564102564, 0.05, 0.044642857142857144, 0.052083333333333336, 0.08333333333333333, 0.15625, 0.12755102040816327, 0.0, 0.0, 0.16666666666666666, 0.05434782608695652, 0.1875, 0.5288461538461539, 0.17045454545454544, 0.43103448275862066, 0.05952380952380952, 0.10869565217391304, 0.3191489361702128, 0.0641025641025641, 0.5303030303030303, 0.6944444444444444, 0.28846153846153844]}, {\"marker\": {\"color\": \"#003300\"}, \"name\": \"B1 (0.5)\", \"type\": \"bar\", \"x\": [\"UFRN-D-4\", \"UFBA-C-CeR-4\", \"UNIFOR-CDC-3\", \"UNIVILLE-D-4\", \"UFRJ-PeP-4\", \"UFU-AeU-3\", \"UNB-D-3\", \"UFPE-E-3\", \"UFG-PEC-3\", \"UERJ-D-4\", \"UFAL-DDEH-3\", \"UFRGS-A-4\", \"UFRN-APEMA-4\", \" FIAMFAAM-PPeGdEU-3\", \"UNIFATEA-DTEI-3\", \"USJT-AEU-4\", \"UFPR-D-4\", \"UFJF-AC-4\", \"UFSC-UHEADC-4\", \"UFV-AEU-4\", \"UFC-AEUED-3\", \"UFBA-AEU-4\", \"UFPEL-AEU-4\", \"UNIRITTER-AeU-4\", \"USP-AEU-4\", \"UNB-AEU-4\", \"UFRN-AEU-4\", \"UNESP-BAURU-AeU-4\", \"PUCCAMP-AeU-5\", \"UNICAMP-ATeC-5\", \"UPM-AEU-6\", \"UFPE-D-4\", \"UFF-AEU-4\", \"IMED-AEU-3\", \"UFPA-AeU-4\", \"UFRJ-A-6\", \"UNISINOS-AeU-4\", \"UNIRITTER-D-4\", \"UFRJ-AP-4\", \"UFPB-JP-AEU-4\", \"UEL-AeU-4\", \"UFRJ-U-5\", \"PUC-RIO-A-3\", \"UFCG-D-3\", \"UFMG-AEU-6\", \"UDESC-D-4\", \"UFES-AEU-4\", \"UAM-D-5\", \"UFSC-D-5\", \"UFMA-D-3\", \"UNISINOS-D-5\", \"UFSC-AEU-5\", \"USP/SC-AEU-4\", \"UFRGS-D-5\", \"UNESP-BAURU-D-6\", \"PUC-RIO-D-5\", \"UEMG-D-5\"], \"y\": [0.0, 0.0, 0.0, 0.0, 0.0, 0.0, 0.04, 0.0, 0.04, 0.0, 0.05, 0.0, 0.06896551724137931, 0.045454545454545456, 0.05, 0.041666666666666664, 0.0, 0.0, 0.06666666666666667, 0.1, 0.0, 0.0, 0.0, 0.125, 0.02912621359223301, 0.01818181818181818, 0.08108108108108109, 0.0, 0.07692307692307693, 0.044444444444444446, 0.05714285714285714, 0.058823529411764705, 0.0, 0.05, 0.1, 0.05128205128205128, 0.0, 0.10714285714285714, 0.0, 0.06666666666666667, 0.08333333333333333, 0.061224489795918366, 0.045454545454545456, 0.041666666666666664, 0.15555555555555556, 0.17391304347826086, 0.0, 0.0, 0.09090909090909091, 0.06896551724137931, 0.19047619047619047, 0.043478260869565216, 0.0851063829787234, 0.02564102564102564, 0.15151515151515152, 0.05555555555555555, 0.0]}, {\"marker\": {\"color\": \"#006600\"}, \"name\": \"B2 (0.2)\", \"type\": \"bar\", \"x\": [\"UFRN-D-4\", \"UFBA-C-CeR-4\", \"UNIFOR-CDC-3\", \"UNIVILLE-D-4\", \"UFRJ-PeP-4\", \"UFU-AeU-3\", \"UNB-D-3\", \"UFPE-E-3\", \"UFG-PEC-3\", \"UERJ-D-4\", \"UFAL-DDEH-3\", \"UFRGS-A-4\", \"UFRN-APEMA-4\", \" FIAMFAAM-PPeGdEU-3\", \"UNIFATEA-DTEI-3\", \"USJT-AEU-4\", \"UFPR-D-4\", \"UFJF-AC-4\", \"UFSC-UHEADC-4\", \"UFV-AEU-4\", \"UFC-AEUED-3\", \"UFBA-AEU-4\", \"UFPEL-AEU-4\", \"UNIRITTER-AeU-4\", \"USP-AEU-4\", \"UNB-AEU-4\", \"UFRN-AEU-4\", \"UNESP-BAURU-AeU-4\", \"PUCCAMP-AeU-5\", \"UNICAMP-ATeC-5\", \"UPM-AEU-6\", \"UFPE-D-4\", \"UFF-AEU-4\", \"IMED-AEU-3\", \"UFPA-AeU-4\", \"UFRJ-A-6\", \"UNISINOS-AeU-4\", \"UNIRITTER-D-4\", \"UFRJ-AP-4\", \"UFPB-JP-AEU-4\", \"UEL-AeU-4\", \"UFRJ-U-5\", \"PUC-RIO-A-3\", \"UFCG-D-3\", \"UFMG-AEU-6\", \"UDESC-D-4\", \"UFES-AEU-4\", \"UAM-D-5\", \"UFSC-D-5\", \"UFMA-D-3\", \"UNISINOS-D-5\", \"UFSC-AEU-5\", \"USP/SC-AEU-4\", \"UFRGS-D-5\", \"UNESP-BAURU-D-6\", \"PUC-RIO-D-5\", \"UEMG-D-5\"], \"y\": [0.0, 0.0, 0.011428571428571429, 0.01904761904761905, 0.014814814814814815, 0.02, 0.0, 0.0, 0.016, 0.03076923076923077, 0.0, 0.037500000000000006, 0.013793103448275864, 0.0, 0.02, 0.0, 0.05925925925925926, 0.042105263157894736, 0.09333333333333334, 0.1, 0.09090909090909091, 0.013793103448275864, 0.013333333333333334, 0.13333333333333333, 0.01359223300970874, 0.014545454545454545, 0.043243243243243246, 0.26, 0.06153846153846154, 0.06222222222222223, 0.21714285714285717, 0.0, 0.0, 0.02, 0.10666666666666667, 0.020512820512820513, 0.11200000000000002, 0.08571428571428573, 0.03333333333333333, 0.06666666666666667, 0.05000000000000001, 0.05714285714285715, 0.018181818181818184, 0.0, 0.026666666666666672, 0.10434782608695654, 0.02, 0.09230769230769233, 0.05454545454545456, 0.013793103448275864, 0.1523809523809524, 0.04057971014492754, 0.1021276595744681, 0.05128205128205128, 0.024242424242424242, 0.05555555555555555, 0.06153846153846154]}, {\"marker\": {\"color\": \"#009900\"}, \"name\": \"B3 (0.1)\", \"type\": \"bar\", \"x\": [\"UFRN-D-4\", \"UFBA-C-CeR-4\", \"UNIFOR-CDC-3\", \"UNIVILLE-D-4\", \"UFRJ-PeP-4\", \"UFU-AeU-3\", \"UNB-D-3\", \"UFPE-E-3\", \"UFG-PEC-3\", \"UERJ-D-4\", \"UFAL-DDEH-3\", \"UFRGS-A-4\", \"UFRN-APEMA-4\", \" FIAMFAAM-PPeGdEU-3\", \"UNIFATEA-DTEI-3\", \"USJT-AEU-4\", \"UFPR-D-4\", \"UFJF-AC-4\", \"UFSC-UHEADC-4\", \"UFV-AEU-4\", \"UFC-AEUED-3\", \"UFBA-AEU-4\", \"UFPEL-AEU-4\", \"UNIRITTER-AeU-4\", \"USP-AEU-4\", \"UNB-AEU-4\", \"UFRN-AEU-4\", \"UNESP-BAURU-AeU-4\", \"PUCCAMP-AeU-5\", \"UNICAMP-ATeC-5\", \"UPM-AEU-6\", \"UFPE-D-4\", \"UFF-AEU-4\", \"IMED-AEU-3\", \"UFPA-AeU-4\", \"UFRJ-A-6\", \"UNISINOS-AeU-4\", \"UNIRITTER-D-4\", \"UFRJ-AP-4\", \"UFPB-JP-AEU-4\", \"UEL-AeU-4\", \"UFRJ-U-5\", \"PUC-RIO-A-3\", \"UFCG-D-3\", \"UFMG-AEU-6\", \"UDESC-D-4\", \"UFES-AEU-4\", \"UAM-D-5\", \"UFSC-D-5\", \"UFMA-D-3\", \"UNISINOS-D-5\", \"UFSC-AEU-5\", \"USP/SC-AEU-4\", \"UFRGS-D-5\", \"UNESP-BAURU-D-6\", \"PUC-RIO-D-5\", \"UEMG-D-5\"], \"y\": [0.0, 0.004, 0.0, 0.0, 0.014814814814814815, 0.01, 0.008, 0.0, 0.024000000000000004, 0.02307692307692308, 0.01, 0.00625, 0.020689655172413796, 0.009090909090909092, 0.030000000000000006, 0.041666666666666664, 0.04444444444444445, 0.021052631578947368, 0.013333333333333334, 0.0, 0.02727272727272728, 0.034482758620689655, 0.1, 0.03333333333333333, 0.028155339805825245, 0.025454545454545455, 0.032432432432432434, 0.04, 0.02307692307692308, 0.0044444444444444444, 0.045714285714285714, 0.023529411764705882, 0.010256410256410256, 0.01, 0.020000000000000004, 0.020512820512820513, 0.064, 0.03571428571428571, 0.0, 0.04666666666666667, 0.0, 0.05306122448979592, 0.02727272727272728, 0.016666666666666666, 0.026666666666666672, 0.0782608695652174, 0.030000000000000006, 0.06923076923076923, 0.08181818181818182, 0.020689655172413796, 0.0380952380952381, 0.02028985507246377, 0.0425531914893617, 0.06666666666666667, 0.11515151515151516, 0.01666666666666667, 0.03076923076923077]}, {\"marker\": {\"color\": \"#00CC00\"}, \"name\": \"B4 (0.05)\", \"type\": \"bar\", \"x\": [\"UFRN-D-4\", \"UFBA-C-CeR-4\", \"UNIFOR-CDC-3\", \"UNIVILLE-D-4\", \"UFRJ-PeP-4\", \"UFU-AeU-3\", \"UNB-D-3\", \"UFPE-E-3\", \"UFG-PEC-3\", \"UERJ-D-4\", \"UFAL-DDEH-3\", \"UFRGS-A-4\", \"UFRN-APEMA-4\", \" FIAMFAAM-PPeGdEU-3\", \"UNIFATEA-DTEI-3\", \"USJT-AEU-4\", \"UFPR-D-4\", \"UFJF-AC-4\", \"UFSC-UHEADC-4\", \"UFV-AEU-4\", \"UFC-AEUED-3\", \"UFBA-AEU-4\", \"UFPEL-AEU-4\", \"UNIRITTER-AeU-4\", \"USP-AEU-4\", \"UNB-AEU-4\", \"UFRN-AEU-4\", \"UNESP-BAURU-AeU-4\", \"PUCCAMP-AeU-5\", \"UNICAMP-ATeC-5\", \"UPM-AEU-6\", \"UFPE-D-4\", \"UFF-AEU-4\", \"IMED-AEU-3\", \"UFPA-AeU-4\", \"UFRJ-A-6\", \"UNISINOS-AeU-4\", \"UNIRITTER-D-4\", \"UFRJ-AP-4\", \"UFPB-JP-AEU-4\", \"UEL-AeU-4\", \"UFRJ-U-5\", \"PUC-RIO-A-3\", \"UFCG-D-3\", \"UFMG-AEU-6\", \"UDESC-D-4\", \"UFES-AEU-4\", \"UAM-D-5\", \"UFSC-D-5\", \"UFMA-D-3\", \"UNISINOS-D-5\", \"UFSC-AEU-5\", \"USP/SC-AEU-4\", \"UFRGS-D-5\", \"UNESP-BAURU-D-6\", \"PUC-RIO-D-5\", \"UEMG-D-5\"], \"y\": [0.0, 0.004, 0.0, 0.004761904761904762, 0.0, 0.005, 0.0, 0.0, 0.0, 0.038461538461538464, 0.0, 0.00625, 0.0, 0.0, 0.005, 0.004166666666666667, 0.022222222222222227, 0.0, 0.010000000000000002, 0.0, 0.004545454545454546, 0.003448275862068966, 0.010000000000000002, 0.0, 0.004368932038834952, 0.0, 0.002702702702702703, 0.0, 0.0038461538461538464, 0.0044444444444444444, 0.025714285714285714, 0.011764705882352941, 0.002564102564102564, 0.005, 0.0033333333333333335, 0.010256410256410256, 0.004, 0.0035714285714285718, 0.0, 0.006666666666666667, 0.004166666666666667, 0.004081632653061225, 0.0, 0.004166666666666667, 0.0, 0.05652173913043478, 0.015000000000000003, 0.01153846153846154, 0.05, 0.010344827586206898, 0.01904761904761905, 0.014492753623188406, 0.002127659574468085, 0.01282051282051282, 0.018181818181818184, 0.011111111111111112, 0.015384615384615385]}, {\"marker\": {\"color\": \"#00FF00\"}, \"name\": \"B5 (0)\", \"type\": \"bar\", \"x\": [\"UFRN-D-4\", \"UFBA-C-CeR-4\", \"UNIFOR-CDC-3\", \"UNIVILLE-D-4\", \"UFRJ-PeP-4\", \"UFU-AeU-3\", \"UNB-D-3\", \"UFPE-E-3\", \"UFG-PEC-3\", \"UERJ-D-4\", \"UFAL-DDEH-3\", \"UFRGS-A-4\", \"UFRN-APEMA-4\", \" FIAMFAAM-PPeGdEU-3\", \"UNIFATEA-DTEI-3\", \"USJT-AEU-4\", \"UFPR-D-4\", \"UFJF-AC-4\", \"UFSC-UHEADC-4\", \"UFV-AEU-4\", \"UFC-AEUED-3\", \"UFBA-AEU-4\", \"UFPEL-AEU-4\", \"UNIRITTER-AeU-4\", \"USP-AEU-4\", \"UNB-AEU-4\", \"UFRN-AEU-4\", \"UNESP-BAURU-AeU-4\", \"PUCCAMP-AeU-5\", \"UNICAMP-ATeC-5\", \"UPM-AEU-6\", \"UFPE-D-4\", \"UFF-AEU-4\", \"IMED-AEU-3\", \"UFPA-AeU-4\", \"UFRJ-A-6\", \"UNISINOS-AeU-4\", \"UNIRITTER-D-4\", \"UFRJ-AP-4\", \"UFPB-JP-AEU-4\", \"UEL-AeU-4\", \"UFRJ-U-5\", \"PUC-RIO-A-3\", \"UFCG-D-3\", \"UFMG-AEU-6\", \"UDESC-D-4\", \"UFES-AEU-4\", \"UAM-D-5\", \"UFSC-D-5\", \"UFMA-D-3\", \"UNISINOS-D-5\", \"UFSC-AEU-5\", \"USP/SC-AEU-4\", \"UFRGS-D-5\", \"UNESP-BAURU-D-6\", \"PUC-RIO-D-5\", \"UEMG-D-5\"], \"y\": [0.0, 0.0, 0.0, 0.0, 0.0, 0.0, 0.0, 0.0, 0.0, 0.0, 0.0, 0.0, 0.0, 0.0, 0.0, 0.0, 0.0, 0.0, 0.0, 0.0, 0.0, 0.0, 0.0, 0.0, 0.0, 0.0, 0.0, 0.0, 0.0, 0.0, 0.0, 0.0, 0.0, 0.0, 0.0, 0.0, 0.0, 0.0, 0.0, 0.0, 0.0, 0.0, 0.0, 0.0, 0.0, 0.0, 0.0, 0.0, 0.0, 0.0, 0.0, 0.0, 0.0, 0.0, 0.0, 0.0, 0.0]}, {\"marker\": {\"color\": \"#880000\"}, \"name\": \"C (0)\", \"type\": \"bar\", \"x\": [\"UFRN-D-4\", \"UFBA-C-CeR-4\", \"UNIFOR-CDC-3\", \"UNIVILLE-D-4\", \"UFRJ-PeP-4\", \"UFU-AeU-3\", \"UNB-D-3\", \"UFPE-E-3\", \"UFG-PEC-3\", \"UERJ-D-4\", \"UFAL-DDEH-3\", \"UFRGS-A-4\", \"UFRN-APEMA-4\", \" FIAMFAAM-PPeGdEU-3\", \"UNIFATEA-DTEI-3\", \"USJT-AEU-4\", \"UFPR-D-4\", \"UFJF-AC-4\", \"UFSC-UHEADC-4\", \"UFV-AEU-4\", \"UFC-AEUED-3\", \"UFBA-AEU-4\", \"UFPEL-AEU-4\", \"UNIRITTER-AeU-4\", \"USP-AEU-4\", \"UNB-AEU-4\", \"UFRN-AEU-4\", \"UNESP-BAURU-AeU-4\", \"PUCCAMP-AeU-5\", \"UNICAMP-ATeC-5\", \"UPM-AEU-6\", \"UFPE-D-4\", \"UFF-AEU-4\", \"IMED-AEU-3\", \"UFPA-AeU-4\", \"UFRJ-A-6\", \"UNISINOS-AeU-4\", \"UNIRITTER-D-4\", \"UFRJ-AP-4\", \"UFPB-JP-AEU-4\", \"UEL-AeU-4\", \"UFRJ-U-5\", \"PUC-RIO-A-3\", \"UFCG-D-3\", \"UFMG-AEU-6\", \"UDESC-D-4\", \"UFES-AEU-4\", \"UAM-D-5\", \"UFSC-D-5\", \"UFMA-D-3\", \"UNISINOS-D-5\", \"UFSC-AEU-5\", \"USP/SC-AEU-4\", \"UFRGS-D-5\", \"UNESP-BAURU-D-6\", \"PUC-RIO-D-5\", \"UEMG-D-5\"], \"y\": [0.0, 0.0, 0.0, 0.0, 0.0, 0.0, 0.0, 0.0, 0.0, 0.0, 0.0, 0.0, 0.0, 0.0, 0.0, 0.0, 0.0, 0.0, 0.0, 0.0, 0.0, 0.0, 0.0, 0.0, 0.0, 0.0, 0.0, 0.0, 0.0, 0.0, 0.0, 0.0, 0.0, 0.0, 0.0, 0.0, 0.0, 0.0, 0.0, 0.0, 0.0, 0.0, 0.0, 0.0, 0.0, 0.0, 0.0, 0.0, 0.0, 0.0, 0.0, 0.0, 0.0, 0.0, 0.0, 0.0, 0.0]}, {\"marker\": {\"color\": \"#CC0000\"}, \"name\": \"NA (0)\", \"type\": \"bar\", \"x\": [\"UFRN-D-4\", \"UFBA-C-CeR-4\", \"UNIFOR-CDC-3\", \"UNIVILLE-D-4\", \"UFRJ-PeP-4\", \"UFU-AeU-3\", \"UNB-D-3\", \"UFPE-E-3\", \"UFG-PEC-3\", \"UERJ-D-4\", \"UFAL-DDEH-3\", \"UFRGS-A-4\", \"UFRN-APEMA-4\", \" FIAMFAAM-PPeGdEU-3\", \"UNIFATEA-DTEI-3\", \"USJT-AEU-4\", \"UFPR-D-4\", \"UFJF-AC-4\", \"UFSC-UHEADC-4\", \"UFV-AEU-4\", \"UFC-AEUED-3\", \"UFBA-AEU-4\", \"UFPEL-AEU-4\", \"UNIRITTER-AeU-4\", \"USP-AEU-4\", \"UNB-AEU-4\", \"UFRN-AEU-4\", \"UNESP-BAURU-AeU-4\", \"PUCCAMP-AeU-5\", \"UNICAMP-ATeC-5\", \"UPM-AEU-6\", \"UFPE-D-4\", \"UFF-AEU-4\", \"IMED-AEU-3\", \"UFPA-AeU-4\", \"UFRJ-A-6\", \"UNISINOS-AeU-4\", \"UNIRITTER-D-4\", \"UFRJ-AP-4\", \"UFPB-JP-AEU-4\", \"UEL-AeU-4\", \"UFRJ-U-5\", \"PUC-RIO-A-3\", \"UFCG-D-3\", \"UFMG-AEU-6\", \"UDESC-D-4\", \"UFES-AEU-4\", \"UAM-D-5\", \"UFSC-D-5\", \"UFMA-D-3\", \"UNISINOS-D-5\", \"UFSC-AEU-5\", \"USP/SC-AEU-4\", \"UFRGS-D-5\", \"UNESP-BAURU-D-6\", \"PUC-RIO-D-5\", \"UEMG-D-5\"], \"y\": [0.0, 0.0, 0.0, 0.0, 0.0, 0.0, 0.0, 0.0, 0.0, 0.0, 0.0, 0.0, 0.0, 0.0, 0.0, 0.0, 0.0, 0.0, 0.0, 0.0, 0.0, 0.0, 0.0, 0.0, 0.0, 0.0, 0.0, 0.0, 0.0, 0.0, 0.0, 0.0, 0.0, 0.0, 0.0, 0.0, 0.0, 0.0, 0.0, 0.0, 0.0, 0.0, 0.0, 0.0, 0.0, 0.0, 0.0, 0.0, 0.0, 0.0, 0.0, 0.0, 0.0, 0.0, 0.0, 0.0, 0.0]}, {\"marker\": {\"color\": \"#FF0000\"}, \"name\": \"NP (0)\", \"type\": \"bar\", \"x\": [\"UFRN-D-4\", \"UFBA-C-CeR-4\", \"UNIFOR-CDC-3\", \"UNIVILLE-D-4\", \"UFRJ-PeP-4\", \"UFU-AeU-3\", \"UNB-D-3\", \"UFPE-E-3\", \"UFG-PEC-3\", \"UERJ-D-4\", \"UFAL-DDEH-3\", \"UFRGS-A-4\", \"UFRN-APEMA-4\", \" FIAMFAAM-PPeGdEU-3\", \"UNIFATEA-DTEI-3\", \"USJT-AEU-4\", \"UFPR-D-4\", \"UFJF-AC-4\", \"UFSC-UHEADC-4\", \"UFV-AEU-4\", \"UFC-AEUED-3\", \"UFBA-AEU-4\", \"UFPEL-AEU-4\", \"UNIRITTER-AeU-4\", \"USP-AEU-4\", \"UNB-AEU-4\", \"UFRN-AEU-4\", \"UNESP-BAURU-AeU-4\", \"PUCCAMP-AeU-5\", \"UNICAMP-ATeC-5\", \"UPM-AEU-6\", \"UFPE-D-4\", \"UFF-AEU-4\", \"IMED-AEU-3\", \"UFPA-AeU-4\", \"UFRJ-A-6\", \"UNISINOS-AeU-4\", \"UNIRITTER-D-4\", \"UFRJ-AP-4\", \"UFPB-JP-AEU-4\", \"UEL-AeU-4\", \"UFRJ-U-5\", \"PUC-RIO-A-3\", \"UFCG-D-3\", \"UFMG-AEU-6\", \"UDESC-D-4\", \"UFES-AEU-4\", \"UAM-D-5\", \"UFSC-D-5\", \"UFMA-D-3\", \"UNISINOS-D-5\", \"UFSC-AEU-5\", \"USP/SC-AEU-4\", \"UFRGS-D-5\", \"UNESP-BAURU-D-6\", \"PUC-RIO-D-5\", \"UEMG-D-5\"], \"y\": [0.0, 0.0, 0.0, 0.0, 0.0, 0.0, 0.0, 0.0, 0.0, 0.0, 0.0, 0.0, 0.0, 0.0, 0.0, 0.0, 0.0, 0.0, 0.0, 0.0, 0.0, 0.0, 0.0, 0.0, 0.0, 0.0, 0.0, 0.0, 0.0, 0.0, 0.0, 0.0, 0.0, 0.0, 0.0, 0.0, 0.0, 0.0, 0.0, 0.0, 0.0, 0.0, 0.0, 0.0, 0.0, 0.0, 0.0, 0.0, 0.0, 0.0, 0.0, 0.0, 0.0, 0.0, 0.0, 0.0, 0.0]}],\n",
       "                        {\"barmode\": \"stack\", \"template\": {\"data\": {\"bar\": [{\"error_x\": {\"color\": \"#2a3f5f\"}, \"error_y\": {\"color\": \"#2a3f5f\"}, \"marker\": {\"line\": {\"color\": \"#E5ECF6\", \"width\": 0.5}}, \"type\": \"bar\"}], \"barpolar\": [{\"marker\": {\"line\": {\"color\": \"#E5ECF6\", \"width\": 0.5}}, \"type\": \"barpolar\"}], \"carpet\": [{\"aaxis\": {\"endlinecolor\": \"#2a3f5f\", \"gridcolor\": \"white\", \"linecolor\": \"white\", \"minorgridcolor\": \"white\", \"startlinecolor\": \"#2a3f5f\"}, \"baxis\": {\"endlinecolor\": \"#2a3f5f\", \"gridcolor\": \"white\", \"linecolor\": \"white\", \"minorgridcolor\": \"white\", \"startlinecolor\": \"#2a3f5f\"}, \"type\": \"carpet\"}], \"choropleth\": [{\"colorbar\": {\"outlinewidth\": 0, \"ticks\": \"\"}, \"type\": \"choropleth\"}], \"contour\": [{\"colorbar\": {\"outlinewidth\": 0, \"ticks\": \"\"}, \"colorscale\": [[0.0, \"#0d0887\"], [0.1111111111111111, \"#46039f\"], [0.2222222222222222, \"#7201a8\"], [0.3333333333333333, \"#9c179e\"], [0.4444444444444444, \"#bd3786\"], [0.5555555555555556, \"#d8576b\"], [0.6666666666666666, \"#ed7953\"], [0.7777777777777778, \"#fb9f3a\"], [0.8888888888888888, \"#fdca26\"], [1.0, \"#f0f921\"]], \"type\": \"contour\"}], \"contourcarpet\": [{\"colorbar\": {\"outlinewidth\": 0, \"ticks\": \"\"}, \"type\": \"contourcarpet\"}], \"heatmap\": [{\"colorbar\": {\"outlinewidth\": 0, \"ticks\": \"\"}, \"colorscale\": [[0.0, \"#0d0887\"], [0.1111111111111111, \"#46039f\"], [0.2222222222222222, \"#7201a8\"], [0.3333333333333333, \"#9c179e\"], [0.4444444444444444, \"#bd3786\"], [0.5555555555555556, \"#d8576b\"], [0.6666666666666666, \"#ed7953\"], [0.7777777777777778, \"#fb9f3a\"], [0.8888888888888888, \"#fdca26\"], [1.0, \"#f0f921\"]], \"type\": \"heatmap\"}], \"heatmapgl\": [{\"colorbar\": {\"outlinewidth\": 0, \"ticks\": \"\"}, \"colorscale\": [[0.0, \"#0d0887\"], [0.1111111111111111, \"#46039f\"], [0.2222222222222222, \"#7201a8\"], [0.3333333333333333, \"#9c179e\"], [0.4444444444444444, \"#bd3786\"], [0.5555555555555556, \"#d8576b\"], [0.6666666666666666, \"#ed7953\"], [0.7777777777777778, \"#fb9f3a\"], [0.8888888888888888, \"#fdca26\"], [1.0, \"#f0f921\"]], \"type\": \"heatmapgl\"}], \"histogram\": [{\"marker\": {\"colorbar\": {\"outlinewidth\": 0, \"ticks\": \"\"}}, \"type\": \"histogram\"}], \"histogram2d\": [{\"colorbar\": {\"outlinewidth\": 0, \"ticks\": \"\"}, \"colorscale\": [[0.0, \"#0d0887\"], [0.1111111111111111, \"#46039f\"], [0.2222222222222222, \"#7201a8\"], [0.3333333333333333, \"#9c179e\"], [0.4444444444444444, \"#bd3786\"], [0.5555555555555556, \"#d8576b\"], [0.6666666666666666, \"#ed7953\"], [0.7777777777777778, \"#fb9f3a\"], [0.8888888888888888, \"#fdca26\"], [1.0, \"#f0f921\"]], \"type\": \"histogram2d\"}], \"histogram2dcontour\": [{\"colorbar\": {\"outlinewidth\": 0, \"ticks\": \"\"}, \"colorscale\": [[0.0, \"#0d0887\"], [0.1111111111111111, \"#46039f\"], [0.2222222222222222, \"#7201a8\"], [0.3333333333333333, \"#9c179e\"], [0.4444444444444444, \"#bd3786\"], [0.5555555555555556, \"#d8576b\"], [0.6666666666666666, \"#ed7953\"], [0.7777777777777778, \"#fb9f3a\"], [0.8888888888888888, \"#fdca26\"], [1.0, \"#f0f921\"]], \"type\": \"histogram2dcontour\"}], \"mesh3d\": [{\"colorbar\": {\"outlinewidth\": 0, \"ticks\": \"\"}, \"type\": \"mesh3d\"}], \"parcoords\": [{\"line\": {\"colorbar\": {\"outlinewidth\": 0, \"ticks\": \"\"}}, \"type\": \"parcoords\"}], \"pie\": [{\"automargin\": true, \"type\": \"pie\"}], \"scatter\": [{\"marker\": {\"colorbar\": {\"outlinewidth\": 0, \"ticks\": \"\"}}, \"type\": \"scatter\"}], \"scatter3d\": [{\"line\": {\"colorbar\": {\"outlinewidth\": 0, \"ticks\": \"\"}}, \"marker\": {\"colorbar\": {\"outlinewidth\": 0, \"ticks\": \"\"}}, \"type\": \"scatter3d\"}], \"scattercarpet\": [{\"marker\": {\"colorbar\": {\"outlinewidth\": 0, \"ticks\": \"\"}}, \"type\": \"scattercarpet\"}], \"scattergeo\": [{\"marker\": {\"colorbar\": {\"outlinewidth\": 0, \"ticks\": \"\"}}, \"type\": \"scattergeo\"}], \"scattergl\": [{\"marker\": {\"colorbar\": {\"outlinewidth\": 0, \"ticks\": \"\"}}, \"type\": \"scattergl\"}], \"scattermapbox\": [{\"marker\": {\"colorbar\": {\"outlinewidth\": 0, \"ticks\": \"\"}}, \"type\": \"scattermapbox\"}], \"scatterpolar\": [{\"marker\": {\"colorbar\": {\"outlinewidth\": 0, \"ticks\": \"\"}}, \"type\": \"scatterpolar\"}], \"scatterpolargl\": [{\"marker\": {\"colorbar\": {\"outlinewidth\": 0, \"ticks\": \"\"}}, \"type\": \"scatterpolargl\"}], \"scatterternary\": [{\"marker\": {\"colorbar\": {\"outlinewidth\": 0, \"ticks\": \"\"}}, \"type\": \"scatterternary\"}], \"surface\": [{\"colorbar\": {\"outlinewidth\": 0, \"ticks\": \"\"}, \"colorscale\": [[0.0, \"#0d0887\"], [0.1111111111111111, \"#46039f\"], [0.2222222222222222, \"#7201a8\"], [0.3333333333333333, \"#9c179e\"], [0.4444444444444444, \"#bd3786\"], [0.5555555555555556, \"#d8576b\"], [0.6666666666666666, \"#ed7953\"], [0.7777777777777778, \"#fb9f3a\"], [0.8888888888888888, \"#fdca26\"], [1.0, \"#f0f921\"]], \"type\": \"surface\"}], \"table\": [{\"cells\": {\"fill\": {\"color\": \"#EBF0F8\"}, \"line\": {\"color\": \"white\"}}, \"header\": {\"fill\": {\"color\": \"#C8D4E3\"}, \"line\": {\"color\": \"white\"}}, \"type\": \"table\"}]}, \"layout\": {\"annotationdefaults\": {\"arrowcolor\": \"#2a3f5f\", \"arrowhead\": 0, \"arrowwidth\": 1}, \"coloraxis\": {\"colorbar\": {\"outlinewidth\": 0, \"ticks\": \"\"}}, \"colorscale\": {\"diverging\": [[0, \"#8e0152\"], [0.1, \"#c51b7d\"], [0.2, \"#de77ae\"], [0.3, \"#f1b6da\"], [0.4, \"#fde0ef\"], [0.5, \"#f7f7f7\"], [0.6, \"#e6f5d0\"], [0.7, \"#b8e186\"], [0.8, \"#7fbc41\"], [0.9, \"#4d9221\"], [1, \"#276419\"]], \"sequential\": [[0.0, \"#0d0887\"], [0.1111111111111111, \"#46039f\"], [0.2222222222222222, \"#7201a8\"], [0.3333333333333333, \"#9c179e\"], [0.4444444444444444, \"#bd3786\"], [0.5555555555555556, \"#d8576b\"], [0.6666666666666666, \"#ed7953\"], [0.7777777777777778, \"#fb9f3a\"], [0.8888888888888888, \"#fdca26\"], [1.0, \"#f0f921\"]], \"sequentialminus\": [[0.0, \"#0d0887\"], [0.1111111111111111, \"#46039f\"], [0.2222222222222222, \"#7201a8\"], [0.3333333333333333, \"#9c179e\"], [0.4444444444444444, \"#bd3786\"], [0.5555555555555556, \"#d8576b\"], [0.6666666666666666, \"#ed7953\"], [0.7777777777777778, \"#fb9f3a\"], [0.8888888888888888, \"#fdca26\"], [1.0, \"#f0f921\"]]}, \"colorway\": [\"#636efa\", \"#EF553B\", \"#00cc96\", \"#ab63fa\", \"#FFA15A\", \"#19d3f3\", \"#FF6692\", \"#B6E880\", \"#FF97FF\", \"#FECB52\"], \"font\": {\"color\": \"#2a3f5f\"}, \"geo\": {\"bgcolor\": \"white\", \"lakecolor\": \"white\", \"landcolor\": \"#E5ECF6\", \"showlakes\": true, \"showland\": true, \"subunitcolor\": \"white\"}, \"hoverlabel\": {\"align\": \"left\"}, \"hovermode\": \"closest\", \"mapbox\": {\"style\": \"light\"}, \"paper_bgcolor\": \"white\", \"plot_bgcolor\": \"#E5ECF6\", \"polar\": {\"angularaxis\": {\"gridcolor\": \"white\", \"linecolor\": \"white\", \"ticks\": \"\"}, \"bgcolor\": \"#E5ECF6\", \"radialaxis\": {\"gridcolor\": \"white\", \"linecolor\": \"white\", \"ticks\": \"\"}}, \"scene\": {\"xaxis\": {\"backgroundcolor\": \"#E5ECF6\", \"gridcolor\": \"white\", \"gridwidth\": 2, \"linecolor\": \"white\", \"showbackground\": true, \"ticks\": \"\", \"zerolinecolor\": \"white\"}, \"yaxis\": {\"backgroundcolor\": \"#E5ECF6\", \"gridcolor\": \"white\", \"gridwidth\": 2, \"linecolor\": \"white\", \"showbackground\": true, \"ticks\": \"\", \"zerolinecolor\": \"white\"}, \"zaxis\": {\"backgroundcolor\": \"#E5ECF6\", \"gridcolor\": \"white\", \"gridwidth\": 2, \"linecolor\": \"white\", \"showbackground\": true, \"ticks\": \"\", \"zerolinecolor\": \"white\"}}, \"shapedefaults\": {\"line\": {\"color\": \"#2a3f5f\"}}, \"ternary\": {\"aaxis\": {\"gridcolor\": \"white\", \"linecolor\": \"white\", \"ticks\": \"\"}, \"baxis\": {\"gridcolor\": \"white\", \"linecolor\": \"white\", \"ticks\": \"\"}, \"bgcolor\": \"#E5ECF6\", \"caxis\": {\"gridcolor\": \"white\", \"linecolor\": \"white\", \"ticks\": \"\"}}, \"title\": {\"x\": 0.05}, \"xaxis\": {\"automargin\": true, \"gridcolor\": \"white\", \"linecolor\": \"white\", \"ticks\": \"\", \"title\": {\"standoff\": 15}, \"zerolinecolor\": \"white\", \"zerolinewidth\": 2}, \"yaxis\": {\"automargin\": true, \"gridcolor\": \"white\", \"linecolor\": \"white\", \"ticks\": \"\", \"title\": {\"standoff\": 15}, \"zerolinecolor\": \"white\", \"zerolinewidth\": 2}}}, \"title\": {\"font\": {\"color\": \"#000000\", \"size\": 20}, \"text\": \"Peri\\u00f3dicos por Docentes Permanentes - 2013,2014,2015,2016\", \"x\": 0.5, \"xanchor\": \"center\"}, \"xaxis\": {\"title\": {\"text\": \"Institui\\u00e7\\u00e3o\"}}},\n",
       "                        {\"responsive\": true}\n",
       "                    ).then(function(){\n",
       "                            \n",
       "var gd = document.getElementById('ee1f55dc-91cc-48b5-a052-3f52fd9b37b6');\n",
       "var x = new MutationObserver(function (mutations, observer) {{\n",
       "        var display = window.getComputedStyle(gd).display;\n",
       "        if (!display || display === 'none') {{\n",
       "            console.log([gd, 'removed!']);\n",
       "            Plotly.purge(gd);\n",
       "            observer.disconnect();\n",
       "        }}\n",
       "}});\n",
       "\n",
       "// Listen for the removal of the full notebook cells\n",
       "var notebookContainer = gd.closest('#notebook-container');\n",
       "if (notebookContainer) {{\n",
       "    x.observe(notebookContainer, {childList: true});\n",
       "}}\n",
       "\n",
       "// Listen for the clearing of the current output cell\n",
       "var outputEl = gd.closest('.output');\n",
       "if (outputEl) {{\n",
       "    x.observe(outputEl, {childList: true});\n",
       "}}\n",
       "\n",
       "                        })\n",
       "                };\n",
       "                });\n",
       "            </script>\n",
       "        </div>"
      ]
     },
     "metadata": {},
     "output_type": "display_data"
    }
   ],
   "source": [
    "make_chart(periodicos_permanente, 'Periódicos por Docentes Permanentes - '+','.join(ANOS))"
   ]
  },
  {
   "cell_type": "code",
   "execution_count": 17,
   "metadata": {},
   "outputs": [
    {
     "data": {
      "application/vnd.plotly.v1+json": {
       "config": {
        "linkText": "Export to plot.ly",
        "plotlyServerURL": "https://plot.ly",
        "showLink": false
       },
       "data": [
        {
         "marker": {
          "color": "#000044"
         },
         "name": "A1 (1)",
         "type": "bar",
         "x": [
          "CESAR-D-3",
          "UNIFATEA-DTEI-3",
          "UNIFOR-CDC-3",
          "UFPE-E-3",
          "UFRN-D-4",
          " FIAMFAAM-PPeGdEU-3",
          "UNIVILLE-D-4",
          "PUC-RIO-A-3",
          "UNISINOS-AeU-4",
          "UFC-AEUED-3",
          "UFRJ-PeP-4",
          "UFV-AEU-4",
          "UFCG-D-3",
          "UFU-AeU-3",
          "USJT-AEU-4",
          "UFPA-AeU-4",
          "UNB-D-3",
          "UERJ-D-4",
          "UFBA-C-CeR-4",
          "UFSC-UHEADC-4",
          "IMED-AEU-3",
          "UDESC-D-4",
          "UFG-PEC-3",
          "UNISINOS-D-5",
          "UFRN-APEMA-4",
          "UFRJ-AP-4",
          "UEL-AeU-4",
          "UNESP-BAURU-AeU-4",
          "PUC-RIO-D-5",
          "UNIRITTER-D-4",
          "UNIRITTER-AeU-4",
          "UFJF-AC-4",
          "UFPR-D-4",
          "UFPB-JP-AEU-4",
          "UFMA-D-3",
          "UFES-AEU-4",
          "UFRGS-A-4",
          "UFPE-D-4",
          "UFAL-DDEH-3",
          "UAM-D-5",
          "UFSC-D-5",
          "UFF-AEU-4",
          "UFRGS-D-5",
          "UEMG-D-5",
          "UNB-AEU-4",
          "PUCCAMP-AeU-5",
          "UNICAMP-ATeC-5",
          "UFBA-AEU-4",
          "UFRJ-A-6",
          "USP/SC-AEU-4",
          "UFRN-AEU-4",
          "UFMG-AEU-6",
          "UFSC-AEU-5",
          "UNESP-BAURU-D-6",
          "UFRJ-U-5",
          "UPM-AEU-6",
          "UFPEL-AEU-4",
          "USP-AEU-4"
         ],
         "y": [
          0,
          0,
          0,
          0,
          0,
          0,
          0,
          0,
          0,
          0,
          0,
          0,
          0,
          0,
          0,
          0,
          0,
          0,
          0,
          0,
          0,
          0,
          0,
          0,
          0,
          1,
          0,
          0,
          0,
          0,
          0,
          0,
          0,
          0,
          0,
          0,
          0,
          0,
          0,
          0,
          0,
          0,
          0,
          0,
          0,
          0,
          0,
          0,
          0,
          0,
          0,
          0,
          0,
          0,
          0,
          0,
          0,
          0
         ]
        },
        {
         "marker": {
          "color": "#000088"
         },
         "name": "A2 (0.875)",
         "type": "bar",
         "x": [
          "CESAR-D-3",
          "UNIFATEA-DTEI-3",
          "UNIFOR-CDC-3",
          "UFPE-E-3",
          "UFRN-D-4",
          " FIAMFAAM-PPeGdEU-3",
          "UNIVILLE-D-4",
          "PUC-RIO-A-3",
          "UNISINOS-AeU-4",
          "UFC-AEUED-3",
          "UFRJ-PeP-4",
          "UFV-AEU-4",
          "UFCG-D-3",
          "UFU-AeU-3",
          "USJT-AEU-4",
          "UFPA-AeU-4",
          "UNB-D-3",
          "UERJ-D-4",
          "UFBA-C-CeR-4",
          "UFSC-UHEADC-4",
          "IMED-AEU-3",
          "UDESC-D-4",
          "UFG-PEC-3",
          "UNISINOS-D-5",
          "UFRN-APEMA-4",
          "UFRJ-AP-4",
          "UEL-AeU-4",
          "UNESP-BAURU-AeU-4",
          "PUC-RIO-D-5",
          "UNIRITTER-D-4",
          "UNIRITTER-AeU-4",
          "UFJF-AC-4",
          "UFPR-D-4",
          "UFPB-JP-AEU-4",
          "UFMA-D-3",
          "UFES-AEU-4",
          "UFRGS-A-4",
          "UFPE-D-4",
          "UFAL-DDEH-3",
          "UAM-D-5",
          "UFSC-D-5",
          "UFF-AEU-4",
          "UFRGS-D-5",
          "UEMG-D-5",
          "UNB-AEU-4",
          "PUCCAMP-AeU-5",
          "UNICAMP-ATeC-5",
          "UFBA-AEU-4",
          "UFRJ-A-6",
          "USP/SC-AEU-4",
          "UFRN-AEU-4",
          "UFMG-AEU-6",
          "UFSC-AEU-5",
          "UNESP-BAURU-D-6",
          "UFRJ-U-5",
          "UPM-AEU-6",
          "UFPEL-AEU-4",
          "USP-AEU-4"
         ],
         "y": [
          0,
          0,
          0,
          0,
          0,
          0,
          0,
          0,
          0,
          0,
          0,
          0,
          0,
          0,
          0,
          0,
          0,
          0,
          0,
          0,
          0,
          0,
          0,
          0,
          0,
          0,
          0,
          0,
          0,
          0,
          0,
          0,
          0,
          0,
          0,
          0,
          0,
          0,
          0,
          0,
          0,
          0,
          0,
          0,
          0,
          0,
          0,
          0,
          0,
          0,
          0,
          0,
          0,
          0,
          0,
          0,
          0,
          0
         ]
        },
        {
         "marker": {
          "color": "#0000CC"
         },
         "name": "A3 (0.75)",
         "type": "bar",
         "x": [
          "CESAR-D-3",
          "UNIFATEA-DTEI-3",
          "UNIFOR-CDC-3",
          "UFPE-E-3",
          "UFRN-D-4",
          " FIAMFAAM-PPeGdEU-3",
          "UNIVILLE-D-4",
          "PUC-RIO-A-3",
          "UNISINOS-AeU-4",
          "UFC-AEUED-3",
          "UFRJ-PeP-4",
          "UFV-AEU-4",
          "UFCG-D-3",
          "UFU-AeU-3",
          "USJT-AEU-4",
          "UFPA-AeU-4",
          "UNB-D-3",
          "UERJ-D-4",
          "UFBA-C-CeR-4",
          "UFSC-UHEADC-4",
          "IMED-AEU-3",
          "UDESC-D-4",
          "UFG-PEC-3",
          "UNISINOS-D-5",
          "UFRN-APEMA-4",
          "UFRJ-AP-4",
          "UEL-AeU-4",
          "UNESP-BAURU-AeU-4",
          "PUC-RIO-D-5",
          "UNIRITTER-D-4",
          "UNIRITTER-AeU-4",
          "UFJF-AC-4",
          "UFPR-D-4",
          "UFPB-JP-AEU-4",
          "UFMA-D-3",
          "UFES-AEU-4",
          "UFRGS-A-4",
          "UFPE-D-4",
          "UFAL-DDEH-3",
          "UAM-D-5",
          "UFSC-D-5",
          "UFF-AEU-4",
          "UFRGS-D-5",
          "UEMG-D-5",
          "UNB-AEU-4",
          "PUCCAMP-AeU-5",
          "UNICAMP-ATeC-5",
          "UFBA-AEU-4",
          "UFRJ-A-6",
          "USP/SC-AEU-4",
          "UFRN-AEU-4",
          "UFMG-AEU-6",
          "UFSC-AEU-5",
          "UNESP-BAURU-D-6",
          "UFRJ-U-5",
          "UPM-AEU-6",
          "UFPEL-AEU-4",
          "USP-AEU-4"
         ],
         "y": [
          0,
          0,
          0,
          0,
          0,
          0,
          0,
          0,
          0,
          0,
          0,
          0,
          0,
          0,
          0,
          0,
          0,
          0,
          0,
          0,
          0,
          0,
          0,
          0,
          0,
          0,
          0,
          0,
          0,
          0,
          0,
          0,
          0,
          0,
          0,
          0,
          0,
          0,
          0,
          0,
          0,
          0,
          0,
          0,
          2,
          0,
          0,
          0,
          0,
          0,
          0,
          0,
          0,
          0,
          0,
          0,
          0,
          0
         ]
        },
        {
         "marker": {
          "color": "#0000FF"
         },
         "name": "A4 (0.625)",
         "type": "bar",
         "x": [
          "CESAR-D-3",
          "UNIFATEA-DTEI-3",
          "UNIFOR-CDC-3",
          "UFPE-E-3",
          "UFRN-D-4",
          " FIAMFAAM-PPeGdEU-3",
          "UNIVILLE-D-4",
          "PUC-RIO-A-3",
          "UNISINOS-AeU-4",
          "UFC-AEUED-3",
          "UFRJ-PeP-4",
          "UFV-AEU-4",
          "UFCG-D-3",
          "UFU-AeU-3",
          "USJT-AEU-4",
          "UFPA-AeU-4",
          "UNB-D-3",
          "UERJ-D-4",
          "UFBA-C-CeR-4",
          "UFSC-UHEADC-4",
          "IMED-AEU-3",
          "UDESC-D-4",
          "UFG-PEC-3",
          "UNISINOS-D-5",
          "UFRN-APEMA-4",
          "UFRJ-AP-4",
          "UEL-AeU-4",
          "UNESP-BAURU-AeU-4",
          "PUC-RIO-D-5",
          "UNIRITTER-D-4",
          "UNIRITTER-AeU-4",
          "UFJF-AC-4",
          "UFPR-D-4",
          "UFPB-JP-AEU-4",
          "UFMA-D-3",
          "UFES-AEU-4",
          "UFRGS-A-4",
          "UFPE-D-4",
          "UFAL-DDEH-3",
          "UAM-D-5",
          "UFSC-D-5",
          "UFF-AEU-4",
          "UFRGS-D-5",
          "UEMG-D-5",
          "UNB-AEU-4",
          "PUCCAMP-AeU-5",
          "UNICAMP-ATeC-5",
          "UFBA-AEU-4",
          "UFRJ-A-6",
          "USP/SC-AEU-4",
          "UFRN-AEU-4",
          "UFMG-AEU-6",
          "UFSC-AEU-5",
          "UNESP-BAURU-D-6",
          "UFRJ-U-5",
          "UPM-AEU-6",
          "UFPEL-AEU-4",
          "USP-AEU-4"
         ],
         "y": [
          0,
          0,
          0,
          0,
          0,
          2,
          0,
          0,
          0,
          0,
          0,
          0,
          0,
          0,
          0,
          0,
          0,
          0,
          0,
          0,
          0,
          0,
          0,
          0,
          0,
          0,
          0,
          0,
          2,
          0,
          1,
          0,
          0,
          0,
          0,
          0,
          0,
          0,
          0,
          0,
          0,
          0,
          0,
          0,
          0,
          0,
          0,
          0,
          0,
          0,
          0,
          0,
          0,
          0,
          0,
          2,
          1,
          3
         ]
        },
        {
         "marker": {
          "color": "#003300"
         },
         "name": "B1 (0.5)",
         "type": "bar",
         "x": [
          "CESAR-D-3",
          "UNIFATEA-DTEI-3",
          "UNIFOR-CDC-3",
          "UFPE-E-3",
          "UFRN-D-4",
          " FIAMFAAM-PPeGdEU-3",
          "UNIVILLE-D-4",
          "PUC-RIO-A-3",
          "UNISINOS-AeU-4",
          "UFC-AEUED-3",
          "UFRJ-PeP-4",
          "UFV-AEU-4",
          "UFCG-D-3",
          "UFU-AeU-3",
          "USJT-AEU-4",
          "UFPA-AeU-4",
          "UNB-D-3",
          "UERJ-D-4",
          "UFBA-C-CeR-4",
          "UFSC-UHEADC-4",
          "IMED-AEU-3",
          "UDESC-D-4",
          "UFG-PEC-3",
          "UNISINOS-D-5",
          "UFRN-APEMA-4",
          "UFRJ-AP-4",
          "UEL-AeU-4",
          "UNESP-BAURU-AeU-4",
          "PUC-RIO-D-5",
          "UNIRITTER-D-4",
          "UNIRITTER-AeU-4",
          "UFJF-AC-4",
          "UFPR-D-4",
          "UFPB-JP-AEU-4",
          "UFMA-D-3",
          "UFES-AEU-4",
          "UFRGS-A-4",
          "UFPE-D-4",
          "UFAL-DDEH-3",
          "UAM-D-5",
          "UFSC-D-5",
          "UFF-AEU-4",
          "UFRGS-D-5",
          "UEMG-D-5",
          "UNB-AEU-4",
          "PUCCAMP-AeU-5",
          "UNICAMP-ATeC-5",
          "UFBA-AEU-4",
          "UFRJ-A-6",
          "USP/SC-AEU-4",
          "UFRN-AEU-4",
          "UFMG-AEU-6",
          "UFSC-AEU-5",
          "UNESP-BAURU-D-6",
          "UFRJ-U-5",
          "UPM-AEU-6",
          "UFPEL-AEU-4",
          "USP-AEU-4"
         ],
         "y": [
          0,
          0,
          0,
          0,
          1,
          0,
          7,
          2,
          0,
          7,
          0,
          0,
          0,
          1,
          0,
          0,
          3,
          5,
          0,
          0,
          0,
          1,
          2,
          16,
          0,
          0,
          0,
          0,
          12,
          0,
          0,
          0,
          4,
          1,
          13,
          0,
          0,
          5,
          1,
          10,
          3,
          0,
          9,
          4,
          1,
          0,
          0,
          0,
          2,
          2,
          0,
          1,
          0,
          16,
          6,
          2,
          0,
          9
         ]
        },
        {
         "marker": {
          "color": "#006600"
         },
         "name": "B2 (0.2)",
         "type": "bar",
         "x": [
          "CESAR-D-3",
          "UNIFATEA-DTEI-3",
          "UNIFOR-CDC-3",
          "UFPE-E-3",
          "UFRN-D-4",
          " FIAMFAAM-PPeGdEU-3",
          "UNIVILLE-D-4",
          "PUC-RIO-A-3",
          "UNISINOS-AeU-4",
          "UFC-AEUED-3",
          "UFRJ-PeP-4",
          "UFV-AEU-4",
          "UFCG-D-3",
          "UFU-AeU-3",
          "USJT-AEU-4",
          "UFPA-AeU-4",
          "UNB-D-3",
          "UERJ-D-4",
          "UFBA-C-CeR-4",
          "UFSC-UHEADC-4",
          "IMED-AEU-3",
          "UDESC-D-4",
          "UFG-PEC-3",
          "UNISINOS-D-5",
          "UFRN-APEMA-4",
          "UFRJ-AP-4",
          "UEL-AeU-4",
          "UNESP-BAURU-AeU-4",
          "PUC-RIO-D-5",
          "UNIRITTER-D-4",
          "UNIRITTER-AeU-4",
          "UFJF-AC-4",
          "UFPR-D-4",
          "UFPB-JP-AEU-4",
          "UFMA-D-3",
          "UFES-AEU-4",
          "UFRGS-A-4",
          "UFPE-D-4",
          "UFAL-DDEH-3",
          "UAM-D-5",
          "UFSC-D-5",
          "UFF-AEU-4",
          "UFRGS-D-5",
          "UEMG-D-5",
          "UNB-AEU-4",
          "PUCCAMP-AeU-5",
          "UNICAMP-ATeC-5",
          "UFBA-AEU-4",
          "UFRJ-A-6",
          "USP/SC-AEU-4",
          "UFRN-AEU-4",
          "UFMG-AEU-6",
          "UFSC-AEU-5",
          "UNESP-BAURU-D-6",
          "UFRJ-U-5",
          "UPM-AEU-6",
          "UFPEL-AEU-4",
          "USP-AEU-4"
         ],
         "y": [
          0,
          0,
          0,
          0,
          0,
          0,
          0,
          0,
          1,
          0,
          0,
          0,
          0,
          0,
          0,
          0,
          0,
          0,
          0,
          0,
          0,
          0,
          0,
          0,
          0,
          0,
          0,
          0,
          0,
          0,
          0,
          0,
          0,
          0,
          0,
          0,
          0,
          0,
          0,
          0,
          0,
          0,
          0,
          0,
          0,
          0,
          0,
          0,
          0,
          0,
          0,
          0,
          0,
          0,
          0,
          1,
          0,
          1
         ]
        },
        {
         "marker": {
          "color": "#009900"
         },
         "name": "B3 (0.1)",
         "type": "bar",
         "x": [
          "CESAR-D-3",
          "UNIFATEA-DTEI-3",
          "UNIFOR-CDC-3",
          "UFPE-E-3",
          "UFRN-D-4",
          " FIAMFAAM-PPeGdEU-3",
          "UNIVILLE-D-4",
          "PUC-RIO-A-3",
          "UNISINOS-AeU-4",
          "UFC-AEUED-3",
          "UFRJ-PeP-4",
          "UFV-AEU-4",
          "UFCG-D-3",
          "UFU-AeU-3",
          "USJT-AEU-4",
          "UFPA-AeU-4",
          "UNB-D-3",
          "UERJ-D-4",
          "UFBA-C-CeR-4",
          "UFSC-UHEADC-4",
          "IMED-AEU-3",
          "UDESC-D-4",
          "UFG-PEC-3",
          "UNISINOS-D-5",
          "UFRN-APEMA-4",
          "UFRJ-AP-4",
          "UEL-AeU-4",
          "UNESP-BAURU-AeU-4",
          "PUC-RIO-D-5",
          "UNIRITTER-D-4",
          "UNIRITTER-AeU-4",
          "UFJF-AC-4",
          "UFPR-D-4",
          "UFPB-JP-AEU-4",
          "UFMA-D-3",
          "UFES-AEU-4",
          "UFRGS-A-4",
          "UFPE-D-4",
          "UFAL-DDEH-3",
          "UAM-D-5",
          "UFSC-D-5",
          "UFF-AEU-4",
          "UFRGS-D-5",
          "UEMG-D-5",
          "UNB-AEU-4",
          "PUCCAMP-AeU-5",
          "UNICAMP-ATeC-5",
          "UFBA-AEU-4",
          "UFRJ-A-6",
          "USP/SC-AEU-4",
          "UFRN-AEU-4",
          "UFMG-AEU-6",
          "UFSC-AEU-5",
          "UNESP-BAURU-D-6",
          "UFRJ-U-5",
          "UPM-AEU-6",
          "UFPEL-AEU-4",
          "USP-AEU-4"
         ],
         "y": [
          0,
          0,
          0,
          0,
          0,
          0,
          0,
          0,
          0,
          0,
          2,
          0,
          0,
          0,
          0,
          0,
          0,
          0,
          0,
          0,
          0,
          1,
          1,
          0,
          0,
          0,
          0,
          1,
          0,
          0,
          0,
          0,
          0,
          0,
          0,
          0,
          0,
          0,
          0,
          0,
          0,
          0,
          0,
          0,
          0,
          0,
          0,
          0,
          2,
          0,
          1,
          0,
          0,
          4,
          0,
          2,
          0,
          0
         ]
        },
        {
         "marker": {
          "color": "#00CC00"
         },
         "name": "B4 (0.05)",
         "type": "bar",
         "x": [
          "CESAR-D-3",
          "UNIFATEA-DTEI-3",
          "UNIFOR-CDC-3",
          "UFPE-E-3",
          "UFRN-D-4",
          " FIAMFAAM-PPeGdEU-3",
          "UNIVILLE-D-4",
          "PUC-RIO-A-3",
          "UNISINOS-AeU-4",
          "UFC-AEUED-3",
          "UFRJ-PeP-4",
          "UFV-AEU-4",
          "UFCG-D-3",
          "UFU-AeU-3",
          "USJT-AEU-4",
          "UFPA-AeU-4",
          "UNB-D-3",
          "UERJ-D-4",
          "UFBA-C-CeR-4",
          "UFSC-UHEADC-4",
          "IMED-AEU-3",
          "UDESC-D-4",
          "UFG-PEC-3",
          "UNISINOS-D-5",
          "UFRN-APEMA-4",
          "UFRJ-AP-4",
          "UEL-AeU-4",
          "UNESP-BAURU-AeU-4",
          "PUC-RIO-D-5",
          "UNIRITTER-D-4",
          "UNIRITTER-AeU-4",
          "UFJF-AC-4",
          "UFPR-D-4",
          "UFPB-JP-AEU-4",
          "UFMA-D-3",
          "UFES-AEU-4",
          "UFRGS-A-4",
          "UFPE-D-4",
          "UFAL-DDEH-3",
          "UAM-D-5",
          "UFSC-D-5",
          "UFF-AEU-4",
          "UFRGS-D-5",
          "UEMG-D-5",
          "UNB-AEU-4",
          "PUCCAMP-AeU-5",
          "UNICAMP-ATeC-5",
          "UFBA-AEU-4",
          "UFRJ-A-6",
          "USP/SC-AEU-4",
          "UFRN-AEU-4",
          "UFMG-AEU-6",
          "UFSC-AEU-5",
          "UNESP-BAURU-D-6",
          "UFRJ-U-5",
          "UPM-AEU-6",
          "UFPEL-AEU-4",
          "USP-AEU-4"
         ],
         "y": [
          0,
          0,
          0,
          0,
          0,
          0,
          0,
          0,
          0,
          0,
          0,
          0,
          0,
          0,
          0,
          0,
          0,
          0,
          0,
          0,
          0,
          0,
          0,
          0,
          0,
          0,
          0,
          0,
          0,
          0,
          0,
          0,
          0,
          0,
          0,
          0,
          0,
          0,
          0,
          0,
          0,
          0,
          0,
          0,
          0,
          0,
          0,
          0,
          0,
          0,
          0,
          0,
          0,
          0,
          0,
          1,
          0,
          0
         ]
        },
        {
         "marker": {
          "color": "#00FF00"
         },
         "name": "B5 (0)",
         "type": "bar",
         "x": [
          "CESAR-D-3",
          "UNIFATEA-DTEI-3",
          "UNIFOR-CDC-3",
          "UFPE-E-3",
          "UFRN-D-4",
          " FIAMFAAM-PPeGdEU-3",
          "UNIVILLE-D-4",
          "PUC-RIO-A-3",
          "UNISINOS-AeU-4",
          "UFC-AEUED-3",
          "UFRJ-PeP-4",
          "UFV-AEU-4",
          "UFCG-D-3",
          "UFU-AeU-3",
          "USJT-AEU-4",
          "UFPA-AeU-4",
          "UNB-D-3",
          "UERJ-D-4",
          "UFBA-C-CeR-4",
          "UFSC-UHEADC-4",
          "IMED-AEU-3",
          "UDESC-D-4",
          "UFG-PEC-3",
          "UNISINOS-D-5",
          "UFRN-APEMA-4",
          "UFRJ-AP-4",
          "UEL-AeU-4",
          "UNESP-BAURU-AeU-4",
          "PUC-RIO-D-5",
          "UNIRITTER-D-4",
          "UNIRITTER-AeU-4",
          "UFJF-AC-4",
          "UFPR-D-4",
          "UFPB-JP-AEU-4",
          "UFMA-D-3",
          "UFES-AEU-4",
          "UFRGS-A-4",
          "UFPE-D-4",
          "UFAL-DDEH-3",
          "UAM-D-5",
          "UFSC-D-5",
          "UFF-AEU-4",
          "UFRGS-D-5",
          "UEMG-D-5",
          "UNB-AEU-4",
          "PUCCAMP-AeU-5",
          "UNICAMP-ATeC-5",
          "UFBA-AEU-4",
          "UFRJ-A-6",
          "USP/SC-AEU-4",
          "UFRN-AEU-4",
          "UFMG-AEU-6",
          "UFSC-AEU-5",
          "UNESP-BAURU-D-6",
          "UFRJ-U-5",
          "UPM-AEU-6",
          "UFPEL-AEU-4",
          "USP-AEU-4"
         ],
         "y": [
          0,
          0,
          0,
          0,
          0,
          0,
          0,
          0,
          0,
          0,
          0,
          0,
          0,
          0,
          0,
          0,
          0,
          0,
          0,
          0,
          0,
          0,
          0,
          0,
          0,
          0,
          0,
          0,
          0,
          0,
          0,
          0,
          0,
          0,
          0,
          0,
          0,
          0,
          0,
          0,
          0,
          0,
          0,
          0,
          0,
          0,
          0,
          0,
          0,
          0,
          0,
          0,
          0,
          0,
          0,
          0,
          0,
          0
         ]
        },
        {
         "marker": {
          "color": "#880000"
         },
         "name": "C (0)",
         "type": "bar",
         "x": [
          "CESAR-D-3",
          "UNIFATEA-DTEI-3",
          "UNIFOR-CDC-3",
          "UFPE-E-3",
          "UFRN-D-4",
          " FIAMFAAM-PPeGdEU-3",
          "UNIVILLE-D-4",
          "PUC-RIO-A-3",
          "UNISINOS-AeU-4",
          "UFC-AEUED-3",
          "UFRJ-PeP-4",
          "UFV-AEU-4",
          "UFCG-D-3",
          "UFU-AeU-3",
          "USJT-AEU-4",
          "UFPA-AeU-4",
          "UNB-D-3",
          "UERJ-D-4",
          "UFBA-C-CeR-4",
          "UFSC-UHEADC-4",
          "IMED-AEU-3",
          "UDESC-D-4",
          "UFG-PEC-3",
          "UNISINOS-D-5",
          "UFRN-APEMA-4",
          "UFRJ-AP-4",
          "UEL-AeU-4",
          "UNESP-BAURU-AeU-4",
          "PUC-RIO-D-5",
          "UNIRITTER-D-4",
          "UNIRITTER-AeU-4",
          "UFJF-AC-4",
          "UFPR-D-4",
          "UFPB-JP-AEU-4",
          "UFMA-D-3",
          "UFES-AEU-4",
          "UFRGS-A-4",
          "UFPE-D-4",
          "UFAL-DDEH-3",
          "UAM-D-5",
          "UFSC-D-5",
          "UFF-AEU-4",
          "UFRGS-D-5",
          "UEMG-D-5",
          "UNB-AEU-4",
          "PUCCAMP-AeU-5",
          "UNICAMP-ATeC-5",
          "UFBA-AEU-4",
          "UFRJ-A-6",
          "USP/SC-AEU-4",
          "UFRN-AEU-4",
          "UFMG-AEU-6",
          "UFSC-AEU-5",
          "UNESP-BAURU-D-6",
          "UFRJ-U-5",
          "UPM-AEU-6",
          "UFPEL-AEU-4",
          "USP-AEU-4"
         ],
         "y": [
          0,
          0,
          0,
          0,
          0,
          1,
          1,
          2,
          4,
          1,
          1,
          3,
          0,
          1,
          0,
          0,
          7,
          0,
          1,
          0,
          0,
          1,
          6,
          12,
          0,
          5,
          0,
          2,
          2,
          3,
          2,
          2,
          4,
          0,
          0,
          4,
          0,
          0,
          3,
          57,
          3,
          1,
          13,
          1,
          3,
          0,
          0,
          0,
          7,
          3,
          0,
          3,
          1,
          19,
          16,
          17,
          3,
          19
         ]
        },
        {
         "marker": {
          "color": "#CC0000"
         },
         "name": "NA (0)",
         "type": "bar",
         "x": [
          "CESAR-D-3",
          "UNIFATEA-DTEI-3",
          "UNIFOR-CDC-3",
          "UFPE-E-3",
          "UFRN-D-4",
          " FIAMFAAM-PPeGdEU-3",
          "UNIVILLE-D-4",
          "PUC-RIO-A-3",
          "UNISINOS-AeU-4",
          "UFC-AEUED-3",
          "UFRJ-PeP-4",
          "UFV-AEU-4",
          "UFCG-D-3",
          "UFU-AeU-3",
          "USJT-AEU-4",
          "UFPA-AeU-4",
          "UNB-D-3",
          "UERJ-D-4",
          "UFBA-C-CeR-4",
          "UFSC-UHEADC-4",
          "IMED-AEU-3",
          "UDESC-D-4",
          "UFG-PEC-3",
          "UNISINOS-D-5",
          "UFRN-APEMA-4",
          "UFRJ-AP-4",
          "UEL-AeU-4",
          "UNESP-BAURU-AeU-4",
          "PUC-RIO-D-5",
          "UNIRITTER-D-4",
          "UNIRITTER-AeU-4",
          "UFJF-AC-4",
          "UFPR-D-4",
          "UFPB-JP-AEU-4",
          "UFMA-D-3",
          "UFES-AEU-4",
          "UFRGS-A-4",
          "UFPE-D-4",
          "UFAL-DDEH-3",
          "UAM-D-5",
          "UFSC-D-5",
          "UFF-AEU-4",
          "UFRGS-D-5",
          "UEMG-D-5",
          "UNB-AEU-4",
          "PUCCAMP-AeU-5",
          "UNICAMP-ATeC-5",
          "UFBA-AEU-4",
          "UFRJ-A-6",
          "USP/SC-AEU-4",
          "UFRN-AEU-4",
          "UFMG-AEU-6",
          "UFSC-AEU-5",
          "UNESP-BAURU-D-6",
          "UFRJ-U-5",
          "UPM-AEU-6",
          "UFPEL-AEU-4",
          "USP-AEU-4"
         ],
         "y": [
          2,
          18,
          23,
          45,
          49,
          49,
          48,
          76,
          87,
          87,
          95,
          98,
          101,
          106,
          109,
          113,
          106,
          121,
          133,
          134,
          135,
          136,
          130,
          115,
          145,
          149,
          156,
          164,
          162,
          195,
          205,
          210,
          205,
          216,
          206,
          219,
          229,
          229,
          232,
          170,
          248,
          280,
          262,
          288,
          288,
          307,
          312,
          323,
          367,
          378,
          384,
          399,
          417,
          460,
          494,
          495,
          527,
          1057
         ]
        },
        {
         "marker": {
          "color": "#FF0000"
         },
         "name": "NP (0)",
         "type": "bar",
         "x": [
          "CESAR-D-3",
          "UNIFATEA-DTEI-3",
          "UNIFOR-CDC-3",
          "UFPE-E-3",
          "UFRN-D-4",
          " FIAMFAAM-PPeGdEU-3",
          "UNIVILLE-D-4",
          "PUC-RIO-A-3",
          "UNISINOS-AeU-4",
          "UFC-AEUED-3",
          "UFRJ-PeP-4",
          "UFV-AEU-4",
          "UFCG-D-3",
          "UFU-AeU-3",
          "USJT-AEU-4",
          "UFPA-AeU-4",
          "UNB-D-3",
          "UERJ-D-4",
          "UFBA-C-CeR-4",
          "UFSC-UHEADC-4",
          "IMED-AEU-3",
          "UDESC-D-4",
          "UFG-PEC-3",
          "UNISINOS-D-5",
          "UFRN-APEMA-4",
          "UFRJ-AP-4",
          "UEL-AeU-4",
          "UNESP-BAURU-AeU-4",
          "PUC-RIO-D-5",
          "UNIRITTER-D-4",
          "UNIRITTER-AeU-4",
          "UFJF-AC-4",
          "UFPR-D-4",
          "UFPB-JP-AEU-4",
          "UFMA-D-3",
          "UFES-AEU-4",
          "UFRGS-A-4",
          "UFPE-D-4",
          "UFAL-DDEH-3",
          "UAM-D-5",
          "UFSC-D-5",
          "UFF-AEU-4",
          "UFRGS-D-5",
          "UEMG-D-5",
          "UNB-AEU-4",
          "PUCCAMP-AeU-5",
          "UNICAMP-ATeC-5",
          "UFBA-AEU-4",
          "UFRJ-A-6",
          "USP/SC-AEU-4",
          "UFRN-AEU-4",
          "UFMG-AEU-6",
          "UFSC-AEU-5",
          "UNESP-BAURU-D-6",
          "UFRJ-U-5",
          "UPM-AEU-6",
          "UFPEL-AEU-4",
          "USP-AEU-4"
         ],
         "y": [
          0,
          0,
          0,
          0,
          0,
          0,
          0,
          0,
          0,
          0,
          0,
          0,
          0,
          0,
          0,
          0,
          0,
          0,
          0,
          0,
          0,
          0,
          0,
          0,
          0,
          0,
          0,
          0,
          0,
          0,
          0,
          0,
          0,
          0,
          0,
          0,
          0,
          0,
          0,
          0,
          0,
          0,
          0,
          0,
          0,
          0,
          0,
          0,
          0,
          0,
          0,
          0,
          0,
          0,
          0,
          0,
          0,
          0
         ]
        }
       ],
       "layout": {
        "barmode": "stack",
        "template": {
         "data": {
          "bar": [
           {
            "error_x": {
             "color": "#2a3f5f"
            },
            "error_y": {
             "color": "#2a3f5f"
            },
            "marker": {
             "line": {
              "color": "#E5ECF6",
              "width": 0.5
             }
            },
            "type": "bar"
           }
          ],
          "barpolar": [
           {
            "marker": {
             "line": {
              "color": "#E5ECF6",
              "width": 0.5
             }
            },
            "type": "barpolar"
           }
          ],
          "carpet": [
           {
            "aaxis": {
             "endlinecolor": "#2a3f5f",
             "gridcolor": "white",
             "linecolor": "white",
             "minorgridcolor": "white",
             "startlinecolor": "#2a3f5f"
            },
            "baxis": {
             "endlinecolor": "#2a3f5f",
             "gridcolor": "white",
             "linecolor": "white",
             "minorgridcolor": "white",
             "startlinecolor": "#2a3f5f"
            },
            "type": "carpet"
           }
          ],
          "choropleth": [
           {
            "colorbar": {
             "outlinewidth": 0,
             "ticks": ""
            },
            "type": "choropleth"
           }
          ],
          "contour": [
           {
            "colorbar": {
             "outlinewidth": 0,
             "ticks": ""
            },
            "colorscale": [
             [
              0,
              "#0d0887"
             ],
             [
              0.1111111111111111,
              "#46039f"
             ],
             [
              0.2222222222222222,
              "#7201a8"
             ],
             [
              0.3333333333333333,
              "#9c179e"
             ],
             [
              0.4444444444444444,
              "#bd3786"
             ],
             [
              0.5555555555555556,
              "#d8576b"
             ],
             [
              0.6666666666666666,
              "#ed7953"
             ],
             [
              0.7777777777777778,
              "#fb9f3a"
             ],
             [
              0.8888888888888888,
              "#fdca26"
             ],
             [
              1,
              "#f0f921"
             ]
            ],
            "type": "contour"
           }
          ],
          "contourcarpet": [
           {
            "colorbar": {
             "outlinewidth": 0,
             "ticks": ""
            },
            "type": "contourcarpet"
           }
          ],
          "heatmap": [
           {
            "colorbar": {
             "outlinewidth": 0,
             "ticks": ""
            },
            "colorscale": [
             [
              0,
              "#0d0887"
             ],
             [
              0.1111111111111111,
              "#46039f"
             ],
             [
              0.2222222222222222,
              "#7201a8"
             ],
             [
              0.3333333333333333,
              "#9c179e"
             ],
             [
              0.4444444444444444,
              "#bd3786"
             ],
             [
              0.5555555555555556,
              "#d8576b"
             ],
             [
              0.6666666666666666,
              "#ed7953"
             ],
             [
              0.7777777777777778,
              "#fb9f3a"
             ],
             [
              0.8888888888888888,
              "#fdca26"
             ],
             [
              1,
              "#f0f921"
             ]
            ],
            "type": "heatmap"
           }
          ],
          "heatmapgl": [
           {
            "colorbar": {
             "outlinewidth": 0,
             "ticks": ""
            },
            "colorscale": [
             [
              0,
              "#0d0887"
             ],
             [
              0.1111111111111111,
              "#46039f"
             ],
             [
              0.2222222222222222,
              "#7201a8"
             ],
             [
              0.3333333333333333,
              "#9c179e"
             ],
             [
              0.4444444444444444,
              "#bd3786"
             ],
             [
              0.5555555555555556,
              "#d8576b"
             ],
             [
              0.6666666666666666,
              "#ed7953"
             ],
             [
              0.7777777777777778,
              "#fb9f3a"
             ],
             [
              0.8888888888888888,
              "#fdca26"
             ],
             [
              1,
              "#f0f921"
             ]
            ],
            "type": "heatmapgl"
           }
          ],
          "histogram": [
           {
            "marker": {
             "colorbar": {
              "outlinewidth": 0,
              "ticks": ""
             }
            },
            "type": "histogram"
           }
          ],
          "histogram2d": [
           {
            "colorbar": {
             "outlinewidth": 0,
             "ticks": ""
            },
            "colorscale": [
             [
              0,
              "#0d0887"
             ],
             [
              0.1111111111111111,
              "#46039f"
             ],
             [
              0.2222222222222222,
              "#7201a8"
             ],
             [
              0.3333333333333333,
              "#9c179e"
             ],
             [
              0.4444444444444444,
              "#bd3786"
             ],
             [
              0.5555555555555556,
              "#d8576b"
             ],
             [
              0.6666666666666666,
              "#ed7953"
             ],
             [
              0.7777777777777778,
              "#fb9f3a"
             ],
             [
              0.8888888888888888,
              "#fdca26"
             ],
             [
              1,
              "#f0f921"
             ]
            ],
            "type": "histogram2d"
           }
          ],
          "histogram2dcontour": [
           {
            "colorbar": {
             "outlinewidth": 0,
             "ticks": ""
            },
            "colorscale": [
             [
              0,
              "#0d0887"
             ],
             [
              0.1111111111111111,
              "#46039f"
             ],
             [
              0.2222222222222222,
              "#7201a8"
             ],
             [
              0.3333333333333333,
              "#9c179e"
             ],
             [
              0.4444444444444444,
              "#bd3786"
             ],
             [
              0.5555555555555556,
              "#d8576b"
             ],
             [
              0.6666666666666666,
              "#ed7953"
             ],
             [
              0.7777777777777778,
              "#fb9f3a"
             ],
             [
              0.8888888888888888,
              "#fdca26"
             ],
             [
              1,
              "#f0f921"
             ]
            ],
            "type": "histogram2dcontour"
           }
          ],
          "mesh3d": [
           {
            "colorbar": {
             "outlinewidth": 0,
             "ticks": ""
            },
            "type": "mesh3d"
           }
          ],
          "parcoords": [
           {
            "line": {
             "colorbar": {
              "outlinewidth": 0,
              "ticks": ""
             }
            },
            "type": "parcoords"
           }
          ],
          "pie": [
           {
            "automargin": true,
            "type": "pie"
           }
          ],
          "scatter": [
           {
            "marker": {
             "colorbar": {
              "outlinewidth": 0,
              "ticks": ""
             }
            },
            "type": "scatter"
           }
          ],
          "scatter3d": [
           {
            "line": {
             "colorbar": {
              "outlinewidth": 0,
              "ticks": ""
             }
            },
            "marker": {
             "colorbar": {
              "outlinewidth": 0,
              "ticks": ""
             }
            },
            "type": "scatter3d"
           }
          ],
          "scattercarpet": [
           {
            "marker": {
             "colorbar": {
              "outlinewidth": 0,
              "ticks": ""
             }
            },
            "type": "scattercarpet"
           }
          ],
          "scattergeo": [
           {
            "marker": {
             "colorbar": {
              "outlinewidth": 0,
              "ticks": ""
             }
            },
            "type": "scattergeo"
           }
          ],
          "scattergl": [
           {
            "marker": {
             "colorbar": {
              "outlinewidth": 0,
              "ticks": ""
             }
            },
            "type": "scattergl"
           }
          ],
          "scattermapbox": [
           {
            "marker": {
             "colorbar": {
              "outlinewidth": 0,
              "ticks": ""
             }
            },
            "type": "scattermapbox"
           }
          ],
          "scatterpolar": [
           {
            "marker": {
             "colorbar": {
              "outlinewidth": 0,
              "ticks": ""
             }
            },
            "type": "scatterpolar"
           }
          ],
          "scatterpolargl": [
           {
            "marker": {
             "colorbar": {
              "outlinewidth": 0,
              "ticks": ""
             }
            },
            "type": "scatterpolargl"
           }
          ],
          "scatterternary": [
           {
            "marker": {
             "colorbar": {
              "outlinewidth": 0,
              "ticks": ""
             }
            },
            "type": "scatterternary"
           }
          ],
          "surface": [
           {
            "colorbar": {
             "outlinewidth": 0,
             "ticks": ""
            },
            "colorscale": [
             [
              0,
              "#0d0887"
             ],
             [
              0.1111111111111111,
              "#46039f"
             ],
             [
              0.2222222222222222,
              "#7201a8"
             ],
             [
              0.3333333333333333,
              "#9c179e"
             ],
             [
              0.4444444444444444,
              "#bd3786"
             ],
             [
              0.5555555555555556,
              "#d8576b"
             ],
             [
              0.6666666666666666,
              "#ed7953"
             ],
             [
              0.7777777777777778,
              "#fb9f3a"
             ],
             [
              0.8888888888888888,
              "#fdca26"
             ],
             [
              1,
              "#f0f921"
             ]
            ],
            "type": "surface"
           }
          ],
          "table": [
           {
            "cells": {
             "fill": {
              "color": "#EBF0F8"
             },
             "line": {
              "color": "white"
             }
            },
            "header": {
             "fill": {
              "color": "#C8D4E3"
             },
             "line": {
              "color": "white"
             }
            },
            "type": "table"
           }
          ]
         },
         "layout": {
          "annotationdefaults": {
           "arrowcolor": "#2a3f5f",
           "arrowhead": 0,
           "arrowwidth": 1
          },
          "coloraxis": {
           "colorbar": {
            "outlinewidth": 0,
            "ticks": ""
           }
          },
          "colorscale": {
           "diverging": [
            [
             0,
             "#8e0152"
            ],
            [
             0.1,
             "#c51b7d"
            ],
            [
             0.2,
             "#de77ae"
            ],
            [
             0.3,
             "#f1b6da"
            ],
            [
             0.4,
             "#fde0ef"
            ],
            [
             0.5,
             "#f7f7f7"
            ],
            [
             0.6,
             "#e6f5d0"
            ],
            [
             0.7,
             "#b8e186"
            ],
            [
             0.8,
             "#7fbc41"
            ],
            [
             0.9,
             "#4d9221"
            ],
            [
             1,
             "#276419"
            ]
           ],
           "sequential": [
            [
             0,
             "#0d0887"
            ],
            [
             0.1111111111111111,
             "#46039f"
            ],
            [
             0.2222222222222222,
             "#7201a8"
            ],
            [
             0.3333333333333333,
             "#9c179e"
            ],
            [
             0.4444444444444444,
             "#bd3786"
            ],
            [
             0.5555555555555556,
             "#d8576b"
            ],
            [
             0.6666666666666666,
             "#ed7953"
            ],
            [
             0.7777777777777778,
             "#fb9f3a"
            ],
            [
             0.8888888888888888,
             "#fdca26"
            ],
            [
             1,
             "#f0f921"
            ]
           ],
           "sequentialminus": [
            [
             0,
             "#0d0887"
            ],
            [
             0.1111111111111111,
             "#46039f"
            ],
            [
             0.2222222222222222,
             "#7201a8"
            ],
            [
             0.3333333333333333,
             "#9c179e"
            ],
            [
             0.4444444444444444,
             "#bd3786"
            ],
            [
             0.5555555555555556,
             "#d8576b"
            ],
            [
             0.6666666666666666,
             "#ed7953"
            ],
            [
             0.7777777777777778,
             "#fb9f3a"
            ],
            [
             0.8888888888888888,
             "#fdca26"
            ],
            [
             1,
             "#f0f921"
            ]
           ]
          },
          "colorway": [
           "#636efa",
           "#EF553B",
           "#00cc96",
           "#ab63fa",
           "#FFA15A",
           "#19d3f3",
           "#FF6692",
           "#B6E880",
           "#FF97FF",
           "#FECB52"
          ],
          "font": {
           "color": "#2a3f5f"
          },
          "geo": {
           "bgcolor": "white",
           "lakecolor": "white",
           "landcolor": "#E5ECF6",
           "showlakes": true,
           "showland": true,
           "subunitcolor": "white"
          },
          "hoverlabel": {
           "align": "left"
          },
          "hovermode": "closest",
          "mapbox": {
           "style": "light"
          },
          "paper_bgcolor": "white",
          "plot_bgcolor": "#E5ECF6",
          "polar": {
           "angularaxis": {
            "gridcolor": "white",
            "linecolor": "white",
            "ticks": ""
           },
           "bgcolor": "#E5ECF6",
           "radialaxis": {
            "gridcolor": "white",
            "linecolor": "white",
            "ticks": ""
           }
          },
          "scene": {
           "xaxis": {
            "backgroundcolor": "#E5ECF6",
            "gridcolor": "white",
            "gridwidth": 2,
            "linecolor": "white",
            "showbackground": true,
            "ticks": "",
            "zerolinecolor": "white"
           },
           "yaxis": {
            "backgroundcolor": "#E5ECF6",
            "gridcolor": "white",
            "gridwidth": 2,
            "linecolor": "white",
            "showbackground": true,
            "ticks": "",
            "zerolinecolor": "white"
           },
           "zaxis": {
            "backgroundcolor": "#E5ECF6",
            "gridcolor": "white",
            "gridwidth": 2,
            "linecolor": "white",
            "showbackground": true,
            "ticks": "",
            "zerolinecolor": "white"
           }
          },
          "shapedefaults": {
           "line": {
            "color": "#2a3f5f"
           }
          },
          "ternary": {
           "aaxis": {
            "gridcolor": "white",
            "linecolor": "white",
            "ticks": ""
           },
           "baxis": {
            "gridcolor": "white",
            "linecolor": "white",
            "ticks": ""
           },
           "bgcolor": "#E5ECF6",
           "caxis": {
            "gridcolor": "white",
            "linecolor": "white",
            "ticks": ""
           }
          },
          "title": {
           "x": 0.05
          },
          "xaxis": {
           "automargin": true,
           "gridcolor": "white",
           "linecolor": "white",
           "ticks": "",
           "title": {
            "standoff": 15
           },
           "zerolinecolor": "white",
           "zerolinewidth": 2
          },
          "yaxis": {
           "automargin": true,
           "gridcolor": "white",
           "linecolor": "white",
           "ticks": "",
           "title": {
            "standoff": 15
           },
           "zerolinecolor": "white",
           "zerolinewidth": 2
          }
         }
        },
        "title": {
         "font": {
          "color": "#000000",
          "size": 20
         },
         "text": "Conferências por Qualis",
         "x": 0.5,
         "xanchor": "center"
        },
        "xaxis": {
         "title": {
          "text": "Instituição"
         }
        }
       }
      },
      "text/html": [
       "<div>\n",
       "        \n",
       "        \n",
       "            <div id=\"237ff201-4b23-4d5d-9e2e-f43a29cb244b\" class=\"plotly-graph-div\" style=\"height:525px; width:100%;\"></div>\n",
       "            <script type=\"text/javascript\">\n",
       "                require([\"plotly\"], function(Plotly) {\n",
       "                    window.PLOTLYENV=window.PLOTLYENV || {};\n",
       "                    \n",
       "                if (document.getElementById(\"237ff201-4b23-4d5d-9e2e-f43a29cb244b\")) {\n",
       "                    Plotly.newPlot(\n",
       "                        '237ff201-4b23-4d5d-9e2e-f43a29cb244b',\n",
       "                        [{\"marker\": {\"color\": \"#000044\"}, \"name\": \"A1 (1)\", \"type\": \"bar\", \"x\": [\"CESAR-D-3\", \"UNIFATEA-DTEI-3\", \"UNIFOR-CDC-3\", \"UFPE-E-3\", \"UFRN-D-4\", \" FIAMFAAM-PPeGdEU-3\", \"UNIVILLE-D-4\", \"PUC-RIO-A-3\", \"UNISINOS-AeU-4\", \"UFC-AEUED-3\", \"UFRJ-PeP-4\", \"UFV-AEU-4\", \"UFCG-D-3\", \"UFU-AeU-3\", \"USJT-AEU-4\", \"UFPA-AeU-4\", \"UNB-D-3\", \"UERJ-D-4\", \"UFBA-C-CeR-4\", \"UFSC-UHEADC-4\", \"IMED-AEU-3\", \"UDESC-D-4\", \"UFG-PEC-3\", \"UNISINOS-D-5\", \"UFRN-APEMA-4\", \"UFRJ-AP-4\", \"UEL-AeU-4\", \"UNESP-BAURU-AeU-4\", \"PUC-RIO-D-5\", \"UNIRITTER-D-4\", \"UNIRITTER-AeU-4\", \"UFJF-AC-4\", \"UFPR-D-4\", \"UFPB-JP-AEU-4\", \"UFMA-D-3\", \"UFES-AEU-4\", \"UFRGS-A-4\", \"UFPE-D-4\", \"UFAL-DDEH-3\", \"UAM-D-5\", \"UFSC-D-5\", \"UFF-AEU-4\", \"UFRGS-D-5\", \"UEMG-D-5\", \"UNB-AEU-4\", \"PUCCAMP-AeU-5\", \"UNICAMP-ATeC-5\", \"UFBA-AEU-4\", \"UFRJ-A-6\", \"USP/SC-AEU-4\", \"UFRN-AEU-4\", \"UFMG-AEU-6\", \"UFSC-AEU-5\", \"UNESP-BAURU-D-6\", \"UFRJ-U-5\", \"UPM-AEU-6\", \"UFPEL-AEU-4\", \"USP-AEU-4\"], \"y\": [0, 0, 0, 0, 0, 0, 0, 0, 0, 0, 0, 0, 0, 0, 0, 0, 0, 0, 0, 0, 0, 0, 0, 0, 0, 1, 0, 0, 0, 0, 0, 0, 0, 0, 0, 0, 0, 0, 0, 0, 0, 0, 0, 0, 0, 0, 0, 0, 0, 0, 0, 0, 0, 0, 0, 0, 0, 0]}, {\"marker\": {\"color\": \"#000088\"}, \"name\": \"A2 (0.875)\", \"type\": \"bar\", \"x\": [\"CESAR-D-3\", \"UNIFATEA-DTEI-3\", \"UNIFOR-CDC-3\", \"UFPE-E-3\", \"UFRN-D-4\", \" FIAMFAAM-PPeGdEU-3\", \"UNIVILLE-D-4\", \"PUC-RIO-A-3\", \"UNISINOS-AeU-4\", \"UFC-AEUED-3\", \"UFRJ-PeP-4\", \"UFV-AEU-4\", \"UFCG-D-3\", \"UFU-AeU-3\", \"USJT-AEU-4\", \"UFPA-AeU-4\", \"UNB-D-3\", \"UERJ-D-4\", \"UFBA-C-CeR-4\", \"UFSC-UHEADC-4\", \"IMED-AEU-3\", \"UDESC-D-4\", \"UFG-PEC-3\", \"UNISINOS-D-5\", \"UFRN-APEMA-4\", \"UFRJ-AP-4\", \"UEL-AeU-4\", \"UNESP-BAURU-AeU-4\", \"PUC-RIO-D-5\", \"UNIRITTER-D-4\", \"UNIRITTER-AeU-4\", \"UFJF-AC-4\", \"UFPR-D-4\", \"UFPB-JP-AEU-4\", \"UFMA-D-3\", \"UFES-AEU-4\", \"UFRGS-A-4\", \"UFPE-D-4\", \"UFAL-DDEH-3\", \"UAM-D-5\", \"UFSC-D-5\", \"UFF-AEU-4\", \"UFRGS-D-5\", \"UEMG-D-5\", \"UNB-AEU-4\", \"PUCCAMP-AeU-5\", \"UNICAMP-ATeC-5\", \"UFBA-AEU-4\", \"UFRJ-A-6\", \"USP/SC-AEU-4\", \"UFRN-AEU-4\", \"UFMG-AEU-6\", \"UFSC-AEU-5\", \"UNESP-BAURU-D-6\", \"UFRJ-U-5\", \"UPM-AEU-6\", \"UFPEL-AEU-4\", \"USP-AEU-4\"], \"y\": [0, 0, 0, 0, 0, 0, 0, 0, 0, 0, 0, 0, 0, 0, 0, 0, 0, 0, 0, 0, 0, 0, 0, 0, 0, 0, 0, 0, 0, 0, 0, 0, 0, 0, 0, 0, 0, 0, 0, 0, 0, 0, 0, 0, 0, 0, 0, 0, 0, 0, 0, 0, 0, 0, 0, 0, 0, 0]}, {\"marker\": {\"color\": \"#0000CC\"}, \"name\": \"A3 (0.75)\", \"type\": \"bar\", \"x\": [\"CESAR-D-3\", \"UNIFATEA-DTEI-3\", \"UNIFOR-CDC-3\", \"UFPE-E-3\", \"UFRN-D-4\", \" FIAMFAAM-PPeGdEU-3\", \"UNIVILLE-D-4\", \"PUC-RIO-A-3\", \"UNISINOS-AeU-4\", \"UFC-AEUED-3\", \"UFRJ-PeP-4\", \"UFV-AEU-4\", \"UFCG-D-3\", \"UFU-AeU-3\", \"USJT-AEU-4\", \"UFPA-AeU-4\", \"UNB-D-3\", \"UERJ-D-4\", \"UFBA-C-CeR-4\", \"UFSC-UHEADC-4\", \"IMED-AEU-3\", \"UDESC-D-4\", \"UFG-PEC-3\", \"UNISINOS-D-5\", \"UFRN-APEMA-4\", \"UFRJ-AP-4\", \"UEL-AeU-4\", \"UNESP-BAURU-AeU-4\", \"PUC-RIO-D-5\", \"UNIRITTER-D-4\", \"UNIRITTER-AeU-4\", \"UFJF-AC-4\", \"UFPR-D-4\", \"UFPB-JP-AEU-4\", \"UFMA-D-3\", \"UFES-AEU-4\", \"UFRGS-A-4\", \"UFPE-D-4\", \"UFAL-DDEH-3\", \"UAM-D-5\", \"UFSC-D-5\", \"UFF-AEU-4\", \"UFRGS-D-5\", \"UEMG-D-5\", \"UNB-AEU-4\", \"PUCCAMP-AeU-5\", \"UNICAMP-ATeC-5\", \"UFBA-AEU-4\", \"UFRJ-A-6\", \"USP/SC-AEU-4\", \"UFRN-AEU-4\", \"UFMG-AEU-6\", \"UFSC-AEU-5\", \"UNESP-BAURU-D-6\", \"UFRJ-U-5\", \"UPM-AEU-6\", \"UFPEL-AEU-4\", \"USP-AEU-4\"], \"y\": [0, 0, 0, 0, 0, 0, 0, 0, 0, 0, 0, 0, 0, 0, 0, 0, 0, 0, 0, 0, 0, 0, 0, 0, 0, 0, 0, 0, 0, 0, 0, 0, 0, 0, 0, 0, 0, 0, 0, 0, 0, 0, 0, 0, 2, 0, 0, 0, 0, 0, 0, 0, 0, 0, 0, 0, 0, 0]}, {\"marker\": {\"color\": \"#0000FF\"}, \"name\": \"A4 (0.625)\", \"type\": \"bar\", \"x\": [\"CESAR-D-3\", \"UNIFATEA-DTEI-3\", \"UNIFOR-CDC-3\", \"UFPE-E-3\", \"UFRN-D-4\", \" FIAMFAAM-PPeGdEU-3\", \"UNIVILLE-D-4\", \"PUC-RIO-A-3\", \"UNISINOS-AeU-4\", \"UFC-AEUED-3\", \"UFRJ-PeP-4\", \"UFV-AEU-4\", \"UFCG-D-3\", \"UFU-AeU-3\", \"USJT-AEU-4\", \"UFPA-AeU-4\", \"UNB-D-3\", \"UERJ-D-4\", \"UFBA-C-CeR-4\", \"UFSC-UHEADC-4\", \"IMED-AEU-3\", \"UDESC-D-4\", \"UFG-PEC-3\", \"UNISINOS-D-5\", \"UFRN-APEMA-4\", \"UFRJ-AP-4\", \"UEL-AeU-4\", \"UNESP-BAURU-AeU-4\", \"PUC-RIO-D-5\", \"UNIRITTER-D-4\", \"UNIRITTER-AeU-4\", \"UFJF-AC-4\", \"UFPR-D-4\", \"UFPB-JP-AEU-4\", \"UFMA-D-3\", \"UFES-AEU-4\", \"UFRGS-A-4\", \"UFPE-D-4\", \"UFAL-DDEH-3\", \"UAM-D-5\", \"UFSC-D-5\", \"UFF-AEU-4\", \"UFRGS-D-5\", \"UEMG-D-5\", \"UNB-AEU-4\", \"PUCCAMP-AeU-5\", \"UNICAMP-ATeC-5\", \"UFBA-AEU-4\", \"UFRJ-A-6\", \"USP/SC-AEU-4\", \"UFRN-AEU-4\", \"UFMG-AEU-6\", \"UFSC-AEU-5\", \"UNESP-BAURU-D-6\", \"UFRJ-U-5\", \"UPM-AEU-6\", \"UFPEL-AEU-4\", \"USP-AEU-4\"], \"y\": [0, 0, 0, 0, 0, 2, 0, 0, 0, 0, 0, 0, 0, 0, 0, 0, 0, 0, 0, 0, 0, 0, 0, 0, 0, 0, 0, 0, 2, 0, 1, 0, 0, 0, 0, 0, 0, 0, 0, 0, 0, 0, 0, 0, 0, 0, 0, 0, 0, 0, 0, 0, 0, 0, 0, 2, 1, 3]}, {\"marker\": {\"color\": \"#003300\"}, \"name\": \"B1 (0.5)\", \"type\": \"bar\", \"x\": [\"CESAR-D-3\", \"UNIFATEA-DTEI-3\", \"UNIFOR-CDC-3\", \"UFPE-E-3\", \"UFRN-D-4\", \" FIAMFAAM-PPeGdEU-3\", \"UNIVILLE-D-4\", \"PUC-RIO-A-3\", \"UNISINOS-AeU-4\", \"UFC-AEUED-3\", \"UFRJ-PeP-4\", \"UFV-AEU-4\", \"UFCG-D-3\", \"UFU-AeU-3\", \"USJT-AEU-4\", \"UFPA-AeU-4\", \"UNB-D-3\", \"UERJ-D-4\", \"UFBA-C-CeR-4\", \"UFSC-UHEADC-4\", \"IMED-AEU-3\", \"UDESC-D-4\", \"UFG-PEC-3\", \"UNISINOS-D-5\", \"UFRN-APEMA-4\", \"UFRJ-AP-4\", \"UEL-AeU-4\", \"UNESP-BAURU-AeU-4\", \"PUC-RIO-D-5\", \"UNIRITTER-D-4\", \"UNIRITTER-AeU-4\", \"UFJF-AC-4\", \"UFPR-D-4\", \"UFPB-JP-AEU-4\", \"UFMA-D-3\", \"UFES-AEU-4\", \"UFRGS-A-4\", \"UFPE-D-4\", \"UFAL-DDEH-3\", \"UAM-D-5\", \"UFSC-D-5\", \"UFF-AEU-4\", \"UFRGS-D-5\", \"UEMG-D-5\", \"UNB-AEU-4\", \"PUCCAMP-AeU-5\", \"UNICAMP-ATeC-5\", \"UFBA-AEU-4\", \"UFRJ-A-6\", \"USP/SC-AEU-4\", \"UFRN-AEU-4\", \"UFMG-AEU-6\", \"UFSC-AEU-5\", \"UNESP-BAURU-D-6\", \"UFRJ-U-5\", \"UPM-AEU-6\", \"UFPEL-AEU-4\", \"USP-AEU-4\"], \"y\": [0, 0, 0, 0, 1, 0, 7, 2, 0, 7, 0, 0, 0, 1, 0, 0, 3, 5, 0, 0, 0, 1, 2, 16, 0, 0, 0, 0, 12, 0, 0, 0, 4, 1, 13, 0, 0, 5, 1, 10, 3, 0, 9, 4, 1, 0, 0, 0, 2, 2, 0, 1, 0, 16, 6, 2, 0, 9]}, {\"marker\": {\"color\": \"#006600\"}, \"name\": \"B2 (0.2)\", \"type\": \"bar\", \"x\": [\"CESAR-D-3\", \"UNIFATEA-DTEI-3\", \"UNIFOR-CDC-3\", \"UFPE-E-3\", \"UFRN-D-4\", \" FIAMFAAM-PPeGdEU-3\", \"UNIVILLE-D-4\", \"PUC-RIO-A-3\", \"UNISINOS-AeU-4\", \"UFC-AEUED-3\", \"UFRJ-PeP-4\", \"UFV-AEU-4\", \"UFCG-D-3\", \"UFU-AeU-3\", \"USJT-AEU-4\", \"UFPA-AeU-4\", \"UNB-D-3\", \"UERJ-D-4\", \"UFBA-C-CeR-4\", \"UFSC-UHEADC-4\", \"IMED-AEU-3\", \"UDESC-D-4\", \"UFG-PEC-3\", \"UNISINOS-D-5\", \"UFRN-APEMA-4\", \"UFRJ-AP-4\", \"UEL-AeU-4\", \"UNESP-BAURU-AeU-4\", \"PUC-RIO-D-5\", \"UNIRITTER-D-4\", \"UNIRITTER-AeU-4\", \"UFJF-AC-4\", \"UFPR-D-4\", \"UFPB-JP-AEU-4\", \"UFMA-D-3\", \"UFES-AEU-4\", \"UFRGS-A-4\", \"UFPE-D-4\", \"UFAL-DDEH-3\", \"UAM-D-5\", \"UFSC-D-5\", \"UFF-AEU-4\", \"UFRGS-D-5\", \"UEMG-D-5\", \"UNB-AEU-4\", \"PUCCAMP-AeU-5\", \"UNICAMP-ATeC-5\", \"UFBA-AEU-4\", \"UFRJ-A-6\", \"USP/SC-AEU-4\", \"UFRN-AEU-4\", \"UFMG-AEU-6\", \"UFSC-AEU-5\", \"UNESP-BAURU-D-6\", \"UFRJ-U-5\", \"UPM-AEU-6\", \"UFPEL-AEU-4\", \"USP-AEU-4\"], \"y\": [0, 0, 0, 0, 0, 0, 0, 0, 1, 0, 0, 0, 0, 0, 0, 0, 0, 0, 0, 0, 0, 0, 0, 0, 0, 0, 0, 0, 0, 0, 0, 0, 0, 0, 0, 0, 0, 0, 0, 0, 0, 0, 0, 0, 0, 0, 0, 0, 0, 0, 0, 0, 0, 0, 0, 1, 0, 1]}, {\"marker\": {\"color\": \"#009900\"}, \"name\": \"B3 (0.1)\", \"type\": \"bar\", \"x\": [\"CESAR-D-3\", \"UNIFATEA-DTEI-3\", \"UNIFOR-CDC-3\", \"UFPE-E-3\", \"UFRN-D-4\", \" FIAMFAAM-PPeGdEU-3\", \"UNIVILLE-D-4\", \"PUC-RIO-A-3\", \"UNISINOS-AeU-4\", \"UFC-AEUED-3\", \"UFRJ-PeP-4\", \"UFV-AEU-4\", \"UFCG-D-3\", \"UFU-AeU-3\", \"USJT-AEU-4\", \"UFPA-AeU-4\", \"UNB-D-3\", \"UERJ-D-4\", \"UFBA-C-CeR-4\", \"UFSC-UHEADC-4\", \"IMED-AEU-3\", \"UDESC-D-4\", \"UFG-PEC-3\", \"UNISINOS-D-5\", \"UFRN-APEMA-4\", \"UFRJ-AP-4\", \"UEL-AeU-4\", \"UNESP-BAURU-AeU-4\", \"PUC-RIO-D-5\", \"UNIRITTER-D-4\", \"UNIRITTER-AeU-4\", \"UFJF-AC-4\", \"UFPR-D-4\", \"UFPB-JP-AEU-4\", \"UFMA-D-3\", \"UFES-AEU-4\", \"UFRGS-A-4\", \"UFPE-D-4\", \"UFAL-DDEH-3\", \"UAM-D-5\", \"UFSC-D-5\", \"UFF-AEU-4\", \"UFRGS-D-5\", \"UEMG-D-5\", \"UNB-AEU-4\", \"PUCCAMP-AeU-5\", \"UNICAMP-ATeC-5\", \"UFBA-AEU-4\", \"UFRJ-A-6\", \"USP/SC-AEU-4\", \"UFRN-AEU-4\", \"UFMG-AEU-6\", \"UFSC-AEU-5\", \"UNESP-BAURU-D-6\", \"UFRJ-U-5\", \"UPM-AEU-6\", \"UFPEL-AEU-4\", \"USP-AEU-4\"], \"y\": [0, 0, 0, 0, 0, 0, 0, 0, 0, 0, 2, 0, 0, 0, 0, 0, 0, 0, 0, 0, 0, 1, 1, 0, 0, 0, 0, 1, 0, 0, 0, 0, 0, 0, 0, 0, 0, 0, 0, 0, 0, 0, 0, 0, 0, 0, 0, 0, 2, 0, 1, 0, 0, 4, 0, 2, 0, 0]}, {\"marker\": {\"color\": \"#00CC00\"}, \"name\": \"B4 (0.05)\", \"type\": \"bar\", \"x\": [\"CESAR-D-3\", \"UNIFATEA-DTEI-3\", \"UNIFOR-CDC-3\", \"UFPE-E-3\", \"UFRN-D-4\", \" FIAMFAAM-PPeGdEU-3\", \"UNIVILLE-D-4\", \"PUC-RIO-A-3\", \"UNISINOS-AeU-4\", \"UFC-AEUED-3\", \"UFRJ-PeP-4\", \"UFV-AEU-4\", \"UFCG-D-3\", \"UFU-AeU-3\", \"USJT-AEU-4\", \"UFPA-AeU-4\", \"UNB-D-3\", \"UERJ-D-4\", \"UFBA-C-CeR-4\", \"UFSC-UHEADC-4\", \"IMED-AEU-3\", \"UDESC-D-4\", \"UFG-PEC-3\", \"UNISINOS-D-5\", \"UFRN-APEMA-4\", \"UFRJ-AP-4\", \"UEL-AeU-4\", \"UNESP-BAURU-AeU-4\", \"PUC-RIO-D-5\", \"UNIRITTER-D-4\", \"UNIRITTER-AeU-4\", \"UFJF-AC-4\", \"UFPR-D-4\", \"UFPB-JP-AEU-4\", \"UFMA-D-3\", \"UFES-AEU-4\", \"UFRGS-A-4\", \"UFPE-D-4\", \"UFAL-DDEH-3\", \"UAM-D-5\", \"UFSC-D-5\", \"UFF-AEU-4\", \"UFRGS-D-5\", \"UEMG-D-5\", \"UNB-AEU-4\", \"PUCCAMP-AeU-5\", \"UNICAMP-ATeC-5\", \"UFBA-AEU-4\", \"UFRJ-A-6\", \"USP/SC-AEU-4\", \"UFRN-AEU-4\", \"UFMG-AEU-6\", \"UFSC-AEU-5\", \"UNESP-BAURU-D-6\", \"UFRJ-U-5\", \"UPM-AEU-6\", \"UFPEL-AEU-4\", \"USP-AEU-4\"], \"y\": [0, 0, 0, 0, 0, 0, 0, 0, 0, 0, 0, 0, 0, 0, 0, 0, 0, 0, 0, 0, 0, 0, 0, 0, 0, 0, 0, 0, 0, 0, 0, 0, 0, 0, 0, 0, 0, 0, 0, 0, 0, 0, 0, 0, 0, 0, 0, 0, 0, 0, 0, 0, 0, 0, 0, 1, 0, 0]}, {\"marker\": {\"color\": \"#00FF00\"}, \"name\": \"B5 (0)\", \"type\": \"bar\", \"x\": [\"CESAR-D-3\", \"UNIFATEA-DTEI-3\", \"UNIFOR-CDC-3\", \"UFPE-E-3\", \"UFRN-D-4\", \" FIAMFAAM-PPeGdEU-3\", \"UNIVILLE-D-4\", \"PUC-RIO-A-3\", \"UNISINOS-AeU-4\", \"UFC-AEUED-3\", \"UFRJ-PeP-4\", \"UFV-AEU-4\", \"UFCG-D-3\", \"UFU-AeU-3\", \"USJT-AEU-4\", \"UFPA-AeU-4\", \"UNB-D-3\", \"UERJ-D-4\", \"UFBA-C-CeR-4\", \"UFSC-UHEADC-4\", \"IMED-AEU-3\", \"UDESC-D-4\", \"UFG-PEC-3\", \"UNISINOS-D-5\", \"UFRN-APEMA-4\", \"UFRJ-AP-4\", \"UEL-AeU-4\", \"UNESP-BAURU-AeU-4\", \"PUC-RIO-D-5\", \"UNIRITTER-D-4\", \"UNIRITTER-AeU-4\", \"UFJF-AC-4\", \"UFPR-D-4\", \"UFPB-JP-AEU-4\", \"UFMA-D-3\", \"UFES-AEU-4\", \"UFRGS-A-4\", \"UFPE-D-4\", \"UFAL-DDEH-3\", \"UAM-D-5\", \"UFSC-D-5\", \"UFF-AEU-4\", \"UFRGS-D-5\", \"UEMG-D-5\", \"UNB-AEU-4\", \"PUCCAMP-AeU-5\", \"UNICAMP-ATeC-5\", \"UFBA-AEU-4\", \"UFRJ-A-6\", \"USP/SC-AEU-4\", \"UFRN-AEU-4\", \"UFMG-AEU-6\", \"UFSC-AEU-5\", \"UNESP-BAURU-D-6\", \"UFRJ-U-5\", \"UPM-AEU-6\", \"UFPEL-AEU-4\", \"USP-AEU-4\"], \"y\": [0, 0, 0, 0, 0, 0, 0, 0, 0, 0, 0, 0, 0, 0, 0, 0, 0, 0, 0, 0, 0, 0, 0, 0, 0, 0, 0, 0, 0, 0, 0, 0, 0, 0, 0, 0, 0, 0, 0, 0, 0, 0, 0, 0, 0, 0, 0, 0, 0, 0, 0, 0, 0, 0, 0, 0, 0, 0]}, {\"marker\": {\"color\": \"#880000\"}, \"name\": \"C (0)\", \"type\": \"bar\", \"x\": [\"CESAR-D-3\", \"UNIFATEA-DTEI-3\", \"UNIFOR-CDC-3\", \"UFPE-E-3\", \"UFRN-D-4\", \" FIAMFAAM-PPeGdEU-3\", \"UNIVILLE-D-4\", \"PUC-RIO-A-3\", \"UNISINOS-AeU-4\", \"UFC-AEUED-3\", \"UFRJ-PeP-4\", \"UFV-AEU-4\", \"UFCG-D-3\", \"UFU-AeU-3\", \"USJT-AEU-4\", \"UFPA-AeU-4\", \"UNB-D-3\", \"UERJ-D-4\", \"UFBA-C-CeR-4\", \"UFSC-UHEADC-4\", \"IMED-AEU-3\", \"UDESC-D-4\", \"UFG-PEC-3\", \"UNISINOS-D-5\", \"UFRN-APEMA-4\", \"UFRJ-AP-4\", \"UEL-AeU-4\", \"UNESP-BAURU-AeU-4\", \"PUC-RIO-D-5\", \"UNIRITTER-D-4\", \"UNIRITTER-AeU-4\", \"UFJF-AC-4\", \"UFPR-D-4\", \"UFPB-JP-AEU-4\", \"UFMA-D-3\", \"UFES-AEU-4\", \"UFRGS-A-4\", \"UFPE-D-4\", \"UFAL-DDEH-3\", \"UAM-D-5\", \"UFSC-D-5\", \"UFF-AEU-4\", \"UFRGS-D-5\", \"UEMG-D-5\", \"UNB-AEU-4\", \"PUCCAMP-AeU-5\", \"UNICAMP-ATeC-5\", \"UFBA-AEU-4\", \"UFRJ-A-6\", \"USP/SC-AEU-4\", \"UFRN-AEU-4\", \"UFMG-AEU-6\", \"UFSC-AEU-5\", \"UNESP-BAURU-D-6\", \"UFRJ-U-5\", \"UPM-AEU-6\", \"UFPEL-AEU-4\", \"USP-AEU-4\"], \"y\": [0, 0, 0, 0, 0, 1, 1, 2, 4, 1, 1, 3, 0, 1, 0, 0, 7, 0, 1, 0, 0, 1, 6, 12, 0, 5, 0, 2, 2, 3, 2, 2, 4, 0, 0, 4, 0, 0, 3, 57, 3, 1, 13, 1, 3, 0, 0, 0, 7, 3, 0, 3, 1, 19, 16, 17, 3, 19]}, {\"marker\": {\"color\": \"#CC0000\"}, \"name\": \"NA (0)\", \"type\": \"bar\", \"x\": [\"CESAR-D-3\", \"UNIFATEA-DTEI-3\", \"UNIFOR-CDC-3\", \"UFPE-E-3\", \"UFRN-D-4\", \" FIAMFAAM-PPeGdEU-3\", \"UNIVILLE-D-4\", \"PUC-RIO-A-3\", \"UNISINOS-AeU-4\", \"UFC-AEUED-3\", \"UFRJ-PeP-4\", \"UFV-AEU-4\", \"UFCG-D-3\", \"UFU-AeU-3\", \"USJT-AEU-4\", \"UFPA-AeU-4\", \"UNB-D-3\", \"UERJ-D-4\", \"UFBA-C-CeR-4\", \"UFSC-UHEADC-4\", \"IMED-AEU-3\", \"UDESC-D-4\", \"UFG-PEC-3\", \"UNISINOS-D-5\", \"UFRN-APEMA-4\", \"UFRJ-AP-4\", \"UEL-AeU-4\", \"UNESP-BAURU-AeU-4\", \"PUC-RIO-D-5\", \"UNIRITTER-D-4\", \"UNIRITTER-AeU-4\", \"UFJF-AC-4\", \"UFPR-D-4\", \"UFPB-JP-AEU-4\", \"UFMA-D-3\", \"UFES-AEU-4\", \"UFRGS-A-4\", \"UFPE-D-4\", \"UFAL-DDEH-3\", \"UAM-D-5\", \"UFSC-D-5\", \"UFF-AEU-4\", \"UFRGS-D-5\", \"UEMG-D-5\", \"UNB-AEU-4\", \"PUCCAMP-AeU-5\", \"UNICAMP-ATeC-5\", \"UFBA-AEU-4\", \"UFRJ-A-6\", \"USP/SC-AEU-4\", \"UFRN-AEU-4\", \"UFMG-AEU-6\", \"UFSC-AEU-5\", \"UNESP-BAURU-D-6\", \"UFRJ-U-5\", \"UPM-AEU-6\", \"UFPEL-AEU-4\", \"USP-AEU-4\"], \"y\": [2, 18, 23, 45, 49, 49, 48, 76, 87, 87, 95, 98, 101, 106, 109, 113, 106, 121, 133, 134, 135, 136, 130, 115, 145, 149, 156, 164, 162, 195, 205, 210, 205, 216, 206, 219, 229, 229, 232, 170, 248, 280, 262, 288, 288, 307, 312, 323, 367, 378, 384, 399, 417, 460, 494, 495, 527, 1057]}, {\"marker\": {\"color\": \"#FF0000\"}, \"name\": \"NP (0)\", \"type\": \"bar\", \"x\": [\"CESAR-D-3\", \"UNIFATEA-DTEI-3\", \"UNIFOR-CDC-3\", \"UFPE-E-3\", \"UFRN-D-4\", \" FIAMFAAM-PPeGdEU-3\", \"UNIVILLE-D-4\", \"PUC-RIO-A-3\", \"UNISINOS-AeU-4\", \"UFC-AEUED-3\", \"UFRJ-PeP-4\", \"UFV-AEU-4\", \"UFCG-D-3\", \"UFU-AeU-3\", \"USJT-AEU-4\", \"UFPA-AeU-4\", \"UNB-D-3\", \"UERJ-D-4\", \"UFBA-C-CeR-4\", \"UFSC-UHEADC-4\", \"IMED-AEU-3\", \"UDESC-D-4\", \"UFG-PEC-3\", \"UNISINOS-D-5\", \"UFRN-APEMA-4\", \"UFRJ-AP-4\", \"UEL-AeU-4\", \"UNESP-BAURU-AeU-4\", \"PUC-RIO-D-5\", \"UNIRITTER-D-4\", \"UNIRITTER-AeU-4\", \"UFJF-AC-4\", \"UFPR-D-4\", \"UFPB-JP-AEU-4\", \"UFMA-D-3\", \"UFES-AEU-4\", \"UFRGS-A-4\", \"UFPE-D-4\", \"UFAL-DDEH-3\", \"UAM-D-5\", \"UFSC-D-5\", \"UFF-AEU-4\", \"UFRGS-D-5\", \"UEMG-D-5\", \"UNB-AEU-4\", \"PUCCAMP-AeU-5\", \"UNICAMP-ATeC-5\", \"UFBA-AEU-4\", \"UFRJ-A-6\", \"USP/SC-AEU-4\", \"UFRN-AEU-4\", \"UFMG-AEU-6\", \"UFSC-AEU-5\", \"UNESP-BAURU-D-6\", \"UFRJ-U-5\", \"UPM-AEU-6\", \"UFPEL-AEU-4\", \"USP-AEU-4\"], \"y\": [0, 0, 0, 0, 0, 0, 0, 0, 0, 0, 0, 0, 0, 0, 0, 0, 0, 0, 0, 0, 0, 0, 0, 0, 0, 0, 0, 0, 0, 0, 0, 0, 0, 0, 0, 0, 0, 0, 0, 0, 0, 0, 0, 0, 0, 0, 0, 0, 0, 0, 0, 0, 0, 0, 0, 0, 0, 0]}],\n",
       "                        {\"barmode\": \"stack\", \"template\": {\"data\": {\"bar\": [{\"error_x\": {\"color\": \"#2a3f5f\"}, \"error_y\": {\"color\": \"#2a3f5f\"}, \"marker\": {\"line\": {\"color\": \"#E5ECF6\", \"width\": 0.5}}, \"type\": \"bar\"}], \"barpolar\": [{\"marker\": {\"line\": {\"color\": \"#E5ECF6\", \"width\": 0.5}}, \"type\": \"barpolar\"}], \"carpet\": [{\"aaxis\": {\"endlinecolor\": \"#2a3f5f\", \"gridcolor\": \"white\", \"linecolor\": \"white\", \"minorgridcolor\": \"white\", \"startlinecolor\": \"#2a3f5f\"}, \"baxis\": {\"endlinecolor\": \"#2a3f5f\", \"gridcolor\": \"white\", \"linecolor\": \"white\", \"minorgridcolor\": \"white\", \"startlinecolor\": \"#2a3f5f\"}, \"type\": \"carpet\"}], \"choropleth\": [{\"colorbar\": {\"outlinewidth\": 0, \"ticks\": \"\"}, \"type\": \"choropleth\"}], \"contour\": [{\"colorbar\": {\"outlinewidth\": 0, \"ticks\": \"\"}, \"colorscale\": [[0.0, \"#0d0887\"], [0.1111111111111111, \"#46039f\"], [0.2222222222222222, \"#7201a8\"], [0.3333333333333333, \"#9c179e\"], [0.4444444444444444, \"#bd3786\"], [0.5555555555555556, \"#d8576b\"], [0.6666666666666666, \"#ed7953\"], [0.7777777777777778, \"#fb9f3a\"], [0.8888888888888888, \"#fdca26\"], [1.0, \"#f0f921\"]], \"type\": \"contour\"}], \"contourcarpet\": [{\"colorbar\": {\"outlinewidth\": 0, \"ticks\": \"\"}, \"type\": \"contourcarpet\"}], \"heatmap\": [{\"colorbar\": {\"outlinewidth\": 0, \"ticks\": \"\"}, \"colorscale\": [[0.0, \"#0d0887\"], [0.1111111111111111, \"#46039f\"], [0.2222222222222222, \"#7201a8\"], [0.3333333333333333, \"#9c179e\"], [0.4444444444444444, \"#bd3786\"], [0.5555555555555556, \"#d8576b\"], [0.6666666666666666, \"#ed7953\"], [0.7777777777777778, \"#fb9f3a\"], [0.8888888888888888, \"#fdca26\"], [1.0, \"#f0f921\"]], \"type\": \"heatmap\"}], \"heatmapgl\": [{\"colorbar\": {\"outlinewidth\": 0, \"ticks\": \"\"}, \"colorscale\": [[0.0, \"#0d0887\"], [0.1111111111111111, \"#46039f\"], [0.2222222222222222, \"#7201a8\"], [0.3333333333333333, \"#9c179e\"], [0.4444444444444444, \"#bd3786\"], [0.5555555555555556, \"#d8576b\"], [0.6666666666666666, \"#ed7953\"], [0.7777777777777778, \"#fb9f3a\"], [0.8888888888888888, \"#fdca26\"], [1.0, \"#f0f921\"]], \"type\": \"heatmapgl\"}], \"histogram\": [{\"marker\": {\"colorbar\": {\"outlinewidth\": 0, \"ticks\": \"\"}}, \"type\": \"histogram\"}], \"histogram2d\": [{\"colorbar\": {\"outlinewidth\": 0, \"ticks\": \"\"}, \"colorscale\": [[0.0, \"#0d0887\"], [0.1111111111111111, \"#46039f\"], [0.2222222222222222, \"#7201a8\"], [0.3333333333333333, \"#9c179e\"], [0.4444444444444444, \"#bd3786\"], [0.5555555555555556, \"#d8576b\"], [0.6666666666666666, \"#ed7953\"], [0.7777777777777778, \"#fb9f3a\"], [0.8888888888888888, \"#fdca26\"], [1.0, \"#f0f921\"]], \"type\": \"histogram2d\"}], \"histogram2dcontour\": [{\"colorbar\": {\"outlinewidth\": 0, \"ticks\": \"\"}, \"colorscale\": [[0.0, \"#0d0887\"], [0.1111111111111111, \"#46039f\"], [0.2222222222222222, \"#7201a8\"], [0.3333333333333333, \"#9c179e\"], [0.4444444444444444, \"#bd3786\"], [0.5555555555555556, \"#d8576b\"], [0.6666666666666666, \"#ed7953\"], [0.7777777777777778, \"#fb9f3a\"], [0.8888888888888888, \"#fdca26\"], [1.0, \"#f0f921\"]], \"type\": \"histogram2dcontour\"}], \"mesh3d\": [{\"colorbar\": {\"outlinewidth\": 0, \"ticks\": \"\"}, \"type\": \"mesh3d\"}], \"parcoords\": [{\"line\": {\"colorbar\": {\"outlinewidth\": 0, \"ticks\": \"\"}}, \"type\": \"parcoords\"}], \"pie\": [{\"automargin\": true, \"type\": \"pie\"}], \"scatter\": [{\"marker\": {\"colorbar\": {\"outlinewidth\": 0, \"ticks\": \"\"}}, \"type\": \"scatter\"}], \"scatter3d\": [{\"line\": {\"colorbar\": {\"outlinewidth\": 0, \"ticks\": \"\"}}, \"marker\": {\"colorbar\": {\"outlinewidth\": 0, \"ticks\": \"\"}}, \"type\": \"scatter3d\"}], \"scattercarpet\": [{\"marker\": {\"colorbar\": {\"outlinewidth\": 0, \"ticks\": \"\"}}, \"type\": \"scattercarpet\"}], \"scattergeo\": [{\"marker\": {\"colorbar\": {\"outlinewidth\": 0, \"ticks\": \"\"}}, \"type\": \"scattergeo\"}], \"scattergl\": [{\"marker\": {\"colorbar\": {\"outlinewidth\": 0, \"ticks\": \"\"}}, \"type\": \"scattergl\"}], \"scattermapbox\": [{\"marker\": {\"colorbar\": {\"outlinewidth\": 0, \"ticks\": \"\"}}, \"type\": \"scattermapbox\"}], \"scatterpolar\": [{\"marker\": {\"colorbar\": {\"outlinewidth\": 0, \"ticks\": \"\"}}, \"type\": \"scatterpolar\"}], \"scatterpolargl\": [{\"marker\": {\"colorbar\": {\"outlinewidth\": 0, \"ticks\": \"\"}}, \"type\": \"scatterpolargl\"}], \"scatterternary\": [{\"marker\": {\"colorbar\": {\"outlinewidth\": 0, \"ticks\": \"\"}}, \"type\": \"scatterternary\"}], \"surface\": [{\"colorbar\": {\"outlinewidth\": 0, \"ticks\": \"\"}, \"colorscale\": [[0.0, \"#0d0887\"], [0.1111111111111111, \"#46039f\"], [0.2222222222222222, \"#7201a8\"], [0.3333333333333333, \"#9c179e\"], [0.4444444444444444, \"#bd3786\"], [0.5555555555555556, \"#d8576b\"], [0.6666666666666666, \"#ed7953\"], [0.7777777777777778, \"#fb9f3a\"], [0.8888888888888888, \"#fdca26\"], [1.0, \"#f0f921\"]], \"type\": \"surface\"}], \"table\": [{\"cells\": {\"fill\": {\"color\": \"#EBF0F8\"}, \"line\": {\"color\": \"white\"}}, \"header\": {\"fill\": {\"color\": \"#C8D4E3\"}, \"line\": {\"color\": \"white\"}}, \"type\": \"table\"}]}, \"layout\": {\"annotationdefaults\": {\"arrowcolor\": \"#2a3f5f\", \"arrowhead\": 0, \"arrowwidth\": 1}, \"coloraxis\": {\"colorbar\": {\"outlinewidth\": 0, \"ticks\": \"\"}}, \"colorscale\": {\"diverging\": [[0, \"#8e0152\"], [0.1, \"#c51b7d\"], [0.2, \"#de77ae\"], [0.3, \"#f1b6da\"], [0.4, \"#fde0ef\"], [0.5, \"#f7f7f7\"], [0.6, \"#e6f5d0\"], [0.7, \"#b8e186\"], [0.8, \"#7fbc41\"], [0.9, \"#4d9221\"], [1, \"#276419\"]], \"sequential\": [[0.0, \"#0d0887\"], [0.1111111111111111, \"#46039f\"], [0.2222222222222222, \"#7201a8\"], [0.3333333333333333, \"#9c179e\"], [0.4444444444444444, \"#bd3786\"], [0.5555555555555556, \"#d8576b\"], [0.6666666666666666, \"#ed7953\"], [0.7777777777777778, \"#fb9f3a\"], [0.8888888888888888, \"#fdca26\"], [1.0, \"#f0f921\"]], \"sequentialminus\": [[0.0, \"#0d0887\"], [0.1111111111111111, \"#46039f\"], [0.2222222222222222, \"#7201a8\"], [0.3333333333333333, \"#9c179e\"], [0.4444444444444444, \"#bd3786\"], [0.5555555555555556, \"#d8576b\"], [0.6666666666666666, \"#ed7953\"], [0.7777777777777778, \"#fb9f3a\"], [0.8888888888888888, \"#fdca26\"], [1.0, \"#f0f921\"]]}, \"colorway\": [\"#636efa\", \"#EF553B\", \"#00cc96\", \"#ab63fa\", \"#FFA15A\", \"#19d3f3\", \"#FF6692\", \"#B6E880\", \"#FF97FF\", \"#FECB52\"], \"font\": {\"color\": \"#2a3f5f\"}, \"geo\": {\"bgcolor\": \"white\", \"lakecolor\": \"white\", \"landcolor\": \"#E5ECF6\", \"showlakes\": true, \"showland\": true, \"subunitcolor\": \"white\"}, \"hoverlabel\": {\"align\": \"left\"}, \"hovermode\": \"closest\", \"mapbox\": {\"style\": \"light\"}, \"paper_bgcolor\": \"white\", \"plot_bgcolor\": \"#E5ECF6\", \"polar\": {\"angularaxis\": {\"gridcolor\": \"white\", \"linecolor\": \"white\", \"ticks\": \"\"}, \"bgcolor\": \"#E5ECF6\", \"radialaxis\": {\"gridcolor\": \"white\", \"linecolor\": \"white\", \"ticks\": \"\"}}, \"scene\": {\"xaxis\": {\"backgroundcolor\": \"#E5ECF6\", \"gridcolor\": \"white\", \"gridwidth\": 2, \"linecolor\": \"white\", \"showbackground\": true, \"ticks\": \"\", \"zerolinecolor\": \"white\"}, \"yaxis\": {\"backgroundcolor\": \"#E5ECF6\", \"gridcolor\": \"white\", \"gridwidth\": 2, \"linecolor\": \"white\", \"showbackground\": true, \"ticks\": \"\", \"zerolinecolor\": \"white\"}, \"zaxis\": {\"backgroundcolor\": \"#E5ECF6\", \"gridcolor\": \"white\", \"gridwidth\": 2, \"linecolor\": \"white\", \"showbackground\": true, \"ticks\": \"\", \"zerolinecolor\": \"white\"}}, \"shapedefaults\": {\"line\": {\"color\": \"#2a3f5f\"}}, \"ternary\": {\"aaxis\": {\"gridcolor\": \"white\", \"linecolor\": \"white\", \"ticks\": \"\"}, \"baxis\": {\"gridcolor\": \"white\", \"linecolor\": \"white\", \"ticks\": \"\"}, \"bgcolor\": \"#E5ECF6\", \"caxis\": {\"gridcolor\": \"white\", \"linecolor\": \"white\", \"ticks\": \"\"}}, \"title\": {\"x\": 0.05}, \"xaxis\": {\"automargin\": true, \"gridcolor\": \"white\", \"linecolor\": \"white\", \"ticks\": \"\", \"title\": {\"standoff\": 15}, \"zerolinecolor\": \"white\", \"zerolinewidth\": 2}, \"yaxis\": {\"automargin\": true, \"gridcolor\": \"white\", \"linecolor\": \"white\", \"ticks\": \"\", \"title\": {\"standoff\": 15}, \"zerolinecolor\": \"white\", \"zerolinewidth\": 2}}}, \"title\": {\"font\": {\"color\": \"#000000\", \"size\": 20}, \"text\": \"Confer\\u00eancias por Qualis\", \"x\": 0.5, \"xanchor\": \"center\"}, \"xaxis\": {\"title\": {\"text\": \"Institui\\u00e7\\u00e3o\"}}},\n",
       "                        {\"responsive\": true}\n",
       "                    ).then(function(){\n",
       "                            \n",
       "var gd = document.getElementById('237ff201-4b23-4d5d-9e2e-f43a29cb244b');\n",
       "var x = new MutationObserver(function (mutations, observer) {{\n",
       "        var display = window.getComputedStyle(gd).display;\n",
       "        if (!display || display === 'none') {{\n",
       "            console.log([gd, 'removed!']);\n",
       "            Plotly.purge(gd);\n",
       "            observer.disconnect();\n",
       "        }}\n",
       "}});\n",
       "\n",
       "// Listen for the removal of the full notebook cells\n",
       "var notebookContainer = gd.closest('#notebook-container');\n",
       "if (notebookContainer) {{\n",
       "    x.observe(notebookContainer, {childList: true});\n",
       "}}\n",
       "\n",
       "// Listen for the clearing of the current output cell\n",
       "var outputEl = gd.closest('.output');\n",
       "if (outputEl) {{\n",
       "    x.observe(outputEl, {childList: true});\n",
       "}}\n",
       "\n",
       "                        })\n",
       "                };\n",
       "                });\n",
       "            </script>\n",
       "        </div>"
      ]
     },
     "metadata": {},
     "output_type": "display_data"
    },
    {
     "data": {
      "application/vnd.plotly.v1+json": {
       "config": {
        "linkText": "Export to plot.ly",
        "plotlyServerURL": "https://plot.ly",
        "showLink": false
       },
       "data": [
        {
         "marker": {
          "color": "#000044"
         },
         "name": "A1 (1)",
         "type": "bar",
         "x": [
          "UFJF-AC-4",
          "UFRGS-A-4",
          "UFRN-APEMA-4",
          "UFBA-AEU-4",
          "UFES-AEU-4",
          "UFF-AEU-4",
          "UFV-AEU-4",
          "USJT-AEU-4",
          "UFSC-AEU-5",
          "UFPA-AeU-4",
          "UEL-AeU-4",
          "UNICAMP-ATeC-5",
          "UFBA-C-CeR-4",
          "UNIRITTER-D-4",
          "UFPE-E-3",
          "PUCCAMP-AeU-5",
          "UFSC-UHEADC-4",
          "UFCG-D-3",
          "CESAR-D-3",
          "UNIFATEA-DTEI-3",
          "IMED-AEU-3",
          "UNIFOR-CDC-3",
          "UFRN-AEU-4",
          "UNESP-BAURU-AeU-4",
          "UFRJ-PeP-4",
          "UNISINOS-AeU-4",
          "UFMG-AEU-6",
          "UFAL-DDEH-3",
          "UFPEL-AEU-4",
          "UFPB-JP-AEU-4",
          "USP/SC-AEU-4",
          "UDESC-D-4",
          "UFU-AeU-3",
          "UNIRITTER-AeU-4",
          "UFRN-D-4",
          "UNB-AEU-4",
          "UFRJ-A-6",
          "USP-AEU-4",
          "UFRJ-AP-4",
          "UFG-PEC-3",
          "PUC-RIO-A-3",
          "UNB-D-3",
          "UFRJ-U-5",
          "UFPE-D-4",
          "UFPR-D-4",
          "UFSC-D-5",
          " FIAMFAAM-PPeGdEU-3",
          "UERJ-D-4",
          "UPM-AEU-6",
          "UEMG-D-5",
          "UFRGS-D-5",
          "UFC-AEUED-3",
          "UNIVILLE-D-4",
          "UFMA-D-3",
          "UAM-D-5",
          "PUC-RIO-D-5",
          "UNESP-BAURU-D-6",
          "UNISINOS-D-5"
         ],
         "y": [
          0,
          0,
          0,
          0,
          0,
          0,
          0,
          0,
          0,
          0,
          0,
          0,
          0,
          0,
          0,
          0,
          0,
          0,
          0,
          0,
          0,
          0,
          0,
          0,
          0,
          0,
          0,
          0,
          0,
          0,
          0,
          0,
          0,
          0,
          0,
          0,
          0,
          0,
          0.029411764705882353,
          0,
          0,
          0,
          0,
          0,
          0,
          0,
          0,
          0,
          0,
          0,
          0,
          0,
          0,
          0,
          0,
          0,
          0,
          0
         ]
        },
        {
         "marker": {
          "color": "#000088"
         },
         "name": "A2 (0.875)",
         "type": "bar",
         "x": [
          "UFJF-AC-4",
          "UFRGS-A-4",
          "UFRN-APEMA-4",
          "UFBA-AEU-4",
          "UFES-AEU-4",
          "UFF-AEU-4",
          "UFV-AEU-4",
          "USJT-AEU-4",
          "UFSC-AEU-5",
          "UFPA-AeU-4",
          "UEL-AeU-4",
          "UNICAMP-ATeC-5",
          "UFBA-C-CeR-4",
          "UNIRITTER-D-4",
          "UFPE-E-3",
          "PUCCAMP-AeU-5",
          "UFSC-UHEADC-4",
          "UFCG-D-3",
          "CESAR-D-3",
          "UNIFATEA-DTEI-3",
          "IMED-AEU-3",
          "UNIFOR-CDC-3",
          "UFRN-AEU-4",
          "UNESP-BAURU-AeU-4",
          "UFRJ-PeP-4",
          "UNISINOS-AeU-4",
          "UFMG-AEU-6",
          "UFAL-DDEH-3",
          "UFPEL-AEU-4",
          "UFPB-JP-AEU-4",
          "USP/SC-AEU-4",
          "UDESC-D-4",
          "UFU-AeU-3",
          "UNIRITTER-AeU-4",
          "UFRN-D-4",
          "UNB-AEU-4",
          "UFRJ-A-6",
          "USP-AEU-4",
          "UFRJ-AP-4",
          "UFG-PEC-3",
          "PUC-RIO-A-3",
          "UNB-D-3",
          "UFRJ-U-5",
          "UFPE-D-4",
          "UFPR-D-4",
          "UFSC-D-5",
          " FIAMFAAM-PPeGdEU-3",
          "UERJ-D-4",
          "UPM-AEU-6",
          "UEMG-D-5",
          "UFRGS-D-5",
          "UFC-AEUED-3",
          "UNIVILLE-D-4",
          "UFMA-D-3",
          "UAM-D-5",
          "PUC-RIO-D-5",
          "UNESP-BAURU-D-6",
          "UNISINOS-D-5"
         ],
         "y": [
          0,
          0,
          0,
          0,
          0,
          0,
          0,
          0,
          0,
          0,
          0,
          0,
          0,
          0,
          0,
          0,
          0,
          0,
          0,
          0,
          0,
          0,
          0,
          0,
          0,
          0,
          0,
          0,
          0,
          0,
          0,
          0,
          0,
          0,
          0,
          0,
          0,
          0,
          0,
          0,
          0,
          0,
          0,
          0,
          0,
          0,
          0,
          0,
          0,
          0,
          0,
          0,
          0,
          0,
          0,
          0,
          0,
          0
         ]
        },
        {
         "marker": {
          "color": "#0000CC"
         },
         "name": "A3 (0.75)",
         "type": "bar",
         "x": [
          "UFJF-AC-4",
          "UFRGS-A-4",
          "UFRN-APEMA-4",
          "UFBA-AEU-4",
          "UFES-AEU-4",
          "UFF-AEU-4",
          "UFV-AEU-4",
          "USJT-AEU-4",
          "UFSC-AEU-5",
          "UFPA-AeU-4",
          "UEL-AeU-4",
          "UNICAMP-ATeC-5",
          "UFBA-C-CeR-4",
          "UNIRITTER-D-4",
          "UFPE-E-3",
          "PUCCAMP-AeU-5",
          "UFSC-UHEADC-4",
          "UFCG-D-3",
          "CESAR-D-3",
          "UNIFATEA-DTEI-3",
          "IMED-AEU-3",
          "UNIFOR-CDC-3",
          "UFRN-AEU-4",
          "UNESP-BAURU-AeU-4",
          "UFRJ-PeP-4",
          "UNISINOS-AeU-4",
          "UFMG-AEU-6",
          "UFAL-DDEH-3",
          "UFPEL-AEU-4",
          "UFPB-JP-AEU-4",
          "USP/SC-AEU-4",
          "UDESC-D-4",
          "UFU-AeU-3",
          "UNIRITTER-AeU-4",
          "UFRN-D-4",
          "UNB-AEU-4",
          "UFRJ-A-6",
          "USP-AEU-4",
          "UFRJ-AP-4",
          "UFG-PEC-3",
          "PUC-RIO-A-3",
          "UNB-D-3",
          "UFRJ-U-5",
          "UFPE-D-4",
          "UFPR-D-4",
          "UFSC-D-5",
          " FIAMFAAM-PPeGdEU-3",
          "UERJ-D-4",
          "UPM-AEU-6",
          "UEMG-D-5",
          "UFRGS-D-5",
          "UFC-AEUED-3",
          "UNIVILLE-D-4",
          "UFMA-D-3",
          "UAM-D-5",
          "PUC-RIO-D-5",
          "UNESP-BAURU-D-6",
          "UNISINOS-D-5"
         ],
         "y": [
          0,
          0,
          0,
          0,
          0,
          0,
          0,
          0,
          0,
          0,
          0,
          0,
          0,
          0,
          0,
          0,
          0,
          0,
          0,
          0,
          0,
          0,
          0,
          0,
          0,
          0,
          0,
          0,
          0,
          0,
          0,
          0,
          0,
          0,
          0,
          0.017045454545454544,
          0,
          0,
          0,
          0,
          0,
          0,
          0,
          0,
          0,
          0,
          0,
          0,
          0,
          0,
          0,
          0,
          0,
          0,
          0,
          0,
          0,
          0
         ]
        },
        {
         "marker": {
          "color": "#0000FF"
         },
         "name": "A4 (0.625)",
         "type": "bar",
         "x": [
          "UFJF-AC-4",
          "UFRGS-A-4",
          "UFRN-APEMA-4",
          "UFBA-AEU-4",
          "UFES-AEU-4",
          "UFF-AEU-4",
          "UFV-AEU-4",
          "USJT-AEU-4",
          "UFSC-AEU-5",
          "UFPA-AeU-4",
          "UEL-AeU-4",
          "UNICAMP-ATeC-5",
          "UFBA-C-CeR-4",
          "UNIRITTER-D-4",
          "UFPE-E-3",
          "PUCCAMP-AeU-5",
          "UFSC-UHEADC-4",
          "UFCG-D-3",
          "CESAR-D-3",
          "UNIFATEA-DTEI-3",
          "IMED-AEU-3",
          "UNIFOR-CDC-3",
          "UFRN-AEU-4",
          "UNESP-BAURU-AeU-4",
          "UFRJ-PeP-4",
          "UNISINOS-AeU-4",
          "UFMG-AEU-6",
          "UFAL-DDEH-3",
          "UFPEL-AEU-4",
          "UFPB-JP-AEU-4",
          "USP/SC-AEU-4",
          "UDESC-D-4",
          "UFU-AeU-3",
          "UNIRITTER-AeU-4",
          "UFRN-D-4",
          "UNB-AEU-4",
          "UFRJ-A-6",
          "USP-AEU-4",
          "UFRJ-AP-4",
          "UFG-PEC-3",
          "PUC-RIO-A-3",
          "UNB-D-3",
          "UFRJ-U-5",
          "UFPE-D-4",
          "UFPR-D-4",
          "UFSC-D-5",
          " FIAMFAAM-PPeGdEU-3",
          "UERJ-D-4",
          "UPM-AEU-6",
          "UEMG-D-5",
          "UFRGS-D-5",
          "UFC-AEUED-3",
          "UNIVILLE-D-4",
          "UFMA-D-3",
          "UAM-D-5",
          "PUC-RIO-D-5",
          "UNESP-BAURU-D-6",
          "UNISINOS-D-5"
         ],
         "y": [
          0,
          0,
          0,
          0,
          0,
          0,
          0,
          0,
          0,
          0,
          0,
          0,
          0,
          0,
          0,
          0,
          0,
          0,
          0,
          0,
          0,
          0,
          0,
          0,
          0,
          0,
          0,
          0,
          0.01201923076923077,
          0,
          0,
          0,
          0,
          0.020833333333333332,
          0,
          0,
          0,
          0.006648936170212766,
          0,
          0,
          0,
          0,
          0,
          0,
          0,
          0,
          0.056818181818181816,
          0,
          0.02976190476190476,
          0,
          0,
          0,
          0,
          0,
          0,
          0.02976190476190476,
          0,
          0
         ]
        },
        {
         "marker": {
          "color": "#003300"
         },
         "name": "B1 (0.5)",
         "type": "bar",
         "x": [
          "UFJF-AC-4",
          "UFRGS-A-4",
          "UFRN-APEMA-4",
          "UFBA-AEU-4",
          "UFES-AEU-4",
          "UFF-AEU-4",
          "UFV-AEU-4",
          "USJT-AEU-4",
          "UFSC-AEU-5",
          "UFPA-AeU-4",
          "UEL-AeU-4",
          "UNICAMP-ATeC-5",
          "UFBA-C-CeR-4",
          "UNIRITTER-D-4",
          "UFPE-E-3",
          "PUCCAMP-AeU-5",
          "UFSC-UHEADC-4",
          "UFCG-D-3",
          "CESAR-D-3",
          "UNIFATEA-DTEI-3",
          "IMED-AEU-3",
          "UNIFOR-CDC-3",
          "UFRN-AEU-4",
          "UNESP-BAURU-AeU-4",
          "UFRJ-PeP-4",
          "UNISINOS-AeU-4",
          "UFMG-AEU-6",
          "UFAL-DDEH-3",
          "UFPEL-AEU-4",
          "UFPB-JP-AEU-4",
          "USP/SC-AEU-4",
          "UDESC-D-4",
          "UFU-AeU-3",
          "UNIRITTER-AeU-4",
          "UFRN-D-4",
          "UNB-AEU-4",
          "UFRJ-A-6",
          "USP-AEU-4",
          "UFRJ-AP-4",
          "UFG-PEC-3",
          "PUC-RIO-A-3",
          "UNB-D-3",
          "UFRJ-U-5",
          "UFPE-D-4",
          "UFPR-D-4",
          "UFSC-D-5",
          " FIAMFAAM-PPeGdEU-3",
          "UERJ-D-4",
          "UPM-AEU-6",
          "UEMG-D-5",
          "UFRGS-D-5",
          "UFC-AEUED-3",
          "UNIVILLE-D-4",
          "UFMA-D-3",
          "UAM-D-5",
          "PUC-RIO-D-5",
          "UNESP-BAURU-D-6",
          "UNISINOS-D-5"
         ],
         "y": [
          0,
          0,
          0,
          0,
          0,
          0,
          0,
          0,
          0,
          0,
          0,
          0,
          0,
          0,
          0,
          0,
          0,
          0,
          0,
          0,
          0,
          0,
          0,
          0,
          0,
          0,
          0.0078125,
          0.008064516129032258,
          0,
          0.0125,
          0.013888888888888888,
          0.016666666666666666,
          0.020833333333333332,
          0,
          0.020833333333333332,
          0.005681818181818182,
          0.019230769230769232,
          0.015957446808510637,
          0,
          0.03333333333333333,
          0.045454545454545456,
          0.046875,
          0.05172413793103448,
          0.052083333333333336,
          0.05263157894736842,
          0.05357142857142857,
          0,
          0.0625,
          0.023809523809523808,
          0.06666666666666667,
          0.075,
          0.125,
          0.14583333333333334,
          0.15476190476190477,
          0.15625,
          0.14285714285714285,
          0.2222222222222222,
          0.3076923076923077
         ]
        },
        {
         "marker": {
          "color": "#006600"
         },
         "name": "B2 (0.2)",
         "type": "bar",
         "x": [
          "UFJF-AC-4",
          "UFRGS-A-4",
          "UFRN-APEMA-4",
          "UFBA-AEU-4",
          "UFES-AEU-4",
          "UFF-AEU-4",
          "UFV-AEU-4",
          "USJT-AEU-4",
          "UFSC-AEU-5",
          "UFPA-AeU-4",
          "UEL-AeU-4",
          "UNICAMP-ATeC-5",
          "UFBA-C-CeR-4",
          "UNIRITTER-D-4",
          "UFPE-E-3",
          "PUCCAMP-AeU-5",
          "UFSC-UHEADC-4",
          "UFCG-D-3",
          "CESAR-D-3",
          "UNIFATEA-DTEI-3",
          "IMED-AEU-3",
          "UNIFOR-CDC-3",
          "UFRN-AEU-4",
          "UNESP-BAURU-AeU-4",
          "UFRJ-PeP-4",
          "UNISINOS-AeU-4",
          "UFMG-AEU-6",
          "UFAL-DDEH-3",
          "UFPEL-AEU-4",
          "UFPB-JP-AEU-4",
          "USP/SC-AEU-4",
          "UDESC-D-4",
          "UFU-AeU-3",
          "UNIRITTER-AeU-4",
          "UFRN-D-4",
          "UNB-AEU-4",
          "UFRJ-A-6",
          "USP-AEU-4",
          "UFRJ-AP-4",
          "UFG-PEC-3",
          "PUC-RIO-A-3",
          "UNB-D-3",
          "UFRJ-U-5",
          "UFPE-D-4",
          "UFPR-D-4",
          "UFSC-D-5",
          " FIAMFAAM-PPeGdEU-3",
          "UERJ-D-4",
          "UPM-AEU-6",
          "UEMG-D-5",
          "UFRGS-D-5",
          "UFC-AEUED-3",
          "UNIVILLE-D-4",
          "UFMA-D-3",
          "UAM-D-5",
          "PUC-RIO-D-5",
          "UNESP-BAURU-D-6",
          "UNISINOS-D-5"
         ],
         "y": [
          0,
          0,
          0,
          0,
          0,
          0,
          0,
          0,
          0,
          0,
          0,
          0,
          0,
          0,
          0,
          0,
          0,
          0,
          0,
          0,
          0,
          0,
          0,
          0,
          0,
          0.0071428571428571435,
          0,
          0,
          0,
          0,
          0,
          0,
          0,
          0,
          0,
          0,
          0,
          0.0007092198581560284,
          0,
          0,
          0,
          0,
          0,
          0,
          0,
          0,
          0,
          0,
          0.004761904761904762,
          0,
          0,
          0,
          0,
          0,
          0,
          0,
          0,
          0
         ]
        },
        {
         "marker": {
          "color": "#009900"
         },
         "name": "B3 (0.1)",
         "type": "bar",
         "x": [
          "UFJF-AC-4",
          "UFRGS-A-4",
          "UFRN-APEMA-4",
          "UFBA-AEU-4",
          "UFES-AEU-4",
          "UFF-AEU-4",
          "UFV-AEU-4",
          "USJT-AEU-4",
          "UFSC-AEU-5",
          "UFPA-AeU-4",
          "UEL-AeU-4",
          "UNICAMP-ATeC-5",
          "UFBA-C-CeR-4",
          "UNIRITTER-D-4",
          "UFPE-E-3",
          "PUCCAMP-AeU-5",
          "UFSC-UHEADC-4",
          "UFCG-D-3",
          "CESAR-D-3",
          "UNIFATEA-DTEI-3",
          "IMED-AEU-3",
          "UNIFOR-CDC-3",
          "UFRN-AEU-4",
          "UNESP-BAURU-AeU-4",
          "UFRJ-PeP-4",
          "UNISINOS-AeU-4",
          "UFMG-AEU-6",
          "UFAL-DDEH-3",
          "UFPEL-AEU-4",
          "UFPB-JP-AEU-4",
          "USP/SC-AEU-4",
          "UDESC-D-4",
          "UFU-AeU-3",
          "UNIRITTER-AeU-4",
          "UFRN-D-4",
          "UNB-AEU-4",
          "UFRJ-A-6",
          "USP-AEU-4",
          "UFRJ-AP-4",
          "UFG-PEC-3",
          "PUC-RIO-A-3",
          "UNB-D-3",
          "UFRJ-U-5",
          "UFPE-D-4",
          "UFPR-D-4",
          "UFSC-D-5",
          " FIAMFAAM-PPeGdEU-3",
          "UERJ-D-4",
          "UPM-AEU-6",
          "UEMG-D-5",
          "UFRGS-D-5",
          "UFC-AEUED-3",
          "UNIVILLE-D-4",
          "UFMA-D-3",
          "UAM-D-5",
          "PUC-RIO-D-5",
          "UNESP-BAURU-D-6",
          "UNISINOS-D-5"
         ],
         "y": [
          0,
          0,
          0,
          0,
          0,
          0,
          0,
          0,
          0,
          0,
          0,
          0,
          0,
          0,
          0,
          0,
          0,
          0,
          0,
          0,
          0,
          0,
          0.002272727272727273,
          0.004545454545454546,
          0.005263157894736842,
          0,
          0,
          0,
          0,
          0,
          0,
          0.0033333333333333335,
          0,
          0,
          0,
          0,
          0.0038461538461538464,
          0,
          0,
          0.0033333333333333335,
          0,
          0,
          0,
          0,
          0,
          0,
          0,
          0,
          0.004761904761904762,
          0,
          0,
          0,
          0,
          0,
          0,
          0,
          0.011111111111111112,
          0
         ]
        },
        {
         "marker": {
          "color": "#00CC00"
         },
         "name": "B4 (0.05)",
         "type": "bar",
         "x": [
          "UFJF-AC-4",
          "UFRGS-A-4",
          "UFRN-APEMA-4",
          "UFBA-AEU-4",
          "UFES-AEU-4",
          "UFF-AEU-4",
          "UFV-AEU-4",
          "USJT-AEU-4",
          "UFSC-AEU-5",
          "UFPA-AeU-4",
          "UEL-AeU-4",
          "UNICAMP-ATeC-5",
          "UFBA-C-CeR-4",
          "UNIRITTER-D-4",
          "UFPE-E-3",
          "PUCCAMP-AeU-5",
          "UFSC-UHEADC-4",
          "UFCG-D-3",
          "CESAR-D-3",
          "UNIFATEA-DTEI-3",
          "IMED-AEU-3",
          "UNIFOR-CDC-3",
          "UFRN-AEU-4",
          "UNESP-BAURU-AeU-4",
          "UFRJ-PeP-4",
          "UNISINOS-AeU-4",
          "UFMG-AEU-6",
          "UFAL-DDEH-3",
          "UFPEL-AEU-4",
          "UFPB-JP-AEU-4",
          "USP/SC-AEU-4",
          "UDESC-D-4",
          "UFU-AeU-3",
          "UNIRITTER-AeU-4",
          "UFRN-D-4",
          "UNB-AEU-4",
          "UFRJ-A-6",
          "USP-AEU-4",
          "UFRJ-AP-4",
          "UFG-PEC-3",
          "PUC-RIO-A-3",
          "UNB-D-3",
          "UFRJ-U-5",
          "UFPE-D-4",
          "UFPR-D-4",
          "UFSC-D-5",
          " FIAMFAAM-PPeGdEU-3",
          "UERJ-D-4",
          "UPM-AEU-6",
          "UEMG-D-5",
          "UFRGS-D-5",
          "UFC-AEUED-3",
          "UNIVILLE-D-4",
          "UFMA-D-3",
          "UAM-D-5",
          "PUC-RIO-D-5",
          "UNESP-BAURU-D-6",
          "UNISINOS-D-5"
         ],
         "y": [
          0,
          0,
          0,
          0,
          0,
          0,
          0,
          0,
          0,
          0,
          0,
          0,
          0,
          0,
          0,
          0,
          0,
          0,
          0,
          0,
          0,
          0,
          0,
          0,
          0,
          0,
          0,
          0,
          0,
          0,
          0,
          0,
          0,
          0,
          0,
          0,
          0,
          0,
          0,
          0,
          0,
          0,
          0,
          0,
          0,
          0,
          0,
          0,
          0.0011904761904761906,
          0,
          0,
          0,
          0,
          0,
          0,
          0,
          0,
          0
         ]
        },
        {
         "marker": {
          "color": "#00FF00"
         },
         "name": "B5 (0)",
         "type": "bar",
         "x": [
          "UFJF-AC-4",
          "UFRGS-A-4",
          "UFRN-APEMA-4",
          "UFBA-AEU-4",
          "UFES-AEU-4",
          "UFF-AEU-4",
          "UFV-AEU-4",
          "USJT-AEU-4",
          "UFSC-AEU-5",
          "UFPA-AeU-4",
          "UEL-AeU-4",
          "UNICAMP-ATeC-5",
          "UFBA-C-CeR-4",
          "UNIRITTER-D-4",
          "UFPE-E-3",
          "PUCCAMP-AeU-5",
          "UFSC-UHEADC-4",
          "UFCG-D-3",
          "CESAR-D-3",
          "UNIFATEA-DTEI-3",
          "IMED-AEU-3",
          "UNIFOR-CDC-3",
          "UFRN-AEU-4",
          "UNESP-BAURU-AeU-4",
          "UFRJ-PeP-4",
          "UNISINOS-AeU-4",
          "UFMG-AEU-6",
          "UFAL-DDEH-3",
          "UFPEL-AEU-4",
          "UFPB-JP-AEU-4",
          "USP/SC-AEU-4",
          "UDESC-D-4",
          "UFU-AeU-3",
          "UNIRITTER-AeU-4",
          "UFRN-D-4",
          "UNB-AEU-4",
          "UFRJ-A-6",
          "USP-AEU-4",
          "UFRJ-AP-4",
          "UFG-PEC-3",
          "PUC-RIO-A-3",
          "UNB-D-3",
          "UFRJ-U-5",
          "UFPE-D-4",
          "UFPR-D-4",
          "UFSC-D-5",
          " FIAMFAAM-PPeGdEU-3",
          "UERJ-D-4",
          "UPM-AEU-6",
          "UEMG-D-5",
          "UFRGS-D-5",
          "UFC-AEUED-3",
          "UNIVILLE-D-4",
          "UFMA-D-3",
          "UAM-D-5",
          "PUC-RIO-D-5",
          "UNESP-BAURU-D-6",
          "UNISINOS-D-5"
         ],
         "y": [
          0,
          0,
          0,
          0,
          0,
          0,
          0,
          0,
          0,
          0,
          0,
          0,
          0,
          0,
          0,
          0,
          0,
          0,
          0,
          0,
          0,
          0,
          0,
          0,
          0,
          0,
          0,
          0,
          0,
          0,
          0,
          0,
          0,
          0,
          0,
          0,
          0,
          0,
          0,
          0,
          0,
          0,
          0,
          0,
          0,
          0,
          0,
          0,
          0,
          0,
          0,
          0,
          0,
          0,
          0,
          0,
          0,
          0
         ]
        },
        {
         "marker": {
          "color": "#880000"
         },
         "name": "C (0)",
         "type": "bar",
         "x": [
          "UFJF-AC-4",
          "UFRGS-A-4",
          "UFRN-APEMA-4",
          "UFBA-AEU-4",
          "UFES-AEU-4",
          "UFF-AEU-4",
          "UFV-AEU-4",
          "USJT-AEU-4",
          "UFSC-AEU-5",
          "UFPA-AeU-4",
          "UEL-AeU-4",
          "UNICAMP-ATeC-5",
          "UFBA-C-CeR-4",
          "UNIRITTER-D-4",
          "UFPE-E-3",
          "PUCCAMP-AeU-5",
          "UFSC-UHEADC-4",
          "UFCG-D-3",
          "CESAR-D-3",
          "UNIFATEA-DTEI-3",
          "IMED-AEU-3",
          "UNIFOR-CDC-3",
          "UFRN-AEU-4",
          "UNESP-BAURU-AeU-4",
          "UFRJ-PeP-4",
          "UNISINOS-AeU-4",
          "UFMG-AEU-6",
          "UFAL-DDEH-3",
          "UFPEL-AEU-4",
          "UFPB-JP-AEU-4",
          "USP/SC-AEU-4",
          "UDESC-D-4",
          "UFU-AeU-3",
          "UNIRITTER-AeU-4",
          "UFRN-D-4",
          "UNB-AEU-4",
          "UFRJ-A-6",
          "USP-AEU-4",
          "UFRJ-AP-4",
          "UFG-PEC-3",
          "PUC-RIO-A-3",
          "UNB-D-3",
          "UFRJ-U-5",
          "UFPE-D-4",
          "UFPR-D-4",
          "UFSC-D-5",
          " FIAMFAAM-PPeGdEU-3",
          "UERJ-D-4",
          "UPM-AEU-6",
          "UEMG-D-5",
          "UFRGS-D-5",
          "UFC-AEUED-3",
          "UNIVILLE-D-4",
          "UFMA-D-3",
          "UAM-D-5",
          "PUC-RIO-D-5",
          "UNESP-BAURU-D-6",
          "UNISINOS-D-5"
         ],
         "y": [
          0,
          0,
          0,
          0,
          0,
          0,
          0,
          0,
          0,
          0,
          0,
          0,
          0,
          0,
          0,
          0,
          0,
          0,
          0,
          0,
          0,
          0,
          0,
          0,
          0,
          0,
          0,
          0,
          0,
          0,
          0,
          0,
          0,
          0,
          0,
          0,
          0,
          0,
          0,
          0,
          0,
          0,
          0,
          0,
          0,
          0,
          0,
          0,
          0,
          0,
          0,
          0,
          0,
          0,
          0,
          0,
          0,
          0
         ]
        },
        {
         "marker": {
          "color": "#CC0000"
         },
         "name": "NA (0)",
         "type": "bar",
         "x": [
          "UFJF-AC-4",
          "UFRGS-A-4",
          "UFRN-APEMA-4",
          "UFBA-AEU-4",
          "UFES-AEU-4",
          "UFF-AEU-4",
          "UFV-AEU-4",
          "USJT-AEU-4",
          "UFSC-AEU-5",
          "UFPA-AeU-4",
          "UEL-AeU-4",
          "UNICAMP-ATeC-5",
          "UFBA-C-CeR-4",
          "UNIRITTER-D-4",
          "UFPE-E-3",
          "PUCCAMP-AeU-5",
          "UFSC-UHEADC-4",
          "UFCG-D-3",
          "CESAR-D-3",
          "UNIFATEA-DTEI-3",
          "IMED-AEU-3",
          "UNIFOR-CDC-3",
          "UFRN-AEU-4",
          "UNESP-BAURU-AeU-4",
          "UFRJ-PeP-4",
          "UNISINOS-AeU-4",
          "UFMG-AEU-6",
          "UFAL-DDEH-3",
          "UFPEL-AEU-4",
          "UFPB-JP-AEU-4",
          "USP/SC-AEU-4",
          "UDESC-D-4",
          "UFU-AeU-3",
          "UNIRITTER-AeU-4",
          "UFRN-D-4",
          "UNB-AEU-4",
          "UFRJ-A-6",
          "USP-AEU-4",
          "UFRJ-AP-4",
          "UFG-PEC-3",
          "PUC-RIO-A-3",
          "UNB-D-3",
          "UFRJ-U-5",
          "UFPE-D-4",
          "UFPR-D-4",
          "UFSC-D-5",
          " FIAMFAAM-PPeGdEU-3",
          "UERJ-D-4",
          "UPM-AEU-6",
          "UEMG-D-5",
          "UFRGS-D-5",
          "UFC-AEUED-3",
          "UNIVILLE-D-4",
          "UFMA-D-3",
          "UAM-D-5",
          "PUC-RIO-D-5",
          "UNESP-BAURU-D-6",
          "UNISINOS-D-5"
         ],
         "y": [
          0,
          0,
          0,
          0,
          0,
          0,
          0,
          0,
          0,
          0,
          0,
          0,
          0,
          0,
          0,
          0,
          0,
          0,
          0,
          0,
          0,
          0,
          0,
          0,
          0,
          0,
          0,
          0,
          0,
          0,
          0,
          0,
          0,
          0,
          0,
          0,
          0,
          0,
          0,
          0,
          0,
          0,
          0,
          0,
          0,
          0,
          0,
          0,
          0,
          0,
          0,
          0,
          0,
          0,
          0,
          0,
          0,
          0
         ]
        },
        {
         "marker": {
          "color": "#FF0000"
         },
         "name": "NP (0)",
         "type": "bar",
         "x": [
          "UFJF-AC-4",
          "UFRGS-A-4",
          "UFRN-APEMA-4",
          "UFBA-AEU-4",
          "UFES-AEU-4",
          "UFF-AEU-4",
          "UFV-AEU-4",
          "USJT-AEU-4",
          "UFSC-AEU-5",
          "UFPA-AeU-4",
          "UEL-AeU-4",
          "UNICAMP-ATeC-5",
          "UFBA-C-CeR-4",
          "UNIRITTER-D-4",
          "UFPE-E-3",
          "PUCCAMP-AeU-5",
          "UFSC-UHEADC-4",
          "UFCG-D-3",
          "CESAR-D-3",
          "UNIFATEA-DTEI-3",
          "IMED-AEU-3",
          "UNIFOR-CDC-3",
          "UFRN-AEU-4",
          "UNESP-BAURU-AeU-4",
          "UFRJ-PeP-4",
          "UNISINOS-AeU-4",
          "UFMG-AEU-6",
          "UFAL-DDEH-3",
          "UFPEL-AEU-4",
          "UFPB-JP-AEU-4",
          "USP/SC-AEU-4",
          "UDESC-D-4",
          "UFU-AeU-3",
          "UNIRITTER-AeU-4",
          "UFRN-D-4",
          "UNB-AEU-4",
          "UFRJ-A-6",
          "USP-AEU-4",
          "UFRJ-AP-4",
          "UFG-PEC-3",
          "PUC-RIO-A-3",
          "UNB-D-3",
          "UFRJ-U-5",
          "UFPE-D-4",
          "UFPR-D-4",
          "UFSC-D-5",
          " FIAMFAAM-PPeGdEU-3",
          "UERJ-D-4",
          "UPM-AEU-6",
          "UEMG-D-5",
          "UFRGS-D-5",
          "UFC-AEUED-3",
          "UNIVILLE-D-4",
          "UFMA-D-3",
          "UAM-D-5",
          "PUC-RIO-D-5",
          "UNESP-BAURU-D-6",
          "UNISINOS-D-5"
         ],
         "y": [
          0,
          0,
          0,
          0,
          0,
          0,
          0,
          0,
          0,
          0,
          0,
          0,
          0,
          0,
          0,
          0,
          0,
          0,
          0,
          0,
          0,
          0,
          0,
          0,
          0,
          0,
          0,
          0,
          0,
          0,
          0,
          0,
          0,
          0,
          0,
          0,
          0,
          0,
          0,
          0,
          0,
          0,
          0,
          0,
          0,
          0,
          0,
          0,
          0,
          0,
          0,
          0,
          0,
          0,
          0,
          0,
          0,
          0
         ]
        }
       ],
       "layout": {
        "barmode": "stack",
        "template": {
         "data": {
          "bar": [
           {
            "error_x": {
             "color": "#2a3f5f"
            },
            "error_y": {
             "color": "#2a3f5f"
            },
            "marker": {
             "line": {
              "color": "#E5ECF6",
              "width": 0.5
             }
            },
            "type": "bar"
           }
          ],
          "barpolar": [
           {
            "marker": {
             "line": {
              "color": "#E5ECF6",
              "width": 0.5
             }
            },
            "type": "barpolar"
           }
          ],
          "carpet": [
           {
            "aaxis": {
             "endlinecolor": "#2a3f5f",
             "gridcolor": "white",
             "linecolor": "white",
             "minorgridcolor": "white",
             "startlinecolor": "#2a3f5f"
            },
            "baxis": {
             "endlinecolor": "#2a3f5f",
             "gridcolor": "white",
             "linecolor": "white",
             "minorgridcolor": "white",
             "startlinecolor": "#2a3f5f"
            },
            "type": "carpet"
           }
          ],
          "choropleth": [
           {
            "colorbar": {
             "outlinewidth": 0,
             "ticks": ""
            },
            "type": "choropleth"
           }
          ],
          "contour": [
           {
            "colorbar": {
             "outlinewidth": 0,
             "ticks": ""
            },
            "colorscale": [
             [
              0,
              "#0d0887"
             ],
             [
              0.1111111111111111,
              "#46039f"
             ],
             [
              0.2222222222222222,
              "#7201a8"
             ],
             [
              0.3333333333333333,
              "#9c179e"
             ],
             [
              0.4444444444444444,
              "#bd3786"
             ],
             [
              0.5555555555555556,
              "#d8576b"
             ],
             [
              0.6666666666666666,
              "#ed7953"
             ],
             [
              0.7777777777777778,
              "#fb9f3a"
             ],
             [
              0.8888888888888888,
              "#fdca26"
             ],
             [
              1,
              "#f0f921"
             ]
            ],
            "type": "contour"
           }
          ],
          "contourcarpet": [
           {
            "colorbar": {
             "outlinewidth": 0,
             "ticks": ""
            },
            "type": "contourcarpet"
           }
          ],
          "heatmap": [
           {
            "colorbar": {
             "outlinewidth": 0,
             "ticks": ""
            },
            "colorscale": [
             [
              0,
              "#0d0887"
             ],
             [
              0.1111111111111111,
              "#46039f"
             ],
             [
              0.2222222222222222,
              "#7201a8"
             ],
             [
              0.3333333333333333,
              "#9c179e"
             ],
             [
              0.4444444444444444,
              "#bd3786"
             ],
             [
              0.5555555555555556,
              "#d8576b"
             ],
             [
              0.6666666666666666,
              "#ed7953"
             ],
             [
              0.7777777777777778,
              "#fb9f3a"
             ],
             [
              0.8888888888888888,
              "#fdca26"
             ],
             [
              1,
              "#f0f921"
             ]
            ],
            "type": "heatmap"
           }
          ],
          "heatmapgl": [
           {
            "colorbar": {
             "outlinewidth": 0,
             "ticks": ""
            },
            "colorscale": [
             [
              0,
              "#0d0887"
             ],
             [
              0.1111111111111111,
              "#46039f"
             ],
             [
              0.2222222222222222,
              "#7201a8"
             ],
             [
              0.3333333333333333,
              "#9c179e"
             ],
             [
              0.4444444444444444,
              "#bd3786"
             ],
             [
              0.5555555555555556,
              "#d8576b"
             ],
             [
              0.6666666666666666,
              "#ed7953"
             ],
             [
              0.7777777777777778,
              "#fb9f3a"
             ],
             [
              0.8888888888888888,
              "#fdca26"
             ],
             [
              1,
              "#f0f921"
             ]
            ],
            "type": "heatmapgl"
           }
          ],
          "histogram": [
           {
            "marker": {
             "colorbar": {
              "outlinewidth": 0,
              "ticks": ""
             }
            },
            "type": "histogram"
           }
          ],
          "histogram2d": [
           {
            "colorbar": {
             "outlinewidth": 0,
             "ticks": ""
            },
            "colorscale": [
             [
              0,
              "#0d0887"
             ],
             [
              0.1111111111111111,
              "#46039f"
             ],
             [
              0.2222222222222222,
              "#7201a8"
             ],
             [
              0.3333333333333333,
              "#9c179e"
             ],
             [
              0.4444444444444444,
              "#bd3786"
             ],
             [
              0.5555555555555556,
              "#d8576b"
             ],
             [
              0.6666666666666666,
              "#ed7953"
             ],
             [
              0.7777777777777778,
              "#fb9f3a"
             ],
             [
              0.8888888888888888,
              "#fdca26"
             ],
             [
              1,
              "#f0f921"
             ]
            ],
            "type": "histogram2d"
           }
          ],
          "histogram2dcontour": [
           {
            "colorbar": {
             "outlinewidth": 0,
             "ticks": ""
            },
            "colorscale": [
             [
              0,
              "#0d0887"
             ],
             [
              0.1111111111111111,
              "#46039f"
             ],
             [
              0.2222222222222222,
              "#7201a8"
             ],
             [
              0.3333333333333333,
              "#9c179e"
             ],
             [
              0.4444444444444444,
              "#bd3786"
             ],
             [
              0.5555555555555556,
              "#d8576b"
             ],
             [
              0.6666666666666666,
              "#ed7953"
             ],
             [
              0.7777777777777778,
              "#fb9f3a"
             ],
             [
              0.8888888888888888,
              "#fdca26"
             ],
             [
              1,
              "#f0f921"
             ]
            ],
            "type": "histogram2dcontour"
           }
          ],
          "mesh3d": [
           {
            "colorbar": {
             "outlinewidth": 0,
             "ticks": ""
            },
            "type": "mesh3d"
           }
          ],
          "parcoords": [
           {
            "line": {
             "colorbar": {
              "outlinewidth": 0,
              "ticks": ""
             }
            },
            "type": "parcoords"
           }
          ],
          "pie": [
           {
            "automargin": true,
            "type": "pie"
           }
          ],
          "scatter": [
           {
            "marker": {
             "colorbar": {
              "outlinewidth": 0,
              "ticks": ""
             }
            },
            "type": "scatter"
           }
          ],
          "scatter3d": [
           {
            "line": {
             "colorbar": {
              "outlinewidth": 0,
              "ticks": ""
             }
            },
            "marker": {
             "colorbar": {
              "outlinewidth": 0,
              "ticks": ""
             }
            },
            "type": "scatter3d"
           }
          ],
          "scattercarpet": [
           {
            "marker": {
             "colorbar": {
              "outlinewidth": 0,
              "ticks": ""
             }
            },
            "type": "scattercarpet"
           }
          ],
          "scattergeo": [
           {
            "marker": {
             "colorbar": {
              "outlinewidth": 0,
              "ticks": ""
             }
            },
            "type": "scattergeo"
           }
          ],
          "scattergl": [
           {
            "marker": {
             "colorbar": {
              "outlinewidth": 0,
              "ticks": ""
             }
            },
            "type": "scattergl"
           }
          ],
          "scattermapbox": [
           {
            "marker": {
             "colorbar": {
              "outlinewidth": 0,
              "ticks": ""
             }
            },
            "type": "scattermapbox"
           }
          ],
          "scatterpolar": [
           {
            "marker": {
             "colorbar": {
              "outlinewidth": 0,
              "ticks": ""
             }
            },
            "type": "scatterpolar"
           }
          ],
          "scatterpolargl": [
           {
            "marker": {
             "colorbar": {
              "outlinewidth": 0,
              "ticks": ""
             }
            },
            "type": "scatterpolargl"
           }
          ],
          "scatterternary": [
           {
            "marker": {
             "colorbar": {
              "outlinewidth": 0,
              "ticks": ""
             }
            },
            "type": "scatterternary"
           }
          ],
          "surface": [
           {
            "colorbar": {
             "outlinewidth": 0,
             "ticks": ""
            },
            "colorscale": [
             [
              0,
              "#0d0887"
             ],
             [
              0.1111111111111111,
              "#46039f"
             ],
             [
              0.2222222222222222,
              "#7201a8"
             ],
             [
              0.3333333333333333,
              "#9c179e"
             ],
             [
              0.4444444444444444,
              "#bd3786"
             ],
             [
              0.5555555555555556,
              "#d8576b"
             ],
             [
              0.6666666666666666,
              "#ed7953"
             ],
             [
              0.7777777777777778,
              "#fb9f3a"
             ],
             [
              0.8888888888888888,
              "#fdca26"
             ],
             [
              1,
              "#f0f921"
             ]
            ],
            "type": "surface"
           }
          ],
          "table": [
           {
            "cells": {
             "fill": {
              "color": "#EBF0F8"
             },
             "line": {
              "color": "white"
             }
            },
            "header": {
             "fill": {
              "color": "#C8D4E3"
             },
             "line": {
              "color": "white"
             }
            },
            "type": "table"
           }
          ]
         },
         "layout": {
          "annotationdefaults": {
           "arrowcolor": "#2a3f5f",
           "arrowhead": 0,
           "arrowwidth": 1
          },
          "coloraxis": {
           "colorbar": {
            "outlinewidth": 0,
            "ticks": ""
           }
          },
          "colorscale": {
           "diverging": [
            [
             0,
             "#8e0152"
            ],
            [
             0.1,
             "#c51b7d"
            ],
            [
             0.2,
             "#de77ae"
            ],
            [
             0.3,
             "#f1b6da"
            ],
            [
             0.4,
             "#fde0ef"
            ],
            [
             0.5,
             "#f7f7f7"
            ],
            [
             0.6,
             "#e6f5d0"
            ],
            [
             0.7,
             "#b8e186"
            ],
            [
             0.8,
             "#7fbc41"
            ],
            [
             0.9,
             "#4d9221"
            ],
            [
             1,
             "#276419"
            ]
           ],
           "sequential": [
            [
             0,
             "#0d0887"
            ],
            [
             0.1111111111111111,
             "#46039f"
            ],
            [
             0.2222222222222222,
             "#7201a8"
            ],
            [
             0.3333333333333333,
             "#9c179e"
            ],
            [
             0.4444444444444444,
             "#bd3786"
            ],
            [
             0.5555555555555556,
             "#d8576b"
            ],
            [
             0.6666666666666666,
             "#ed7953"
            ],
            [
             0.7777777777777778,
             "#fb9f3a"
            ],
            [
             0.8888888888888888,
             "#fdca26"
            ],
            [
             1,
             "#f0f921"
            ]
           ],
           "sequentialminus": [
            [
             0,
             "#0d0887"
            ],
            [
             0.1111111111111111,
             "#46039f"
            ],
            [
             0.2222222222222222,
             "#7201a8"
            ],
            [
             0.3333333333333333,
             "#9c179e"
            ],
            [
             0.4444444444444444,
             "#bd3786"
            ],
            [
             0.5555555555555556,
             "#d8576b"
            ],
            [
             0.6666666666666666,
             "#ed7953"
            ],
            [
             0.7777777777777778,
             "#fb9f3a"
            ],
            [
             0.8888888888888888,
             "#fdca26"
            ],
            [
             1,
             "#f0f921"
            ]
           ]
          },
          "colorway": [
           "#636efa",
           "#EF553B",
           "#00cc96",
           "#ab63fa",
           "#FFA15A",
           "#19d3f3",
           "#FF6692",
           "#B6E880",
           "#FF97FF",
           "#FECB52"
          ],
          "font": {
           "color": "#2a3f5f"
          },
          "geo": {
           "bgcolor": "white",
           "lakecolor": "white",
           "landcolor": "#E5ECF6",
           "showlakes": true,
           "showland": true,
           "subunitcolor": "white"
          },
          "hoverlabel": {
           "align": "left"
          },
          "hovermode": "closest",
          "mapbox": {
           "style": "light"
          },
          "paper_bgcolor": "white",
          "plot_bgcolor": "#E5ECF6",
          "polar": {
           "angularaxis": {
            "gridcolor": "white",
            "linecolor": "white",
            "ticks": ""
           },
           "bgcolor": "#E5ECF6",
           "radialaxis": {
            "gridcolor": "white",
            "linecolor": "white",
            "ticks": ""
           }
          },
          "scene": {
           "xaxis": {
            "backgroundcolor": "#E5ECF6",
            "gridcolor": "white",
            "gridwidth": 2,
            "linecolor": "white",
            "showbackground": true,
            "ticks": "",
            "zerolinecolor": "white"
           },
           "yaxis": {
            "backgroundcolor": "#E5ECF6",
            "gridcolor": "white",
            "gridwidth": 2,
            "linecolor": "white",
            "showbackground": true,
            "ticks": "",
            "zerolinecolor": "white"
           },
           "zaxis": {
            "backgroundcolor": "#E5ECF6",
            "gridcolor": "white",
            "gridwidth": 2,
            "linecolor": "white",
            "showbackground": true,
            "ticks": "",
            "zerolinecolor": "white"
           }
          },
          "shapedefaults": {
           "line": {
            "color": "#2a3f5f"
           }
          },
          "ternary": {
           "aaxis": {
            "gridcolor": "white",
            "linecolor": "white",
            "ticks": ""
           },
           "baxis": {
            "gridcolor": "white",
            "linecolor": "white",
            "ticks": ""
           },
           "bgcolor": "#E5ECF6",
           "caxis": {
            "gridcolor": "white",
            "linecolor": "white",
            "ticks": ""
           }
          },
          "title": {
           "x": 0.05
          },
          "xaxis": {
           "automargin": true,
           "gridcolor": "white",
           "linecolor": "white",
           "ticks": "",
           "title": {
            "standoff": 15
           },
           "zerolinecolor": "white",
           "zerolinewidth": 2
          },
          "yaxis": {
           "automargin": true,
           "gridcolor": "white",
           "linecolor": "white",
           "ticks": "",
           "title": {
            "standoff": 15
           },
           "zerolinecolor": "white",
           "zerolinewidth": 2
          }
         }
        },
        "title": {
         "font": {
          "color": "#000000",
          "size": 20
         },
         "text": "Conferências por Docentes (Permanentes + Colaboradores)",
         "x": 0.5,
         "xanchor": "center"
        },
        "xaxis": {
         "title": {
          "text": "Instituição"
         }
        }
       }
      },
      "text/html": [
       "<div>\n",
       "        \n",
       "        \n",
       "            <div id=\"dc357474-9193-400c-a630-02bcffd073e1\" class=\"plotly-graph-div\" style=\"height:525px; width:100%;\"></div>\n",
       "            <script type=\"text/javascript\">\n",
       "                require([\"plotly\"], function(Plotly) {\n",
       "                    window.PLOTLYENV=window.PLOTLYENV || {};\n",
       "                    \n",
       "                if (document.getElementById(\"dc357474-9193-400c-a630-02bcffd073e1\")) {\n",
       "                    Plotly.newPlot(\n",
       "                        'dc357474-9193-400c-a630-02bcffd073e1',\n",
       "                        [{\"marker\": {\"color\": \"#000044\"}, \"name\": \"A1 (1)\", \"type\": \"bar\", \"x\": [\"UFJF-AC-4\", \"UFRGS-A-4\", \"UFRN-APEMA-4\", \"UFBA-AEU-4\", \"UFES-AEU-4\", \"UFF-AEU-4\", \"UFV-AEU-4\", \"USJT-AEU-4\", \"UFSC-AEU-5\", \"UFPA-AeU-4\", \"UEL-AeU-4\", \"UNICAMP-ATeC-5\", \"UFBA-C-CeR-4\", \"UNIRITTER-D-4\", \"UFPE-E-3\", \"PUCCAMP-AeU-5\", \"UFSC-UHEADC-4\", \"UFCG-D-3\", \"CESAR-D-3\", \"UNIFATEA-DTEI-3\", \"IMED-AEU-3\", \"UNIFOR-CDC-3\", \"UFRN-AEU-4\", \"UNESP-BAURU-AeU-4\", \"UFRJ-PeP-4\", \"UNISINOS-AeU-4\", \"UFMG-AEU-6\", \"UFAL-DDEH-3\", \"UFPEL-AEU-4\", \"UFPB-JP-AEU-4\", \"USP/SC-AEU-4\", \"UDESC-D-4\", \"UFU-AeU-3\", \"UNIRITTER-AeU-4\", \"UFRN-D-4\", \"UNB-AEU-4\", \"UFRJ-A-6\", \"USP-AEU-4\", \"UFRJ-AP-4\", \"UFG-PEC-3\", \"PUC-RIO-A-3\", \"UNB-D-3\", \"UFRJ-U-5\", \"UFPE-D-4\", \"UFPR-D-4\", \"UFSC-D-5\", \" FIAMFAAM-PPeGdEU-3\", \"UERJ-D-4\", \"UPM-AEU-6\", \"UEMG-D-5\", \"UFRGS-D-5\", \"UFC-AEUED-3\", \"UNIVILLE-D-4\", \"UFMA-D-3\", \"UAM-D-5\", \"PUC-RIO-D-5\", \"UNESP-BAURU-D-6\", \"UNISINOS-D-5\"], \"y\": [0.0, 0.0, 0.0, 0.0, 0.0, 0.0, 0.0, 0.0, 0.0, 0.0, 0.0, 0.0, 0.0, 0.0, 0.0, 0.0, 0.0, 0.0, 0.0, 0.0, 0.0, 0.0, 0.0, 0.0, 0.0, 0.0, 0.0, 0.0, 0.0, 0.0, 0.0, 0.0, 0.0, 0.0, 0.0, 0.0, 0.0, 0.0, 0.029411764705882353, 0.0, 0.0, 0.0, 0.0, 0.0, 0.0, 0.0, 0.0, 0.0, 0.0, 0.0, 0.0, 0.0, 0.0, 0.0, 0.0, 0.0, 0.0, 0.0]}, {\"marker\": {\"color\": \"#000088\"}, \"name\": \"A2 (0.875)\", \"type\": \"bar\", \"x\": [\"UFJF-AC-4\", \"UFRGS-A-4\", \"UFRN-APEMA-4\", \"UFBA-AEU-4\", \"UFES-AEU-4\", \"UFF-AEU-4\", \"UFV-AEU-4\", \"USJT-AEU-4\", \"UFSC-AEU-5\", \"UFPA-AeU-4\", \"UEL-AeU-4\", \"UNICAMP-ATeC-5\", \"UFBA-C-CeR-4\", \"UNIRITTER-D-4\", \"UFPE-E-3\", \"PUCCAMP-AeU-5\", \"UFSC-UHEADC-4\", \"UFCG-D-3\", \"CESAR-D-3\", \"UNIFATEA-DTEI-3\", \"IMED-AEU-3\", \"UNIFOR-CDC-3\", \"UFRN-AEU-4\", \"UNESP-BAURU-AeU-4\", \"UFRJ-PeP-4\", \"UNISINOS-AeU-4\", \"UFMG-AEU-6\", \"UFAL-DDEH-3\", \"UFPEL-AEU-4\", \"UFPB-JP-AEU-4\", \"USP/SC-AEU-4\", \"UDESC-D-4\", \"UFU-AeU-3\", \"UNIRITTER-AeU-4\", \"UFRN-D-4\", \"UNB-AEU-4\", \"UFRJ-A-6\", \"USP-AEU-4\", \"UFRJ-AP-4\", \"UFG-PEC-3\", \"PUC-RIO-A-3\", \"UNB-D-3\", \"UFRJ-U-5\", \"UFPE-D-4\", \"UFPR-D-4\", \"UFSC-D-5\", \" FIAMFAAM-PPeGdEU-3\", \"UERJ-D-4\", \"UPM-AEU-6\", \"UEMG-D-5\", \"UFRGS-D-5\", \"UFC-AEUED-3\", \"UNIVILLE-D-4\", \"UFMA-D-3\", \"UAM-D-5\", \"PUC-RIO-D-5\", \"UNESP-BAURU-D-6\", \"UNISINOS-D-5\"], \"y\": [0.0, 0.0, 0.0, 0.0, 0.0, 0.0, 0.0, 0.0, 0.0, 0.0, 0.0, 0.0, 0.0, 0.0, 0.0, 0.0, 0.0, 0.0, 0.0, 0.0, 0.0, 0.0, 0.0, 0.0, 0.0, 0.0, 0.0, 0.0, 0.0, 0.0, 0.0, 0.0, 0.0, 0.0, 0.0, 0.0, 0.0, 0.0, 0.0, 0.0, 0.0, 0.0, 0.0, 0.0, 0.0, 0.0, 0.0, 0.0, 0.0, 0.0, 0.0, 0.0, 0.0, 0.0, 0.0, 0.0, 0.0, 0.0]}, {\"marker\": {\"color\": \"#0000CC\"}, \"name\": \"A3 (0.75)\", \"type\": \"bar\", \"x\": [\"UFJF-AC-4\", \"UFRGS-A-4\", \"UFRN-APEMA-4\", \"UFBA-AEU-4\", \"UFES-AEU-4\", \"UFF-AEU-4\", \"UFV-AEU-4\", \"USJT-AEU-4\", \"UFSC-AEU-5\", \"UFPA-AeU-4\", \"UEL-AeU-4\", \"UNICAMP-ATeC-5\", \"UFBA-C-CeR-4\", \"UNIRITTER-D-4\", \"UFPE-E-3\", \"PUCCAMP-AeU-5\", \"UFSC-UHEADC-4\", \"UFCG-D-3\", \"CESAR-D-3\", \"UNIFATEA-DTEI-3\", \"IMED-AEU-3\", \"UNIFOR-CDC-3\", \"UFRN-AEU-4\", \"UNESP-BAURU-AeU-4\", \"UFRJ-PeP-4\", \"UNISINOS-AeU-4\", \"UFMG-AEU-6\", \"UFAL-DDEH-3\", \"UFPEL-AEU-4\", \"UFPB-JP-AEU-4\", \"USP/SC-AEU-4\", \"UDESC-D-4\", \"UFU-AeU-3\", \"UNIRITTER-AeU-4\", \"UFRN-D-4\", \"UNB-AEU-4\", \"UFRJ-A-6\", \"USP-AEU-4\", \"UFRJ-AP-4\", \"UFG-PEC-3\", \"PUC-RIO-A-3\", \"UNB-D-3\", \"UFRJ-U-5\", \"UFPE-D-4\", \"UFPR-D-4\", \"UFSC-D-5\", \" FIAMFAAM-PPeGdEU-3\", \"UERJ-D-4\", \"UPM-AEU-6\", \"UEMG-D-5\", \"UFRGS-D-5\", \"UFC-AEUED-3\", \"UNIVILLE-D-4\", \"UFMA-D-3\", \"UAM-D-5\", \"PUC-RIO-D-5\", \"UNESP-BAURU-D-6\", \"UNISINOS-D-5\"], \"y\": [0.0, 0.0, 0.0, 0.0, 0.0, 0.0, 0.0, 0.0, 0.0, 0.0, 0.0, 0.0, 0.0, 0.0, 0.0, 0.0, 0.0, 0.0, 0.0, 0.0, 0.0, 0.0, 0.0, 0.0, 0.0, 0.0, 0.0, 0.0, 0.0, 0.0, 0.0, 0.0, 0.0, 0.0, 0.0, 0.017045454545454544, 0.0, 0.0, 0.0, 0.0, 0.0, 0.0, 0.0, 0.0, 0.0, 0.0, 0.0, 0.0, 0.0, 0.0, 0.0, 0.0, 0.0, 0.0, 0.0, 0.0, 0.0, 0.0]}, {\"marker\": {\"color\": \"#0000FF\"}, \"name\": \"A4 (0.625)\", \"type\": \"bar\", \"x\": [\"UFJF-AC-4\", \"UFRGS-A-4\", \"UFRN-APEMA-4\", \"UFBA-AEU-4\", \"UFES-AEU-4\", \"UFF-AEU-4\", \"UFV-AEU-4\", \"USJT-AEU-4\", \"UFSC-AEU-5\", \"UFPA-AeU-4\", \"UEL-AeU-4\", \"UNICAMP-ATeC-5\", \"UFBA-C-CeR-4\", \"UNIRITTER-D-4\", \"UFPE-E-3\", \"PUCCAMP-AeU-5\", \"UFSC-UHEADC-4\", \"UFCG-D-3\", \"CESAR-D-3\", \"UNIFATEA-DTEI-3\", \"IMED-AEU-3\", \"UNIFOR-CDC-3\", \"UFRN-AEU-4\", \"UNESP-BAURU-AeU-4\", \"UFRJ-PeP-4\", \"UNISINOS-AeU-4\", \"UFMG-AEU-6\", \"UFAL-DDEH-3\", \"UFPEL-AEU-4\", \"UFPB-JP-AEU-4\", \"USP/SC-AEU-4\", \"UDESC-D-4\", \"UFU-AeU-3\", \"UNIRITTER-AeU-4\", \"UFRN-D-4\", \"UNB-AEU-4\", \"UFRJ-A-6\", \"USP-AEU-4\", \"UFRJ-AP-4\", \"UFG-PEC-3\", \"PUC-RIO-A-3\", \"UNB-D-3\", \"UFRJ-U-5\", \"UFPE-D-4\", \"UFPR-D-4\", \"UFSC-D-5\", \" FIAMFAAM-PPeGdEU-3\", \"UERJ-D-4\", \"UPM-AEU-6\", \"UEMG-D-5\", \"UFRGS-D-5\", \"UFC-AEUED-3\", \"UNIVILLE-D-4\", \"UFMA-D-3\", \"UAM-D-5\", \"PUC-RIO-D-5\", \"UNESP-BAURU-D-6\", \"UNISINOS-D-5\"], \"y\": [0.0, 0.0, 0.0, 0.0, 0.0, 0.0, 0.0, 0.0, 0.0, 0.0, 0.0, 0.0, 0.0, 0.0, 0.0, 0.0, 0.0, 0.0, 0.0, 0.0, 0.0, 0.0, 0.0, 0.0, 0.0, 0.0, 0.0, 0.0, 0.01201923076923077, 0.0, 0.0, 0.0, 0.0, 0.020833333333333332, 0.0, 0.0, 0.0, 0.006648936170212766, 0.0, 0.0, 0.0, 0.0, 0.0, 0.0, 0.0, 0.0, 0.056818181818181816, 0.0, 0.02976190476190476, 0.0, 0.0, 0.0, 0.0, 0.0, 0.0, 0.02976190476190476, 0.0, 0.0]}, {\"marker\": {\"color\": \"#003300\"}, \"name\": \"B1 (0.5)\", \"type\": \"bar\", \"x\": [\"UFJF-AC-4\", \"UFRGS-A-4\", \"UFRN-APEMA-4\", \"UFBA-AEU-4\", \"UFES-AEU-4\", \"UFF-AEU-4\", \"UFV-AEU-4\", \"USJT-AEU-4\", \"UFSC-AEU-5\", \"UFPA-AeU-4\", \"UEL-AeU-4\", \"UNICAMP-ATeC-5\", \"UFBA-C-CeR-4\", \"UNIRITTER-D-4\", \"UFPE-E-3\", \"PUCCAMP-AeU-5\", \"UFSC-UHEADC-4\", \"UFCG-D-3\", \"CESAR-D-3\", \"UNIFATEA-DTEI-3\", \"IMED-AEU-3\", \"UNIFOR-CDC-3\", \"UFRN-AEU-4\", \"UNESP-BAURU-AeU-4\", \"UFRJ-PeP-4\", \"UNISINOS-AeU-4\", \"UFMG-AEU-6\", \"UFAL-DDEH-3\", \"UFPEL-AEU-4\", \"UFPB-JP-AEU-4\", \"USP/SC-AEU-4\", \"UDESC-D-4\", \"UFU-AeU-3\", \"UNIRITTER-AeU-4\", \"UFRN-D-4\", \"UNB-AEU-4\", \"UFRJ-A-6\", \"USP-AEU-4\", \"UFRJ-AP-4\", \"UFG-PEC-3\", \"PUC-RIO-A-3\", \"UNB-D-3\", \"UFRJ-U-5\", \"UFPE-D-4\", \"UFPR-D-4\", \"UFSC-D-5\", \" FIAMFAAM-PPeGdEU-3\", \"UERJ-D-4\", \"UPM-AEU-6\", \"UEMG-D-5\", \"UFRGS-D-5\", \"UFC-AEUED-3\", \"UNIVILLE-D-4\", \"UFMA-D-3\", \"UAM-D-5\", \"PUC-RIO-D-5\", \"UNESP-BAURU-D-6\", \"UNISINOS-D-5\"], \"y\": [0.0, 0.0, 0.0, 0.0, 0.0, 0.0, 0.0, 0.0, 0.0, 0.0, 0.0, 0.0, 0.0, 0.0, 0.0, 0.0, 0.0, 0.0, 0.0, 0.0, 0.0, 0.0, 0.0, 0.0, 0.0, 0.0, 0.0078125, 0.008064516129032258, 0.0, 0.0125, 0.013888888888888888, 0.016666666666666666, 0.020833333333333332, 0.0, 0.020833333333333332, 0.005681818181818182, 0.019230769230769232, 0.015957446808510637, 0.0, 0.03333333333333333, 0.045454545454545456, 0.046875, 0.05172413793103448, 0.052083333333333336, 0.05263157894736842, 0.05357142857142857, 0.0, 0.0625, 0.023809523809523808, 0.06666666666666667, 0.075, 0.125, 0.14583333333333334, 0.15476190476190477, 0.15625, 0.14285714285714285, 0.2222222222222222, 0.3076923076923077]}, {\"marker\": {\"color\": \"#006600\"}, \"name\": \"B2 (0.2)\", \"type\": \"bar\", \"x\": [\"UFJF-AC-4\", \"UFRGS-A-4\", \"UFRN-APEMA-4\", \"UFBA-AEU-4\", \"UFES-AEU-4\", \"UFF-AEU-4\", \"UFV-AEU-4\", \"USJT-AEU-4\", \"UFSC-AEU-5\", \"UFPA-AeU-4\", \"UEL-AeU-4\", \"UNICAMP-ATeC-5\", \"UFBA-C-CeR-4\", \"UNIRITTER-D-4\", \"UFPE-E-3\", \"PUCCAMP-AeU-5\", \"UFSC-UHEADC-4\", \"UFCG-D-3\", \"CESAR-D-3\", \"UNIFATEA-DTEI-3\", \"IMED-AEU-3\", \"UNIFOR-CDC-3\", \"UFRN-AEU-4\", \"UNESP-BAURU-AeU-4\", \"UFRJ-PeP-4\", \"UNISINOS-AeU-4\", \"UFMG-AEU-6\", \"UFAL-DDEH-3\", \"UFPEL-AEU-4\", \"UFPB-JP-AEU-4\", \"USP/SC-AEU-4\", \"UDESC-D-4\", \"UFU-AeU-3\", \"UNIRITTER-AeU-4\", \"UFRN-D-4\", \"UNB-AEU-4\", \"UFRJ-A-6\", \"USP-AEU-4\", \"UFRJ-AP-4\", \"UFG-PEC-3\", \"PUC-RIO-A-3\", \"UNB-D-3\", \"UFRJ-U-5\", \"UFPE-D-4\", \"UFPR-D-4\", \"UFSC-D-5\", \" FIAMFAAM-PPeGdEU-3\", \"UERJ-D-4\", \"UPM-AEU-6\", \"UEMG-D-5\", \"UFRGS-D-5\", \"UFC-AEUED-3\", \"UNIVILLE-D-4\", \"UFMA-D-3\", \"UAM-D-5\", \"PUC-RIO-D-5\", \"UNESP-BAURU-D-6\", \"UNISINOS-D-5\"], \"y\": [0.0, 0.0, 0.0, 0.0, 0.0, 0.0, 0.0, 0.0, 0.0, 0.0, 0.0, 0.0, 0.0, 0.0, 0.0, 0.0, 0.0, 0.0, 0.0, 0.0, 0.0, 0.0, 0.0, 0.0, 0.0, 0.0071428571428571435, 0.0, 0.0, 0.0, 0.0, 0.0, 0.0, 0.0, 0.0, 0.0, 0.0, 0.0, 0.0007092198581560284, 0.0, 0.0, 0.0, 0.0, 0.0, 0.0, 0.0, 0.0, 0.0, 0.0, 0.004761904761904762, 0.0, 0.0, 0.0, 0.0, 0.0, 0.0, 0.0, 0.0, 0.0]}, {\"marker\": {\"color\": \"#009900\"}, \"name\": \"B3 (0.1)\", \"type\": \"bar\", \"x\": [\"UFJF-AC-4\", \"UFRGS-A-4\", \"UFRN-APEMA-4\", \"UFBA-AEU-4\", \"UFES-AEU-4\", \"UFF-AEU-4\", \"UFV-AEU-4\", \"USJT-AEU-4\", \"UFSC-AEU-5\", \"UFPA-AeU-4\", \"UEL-AeU-4\", \"UNICAMP-ATeC-5\", \"UFBA-C-CeR-4\", \"UNIRITTER-D-4\", \"UFPE-E-3\", \"PUCCAMP-AeU-5\", \"UFSC-UHEADC-4\", \"UFCG-D-3\", \"CESAR-D-3\", \"UNIFATEA-DTEI-3\", \"IMED-AEU-3\", \"UNIFOR-CDC-3\", \"UFRN-AEU-4\", \"UNESP-BAURU-AeU-4\", \"UFRJ-PeP-4\", \"UNISINOS-AeU-4\", \"UFMG-AEU-6\", \"UFAL-DDEH-3\", \"UFPEL-AEU-4\", \"UFPB-JP-AEU-4\", \"USP/SC-AEU-4\", \"UDESC-D-4\", \"UFU-AeU-3\", \"UNIRITTER-AeU-4\", \"UFRN-D-4\", \"UNB-AEU-4\", \"UFRJ-A-6\", \"USP-AEU-4\", \"UFRJ-AP-4\", \"UFG-PEC-3\", \"PUC-RIO-A-3\", \"UNB-D-3\", \"UFRJ-U-5\", \"UFPE-D-4\", \"UFPR-D-4\", \"UFSC-D-5\", \" FIAMFAAM-PPeGdEU-3\", \"UERJ-D-4\", \"UPM-AEU-6\", \"UEMG-D-5\", \"UFRGS-D-5\", \"UFC-AEUED-3\", \"UNIVILLE-D-4\", \"UFMA-D-3\", \"UAM-D-5\", \"PUC-RIO-D-5\", \"UNESP-BAURU-D-6\", \"UNISINOS-D-5\"], \"y\": [0.0, 0.0, 0.0, 0.0, 0.0, 0.0, 0.0, 0.0, 0.0, 0.0, 0.0, 0.0, 0.0, 0.0, 0.0, 0.0, 0.0, 0.0, 0.0, 0.0, 0.0, 0.0, 0.002272727272727273, 0.004545454545454546, 0.005263157894736842, 0.0, 0.0, 0.0, 0.0, 0.0, 0.0, 0.0033333333333333335, 0.0, 0.0, 0.0, 0.0, 0.0038461538461538464, 0.0, 0.0, 0.0033333333333333335, 0.0, 0.0, 0.0, 0.0, 0.0, 0.0, 0.0, 0.0, 0.004761904761904762, 0.0, 0.0, 0.0, 0.0, 0.0, 0.0, 0.0, 0.011111111111111112, 0.0]}, {\"marker\": {\"color\": \"#00CC00\"}, \"name\": \"B4 (0.05)\", \"type\": \"bar\", \"x\": [\"UFJF-AC-4\", \"UFRGS-A-4\", \"UFRN-APEMA-4\", \"UFBA-AEU-4\", \"UFES-AEU-4\", \"UFF-AEU-4\", \"UFV-AEU-4\", \"USJT-AEU-4\", \"UFSC-AEU-5\", \"UFPA-AeU-4\", \"UEL-AeU-4\", \"UNICAMP-ATeC-5\", \"UFBA-C-CeR-4\", \"UNIRITTER-D-4\", \"UFPE-E-3\", \"PUCCAMP-AeU-5\", \"UFSC-UHEADC-4\", \"UFCG-D-3\", \"CESAR-D-3\", \"UNIFATEA-DTEI-3\", \"IMED-AEU-3\", \"UNIFOR-CDC-3\", \"UFRN-AEU-4\", \"UNESP-BAURU-AeU-4\", \"UFRJ-PeP-4\", \"UNISINOS-AeU-4\", \"UFMG-AEU-6\", \"UFAL-DDEH-3\", \"UFPEL-AEU-4\", \"UFPB-JP-AEU-4\", \"USP/SC-AEU-4\", \"UDESC-D-4\", \"UFU-AeU-3\", \"UNIRITTER-AeU-4\", \"UFRN-D-4\", \"UNB-AEU-4\", \"UFRJ-A-6\", \"USP-AEU-4\", \"UFRJ-AP-4\", \"UFG-PEC-3\", \"PUC-RIO-A-3\", \"UNB-D-3\", \"UFRJ-U-5\", \"UFPE-D-4\", \"UFPR-D-4\", \"UFSC-D-5\", \" FIAMFAAM-PPeGdEU-3\", \"UERJ-D-4\", \"UPM-AEU-6\", \"UEMG-D-5\", \"UFRGS-D-5\", \"UFC-AEUED-3\", \"UNIVILLE-D-4\", \"UFMA-D-3\", \"UAM-D-5\", \"PUC-RIO-D-5\", \"UNESP-BAURU-D-6\", \"UNISINOS-D-5\"], \"y\": [0.0, 0.0, 0.0, 0.0, 0.0, 0.0, 0.0, 0.0, 0.0, 0.0, 0.0, 0.0, 0.0, 0.0, 0.0, 0.0, 0.0, 0.0, 0.0, 0.0, 0.0, 0.0, 0.0, 0.0, 0.0, 0.0, 0.0, 0.0, 0.0, 0.0, 0.0, 0.0, 0.0, 0.0, 0.0, 0.0, 0.0, 0.0, 0.0, 0.0, 0.0, 0.0, 0.0, 0.0, 0.0, 0.0, 0.0, 0.0, 0.0011904761904761906, 0.0, 0.0, 0.0, 0.0, 0.0, 0.0, 0.0, 0.0, 0.0]}, {\"marker\": {\"color\": \"#00FF00\"}, \"name\": \"B5 (0)\", \"type\": \"bar\", \"x\": [\"UFJF-AC-4\", \"UFRGS-A-4\", \"UFRN-APEMA-4\", \"UFBA-AEU-4\", \"UFES-AEU-4\", \"UFF-AEU-4\", \"UFV-AEU-4\", \"USJT-AEU-4\", \"UFSC-AEU-5\", \"UFPA-AeU-4\", \"UEL-AeU-4\", \"UNICAMP-ATeC-5\", \"UFBA-C-CeR-4\", \"UNIRITTER-D-4\", \"UFPE-E-3\", \"PUCCAMP-AeU-5\", \"UFSC-UHEADC-4\", \"UFCG-D-3\", \"CESAR-D-3\", \"UNIFATEA-DTEI-3\", \"IMED-AEU-3\", \"UNIFOR-CDC-3\", \"UFRN-AEU-4\", \"UNESP-BAURU-AeU-4\", \"UFRJ-PeP-4\", \"UNISINOS-AeU-4\", \"UFMG-AEU-6\", \"UFAL-DDEH-3\", \"UFPEL-AEU-4\", \"UFPB-JP-AEU-4\", \"USP/SC-AEU-4\", \"UDESC-D-4\", \"UFU-AeU-3\", \"UNIRITTER-AeU-4\", \"UFRN-D-4\", \"UNB-AEU-4\", \"UFRJ-A-6\", \"USP-AEU-4\", \"UFRJ-AP-4\", \"UFG-PEC-3\", \"PUC-RIO-A-3\", \"UNB-D-3\", \"UFRJ-U-5\", \"UFPE-D-4\", \"UFPR-D-4\", \"UFSC-D-5\", \" FIAMFAAM-PPeGdEU-3\", \"UERJ-D-4\", \"UPM-AEU-6\", \"UEMG-D-5\", \"UFRGS-D-5\", \"UFC-AEUED-3\", \"UNIVILLE-D-4\", \"UFMA-D-3\", \"UAM-D-5\", \"PUC-RIO-D-5\", \"UNESP-BAURU-D-6\", \"UNISINOS-D-5\"], \"y\": [0.0, 0.0, 0.0, 0.0, 0.0, 0.0, 0.0, 0.0, 0.0, 0.0, 0.0, 0.0, 0.0, 0.0, 0.0, 0.0, 0.0, 0.0, 0.0, 0.0, 0.0, 0.0, 0.0, 0.0, 0.0, 0.0, 0.0, 0.0, 0.0, 0.0, 0.0, 0.0, 0.0, 0.0, 0.0, 0.0, 0.0, 0.0, 0.0, 0.0, 0.0, 0.0, 0.0, 0.0, 0.0, 0.0, 0.0, 0.0, 0.0, 0.0, 0.0, 0.0, 0.0, 0.0, 0.0, 0.0, 0.0, 0.0]}, {\"marker\": {\"color\": \"#880000\"}, \"name\": \"C (0)\", \"type\": \"bar\", \"x\": [\"UFJF-AC-4\", \"UFRGS-A-4\", \"UFRN-APEMA-4\", \"UFBA-AEU-4\", \"UFES-AEU-4\", \"UFF-AEU-4\", \"UFV-AEU-4\", \"USJT-AEU-4\", \"UFSC-AEU-5\", \"UFPA-AeU-4\", \"UEL-AeU-4\", \"UNICAMP-ATeC-5\", \"UFBA-C-CeR-4\", \"UNIRITTER-D-4\", \"UFPE-E-3\", \"PUCCAMP-AeU-5\", \"UFSC-UHEADC-4\", \"UFCG-D-3\", \"CESAR-D-3\", \"UNIFATEA-DTEI-3\", \"IMED-AEU-3\", \"UNIFOR-CDC-3\", \"UFRN-AEU-4\", \"UNESP-BAURU-AeU-4\", \"UFRJ-PeP-4\", \"UNISINOS-AeU-4\", \"UFMG-AEU-6\", \"UFAL-DDEH-3\", \"UFPEL-AEU-4\", \"UFPB-JP-AEU-4\", \"USP/SC-AEU-4\", \"UDESC-D-4\", \"UFU-AeU-3\", \"UNIRITTER-AeU-4\", \"UFRN-D-4\", \"UNB-AEU-4\", \"UFRJ-A-6\", \"USP-AEU-4\", \"UFRJ-AP-4\", \"UFG-PEC-3\", \"PUC-RIO-A-3\", \"UNB-D-3\", \"UFRJ-U-5\", \"UFPE-D-4\", \"UFPR-D-4\", \"UFSC-D-5\", \" FIAMFAAM-PPeGdEU-3\", \"UERJ-D-4\", \"UPM-AEU-6\", \"UEMG-D-5\", \"UFRGS-D-5\", \"UFC-AEUED-3\", \"UNIVILLE-D-4\", \"UFMA-D-3\", \"UAM-D-5\", \"PUC-RIO-D-5\", \"UNESP-BAURU-D-6\", \"UNISINOS-D-5\"], \"y\": [0.0, 0.0, 0.0, 0.0, 0.0, 0.0, 0.0, 0.0, 0.0, 0.0, 0.0, 0.0, 0.0, 0.0, 0.0, 0.0, 0.0, 0.0, 0.0, 0.0, 0.0, 0.0, 0.0, 0.0, 0.0, 0.0, 0.0, 0.0, 0.0, 0.0, 0.0, 0.0, 0.0, 0.0, 0.0, 0.0, 0.0, 0.0, 0.0, 0.0, 0.0, 0.0, 0.0, 0.0, 0.0, 0.0, 0.0, 0.0, 0.0, 0.0, 0.0, 0.0, 0.0, 0.0, 0.0, 0.0, 0.0, 0.0]}, {\"marker\": {\"color\": \"#CC0000\"}, \"name\": \"NA (0)\", \"type\": \"bar\", \"x\": [\"UFJF-AC-4\", \"UFRGS-A-4\", \"UFRN-APEMA-4\", \"UFBA-AEU-4\", \"UFES-AEU-4\", \"UFF-AEU-4\", \"UFV-AEU-4\", \"USJT-AEU-4\", \"UFSC-AEU-5\", \"UFPA-AeU-4\", \"UEL-AeU-4\", \"UNICAMP-ATeC-5\", \"UFBA-C-CeR-4\", \"UNIRITTER-D-4\", \"UFPE-E-3\", \"PUCCAMP-AeU-5\", \"UFSC-UHEADC-4\", \"UFCG-D-3\", \"CESAR-D-3\", \"UNIFATEA-DTEI-3\", \"IMED-AEU-3\", \"UNIFOR-CDC-3\", \"UFRN-AEU-4\", \"UNESP-BAURU-AeU-4\", \"UFRJ-PeP-4\", \"UNISINOS-AeU-4\", \"UFMG-AEU-6\", \"UFAL-DDEH-3\", \"UFPEL-AEU-4\", \"UFPB-JP-AEU-4\", \"USP/SC-AEU-4\", \"UDESC-D-4\", \"UFU-AeU-3\", \"UNIRITTER-AeU-4\", \"UFRN-D-4\", \"UNB-AEU-4\", \"UFRJ-A-6\", \"USP-AEU-4\", \"UFRJ-AP-4\", \"UFG-PEC-3\", \"PUC-RIO-A-3\", \"UNB-D-3\", \"UFRJ-U-5\", \"UFPE-D-4\", \"UFPR-D-4\", \"UFSC-D-5\", \" FIAMFAAM-PPeGdEU-3\", \"UERJ-D-4\", \"UPM-AEU-6\", \"UEMG-D-5\", \"UFRGS-D-5\", \"UFC-AEUED-3\", \"UNIVILLE-D-4\", \"UFMA-D-3\", \"UAM-D-5\", \"PUC-RIO-D-5\", \"UNESP-BAURU-D-6\", \"UNISINOS-D-5\"], \"y\": [0.0, 0.0, 0.0, 0.0, 0.0, 0.0, 0.0, 0.0, 0.0, 0.0, 0.0, 0.0, 0.0, 0.0, 0.0, 0.0, 0.0, 0.0, 0.0, 0.0, 0.0, 0.0, 0.0, 0.0, 0.0, 0.0, 0.0, 0.0, 0.0, 0.0, 0.0, 0.0, 0.0, 0.0, 0.0, 0.0, 0.0, 0.0, 0.0, 0.0, 0.0, 0.0, 0.0, 0.0, 0.0, 0.0, 0.0, 0.0, 0.0, 0.0, 0.0, 0.0, 0.0, 0.0, 0.0, 0.0, 0.0, 0.0]}, {\"marker\": {\"color\": \"#FF0000\"}, \"name\": \"NP (0)\", \"type\": \"bar\", \"x\": [\"UFJF-AC-4\", \"UFRGS-A-4\", \"UFRN-APEMA-4\", \"UFBA-AEU-4\", \"UFES-AEU-4\", \"UFF-AEU-4\", \"UFV-AEU-4\", \"USJT-AEU-4\", \"UFSC-AEU-5\", \"UFPA-AeU-4\", \"UEL-AeU-4\", \"UNICAMP-ATeC-5\", \"UFBA-C-CeR-4\", \"UNIRITTER-D-4\", \"UFPE-E-3\", \"PUCCAMP-AeU-5\", \"UFSC-UHEADC-4\", \"UFCG-D-3\", \"CESAR-D-3\", \"UNIFATEA-DTEI-3\", \"IMED-AEU-3\", \"UNIFOR-CDC-3\", \"UFRN-AEU-4\", \"UNESP-BAURU-AeU-4\", \"UFRJ-PeP-4\", \"UNISINOS-AeU-4\", \"UFMG-AEU-6\", \"UFAL-DDEH-3\", \"UFPEL-AEU-4\", \"UFPB-JP-AEU-4\", \"USP/SC-AEU-4\", \"UDESC-D-4\", \"UFU-AeU-3\", \"UNIRITTER-AeU-4\", \"UFRN-D-4\", \"UNB-AEU-4\", \"UFRJ-A-6\", \"USP-AEU-4\", \"UFRJ-AP-4\", \"UFG-PEC-3\", \"PUC-RIO-A-3\", \"UNB-D-3\", \"UFRJ-U-5\", \"UFPE-D-4\", \"UFPR-D-4\", \"UFSC-D-5\", \" FIAMFAAM-PPeGdEU-3\", \"UERJ-D-4\", \"UPM-AEU-6\", \"UEMG-D-5\", \"UFRGS-D-5\", \"UFC-AEUED-3\", \"UNIVILLE-D-4\", \"UFMA-D-3\", \"UAM-D-5\", \"PUC-RIO-D-5\", \"UNESP-BAURU-D-6\", \"UNISINOS-D-5\"], \"y\": [0.0, 0.0, 0.0, 0.0, 0.0, 0.0, 0.0, 0.0, 0.0, 0.0, 0.0, 0.0, 0.0, 0.0, 0.0, 0.0, 0.0, 0.0, 0.0, 0.0, 0.0, 0.0, 0.0, 0.0, 0.0, 0.0, 0.0, 0.0, 0.0, 0.0, 0.0, 0.0, 0.0, 0.0, 0.0, 0.0, 0.0, 0.0, 0.0, 0.0, 0.0, 0.0, 0.0, 0.0, 0.0, 0.0, 0.0, 0.0, 0.0, 0.0, 0.0, 0.0, 0.0, 0.0, 0.0, 0.0, 0.0, 0.0]}],\n",
       "                        {\"barmode\": \"stack\", \"template\": {\"data\": {\"bar\": [{\"error_x\": {\"color\": \"#2a3f5f\"}, \"error_y\": {\"color\": \"#2a3f5f\"}, \"marker\": {\"line\": {\"color\": \"#E5ECF6\", \"width\": 0.5}}, \"type\": \"bar\"}], \"barpolar\": [{\"marker\": {\"line\": {\"color\": \"#E5ECF6\", \"width\": 0.5}}, \"type\": \"barpolar\"}], \"carpet\": [{\"aaxis\": {\"endlinecolor\": \"#2a3f5f\", \"gridcolor\": \"white\", \"linecolor\": \"white\", \"minorgridcolor\": \"white\", \"startlinecolor\": \"#2a3f5f\"}, \"baxis\": {\"endlinecolor\": \"#2a3f5f\", \"gridcolor\": \"white\", \"linecolor\": \"white\", \"minorgridcolor\": \"white\", \"startlinecolor\": \"#2a3f5f\"}, \"type\": \"carpet\"}], \"choropleth\": [{\"colorbar\": {\"outlinewidth\": 0, \"ticks\": \"\"}, \"type\": \"choropleth\"}], \"contour\": [{\"colorbar\": {\"outlinewidth\": 0, \"ticks\": \"\"}, \"colorscale\": [[0.0, \"#0d0887\"], [0.1111111111111111, \"#46039f\"], [0.2222222222222222, \"#7201a8\"], [0.3333333333333333, \"#9c179e\"], [0.4444444444444444, \"#bd3786\"], [0.5555555555555556, \"#d8576b\"], [0.6666666666666666, \"#ed7953\"], [0.7777777777777778, \"#fb9f3a\"], [0.8888888888888888, \"#fdca26\"], [1.0, \"#f0f921\"]], \"type\": \"contour\"}], \"contourcarpet\": [{\"colorbar\": {\"outlinewidth\": 0, \"ticks\": \"\"}, \"type\": \"contourcarpet\"}], \"heatmap\": [{\"colorbar\": {\"outlinewidth\": 0, \"ticks\": \"\"}, \"colorscale\": [[0.0, \"#0d0887\"], [0.1111111111111111, \"#46039f\"], [0.2222222222222222, \"#7201a8\"], [0.3333333333333333, \"#9c179e\"], [0.4444444444444444, \"#bd3786\"], [0.5555555555555556, \"#d8576b\"], [0.6666666666666666, \"#ed7953\"], [0.7777777777777778, \"#fb9f3a\"], [0.8888888888888888, \"#fdca26\"], [1.0, \"#f0f921\"]], \"type\": \"heatmap\"}], \"heatmapgl\": [{\"colorbar\": {\"outlinewidth\": 0, \"ticks\": \"\"}, \"colorscale\": [[0.0, \"#0d0887\"], [0.1111111111111111, \"#46039f\"], [0.2222222222222222, \"#7201a8\"], [0.3333333333333333, \"#9c179e\"], [0.4444444444444444, \"#bd3786\"], [0.5555555555555556, \"#d8576b\"], [0.6666666666666666, \"#ed7953\"], [0.7777777777777778, \"#fb9f3a\"], [0.8888888888888888, \"#fdca26\"], [1.0, \"#f0f921\"]], \"type\": \"heatmapgl\"}], \"histogram\": [{\"marker\": {\"colorbar\": {\"outlinewidth\": 0, \"ticks\": \"\"}}, \"type\": \"histogram\"}], \"histogram2d\": [{\"colorbar\": {\"outlinewidth\": 0, \"ticks\": \"\"}, \"colorscale\": [[0.0, \"#0d0887\"], [0.1111111111111111, \"#46039f\"], [0.2222222222222222, \"#7201a8\"], [0.3333333333333333, \"#9c179e\"], [0.4444444444444444, \"#bd3786\"], [0.5555555555555556, \"#d8576b\"], [0.6666666666666666, \"#ed7953\"], [0.7777777777777778, \"#fb9f3a\"], [0.8888888888888888, \"#fdca26\"], [1.0, \"#f0f921\"]], \"type\": \"histogram2d\"}], \"histogram2dcontour\": [{\"colorbar\": {\"outlinewidth\": 0, \"ticks\": \"\"}, \"colorscale\": [[0.0, \"#0d0887\"], [0.1111111111111111, \"#46039f\"], [0.2222222222222222, \"#7201a8\"], [0.3333333333333333, \"#9c179e\"], [0.4444444444444444, \"#bd3786\"], [0.5555555555555556, \"#d8576b\"], [0.6666666666666666, \"#ed7953\"], [0.7777777777777778, \"#fb9f3a\"], [0.8888888888888888, \"#fdca26\"], [1.0, \"#f0f921\"]], \"type\": \"histogram2dcontour\"}], \"mesh3d\": [{\"colorbar\": {\"outlinewidth\": 0, \"ticks\": \"\"}, \"type\": \"mesh3d\"}], \"parcoords\": [{\"line\": {\"colorbar\": {\"outlinewidth\": 0, \"ticks\": \"\"}}, \"type\": \"parcoords\"}], \"pie\": [{\"automargin\": true, \"type\": \"pie\"}], \"scatter\": [{\"marker\": {\"colorbar\": {\"outlinewidth\": 0, \"ticks\": \"\"}}, \"type\": \"scatter\"}], \"scatter3d\": [{\"line\": {\"colorbar\": {\"outlinewidth\": 0, \"ticks\": \"\"}}, \"marker\": {\"colorbar\": {\"outlinewidth\": 0, \"ticks\": \"\"}}, \"type\": \"scatter3d\"}], \"scattercarpet\": [{\"marker\": {\"colorbar\": {\"outlinewidth\": 0, \"ticks\": \"\"}}, \"type\": \"scattercarpet\"}], \"scattergeo\": [{\"marker\": {\"colorbar\": {\"outlinewidth\": 0, \"ticks\": \"\"}}, \"type\": \"scattergeo\"}], \"scattergl\": [{\"marker\": {\"colorbar\": {\"outlinewidth\": 0, \"ticks\": \"\"}}, \"type\": \"scattergl\"}], \"scattermapbox\": [{\"marker\": {\"colorbar\": {\"outlinewidth\": 0, \"ticks\": \"\"}}, \"type\": \"scattermapbox\"}], \"scatterpolar\": [{\"marker\": {\"colorbar\": {\"outlinewidth\": 0, \"ticks\": \"\"}}, \"type\": \"scatterpolar\"}], \"scatterpolargl\": [{\"marker\": {\"colorbar\": {\"outlinewidth\": 0, \"ticks\": \"\"}}, \"type\": \"scatterpolargl\"}], \"scatterternary\": [{\"marker\": {\"colorbar\": {\"outlinewidth\": 0, \"ticks\": \"\"}}, \"type\": \"scatterternary\"}], \"surface\": [{\"colorbar\": {\"outlinewidth\": 0, \"ticks\": \"\"}, \"colorscale\": [[0.0, \"#0d0887\"], [0.1111111111111111, \"#46039f\"], [0.2222222222222222, \"#7201a8\"], [0.3333333333333333, \"#9c179e\"], [0.4444444444444444, \"#bd3786\"], [0.5555555555555556, \"#d8576b\"], [0.6666666666666666, \"#ed7953\"], [0.7777777777777778, \"#fb9f3a\"], [0.8888888888888888, \"#fdca26\"], [1.0, \"#f0f921\"]], \"type\": \"surface\"}], \"table\": [{\"cells\": {\"fill\": {\"color\": \"#EBF0F8\"}, \"line\": {\"color\": \"white\"}}, \"header\": {\"fill\": {\"color\": \"#C8D4E3\"}, \"line\": {\"color\": \"white\"}}, \"type\": \"table\"}]}, \"layout\": {\"annotationdefaults\": {\"arrowcolor\": \"#2a3f5f\", \"arrowhead\": 0, \"arrowwidth\": 1}, \"coloraxis\": {\"colorbar\": {\"outlinewidth\": 0, \"ticks\": \"\"}}, \"colorscale\": {\"diverging\": [[0, \"#8e0152\"], [0.1, \"#c51b7d\"], [0.2, \"#de77ae\"], [0.3, \"#f1b6da\"], [0.4, \"#fde0ef\"], [0.5, \"#f7f7f7\"], [0.6, \"#e6f5d0\"], [0.7, \"#b8e186\"], [0.8, \"#7fbc41\"], [0.9, \"#4d9221\"], [1, \"#276419\"]], \"sequential\": [[0.0, \"#0d0887\"], [0.1111111111111111, \"#46039f\"], [0.2222222222222222, \"#7201a8\"], [0.3333333333333333, \"#9c179e\"], [0.4444444444444444, \"#bd3786\"], [0.5555555555555556, \"#d8576b\"], [0.6666666666666666, \"#ed7953\"], [0.7777777777777778, \"#fb9f3a\"], [0.8888888888888888, \"#fdca26\"], [1.0, \"#f0f921\"]], \"sequentialminus\": [[0.0, \"#0d0887\"], [0.1111111111111111, \"#46039f\"], [0.2222222222222222, \"#7201a8\"], [0.3333333333333333, \"#9c179e\"], [0.4444444444444444, \"#bd3786\"], [0.5555555555555556, \"#d8576b\"], [0.6666666666666666, \"#ed7953\"], [0.7777777777777778, \"#fb9f3a\"], [0.8888888888888888, \"#fdca26\"], [1.0, \"#f0f921\"]]}, \"colorway\": [\"#636efa\", \"#EF553B\", \"#00cc96\", \"#ab63fa\", \"#FFA15A\", \"#19d3f3\", \"#FF6692\", \"#B6E880\", \"#FF97FF\", \"#FECB52\"], \"font\": {\"color\": \"#2a3f5f\"}, \"geo\": {\"bgcolor\": \"white\", \"lakecolor\": \"white\", \"landcolor\": \"#E5ECF6\", \"showlakes\": true, \"showland\": true, \"subunitcolor\": \"white\"}, \"hoverlabel\": {\"align\": \"left\"}, \"hovermode\": \"closest\", \"mapbox\": {\"style\": \"light\"}, \"paper_bgcolor\": \"white\", \"plot_bgcolor\": \"#E5ECF6\", \"polar\": {\"angularaxis\": {\"gridcolor\": \"white\", \"linecolor\": \"white\", \"ticks\": \"\"}, \"bgcolor\": \"#E5ECF6\", \"radialaxis\": {\"gridcolor\": \"white\", \"linecolor\": \"white\", \"ticks\": \"\"}}, \"scene\": {\"xaxis\": {\"backgroundcolor\": \"#E5ECF6\", \"gridcolor\": \"white\", \"gridwidth\": 2, \"linecolor\": \"white\", \"showbackground\": true, \"ticks\": \"\", \"zerolinecolor\": \"white\"}, \"yaxis\": {\"backgroundcolor\": \"#E5ECF6\", \"gridcolor\": \"white\", \"gridwidth\": 2, \"linecolor\": \"white\", \"showbackground\": true, \"ticks\": \"\", \"zerolinecolor\": \"white\"}, \"zaxis\": {\"backgroundcolor\": \"#E5ECF6\", \"gridcolor\": \"white\", \"gridwidth\": 2, \"linecolor\": \"white\", \"showbackground\": true, \"ticks\": \"\", \"zerolinecolor\": \"white\"}}, \"shapedefaults\": {\"line\": {\"color\": \"#2a3f5f\"}}, \"ternary\": {\"aaxis\": {\"gridcolor\": \"white\", \"linecolor\": \"white\", \"ticks\": \"\"}, \"baxis\": {\"gridcolor\": \"white\", \"linecolor\": \"white\", \"ticks\": \"\"}, \"bgcolor\": \"#E5ECF6\", \"caxis\": {\"gridcolor\": \"white\", \"linecolor\": \"white\", \"ticks\": \"\"}}, \"title\": {\"x\": 0.05}, \"xaxis\": {\"automargin\": true, \"gridcolor\": \"white\", \"linecolor\": \"white\", \"ticks\": \"\", \"title\": {\"standoff\": 15}, \"zerolinecolor\": \"white\", \"zerolinewidth\": 2}, \"yaxis\": {\"automargin\": true, \"gridcolor\": \"white\", \"linecolor\": \"white\", \"ticks\": \"\", \"title\": {\"standoff\": 15}, \"zerolinecolor\": \"white\", \"zerolinewidth\": 2}}}, \"title\": {\"font\": {\"color\": \"#000000\", \"size\": 20}, \"text\": \"Confer\\u00eancias por Docentes (Permanentes + Colaboradores)\", \"x\": 0.5, \"xanchor\": \"center\"}, \"xaxis\": {\"title\": {\"text\": \"Institui\\u00e7\\u00e3o\"}}},\n",
       "                        {\"responsive\": true}\n",
       "                    ).then(function(){\n",
       "                            \n",
       "var gd = document.getElementById('dc357474-9193-400c-a630-02bcffd073e1');\n",
       "var x = new MutationObserver(function (mutations, observer) {{\n",
       "        var display = window.getComputedStyle(gd).display;\n",
       "        if (!display || display === 'none') {{\n",
       "            console.log([gd, 'removed!']);\n",
       "            Plotly.purge(gd);\n",
       "            observer.disconnect();\n",
       "        }}\n",
       "}});\n",
       "\n",
       "// Listen for the removal of the full notebook cells\n",
       "var notebookContainer = gd.closest('#notebook-container');\n",
       "if (notebookContainer) {{\n",
       "    x.observe(notebookContainer, {childList: true});\n",
       "}}\n",
       "\n",
       "// Listen for the clearing of the current output cell\n",
       "var outputEl = gd.closest('.output');\n",
       "if (outputEl) {{\n",
       "    x.observe(outputEl, {childList: true});\n",
       "}}\n",
       "\n",
       "                        })\n",
       "                };\n",
       "                });\n",
       "            </script>\n",
       "        </div>"
      ]
     },
     "metadata": {},
     "output_type": "display_data"
    },
    {
     "data": {
      "application/vnd.plotly.v1+json": {
       "config": {
        "linkText": "Export to plot.ly",
        "plotlyServerURL": "https://plot.ly",
        "showLink": false
       },
       "data": [
        {
         "marker": {
          "color": "#000044"
         },
         "name": "A1 (1)",
         "type": "bar",
         "x": [
          "UFJF-AC-4",
          "UFRGS-A-4",
          "UFRN-APEMA-4",
          "UFBA-AEU-4",
          "UFES-AEU-4",
          "UFF-AEU-4",
          "UFV-AEU-4",
          "USJT-AEU-4",
          "UFSC-AEU-5",
          "UFPA-AeU-4",
          "UEL-AeU-4",
          "UNICAMP-ATeC-5",
          "UFBA-C-CeR-4",
          "UNIRITTER-D-4",
          "UFPE-E-3",
          "PUCCAMP-AeU-5",
          "UFSC-UHEADC-4",
          "UFCG-D-3",
          "CESAR-D-3",
          "UNIFATEA-DTEI-3",
          "IMED-AEU-3",
          "UNIFOR-CDC-3",
          "UFRN-AEU-4",
          "UNESP-BAURU-AeU-4",
          "UFRJ-PeP-4",
          "UNISINOS-AeU-4",
          "UFMG-AEU-6",
          "UFAL-DDEH-3",
          "UFPB-JP-AEU-4",
          "UFPEL-AEU-4",
          "USP/SC-AEU-4",
          "UFU-AeU-3",
          "UNIRITTER-AeU-4",
          "UDESC-D-4",
          "UFRN-D-4",
          "UFRJ-A-6",
          "USP-AEU-4",
          "UNB-AEU-4",
          "UFRJ-AP-4",
          "UFG-PEC-3",
          "PUC-RIO-A-3",
          " FIAMFAAM-PPeGdEU-3",
          "UNB-D-3",
          "UFRJ-U-5",
          "UFSC-D-5",
          "UFPE-D-4",
          "UFPR-D-4",
          "UEMG-D-5",
          "UPM-AEU-6",
          "UERJ-D-4",
          "UFRGS-D-5",
          "UFC-AEUED-3",
          "UNIVILLE-D-4",
          "UAM-D-5",
          "PUC-RIO-D-5",
          "UFMA-D-3",
          "UNESP-BAURU-D-6",
          "UNISINOS-D-5"
         ],
         "y": [
          0,
          0,
          0,
          0,
          0,
          0,
          0,
          0,
          0,
          0,
          0,
          0,
          0,
          0,
          0,
          0,
          0,
          0,
          0,
          0,
          0,
          0,
          0,
          0,
          0,
          0,
          0,
          0,
          0,
          0,
          0,
          0,
          0,
          0,
          0,
          0,
          0,
          0,
          0.08333333333333333,
          0,
          0,
          0,
          0,
          0,
          0,
          0,
          0,
          0,
          0,
          0,
          0,
          0,
          0,
          0,
          0,
          0,
          0,
          0
         ]
        },
        {
         "marker": {
          "color": "#000088"
         },
         "name": "A2 (0.875)",
         "type": "bar",
         "x": [
          "UFJF-AC-4",
          "UFRGS-A-4",
          "UFRN-APEMA-4",
          "UFBA-AEU-4",
          "UFES-AEU-4",
          "UFF-AEU-4",
          "UFV-AEU-4",
          "USJT-AEU-4",
          "UFSC-AEU-5",
          "UFPA-AeU-4",
          "UEL-AeU-4",
          "UNICAMP-ATeC-5",
          "UFBA-C-CeR-4",
          "UNIRITTER-D-4",
          "UFPE-E-3",
          "PUCCAMP-AeU-5",
          "UFSC-UHEADC-4",
          "UFCG-D-3",
          "CESAR-D-3",
          "UNIFATEA-DTEI-3",
          "IMED-AEU-3",
          "UNIFOR-CDC-3",
          "UFRN-AEU-4",
          "UNESP-BAURU-AeU-4",
          "UFRJ-PeP-4",
          "UNISINOS-AeU-4",
          "UFMG-AEU-6",
          "UFAL-DDEH-3",
          "UFPB-JP-AEU-4",
          "UFPEL-AEU-4",
          "USP/SC-AEU-4",
          "UFU-AeU-3",
          "UNIRITTER-AeU-4",
          "UDESC-D-4",
          "UFRN-D-4",
          "UFRJ-A-6",
          "USP-AEU-4",
          "UNB-AEU-4",
          "UFRJ-AP-4",
          "UFG-PEC-3",
          "PUC-RIO-A-3",
          " FIAMFAAM-PPeGdEU-3",
          "UNB-D-3",
          "UFRJ-U-5",
          "UFSC-D-5",
          "UFPE-D-4",
          "UFPR-D-4",
          "UEMG-D-5",
          "UPM-AEU-6",
          "UERJ-D-4",
          "UFRGS-D-5",
          "UFC-AEUED-3",
          "UNIVILLE-D-4",
          "UAM-D-5",
          "PUC-RIO-D-5",
          "UFMA-D-3",
          "UNESP-BAURU-D-6",
          "UNISINOS-D-5"
         ],
         "y": [
          0,
          0,
          0,
          0,
          0,
          0,
          0,
          0,
          0,
          0,
          0,
          0,
          0,
          0,
          0,
          0,
          0,
          0,
          0,
          0,
          0,
          0,
          0,
          0,
          0,
          0,
          0,
          0,
          0,
          0,
          0,
          0,
          0,
          0,
          0,
          0,
          0,
          0,
          0,
          0,
          0,
          0,
          0,
          0,
          0,
          0,
          0,
          0,
          0,
          0,
          0,
          0,
          0,
          0,
          0,
          0,
          0,
          0
         ]
        },
        {
         "marker": {
          "color": "#0000CC"
         },
         "name": "A3 (0.75)",
         "type": "bar",
         "x": [
          "UFJF-AC-4",
          "UFRGS-A-4",
          "UFRN-APEMA-4",
          "UFBA-AEU-4",
          "UFES-AEU-4",
          "UFF-AEU-4",
          "UFV-AEU-4",
          "USJT-AEU-4",
          "UFSC-AEU-5",
          "UFPA-AeU-4",
          "UEL-AeU-4",
          "UNICAMP-ATeC-5",
          "UFBA-C-CeR-4",
          "UNIRITTER-D-4",
          "UFPE-E-3",
          "PUCCAMP-AeU-5",
          "UFSC-UHEADC-4",
          "UFCG-D-3",
          "CESAR-D-3",
          "UNIFATEA-DTEI-3",
          "IMED-AEU-3",
          "UNIFOR-CDC-3",
          "UFRN-AEU-4",
          "UNESP-BAURU-AeU-4",
          "UFRJ-PeP-4",
          "UNISINOS-AeU-4",
          "UFMG-AEU-6",
          "UFAL-DDEH-3",
          "UFPB-JP-AEU-4",
          "UFPEL-AEU-4",
          "USP/SC-AEU-4",
          "UFU-AeU-3",
          "UNIRITTER-AeU-4",
          "UDESC-D-4",
          "UFRN-D-4",
          "UFRJ-A-6",
          "USP-AEU-4",
          "UNB-AEU-4",
          "UFRJ-AP-4",
          "UFG-PEC-3",
          "PUC-RIO-A-3",
          " FIAMFAAM-PPeGdEU-3",
          "UNB-D-3",
          "UFRJ-U-5",
          "UFSC-D-5",
          "UFPE-D-4",
          "UFPR-D-4",
          "UEMG-D-5",
          "UPM-AEU-6",
          "UERJ-D-4",
          "UFRGS-D-5",
          "UFC-AEUED-3",
          "UNIVILLE-D-4",
          "UAM-D-5",
          "PUC-RIO-D-5",
          "UFMA-D-3",
          "UNESP-BAURU-D-6",
          "UNISINOS-D-5"
         ],
         "y": [
          0,
          0,
          0,
          0,
          0,
          0,
          0,
          0,
          0,
          0,
          0,
          0,
          0,
          0,
          0,
          0,
          0,
          0,
          0,
          0,
          0,
          0,
          0,
          0,
          0,
          0,
          0,
          0,
          0,
          0,
          0,
          0,
          0,
          0,
          0,
          0,
          0,
          0.05454545454545454,
          0,
          0,
          0,
          0,
          0,
          0,
          0,
          0,
          0,
          0,
          0,
          0,
          0,
          0,
          0,
          0,
          0,
          0,
          0,
          0
         ]
        },
        {
         "marker": {
          "color": "#0000FF"
         },
         "name": "A4 (0.625)",
         "type": "bar",
         "x": [
          "UFJF-AC-4",
          "UFRGS-A-4",
          "UFRN-APEMA-4",
          "UFBA-AEU-4",
          "UFES-AEU-4",
          "UFF-AEU-4",
          "UFV-AEU-4",
          "USJT-AEU-4",
          "UFSC-AEU-5",
          "UFPA-AeU-4",
          "UEL-AeU-4",
          "UNICAMP-ATeC-5",
          "UFBA-C-CeR-4",
          "UNIRITTER-D-4",
          "UFPE-E-3",
          "PUCCAMP-AeU-5",
          "UFSC-UHEADC-4",
          "UFCG-D-3",
          "CESAR-D-3",
          "UNIFATEA-DTEI-3",
          "IMED-AEU-3",
          "UNIFOR-CDC-3",
          "UFRN-AEU-4",
          "UNESP-BAURU-AeU-4",
          "UFRJ-PeP-4",
          "UNISINOS-AeU-4",
          "UFMG-AEU-6",
          "UFAL-DDEH-3",
          "UFPB-JP-AEU-4",
          "UFPEL-AEU-4",
          "USP/SC-AEU-4",
          "UFU-AeU-3",
          "UNIRITTER-AeU-4",
          "UDESC-D-4",
          "UFRN-D-4",
          "UFRJ-A-6",
          "USP-AEU-4",
          "UNB-AEU-4",
          "UFRJ-AP-4",
          "UFG-PEC-3",
          "PUC-RIO-A-3",
          " FIAMFAAM-PPeGdEU-3",
          "UNB-D-3",
          "UFRJ-U-5",
          "UFSC-D-5",
          "UFPE-D-4",
          "UFPR-D-4",
          "UEMG-D-5",
          "UPM-AEU-6",
          "UERJ-D-4",
          "UFRGS-D-5",
          "UFC-AEUED-3",
          "UNIVILLE-D-4",
          "UAM-D-5",
          "PUC-RIO-D-5",
          "UFMA-D-3",
          "UNESP-BAURU-D-6",
          "UNISINOS-D-5"
         ],
         "y": [
          0,
          0,
          0,
          0,
          0,
          0,
          0,
          0,
          0,
          0,
          0,
          0,
          0,
          0,
          0,
          0,
          0,
          0,
          0,
          0,
          0,
          0,
          0,
          0,
          0,
          0,
          0,
          0,
          0,
          0.041666666666666664,
          0,
          0,
          0.052083333333333336,
          0,
          0,
          0,
          0.01820388349514563,
          0,
          0,
          0,
          0,
          0.11363636363636363,
          0,
          0,
          0,
          0,
          0,
          0,
          0.07142857142857142,
          0,
          0,
          0,
          0,
          0,
          0.06944444444444445,
          0,
          0,
          0
         ]
        },
        {
         "marker": {
          "color": "#003300"
         },
         "name": "B1 (0.5)",
         "type": "bar",
         "x": [
          "UFJF-AC-4",
          "UFRGS-A-4",
          "UFRN-APEMA-4",
          "UFBA-AEU-4",
          "UFES-AEU-4",
          "UFF-AEU-4",
          "UFV-AEU-4",
          "USJT-AEU-4",
          "UFSC-AEU-5",
          "UFPA-AeU-4",
          "UEL-AeU-4",
          "UNICAMP-ATeC-5",
          "UFBA-C-CeR-4",
          "UNIRITTER-D-4",
          "UFPE-E-3",
          "PUCCAMP-AeU-5",
          "UFSC-UHEADC-4",
          "UFCG-D-3",
          "CESAR-D-3",
          "UNIFATEA-DTEI-3",
          "IMED-AEU-3",
          "UNIFOR-CDC-3",
          "UFRN-AEU-4",
          "UNESP-BAURU-AeU-4",
          "UFRJ-PeP-4",
          "UNISINOS-AeU-4",
          "UFMG-AEU-6",
          "UFAL-DDEH-3",
          "UFPB-JP-AEU-4",
          "UFPEL-AEU-4",
          "USP/SC-AEU-4",
          "UFU-AeU-3",
          "UNIRITTER-AeU-4",
          "UDESC-D-4",
          "UFRN-D-4",
          "UFRJ-A-6",
          "USP-AEU-4",
          "UNB-AEU-4",
          "UFRJ-AP-4",
          "UFG-PEC-3",
          "PUC-RIO-A-3",
          " FIAMFAAM-PPeGdEU-3",
          "UNB-D-3",
          "UFRJ-U-5",
          "UFSC-D-5",
          "UFPE-D-4",
          "UFPR-D-4",
          "UEMG-D-5",
          "UPM-AEU-6",
          "UERJ-D-4",
          "UFRGS-D-5",
          "UFC-AEUED-3",
          "UNIVILLE-D-4",
          "UAM-D-5",
          "PUC-RIO-D-5",
          "UFMA-D-3",
          "UNESP-BAURU-D-6",
          "UNISINOS-D-5"
         ],
         "y": [
          0,
          0,
          0,
          0,
          0,
          0,
          0,
          0,
          0,
          0,
          0,
          0,
          0,
          0,
          0,
          0,
          0,
          0,
          0,
          0,
          0,
          0,
          0,
          0,
          0,
          0,
          0.022222222222222223,
          0.025,
          0.03333333333333333,
          0,
          0.0425531914893617,
          0.05,
          0,
          0.043478260869565216,
          0.05555555555555555,
          0.05128205128205128,
          0.043689320388349516,
          0.01818181818181818,
          0,
          0.08,
          0.09090909090909091,
          0,
          0.12,
          0.12244897959183673,
          0.13636363636363635,
          0.14705882352941177,
          0.14814814814814814,
          0.15384615384615385,
          0.05714285714285714,
          0.19230769230769232,
          0.23076923076923078,
          0.3181818181818182,
          0.3333333333333333,
          0.38461538461538464,
          0.3333333333333333,
          0.4482758620689655,
          0.48484848484848486,
          0.7619047619047619
         ]
        },
        {
         "marker": {
          "color": "#006600"
         },
         "name": "B2 (0.2)",
         "type": "bar",
         "x": [
          "UFJF-AC-4",
          "UFRGS-A-4",
          "UFRN-APEMA-4",
          "UFBA-AEU-4",
          "UFES-AEU-4",
          "UFF-AEU-4",
          "UFV-AEU-4",
          "USJT-AEU-4",
          "UFSC-AEU-5",
          "UFPA-AeU-4",
          "UEL-AeU-4",
          "UNICAMP-ATeC-5",
          "UFBA-C-CeR-4",
          "UNIRITTER-D-4",
          "UFPE-E-3",
          "PUCCAMP-AeU-5",
          "UFSC-UHEADC-4",
          "UFCG-D-3",
          "CESAR-D-3",
          "UNIFATEA-DTEI-3",
          "IMED-AEU-3",
          "UNIFOR-CDC-3",
          "UFRN-AEU-4",
          "UNESP-BAURU-AeU-4",
          "UFRJ-PeP-4",
          "UNISINOS-AeU-4",
          "UFMG-AEU-6",
          "UFAL-DDEH-3",
          "UFPB-JP-AEU-4",
          "UFPEL-AEU-4",
          "USP/SC-AEU-4",
          "UFU-AeU-3",
          "UNIRITTER-AeU-4",
          "UDESC-D-4",
          "UFRN-D-4",
          "UFRJ-A-6",
          "USP-AEU-4",
          "UNB-AEU-4",
          "UFRJ-AP-4",
          "UFG-PEC-3",
          "PUC-RIO-A-3",
          " FIAMFAAM-PPeGdEU-3",
          "UNB-D-3",
          "UFRJ-U-5",
          "UFSC-D-5",
          "UFPE-D-4",
          "UFPR-D-4",
          "UEMG-D-5",
          "UPM-AEU-6",
          "UERJ-D-4",
          "UFRGS-D-5",
          "UFC-AEUED-3",
          "UNIVILLE-D-4",
          "UAM-D-5",
          "PUC-RIO-D-5",
          "UFMA-D-3",
          "UNESP-BAURU-D-6",
          "UNISINOS-D-5"
         ],
         "y": [
          0,
          0,
          0,
          0,
          0,
          0,
          0,
          0,
          0,
          0,
          0,
          0,
          0,
          0,
          0,
          0,
          0,
          0,
          0,
          0,
          0,
          0,
          0,
          0,
          0,
          0.016,
          0,
          0,
          0,
          0,
          0,
          0,
          0,
          0,
          0,
          0,
          0.0019417475728155341,
          0,
          0,
          0,
          0,
          0,
          0,
          0,
          0,
          0,
          0,
          0,
          0.011428571428571429,
          0,
          0,
          0,
          0,
          0,
          0,
          0,
          0,
          0
         ]
        },
        {
         "marker": {
          "color": "#009900"
         },
         "name": "B3 (0.1)",
         "type": "bar",
         "x": [
          "UFJF-AC-4",
          "UFRGS-A-4",
          "UFRN-APEMA-4",
          "UFBA-AEU-4",
          "UFES-AEU-4",
          "UFF-AEU-4",
          "UFV-AEU-4",
          "USJT-AEU-4",
          "UFSC-AEU-5",
          "UFPA-AeU-4",
          "UEL-AeU-4",
          "UNICAMP-ATeC-5",
          "UFBA-C-CeR-4",
          "UNIRITTER-D-4",
          "UFPE-E-3",
          "PUCCAMP-AeU-5",
          "UFSC-UHEADC-4",
          "UFCG-D-3",
          "CESAR-D-3",
          "UNIFATEA-DTEI-3",
          "IMED-AEU-3",
          "UNIFOR-CDC-3",
          "UFRN-AEU-4",
          "UNESP-BAURU-AeU-4",
          "UFRJ-PeP-4",
          "UNISINOS-AeU-4",
          "UFMG-AEU-6",
          "UFAL-DDEH-3",
          "UFPB-JP-AEU-4",
          "UFPEL-AEU-4",
          "USP/SC-AEU-4",
          "UFU-AeU-3",
          "UNIRITTER-AeU-4",
          "UDESC-D-4",
          "UFRN-D-4",
          "UFRJ-A-6",
          "USP-AEU-4",
          "UNB-AEU-4",
          "UFRJ-AP-4",
          "UFG-PEC-3",
          "PUC-RIO-A-3",
          " FIAMFAAM-PPeGdEU-3",
          "UNB-D-3",
          "UFRJ-U-5",
          "UFSC-D-5",
          "UFPE-D-4",
          "UFPR-D-4",
          "UEMG-D-5",
          "UPM-AEU-6",
          "UERJ-D-4",
          "UFRGS-D-5",
          "UFC-AEUED-3",
          "UNIVILLE-D-4",
          "UAM-D-5",
          "PUC-RIO-D-5",
          "UFMA-D-3",
          "UNESP-BAURU-D-6",
          "UNISINOS-D-5"
         ],
         "y": [
          0,
          0,
          0,
          0,
          0,
          0,
          0,
          0,
          0,
          0,
          0,
          0,
          0,
          0,
          0,
          0,
          0,
          0,
          0,
          0,
          0,
          0,
          0.005405405405405406,
          0.01,
          0.014814814814814815,
          0,
          0,
          0,
          0,
          0,
          0,
          0,
          0,
          0.008695652173913044,
          0,
          0.010256410256410256,
          0,
          0,
          0,
          0.008,
          0,
          0,
          0,
          0,
          0,
          0,
          0,
          0,
          0.011428571428571429,
          0,
          0,
          0,
          0,
          0,
          0,
          0,
          0.024242424242424242,
          0
         ]
        },
        {
         "marker": {
          "color": "#00CC00"
         },
         "name": "B4 (0.05)",
         "type": "bar",
         "x": [
          "UFJF-AC-4",
          "UFRGS-A-4",
          "UFRN-APEMA-4",
          "UFBA-AEU-4",
          "UFES-AEU-4",
          "UFF-AEU-4",
          "UFV-AEU-4",
          "USJT-AEU-4",
          "UFSC-AEU-5",
          "UFPA-AeU-4",
          "UEL-AeU-4",
          "UNICAMP-ATeC-5",
          "UFBA-C-CeR-4",
          "UNIRITTER-D-4",
          "UFPE-E-3",
          "PUCCAMP-AeU-5",
          "UFSC-UHEADC-4",
          "UFCG-D-3",
          "CESAR-D-3",
          "UNIFATEA-DTEI-3",
          "IMED-AEU-3",
          "UNIFOR-CDC-3",
          "UFRN-AEU-4",
          "UNESP-BAURU-AeU-4",
          "UFRJ-PeP-4",
          "UNISINOS-AeU-4",
          "UFMG-AEU-6",
          "UFAL-DDEH-3",
          "UFPB-JP-AEU-4",
          "UFPEL-AEU-4",
          "USP/SC-AEU-4",
          "UFU-AeU-3",
          "UNIRITTER-AeU-4",
          "UDESC-D-4",
          "UFRN-D-4",
          "UFRJ-A-6",
          "USP-AEU-4",
          "UNB-AEU-4",
          "UFRJ-AP-4",
          "UFG-PEC-3",
          "PUC-RIO-A-3",
          " FIAMFAAM-PPeGdEU-3",
          "UNB-D-3",
          "UFRJ-U-5",
          "UFSC-D-5",
          "UFPE-D-4",
          "UFPR-D-4",
          "UEMG-D-5",
          "UPM-AEU-6",
          "UERJ-D-4",
          "UFRGS-D-5",
          "UFC-AEUED-3",
          "UNIVILLE-D-4",
          "UAM-D-5",
          "PUC-RIO-D-5",
          "UFMA-D-3",
          "UNESP-BAURU-D-6",
          "UNISINOS-D-5"
         ],
         "y": [
          0,
          0,
          0,
          0,
          0,
          0,
          0,
          0,
          0,
          0,
          0,
          0,
          0,
          0,
          0,
          0,
          0,
          0,
          0,
          0,
          0,
          0,
          0,
          0,
          0,
          0,
          0,
          0,
          0,
          0,
          0,
          0,
          0,
          0,
          0,
          0,
          0,
          0,
          0,
          0,
          0,
          0,
          0,
          0,
          0,
          0,
          0,
          0,
          0.002857142857142857,
          0,
          0,
          0,
          0,
          0,
          0,
          0,
          0,
          0
         ]
        },
        {
         "marker": {
          "color": "#00FF00"
         },
         "name": "B5 (0)",
         "type": "bar",
         "x": [
          "UFJF-AC-4",
          "UFRGS-A-4",
          "UFRN-APEMA-4",
          "UFBA-AEU-4",
          "UFES-AEU-4",
          "UFF-AEU-4",
          "UFV-AEU-4",
          "USJT-AEU-4",
          "UFSC-AEU-5",
          "UFPA-AeU-4",
          "UEL-AeU-4",
          "UNICAMP-ATeC-5",
          "UFBA-C-CeR-4",
          "UNIRITTER-D-4",
          "UFPE-E-3",
          "PUCCAMP-AeU-5",
          "UFSC-UHEADC-4",
          "UFCG-D-3",
          "CESAR-D-3",
          "UNIFATEA-DTEI-3",
          "IMED-AEU-3",
          "UNIFOR-CDC-3",
          "UFRN-AEU-4",
          "UNESP-BAURU-AeU-4",
          "UFRJ-PeP-4",
          "UNISINOS-AeU-4",
          "UFMG-AEU-6",
          "UFAL-DDEH-3",
          "UFPB-JP-AEU-4",
          "UFPEL-AEU-4",
          "USP/SC-AEU-4",
          "UFU-AeU-3",
          "UNIRITTER-AeU-4",
          "UDESC-D-4",
          "UFRN-D-4",
          "UFRJ-A-6",
          "USP-AEU-4",
          "UNB-AEU-4",
          "UFRJ-AP-4",
          "UFG-PEC-3",
          "PUC-RIO-A-3",
          " FIAMFAAM-PPeGdEU-3",
          "UNB-D-3",
          "UFRJ-U-5",
          "UFSC-D-5",
          "UFPE-D-4",
          "UFPR-D-4",
          "UEMG-D-5",
          "UPM-AEU-6",
          "UERJ-D-4",
          "UFRGS-D-5",
          "UFC-AEUED-3",
          "UNIVILLE-D-4",
          "UAM-D-5",
          "PUC-RIO-D-5",
          "UFMA-D-3",
          "UNESP-BAURU-D-6",
          "UNISINOS-D-5"
         ],
         "y": [
          0,
          0,
          0,
          0,
          0,
          0,
          0,
          0,
          0,
          0,
          0,
          0,
          0,
          0,
          0,
          0,
          0,
          0,
          0,
          0,
          0,
          0,
          0,
          0,
          0,
          0,
          0,
          0,
          0,
          0,
          0,
          0,
          0,
          0,
          0,
          0,
          0,
          0,
          0,
          0,
          0,
          0,
          0,
          0,
          0,
          0,
          0,
          0,
          0,
          0,
          0,
          0,
          0,
          0,
          0,
          0,
          0,
          0
         ]
        },
        {
         "marker": {
          "color": "#880000"
         },
         "name": "C (0)",
         "type": "bar",
         "x": [
          "UFJF-AC-4",
          "UFRGS-A-4",
          "UFRN-APEMA-4",
          "UFBA-AEU-4",
          "UFES-AEU-4",
          "UFF-AEU-4",
          "UFV-AEU-4",
          "USJT-AEU-4",
          "UFSC-AEU-5",
          "UFPA-AeU-4",
          "UEL-AeU-4",
          "UNICAMP-ATeC-5",
          "UFBA-C-CeR-4",
          "UNIRITTER-D-4",
          "UFPE-E-3",
          "PUCCAMP-AeU-5",
          "UFSC-UHEADC-4",
          "UFCG-D-3",
          "CESAR-D-3",
          "UNIFATEA-DTEI-3",
          "IMED-AEU-3",
          "UNIFOR-CDC-3",
          "UFRN-AEU-4",
          "UNESP-BAURU-AeU-4",
          "UFRJ-PeP-4",
          "UNISINOS-AeU-4",
          "UFMG-AEU-6",
          "UFAL-DDEH-3",
          "UFPB-JP-AEU-4",
          "UFPEL-AEU-4",
          "USP/SC-AEU-4",
          "UFU-AeU-3",
          "UNIRITTER-AeU-4",
          "UDESC-D-4",
          "UFRN-D-4",
          "UFRJ-A-6",
          "USP-AEU-4",
          "UNB-AEU-4",
          "UFRJ-AP-4",
          "UFG-PEC-3",
          "PUC-RIO-A-3",
          " FIAMFAAM-PPeGdEU-3",
          "UNB-D-3",
          "UFRJ-U-5",
          "UFSC-D-5",
          "UFPE-D-4",
          "UFPR-D-4",
          "UEMG-D-5",
          "UPM-AEU-6",
          "UERJ-D-4",
          "UFRGS-D-5",
          "UFC-AEUED-3",
          "UNIVILLE-D-4",
          "UAM-D-5",
          "PUC-RIO-D-5",
          "UFMA-D-3",
          "UNESP-BAURU-D-6",
          "UNISINOS-D-5"
         ],
         "y": [
          0,
          0,
          0,
          0,
          0,
          0,
          0,
          0,
          0,
          0,
          0,
          0,
          0,
          0,
          0,
          0,
          0,
          0,
          0,
          0,
          0,
          0,
          0,
          0,
          0,
          0,
          0,
          0,
          0,
          0,
          0,
          0,
          0,
          0,
          0,
          0,
          0,
          0,
          0,
          0,
          0,
          0,
          0,
          0,
          0,
          0,
          0,
          0,
          0,
          0,
          0,
          0,
          0,
          0,
          0,
          0,
          0,
          0
         ]
        },
        {
         "marker": {
          "color": "#CC0000"
         },
         "name": "NA (0)",
         "type": "bar",
         "x": [
          "UFJF-AC-4",
          "UFRGS-A-4",
          "UFRN-APEMA-4",
          "UFBA-AEU-4",
          "UFES-AEU-4",
          "UFF-AEU-4",
          "UFV-AEU-4",
          "USJT-AEU-4",
          "UFSC-AEU-5",
          "UFPA-AeU-4",
          "UEL-AeU-4",
          "UNICAMP-ATeC-5",
          "UFBA-C-CeR-4",
          "UNIRITTER-D-4",
          "UFPE-E-3",
          "PUCCAMP-AeU-5",
          "UFSC-UHEADC-4",
          "UFCG-D-3",
          "CESAR-D-3",
          "UNIFATEA-DTEI-3",
          "IMED-AEU-3",
          "UNIFOR-CDC-3",
          "UFRN-AEU-4",
          "UNESP-BAURU-AeU-4",
          "UFRJ-PeP-4",
          "UNISINOS-AeU-4",
          "UFMG-AEU-6",
          "UFAL-DDEH-3",
          "UFPB-JP-AEU-4",
          "UFPEL-AEU-4",
          "USP/SC-AEU-4",
          "UFU-AeU-3",
          "UNIRITTER-AeU-4",
          "UDESC-D-4",
          "UFRN-D-4",
          "UFRJ-A-6",
          "USP-AEU-4",
          "UNB-AEU-4",
          "UFRJ-AP-4",
          "UFG-PEC-3",
          "PUC-RIO-A-3",
          " FIAMFAAM-PPeGdEU-3",
          "UNB-D-3",
          "UFRJ-U-5",
          "UFSC-D-5",
          "UFPE-D-4",
          "UFPR-D-4",
          "UEMG-D-5",
          "UPM-AEU-6",
          "UERJ-D-4",
          "UFRGS-D-5",
          "UFC-AEUED-3",
          "UNIVILLE-D-4",
          "UAM-D-5",
          "PUC-RIO-D-5",
          "UFMA-D-3",
          "UNESP-BAURU-D-6",
          "UNISINOS-D-5"
         ],
         "y": [
          0,
          0,
          0,
          0,
          0,
          0,
          0,
          0,
          0,
          0,
          0,
          0,
          0,
          0,
          0,
          0,
          0,
          0,
          0,
          0,
          0,
          0,
          0,
          0,
          0,
          0,
          0,
          0,
          0,
          0,
          0,
          0,
          0,
          0,
          0,
          0,
          0,
          0,
          0,
          0,
          0,
          0,
          0,
          0,
          0,
          0,
          0,
          0,
          0,
          0,
          0,
          0,
          0,
          0,
          0,
          0,
          0,
          0
         ]
        },
        {
         "marker": {
          "color": "#FF0000"
         },
         "name": "NP (0)",
         "type": "bar",
         "x": [
          "UFJF-AC-4",
          "UFRGS-A-4",
          "UFRN-APEMA-4",
          "UFBA-AEU-4",
          "UFES-AEU-4",
          "UFF-AEU-4",
          "UFV-AEU-4",
          "USJT-AEU-4",
          "UFSC-AEU-5",
          "UFPA-AeU-4",
          "UEL-AeU-4",
          "UNICAMP-ATeC-5",
          "UFBA-C-CeR-4",
          "UNIRITTER-D-4",
          "UFPE-E-3",
          "PUCCAMP-AeU-5",
          "UFSC-UHEADC-4",
          "UFCG-D-3",
          "CESAR-D-3",
          "UNIFATEA-DTEI-3",
          "IMED-AEU-3",
          "UNIFOR-CDC-3",
          "UFRN-AEU-4",
          "UNESP-BAURU-AeU-4",
          "UFRJ-PeP-4",
          "UNISINOS-AeU-4",
          "UFMG-AEU-6",
          "UFAL-DDEH-3",
          "UFPB-JP-AEU-4",
          "UFPEL-AEU-4",
          "USP/SC-AEU-4",
          "UFU-AeU-3",
          "UNIRITTER-AeU-4",
          "UDESC-D-4",
          "UFRN-D-4",
          "UFRJ-A-6",
          "USP-AEU-4",
          "UNB-AEU-4",
          "UFRJ-AP-4",
          "UFG-PEC-3",
          "PUC-RIO-A-3",
          " FIAMFAAM-PPeGdEU-3",
          "UNB-D-3",
          "UFRJ-U-5",
          "UFSC-D-5",
          "UFPE-D-4",
          "UFPR-D-4",
          "UEMG-D-5",
          "UPM-AEU-6",
          "UERJ-D-4",
          "UFRGS-D-5",
          "UFC-AEUED-3",
          "UNIVILLE-D-4",
          "UAM-D-5",
          "PUC-RIO-D-5",
          "UFMA-D-3",
          "UNESP-BAURU-D-6",
          "UNISINOS-D-5"
         ],
         "y": [
          0,
          0,
          0,
          0,
          0,
          0,
          0,
          0,
          0,
          0,
          0,
          0,
          0,
          0,
          0,
          0,
          0,
          0,
          0,
          0,
          0,
          0,
          0,
          0,
          0,
          0,
          0,
          0,
          0,
          0,
          0,
          0,
          0,
          0,
          0,
          0,
          0,
          0,
          0,
          0,
          0,
          0,
          0,
          0,
          0,
          0,
          0,
          0,
          0,
          0,
          0,
          0,
          0,
          0,
          0,
          0,
          0,
          0
         ]
        }
       ],
       "layout": {
        "barmode": "stack",
        "template": {
         "data": {
          "bar": [
           {
            "error_x": {
             "color": "#2a3f5f"
            },
            "error_y": {
             "color": "#2a3f5f"
            },
            "marker": {
             "line": {
              "color": "#E5ECF6",
              "width": 0.5
             }
            },
            "type": "bar"
           }
          ],
          "barpolar": [
           {
            "marker": {
             "line": {
              "color": "#E5ECF6",
              "width": 0.5
             }
            },
            "type": "barpolar"
           }
          ],
          "carpet": [
           {
            "aaxis": {
             "endlinecolor": "#2a3f5f",
             "gridcolor": "white",
             "linecolor": "white",
             "minorgridcolor": "white",
             "startlinecolor": "#2a3f5f"
            },
            "baxis": {
             "endlinecolor": "#2a3f5f",
             "gridcolor": "white",
             "linecolor": "white",
             "minorgridcolor": "white",
             "startlinecolor": "#2a3f5f"
            },
            "type": "carpet"
           }
          ],
          "choropleth": [
           {
            "colorbar": {
             "outlinewidth": 0,
             "ticks": ""
            },
            "type": "choropleth"
           }
          ],
          "contour": [
           {
            "colorbar": {
             "outlinewidth": 0,
             "ticks": ""
            },
            "colorscale": [
             [
              0,
              "#0d0887"
             ],
             [
              0.1111111111111111,
              "#46039f"
             ],
             [
              0.2222222222222222,
              "#7201a8"
             ],
             [
              0.3333333333333333,
              "#9c179e"
             ],
             [
              0.4444444444444444,
              "#bd3786"
             ],
             [
              0.5555555555555556,
              "#d8576b"
             ],
             [
              0.6666666666666666,
              "#ed7953"
             ],
             [
              0.7777777777777778,
              "#fb9f3a"
             ],
             [
              0.8888888888888888,
              "#fdca26"
             ],
             [
              1,
              "#f0f921"
             ]
            ],
            "type": "contour"
           }
          ],
          "contourcarpet": [
           {
            "colorbar": {
             "outlinewidth": 0,
             "ticks": ""
            },
            "type": "contourcarpet"
           }
          ],
          "heatmap": [
           {
            "colorbar": {
             "outlinewidth": 0,
             "ticks": ""
            },
            "colorscale": [
             [
              0,
              "#0d0887"
             ],
             [
              0.1111111111111111,
              "#46039f"
             ],
             [
              0.2222222222222222,
              "#7201a8"
             ],
             [
              0.3333333333333333,
              "#9c179e"
             ],
             [
              0.4444444444444444,
              "#bd3786"
             ],
             [
              0.5555555555555556,
              "#d8576b"
             ],
             [
              0.6666666666666666,
              "#ed7953"
             ],
             [
              0.7777777777777778,
              "#fb9f3a"
             ],
             [
              0.8888888888888888,
              "#fdca26"
             ],
             [
              1,
              "#f0f921"
             ]
            ],
            "type": "heatmap"
           }
          ],
          "heatmapgl": [
           {
            "colorbar": {
             "outlinewidth": 0,
             "ticks": ""
            },
            "colorscale": [
             [
              0,
              "#0d0887"
             ],
             [
              0.1111111111111111,
              "#46039f"
             ],
             [
              0.2222222222222222,
              "#7201a8"
             ],
             [
              0.3333333333333333,
              "#9c179e"
             ],
             [
              0.4444444444444444,
              "#bd3786"
             ],
             [
              0.5555555555555556,
              "#d8576b"
             ],
             [
              0.6666666666666666,
              "#ed7953"
             ],
             [
              0.7777777777777778,
              "#fb9f3a"
             ],
             [
              0.8888888888888888,
              "#fdca26"
             ],
             [
              1,
              "#f0f921"
             ]
            ],
            "type": "heatmapgl"
           }
          ],
          "histogram": [
           {
            "marker": {
             "colorbar": {
              "outlinewidth": 0,
              "ticks": ""
             }
            },
            "type": "histogram"
           }
          ],
          "histogram2d": [
           {
            "colorbar": {
             "outlinewidth": 0,
             "ticks": ""
            },
            "colorscale": [
             [
              0,
              "#0d0887"
             ],
             [
              0.1111111111111111,
              "#46039f"
             ],
             [
              0.2222222222222222,
              "#7201a8"
             ],
             [
              0.3333333333333333,
              "#9c179e"
             ],
             [
              0.4444444444444444,
              "#bd3786"
             ],
             [
              0.5555555555555556,
              "#d8576b"
             ],
             [
              0.6666666666666666,
              "#ed7953"
             ],
             [
              0.7777777777777778,
              "#fb9f3a"
             ],
             [
              0.8888888888888888,
              "#fdca26"
             ],
             [
              1,
              "#f0f921"
             ]
            ],
            "type": "histogram2d"
           }
          ],
          "histogram2dcontour": [
           {
            "colorbar": {
             "outlinewidth": 0,
             "ticks": ""
            },
            "colorscale": [
             [
              0,
              "#0d0887"
             ],
             [
              0.1111111111111111,
              "#46039f"
             ],
             [
              0.2222222222222222,
              "#7201a8"
             ],
             [
              0.3333333333333333,
              "#9c179e"
             ],
             [
              0.4444444444444444,
              "#bd3786"
             ],
             [
              0.5555555555555556,
              "#d8576b"
             ],
             [
              0.6666666666666666,
              "#ed7953"
             ],
             [
              0.7777777777777778,
              "#fb9f3a"
             ],
             [
              0.8888888888888888,
              "#fdca26"
             ],
             [
              1,
              "#f0f921"
             ]
            ],
            "type": "histogram2dcontour"
           }
          ],
          "mesh3d": [
           {
            "colorbar": {
             "outlinewidth": 0,
             "ticks": ""
            },
            "type": "mesh3d"
           }
          ],
          "parcoords": [
           {
            "line": {
             "colorbar": {
              "outlinewidth": 0,
              "ticks": ""
             }
            },
            "type": "parcoords"
           }
          ],
          "pie": [
           {
            "automargin": true,
            "type": "pie"
           }
          ],
          "scatter": [
           {
            "marker": {
             "colorbar": {
              "outlinewidth": 0,
              "ticks": ""
             }
            },
            "type": "scatter"
           }
          ],
          "scatter3d": [
           {
            "line": {
             "colorbar": {
              "outlinewidth": 0,
              "ticks": ""
             }
            },
            "marker": {
             "colorbar": {
              "outlinewidth": 0,
              "ticks": ""
             }
            },
            "type": "scatter3d"
           }
          ],
          "scattercarpet": [
           {
            "marker": {
             "colorbar": {
              "outlinewidth": 0,
              "ticks": ""
             }
            },
            "type": "scattercarpet"
           }
          ],
          "scattergeo": [
           {
            "marker": {
             "colorbar": {
              "outlinewidth": 0,
              "ticks": ""
             }
            },
            "type": "scattergeo"
           }
          ],
          "scattergl": [
           {
            "marker": {
             "colorbar": {
              "outlinewidth": 0,
              "ticks": ""
             }
            },
            "type": "scattergl"
           }
          ],
          "scattermapbox": [
           {
            "marker": {
             "colorbar": {
              "outlinewidth": 0,
              "ticks": ""
             }
            },
            "type": "scattermapbox"
           }
          ],
          "scatterpolar": [
           {
            "marker": {
             "colorbar": {
              "outlinewidth": 0,
              "ticks": ""
             }
            },
            "type": "scatterpolar"
           }
          ],
          "scatterpolargl": [
           {
            "marker": {
             "colorbar": {
              "outlinewidth": 0,
              "ticks": ""
             }
            },
            "type": "scatterpolargl"
           }
          ],
          "scatterternary": [
           {
            "marker": {
             "colorbar": {
              "outlinewidth": 0,
              "ticks": ""
             }
            },
            "type": "scatterternary"
           }
          ],
          "surface": [
           {
            "colorbar": {
             "outlinewidth": 0,
             "ticks": ""
            },
            "colorscale": [
             [
              0,
              "#0d0887"
             ],
             [
              0.1111111111111111,
              "#46039f"
             ],
             [
              0.2222222222222222,
              "#7201a8"
             ],
             [
              0.3333333333333333,
              "#9c179e"
             ],
             [
              0.4444444444444444,
              "#bd3786"
             ],
             [
              0.5555555555555556,
              "#d8576b"
             ],
             [
              0.6666666666666666,
              "#ed7953"
             ],
             [
              0.7777777777777778,
              "#fb9f3a"
             ],
             [
              0.8888888888888888,
              "#fdca26"
             ],
             [
              1,
              "#f0f921"
             ]
            ],
            "type": "surface"
           }
          ],
          "table": [
           {
            "cells": {
             "fill": {
              "color": "#EBF0F8"
             },
             "line": {
              "color": "white"
             }
            },
            "header": {
             "fill": {
              "color": "#C8D4E3"
             },
             "line": {
              "color": "white"
             }
            },
            "type": "table"
           }
          ]
         },
         "layout": {
          "annotationdefaults": {
           "arrowcolor": "#2a3f5f",
           "arrowhead": 0,
           "arrowwidth": 1
          },
          "coloraxis": {
           "colorbar": {
            "outlinewidth": 0,
            "ticks": ""
           }
          },
          "colorscale": {
           "diverging": [
            [
             0,
             "#8e0152"
            ],
            [
             0.1,
             "#c51b7d"
            ],
            [
             0.2,
             "#de77ae"
            ],
            [
             0.3,
             "#f1b6da"
            ],
            [
             0.4,
             "#fde0ef"
            ],
            [
             0.5,
             "#f7f7f7"
            ],
            [
             0.6,
             "#e6f5d0"
            ],
            [
             0.7,
             "#b8e186"
            ],
            [
             0.8,
             "#7fbc41"
            ],
            [
             0.9,
             "#4d9221"
            ],
            [
             1,
             "#276419"
            ]
           ],
           "sequential": [
            [
             0,
             "#0d0887"
            ],
            [
             0.1111111111111111,
             "#46039f"
            ],
            [
             0.2222222222222222,
             "#7201a8"
            ],
            [
             0.3333333333333333,
             "#9c179e"
            ],
            [
             0.4444444444444444,
             "#bd3786"
            ],
            [
             0.5555555555555556,
             "#d8576b"
            ],
            [
             0.6666666666666666,
             "#ed7953"
            ],
            [
             0.7777777777777778,
             "#fb9f3a"
            ],
            [
             0.8888888888888888,
             "#fdca26"
            ],
            [
             1,
             "#f0f921"
            ]
           ],
           "sequentialminus": [
            [
             0,
             "#0d0887"
            ],
            [
             0.1111111111111111,
             "#46039f"
            ],
            [
             0.2222222222222222,
             "#7201a8"
            ],
            [
             0.3333333333333333,
             "#9c179e"
            ],
            [
             0.4444444444444444,
             "#bd3786"
            ],
            [
             0.5555555555555556,
             "#d8576b"
            ],
            [
             0.6666666666666666,
             "#ed7953"
            ],
            [
             0.7777777777777778,
             "#fb9f3a"
            ],
            [
             0.8888888888888888,
             "#fdca26"
            ],
            [
             1,
             "#f0f921"
            ]
           ]
          },
          "colorway": [
           "#636efa",
           "#EF553B",
           "#00cc96",
           "#ab63fa",
           "#FFA15A",
           "#19d3f3",
           "#FF6692",
           "#B6E880",
           "#FF97FF",
           "#FECB52"
          ],
          "font": {
           "color": "#2a3f5f"
          },
          "geo": {
           "bgcolor": "white",
           "lakecolor": "white",
           "landcolor": "#E5ECF6",
           "showlakes": true,
           "showland": true,
           "subunitcolor": "white"
          },
          "hoverlabel": {
           "align": "left"
          },
          "hovermode": "closest",
          "mapbox": {
           "style": "light"
          },
          "paper_bgcolor": "white",
          "plot_bgcolor": "#E5ECF6",
          "polar": {
           "angularaxis": {
            "gridcolor": "white",
            "linecolor": "white",
            "ticks": ""
           },
           "bgcolor": "#E5ECF6",
           "radialaxis": {
            "gridcolor": "white",
            "linecolor": "white",
            "ticks": ""
           }
          },
          "scene": {
           "xaxis": {
            "backgroundcolor": "#E5ECF6",
            "gridcolor": "white",
            "gridwidth": 2,
            "linecolor": "white",
            "showbackground": true,
            "ticks": "",
            "zerolinecolor": "white"
           },
           "yaxis": {
            "backgroundcolor": "#E5ECF6",
            "gridcolor": "white",
            "gridwidth": 2,
            "linecolor": "white",
            "showbackground": true,
            "ticks": "",
            "zerolinecolor": "white"
           },
           "zaxis": {
            "backgroundcolor": "#E5ECF6",
            "gridcolor": "white",
            "gridwidth": 2,
            "linecolor": "white",
            "showbackground": true,
            "ticks": "",
            "zerolinecolor": "white"
           }
          },
          "shapedefaults": {
           "line": {
            "color": "#2a3f5f"
           }
          },
          "ternary": {
           "aaxis": {
            "gridcolor": "white",
            "linecolor": "white",
            "ticks": ""
           },
           "baxis": {
            "gridcolor": "white",
            "linecolor": "white",
            "ticks": ""
           },
           "bgcolor": "#E5ECF6",
           "caxis": {
            "gridcolor": "white",
            "linecolor": "white",
            "ticks": ""
           }
          },
          "title": {
           "x": 0.05
          },
          "xaxis": {
           "automargin": true,
           "gridcolor": "white",
           "linecolor": "white",
           "ticks": "",
           "title": {
            "standoff": 15
           },
           "zerolinecolor": "white",
           "zerolinewidth": 2
          },
          "yaxis": {
           "automargin": true,
           "gridcolor": "white",
           "linecolor": "white",
           "ticks": "",
           "title": {
            "standoff": 15
           },
           "zerolinecolor": "white",
           "zerolinewidth": 2
          }
         }
        },
        "title": {
         "font": {
          "color": "#000000",
          "size": 20
         },
         "text": "Conferências por Docentes Permanentes",
         "x": 0.5,
         "xanchor": "center"
        },
        "xaxis": {
         "title": {
          "text": "Instituição"
         }
        }
       }
      },
      "text/html": [
       "<div>\n",
       "        \n",
       "        \n",
       "            <div id=\"d9e189a2-133a-449d-9f75-8b1546c17cd9\" class=\"plotly-graph-div\" style=\"height:525px; width:100%;\"></div>\n",
       "            <script type=\"text/javascript\">\n",
       "                require([\"plotly\"], function(Plotly) {\n",
       "                    window.PLOTLYENV=window.PLOTLYENV || {};\n",
       "                    \n",
       "                if (document.getElementById(\"d9e189a2-133a-449d-9f75-8b1546c17cd9\")) {\n",
       "                    Plotly.newPlot(\n",
       "                        'd9e189a2-133a-449d-9f75-8b1546c17cd9',\n",
       "                        [{\"marker\": {\"color\": \"#000044\"}, \"name\": \"A1 (1)\", \"type\": \"bar\", \"x\": [\"UFJF-AC-4\", \"UFRGS-A-4\", \"UFRN-APEMA-4\", \"UFBA-AEU-4\", \"UFES-AEU-4\", \"UFF-AEU-4\", \"UFV-AEU-4\", \"USJT-AEU-4\", \"UFSC-AEU-5\", \"UFPA-AeU-4\", \"UEL-AeU-4\", \"UNICAMP-ATeC-5\", \"UFBA-C-CeR-4\", \"UNIRITTER-D-4\", \"UFPE-E-3\", \"PUCCAMP-AeU-5\", \"UFSC-UHEADC-4\", \"UFCG-D-3\", \"CESAR-D-3\", \"UNIFATEA-DTEI-3\", \"IMED-AEU-3\", \"UNIFOR-CDC-3\", \"UFRN-AEU-4\", \"UNESP-BAURU-AeU-4\", \"UFRJ-PeP-4\", \"UNISINOS-AeU-4\", \"UFMG-AEU-6\", \"UFAL-DDEH-3\", \"UFPB-JP-AEU-4\", \"UFPEL-AEU-4\", \"USP/SC-AEU-4\", \"UFU-AeU-3\", \"UNIRITTER-AeU-4\", \"UDESC-D-4\", \"UFRN-D-4\", \"UFRJ-A-6\", \"USP-AEU-4\", \"UNB-AEU-4\", \"UFRJ-AP-4\", \"UFG-PEC-3\", \"PUC-RIO-A-3\", \" FIAMFAAM-PPeGdEU-3\", \"UNB-D-3\", \"UFRJ-U-5\", \"UFSC-D-5\", \"UFPE-D-4\", \"UFPR-D-4\", \"UEMG-D-5\", \"UPM-AEU-6\", \"UERJ-D-4\", \"UFRGS-D-5\", \"UFC-AEUED-3\", \"UNIVILLE-D-4\", \"UAM-D-5\", \"PUC-RIO-D-5\", \"UFMA-D-3\", \"UNESP-BAURU-D-6\", \"UNISINOS-D-5\"], \"y\": [0.0, 0.0, 0.0, 0.0, 0.0, 0.0, 0.0, 0.0, 0.0, 0.0, 0.0, 0.0, 0.0, 0.0, 0.0, 0.0, 0.0, 0.0, 0.0, 0.0, 0.0, 0.0, 0.0, 0.0, 0.0, 0.0, 0.0, 0.0, 0.0, 0.0, 0.0, 0.0, 0.0, 0.0, 0.0, 0.0, 0.0, 0.0, 0.08333333333333333, 0.0, 0.0, 0.0, 0.0, 0.0, 0.0, 0.0, 0.0, 0.0, 0.0, 0.0, 0.0, 0.0, 0.0, 0.0, 0.0, 0.0, 0.0, 0.0]}, {\"marker\": {\"color\": \"#000088\"}, \"name\": \"A2 (0.875)\", \"type\": \"bar\", \"x\": [\"UFJF-AC-4\", \"UFRGS-A-4\", \"UFRN-APEMA-4\", \"UFBA-AEU-4\", \"UFES-AEU-4\", \"UFF-AEU-4\", \"UFV-AEU-4\", \"USJT-AEU-4\", \"UFSC-AEU-5\", \"UFPA-AeU-4\", \"UEL-AeU-4\", \"UNICAMP-ATeC-5\", \"UFBA-C-CeR-4\", \"UNIRITTER-D-4\", \"UFPE-E-3\", \"PUCCAMP-AeU-5\", \"UFSC-UHEADC-4\", \"UFCG-D-3\", \"CESAR-D-3\", \"UNIFATEA-DTEI-3\", \"IMED-AEU-3\", \"UNIFOR-CDC-3\", \"UFRN-AEU-4\", \"UNESP-BAURU-AeU-4\", \"UFRJ-PeP-4\", \"UNISINOS-AeU-4\", \"UFMG-AEU-6\", \"UFAL-DDEH-3\", \"UFPB-JP-AEU-4\", \"UFPEL-AEU-4\", \"USP/SC-AEU-4\", \"UFU-AeU-3\", \"UNIRITTER-AeU-4\", \"UDESC-D-4\", \"UFRN-D-4\", \"UFRJ-A-6\", \"USP-AEU-4\", \"UNB-AEU-4\", \"UFRJ-AP-4\", \"UFG-PEC-3\", \"PUC-RIO-A-3\", \" FIAMFAAM-PPeGdEU-3\", \"UNB-D-3\", \"UFRJ-U-5\", \"UFSC-D-5\", \"UFPE-D-4\", \"UFPR-D-4\", \"UEMG-D-5\", \"UPM-AEU-6\", \"UERJ-D-4\", \"UFRGS-D-5\", \"UFC-AEUED-3\", \"UNIVILLE-D-4\", \"UAM-D-5\", \"PUC-RIO-D-5\", \"UFMA-D-3\", \"UNESP-BAURU-D-6\", \"UNISINOS-D-5\"], \"y\": [0.0, 0.0, 0.0, 0.0, 0.0, 0.0, 0.0, 0.0, 0.0, 0.0, 0.0, 0.0, 0.0, 0.0, 0.0, 0.0, 0.0, 0.0, 0.0, 0.0, 0.0, 0.0, 0.0, 0.0, 0.0, 0.0, 0.0, 0.0, 0.0, 0.0, 0.0, 0.0, 0.0, 0.0, 0.0, 0.0, 0.0, 0.0, 0.0, 0.0, 0.0, 0.0, 0.0, 0.0, 0.0, 0.0, 0.0, 0.0, 0.0, 0.0, 0.0, 0.0, 0.0, 0.0, 0.0, 0.0, 0.0, 0.0]}, {\"marker\": {\"color\": \"#0000CC\"}, \"name\": \"A3 (0.75)\", \"type\": \"bar\", \"x\": [\"UFJF-AC-4\", \"UFRGS-A-4\", \"UFRN-APEMA-4\", \"UFBA-AEU-4\", \"UFES-AEU-4\", \"UFF-AEU-4\", \"UFV-AEU-4\", \"USJT-AEU-4\", \"UFSC-AEU-5\", \"UFPA-AeU-4\", \"UEL-AeU-4\", \"UNICAMP-ATeC-5\", \"UFBA-C-CeR-4\", \"UNIRITTER-D-4\", \"UFPE-E-3\", \"PUCCAMP-AeU-5\", \"UFSC-UHEADC-4\", \"UFCG-D-3\", \"CESAR-D-3\", \"UNIFATEA-DTEI-3\", \"IMED-AEU-3\", \"UNIFOR-CDC-3\", \"UFRN-AEU-4\", \"UNESP-BAURU-AeU-4\", \"UFRJ-PeP-4\", \"UNISINOS-AeU-4\", \"UFMG-AEU-6\", \"UFAL-DDEH-3\", \"UFPB-JP-AEU-4\", \"UFPEL-AEU-4\", \"USP/SC-AEU-4\", \"UFU-AeU-3\", \"UNIRITTER-AeU-4\", \"UDESC-D-4\", \"UFRN-D-4\", \"UFRJ-A-6\", \"USP-AEU-4\", \"UNB-AEU-4\", \"UFRJ-AP-4\", \"UFG-PEC-3\", \"PUC-RIO-A-3\", \" FIAMFAAM-PPeGdEU-3\", \"UNB-D-3\", \"UFRJ-U-5\", \"UFSC-D-5\", \"UFPE-D-4\", \"UFPR-D-4\", \"UEMG-D-5\", \"UPM-AEU-6\", \"UERJ-D-4\", \"UFRGS-D-5\", \"UFC-AEUED-3\", \"UNIVILLE-D-4\", \"UAM-D-5\", \"PUC-RIO-D-5\", \"UFMA-D-3\", \"UNESP-BAURU-D-6\", \"UNISINOS-D-5\"], \"y\": [0.0, 0.0, 0.0, 0.0, 0.0, 0.0, 0.0, 0.0, 0.0, 0.0, 0.0, 0.0, 0.0, 0.0, 0.0, 0.0, 0.0, 0.0, 0.0, 0.0, 0.0, 0.0, 0.0, 0.0, 0.0, 0.0, 0.0, 0.0, 0.0, 0.0, 0.0, 0.0, 0.0, 0.0, 0.0, 0.0, 0.0, 0.05454545454545454, 0.0, 0.0, 0.0, 0.0, 0.0, 0.0, 0.0, 0.0, 0.0, 0.0, 0.0, 0.0, 0.0, 0.0, 0.0, 0.0, 0.0, 0.0, 0.0, 0.0]}, {\"marker\": {\"color\": \"#0000FF\"}, \"name\": \"A4 (0.625)\", \"type\": \"bar\", \"x\": [\"UFJF-AC-4\", \"UFRGS-A-4\", \"UFRN-APEMA-4\", \"UFBA-AEU-4\", \"UFES-AEU-4\", \"UFF-AEU-4\", \"UFV-AEU-4\", \"USJT-AEU-4\", \"UFSC-AEU-5\", \"UFPA-AeU-4\", \"UEL-AeU-4\", \"UNICAMP-ATeC-5\", \"UFBA-C-CeR-4\", \"UNIRITTER-D-4\", \"UFPE-E-3\", \"PUCCAMP-AeU-5\", \"UFSC-UHEADC-4\", \"UFCG-D-3\", \"CESAR-D-3\", \"UNIFATEA-DTEI-3\", \"IMED-AEU-3\", \"UNIFOR-CDC-3\", \"UFRN-AEU-4\", \"UNESP-BAURU-AeU-4\", \"UFRJ-PeP-4\", \"UNISINOS-AeU-4\", \"UFMG-AEU-6\", \"UFAL-DDEH-3\", \"UFPB-JP-AEU-4\", \"UFPEL-AEU-4\", \"USP/SC-AEU-4\", \"UFU-AeU-3\", \"UNIRITTER-AeU-4\", \"UDESC-D-4\", \"UFRN-D-4\", \"UFRJ-A-6\", \"USP-AEU-4\", \"UNB-AEU-4\", \"UFRJ-AP-4\", \"UFG-PEC-3\", \"PUC-RIO-A-3\", \" FIAMFAAM-PPeGdEU-3\", \"UNB-D-3\", \"UFRJ-U-5\", \"UFSC-D-5\", \"UFPE-D-4\", \"UFPR-D-4\", \"UEMG-D-5\", \"UPM-AEU-6\", \"UERJ-D-4\", \"UFRGS-D-5\", \"UFC-AEUED-3\", \"UNIVILLE-D-4\", \"UAM-D-5\", \"PUC-RIO-D-5\", \"UFMA-D-3\", \"UNESP-BAURU-D-6\", \"UNISINOS-D-5\"], \"y\": [0.0, 0.0, 0.0, 0.0, 0.0, 0.0, 0.0, 0.0, 0.0, 0.0, 0.0, 0.0, 0.0, 0.0, 0.0, 0.0, 0.0, 0.0, 0.0, 0.0, 0.0, 0.0, 0.0, 0.0, 0.0, 0.0, 0.0, 0.0, 0.0, 0.041666666666666664, 0.0, 0.0, 0.052083333333333336, 0.0, 0.0, 0.0, 0.01820388349514563, 0.0, 0.0, 0.0, 0.0, 0.11363636363636363, 0.0, 0.0, 0.0, 0.0, 0.0, 0.0, 0.07142857142857142, 0.0, 0.0, 0.0, 0.0, 0.0, 0.06944444444444445, 0.0, 0.0, 0.0]}, {\"marker\": {\"color\": \"#003300\"}, \"name\": \"B1 (0.5)\", \"type\": \"bar\", \"x\": [\"UFJF-AC-4\", \"UFRGS-A-4\", \"UFRN-APEMA-4\", \"UFBA-AEU-4\", \"UFES-AEU-4\", \"UFF-AEU-4\", \"UFV-AEU-4\", \"USJT-AEU-4\", \"UFSC-AEU-5\", \"UFPA-AeU-4\", \"UEL-AeU-4\", \"UNICAMP-ATeC-5\", \"UFBA-C-CeR-4\", \"UNIRITTER-D-4\", \"UFPE-E-3\", \"PUCCAMP-AeU-5\", \"UFSC-UHEADC-4\", \"UFCG-D-3\", \"CESAR-D-3\", \"UNIFATEA-DTEI-3\", \"IMED-AEU-3\", \"UNIFOR-CDC-3\", \"UFRN-AEU-4\", \"UNESP-BAURU-AeU-4\", \"UFRJ-PeP-4\", \"UNISINOS-AeU-4\", \"UFMG-AEU-6\", \"UFAL-DDEH-3\", \"UFPB-JP-AEU-4\", \"UFPEL-AEU-4\", \"USP/SC-AEU-4\", \"UFU-AeU-3\", \"UNIRITTER-AeU-4\", \"UDESC-D-4\", \"UFRN-D-4\", \"UFRJ-A-6\", \"USP-AEU-4\", \"UNB-AEU-4\", \"UFRJ-AP-4\", \"UFG-PEC-3\", \"PUC-RIO-A-3\", \" FIAMFAAM-PPeGdEU-3\", \"UNB-D-3\", \"UFRJ-U-5\", \"UFSC-D-5\", \"UFPE-D-4\", \"UFPR-D-4\", \"UEMG-D-5\", \"UPM-AEU-6\", \"UERJ-D-4\", \"UFRGS-D-5\", \"UFC-AEUED-3\", \"UNIVILLE-D-4\", \"UAM-D-5\", \"PUC-RIO-D-5\", \"UFMA-D-3\", \"UNESP-BAURU-D-6\", \"UNISINOS-D-5\"], \"y\": [0.0, 0.0, 0.0, 0.0, 0.0, 0.0, 0.0, 0.0, 0.0, 0.0, 0.0, 0.0, 0.0, 0.0, 0.0, 0.0, 0.0, 0.0, 0.0, 0.0, 0.0, 0.0, 0.0, 0.0, 0.0, 0.0, 0.022222222222222223, 0.025, 0.03333333333333333, 0.0, 0.0425531914893617, 0.05, 0.0, 0.043478260869565216, 0.05555555555555555, 0.05128205128205128, 0.043689320388349516, 0.01818181818181818, 0.0, 0.08, 0.09090909090909091, 0.0, 0.12, 0.12244897959183673, 0.13636363636363635, 0.14705882352941177, 0.14814814814814814, 0.15384615384615385, 0.05714285714285714, 0.19230769230769232, 0.23076923076923078, 0.3181818181818182, 0.3333333333333333, 0.38461538461538464, 0.3333333333333333, 0.4482758620689655, 0.48484848484848486, 0.7619047619047619]}, {\"marker\": {\"color\": \"#006600\"}, \"name\": \"B2 (0.2)\", \"type\": \"bar\", \"x\": [\"UFJF-AC-4\", \"UFRGS-A-4\", \"UFRN-APEMA-4\", \"UFBA-AEU-4\", \"UFES-AEU-4\", \"UFF-AEU-4\", \"UFV-AEU-4\", \"USJT-AEU-4\", \"UFSC-AEU-5\", \"UFPA-AeU-4\", \"UEL-AeU-4\", \"UNICAMP-ATeC-5\", \"UFBA-C-CeR-4\", \"UNIRITTER-D-4\", \"UFPE-E-3\", \"PUCCAMP-AeU-5\", \"UFSC-UHEADC-4\", \"UFCG-D-3\", \"CESAR-D-3\", \"UNIFATEA-DTEI-3\", \"IMED-AEU-3\", \"UNIFOR-CDC-3\", \"UFRN-AEU-4\", \"UNESP-BAURU-AeU-4\", \"UFRJ-PeP-4\", \"UNISINOS-AeU-4\", \"UFMG-AEU-6\", \"UFAL-DDEH-3\", \"UFPB-JP-AEU-4\", \"UFPEL-AEU-4\", \"USP/SC-AEU-4\", \"UFU-AeU-3\", \"UNIRITTER-AeU-4\", \"UDESC-D-4\", \"UFRN-D-4\", \"UFRJ-A-6\", \"USP-AEU-4\", \"UNB-AEU-4\", \"UFRJ-AP-4\", \"UFG-PEC-3\", \"PUC-RIO-A-3\", \" FIAMFAAM-PPeGdEU-3\", \"UNB-D-3\", \"UFRJ-U-5\", \"UFSC-D-5\", \"UFPE-D-4\", \"UFPR-D-4\", \"UEMG-D-5\", \"UPM-AEU-6\", \"UERJ-D-4\", \"UFRGS-D-5\", \"UFC-AEUED-3\", \"UNIVILLE-D-4\", \"UAM-D-5\", \"PUC-RIO-D-5\", \"UFMA-D-3\", \"UNESP-BAURU-D-6\", \"UNISINOS-D-5\"], \"y\": [0.0, 0.0, 0.0, 0.0, 0.0, 0.0, 0.0, 0.0, 0.0, 0.0, 0.0, 0.0, 0.0, 0.0, 0.0, 0.0, 0.0, 0.0, 0.0, 0.0, 0.0, 0.0, 0.0, 0.0, 0.0, 0.016, 0.0, 0.0, 0.0, 0.0, 0.0, 0.0, 0.0, 0.0, 0.0, 0.0, 0.0019417475728155341, 0.0, 0.0, 0.0, 0.0, 0.0, 0.0, 0.0, 0.0, 0.0, 0.0, 0.0, 0.011428571428571429, 0.0, 0.0, 0.0, 0.0, 0.0, 0.0, 0.0, 0.0, 0.0]}, {\"marker\": {\"color\": \"#009900\"}, \"name\": \"B3 (0.1)\", \"type\": \"bar\", \"x\": [\"UFJF-AC-4\", \"UFRGS-A-4\", \"UFRN-APEMA-4\", \"UFBA-AEU-4\", \"UFES-AEU-4\", \"UFF-AEU-4\", \"UFV-AEU-4\", \"USJT-AEU-4\", \"UFSC-AEU-5\", \"UFPA-AeU-4\", \"UEL-AeU-4\", \"UNICAMP-ATeC-5\", \"UFBA-C-CeR-4\", \"UNIRITTER-D-4\", \"UFPE-E-3\", \"PUCCAMP-AeU-5\", \"UFSC-UHEADC-4\", \"UFCG-D-3\", \"CESAR-D-3\", \"UNIFATEA-DTEI-3\", \"IMED-AEU-3\", \"UNIFOR-CDC-3\", \"UFRN-AEU-4\", \"UNESP-BAURU-AeU-4\", \"UFRJ-PeP-4\", \"UNISINOS-AeU-4\", \"UFMG-AEU-6\", \"UFAL-DDEH-3\", \"UFPB-JP-AEU-4\", \"UFPEL-AEU-4\", \"USP/SC-AEU-4\", \"UFU-AeU-3\", \"UNIRITTER-AeU-4\", \"UDESC-D-4\", \"UFRN-D-4\", \"UFRJ-A-6\", \"USP-AEU-4\", \"UNB-AEU-4\", \"UFRJ-AP-4\", \"UFG-PEC-3\", \"PUC-RIO-A-3\", \" FIAMFAAM-PPeGdEU-3\", \"UNB-D-3\", \"UFRJ-U-5\", \"UFSC-D-5\", \"UFPE-D-4\", \"UFPR-D-4\", \"UEMG-D-5\", \"UPM-AEU-6\", \"UERJ-D-4\", \"UFRGS-D-5\", \"UFC-AEUED-3\", \"UNIVILLE-D-4\", \"UAM-D-5\", \"PUC-RIO-D-5\", \"UFMA-D-3\", \"UNESP-BAURU-D-6\", \"UNISINOS-D-5\"], \"y\": [0.0, 0.0, 0.0, 0.0, 0.0, 0.0, 0.0, 0.0, 0.0, 0.0, 0.0, 0.0, 0.0, 0.0, 0.0, 0.0, 0.0, 0.0, 0.0, 0.0, 0.0, 0.0, 0.005405405405405406, 0.01, 0.014814814814814815, 0.0, 0.0, 0.0, 0.0, 0.0, 0.0, 0.0, 0.0, 0.008695652173913044, 0.0, 0.010256410256410256, 0.0, 0.0, 0.0, 0.008, 0.0, 0.0, 0.0, 0.0, 0.0, 0.0, 0.0, 0.0, 0.011428571428571429, 0.0, 0.0, 0.0, 0.0, 0.0, 0.0, 0.0, 0.024242424242424242, 0.0]}, {\"marker\": {\"color\": \"#00CC00\"}, \"name\": \"B4 (0.05)\", \"type\": \"bar\", \"x\": [\"UFJF-AC-4\", \"UFRGS-A-4\", \"UFRN-APEMA-4\", \"UFBA-AEU-4\", \"UFES-AEU-4\", \"UFF-AEU-4\", \"UFV-AEU-4\", \"USJT-AEU-4\", \"UFSC-AEU-5\", \"UFPA-AeU-4\", \"UEL-AeU-4\", \"UNICAMP-ATeC-5\", \"UFBA-C-CeR-4\", \"UNIRITTER-D-4\", \"UFPE-E-3\", \"PUCCAMP-AeU-5\", \"UFSC-UHEADC-4\", \"UFCG-D-3\", \"CESAR-D-3\", \"UNIFATEA-DTEI-3\", \"IMED-AEU-3\", \"UNIFOR-CDC-3\", \"UFRN-AEU-4\", \"UNESP-BAURU-AeU-4\", \"UFRJ-PeP-4\", \"UNISINOS-AeU-4\", \"UFMG-AEU-6\", \"UFAL-DDEH-3\", \"UFPB-JP-AEU-4\", \"UFPEL-AEU-4\", \"USP/SC-AEU-4\", \"UFU-AeU-3\", \"UNIRITTER-AeU-4\", \"UDESC-D-4\", \"UFRN-D-4\", \"UFRJ-A-6\", \"USP-AEU-4\", \"UNB-AEU-4\", \"UFRJ-AP-4\", \"UFG-PEC-3\", \"PUC-RIO-A-3\", \" FIAMFAAM-PPeGdEU-3\", \"UNB-D-3\", \"UFRJ-U-5\", \"UFSC-D-5\", \"UFPE-D-4\", \"UFPR-D-4\", \"UEMG-D-5\", \"UPM-AEU-6\", \"UERJ-D-4\", \"UFRGS-D-5\", \"UFC-AEUED-3\", \"UNIVILLE-D-4\", \"UAM-D-5\", \"PUC-RIO-D-5\", \"UFMA-D-3\", \"UNESP-BAURU-D-6\", \"UNISINOS-D-5\"], \"y\": [0.0, 0.0, 0.0, 0.0, 0.0, 0.0, 0.0, 0.0, 0.0, 0.0, 0.0, 0.0, 0.0, 0.0, 0.0, 0.0, 0.0, 0.0, 0.0, 0.0, 0.0, 0.0, 0.0, 0.0, 0.0, 0.0, 0.0, 0.0, 0.0, 0.0, 0.0, 0.0, 0.0, 0.0, 0.0, 0.0, 0.0, 0.0, 0.0, 0.0, 0.0, 0.0, 0.0, 0.0, 0.0, 0.0, 0.0, 0.0, 0.002857142857142857, 0.0, 0.0, 0.0, 0.0, 0.0, 0.0, 0.0, 0.0, 0.0]}, {\"marker\": {\"color\": \"#00FF00\"}, \"name\": \"B5 (0)\", \"type\": \"bar\", \"x\": [\"UFJF-AC-4\", \"UFRGS-A-4\", \"UFRN-APEMA-4\", \"UFBA-AEU-4\", \"UFES-AEU-4\", \"UFF-AEU-4\", \"UFV-AEU-4\", \"USJT-AEU-4\", \"UFSC-AEU-5\", \"UFPA-AeU-4\", \"UEL-AeU-4\", \"UNICAMP-ATeC-5\", \"UFBA-C-CeR-4\", \"UNIRITTER-D-4\", \"UFPE-E-3\", \"PUCCAMP-AeU-5\", \"UFSC-UHEADC-4\", \"UFCG-D-3\", \"CESAR-D-3\", \"UNIFATEA-DTEI-3\", \"IMED-AEU-3\", \"UNIFOR-CDC-3\", \"UFRN-AEU-4\", \"UNESP-BAURU-AeU-4\", \"UFRJ-PeP-4\", \"UNISINOS-AeU-4\", \"UFMG-AEU-6\", \"UFAL-DDEH-3\", \"UFPB-JP-AEU-4\", \"UFPEL-AEU-4\", \"USP/SC-AEU-4\", \"UFU-AeU-3\", \"UNIRITTER-AeU-4\", \"UDESC-D-4\", \"UFRN-D-4\", \"UFRJ-A-6\", \"USP-AEU-4\", \"UNB-AEU-4\", \"UFRJ-AP-4\", \"UFG-PEC-3\", \"PUC-RIO-A-3\", \" FIAMFAAM-PPeGdEU-3\", \"UNB-D-3\", \"UFRJ-U-5\", \"UFSC-D-5\", \"UFPE-D-4\", \"UFPR-D-4\", \"UEMG-D-5\", \"UPM-AEU-6\", \"UERJ-D-4\", \"UFRGS-D-5\", \"UFC-AEUED-3\", \"UNIVILLE-D-4\", \"UAM-D-5\", \"PUC-RIO-D-5\", \"UFMA-D-3\", \"UNESP-BAURU-D-6\", \"UNISINOS-D-5\"], \"y\": [0.0, 0.0, 0.0, 0.0, 0.0, 0.0, 0.0, 0.0, 0.0, 0.0, 0.0, 0.0, 0.0, 0.0, 0.0, 0.0, 0.0, 0.0, 0.0, 0.0, 0.0, 0.0, 0.0, 0.0, 0.0, 0.0, 0.0, 0.0, 0.0, 0.0, 0.0, 0.0, 0.0, 0.0, 0.0, 0.0, 0.0, 0.0, 0.0, 0.0, 0.0, 0.0, 0.0, 0.0, 0.0, 0.0, 0.0, 0.0, 0.0, 0.0, 0.0, 0.0, 0.0, 0.0, 0.0, 0.0, 0.0, 0.0]}, {\"marker\": {\"color\": \"#880000\"}, \"name\": \"C (0)\", \"type\": \"bar\", \"x\": [\"UFJF-AC-4\", \"UFRGS-A-4\", \"UFRN-APEMA-4\", \"UFBA-AEU-4\", \"UFES-AEU-4\", \"UFF-AEU-4\", \"UFV-AEU-4\", \"USJT-AEU-4\", \"UFSC-AEU-5\", \"UFPA-AeU-4\", \"UEL-AeU-4\", \"UNICAMP-ATeC-5\", \"UFBA-C-CeR-4\", \"UNIRITTER-D-4\", \"UFPE-E-3\", \"PUCCAMP-AeU-5\", \"UFSC-UHEADC-4\", \"UFCG-D-3\", \"CESAR-D-3\", \"UNIFATEA-DTEI-3\", \"IMED-AEU-3\", \"UNIFOR-CDC-3\", \"UFRN-AEU-4\", \"UNESP-BAURU-AeU-4\", \"UFRJ-PeP-4\", \"UNISINOS-AeU-4\", \"UFMG-AEU-6\", \"UFAL-DDEH-3\", \"UFPB-JP-AEU-4\", \"UFPEL-AEU-4\", \"USP/SC-AEU-4\", \"UFU-AeU-3\", \"UNIRITTER-AeU-4\", \"UDESC-D-4\", \"UFRN-D-4\", \"UFRJ-A-6\", \"USP-AEU-4\", \"UNB-AEU-4\", \"UFRJ-AP-4\", \"UFG-PEC-3\", \"PUC-RIO-A-3\", \" FIAMFAAM-PPeGdEU-3\", \"UNB-D-3\", \"UFRJ-U-5\", \"UFSC-D-5\", \"UFPE-D-4\", \"UFPR-D-4\", \"UEMG-D-5\", \"UPM-AEU-6\", \"UERJ-D-4\", \"UFRGS-D-5\", \"UFC-AEUED-3\", \"UNIVILLE-D-4\", \"UAM-D-5\", \"PUC-RIO-D-5\", \"UFMA-D-3\", \"UNESP-BAURU-D-6\", \"UNISINOS-D-5\"], \"y\": [0.0, 0.0, 0.0, 0.0, 0.0, 0.0, 0.0, 0.0, 0.0, 0.0, 0.0, 0.0, 0.0, 0.0, 0.0, 0.0, 0.0, 0.0, 0.0, 0.0, 0.0, 0.0, 0.0, 0.0, 0.0, 0.0, 0.0, 0.0, 0.0, 0.0, 0.0, 0.0, 0.0, 0.0, 0.0, 0.0, 0.0, 0.0, 0.0, 0.0, 0.0, 0.0, 0.0, 0.0, 0.0, 0.0, 0.0, 0.0, 0.0, 0.0, 0.0, 0.0, 0.0, 0.0, 0.0, 0.0, 0.0, 0.0]}, {\"marker\": {\"color\": \"#CC0000\"}, \"name\": \"NA (0)\", \"type\": \"bar\", \"x\": [\"UFJF-AC-4\", \"UFRGS-A-4\", \"UFRN-APEMA-4\", \"UFBA-AEU-4\", \"UFES-AEU-4\", \"UFF-AEU-4\", \"UFV-AEU-4\", \"USJT-AEU-4\", \"UFSC-AEU-5\", \"UFPA-AeU-4\", \"UEL-AeU-4\", \"UNICAMP-ATeC-5\", \"UFBA-C-CeR-4\", \"UNIRITTER-D-4\", \"UFPE-E-3\", \"PUCCAMP-AeU-5\", \"UFSC-UHEADC-4\", \"UFCG-D-3\", \"CESAR-D-3\", \"UNIFATEA-DTEI-3\", \"IMED-AEU-3\", \"UNIFOR-CDC-3\", \"UFRN-AEU-4\", \"UNESP-BAURU-AeU-4\", \"UFRJ-PeP-4\", \"UNISINOS-AeU-4\", \"UFMG-AEU-6\", \"UFAL-DDEH-3\", \"UFPB-JP-AEU-4\", \"UFPEL-AEU-4\", \"USP/SC-AEU-4\", \"UFU-AeU-3\", \"UNIRITTER-AeU-4\", \"UDESC-D-4\", \"UFRN-D-4\", \"UFRJ-A-6\", \"USP-AEU-4\", \"UNB-AEU-4\", \"UFRJ-AP-4\", \"UFG-PEC-3\", \"PUC-RIO-A-3\", \" FIAMFAAM-PPeGdEU-3\", \"UNB-D-3\", \"UFRJ-U-5\", \"UFSC-D-5\", \"UFPE-D-4\", \"UFPR-D-4\", \"UEMG-D-5\", \"UPM-AEU-6\", \"UERJ-D-4\", \"UFRGS-D-5\", \"UFC-AEUED-3\", \"UNIVILLE-D-4\", \"UAM-D-5\", \"PUC-RIO-D-5\", \"UFMA-D-3\", \"UNESP-BAURU-D-6\", \"UNISINOS-D-5\"], \"y\": [0.0, 0.0, 0.0, 0.0, 0.0, 0.0, 0.0, 0.0, 0.0, 0.0, 0.0, 0.0, 0.0, 0.0, 0.0, 0.0, 0.0, 0.0, 0.0, 0.0, 0.0, 0.0, 0.0, 0.0, 0.0, 0.0, 0.0, 0.0, 0.0, 0.0, 0.0, 0.0, 0.0, 0.0, 0.0, 0.0, 0.0, 0.0, 0.0, 0.0, 0.0, 0.0, 0.0, 0.0, 0.0, 0.0, 0.0, 0.0, 0.0, 0.0, 0.0, 0.0, 0.0, 0.0, 0.0, 0.0, 0.0, 0.0]}, {\"marker\": {\"color\": \"#FF0000\"}, \"name\": \"NP (0)\", \"type\": \"bar\", \"x\": [\"UFJF-AC-4\", \"UFRGS-A-4\", \"UFRN-APEMA-4\", \"UFBA-AEU-4\", \"UFES-AEU-4\", \"UFF-AEU-4\", \"UFV-AEU-4\", \"USJT-AEU-4\", \"UFSC-AEU-5\", \"UFPA-AeU-4\", \"UEL-AeU-4\", \"UNICAMP-ATeC-5\", \"UFBA-C-CeR-4\", \"UNIRITTER-D-4\", \"UFPE-E-3\", \"PUCCAMP-AeU-5\", \"UFSC-UHEADC-4\", \"UFCG-D-3\", \"CESAR-D-3\", \"UNIFATEA-DTEI-3\", \"IMED-AEU-3\", \"UNIFOR-CDC-3\", \"UFRN-AEU-4\", \"UNESP-BAURU-AeU-4\", \"UFRJ-PeP-4\", \"UNISINOS-AeU-4\", \"UFMG-AEU-6\", \"UFAL-DDEH-3\", \"UFPB-JP-AEU-4\", \"UFPEL-AEU-4\", \"USP/SC-AEU-4\", \"UFU-AeU-3\", \"UNIRITTER-AeU-4\", \"UDESC-D-4\", \"UFRN-D-4\", \"UFRJ-A-6\", \"USP-AEU-4\", \"UNB-AEU-4\", \"UFRJ-AP-4\", \"UFG-PEC-3\", \"PUC-RIO-A-3\", \" FIAMFAAM-PPeGdEU-3\", \"UNB-D-3\", \"UFRJ-U-5\", \"UFSC-D-5\", \"UFPE-D-4\", \"UFPR-D-4\", \"UEMG-D-5\", \"UPM-AEU-6\", \"UERJ-D-4\", \"UFRGS-D-5\", \"UFC-AEUED-3\", \"UNIVILLE-D-4\", \"UAM-D-5\", \"PUC-RIO-D-5\", \"UFMA-D-3\", \"UNESP-BAURU-D-6\", \"UNISINOS-D-5\"], \"y\": [0.0, 0.0, 0.0, 0.0, 0.0, 0.0, 0.0, 0.0, 0.0, 0.0, 0.0, 0.0, 0.0, 0.0, 0.0, 0.0, 0.0, 0.0, 0.0, 0.0, 0.0, 0.0, 0.0, 0.0, 0.0, 0.0, 0.0, 0.0, 0.0, 0.0, 0.0, 0.0, 0.0, 0.0, 0.0, 0.0, 0.0, 0.0, 0.0, 0.0, 0.0, 0.0, 0.0, 0.0, 0.0, 0.0, 0.0, 0.0, 0.0, 0.0, 0.0, 0.0, 0.0, 0.0, 0.0, 0.0, 0.0, 0.0]}],\n",
       "                        {\"barmode\": \"stack\", \"template\": {\"data\": {\"bar\": [{\"error_x\": {\"color\": \"#2a3f5f\"}, \"error_y\": {\"color\": \"#2a3f5f\"}, \"marker\": {\"line\": {\"color\": \"#E5ECF6\", \"width\": 0.5}}, \"type\": \"bar\"}], \"barpolar\": [{\"marker\": {\"line\": {\"color\": \"#E5ECF6\", \"width\": 0.5}}, \"type\": \"barpolar\"}], \"carpet\": [{\"aaxis\": {\"endlinecolor\": \"#2a3f5f\", \"gridcolor\": \"white\", \"linecolor\": \"white\", \"minorgridcolor\": \"white\", \"startlinecolor\": \"#2a3f5f\"}, \"baxis\": {\"endlinecolor\": \"#2a3f5f\", \"gridcolor\": \"white\", \"linecolor\": \"white\", \"minorgridcolor\": \"white\", \"startlinecolor\": \"#2a3f5f\"}, \"type\": \"carpet\"}], \"choropleth\": [{\"colorbar\": {\"outlinewidth\": 0, \"ticks\": \"\"}, \"type\": \"choropleth\"}], \"contour\": [{\"colorbar\": {\"outlinewidth\": 0, \"ticks\": \"\"}, \"colorscale\": [[0.0, \"#0d0887\"], [0.1111111111111111, \"#46039f\"], [0.2222222222222222, \"#7201a8\"], [0.3333333333333333, \"#9c179e\"], [0.4444444444444444, \"#bd3786\"], [0.5555555555555556, \"#d8576b\"], [0.6666666666666666, \"#ed7953\"], [0.7777777777777778, \"#fb9f3a\"], [0.8888888888888888, \"#fdca26\"], [1.0, \"#f0f921\"]], \"type\": \"contour\"}], \"contourcarpet\": [{\"colorbar\": {\"outlinewidth\": 0, \"ticks\": \"\"}, \"type\": \"contourcarpet\"}], \"heatmap\": [{\"colorbar\": {\"outlinewidth\": 0, \"ticks\": \"\"}, \"colorscale\": [[0.0, \"#0d0887\"], [0.1111111111111111, \"#46039f\"], [0.2222222222222222, \"#7201a8\"], [0.3333333333333333, \"#9c179e\"], [0.4444444444444444, \"#bd3786\"], [0.5555555555555556, \"#d8576b\"], [0.6666666666666666, \"#ed7953\"], [0.7777777777777778, \"#fb9f3a\"], [0.8888888888888888, \"#fdca26\"], [1.0, \"#f0f921\"]], \"type\": \"heatmap\"}], \"heatmapgl\": [{\"colorbar\": {\"outlinewidth\": 0, \"ticks\": \"\"}, \"colorscale\": [[0.0, \"#0d0887\"], [0.1111111111111111, \"#46039f\"], [0.2222222222222222, \"#7201a8\"], [0.3333333333333333, \"#9c179e\"], [0.4444444444444444, \"#bd3786\"], [0.5555555555555556, \"#d8576b\"], [0.6666666666666666, \"#ed7953\"], [0.7777777777777778, \"#fb9f3a\"], [0.8888888888888888, \"#fdca26\"], [1.0, \"#f0f921\"]], \"type\": \"heatmapgl\"}], \"histogram\": [{\"marker\": {\"colorbar\": {\"outlinewidth\": 0, \"ticks\": \"\"}}, \"type\": \"histogram\"}], \"histogram2d\": [{\"colorbar\": {\"outlinewidth\": 0, \"ticks\": \"\"}, \"colorscale\": [[0.0, \"#0d0887\"], [0.1111111111111111, \"#46039f\"], [0.2222222222222222, \"#7201a8\"], [0.3333333333333333, \"#9c179e\"], [0.4444444444444444, \"#bd3786\"], [0.5555555555555556, \"#d8576b\"], [0.6666666666666666, \"#ed7953\"], [0.7777777777777778, \"#fb9f3a\"], [0.8888888888888888, \"#fdca26\"], [1.0, \"#f0f921\"]], \"type\": \"histogram2d\"}], \"histogram2dcontour\": [{\"colorbar\": {\"outlinewidth\": 0, \"ticks\": \"\"}, \"colorscale\": [[0.0, \"#0d0887\"], [0.1111111111111111, \"#46039f\"], [0.2222222222222222, \"#7201a8\"], [0.3333333333333333, \"#9c179e\"], [0.4444444444444444, \"#bd3786\"], [0.5555555555555556, \"#d8576b\"], [0.6666666666666666, \"#ed7953\"], [0.7777777777777778, \"#fb9f3a\"], [0.8888888888888888, \"#fdca26\"], [1.0, \"#f0f921\"]], \"type\": \"histogram2dcontour\"}], \"mesh3d\": [{\"colorbar\": {\"outlinewidth\": 0, \"ticks\": \"\"}, \"type\": \"mesh3d\"}], \"parcoords\": [{\"line\": {\"colorbar\": {\"outlinewidth\": 0, \"ticks\": \"\"}}, \"type\": \"parcoords\"}], \"pie\": [{\"automargin\": true, \"type\": \"pie\"}], \"scatter\": [{\"marker\": {\"colorbar\": {\"outlinewidth\": 0, \"ticks\": \"\"}}, \"type\": \"scatter\"}], \"scatter3d\": [{\"line\": {\"colorbar\": {\"outlinewidth\": 0, \"ticks\": \"\"}}, \"marker\": {\"colorbar\": {\"outlinewidth\": 0, \"ticks\": \"\"}}, \"type\": \"scatter3d\"}], \"scattercarpet\": [{\"marker\": {\"colorbar\": {\"outlinewidth\": 0, \"ticks\": \"\"}}, \"type\": \"scattercarpet\"}], \"scattergeo\": [{\"marker\": {\"colorbar\": {\"outlinewidth\": 0, \"ticks\": \"\"}}, \"type\": \"scattergeo\"}], \"scattergl\": [{\"marker\": {\"colorbar\": {\"outlinewidth\": 0, \"ticks\": \"\"}}, \"type\": \"scattergl\"}], \"scattermapbox\": [{\"marker\": {\"colorbar\": {\"outlinewidth\": 0, \"ticks\": \"\"}}, \"type\": \"scattermapbox\"}], \"scatterpolar\": [{\"marker\": {\"colorbar\": {\"outlinewidth\": 0, \"ticks\": \"\"}}, \"type\": \"scatterpolar\"}], \"scatterpolargl\": [{\"marker\": {\"colorbar\": {\"outlinewidth\": 0, \"ticks\": \"\"}}, \"type\": \"scatterpolargl\"}], \"scatterternary\": [{\"marker\": {\"colorbar\": {\"outlinewidth\": 0, \"ticks\": \"\"}}, \"type\": \"scatterternary\"}], \"surface\": [{\"colorbar\": {\"outlinewidth\": 0, \"ticks\": \"\"}, \"colorscale\": [[0.0, \"#0d0887\"], [0.1111111111111111, \"#46039f\"], [0.2222222222222222, \"#7201a8\"], [0.3333333333333333, \"#9c179e\"], [0.4444444444444444, \"#bd3786\"], [0.5555555555555556, \"#d8576b\"], [0.6666666666666666, \"#ed7953\"], [0.7777777777777778, \"#fb9f3a\"], [0.8888888888888888, \"#fdca26\"], [1.0, \"#f0f921\"]], \"type\": \"surface\"}], \"table\": [{\"cells\": {\"fill\": {\"color\": \"#EBF0F8\"}, \"line\": {\"color\": \"white\"}}, \"header\": {\"fill\": {\"color\": \"#C8D4E3\"}, \"line\": {\"color\": \"white\"}}, \"type\": \"table\"}]}, \"layout\": {\"annotationdefaults\": {\"arrowcolor\": \"#2a3f5f\", \"arrowhead\": 0, \"arrowwidth\": 1}, \"coloraxis\": {\"colorbar\": {\"outlinewidth\": 0, \"ticks\": \"\"}}, \"colorscale\": {\"diverging\": [[0, \"#8e0152\"], [0.1, \"#c51b7d\"], [0.2, \"#de77ae\"], [0.3, \"#f1b6da\"], [0.4, \"#fde0ef\"], [0.5, \"#f7f7f7\"], [0.6, \"#e6f5d0\"], [0.7, \"#b8e186\"], [0.8, \"#7fbc41\"], [0.9, \"#4d9221\"], [1, \"#276419\"]], \"sequential\": [[0.0, \"#0d0887\"], [0.1111111111111111, \"#46039f\"], [0.2222222222222222, \"#7201a8\"], [0.3333333333333333, \"#9c179e\"], [0.4444444444444444, \"#bd3786\"], [0.5555555555555556, \"#d8576b\"], [0.6666666666666666, \"#ed7953\"], [0.7777777777777778, \"#fb9f3a\"], [0.8888888888888888, \"#fdca26\"], [1.0, \"#f0f921\"]], \"sequentialminus\": [[0.0, \"#0d0887\"], [0.1111111111111111, \"#46039f\"], [0.2222222222222222, \"#7201a8\"], [0.3333333333333333, \"#9c179e\"], [0.4444444444444444, \"#bd3786\"], [0.5555555555555556, \"#d8576b\"], [0.6666666666666666, \"#ed7953\"], [0.7777777777777778, \"#fb9f3a\"], [0.8888888888888888, \"#fdca26\"], [1.0, \"#f0f921\"]]}, \"colorway\": [\"#636efa\", \"#EF553B\", \"#00cc96\", \"#ab63fa\", \"#FFA15A\", \"#19d3f3\", \"#FF6692\", \"#B6E880\", \"#FF97FF\", \"#FECB52\"], \"font\": {\"color\": \"#2a3f5f\"}, \"geo\": {\"bgcolor\": \"white\", \"lakecolor\": \"white\", \"landcolor\": \"#E5ECF6\", \"showlakes\": true, \"showland\": true, \"subunitcolor\": \"white\"}, \"hoverlabel\": {\"align\": \"left\"}, \"hovermode\": \"closest\", \"mapbox\": {\"style\": \"light\"}, \"paper_bgcolor\": \"white\", \"plot_bgcolor\": \"#E5ECF6\", \"polar\": {\"angularaxis\": {\"gridcolor\": \"white\", \"linecolor\": \"white\", \"ticks\": \"\"}, \"bgcolor\": \"#E5ECF6\", \"radialaxis\": {\"gridcolor\": \"white\", \"linecolor\": \"white\", \"ticks\": \"\"}}, \"scene\": {\"xaxis\": {\"backgroundcolor\": \"#E5ECF6\", \"gridcolor\": \"white\", \"gridwidth\": 2, \"linecolor\": \"white\", \"showbackground\": true, \"ticks\": \"\", \"zerolinecolor\": \"white\"}, \"yaxis\": {\"backgroundcolor\": \"#E5ECF6\", \"gridcolor\": \"white\", \"gridwidth\": 2, \"linecolor\": \"white\", \"showbackground\": true, \"ticks\": \"\", \"zerolinecolor\": \"white\"}, \"zaxis\": {\"backgroundcolor\": \"#E5ECF6\", \"gridcolor\": \"white\", \"gridwidth\": 2, \"linecolor\": \"white\", \"showbackground\": true, \"ticks\": \"\", \"zerolinecolor\": \"white\"}}, \"shapedefaults\": {\"line\": {\"color\": \"#2a3f5f\"}}, \"ternary\": {\"aaxis\": {\"gridcolor\": \"white\", \"linecolor\": \"white\", \"ticks\": \"\"}, \"baxis\": {\"gridcolor\": \"white\", \"linecolor\": \"white\", \"ticks\": \"\"}, \"bgcolor\": \"#E5ECF6\", \"caxis\": {\"gridcolor\": \"white\", \"linecolor\": \"white\", \"ticks\": \"\"}}, \"title\": {\"x\": 0.05}, \"xaxis\": {\"automargin\": true, \"gridcolor\": \"white\", \"linecolor\": \"white\", \"ticks\": \"\", \"title\": {\"standoff\": 15}, \"zerolinecolor\": \"white\", \"zerolinewidth\": 2}, \"yaxis\": {\"automargin\": true, \"gridcolor\": \"white\", \"linecolor\": \"white\", \"ticks\": \"\", \"title\": {\"standoff\": 15}, \"zerolinecolor\": \"white\", \"zerolinewidth\": 2}}}, \"title\": {\"font\": {\"color\": \"#000000\", \"size\": 20}, \"text\": \"Confer\\u00eancias por Docentes Permanentes\", \"x\": 0.5, \"xanchor\": \"center\"}, \"xaxis\": {\"title\": {\"text\": \"Institui\\u00e7\\u00e3o\"}}},\n",
       "                        {\"responsive\": true}\n",
       "                    ).then(function(){\n",
       "                            \n",
       "var gd = document.getElementById('d9e189a2-133a-449d-9f75-8b1546c17cd9');\n",
       "var x = new MutationObserver(function (mutations, observer) {{\n",
       "        var display = window.getComputedStyle(gd).display;\n",
       "        if (!display || display === 'none') {{\n",
       "            console.log([gd, 'removed!']);\n",
       "            Plotly.purge(gd);\n",
       "            observer.disconnect();\n",
       "        }}\n",
       "}});\n",
       "\n",
       "// Listen for the removal of the full notebook cells\n",
       "var notebookContainer = gd.closest('#notebook-container');\n",
       "if (notebookContainer) {{\n",
       "    x.observe(notebookContainer, {childList: true});\n",
       "}}\n",
       "\n",
       "// Listen for the clearing of the current output cell\n",
       "var outputEl = gd.closest('.output');\n",
       "if (outputEl) {{\n",
       "    x.observe(outputEl, {childList: true});\n",
       "}}\n",
       "\n",
       "                        })\n",
       "                };\n",
       "                });\n",
       "            </script>\n",
       "        </div>"
      ]
     },
     "metadata": {},
     "output_type": "display_data"
    }
   ],
   "source": [
    "make_chart(conferencias_qualis, 'Conferências por Qualis')\n",
    "make_chart(conferencias_docente, 'Conferências por Docentes (Permanentes + Colaboradores)')\n",
    "make_chart(conferencias_permanente, 'Conferências por Docentes Permanentes')"
   ]
  },
  {
   "cell_type": "code",
   "execution_count": null,
   "metadata": {},
   "outputs": [],
   "source": []
  }
 ],
 "metadata": {
  "kernelspec": {
   "display_name": "Python 3",
   "language": "python",
   "name": "python3"
  },
  "language_info": {
   "codemirror_mode": {
    "name": "ipython",
    "version": 3
   },
   "file_extension": ".py",
   "mimetype": "text/x-python",
   "name": "python",
   "nbconvert_exporter": "python",
   "pygments_lexer": "ipython3",
   "version": "3.7.6"
  }
 },
 "nbformat": 4,
 "nbformat_minor": 4
}
