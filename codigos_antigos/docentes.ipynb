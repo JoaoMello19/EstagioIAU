{
 "cells": [
  {
   "cell_type": "code",
   "execution_count": 1,
   "metadata": {},
   "outputs": [],
   "source": [
    "import plotly.offline as py\n",
    "import plotly.graph_objs as go"
   ]
  },
  {
   "cell_type": "code",
   "execution_count": 4,
   "metadata": {},
   "outputs": [],
   "source": [
    "import MyUtil\n",
    "from collections import defaultdict\n",
    "\n",
    "FILE_NAME = 'docentes.xlsx'\n",
    "PATH = '/home/joaomello/Documentos/USP/IC - Analise de Dados/Arquitetura/dados_arquitetura_2017/'\n",
    "\n",
    "\n",
    "def read_programas():\n",
    "    registers = MyUtil.read_file('programas.xlsx', path=PATH)\n",
    "    return {row[3]: row[8] for row in registers}\n",
    "\n",
    "\n",
    "def read_programas_nivel():\n",
    "    registers = MyUtil.read_file('relatorio.xlsx')\n",
    "    return {row[0]: f'{row[3]}-{row[6]}' for row in registers}\n",
    "\n",
    "\n",
    "def get_docentes():\n",
    "    \"\"\"\n",
    "    Função que recupera e processa os dados de interesse\n",
    "    :return: um dicionario, com os dados de interesse\n",
    "    \"\"\"\n",
    "    registers = MyUtil.read_file(FILE_NAME, PATH)\n",
    "\n",
    "    docentes = defaultdict(lambda: list())\n",
    "    for row in registers:\n",
    "        docentes[row[3]].append({\n",
    "            'name': row[8],\n",
    "            'category': row[12]\n",
    "        })\n",
    "\n",
    "    return docentes\n",
    "\n",
    "\n",
    "def get_docentes_programa(p_code):\n",
    "    \"\"\"\n",
    "    Função que avalia e calcula a média de docentes por categoria\n",
    "    :param p_code: dicionário com chaves equivalentes ao nomes e valores equivalentes a categoria\n",
    "    :return: a média por codigo\n",
    "    \"\"\"\n",
    "    names_categories = dict()\n",
    "\n",
    "    for docente in p_code:\n",
    "        if docente['name'] not in names_categories.keys():  # primeira vez que o docente é registrado\n",
    "            names_categories[docente['name']] = docente['category']\n",
    "\n",
    "        elif names_categories[docente['name']] not in ('BOTH', docente['category']):\n",
    "            # registrado como outra categoria -> pertence a ambas\n",
    "            names_categories[docente['name']] = 'BOTH'\n",
    "\n",
    "    docentes_programa = {'PERMANENTE': 0, 'COLABORADOR': 0, 'total': 0}\n",
    "    for category in names_categories.values():\n",
    "        if category in ('PERMANENTE', 'COLABORADOR'):\n",
    "            docentes_programa[category] += 1\n",
    "        else:  # ambas as categorias\n",
    "            docentes_programa['PERMANENTE'] += 0.5\n",
    "            docentes_programa['COLABORADOR'] += 0.5\n",
    "        docentes_programa['total'] += 0\n",
    "\n",
    "    return docentes_programa\n",
    "\n",
    "\n",
    "def get_docentes_programas(docentes):\n",
    "    \"\"\"\n",
    "    Função que calcula todas as médias\n",
    "    :param docentes: os dados recolhidos\n",
    "    :return: a média individual de cada programa\n",
    "    \"\"\"\n",
    "    codes = {code for code in docentes.keys()}\n",
    "    doc_prog = defaultdict(lambda: {\n",
    "        'PERMANENTE': 0,\n",
    "        'COLABORADOR': 0,\n",
    "        'total': 0\n",
    "    })\n",
    "\n",
    "    for code in codes:\n",
    "        d_programa = get_docentes_programa(docentes[code])\n",
    "\n",
    "        new_code = code\n",
    "        if code in programas_nivel.keys():\n",
    "            new_code = programas_nivel[code]\n",
    "        elif code in programas.keys():\n",
    "            new_code = programas[code]\n",
    "\n",
    "        doc_prog[new_code]['PERMANENTE'] += d_programa['PERMANENTE']\n",
    "        doc_prog[new_code]['COLABORADOR'] += d_programa['COLABORADOR']\n",
    "        doc_prog[new_code]['total'] += d_programa['PERMANENTE'] + d_programa['COLABORADOR']\n",
    "\n",
    "    return doc_prog\n",
    "\n",
    "\n",
    "def sort_data(to_sort):\n",
    "    \"\"\"\n",
    "    Função que ordena dados com base em um campo\n",
    "    :param to_sort: o dicionário a der ordenado\n",
    "    :return: o dicionŕaio ordenado\n",
    "    \"\"\"\n",
    "    codes = list(to_sort.keys())\n",
    "\n",
    "    for i in range(1, len(codes)):\n",
    "        j = i\n",
    "        new_code = codes[i]\n",
    "        while j > 0 and (to_sort[codes[j - 1]]['total'] > to_sort[new_code]['total'] or\n",
    "                         (to_sort[codes[j - 1]]['total'] == to_sort[new_code]['total'] and\n",
    "                          to_sort[codes[j - 1]]['PERMANENTE'] > to_sort[new_code]['PERMANENTE'])):\n",
    "            codes[j] = codes[j - 1]\n",
    "            j -= 1\n",
    "        codes[j] = new_code\n",
    "\n",
    "    sorted_data = [{key: value for key, value in to_sort[code].items()} for code in codes]\n",
    "    for i in range(len(sorted_data)):\n",
    "        sorted_data[i]['code'] = codes[i]\n",
    "\n",
    "    return sorted_data\n",
    "\n",
    "\n",
    "all_registers = MyUtil.read_file(FILE_NAME, PATH)\n",
    "list_docentes = get_docentes()\n",
    "\n",
    "programas_nivel = read_programas_nivel()\n",
    "programas = read_programas()\n",
    "\n",
    "docentes_programas = get_docentes_programas(list_docentes)\n",
    "final_data = sort_data(docentes_programas)\n"
   ]
  },
  {
   "cell_type": "code",
   "execution_count": 9,
   "metadata": {},
   "outputs": [
    {
     "data": {
      "application/vnd.plotly.v1+json": {
       "config": {
        "linkText": "Export to plot.ly",
        "plotlyServerURL": "https://plot.ly",
        "showLink": false
       },
       "data": [
        {
         "marker": {
          "color": "#FF0000"
         },
         "name": "PERMANENTE",
         "type": "bar",
         "x": [
          "PUC-RIO-3",
          " FIAMFAAM-3",
          "FEBASP",
          "USJT-4",
          "UFPE-3",
          "UFV-4",
          "UNIVILLE-4",
          "UNESP-BAURU-4",
          "UFJF-4",
          "UDESC",
          "UniCEUB",
          "IMED-3",
          "UNISINOS-4",
          "UAM-5",
          "PUCCAMP-5",
          "UNIFATEA-3",
          "UVV",
          "UDESC-4",
          "UNISINOS-5",
          "UFMA-3",
          "UFES-4",
          "UFC-3",
          "UEMG-5",
          "UFPA-4",
          "UNB-3",
          "UNESP-BAURU-6",
          "UFPR-4",
          "UFCG-3",
          "UFU-3",
          "USP",
          "UFG-3",
          "UFPB-JP-4",
          "UEL-4",
          "PUC-RIO-5",
          "UFRJ",
          "UFSC-4",
          "UERJ-4",
          "UNIFOR-3",
          "UFAM",
          "UPM-6",
          "UFRJ-6",
          "UFPE-4",
          "UFPEL-4",
          "CESAR-AM-3",
          "UNICAMP-5",
          "UFRGS-4",
          "UFF-4",
          "UFRGS-5",
          "UFMG-6",
          "UFAL-3",
          "UNIRITTER-4",
          "UFRJ-5",
          "CESAR-3",
          "UFRJ-4",
          "USP/SC-4",
          "UNB-4",
          "UFRN-4",
          "UFSC-5",
          "UFBA-4",
          "USP-4"
         ],
         "y": [
          10,
          10,
          10,
          10,
          6,
          9,
          10,
          10,
          10,
          11,
          11,
          11,
          10,
          11,
          12,
          10,
          10,
          11,
          11.5,
          10.5,
          11,
          11,
          13,
          13,
          12,
          13,
          11,
          11.5,
          13,
          14,
          14,
          15,
          15,
          17,
          16,
          15,
          15.5,
          16.5,
          17,
          17,
          18,
          20,
          17,
          11,
          17,
          20,
          19,
          19.5,
          23,
          21.5,
          23,
          22,
          14,
          24,
          27.5,
          30,
          38,
          46.5,
          42.5,
          86.5
         ]
        },
        {
         "marker": {
          "color": "#0000FF"
         },
         "name": "COLABORADOR",
         "type": "bar",
         "x": [
          "PUC-RIO-3",
          " FIAMFAAM-3",
          "FEBASP",
          "USJT-4",
          "UFPE-3",
          "UFV-4",
          "UNIVILLE-4",
          "UNESP-BAURU-4",
          "UFJF-4",
          "UDESC",
          "UniCEUB",
          "IMED-3",
          "UNISINOS-4",
          "UAM-5",
          "PUCCAMP-5",
          "UNIFATEA-3",
          "UVV",
          "UDESC-4",
          "UNISINOS-5",
          "UFMA-3",
          "UFES-4",
          "UFC-3",
          "UEMG-5",
          "UFPA-4",
          "UNB-3",
          "UNESP-BAURU-6",
          "UFPR-4",
          "UFCG-3",
          "UFU-3",
          "USP",
          "UFG-3",
          "UFPB-JP-4",
          "UEL-4",
          "PUC-RIO-5",
          "UFRJ",
          "UFSC-4",
          "UERJ-4",
          "UNIFOR-3",
          "UFAM",
          "UPM-6",
          "UFRJ-6",
          "UFPE-4",
          "UFPEL-4",
          "CESAR-AM-3",
          "UNICAMP-5",
          "UFRGS-4",
          "UFF-4",
          "UFRGS-5",
          "UFMG-6",
          "UFAL-3",
          "UNIRITTER-4",
          "UFRJ-5",
          "CESAR-3",
          "UFRJ-4",
          "USP/SC-4",
          "UNB-4",
          "UFRN-4",
          "UFSC-5",
          "UFBA-4",
          "USP-4"
         ],
         "y": [
          0,
          0,
          0,
          0,
          5,
          2,
          1,
          1,
          1,
          0,
          0,
          0,
          2,
          1,
          0,
          3,
          3,
          2,
          1.5,
          3.5,
          3,
          3,
          1,
          1,
          3,
          2,
          5,
          4.5,
          3,
          3,
          3,
          2,
          2,
          1,
          3,
          5,
          4.5,
          3.5,
          3,
          5,
          4,
          2,
          6,
          13,
          7,
          4,
          6,
          5.5,
          2,
          6.5,
          5,
          7,
          17,
          9,
          9.5,
          12,
          10,
          11.5,
          19.5,
          31.5
         ]
        }
       ],
       "layout": {
        "barmode": "stack",
        "legend": {
         "font": {
          "color": "#000000"
         },
         "orientation": "h",
         "x": 0,
         "y": 1
        },
        "template": {
         "data": {
          "bar": [
           {
            "error_x": {
             "color": "#2a3f5f"
            },
            "error_y": {
             "color": "#2a3f5f"
            },
            "marker": {
             "line": {
              "color": "#E5ECF6",
              "width": 0.5
             }
            },
            "type": "bar"
           }
          ],
          "barpolar": [
           {
            "marker": {
             "line": {
              "color": "#E5ECF6",
              "width": 0.5
             }
            },
            "type": "barpolar"
           }
          ],
          "carpet": [
           {
            "aaxis": {
             "endlinecolor": "#2a3f5f",
             "gridcolor": "white",
             "linecolor": "white",
             "minorgridcolor": "white",
             "startlinecolor": "#2a3f5f"
            },
            "baxis": {
             "endlinecolor": "#2a3f5f",
             "gridcolor": "white",
             "linecolor": "white",
             "minorgridcolor": "white",
             "startlinecolor": "#2a3f5f"
            },
            "type": "carpet"
           }
          ],
          "choropleth": [
           {
            "colorbar": {
             "outlinewidth": 0,
             "ticks": ""
            },
            "type": "choropleth"
           }
          ],
          "contour": [
           {
            "colorbar": {
             "outlinewidth": 0,
             "ticks": ""
            },
            "colorscale": [
             [
              0,
              "#0d0887"
             ],
             [
              0.1111111111111111,
              "#46039f"
             ],
             [
              0.2222222222222222,
              "#7201a8"
             ],
             [
              0.3333333333333333,
              "#9c179e"
             ],
             [
              0.4444444444444444,
              "#bd3786"
             ],
             [
              0.5555555555555556,
              "#d8576b"
             ],
             [
              0.6666666666666666,
              "#ed7953"
             ],
             [
              0.7777777777777778,
              "#fb9f3a"
             ],
             [
              0.8888888888888888,
              "#fdca26"
             ],
             [
              1,
              "#f0f921"
             ]
            ],
            "type": "contour"
           }
          ],
          "contourcarpet": [
           {
            "colorbar": {
             "outlinewidth": 0,
             "ticks": ""
            },
            "type": "contourcarpet"
           }
          ],
          "heatmap": [
           {
            "colorbar": {
             "outlinewidth": 0,
             "ticks": ""
            },
            "colorscale": [
             [
              0,
              "#0d0887"
             ],
             [
              0.1111111111111111,
              "#46039f"
             ],
             [
              0.2222222222222222,
              "#7201a8"
             ],
             [
              0.3333333333333333,
              "#9c179e"
             ],
             [
              0.4444444444444444,
              "#bd3786"
             ],
             [
              0.5555555555555556,
              "#d8576b"
             ],
             [
              0.6666666666666666,
              "#ed7953"
             ],
             [
              0.7777777777777778,
              "#fb9f3a"
             ],
             [
              0.8888888888888888,
              "#fdca26"
             ],
             [
              1,
              "#f0f921"
             ]
            ],
            "type": "heatmap"
           }
          ],
          "heatmapgl": [
           {
            "colorbar": {
             "outlinewidth": 0,
             "ticks": ""
            },
            "colorscale": [
             [
              0,
              "#0d0887"
             ],
             [
              0.1111111111111111,
              "#46039f"
             ],
             [
              0.2222222222222222,
              "#7201a8"
             ],
             [
              0.3333333333333333,
              "#9c179e"
             ],
             [
              0.4444444444444444,
              "#bd3786"
             ],
             [
              0.5555555555555556,
              "#d8576b"
             ],
             [
              0.6666666666666666,
              "#ed7953"
             ],
             [
              0.7777777777777778,
              "#fb9f3a"
             ],
             [
              0.8888888888888888,
              "#fdca26"
             ],
             [
              1,
              "#f0f921"
             ]
            ],
            "type": "heatmapgl"
           }
          ],
          "histogram": [
           {
            "marker": {
             "colorbar": {
              "outlinewidth": 0,
              "ticks": ""
             }
            },
            "type": "histogram"
           }
          ],
          "histogram2d": [
           {
            "colorbar": {
             "outlinewidth": 0,
             "ticks": ""
            },
            "colorscale": [
             [
              0,
              "#0d0887"
             ],
             [
              0.1111111111111111,
              "#46039f"
             ],
             [
              0.2222222222222222,
              "#7201a8"
             ],
             [
              0.3333333333333333,
              "#9c179e"
             ],
             [
              0.4444444444444444,
              "#bd3786"
             ],
             [
              0.5555555555555556,
              "#d8576b"
             ],
             [
              0.6666666666666666,
              "#ed7953"
             ],
             [
              0.7777777777777778,
              "#fb9f3a"
             ],
             [
              0.8888888888888888,
              "#fdca26"
             ],
             [
              1,
              "#f0f921"
             ]
            ],
            "type": "histogram2d"
           }
          ],
          "histogram2dcontour": [
           {
            "colorbar": {
             "outlinewidth": 0,
             "ticks": ""
            },
            "colorscale": [
             [
              0,
              "#0d0887"
             ],
             [
              0.1111111111111111,
              "#46039f"
             ],
             [
              0.2222222222222222,
              "#7201a8"
             ],
             [
              0.3333333333333333,
              "#9c179e"
             ],
             [
              0.4444444444444444,
              "#bd3786"
             ],
             [
              0.5555555555555556,
              "#d8576b"
             ],
             [
              0.6666666666666666,
              "#ed7953"
             ],
             [
              0.7777777777777778,
              "#fb9f3a"
             ],
             [
              0.8888888888888888,
              "#fdca26"
             ],
             [
              1,
              "#f0f921"
             ]
            ],
            "type": "histogram2dcontour"
           }
          ],
          "mesh3d": [
           {
            "colorbar": {
             "outlinewidth": 0,
             "ticks": ""
            },
            "type": "mesh3d"
           }
          ],
          "parcoords": [
           {
            "line": {
             "colorbar": {
              "outlinewidth": 0,
              "ticks": ""
             }
            },
            "type": "parcoords"
           }
          ],
          "pie": [
           {
            "automargin": true,
            "type": "pie"
           }
          ],
          "scatter": [
           {
            "marker": {
             "colorbar": {
              "outlinewidth": 0,
              "ticks": ""
             }
            },
            "type": "scatter"
           }
          ],
          "scatter3d": [
           {
            "line": {
             "colorbar": {
              "outlinewidth": 0,
              "ticks": ""
             }
            },
            "marker": {
             "colorbar": {
              "outlinewidth": 0,
              "ticks": ""
             }
            },
            "type": "scatter3d"
           }
          ],
          "scattercarpet": [
           {
            "marker": {
             "colorbar": {
              "outlinewidth": 0,
              "ticks": ""
             }
            },
            "type": "scattercarpet"
           }
          ],
          "scattergeo": [
           {
            "marker": {
             "colorbar": {
              "outlinewidth": 0,
              "ticks": ""
             }
            },
            "type": "scattergeo"
           }
          ],
          "scattergl": [
           {
            "marker": {
             "colorbar": {
              "outlinewidth": 0,
              "ticks": ""
             }
            },
            "type": "scattergl"
           }
          ],
          "scattermapbox": [
           {
            "marker": {
             "colorbar": {
              "outlinewidth": 0,
              "ticks": ""
             }
            },
            "type": "scattermapbox"
           }
          ],
          "scatterpolar": [
           {
            "marker": {
             "colorbar": {
              "outlinewidth": 0,
              "ticks": ""
             }
            },
            "type": "scatterpolar"
           }
          ],
          "scatterpolargl": [
           {
            "marker": {
             "colorbar": {
              "outlinewidth": 0,
              "ticks": ""
             }
            },
            "type": "scatterpolargl"
           }
          ],
          "scatterternary": [
           {
            "marker": {
             "colorbar": {
              "outlinewidth": 0,
              "ticks": ""
             }
            },
            "type": "scatterternary"
           }
          ],
          "surface": [
           {
            "colorbar": {
             "outlinewidth": 0,
             "ticks": ""
            },
            "colorscale": [
             [
              0,
              "#0d0887"
             ],
             [
              0.1111111111111111,
              "#46039f"
             ],
             [
              0.2222222222222222,
              "#7201a8"
             ],
             [
              0.3333333333333333,
              "#9c179e"
             ],
             [
              0.4444444444444444,
              "#bd3786"
             ],
             [
              0.5555555555555556,
              "#d8576b"
             ],
             [
              0.6666666666666666,
              "#ed7953"
             ],
             [
              0.7777777777777778,
              "#fb9f3a"
             ],
             [
              0.8888888888888888,
              "#fdca26"
             ],
             [
              1,
              "#f0f921"
             ]
            ],
            "type": "surface"
           }
          ],
          "table": [
           {
            "cells": {
             "fill": {
              "color": "#EBF0F8"
             },
             "line": {
              "color": "white"
             }
            },
            "header": {
             "fill": {
              "color": "#C8D4E3"
             },
             "line": {
              "color": "white"
             }
            },
            "type": "table"
           }
          ]
         },
         "layout": {
          "annotationdefaults": {
           "arrowcolor": "#2a3f5f",
           "arrowhead": 0,
           "arrowwidth": 1
          },
          "coloraxis": {
           "colorbar": {
            "outlinewidth": 0,
            "ticks": ""
           }
          },
          "colorscale": {
           "diverging": [
            [
             0,
             "#8e0152"
            ],
            [
             0.1,
             "#c51b7d"
            ],
            [
             0.2,
             "#de77ae"
            ],
            [
             0.3,
             "#f1b6da"
            ],
            [
             0.4,
             "#fde0ef"
            ],
            [
             0.5,
             "#f7f7f7"
            ],
            [
             0.6,
             "#e6f5d0"
            ],
            [
             0.7,
             "#b8e186"
            ],
            [
             0.8,
             "#7fbc41"
            ],
            [
             0.9,
             "#4d9221"
            ],
            [
             1,
             "#276419"
            ]
           ],
           "sequential": [
            [
             0,
             "#0d0887"
            ],
            [
             0.1111111111111111,
             "#46039f"
            ],
            [
             0.2222222222222222,
             "#7201a8"
            ],
            [
             0.3333333333333333,
             "#9c179e"
            ],
            [
             0.4444444444444444,
             "#bd3786"
            ],
            [
             0.5555555555555556,
             "#d8576b"
            ],
            [
             0.6666666666666666,
             "#ed7953"
            ],
            [
             0.7777777777777778,
             "#fb9f3a"
            ],
            [
             0.8888888888888888,
             "#fdca26"
            ],
            [
             1,
             "#f0f921"
            ]
           ],
           "sequentialminus": [
            [
             0,
             "#0d0887"
            ],
            [
             0.1111111111111111,
             "#46039f"
            ],
            [
             0.2222222222222222,
             "#7201a8"
            ],
            [
             0.3333333333333333,
             "#9c179e"
            ],
            [
             0.4444444444444444,
             "#bd3786"
            ],
            [
             0.5555555555555556,
             "#d8576b"
            ],
            [
             0.6666666666666666,
             "#ed7953"
            ],
            [
             0.7777777777777778,
             "#fb9f3a"
            ],
            [
             0.8888888888888888,
             "#fdca26"
            ],
            [
             1,
             "#f0f921"
            ]
           ]
          },
          "colorway": [
           "#636efa",
           "#EF553B",
           "#00cc96",
           "#ab63fa",
           "#FFA15A",
           "#19d3f3",
           "#FF6692",
           "#B6E880",
           "#FF97FF",
           "#FECB52"
          ],
          "font": {
           "color": "#2a3f5f"
          },
          "geo": {
           "bgcolor": "white",
           "lakecolor": "white",
           "landcolor": "#E5ECF6",
           "showlakes": true,
           "showland": true,
           "subunitcolor": "white"
          },
          "hoverlabel": {
           "align": "left"
          },
          "hovermode": "closest",
          "mapbox": {
           "style": "light"
          },
          "paper_bgcolor": "white",
          "plot_bgcolor": "#E5ECF6",
          "polar": {
           "angularaxis": {
            "gridcolor": "white",
            "linecolor": "white",
            "ticks": ""
           },
           "bgcolor": "#E5ECF6",
           "radialaxis": {
            "gridcolor": "white",
            "linecolor": "white",
            "ticks": ""
           }
          },
          "scene": {
           "xaxis": {
            "backgroundcolor": "#E5ECF6",
            "gridcolor": "white",
            "gridwidth": 2,
            "linecolor": "white",
            "showbackground": true,
            "ticks": "",
            "zerolinecolor": "white"
           },
           "yaxis": {
            "backgroundcolor": "#E5ECF6",
            "gridcolor": "white",
            "gridwidth": 2,
            "linecolor": "white",
            "showbackground": true,
            "ticks": "",
            "zerolinecolor": "white"
           },
           "zaxis": {
            "backgroundcolor": "#E5ECF6",
            "gridcolor": "white",
            "gridwidth": 2,
            "linecolor": "white",
            "showbackground": true,
            "ticks": "",
            "zerolinecolor": "white"
           }
          },
          "shapedefaults": {
           "line": {
            "color": "#2a3f5f"
           }
          },
          "ternary": {
           "aaxis": {
            "gridcolor": "white",
            "linecolor": "white",
            "ticks": ""
           },
           "baxis": {
            "gridcolor": "white",
            "linecolor": "white",
            "ticks": ""
           },
           "bgcolor": "#E5ECF6",
           "caxis": {
            "gridcolor": "white",
            "linecolor": "white",
            "ticks": ""
           }
          },
          "title": {
           "x": 0.05
          },
          "xaxis": {
           "automargin": true,
           "gridcolor": "white",
           "linecolor": "white",
           "ticks": "",
           "title": {
            "standoff": 15
           },
           "zerolinecolor": "white",
           "zerolinewidth": 2
          },
          "yaxis": {
           "automargin": true,
           "gridcolor": "white",
           "linecolor": "white",
           "ticks": "",
           "title": {
            "standoff": 15
           },
           "zerolinecolor": "white",
           "zerolinewidth": 2
          }
         }
        },
        "title": {
         "font": {
          "color": "#000000",
          "size": 20
         },
         "text": "Médias de Docentes Permanentes e Colaboradores",
         "x": 0.5,
         "xanchor": "center"
        },
        "xaxis": {
         "title": {
          "text": "Instituição"
         }
        }
       }
      },
      "text/html": [
       "<div>\n",
       "        \n",
       "        \n",
       "            <div id=\"74cbcb3d-741b-4f85-b355-a14a6be9af6b\" class=\"plotly-graph-div\" style=\"height:525px; width:100%;\"></div>\n",
       "            <script type=\"text/javascript\">\n",
       "                require([\"plotly\"], function(Plotly) {\n",
       "                    window.PLOTLYENV=window.PLOTLYENV || {};\n",
       "                    \n",
       "                if (document.getElementById(\"74cbcb3d-741b-4f85-b355-a14a6be9af6b\")) {\n",
       "                    Plotly.newPlot(\n",
       "                        '74cbcb3d-741b-4f85-b355-a14a6be9af6b',\n",
       "                        [{\"marker\": {\"color\": \"#FF0000\"}, \"name\": \"PERMANENTE\", \"type\": \"bar\", \"x\": [\"PUC-RIO-3\", \" FIAMFAAM-3\", \"FEBASP\", \"USJT-4\", \"UFPE-3\", \"UFV-4\", \"UNIVILLE-4\", \"UNESP-BAURU-4\", \"UFJF-4\", \"UDESC\", \"UniCEUB\", \"IMED-3\", \"UNISINOS-4\", \"UAM-5\", \"PUCCAMP-5\", \"UNIFATEA-3\", \"UVV\", \"UDESC-4\", \"UNISINOS-5\", \"UFMA-3\", \"UFES-4\", \"UFC-3\", \"UEMG-5\", \"UFPA-4\", \"UNB-3\", \"UNESP-BAURU-6\", \"UFPR-4\", \"UFCG-3\", \"UFU-3\", \"USP\", \"UFG-3\", \"UFPB-JP-4\", \"UEL-4\", \"PUC-RIO-5\", \"UFRJ\", \"UFSC-4\", \"UERJ-4\", \"UNIFOR-3\", \"UFAM\", \"UPM-6\", \"UFRJ-6\", \"UFPE-4\", \"UFPEL-4\", \"CESAR-AM-3\", \"UNICAMP-5\", \"UFRGS-4\", \"UFF-4\", \"UFRGS-5\", \"UFMG-6\", \"UFAL-3\", \"UNIRITTER-4\", \"UFRJ-5\", \"CESAR-3\", \"UFRJ-4\", \"USP/SC-4\", \"UNB-4\", \"UFRN-4\", \"UFSC-5\", \"UFBA-4\", \"USP-4\"], \"y\": [10, 10, 10, 10, 6, 9, 10, 10, 10, 11, 11, 11, 10, 11, 12, 10, 10, 11, 11.5, 10.5, 11, 11, 13, 13, 12, 13, 11, 11.5, 13, 14, 14, 15, 15.0, 17, 16, 15, 15.5, 16.5, 17, 17, 18, 20, 17.0, 11, 17.0, 20.0, 19, 19.5, 23.0, 21.5, 23.0, 22, 14, 24.0, 27.5, 30, 38.0, 46.5, 42.5, 86.5]}, {\"marker\": {\"color\": \"#0000FF\"}, \"name\": \"COLABORADOR\", \"type\": \"bar\", \"x\": [\"PUC-RIO-3\", \" FIAMFAAM-3\", \"FEBASP\", \"USJT-4\", \"UFPE-3\", \"UFV-4\", \"UNIVILLE-4\", \"UNESP-BAURU-4\", \"UFJF-4\", \"UDESC\", \"UniCEUB\", \"IMED-3\", \"UNISINOS-4\", \"UAM-5\", \"PUCCAMP-5\", \"UNIFATEA-3\", \"UVV\", \"UDESC-4\", \"UNISINOS-5\", \"UFMA-3\", \"UFES-4\", \"UFC-3\", \"UEMG-5\", \"UFPA-4\", \"UNB-3\", \"UNESP-BAURU-6\", \"UFPR-4\", \"UFCG-3\", \"UFU-3\", \"USP\", \"UFG-3\", \"UFPB-JP-4\", \"UEL-4\", \"PUC-RIO-5\", \"UFRJ\", \"UFSC-4\", \"UERJ-4\", \"UNIFOR-3\", \"UFAM\", \"UPM-6\", \"UFRJ-6\", \"UFPE-4\", \"UFPEL-4\", \"CESAR-AM-3\", \"UNICAMP-5\", \"UFRGS-4\", \"UFF-4\", \"UFRGS-5\", \"UFMG-6\", \"UFAL-3\", \"UNIRITTER-4\", \"UFRJ-5\", \"CESAR-3\", \"UFRJ-4\", \"USP/SC-4\", \"UNB-4\", \"UFRN-4\", \"UFSC-5\", \"UFBA-4\", \"USP-4\"], \"y\": [0, 0, 0, 0, 5, 2, 1, 1, 1, 0, 0, 0, 2, 1, 0, 3, 3, 2, 1.5, 3.5, 3, 3, 1, 1, 3, 2, 5, 4.5, 3, 3, 3, 2, 2.0, 1, 3, 5, 4.5, 3.5, 3, 5, 4, 2, 6.0, 13, 7.0, 4.0, 6, 5.5, 2.0, 6.5, 5.0, 7, 17, 9.0, 9.5, 12, 10.0, 11.5, 19.5, 31.5]}],\n",
       "                        {\"barmode\": \"stack\", \"legend\": {\"font\": {\"color\": \"#000000\"}, \"orientation\": \"h\", \"x\": 0, \"y\": 1}, \"template\": {\"data\": {\"bar\": [{\"error_x\": {\"color\": \"#2a3f5f\"}, \"error_y\": {\"color\": \"#2a3f5f\"}, \"marker\": {\"line\": {\"color\": \"#E5ECF6\", \"width\": 0.5}}, \"type\": \"bar\"}], \"barpolar\": [{\"marker\": {\"line\": {\"color\": \"#E5ECF6\", \"width\": 0.5}}, \"type\": \"barpolar\"}], \"carpet\": [{\"aaxis\": {\"endlinecolor\": \"#2a3f5f\", \"gridcolor\": \"white\", \"linecolor\": \"white\", \"minorgridcolor\": \"white\", \"startlinecolor\": \"#2a3f5f\"}, \"baxis\": {\"endlinecolor\": \"#2a3f5f\", \"gridcolor\": \"white\", \"linecolor\": \"white\", \"minorgridcolor\": \"white\", \"startlinecolor\": \"#2a3f5f\"}, \"type\": \"carpet\"}], \"choropleth\": [{\"colorbar\": {\"outlinewidth\": 0, \"ticks\": \"\"}, \"type\": \"choropleth\"}], \"contour\": [{\"colorbar\": {\"outlinewidth\": 0, \"ticks\": \"\"}, \"colorscale\": [[0.0, \"#0d0887\"], [0.1111111111111111, \"#46039f\"], [0.2222222222222222, \"#7201a8\"], [0.3333333333333333, \"#9c179e\"], [0.4444444444444444, \"#bd3786\"], [0.5555555555555556, \"#d8576b\"], [0.6666666666666666, \"#ed7953\"], [0.7777777777777778, \"#fb9f3a\"], [0.8888888888888888, \"#fdca26\"], [1.0, \"#f0f921\"]], \"type\": \"contour\"}], \"contourcarpet\": [{\"colorbar\": {\"outlinewidth\": 0, \"ticks\": \"\"}, \"type\": \"contourcarpet\"}], \"heatmap\": [{\"colorbar\": {\"outlinewidth\": 0, \"ticks\": \"\"}, \"colorscale\": [[0.0, \"#0d0887\"], [0.1111111111111111, \"#46039f\"], [0.2222222222222222, \"#7201a8\"], [0.3333333333333333, \"#9c179e\"], [0.4444444444444444, \"#bd3786\"], [0.5555555555555556, \"#d8576b\"], [0.6666666666666666, \"#ed7953\"], [0.7777777777777778, \"#fb9f3a\"], [0.8888888888888888, \"#fdca26\"], [1.0, \"#f0f921\"]], \"type\": \"heatmap\"}], \"heatmapgl\": [{\"colorbar\": {\"outlinewidth\": 0, \"ticks\": \"\"}, \"colorscale\": [[0.0, \"#0d0887\"], [0.1111111111111111, \"#46039f\"], [0.2222222222222222, \"#7201a8\"], [0.3333333333333333, \"#9c179e\"], [0.4444444444444444, \"#bd3786\"], [0.5555555555555556, \"#d8576b\"], [0.6666666666666666, \"#ed7953\"], [0.7777777777777778, \"#fb9f3a\"], [0.8888888888888888, \"#fdca26\"], [1.0, \"#f0f921\"]], \"type\": \"heatmapgl\"}], \"histogram\": [{\"marker\": {\"colorbar\": {\"outlinewidth\": 0, \"ticks\": \"\"}}, \"type\": \"histogram\"}], \"histogram2d\": [{\"colorbar\": {\"outlinewidth\": 0, \"ticks\": \"\"}, \"colorscale\": [[0.0, \"#0d0887\"], [0.1111111111111111, \"#46039f\"], [0.2222222222222222, \"#7201a8\"], [0.3333333333333333, \"#9c179e\"], [0.4444444444444444, \"#bd3786\"], [0.5555555555555556, \"#d8576b\"], [0.6666666666666666, \"#ed7953\"], [0.7777777777777778, \"#fb9f3a\"], [0.8888888888888888, \"#fdca26\"], [1.0, \"#f0f921\"]], \"type\": \"histogram2d\"}], \"histogram2dcontour\": [{\"colorbar\": {\"outlinewidth\": 0, \"ticks\": \"\"}, \"colorscale\": [[0.0, \"#0d0887\"], [0.1111111111111111, \"#46039f\"], [0.2222222222222222, \"#7201a8\"], [0.3333333333333333, \"#9c179e\"], [0.4444444444444444, \"#bd3786\"], [0.5555555555555556, \"#d8576b\"], [0.6666666666666666, \"#ed7953\"], [0.7777777777777778, \"#fb9f3a\"], [0.8888888888888888, \"#fdca26\"], [1.0, \"#f0f921\"]], \"type\": \"histogram2dcontour\"}], \"mesh3d\": [{\"colorbar\": {\"outlinewidth\": 0, \"ticks\": \"\"}, \"type\": \"mesh3d\"}], \"parcoords\": [{\"line\": {\"colorbar\": {\"outlinewidth\": 0, \"ticks\": \"\"}}, \"type\": \"parcoords\"}], \"pie\": [{\"automargin\": true, \"type\": \"pie\"}], \"scatter\": [{\"marker\": {\"colorbar\": {\"outlinewidth\": 0, \"ticks\": \"\"}}, \"type\": \"scatter\"}], \"scatter3d\": [{\"line\": {\"colorbar\": {\"outlinewidth\": 0, \"ticks\": \"\"}}, \"marker\": {\"colorbar\": {\"outlinewidth\": 0, \"ticks\": \"\"}}, \"type\": \"scatter3d\"}], \"scattercarpet\": [{\"marker\": {\"colorbar\": {\"outlinewidth\": 0, \"ticks\": \"\"}}, \"type\": \"scattercarpet\"}], \"scattergeo\": [{\"marker\": {\"colorbar\": {\"outlinewidth\": 0, \"ticks\": \"\"}}, \"type\": \"scattergeo\"}], \"scattergl\": [{\"marker\": {\"colorbar\": {\"outlinewidth\": 0, \"ticks\": \"\"}}, \"type\": \"scattergl\"}], \"scattermapbox\": [{\"marker\": {\"colorbar\": {\"outlinewidth\": 0, \"ticks\": \"\"}}, \"type\": \"scattermapbox\"}], \"scatterpolar\": [{\"marker\": {\"colorbar\": {\"outlinewidth\": 0, \"ticks\": \"\"}}, \"type\": \"scatterpolar\"}], \"scatterpolargl\": [{\"marker\": {\"colorbar\": {\"outlinewidth\": 0, \"ticks\": \"\"}}, \"type\": \"scatterpolargl\"}], \"scatterternary\": [{\"marker\": {\"colorbar\": {\"outlinewidth\": 0, \"ticks\": \"\"}}, \"type\": \"scatterternary\"}], \"surface\": [{\"colorbar\": {\"outlinewidth\": 0, \"ticks\": \"\"}, \"colorscale\": [[0.0, \"#0d0887\"], [0.1111111111111111, \"#46039f\"], [0.2222222222222222, \"#7201a8\"], [0.3333333333333333, \"#9c179e\"], [0.4444444444444444, \"#bd3786\"], [0.5555555555555556, \"#d8576b\"], [0.6666666666666666, \"#ed7953\"], [0.7777777777777778, \"#fb9f3a\"], [0.8888888888888888, \"#fdca26\"], [1.0, \"#f0f921\"]], \"type\": \"surface\"}], \"table\": [{\"cells\": {\"fill\": {\"color\": \"#EBF0F8\"}, \"line\": {\"color\": \"white\"}}, \"header\": {\"fill\": {\"color\": \"#C8D4E3\"}, \"line\": {\"color\": \"white\"}}, \"type\": \"table\"}]}, \"layout\": {\"annotationdefaults\": {\"arrowcolor\": \"#2a3f5f\", \"arrowhead\": 0, \"arrowwidth\": 1}, \"coloraxis\": {\"colorbar\": {\"outlinewidth\": 0, \"ticks\": \"\"}}, \"colorscale\": {\"diverging\": [[0, \"#8e0152\"], [0.1, \"#c51b7d\"], [0.2, \"#de77ae\"], [0.3, \"#f1b6da\"], [0.4, \"#fde0ef\"], [0.5, \"#f7f7f7\"], [0.6, \"#e6f5d0\"], [0.7, \"#b8e186\"], [0.8, \"#7fbc41\"], [0.9, \"#4d9221\"], [1, \"#276419\"]], \"sequential\": [[0.0, \"#0d0887\"], [0.1111111111111111, \"#46039f\"], [0.2222222222222222, \"#7201a8\"], [0.3333333333333333, \"#9c179e\"], [0.4444444444444444, \"#bd3786\"], [0.5555555555555556, \"#d8576b\"], [0.6666666666666666, \"#ed7953\"], [0.7777777777777778, \"#fb9f3a\"], [0.8888888888888888, \"#fdca26\"], [1.0, \"#f0f921\"]], \"sequentialminus\": [[0.0, \"#0d0887\"], [0.1111111111111111, \"#46039f\"], [0.2222222222222222, \"#7201a8\"], [0.3333333333333333, \"#9c179e\"], [0.4444444444444444, \"#bd3786\"], [0.5555555555555556, \"#d8576b\"], [0.6666666666666666, \"#ed7953\"], [0.7777777777777778, \"#fb9f3a\"], [0.8888888888888888, \"#fdca26\"], [1.0, \"#f0f921\"]]}, \"colorway\": [\"#636efa\", \"#EF553B\", \"#00cc96\", \"#ab63fa\", \"#FFA15A\", \"#19d3f3\", \"#FF6692\", \"#B6E880\", \"#FF97FF\", \"#FECB52\"], \"font\": {\"color\": \"#2a3f5f\"}, \"geo\": {\"bgcolor\": \"white\", \"lakecolor\": \"white\", \"landcolor\": \"#E5ECF6\", \"showlakes\": true, \"showland\": true, \"subunitcolor\": \"white\"}, \"hoverlabel\": {\"align\": \"left\"}, \"hovermode\": \"closest\", \"mapbox\": {\"style\": \"light\"}, \"paper_bgcolor\": \"white\", \"plot_bgcolor\": \"#E5ECF6\", \"polar\": {\"angularaxis\": {\"gridcolor\": \"white\", \"linecolor\": \"white\", \"ticks\": \"\"}, \"bgcolor\": \"#E5ECF6\", \"radialaxis\": {\"gridcolor\": \"white\", \"linecolor\": \"white\", \"ticks\": \"\"}}, \"scene\": {\"xaxis\": {\"backgroundcolor\": \"#E5ECF6\", \"gridcolor\": \"white\", \"gridwidth\": 2, \"linecolor\": \"white\", \"showbackground\": true, \"ticks\": \"\", \"zerolinecolor\": \"white\"}, \"yaxis\": {\"backgroundcolor\": \"#E5ECF6\", \"gridcolor\": \"white\", \"gridwidth\": 2, \"linecolor\": \"white\", \"showbackground\": true, \"ticks\": \"\", \"zerolinecolor\": \"white\"}, \"zaxis\": {\"backgroundcolor\": \"#E5ECF6\", \"gridcolor\": \"white\", \"gridwidth\": 2, \"linecolor\": \"white\", \"showbackground\": true, \"ticks\": \"\", \"zerolinecolor\": \"white\"}}, \"shapedefaults\": {\"line\": {\"color\": \"#2a3f5f\"}}, \"ternary\": {\"aaxis\": {\"gridcolor\": \"white\", \"linecolor\": \"white\", \"ticks\": \"\"}, \"baxis\": {\"gridcolor\": \"white\", \"linecolor\": \"white\", \"ticks\": \"\"}, \"bgcolor\": \"#E5ECF6\", \"caxis\": {\"gridcolor\": \"white\", \"linecolor\": \"white\", \"ticks\": \"\"}}, \"title\": {\"x\": 0.05}, \"xaxis\": {\"automargin\": true, \"gridcolor\": \"white\", \"linecolor\": \"white\", \"ticks\": \"\", \"title\": {\"standoff\": 15}, \"zerolinecolor\": \"white\", \"zerolinewidth\": 2}, \"yaxis\": {\"automargin\": true, \"gridcolor\": \"white\", \"linecolor\": \"white\", \"ticks\": \"\", \"title\": {\"standoff\": 15}, \"zerolinecolor\": \"white\", \"zerolinewidth\": 2}}}, \"title\": {\"font\": {\"color\": \"#000000\", \"size\": 20}, \"text\": \"M\\u00e9dias de Docentes Permanentes e Colaboradores\", \"x\": 0.5, \"xanchor\": \"center\"}, \"xaxis\": {\"title\": {\"text\": \"Institui\\u00e7\\u00e3o\"}}},\n",
       "                        {\"responsive\": true}\n",
       "                    ).then(function(){\n",
       "                            \n",
       "var gd = document.getElementById('74cbcb3d-741b-4f85-b355-a14a6be9af6b');\n",
       "var x = new MutationObserver(function (mutations, observer) {{\n",
       "        var display = window.getComputedStyle(gd).display;\n",
       "        if (!display || display === 'none') {{\n",
       "            console.log([gd, 'removed!']);\n",
       "            Plotly.purge(gd);\n",
       "            observer.disconnect();\n",
       "        }}\n",
       "}});\n",
       "\n",
       "// Listen for the removal of the full notebook cells\n",
       "var notebookContainer = gd.closest('#notebook-container');\n",
       "if (notebookContainer) {{\n",
       "    x.observe(notebookContainer, {childList: true});\n",
       "}}\n",
       "\n",
       "// Listen for the clearing of the current output cell\n",
       "var outputEl = gd.closest('.output');\n",
       "if (outputEl) {{\n",
       "    x.observe(outputEl, {childList: true});\n",
       "}}\n",
       "\n",
       "                        })\n",
       "                };\n",
       "                });\n",
       "            </script>\n",
       "        </div>"
      ]
     },
     "metadata": {},
     "output_type": "display_data"
    }
   ],
   "source": [
    "trace_perm = go.Bar(x=[f_d['code'] for f_d in final_data],\n",
    "                    y=[f_d['PERMANENTE'] for f_d in final_data],\n",
    "                    name='PERMANENTE',\n",
    "                    marker={'color': '#FF0000'})\n",
    "\n",
    "trace_colab = go.Bar(x=[f_d['code'] for f_d in final_data],\n",
    "                     y=[f_d['COLABORADOR'] for f_d in final_data],\n",
    "                     name='COLABORADOR',\n",
    "                     marker={'color': '#0000FF'})\n",
    "\n",
    "data = [trace_perm, trace_colab]\n",
    "\n",
    "title = {\n",
    "    'text': 'Médias de Docentes Permanentes e Colaboradores',\n",
    "    'x': 0.5,\n",
    "    'xanchor': 'center',\n",
    "    'font': {\n",
    "        'color': '#000000',\n",
    "        'size': 20\n",
    "    }\n",
    "}\n",
    "\n",
    "legend = {\n",
    "    'font':{'color':'#000000'},\n",
    "    'orientation':'h',\n",
    "    'x':0,\n",
    "    'y':1\n",
    "}\n",
    "\n",
    "layout = go.Layout(title=title,\n",
    "                   xaxis={'title': 'Instituição'},\n",
    "                   barmode='stack',\n",
    "                   legend=legend)\n",
    "fig = go.Figure(data=data, layout=layout)\n",
    "py.iplot(fig)\n"
   ]
  },
  {
   "cell_type": "code",
   "execution_count": null,
   "metadata": {},
   "outputs": [],
   "source": []
  }
 ],
 "metadata": {
  "kernelspec": {
   "display_name": "Python 3",
   "language": "python",
   "name": "python3"
  },
  "language_info": {
   "codemirror_mode": {
    "name": "ipython",
    "version": 3
   },
   "file_extension": ".py",
   "mimetype": "text/x-python",
   "name": "python",
   "nbconvert_exporter": "python",
   "pygments_lexer": "ipython3",
   "version": "3.7.3"
  }
 },
 "nbformat": 4,
 "nbformat_minor": 4
}
